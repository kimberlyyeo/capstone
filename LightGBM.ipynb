{
 "cells": [
  {
   "cell_type": "markdown",
   "metadata": {},
   "source": [
    "# LightGBM\n",
    "- Author: Kimberly Yeo\n",
    "- Module: Capstone\n",
    "- Date: 16/3/2022"
   ]
  },
  {
   "cell_type": "markdown",
   "metadata": {},
   "source": [
    "## Import packages"
   ]
  },
  {
   "cell_type": "code",
   "execution_count": 1,
   "metadata": {},
   "outputs": [],
   "source": [
    "import pandas as pd\n",
    "import numpy as np\n",
    "import math\n",
    "from matplotlib import pyplot as plt\n",
    "import matplotlib.dates as mdates\n",
    "import snscrape.modules.twitter as sntwitter\n",
    "import nltk\n",
    "from datetime import datetime\n",
    "import re\n",
    "from sklearn.feature_extraction.text import TfidfVectorizer\n",
    "import xgboost as xgb\n",
    "from sklearn.metrics import accuracy_score\n",
    "from sklearn.model_selection import GridSearchCV, KFold\n",
    "from sklearn.metrics import mean_absolute_error, mean_squared_error\n",
    "from sklearn.ensemble import RandomForestRegressor\n",
    "import lightgbm as lgb"
   ]
  },
  {
   "cell_type": "markdown",
   "metadata": {},
   "source": [
    "## Load Bitcoin and Tweets data"
   ]
  },
  {
   "cell_type": "code",
   "execution_count": 2,
   "metadata": {},
   "outputs": [],
   "source": [
    "final_df = pd.read_csv(\"tweets_bitcoin.csv\")"
   ]
  },
  {
   "cell_type": "markdown",
   "metadata": {},
   "source": [
    "## TFIDF"
   ]
  },
  {
   "cell_type": "code",
   "execution_count": 3,
   "metadata": {},
   "outputs": [],
   "source": [
    "vectorizer = TfidfVectorizer()\n",
    "tfidf = vectorizer.fit_transform(final_df['Text'])"
   ]
  },
  {
   "cell_type": "code",
   "execution_count": 4,
   "metadata": {},
   "outputs": [
    {
     "name": "stderr",
     "output_type": "stream",
     "text": [
      "/opt/conda/lib/python3.7/site-packages/sklearn/utils/deprecation.py:87: FutureWarning: Function get_feature_names is deprecated; get_feature_names is deprecated in 1.0 and will be removed in 1.2. Please use get_feature_names_out instead.\n",
      "  warnings.warn(msg, category=FutureWarning)\n"
     ]
    }
   ],
   "source": [
    "df1 = pd.DataFrame(tfidf.toarray(), columns=vectorizer.get_feature_names())\n",
    "final_df.drop('Text', axis=1, inplace=True)\n",
    "final_df = pd.concat([final_df, df1], axis=1)"
   ]
  },
  {
   "cell_type": "code",
   "execution_count": 5,
   "metadata": {},
   "outputs": [],
   "source": [
    "train = final_df[:-29].dropna()\n",
    "test = final_df[-29:].dropna()"
   ]
  },
  {
   "cell_type": "code",
   "execution_count": 6,
   "metadata": {},
   "outputs": [
    {
     "data": {
      "text/html": [
       "<div>\n",
       "<style scoped>\n",
       "    .dataframe tbody tr th:only-of-type {\n",
       "        vertical-align: middle;\n",
       "    }\n",
       "\n",
       "    .dataframe tbody tr th {\n",
       "        vertical-align: top;\n",
       "    }\n",
       "\n",
       "    .dataframe thead th {\n",
       "        text-align: right;\n",
       "    }\n",
       "</style>\n",
       "<table border=\"1\" class=\"dataframe\">\n",
       "  <thead>\n",
       "    <tr style=\"text-align: right;\">\n",
       "      <th></th>\n",
       "      <th>Date</th>\n",
       "      <th>Obs_Vol</th>\n",
       "      <th>aaron</th>\n",
       "      <th>aav</th>\n",
       "      <th>aayog</th>\n",
       "      <th>abaco</th>\n",
       "      <th>abakus</th>\n",
       "      <th>abandon</th>\n",
       "      <th>abat</th>\n",
       "      <th>abbc</th>\n",
       "      <th>...</th>\n",
       "      <th>zuckbuck</th>\n",
       "      <th>zuckerberg</th>\n",
       "      <th>zug</th>\n",
       "      <th>zulutrad</th>\n",
       "      <th>zurich</th>\n",
       "      <th>zytara</th>\n",
       "      <th>álvarez</th>\n",
       "      <th>ángel</th>\n",
       "      <th>ștefan</th>\n",
       "      <th>аre</th>\n",
       "    </tr>\n",
       "  </thead>\n",
       "  <tbody>\n",
       "    <tr>\n",
       "      <th>0</th>\n",
       "      <td>2018-09-30</td>\n",
       "      <td>0.013610</td>\n",
       "      <td>0.0</td>\n",
       "      <td>0.0</td>\n",
       "      <td>0.0</td>\n",
       "      <td>0.0</td>\n",
       "      <td>0.0</td>\n",
       "      <td>0.0</td>\n",
       "      <td>0.0</td>\n",
       "      <td>0.0</td>\n",
       "      <td>...</td>\n",
       "      <td>0.0</td>\n",
       "      <td>0.0</td>\n",
       "      <td>0.0</td>\n",
       "      <td>0.0</td>\n",
       "      <td>0.0</td>\n",
       "      <td>0.0</td>\n",
       "      <td>0.0</td>\n",
       "      <td>0.0</td>\n",
       "      <td>0.0</td>\n",
       "      <td>0.0</td>\n",
       "    </tr>\n",
       "    <tr>\n",
       "      <th>1</th>\n",
       "      <td>2018-10-01</td>\n",
       "      <td>0.613488</td>\n",
       "      <td>0.0</td>\n",
       "      <td>0.0</td>\n",
       "      <td>0.0</td>\n",
       "      <td>0.0</td>\n",
       "      <td>0.0</td>\n",
       "      <td>0.0</td>\n",
       "      <td>0.0</td>\n",
       "      <td>0.0</td>\n",
       "      <td>...</td>\n",
       "      <td>0.0</td>\n",
       "      <td>0.0</td>\n",
       "      <td>0.0</td>\n",
       "      <td>0.0</td>\n",
       "      <td>0.0</td>\n",
       "      <td>0.0</td>\n",
       "      <td>0.0</td>\n",
       "      <td>0.0</td>\n",
       "      <td>0.0</td>\n",
       "      <td>0.0</td>\n",
       "    </tr>\n",
       "    <tr>\n",
       "      <th>2</th>\n",
       "      <td>2018-10-02</td>\n",
       "      <td>0.561735</td>\n",
       "      <td>0.0</td>\n",
       "      <td>0.0</td>\n",
       "      <td>0.0</td>\n",
       "      <td>0.0</td>\n",
       "      <td>0.0</td>\n",
       "      <td>0.0</td>\n",
       "      <td>0.0</td>\n",
       "      <td>0.0</td>\n",
       "      <td>...</td>\n",
       "      <td>0.0</td>\n",
       "      <td>0.0</td>\n",
       "      <td>0.0</td>\n",
       "      <td>0.0</td>\n",
       "      <td>0.0</td>\n",
       "      <td>0.0</td>\n",
       "      <td>0.0</td>\n",
       "      <td>0.0</td>\n",
       "      <td>0.0</td>\n",
       "      <td>0.0</td>\n",
       "    </tr>\n",
       "    <tr>\n",
       "      <th>3</th>\n",
       "      <td>2018-10-03</td>\n",
       "      <td>1.117252</td>\n",
       "      <td>0.0</td>\n",
       "      <td>0.0</td>\n",
       "      <td>0.0</td>\n",
       "      <td>0.0</td>\n",
       "      <td>0.0</td>\n",
       "      <td>0.0</td>\n",
       "      <td>0.0</td>\n",
       "      <td>0.0</td>\n",
       "      <td>...</td>\n",
       "      <td>0.0</td>\n",
       "      <td>0.0</td>\n",
       "      <td>0.0</td>\n",
       "      <td>0.0</td>\n",
       "      <td>0.0</td>\n",
       "      <td>0.0</td>\n",
       "      <td>0.0</td>\n",
       "      <td>0.0</td>\n",
       "      <td>0.0</td>\n",
       "      <td>0.0</td>\n",
       "    </tr>\n",
       "    <tr>\n",
       "      <th>4</th>\n",
       "      <td>2018-10-04</td>\n",
       "      <td>0.807727</td>\n",
       "      <td>0.0</td>\n",
       "      <td>0.0</td>\n",
       "      <td>0.0</td>\n",
       "      <td>0.0</td>\n",
       "      <td>0.0</td>\n",
       "      <td>0.0</td>\n",
       "      <td>0.0</td>\n",
       "      <td>0.0</td>\n",
       "      <td>...</td>\n",
       "      <td>0.0</td>\n",
       "      <td>0.0</td>\n",
       "      <td>0.0</td>\n",
       "      <td>0.0</td>\n",
       "      <td>0.0</td>\n",
       "      <td>0.0</td>\n",
       "      <td>0.0</td>\n",
       "      <td>0.0</td>\n",
       "      <td>0.0</td>\n",
       "      <td>0.0</td>\n",
       "    </tr>\n",
       "  </tbody>\n",
       "</table>\n",
       "<p>5 rows × 10492 columns</p>\n",
       "</div>"
      ],
      "text/plain": [
       "         Date   Obs_Vol  aaron  aav  aayog  abaco  abakus  abandon  abat  \\\n",
       "0  2018-09-30  0.013610    0.0  0.0    0.0    0.0     0.0      0.0   0.0   \n",
       "1  2018-10-01  0.613488    0.0  0.0    0.0    0.0     0.0      0.0   0.0   \n",
       "2  2018-10-02  0.561735    0.0  0.0    0.0    0.0     0.0      0.0   0.0   \n",
       "3  2018-10-03  1.117252    0.0  0.0    0.0    0.0     0.0      0.0   0.0   \n",
       "4  2018-10-04  0.807727    0.0  0.0    0.0    0.0     0.0      0.0   0.0   \n",
       "\n",
       "   abbc  ...  zuckbuck  zuckerberg  zug  zulutrad  zurich  zytara  álvarez  \\\n",
       "0   0.0  ...       0.0         0.0  0.0       0.0     0.0     0.0      0.0   \n",
       "1   0.0  ...       0.0         0.0  0.0       0.0     0.0     0.0      0.0   \n",
       "2   0.0  ...       0.0         0.0  0.0       0.0     0.0     0.0      0.0   \n",
       "3   0.0  ...       0.0         0.0  0.0       0.0     0.0     0.0      0.0   \n",
       "4   0.0  ...       0.0         0.0  0.0       0.0     0.0     0.0      0.0   \n",
       "\n",
       "   ángel  ștefan  аre  \n",
       "0    0.0     0.0  0.0  \n",
       "1    0.0     0.0  0.0  \n",
       "2    0.0     0.0  0.0  \n",
       "3    0.0     0.0  0.0  \n",
       "4    0.0     0.0  0.0  \n",
       "\n",
       "[5 rows x 10492 columns]"
      ]
     },
     "execution_count": 6,
     "metadata": {},
     "output_type": "execute_result"
    }
   ],
   "source": [
    "train.head()"
   ]
  },
  {
   "cell_type": "markdown",
   "metadata": {},
   "source": [
    "## LightGBM Trial"
   ]
  },
  {
   "cell_type": "code",
   "execution_count": 7,
   "metadata": {},
   "outputs": [
    {
     "name": "stderr",
     "output_type": "stream",
     "text": [
      "/opt/conda/lib/python3.7/site-packages/lightgbm/sklearn.py:736: UserWarning: 'verbose' argument is deprecated and will be removed in a future release of LightGBM. Pass 'log_evaluation()' callback via 'callbacks' argument instead.\n",
      "  _log_warning(\"'verbose' argument is deprecated and will be removed in a future release of LightGBM. \"\n"
     ]
    },
    {
     "name": "stdout",
     "output_type": "stream",
     "text": [
      "[20]\tvalid_0's l2: 804.846\tvalid_1's l2: 2790.8\n",
      "[40]\tvalid_0's l2: 810.222\tvalid_1's l2: 2750.76\n",
      "[60]\tvalid_0's l2: 811.616\tvalid_1's l2: 2714.31\n",
      "[80]\tvalid_0's l2: 818.441\tvalid_1's l2: 2679.53\n",
      "[100]\tvalid_0's l2: 823.626\tvalid_1's l2: 2645.64\n"
     ]
    },
    {
     "data": {
      "text/plain": [
       "LGBMRegressor(learning_rate=0.005, max_depth=5, random_state=42)"
      ]
     },
     "execution_count": 7,
     "metadata": {},
     "output_type": "execute_result"
    }
   ],
   "source": [
    "lgb_model = lgb.LGBMRegressor(learning_rate=0.005,max_depth=5,random_state=42)\n",
    "lgb_model.fit(train[df1.columns], train[\"Obs_Vol\"], eval_set=[(test[df1.columns], test[\"Obs_Vol\"]),(train[df1.columns], train[\"Obs_Vol\"])],\n",
    "          verbose=20,eval_metric='logloss')"
   ]
  },
  {
   "cell_type": "code",
   "execution_count": 8,
   "metadata": {},
   "outputs": [
    {
     "name": "stdout",
     "output_type": "stream",
     "text": [
      "MAE: 18.083\n",
      "MSE: 823.626\n"
     ]
    }
   ],
   "source": [
    "y_pred = lgb_model.predict(test[df1.columns])\n",
    "mae = mean_absolute_error(test[\"Obs_Vol\"], y_pred)\n",
    "mse = mean_squared_error(test[\"Obs_Vol\"], y_pred)\n",
    "print('MAE: %.3f' % mae)\n",
    "print('MSE: %.3f' % mse)"
   ]
  },
  {
   "cell_type": "markdown",
   "metadata": {},
   "source": [
    "## Create a 1-day lag for TFIDF"
   ]
  },
  {
   "cell_type": "code",
   "execution_count": 9,
   "metadata": {},
   "outputs": [],
   "source": [
    "lag1_df = final_df.copy()"
   ]
  },
  {
   "cell_type": "code",
   "execution_count": 10,
   "metadata": {},
   "outputs": [],
   "source": [
    "lag1_df = pd.concat([final_df[\"Date\"], lag1_df.iloc[:,1:].shift(1)], axis=1)"
   ]
  },
  {
   "cell_type": "markdown",
   "metadata": {},
   "source": [
    "## Create n-day lags for TFIDF"
   ]
  },
  {
   "cell_type": "code",
   "execution_count": 11,
   "metadata": {},
   "outputs": [],
   "source": [
    "def get_lag_df(n_lag, final_df):\n",
    "    lag_df = final_df.copy()\n",
    "    lag_df = pd.concat([final_df[[\"Date\", \"Obs_Vol\"]], lag_df.iloc[:,2:].shift(n_lag)], axis=1)\n",
    "    return lag_df"
   ]
  },
  {
   "cell_type": "code",
   "execution_count": 12,
   "metadata": {},
   "outputs": [],
   "source": [
    "lag_dict = {}\n",
    "for i in range(1, 10):\n",
    "    lag_dict[\"lag{}_df\".format(i)] = get_lag_df(i, final_df).dropna()"
   ]
  },
  {
   "cell_type": "code",
   "execution_count": 13,
   "metadata": {},
   "outputs": [],
   "source": [
    "# Lag tuning function which produces elbow plot\n",
    "def lag_tuning(lag_dict, accur_metric):\n",
    "    min_mae = 0\n",
    "    min_mse = 0\n",
    "    count = 1\n",
    "    lag_score_df = pd.DataFrame(columns = [\"lag\", accur_metric])\n",
    "    for k in lag_dict.keys():\n",
    "        df = lag_dict[k]\n",
    "        train = df[:-count].dropna()\n",
    "        test = df[-count:].dropna()\n",
    "        lgb_model = lgb.LGBMRegressor(learning_rate=0.005,max_depth=5,random_state=42)\n",
    "        lgb_model.fit(train[df1.columns], train[\"Obs_Vol\"], eval_set=[(test[df1.columns], test[\"Obs_Vol\"]),(train[df1.columns], train[\"Obs_Vol\"])],\n",
    "          verbose=20,eval_metric='logloss')\n",
    "        y_pred = lgb_model.predict(test[df1.columns])\n",
    "        if accur_metric == \"mae\":\n",
    "            mae = mean_absolute_error(test[\"Obs_Vol\"], y_pred)\n",
    "            if count == 0:\n",
    "                min_mae = mae\n",
    "                best_lag = k\n",
    "            else:\n",
    "                if min_mae > mae:\n",
    "                    min_mae = mae\n",
    "            lag_score_df = lag_score_df.append({\"lag\": count, accur_metric: mae}, ignore_index=True)\n",
    "        elif accur_metric == \"mse\":\n",
    "            mse = mean_squared_error(test[\"Obs_Vol\"], y_pred)\n",
    "            if count == 1:\n",
    "                min_mse = mse\n",
    "                best_lag = k\n",
    "            else:\n",
    "                if min_mse > mse:\n",
    "                    min_mse = mse\n",
    "            lag_score_df = lag_score_df.append({\"lag\": count+1, accur_metric: mse}, ignore_index=True)\n",
    "        count += 1\n",
    "    plt.plot(lag_score_df[\"lag\"], lag_score_df[accur_metric], 'go-', linewidth=2)\n",
    "    plt.xlabel(\"lag\")\n",
    "    plt.ylabel(accur_metric)\n",
    "    plt.show()\n",
    "    return lag_score_df"
   ]
  },
  {
   "cell_type": "code",
   "execution_count": 14,
   "metadata": {},
   "outputs": [
    {
     "name": "stderr",
     "output_type": "stream",
     "text": [
      "/opt/conda/lib/python3.7/site-packages/lightgbm/sklearn.py:736: UserWarning: 'verbose' argument is deprecated and will be removed in a future release of LightGBM. Pass 'log_evaluation()' callback via 'callbacks' argument instead.\n",
      "  _log_warning(\"'verbose' argument is deprecated and will be removed in a future release of LightGBM. \"\n"
     ]
    },
    {
     "name": "stdout",
     "output_type": "stream",
     "text": [
      "[20]\tvalid_0's l2: 28.3325\tvalid_1's l2: 2743.49\n",
      "[40]\tvalid_0's l2: 23.94\tvalid_1's l2: 2707.03\n",
      "[60]\tvalid_0's l2: 22.8443\tvalid_1's l2: 2673.44\n",
      "[80]\tvalid_0's l2: 24.7107\tvalid_1's l2: 2641.24\n",
      "[100]\tvalid_0's l2: 27.5991\tvalid_1's l2: 2610.65\n"
     ]
    },
    {
     "name": "stderr",
     "output_type": "stream",
     "text": [
      "/opt/conda/lib/python3.7/site-packages/lightgbm/sklearn.py:736: UserWarning: 'verbose' argument is deprecated and will be removed in a future release of LightGBM. Pass 'log_evaluation()' callback via 'callbacks' argument instead.\n",
      "  _log_warning(\"'verbose' argument is deprecated and will be removed in a future release of LightGBM. \"\n"
     ]
    },
    {
     "name": "stdout",
     "output_type": "stream",
     "text": [
      "[20]\tvalid_0's l2: 58.6547\tvalid_1's l2: 2750.93\n",
      "[40]\tvalid_0's l2: 58.0698\tvalid_1's l2: 2716.22\n",
      "[60]\tvalid_0's l2: 59.0751\tvalid_1's l2: 2684.35\n",
      "[80]\tvalid_0's l2: 62.9982\tvalid_1's l2: 2654.47\n",
      "[100]\tvalid_0's l2: 66.8441\tvalid_1's l2: 2625.54\n"
     ]
    },
    {
     "name": "stderr",
     "output_type": "stream",
     "text": [
      "/opt/conda/lib/python3.7/site-packages/lightgbm/sklearn.py:736: UserWarning: 'verbose' argument is deprecated and will be removed in a future release of LightGBM. Pass 'log_evaluation()' callback via 'callbacks' argument instead.\n",
      "  _log_warning(\"'verbose' argument is deprecated and will be removed in a future release of LightGBM. \"\n"
     ]
    },
    {
     "name": "stdout",
     "output_type": "stream",
     "text": [
      "[20]\tvalid_0's l2: 133.351\tvalid_1's l2: 2754.22\n",
      "[40]\tvalid_0's l2: 156.883\tvalid_1's l2: 2718.07\n",
      "[60]\tvalid_0's l2: 189.171\tvalid_1's l2: 2684.74\n",
      "[80]\tvalid_0's l2: 225.264\tvalid_1's l2: 2652.25\n",
      "[100]\tvalid_0's l2: 246.33\tvalid_1's l2: 2621.09\n"
     ]
    },
    {
     "name": "stderr",
     "output_type": "stream",
     "text": [
      "/opt/conda/lib/python3.7/site-packages/lightgbm/sklearn.py:736: UserWarning: 'verbose' argument is deprecated and will be removed in a future release of LightGBM. Pass 'log_evaluation()' callback via 'callbacks' argument instead.\n",
      "  _log_warning(\"'verbose' argument is deprecated and will be removed in a future release of LightGBM. \"\n"
     ]
    },
    {
     "name": "stdout",
     "output_type": "stream",
     "text": [
      "[20]\tvalid_0's l2: 169.6\tvalid_1's l2: 2762.26\n",
      "[40]\tvalid_0's l2: 188.084\tvalid_1's l2: 2726.89\n",
      "[60]\tvalid_0's l2: 209.177\tvalid_1's l2: 2690.94\n",
      "[80]\tvalid_0's l2: 231.005\tvalid_1's l2: 2656.52\n",
      "[100]\tvalid_0's l2: 250.498\tvalid_1's l2: 2624.27\n"
     ]
    },
    {
     "name": "stderr",
     "output_type": "stream",
     "text": [
      "/opt/conda/lib/python3.7/site-packages/lightgbm/sklearn.py:736: UserWarning: 'verbose' argument is deprecated and will be removed in a future release of LightGBM. Pass 'log_evaluation()' callback via 'callbacks' argument instead.\n",
      "  _log_warning(\"'verbose' argument is deprecated and will be removed in a future release of LightGBM. \"\n"
     ]
    },
    {
     "name": "stdout",
     "output_type": "stream",
     "text": [
      "[20]\tvalid_0's l2: 120.025\tvalid_1's l2: 2764.72\n",
      "[40]\tvalid_0's l2: 114.639\tvalid_1's l2: 2727.33\n",
      "[60]\tvalid_0's l2: 109.313\tvalid_1's l2: 2692.82\n",
      "[80]\tvalid_0's l2: 104.227\tvalid_1's l2: 2660.05\n",
      "[100]\tvalid_0's l2: 99.9636\tvalid_1's l2: 2629.24\n"
     ]
    },
    {
     "name": "stderr",
     "output_type": "stream",
     "text": [
      "/opt/conda/lib/python3.7/site-packages/lightgbm/sklearn.py:736: UserWarning: 'verbose' argument is deprecated and will be removed in a future release of LightGBM. Pass 'log_evaluation()' callback via 'callbacks' argument instead.\n",
      "  _log_warning(\"'verbose' argument is deprecated and will be removed in a future release of LightGBM. \"\n"
     ]
    },
    {
     "name": "stdout",
     "output_type": "stream",
     "text": [
      "[20]\tvalid_0's l2: 108.965\tvalid_1's l2: 2765.12\n",
      "[40]\tvalid_0's l2: 105.522\tvalid_1's l2: 2726.37\n",
      "[60]\tvalid_0's l2: 104.506\tvalid_1's l2: 2692.67\n",
      "[80]\tvalid_0's l2: 106.467\tvalid_1's l2: 2661.39\n",
      "[100]\tvalid_0's l2: 111.742\tvalid_1's l2: 2632.09\n"
     ]
    },
    {
     "name": "stderr",
     "output_type": "stream",
     "text": [
      "/opt/conda/lib/python3.7/site-packages/lightgbm/sklearn.py:736: UserWarning: 'verbose' argument is deprecated and will be removed in a future release of LightGBM. Pass 'log_evaluation()' callback via 'callbacks' argument instead.\n",
      "  _log_warning(\"'verbose' argument is deprecated and will be removed in a future release of LightGBM. \"\n"
     ]
    },
    {
     "name": "stdout",
     "output_type": "stream",
     "text": [
      "[20]\tvalid_0's l2: 228.885\tvalid_1's l2: 2774.32\n",
      "[40]\tvalid_0's l2: 228.49\tvalid_1's l2: 2738.03\n",
      "[60]\tvalid_0's l2: 235.969\tvalid_1's l2: 2703.17\n",
      "[80]\tvalid_0's l2: 245.18\tvalid_1's l2: 2670.44\n",
      "[100]\tvalid_0's l2: 252.979\tvalid_1's l2: 2640.56\n"
     ]
    },
    {
     "name": "stderr",
     "output_type": "stream",
     "text": [
      "/opt/conda/lib/python3.7/site-packages/lightgbm/sklearn.py:736: UserWarning: 'verbose' argument is deprecated and will be removed in a future release of LightGBM. Pass 'log_evaluation()' callback via 'callbacks' argument instead.\n",
      "  _log_warning(\"'verbose' argument is deprecated and will be removed in a future release of LightGBM. \"\n"
     ]
    },
    {
     "name": "stdout",
     "output_type": "stream",
     "text": [
      "[20]\tvalid_0's l2: 227.172\tvalid_1's l2: 2772.34\n",
      "[40]\tvalid_0's l2: 231.743\tvalid_1's l2: 2734.36\n",
      "[60]\tvalid_0's l2: 240.224\tvalid_1's l2: 2699.32\n",
      "[80]\tvalid_0's l2: 245.519\tvalid_1's l2: 2666.74\n",
      "[100]\tvalid_0's l2: 253.906\tvalid_1's l2: 2636.32\n"
     ]
    },
    {
     "name": "stderr",
     "output_type": "stream",
     "text": [
      "/opt/conda/lib/python3.7/site-packages/lightgbm/sklearn.py:736: UserWarning: 'verbose' argument is deprecated and will be removed in a future release of LightGBM. Pass 'log_evaluation()' callback via 'callbacks' argument instead.\n",
      "  _log_warning(\"'verbose' argument is deprecated and will be removed in a future release of LightGBM. \"\n"
     ]
    },
    {
     "name": "stdout",
     "output_type": "stream",
     "text": [
      "[20]\tvalid_0's l2: 823.168\tvalid_1's l2: 2779.45\n",
      "[40]\tvalid_0's l2: 820.941\tvalid_1's l2: 2742.28\n",
      "[60]\tvalid_0's l2: 819.986\tvalid_1's l2: 2707.86\n",
      "[80]\tvalid_0's l2: 826.204\tvalid_1's l2: 2675.23\n",
      "[100]\tvalid_0's l2: 845.85\tvalid_1's l2: 2644.01\n"
     ]
    },
    {
     "data": {
      "image/png": "[encoded data removed]",
      "text/plain": [
       "<Figure size 432x288 with 1 Axes>"
      ]
     },
     "metadata": {
      "needs_background": "light"
     },
     "output_type": "display_data"
    },
    {
     "name": "stdout",
     "output_type": "stream",
     "text": [
      "CPU times: user 4h 46min 31s, sys: 2.19 s, total: 4h 46min 34s\n",
      "Wall time: 35min 32s\n"
     ]
    },
    {
     "data": {
      "text/html": [
       "<div>\n",
       "<style scoped>\n",
       "    .dataframe tbody tr th:only-of-type {\n",
       "        vertical-align: middle;\n",
       "    }\n",
       "\n",
       "    .dataframe tbody tr th {\n",
       "        vertical-align: top;\n",
       "    }\n",
       "\n",
       "    .dataframe thead th {\n",
       "        text-align: right;\n",
       "    }\n",
       "</style>\n",
       "<table border=\"1\" class=\"dataframe\">\n",
       "  <thead>\n",
       "    <tr style=\"text-align: right;\">\n",
       "      <th></th>\n",
       "      <th>lag</th>\n",
       "      <th>mae</th>\n",
       "    </tr>\n",
       "  </thead>\n",
       "  <tbody>\n",
       "    <tr>\n",
       "      <th>0</th>\n",
       "      <td>1.0</td>\n",
       "      <td>5.253487</td>\n",
       "    </tr>\n",
       "    <tr>\n",
       "      <th>1</th>\n",
       "      <td>2.0</td>\n",
       "      <td>7.565494</td>\n",
       "    </tr>\n",
       "    <tr>\n",
       "      <th>2</th>\n",
       "      <td>3.0</td>\n",
       "      <td>14.878429</td>\n",
       "    </tr>\n",
       "    <tr>\n",
       "      <th>3</th>\n",
       "      <td>4.0</td>\n",
       "      <td>15.044093</td>\n",
       "    </tr>\n",
       "    <tr>\n",
       "      <th>4</th>\n",
       "      <td>5.0</td>\n",
       "      <td>9.503036</td>\n",
       "    </tr>\n",
       "    <tr>\n",
       "      <th>5</th>\n",
       "      <td>6.0</td>\n",
       "      <td>9.819256</td>\n",
       "    </tr>\n",
       "    <tr>\n",
       "      <th>6</th>\n",
       "      <td>7.0</td>\n",
       "      <td>13.497476</td>\n",
       "    </tr>\n",
       "    <tr>\n",
       "      <th>7</th>\n",
       "      <td>8.0</td>\n",
       "      <td>14.341243</td>\n",
       "    </tr>\n",
       "    <tr>\n",
       "      <th>8</th>\n",
       "      <td>9.0</td>\n",
       "      <td>20.760986</td>\n",
       "    </tr>\n",
       "  </tbody>\n",
       "</table>\n",
       "</div>"
      ],
      "text/plain": [
       "   lag        mae\n",
       "0  1.0   5.253487\n",
       "1  2.0   7.565494\n",
       "2  3.0  14.878429\n",
       "3  4.0  15.044093\n",
       "4  5.0   9.503036\n",
       "5  6.0   9.819256\n",
       "6  7.0  13.497476\n",
       "7  8.0  14.341243\n",
       "8  9.0  20.760986"
      ]
     },
     "execution_count": 14,
     "metadata": {},
     "output_type": "execute_result"
    }
   ],
   "source": [
    "%%time\n",
    "lag_tuning(lag_dict, \"mae\")"
   ]
  },
  {
   "cell_type": "code",
   "execution_count": 25,
   "metadata": {},
   "outputs": [],
   "source": [
    "# Choosing lag_5 as the best dataframe with 5-day lagged tfidf features\n",
    "df = lag_dict[\"lag5_df\"]"
   ]
  },
  {
   "cell_type": "markdown",
   "metadata": {},
   "source": [
    "## Date specific feature engineering"
   ]
  },
  {
   "cell_type": "code",
   "execution_count": 26,
   "metadata": {},
   "outputs": [],
   "source": [
    "df['Date'] = pd.to_datetime(df['Date'])"
   ]
  },
  {
   "cell_type": "code",
   "execution_count": 27,
   "metadata": {},
   "outputs": [],
   "source": [
    "df['Year'] = df['Date'].dt.year \n",
    "df['Month'] = df['Date'].dt.month \n",
    "df['Day'] = df['Date'].dt.day\n",
    "\n",
    "df['dayofweek_num'] = df['Date'].dt.dayofweek  \n",
    "# df['dayofweek_name']= df['Date'].dt.weekday_name"
   ]
  },
  {
   "cell_type": "code",
   "execution_count": 28,
   "metadata": {},
   "outputs": [
    {
     "data": {
      "text/html": [
       "<div>\n",
       "<style scoped>\n",
       "    .dataframe tbody tr th:only-of-type {\n",
       "        vertical-align: middle;\n",
       "    }\n",
       "\n",
       "    .dataframe tbody tr th {\n",
       "        vertical-align: top;\n",
       "    }\n",
       "\n",
       "    .dataframe thead th {\n",
       "        text-align: right;\n",
       "    }\n",
       "</style>\n",
       "<table border=\"1\" class=\"dataframe\">\n",
       "  <thead>\n",
       "    <tr style=\"text-align: right;\">\n",
       "      <th></th>\n",
       "      <th>Date</th>\n",
       "      <th>Obs_Vol</th>\n",
       "      <th>aaron</th>\n",
       "      <th>aav</th>\n",
       "      <th>aayog</th>\n",
       "      <th>abaco</th>\n",
       "      <th>abakus</th>\n",
       "      <th>abandon</th>\n",
       "      <th>abat</th>\n",
       "      <th>abbc</th>\n",
       "      <th>...</th>\n",
       "      <th>Day</th>\n",
       "      <th>dayofweek_num</th>\n",
       "      <th>lag_1</th>\n",
       "      <th>lag_2</th>\n",
       "      <th>lag_3</th>\n",
       "      <th>lag_4</th>\n",
       "      <th>lag_5</th>\n",
       "      <th>lag_6</th>\n",
       "      <th>lag_7</th>\n",
       "      <th>rolling_mean</th>\n",
       "    </tr>\n",
       "  </thead>\n",
       "  <tbody>\n",
       "    <tr>\n",
       "      <th>5</th>\n",
       "      <td>2018-10-05</td>\n",
       "      <td>0.207422</td>\n",
       "      <td>0.0</td>\n",
       "      <td>0.0</td>\n",
       "      <td>0.0</td>\n",
       "      <td>0.0</td>\n",
       "      <td>0.0</td>\n",
       "      <td>0.0</td>\n",
       "      <td>0.0</td>\n",
       "      <td>0.0</td>\n",
       "      <td>...</td>\n",
       "      <td>5</td>\n",
       "      <td>4</td>\n",
       "      <td>NaN</td>\n",
       "      <td>NaN</td>\n",
       "      <td>NaN</td>\n",
       "      <td>NaN</td>\n",
       "      <td>NaN</td>\n",
       "      <td>NaN</td>\n",
       "      <td>NaN</td>\n",
       "      <td>NaN</td>\n",
       "    </tr>\n",
       "    <tr>\n",
       "      <th>6</th>\n",
       "      <td>2018-10-06</td>\n",
       "      <td>0.572715</td>\n",
       "      <td>0.0</td>\n",
       "      <td>0.0</td>\n",
       "      <td>0.0</td>\n",
       "      <td>0.0</td>\n",
       "      <td>0.0</td>\n",
       "      <td>0.0</td>\n",
       "      <td>0.0</td>\n",
       "      <td>0.0</td>\n",
       "      <td>...</td>\n",
       "      <td>6</td>\n",
       "      <td>5</td>\n",
       "      <td>0.207422</td>\n",
       "      <td>NaN</td>\n",
       "      <td>NaN</td>\n",
       "      <td>NaN</td>\n",
       "      <td>NaN</td>\n",
       "      <td>NaN</td>\n",
       "      <td>NaN</td>\n",
       "      <td>NaN</td>\n",
       "    </tr>\n",
       "    <tr>\n",
       "      <th>7</th>\n",
       "      <td>2018-10-07</td>\n",
       "      <td>0.000346</td>\n",
       "      <td>0.0</td>\n",
       "      <td>0.0</td>\n",
       "      <td>0.0</td>\n",
       "      <td>0.0</td>\n",
       "      <td>0.0</td>\n",
       "      <td>0.0</td>\n",
       "      <td>0.0</td>\n",
       "      <td>0.0</td>\n",
       "      <td>...</td>\n",
       "      <td>7</td>\n",
       "      <td>6</td>\n",
       "      <td>0.572715</td>\n",
       "      <td>0.207422</td>\n",
       "      <td>NaN</td>\n",
       "      <td>NaN</td>\n",
       "      <td>NaN</td>\n",
       "      <td>NaN</td>\n",
       "      <td>NaN</td>\n",
       "      <td>NaN</td>\n",
       "    </tr>\n",
       "    <tr>\n",
       "      <th>8</th>\n",
       "      <td>2018-10-08</td>\n",
       "      <td>0.255549</td>\n",
       "      <td>0.0</td>\n",
       "      <td>0.0</td>\n",
       "      <td>0.0</td>\n",
       "      <td>0.0</td>\n",
       "      <td>0.0</td>\n",
       "      <td>0.0</td>\n",
       "      <td>0.0</td>\n",
       "      <td>0.0</td>\n",
       "      <td>...</td>\n",
       "      <td>8</td>\n",
       "      <td>0</td>\n",
       "      <td>0.000346</td>\n",
       "      <td>0.572715</td>\n",
       "      <td>0.207422</td>\n",
       "      <td>NaN</td>\n",
       "      <td>NaN</td>\n",
       "      <td>NaN</td>\n",
       "      <td>NaN</td>\n",
       "      <td>NaN</td>\n",
       "    </tr>\n",
       "    <tr>\n",
       "      <th>9</th>\n",
       "      <td>2018-10-09</td>\n",
       "      <td>0.148203</td>\n",
       "      <td>0.0</td>\n",
       "      <td>0.0</td>\n",
       "      <td>0.0</td>\n",
       "      <td>0.0</td>\n",
       "      <td>0.0</td>\n",
       "      <td>0.0</td>\n",
       "      <td>0.0</td>\n",
       "      <td>0.0</td>\n",
       "      <td>...</td>\n",
       "      <td>9</td>\n",
       "      <td>1</td>\n",
       "      <td>0.255549</td>\n",
       "      <td>0.000346</td>\n",
       "      <td>0.572715</td>\n",
       "      <td>0.207422</td>\n",
       "      <td>NaN</td>\n",
       "      <td>NaN</td>\n",
       "      <td>NaN</td>\n",
       "      <td>NaN</td>\n",
       "    </tr>\n",
       "    <tr>\n",
       "      <th>...</th>\n",
       "      <td>...</td>\n",
       "      <td>...</td>\n",
       "      <td>...</td>\n",
       "      <td>...</td>\n",
       "      <td>...</td>\n",
       "      <td>...</td>\n",
       "      <td>...</td>\n",
       "      <td>...</td>\n",
       "      <td>...</td>\n",
       "      <td>...</td>\n",
       "      <td>...</td>\n",
       "      <td>...</td>\n",
       "      <td>...</td>\n",
       "      <td>...</td>\n",
       "      <td>...</td>\n",
       "      <td>...</td>\n",
       "      <td>...</td>\n",
       "      <td>...</td>\n",
       "      <td>...</td>\n",
       "      <td>...</td>\n",
       "      <td>...</td>\n",
       "    </tr>\n",
       "    <tr>\n",
       "      <th>1082</th>\n",
       "      <td>2021-09-24</td>\n",
       "      <td>23.222015</td>\n",
       "      <td>0.0</td>\n",
       "      <td>0.0</td>\n",
       "      <td>0.0</td>\n",
       "      <td>0.0</td>\n",
       "      <td>0.0</td>\n",
       "      <td>0.0</td>\n",
       "      <td>0.0</td>\n",
       "      <td>0.0</td>\n",
       "      <td>...</td>\n",
       "      <td>24</td>\n",
       "      <td>4</td>\n",
       "      <td>7.783189</td>\n",
       "      <td>46.765087</td>\n",
       "      <td>27.660570</td>\n",
       "      <td>91.885766</td>\n",
       "      <td>5.521163</td>\n",
       "      <td>3.601447</td>\n",
       "      <td>1.743323</td>\n",
       "      <td>29.491320</td>\n",
       "    </tr>\n",
       "    <tr>\n",
       "      <th>1083</th>\n",
       "      <td>2021-09-25</td>\n",
       "      <td>0.279093</td>\n",
       "      <td>0.0</td>\n",
       "      <td>0.0</td>\n",
       "      <td>0.0</td>\n",
       "      <td>0.0</td>\n",
       "      <td>0.0</td>\n",
       "      <td>0.0</td>\n",
       "      <td>0.0</td>\n",
       "      <td>0.0</td>\n",
       "      <td>...</td>\n",
       "      <td>25</td>\n",
       "      <td>5</td>\n",
       "      <td>23.222015</td>\n",
       "      <td>7.783189</td>\n",
       "      <td>46.765087</td>\n",
       "      <td>27.660570</td>\n",
       "      <td>91.885766</td>\n",
       "      <td>5.521163</td>\n",
       "      <td>3.601447</td>\n",
       "      <td>29.016698</td>\n",
       "    </tr>\n",
       "    <tr>\n",
       "      <th>1084</th>\n",
       "      <td>2021-09-26</td>\n",
       "      <td>0.829626</td>\n",
       "      <td>0.0</td>\n",
       "      <td>0.0</td>\n",
       "      <td>0.0</td>\n",
       "      <td>0.0</td>\n",
       "      <td>0.0</td>\n",
       "      <td>0.0</td>\n",
       "      <td>0.0</td>\n",
       "      <td>0.0</td>\n",
       "      <td>...</td>\n",
       "      <td>26</td>\n",
       "      <td>6</td>\n",
       "      <td>0.279093</td>\n",
       "      <td>23.222015</td>\n",
       "      <td>7.783189</td>\n",
       "      <td>46.765087</td>\n",
       "      <td>27.660570</td>\n",
       "      <td>91.885766</td>\n",
       "      <td>5.521163</td>\n",
       "      <td>28.346478</td>\n",
       "    </tr>\n",
       "    <tr>\n",
       "      <th>1085</th>\n",
       "      <td>2021-09-27</td>\n",
       "      <td>6.211249</td>\n",
       "      <td>0.0</td>\n",
       "      <td>0.0</td>\n",
       "      <td>0.0</td>\n",
       "      <td>0.0</td>\n",
       "      <td>0.0</td>\n",
       "      <td>0.0</td>\n",
       "      <td>0.0</td>\n",
       "      <td>0.0</td>\n",
       "      <td>...</td>\n",
       "      <td>27</td>\n",
       "      <td>0</td>\n",
       "      <td>0.829626</td>\n",
       "      <td>0.279093</td>\n",
       "      <td>23.222015</td>\n",
       "      <td>7.783189</td>\n",
       "      <td>46.765087</td>\n",
       "      <td>27.660570</td>\n",
       "      <td>91.885766</td>\n",
       "      <td>16.107261</td>\n",
       "    </tr>\n",
       "    <tr>\n",
       "      <th>1086</th>\n",
       "      <td>2021-09-28</td>\n",
       "      <td>9.516108</td>\n",
       "      <td>0.0</td>\n",
       "      <td>0.0</td>\n",
       "      <td>0.0</td>\n",
       "      <td>0.0</td>\n",
       "      <td>0.0</td>\n",
       "      <td>0.0</td>\n",
       "      <td>0.0</td>\n",
       "      <td>0.0</td>\n",
       "      <td>...</td>\n",
       "      <td>28</td>\n",
       "      <td>1</td>\n",
       "      <td>6.211249</td>\n",
       "      <td>0.829626</td>\n",
       "      <td>0.279093</td>\n",
       "      <td>23.222015</td>\n",
       "      <td>7.783189</td>\n",
       "      <td>46.765087</td>\n",
       "      <td>27.660570</td>\n",
       "      <td>13.515195</td>\n",
       "    </tr>\n",
       "  </tbody>\n",
       "</table>\n",
       "<p>1082 rows × 10504 columns</p>\n",
       "</div>"
      ],
      "text/plain": [
       "           Date    Obs_Vol  aaron  aav  aayog  abaco  abakus  abandon  abat  \\\n",
       "5    2018-10-05   0.207422    0.0  0.0    0.0    0.0     0.0      0.0   0.0   \n",
       "6    2018-10-06   0.572715    0.0  0.0    0.0    0.0     0.0      0.0   0.0   \n",
       "7    2018-10-07   0.000346    0.0  0.0    0.0    0.0     0.0      0.0   0.0   \n",
       "8    2018-10-08   0.255549    0.0  0.0    0.0    0.0     0.0      0.0   0.0   \n",
       "9    2018-10-09   0.148203    0.0  0.0    0.0    0.0     0.0      0.0   0.0   \n",
       "...         ...        ...    ...  ...    ...    ...     ...      ...   ...   \n",
       "1082 2021-09-24  23.222015    0.0  0.0    0.0    0.0     0.0      0.0   0.0   \n",
       "1083 2021-09-25   0.279093    0.0  0.0    0.0    0.0     0.0      0.0   0.0   \n",
       "1084 2021-09-26   0.829626    0.0  0.0    0.0    0.0     0.0      0.0   0.0   \n",
       "1085 2021-09-27   6.211249    0.0  0.0    0.0    0.0     0.0      0.0   0.0   \n",
       "1086 2021-09-28   9.516108    0.0  0.0    0.0    0.0     0.0      0.0   0.0   \n",
       "\n",
       "      abbc  ...  Day  dayofweek_num      lag_1      lag_2      lag_3  \\\n",
       "5      0.0  ...    5              4        NaN        NaN        NaN   \n",
       "6      0.0  ...    6              5   0.207422        NaN        NaN   \n",
       "7      0.0  ...    7              6   0.572715   0.207422        NaN   \n",
       "8      0.0  ...    8              0   0.000346   0.572715   0.207422   \n",
       "9      0.0  ...    9              1   0.255549   0.000346   0.572715   \n",
       "...    ...  ...  ...            ...        ...        ...        ...   \n",
       "1082   0.0  ...   24              4   7.783189  46.765087  27.660570   \n",
       "1083   0.0  ...   25              5  23.222015   7.783189  46.765087   \n",
       "1084   0.0  ...   26              6   0.279093  23.222015   7.783189   \n",
       "1085   0.0  ...   27              0   0.829626   0.279093  23.222015   \n",
       "1086   0.0  ...   28              1   6.211249   0.829626   0.279093   \n",
       "\n",
       "          lag_4      lag_5      lag_6      lag_7  rolling_mean  \n",
       "5           NaN        NaN        NaN        NaN           NaN  \n",
       "6           NaN        NaN        NaN        NaN           NaN  \n",
       "7           NaN        NaN        NaN        NaN           NaN  \n",
       "8           NaN        NaN        NaN        NaN           NaN  \n",
       "9      0.207422        NaN        NaN        NaN           NaN  \n",
       "...         ...        ...        ...        ...           ...  \n",
       "1082  91.885766   5.521163   3.601447   1.743323     29.491320  \n",
       "1083  27.660570  91.885766   5.521163   3.601447     29.016698  \n",
       "1084  46.765087  27.660570  91.885766   5.521163     28.346478  \n",
       "1085   7.783189  46.765087  27.660570  91.885766     16.107261  \n",
       "1086  23.222015   7.783189  46.765087  27.660570     13.515195  \n",
       "\n",
       "[1082 rows x 10504 columns]"
      ]
     },
     "execution_count": 28,
     "metadata": {},
     "output_type": "execute_result"
    }
   ],
   "source": [
    "df"
   ]
  },
  {
   "cell_type": "markdown",
   "metadata": {},
   "source": [
    "## Lags for observed volatility"
   ]
  },
  {
   "cell_type": "code",
   "execution_count": 29,
   "metadata": {},
   "outputs": [],
   "source": [
    "def get_lags(lag_start, lag_end, df):\n",
    "    for i in range(lag_start, lag_end):\n",
    "        df['lag_'+str(i)] = df.Obs_Vol.shift(i)\n",
    "    return df"
   ]
  },
  {
   "cell_type": "code",
   "execution_count": 30,
   "metadata": {},
   "outputs": [],
   "source": [
    "df = get_lags(1, 8, df)"
   ]
  },
  {
   "cell_type": "code",
   "execution_count": 31,
   "metadata": {},
   "outputs": [
    {
     "data": {
      "text/html": [
       "<div>\n",
       "<style scoped>\n",
       "    .dataframe tbody tr th:only-of-type {\n",
       "        vertical-align: middle;\n",
       "    }\n",
       "\n",
       "    .dataframe tbody tr th {\n",
       "        vertical-align: top;\n",
       "    }\n",
       "\n",
       "    .dataframe thead th {\n",
       "        text-align: right;\n",
       "    }\n",
       "</style>\n",
       "<table border=\"1\" class=\"dataframe\">\n",
       "  <thead>\n",
       "    <tr style=\"text-align: right;\">\n",
       "      <th></th>\n",
       "      <th>Date</th>\n",
       "      <th>Obs_Vol</th>\n",
       "      <th>aaron</th>\n",
       "      <th>aav</th>\n",
       "      <th>aayog</th>\n",
       "      <th>abaco</th>\n",
       "      <th>abakus</th>\n",
       "      <th>abandon</th>\n",
       "      <th>abat</th>\n",
       "      <th>abbc</th>\n",
       "      <th>...</th>\n",
       "      <th>Day</th>\n",
       "      <th>dayofweek_num</th>\n",
       "      <th>lag_1</th>\n",
       "      <th>lag_2</th>\n",
       "      <th>lag_3</th>\n",
       "      <th>lag_4</th>\n",
       "      <th>lag_5</th>\n",
       "      <th>lag_6</th>\n",
       "      <th>lag_7</th>\n",
       "      <th>rolling_mean</th>\n",
       "    </tr>\n",
       "  </thead>\n",
       "  <tbody>\n",
       "    <tr>\n",
       "      <th>5</th>\n",
       "      <td>2018-10-05</td>\n",
       "      <td>0.207422</td>\n",
       "      <td>0.0</td>\n",
       "      <td>0.0</td>\n",
       "      <td>0.0</td>\n",
       "      <td>0.0</td>\n",
       "      <td>0.0</td>\n",
       "      <td>0.0</td>\n",
       "      <td>0.0</td>\n",
       "      <td>0.0</td>\n",
       "      <td>...</td>\n",
       "      <td>5</td>\n",
       "      <td>4</td>\n",
       "      <td>NaN</td>\n",
       "      <td>NaN</td>\n",
       "      <td>NaN</td>\n",
       "      <td>NaN</td>\n",
       "      <td>NaN</td>\n",
       "      <td>NaN</td>\n",
       "      <td>NaN</td>\n",
       "      <td>NaN</td>\n",
       "    </tr>\n",
       "    <tr>\n",
       "      <th>6</th>\n",
       "      <td>2018-10-06</td>\n",
       "      <td>0.572715</td>\n",
       "      <td>0.0</td>\n",
       "      <td>0.0</td>\n",
       "      <td>0.0</td>\n",
       "      <td>0.0</td>\n",
       "      <td>0.0</td>\n",
       "      <td>0.0</td>\n",
       "      <td>0.0</td>\n",
       "      <td>0.0</td>\n",
       "      <td>...</td>\n",
       "      <td>6</td>\n",
       "      <td>5</td>\n",
       "      <td>0.207422</td>\n",
       "      <td>NaN</td>\n",
       "      <td>NaN</td>\n",
       "      <td>NaN</td>\n",
       "      <td>NaN</td>\n",
       "      <td>NaN</td>\n",
       "      <td>NaN</td>\n",
       "      <td>NaN</td>\n",
       "    </tr>\n",
       "    <tr>\n",
       "      <th>7</th>\n",
       "      <td>2018-10-07</td>\n",
       "      <td>0.000346</td>\n",
       "      <td>0.0</td>\n",
       "      <td>0.0</td>\n",
       "      <td>0.0</td>\n",
       "      <td>0.0</td>\n",
       "      <td>0.0</td>\n",
       "      <td>0.0</td>\n",
       "      <td>0.0</td>\n",
       "      <td>0.0</td>\n",
       "      <td>...</td>\n",
       "      <td>7</td>\n",
       "      <td>6</td>\n",
       "      <td>0.572715</td>\n",
       "      <td>0.207422</td>\n",
       "      <td>NaN</td>\n",
       "      <td>NaN</td>\n",
       "      <td>NaN</td>\n",
       "      <td>NaN</td>\n",
       "      <td>NaN</td>\n",
       "      <td>NaN</td>\n",
       "    </tr>\n",
       "    <tr>\n",
       "      <th>8</th>\n",
       "      <td>2018-10-08</td>\n",
       "      <td>0.255549</td>\n",
       "      <td>0.0</td>\n",
       "      <td>0.0</td>\n",
       "      <td>0.0</td>\n",
       "      <td>0.0</td>\n",
       "      <td>0.0</td>\n",
       "      <td>0.0</td>\n",
       "      <td>0.0</td>\n",
       "      <td>0.0</td>\n",
       "      <td>...</td>\n",
       "      <td>8</td>\n",
       "      <td>0</td>\n",
       "      <td>0.000346</td>\n",
       "      <td>0.572715</td>\n",
       "      <td>0.207422</td>\n",
       "      <td>NaN</td>\n",
       "      <td>NaN</td>\n",
       "      <td>NaN</td>\n",
       "      <td>NaN</td>\n",
       "      <td>NaN</td>\n",
       "    </tr>\n",
       "    <tr>\n",
       "      <th>9</th>\n",
       "      <td>2018-10-09</td>\n",
       "      <td>0.148203</td>\n",
       "      <td>0.0</td>\n",
       "      <td>0.0</td>\n",
       "      <td>0.0</td>\n",
       "      <td>0.0</td>\n",
       "      <td>0.0</td>\n",
       "      <td>0.0</td>\n",
       "      <td>0.0</td>\n",
       "      <td>0.0</td>\n",
       "      <td>...</td>\n",
       "      <td>9</td>\n",
       "      <td>1</td>\n",
       "      <td>0.255549</td>\n",
       "      <td>0.000346</td>\n",
       "      <td>0.572715</td>\n",
       "      <td>0.207422</td>\n",
       "      <td>NaN</td>\n",
       "      <td>NaN</td>\n",
       "      <td>NaN</td>\n",
       "      <td>NaN</td>\n",
       "    </tr>\n",
       "    <tr>\n",
       "      <th>...</th>\n",
       "      <td>...</td>\n",
       "      <td>...</td>\n",
       "      <td>...</td>\n",
       "      <td>...</td>\n",
       "      <td>...</td>\n",
       "      <td>...</td>\n",
       "      <td>...</td>\n",
       "      <td>...</td>\n",
       "      <td>...</td>\n",
       "      <td>...</td>\n",
       "      <td>...</td>\n",
       "      <td>...</td>\n",
       "      <td>...</td>\n",
       "      <td>...</td>\n",
       "      <td>...</td>\n",
       "      <td>...</td>\n",
       "      <td>...</td>\n",
       "      <td>...</td>\n",
       "      <td>...</td>\n",
       "      <td>...</td>\n",
       "      <td>...</td>\n",
       "    </tr>\n",
       "    <tr>\n",
       "      <th>1082</th>\n",
       "      <td>2021-09-24</td>\n",
       "      <td>23.222015</td>\n",
       "      <td>0.0</td>\n",
       "      <td>0.0</td>\n",
       "      <td>0.0</td>\n",
       "      <td>0.0</td>\n",
       "      <td>0.0</td>\n",
       "      <td>0.0</td>\n",
       "      <td>0.0</td>\n",
       "      <td>0.0</td>\n",
       "      <td>...</td>\n",
       "      <td>24</td>\n",
       "      <td>4</td>\n",
       "      <td>7.783189</td>\n",
       "      <td>46.765087</td>\n",
       "      <td>27.660570</td>\n",
       "      <td>91.885766</td>\n",
       "      <td>5.521163</td>\n",
       "      <td>3.601447</td>\n",
       "      <td>1.743323</td>\n",
       "      <td>29.491320</td>\n",
       "    </tr>\n",
       "    <tr>\n",
       "      <th>1083</th>\n",
       "      <td>2021-09-25</td>\n",
       "      <td>0.279093</td>\n",
       "      <td>0.0</td>\n",
       "      <td>0.0</td>\n",
       "      <td>0.0</td>\n",
       "      <td>0.0</td>\n",
       "      <td>0.0</td>\n",
       "      <td>0.0</td>\n",
       "      <td>0.0</td>\n",
       "      <td>0.0</td>\n",
       "      <td>...</td>\n",
       "      <td>25</td>\n",
       "      <td>5</td>\n",
       "      <td>23.222015</td>\n",
       "      <td>7.783189</td>\n",
       "      <td>46.765087</td>\n",
       "      <td>27.660570</td>\n",
       "      <td>91.885766</td>\n",
       "      <td>5.521163</td>\n",
       "      <td>3.601447</td>\n",
       "      <td>29.016698</td>\n",
       "    </tr>\n",
       "    <tr>\n",
       "      <th>1084</th>\n",
       "      <td>2021-09-26</td>\n",
       "      <td>0.829626</td>\n",
       "      <td>0.0</td>\n",
       "      <td>0.0</td>\n",
       "      <td>0.0</td>\n",
       "      <td>0.0</td>\n",
       "      <td>0.0</td>\n",
       "      <td>0.0</td>\n",
       "      <td>0.0</td>\n",
       "      <td>0.0</td>\n",
       "      <td>...</td>\n",
       "      <td>26</td>\n",
       "      <td>6</td>\n",
       "      <td>0.279093</td>\n",
       "      <td>23.222015</td>\n",
       "      <td>7.783189</td>\n",
       "      <td>46.765087</td>\n",
       "      <td>27.660570</td>\n",
       "      <td>91.885766</td>\n",
       "      <td>5.521163</td>\n",
       "      <td>28.346478</td>\n",
       "    </tr>\n",
       "    <tr>\n",
       "      <th>1085</th>\n",
       "      <td>2021-09-27</td>\n",
       "      <td>6.211249</td>\n",
       "      <td>0.0</td>\n",
       "      <td>0.0</td>\n",
       "      <td>0.0</td>\n",
       "      <td>0.0</td>\n",
       "      <td>0.0</td>\n",
       "      <td>0.0</td>\n",
       "      <td>0.0</td>\n",
       "      <td>0.0</td>\n",
       "      <td>...</td>\n",
       "      <td>27</td>\n",
       "      <td>0</td>\n",
       "      <td>0.829626</td>\n",
       "      <td>0.279093</td>\n",
       "      <td>23.222015</td>\n",
       "      <td>7.783189</td>\n",
       "      <td>46.765087</td>\n",
       "      <td>27.660570</td>\n",
       "      <td>91.885766</td>\n",
       "      <td>16.107261</td>\n",
       "    </tr>\n",
       "    <tr>\n",
       "      <th>1086</th>\n",
       "      <td>2021-09-28</td>\n",
       "      <td>9.516108</td>\n",
       "      <td>0.0</td>\n",
       "      <td>0.0</td>\n",
       "      <td>0.0</td>\n",
       "      <td>0.0</td>\n",
       "      <td>0.0</td>\n",
       "      <td>0.0</td>\n",
       "      <td>0.0</td>\n",
       "      <td>0.0</td>\n",
       "      <td>...</td>\n",
       "      <td>28</td>\n",
       "      <td>1</td>\n",
       "      <td>6.211249</td>\n",
       "      <td>0.829626</td>\n",
       "      <td>0.279093</td>\n",
       "      <td>23.222015</td>\n",
       "      <td>7.783189</td>\n",
       "      <td>46.765087</td>\n",
       "      <td>27.660570</td>\n",
       "      <td>13.515195</td>\n",
       "    </tr>\n",
       "  </tbody>\n",
       "</table>\n",
       "<p>1082 rows × 10504 columns</p>\n",
       "</div>"
      ],
      "text/plain": [
       "           Date    Obs_Vol  aaron  aav  aayog  abaco  abakus  abandon  abat  \\\n",
       "5    2018-10-05   0.207422    0.0  0.0    0.0    0.0     0.0      0.0   0.0   \n",
       "6    2018-10-06   0.572715    0.0  0.0    0.0    0.0     0.0      0.0   0.0   \n",
       "7    2018-10-07   0.000346    0.0  0.0    0.0    0.0     0.0      0.0   0.0   \n",
       "8    2018-10-08   0.255549    0.0  0.0    0.0    0.0     0.0      0.0   0.0   \n",
       "9    2018-10-09   0.148203    0.0  0.0    0.0    0.0     0.0      0.0   0.0   \n",
       "...         ...        ...    ...  ...    ...    ...     ...      ...   ...   \n",
       "1082 2021-09-24  23.222015    0.0  0.0    0.0    0.0     0.0      0.0   0.0   \n",
       "1083 2021-09-25   0.279093    0.0  0.0    0.0    0.0     0.0      0.0   0.0   \n",
       "1084 2021-09-26   0.829626    0.0  0.0    0.0    0.0     0.0      0.0   0.0   \n",
       "1085 2021-09-27   6.211249    0.0  0.0    0.0    0.0     0.0      0.0   0.0   \n",
       "1086 2021-09-28   9.516108    0.0  0.0    0.0    0.0     0.0      0.0   0.0   \n",
       "\n",
       "      abbc  ...  Day  dayofweek_num      lag_1      lag_2      lag_3  \\\n",
       "5      0.0  ...    5              4        NaN        NaN        NaN   \n",
       "6      0.0  ...    6              5   0.207422        NaN        NaN   \n",
       "7      0.0  ...    7              6   0.572715   0.207422        NaN   \n",
       "8      0.0  ...    8              0   0.000346   0.572715   0.207422   \n",
       "9      0.0  ...    9              1   0.255549   0.000346   0.572715   \n",
       "...    ...  ...  ...            ...        ...        ...        ...   \n",
       "1082   0.0  ...   24              4   7.783189  46.765087  27.660570   \n",
       "1083   0.0  ...   25              5  23.222015   7.783189  46.765087   \n",
       "1084   0.0  ...   26              6   0.279093  23.222015   7.783189   \n",
       "1085   0.0  ...   27              0   0.829626   0.279093  23.222015   \n",
       "1086   0.0  ...   28              1   6.211249   0.829626   0.279093   \n",
       "\n",
       "          lag_4      lag_5      lag_6      lag_7  rolling_mean  \n",
       "5           NaN        NaN        NaN        NaN           NaN  \n",
       "6           NaN        NaN        NaN        NaN           NaN  \n",
       "7           NaN        NaN        NaN        NaN           NaN  \n",
       "8           NaN        NaN        NaN        NaN           NaN  \n",
       "9      0.207422        NaN        NaN        NaN           NaN  \n",
       "...         ...        ...        ...        ...           ...  \n",
       "1082  91.885766   5.521163   3.601447   1.743323     29.491320  \n",
       "1083  27.660570  91.885766   5.521163   3.601447     29.016698  \n",
       "1084  46.765087  27.660570  91.885766   5.521163     28.346478  \n",
       "1085   7.783189  46.765087  27.660570  91.885766     16.107261  \n",
       "1086  23.222015   7.783189  46.765087  27.660570     13.515195  \n",
       "\n",
       "[1082 rows x 10504 columns]"
      ]
     },
     "execution_count": 31,
     "metadata": {},
     "output_type": "execute_result"
    }
   ],
   "source": [
    "df"
   ]
  },
  {
   "cell_type": "markdown",
   "metadata": {},
   "source": [
    "## Rolling window for observed volatility"
   ]
  },
  {
   "cell_type": "code",
   "execution_count": 32,
   "metadata": {},
   "outputs": [],
   "source": [
    "df['rolling_mean'] = df['Obs_Vol'].rolling(window=7).mean()"
   ]
  },
  {
   "cell_type": "code",
   "execution_count": 33,
   "metadata": {},
   "outputs": [
    {
     "data": {
      "text/html": [
       "<div>\n",
       "<style scoped>\n",
       "    .dataframe tbody tr th:only-of-type {\n",
       "        vertical-align: middle;\n",
       "    }\n",
       "\n",
       "    .dataframe tbody tr th {\n",
       "        vertical-align: top;\n",
       "    }\n",
       "\n",
       "    .dataframe thead th {\n",
       "        text-align: right;\n",
       "    }\n",
       "</style>\n",
       "<table border=\"1\" class=\"dataframe\">\n",
       "  <thead>\n",
       "    <tr style=\"text-align: right;\">\n",
       "      <th></th>\n",
       "      <th>Date</th>\n",
       "      <th>Obs_Vol</th>\n",
       "      <th>aaron</th>\n",
       "      <th>aav</th>\n",
       "      <th>aayog</th>\n",
       "      <th>abaco</th>\n",
       "      <th>abakus</th>\n",
       "      <th>abandon</th>\n",
       "      <th>abat</th>\n",
       "      <th>abbc</th>\n",
       "      <th>...</th>\n",
       "      <th>Day</th>\n",
       "      <th>dayofweek_num</th>\n",
       "      <th>lag_1</th>\n",
       "      <th>lag_2</th>\n",
       "      <th>lag_3</th>\n",
       "      <th>lag_4</th>\n",
       "      <th>lag_5</th>\n",
       "      <th>lag_6</th>\n",
       "      <th>lag_7</th>\n",
       "      <th>rolling_mean</th>\n",
       "    </tr>\n",
       "  </thead>\n",
       "  <tbody>\n",
       "    <tr>\n",
       "      <th>5</th>\n",
       "      <td>2018-10-05</td>\n",
       "      <td>0.207422</td>\n",
       "      <td>0.0</td>\n",
       "      <td>0.0</td>\n",
       "      <td>0.0</td>\n",
       "      <td>0.0</td>\n",
       "      <td>0.0</td>\n",
       "      <td>0.0</td>\n",
       "      <td>0.0</td>\n",
       "      <td>0.0</td>\n",
       "      <td>...</td>\n",
       "      <td>5</td>\n",
       "      <td>4</td>\n",
       "      <td>NaN</td>\n",
       "      <td>NaN</td>\n",
       "      <td>NaN</td>\n",
       "      <td>NaN</td>\n",
       "      <td>NaN</td>\n",
       "      <td>NaN</td>\n",
       "      <td>NaN</td>\n",
       "      <td>NaN</td>\n",
       "    </tr>\n",
       "    <tr>\n",
       "      <th>6</th>\n",
       "      <td>2018-10-06</td>\n",
       "      <td>0.572715</td>\n",
       "      <td>0.0</td>\n",
       "      <td>0.0</td>\n",
       "      <td>0.0</td>\n",
       "      <td>0.0</td>\n",
       "      <td>0.0</td>\n",
       "      <td>0.0</td>\n",
       "      <td>0.0</td>\n",
       "      <td>0.0</td>\n",
       "      <td>...</td>\n",
       "      <td>6</td>\n",
       "      <td>5</td>\n",
       "      <td>0.207422</td>\n",
       "      <td>NaN</td>\n",
       "      <td>NaN</td>\n",
       "      <td>NaN</td>\n",
       "      <td>NaN</td>\n",
       "      <td>NaN</td>\n",
       "      <td>NaN</td>\n",
       "      <td>NaN</td>\n",
       "    </tr>\n",
       "    <tr>\n",
       "      <th>7</th>\n",
       "      <td>2018-10-07</td>\n",
       "      <td>0.000346</td>\n",
       "      <td>0.0</td>\n",
       "      <td>0.0</td>\n",
       "      <td>0.0</td>\n",
       "      <td>0.0</td>\n",
       "      <td>0.0</td>\n",
       "      <td>0.0</td>\n",
       "      <td>0.0</td>\n",
       "      <td>0.0</td>\n",
       "      <td>...</td>\n",
       "      <td>7</td>\n",
       "      <td>6</td>\n",
       "      <td>0.572715</td>\n",
       "      <td>0.207422</td>\n",
       "      <td>NaN</td>\n",
       "      <td>NaN</td>\n",
       "      <td>NaN</td>\n",
       "      <td>NaN</td>\n",
       "      <td>NaN</td>\n",
       "      <td>NaN</td>\n",
       "    </tr>\n",
       "    <tr>\n",
       "      <th>8</th>\n",
       "      <td>2018-10-08</td>\n",
       "      <td>0.255549</td>\n",
       "      <td>0.0</td>\n",
       "      <td>0.0</td>\n",
       "      <td>0.0</td>\n",
       "      <td>0.0</td>\n",
       "      <td>0.0</td>\n",
       "      <td>0.0</td>\n",
       "      <td>0.0</td>\n",
       "      <td>0.0</td>\n",
       "      <td>...</td>\n",
       "      <td>8</td>\n",
       "      <td>0</td>\n",
       "      <td>0.000346</td>\n",
       "      <td>0.572715</td>\n",
       "      <td>0.207422</td>\n",
       "      <td>NaN</td>\n",
       "      <td>NaN</td>\n",
       "      <td>NaN</td>\n",
       "      <td>NaN</td>\n",
       "      <td>NaN</td>\n",
       "    </tr>\n",
       "    <tr>\n",
       "      <th>9</th>\n",
       "      <td>2018-10-09</td>\n",
       "      <td>0.148203</td>\n",
       "      <td>0.0</td>\n",
       "      <td>0.0</td>\n",
       "      <td>0.0</td>\n",
       "      <td>0.0</td>\n",
       "      <td>0.0</td>\n",
       "      <td>0.0</td>\n",
       "      <td>0.0</td>\n",
       "      <td>0.0</td>\n",
       "      <td>...</td>\n",
       "      <td>9</td>\n",
       "      <td>1</td>\n",
       "      <td>0.255549</td>\n",
       "      <td>0.000346</td>\n",
       "      <td>0.572715</td>\n",
       "      <td>0.207422</td>\n",
       "      <td>NaN</td>\n",
       "      <td>NaN</td>\n",
       "      <td>NaN</td>\n",
       "      <td>NaN</td>\n",
       "    </tr>\n",
       "    <tr>\n",
       "      <th>...</th>\n",
       "      <td>...</td>\n",
       "      <td>...</td>\n",
       "      <td>...</td>\n",
       "      <td>...</td>\n",
       "      <td>...</td>\n",
       "      <td>...</td>\n",
       "      <td>...</td>\n",
       "      <td>...</td>\n",
       "      <td>...</td>\n",
       "      <td>...</td>\n",
       "      <td>...</td>\n",
       "      <td>...</td>\n",
       "      <td>...</td>\n",
       "      <td>...</td>\n",
       "      <td>...</td>\n",
       "      <td>...</td>\n",
       "      <td>...</td>\n",
       "      <td>...</td>\n",
       "      <td>...</td>\n",
       "      <td>...</td>\n",
       "      <td>...</td>\n",
       "    </tr>\n",
       "    <tr>\n",
       "      <th>1082</th>\n",
       "      <td>2021-09-24</td>\n",
       "      <td>23.222015</td>\n",
       "      <td>0.0</td>\n",
       "      <td>0.0</td>\n",
       "      <td>0.0</td>\n",
       "      <td>0.0</td>\n",
       "      <td>0.0</td>\n",
       "      <td>0.0</td>\n",
       "      <td>0.0</td>\n",
       "      <td>0.0</td>\n",
       "      <td>...</td>\n",
       "      <td>24</td>\n",
       "      <td>4</td>\n",
       "      <td>7.783189</td>\n",
       "      <td>46.765087</td>\n",
       "      <td>27.660570</td>\n",
       "      <td>91.885766</td>\n",
       "      <td>5.521163</td>\n",
       "      <td>3.601447</td>\n",
       "      <td>1.743323</td>\n",
       "      <td>29.491320</td>\n",
       "    </tr>\n",
       "    <tr>\n",
       "      <th>1083</th>\n",
       "      <td>2021-09-25</td>\n",
       "      <td>0.279093</td>\n",
       "      <td>0.0</td>\n",
       "      <td>0.0</td>\n",
       "      <td>0.0</td>\n",
       "      <td>0.0</td>\n",
       "      <td>0.0</td>\n",
       "      <td>0.0</td>\n",
       "      <td>0.0</td>\n",
       "      <td>0.0</td>\n",
       "      <td>...</td>\n",
       "      <td>25</td>\n",
       "      <td>5</td>\n",
       "      <td>23.222015</td>\n",
       "      <td>7.783189</td>\n",
       "      <td>46.765087</td>\n",
       "      <td>27.660570</td>\n",
       "      <td>91.885766</td>\n",
       "      <td>5.521163</td>\n",
       "      <td>3.601447</td>\n",
       "      <td>29.016698</td>\n",
       "    </tr>\n",
       "    <tr>\n",
       "      <th>1084</th>\n",
       "      <td>2021-09-26</td>\n",
       "      <td>0.829626</td>\n",
       "      <td>0.0</td>\n",
       "      <td>0.0</td>\n",
       "      <td>0.0</td>\n",
       "      <td>0.0</td>\n",
       "      <td>0.0</td>\n",
       "      <td>0.0</td>\n",
       "      <td>0.0</td>\n",
       "      <td>0.0</td>\n",
       "      <td>...</td>\n",
       "      <td>26</td>\n",
       "      <td>6</td>\n",
       "      <td>0.279093</td>\n",
       "      <td>23.222015</td>\n",
       "      <td>7.783189</td>\n",
       "      <td>46.765087</td>\n",
       "      <td>27.660570</td>\n",
       "      <td>91.885766</td>\n",
       "      <td>5.521163</td>\n",
       "      <td>28.346478</td>\n",
       "    </tr>\n",
       "    <tr>\n",
       "      <th>1085</th>\n",
       "      <td>2021-09-27</td>\n",
       "      <td>6.211249</td>\n",
       "      <td>0.0</td>\n",
       "      <td>0.0</td>\n",
       "      <td>0.0</td>\n",
       "      <td>0.0</td>\n",
       "      <td>0.0</td>\n",
       "      <td>0.0</td>\n",
       "      <td>0.0</td>\n",
       "      <td>0.0</td>\n",
       "      <td>...</td>\n",
       "      <td>27</td>\n",
       "      <td>0</td>\n",
       "      <td>0.829626</td>\n",
       "      <td>0.279093</td>\n",
       "      <td>23.222015</td>\n",
       "      <td>7.783189</td>\n",
       "      <td>46.765087</td>\n",
       "      <td>27.660570</td>\n",
       "      <td>91.885766</td>\n",
       "      <td>16.107261</td>\n",
       "    </tr>\n",
       "    <tr>\n",
       "      <th>1086</th>\n",
       "      <td>2021-09-28</td>\n",
       "      <td>9.516108</td>\n",
       "      <td>0.0</td>\n",
       "      <td>0.0</td>\n",
       "      <td>0.0</td>\n",
       "      <td>0.0</td>\n",
       "      <td>0.0</td>\n",
       "      <td>0.0</td>\n",
       "      <td>0.0</td>\n",
       "      <td>0.0</td>\n",
       "      <td>...</td>\n",
       "      <td>28</td>\n",
       "      <td>1</td>\n",
       "      <td>6.211249</td>\n",
       "      <td>0.829626</td>\n",
       "      <td>0.279093</td>\n",
       "      <td>23.222015</td>\n",
       "      <td>7.783189</td>\n",
       "      <td>46.765087</td>\n",
       "      <td>27.660570</td>\n",
       "      <td>13.515195</td>\n",
       "    </tr>\n",
       "  </tbody>\n",
       "</table>\n",
       "<p>1082 rows × 10504 columns</p>\n",
       "</div>"
      ],
      "text/plain": [
       "           Date    Obs_Vol  aaron  aav  aayog  abaco  abakus  abandon  abat  \\\n",
       "5    2018-10-05   0.207422    0.0  0.0    0.0    0.0     0.0      0.0   0.0   \n",
       "6    2018-10-06   0.572715    0.0  0.0    0.0    0.0     0.0      0.0   0.0   \n",
       "7    2018-10-07   0.000346    0.0  0.0    0.0    0.0     0.0      0.0   0.0   \n",
       "8    2018-10-08   0.255549    0.0  0.0    0.0    0.0     0.0      0.0   0.0   \n",
       "9    2018-10-09   0.148203    0.0  0.0    0.0    0.0     0.0      0.0   0.0   \n",
       "...         ...        ...    ...  ...    ...    ...     ...      ...   ...   \n",
       "1082 2021-09-24  23.222015    0.0  0.0    0.0    0.0     0.0      0.0   0.0   \n",
       "1083 2021-09-25   0.279093    0.0  0.0    0.0    0.0     0.0      0.0   0.0   \n",
       "1084 2021-09-26   0.829626    0.0  0.0    0.0    0.0     0.0      0.0   0.0   \n",
       "1085 2021-09-27   6.211249    0.0  0.0    0.0    0.0     0.0      0.0   0.0   \n",
       "1086 2021-09-28   9.516108    0.0  0.0    0.0    0.0     0.0      0.0   0.0   \n",
       "\n",
       "      abbc  ...  Day  dayofweek_num      lag_1      lag_2      lag_3  \\\n",
       "5      0.0  ...    5              4        NaN        NaN        NaN   \n",
       "6      0.0  ...    6              5   0.207422        NaN        NaN   \n",
       "7      0.0  ...    7              6   0.572715   0.207422        NaN   \n",
       "8      0.0  ...    8              0   0.000346   0.572715   0.207422   \n",
       "9      0.0  ...    9              1   0.255549   0.000346   0.572715   \n",
       "...    ...  ...  ...            ...        ...        ...        ...   \n",
       "1082   0.0  ...   24              4   7.783189  46.765087  27.660570   \n",
       "1083   0.0  ...   25              5  23.222015   7.783189  46.765087   \n",
       "1084   0.0  ...   26              6   0.279093  23.222015   7.783189   \n",
       "1085   0.0  ...   27              0   0.829626   0.279093  23.222015   \n",
       "1086   0.0  ...   28              1   6.211249   0.829626   0.279093   \n",
       "\n",
       "          lag_4      lag_5      lag_6      lag_7  rolling_mean  \n",
       "5           NaN        NaN        NaN        NaN           NaN  \n",
       "6           NaN        NaN        NaN        NaN           NaN  \n",
       "7           NaN        NaN        NaN        NaN           NaN  \n",
       "8           NaN        NaN        NaN        NaN           NaN  \n",
       "9      0.207422        NaN        NaN        NaN           NaN  \n",
       "...         ...        ...        ...        ...           ...  \n",
       "1082  91.885766   5.521163   3.601447   1.743323     29.491320  \n",
       "1083  27.660570  91.885766   5.521163   3.601447     29.016698  \n",
       "1084  46.765087  27.660570  91.885766   5.521163     28.346478  \n",
       "1085   7.783189  46.765087  27.660570  91.885766     16.107261  \n",
       "1086  23.222015   7.783189  46.765087  27.660570     13.515195  \n",
       "\n",
       "[1082 rows x 10504 columns]"
      ]
     },
     "execution_count": 33,
     "metadata": {},
     "output_type": "execute_result"
    }
   ],
   "source": [
    "df"
   ]
  },
  {
   "cell_type": "markdown",
   "metadata": {},
   "source": [
    "## Lag tuning for LightGBM"
   ]
  },
  {
   "cell_type": "code",
   "execution_count": 35,
   "metadata": {
    "scrolled": true,
    "tags": []
   },
   "outputs": [
    {
     "name": "stdout",
     "output_type": "stream",
     "text": [
      "lag1_df\n"
     ]
    },
    {
     "name": "stderr",
     "output_type": "stream",
     "text": [
      "/opt/conda/lib/python3.7/site-packages/lightgbm/sklearn.py:736: UserWarning: 'verbose' argument is deprecated and will be removed in a future release of LightGBM. Pass 'log_evaluation()' callback via 'callbacks' argument instead.\n",
      "  _log_warning(\"'verbose' argument is deprecated and will be removed in a future release of LightGBM. \"\n"
     ]
    },
    {
     "name": "stdout",
     "output_type": "stream",
     "text": [
      "[20]\tvalid_0's l2: 36.8538\tvalid_1's l2: 2715.7\n",
      "[40]\tvalid_0's l2: 38.4458\tvalid_1's l2: 2635.61\n",
      "[60]\tvalid_0's l2: 40.18\tvalid_1's l2: 2564.15\n",
      "[80]\tvalid_0's l2: 44.8708\tvalid_1's l2: 2499.31\n",
      "[100]\tvalid_0's l2: 48.6151\tvalid_1's l2: 2445.64\n",
      "MAE: 6.972\n",
      "MSE: 48.615\n"
     ]
    },
    {
     "data": {
      "image/png": "[encoded data removed]",
      "text/plain": [
       "<Figure size 432x288 with 1 Axes>"
      ]
     },
     "metadata": {
      "needs_background": "light"
     },
     "output_type": "display_data"
    },
    {
     "name": "stdout",
     "output_type": "stream",
     "text": [
      "lag2_df\n"
     ]
    },
    {
     "name": "stderr",
     "output_type": "stream",
     "text": [
      "/opt/conda/lib/python3.7/site-packages/lightgbm/sklearn.py:736: UserWarning: 'verbose' argument is deprecated and will be removed in a future release of LightGBM. Pass 'log_evaluation()' callback via 'callbacks' argument instead.\n",
      "  _log_warning(\"'verbose' argument is deprecated and will be removed in a future release of LightGBM. \"\n"
     ]
    },
    {
     "name": "stdout",
     "output_type": "stream",
     "text": [
      "[20]\tvalid_0's l2: 58.1478\tvalid_1's l2: 2718.4\n",
      "[40]\tvalid_0's l2: 56.2932\tvalid_1's l2: 2637.43\n",
      "[60]\tvalid_0's l2: 55.6064\tvalid_1's l2: 2564.44\n",
      "[80]\tvalid_0's l2: 57.2037\tvalid_1's l2: 2501.43\n",
      "[100]\tvalid_0's l2: 59.3297\tvalid_1's l2: 2446.16\n",
      "MAE: 7.589\n",
      "MSE: 59.330\n"
     ]
    },
    {
     "data": {
      "image/png": "[encoded data removed]",
      "text/plain": [
       "<Figure size 432x288 with 1 Axes>"
      ]
     },
     "metadata": {
      "needs_background": "light"
     },
     "output_type": "display_data"
    },
    {
     "name": "stdout",
     "output_type": "stream",
     "text": [
      "lag3_df\n"
     ]
    },
    {
     "name": "stderr",
     "output_type": "stream",
     "text": [
      "/opt/conda/lib/python3.7/site-packages/lightgbm/sklearn.py:736: UserWarning: 'verbose' argument is deprecated and will be removed in a future release of LightGBM. Pass 'log_evaluation()' callback via 'callbacks' argument instead.\n",
      "  _log_warning(\"'verbose' argument is deprecated and will be removed in a future release of LightGBM. \"\n"
     ]
    },
    {
     "name": "stdout",
     "output_type": "stream",
     "text": [
      "[20]\tvalid_0's l2: 115.165\tvalid_1's l2: 2723.74\n",
      "[40]\tvalid_0's l2: 135.947\tvalid_1's l2: 2644.02\n",
      "[60]\tvalid_0's l2: 160.873\tvalid_1's l2: 2569.12\n",
      "[80]\tvalid_0's l2: 196.359\tvalid_1's l2: 2504.18\n",
      "[100]\tvalid_0's l2: 219.576\tvalid_1's l2: 2447.42\n",
      "MAE: 12.735\n",
      "MSE: 219.576\n"
     ]
    },
    {
     "data": {
      "image/png": "[encoded data removed]",
      "text/plain": [
       "<Figure size 432x288 with 1 Axes>"
      ]
     },
     "metadata": {
      "needs_background": "light"
     },
     "output_type": "display_data"
    },
    {
     "name": "stdout",
     "output_type": "stream",
     "text": [
      "lag4_df\n"
     ]
    },
    {
     "name": "stderr",
     "output_type": "stream",
     "text": [
      "/opt/conda/lib/python3.7/site-packages/lightgbm/sklearn.py:736: UserWarning: 'verbose' argument is deprecated and will be removed in a future release of LightGBM. Pass 'log_evaluation()' callback via 'callbacks' argument instead.\n",
      "  _log_warning(\"'verbose' argument is deprecated and will be removed in a future release of LightGBM. \"\n"
     ]
    },
    {
     "name": "stdout",
     "output_type": "stream",
     "text": [
      "[20]\tvalid_0's l2: 172.71\tvalid_1's l2: 2728.64\n",
      "[40]\tvalid_0's l2: 192.332\tvalid_1's l2: 2648.57\n",
      "[60]\tvalid_0's l2: 229.101\tvalid_1's l2: 2577.34\n",
      "[80]\tvalid_0's l2: 289.535\tvalid_1's l2: 2513.9\n",
      "[100]\tvalid_0's l2: 345.619\tvalid_1's l2: 2460.38\n",
      "MAE: 16.392\n",
      "MSE: 345.619\n"
     ]
    },
    {
     "data": {
      "image/png": "[encoded data removed]",
      "text/plain": [
       "<Figure size 432x288 with 1 Axes>"
      ]
     },
     "metadata": {
      "needs_background": "light"
     },
     "output_type": "display_data"
    },
    {
     "name": "stdout",
     "output_type": "stream",
     "text": [
      "lag5_df\n"
     ]
    },
    {
     "name": "stderr",
     "output_type": "stream",
     "text": [
      "/opt/conda/lib/python3.7/site-packages/lightgbm/sklearn.py:736: UserWarning: 'verbose' argument is deprecated and will be removed in a future release of LightGBM. Pass 'log_evaluation()' callback via 'callbacks' argument instead.\n",
      "  _log_warning(\"'verbose' argument is deprecated and will be removed in a future release of LightGBM. \"\n"
     ]
    },
    {
     "name": "stdout",
     "output_type": "stream",
     "text": [
      "[20]\tvalid_0's l2: 146.782\tvalid_1's l2: 2729.84\n",
      "[40]\tvalid_0's l2: 174.291\tvalid_1's l2: 2648.05\n",
      "[60]\tvalid_0's l2: 213.814\tvalid_1's l2: 2576.61\n",
      "[80]\tvalid_0's l2: 263.667\tvalid_1's l2: 2514.91\n",
      "[100]\tvalid_0's l2: 315.934\tvalid_1's l2: 2462.57\n",
      "MAE: 14.161\n",
      "MSE: 315.934\n"
     ]
    },
    {
     "data": {
      "image/png": "[encoded data removed]",
      "text/plain": [
       "<Figure size 432x288 with 1 Axes>"
      ]
     },
     "metadata": {
      "needs_background": "light"
     },
     "output_type": "display_data"
    },
    {
     "name": "stdout",
     "output_type": "stream",
     "text": [
      "lag6_df\n"
     ]
    },
    {
     "name": "stderr",
     "output_type": "stream",
     "text": [
      "/opt/conda/lib/python3.7/site-packages/lightgbm/sklearn.py:736: UserWarning: 'verbose' argument is deprecated and will be removed in a future release of LightGBM. Pass 'log_evaluation()' callback via 'callbacks' argument instead.\n",
      "  _log_warning(\"'verbose' argument is deprecated and will be removed in a future release of LightGBM. \"\n"
     ]
    },
    {
     "name": "stdout",
     "output_type": "stream",
     "text": [
      "[20]\tvalid_0's l2: 131.696\tvalid_1's l2: 2729.95\n",
      "[40]\tvalid_0's l2: 157.553\tvalid_1's l2: 2645.22\n",
      "[60]\tvalid_0's l2: 179.629\tvalid_1's l2: 2575.61\n",
      "[80]\tvalid_0's l2: 190.399\tvalid_1's l2: 2512.61\n",
      "[100]\tvalid_0's l2: 191.677\tvalid_1's l2: 2455.7\n",
      "MAE: 12.448\n",
      "MSE: 191.677\n"
     ]
    },
    {
     "data": {
      "image/png": "[encoded data removed]",
      "text/plain": [
       "<Figure size 432x288 with 1 Axes>"
      ]
     },
     "metadata": {
      "needs_background": "light"
     },
     "output_type": "display_data"
    },
    {
     "name": "stdout",
     "output_type": "stream",
     "text": [
      "lag7_df\n"
     ]
    },
    {
     "name": "stderr",
     "output_type": "stream",
     "text": [
      "/opt/conda/lib/python3.7/site-packages/lightgbm/sklearn.py:736: UserWarning: 'verbose' argument is deprecated and will be removed in a future release of LightGBM. Pass 'log_evaluation()' callback via 'callbacks' argument instead.\n",
      "  _log_warning(\"'verbose' argument is deprecated and will be removed in a future release of LightGBM. \"\n"
     ]
    },
    {
     "name": "stdout",
     "output_type": "stream",
     "text": [
      "[20]\tvalid_0's l2: 254.196\tvalid_1's l2: 2735.71\n",
      "[40]\tvalid_0's l2: 268.253\tvalid_1's l2: 2651.58\n",
      "[60]\tvalid_0's l2: 288.006\tvalid_1's l2: 2580.37\n",
      "[80]\tvalid_0's l2: 317.938\tvalid_1's l2: 2516.94\n",
      "[100]\tvalid_0's l2: 343.97\tvalid_1's l2: 2463.04\n",
      "MAE: 15.017\n",
      "MSE: 343.970\n"
     ]
    },
    {
     "data": {
      "image/png": "[encoded data removed]",
      "text/plain": [
       "<Figure size 432x288 with 1 Axes>"
      ]
     },
     "metadata": {
      "needs_background": "light"
     },
     "output_type": "display_data"
    },
    {
     "name": "stdout",
     "output_type": "stream",
     "text": [
      "lag8_df\n"
     ]
    },
    {
     "name": "stderr",
     "output_type": "stream",
     "text": [
      "/opt/conda/lib/python3.7/site-packages/lightgbm/sklearn.py:736: UserWarning: 'verbose' argument is deprecated and will be removed in a future release of LightGBM. Pass 'log_evaluation()' callback via 'callbacks' argument instead.\n",
      "  _log_warning(\"'verbose' argument is deprecated and will be removed in a future release of LightGBM. \"\n"
     ]
    },
    {
     "name": "stdout",
     "output_type": "stream",
     "text": [
      "[20]\tvalid_0's l2: 251.801\tvalid_1's l2: 2745.15\n",
      "[40]\tvalid_0's l2: 269.161\tvalid_1's l2: 2663.88\n",
      "[60]\tvalid_0's l2: 289.122\tvalid_1's l2: 2591.84\n",
      "[80]\tvalid_0's l2: 330.281\tvalid_1's l2: 2530.22\n",
      "[100]\tvalid_0's l2: 372.821\tvalid_1's l2: 2478.04\n",
      "MAE: 14.848\n",
      "MSE: 372.821\n"
     ]
    },
    {
     "data": {
      "image/png": "[encoded data removed]",
      "text/plain": [
       "<Figure size 432x288 with 1 Axes>"
      ]
     },
     "metadata": {
      "needs_background": "light"
     },
     "output_type": "display_data"
    },
    {
     "name": "stdout",
     "output_type": "stream",
     "text": [
      "lag9_df\n"
     ]
    },
    {
     "name": "stderr",
     "output_type": "stream",
     "text": [
      "/opt/conda/lib/python3.7/site-packages/lightgbm/sklearn.py:736: UserWarning: 'verbose' argument is deprecated and will be removed in a future release of LightGBM. Pass 'log_evaluation()' callback via 'callbacks' argument instead.\n",
      "  _log_warning(\"'verbose' argument is deprecated and will be removed in a future release of LightGBM. \"\n"
     ]
    },
    {
     "name": "stdout",
     "output_type": "stream",
     "text": [
      "[20]\tvalid_0's l2: 840.471\tvalid_1's l2: 2748.32\n",
      "[40]\tvalid_0's l2: 837.151\tvalid_1's l2: 2670.97\n",
      "[60]\tvalid_0's l2: 838.531\tvalid_1's l2: 2601.1\n",
      "[80]\tvalid_0's l2: 843.259\tvalid_1's l2: 2532.19\n",
      "[100]\tvalid_0's l2: 858.337\tvalid_1's l2: 2473\n",
      "MAE: 21.175\n",
      "MSE: 858.337\n"
     ]
    },
    {
     "data": {
      "image/png": "[encoded data removed]",
      "text/plain": [
       "<Figure size 432x288 with 1 Axes>"
      ]
     },
     "metadata": {
      "needs_background": "light"
     },
     "output_type": "display_data"
    },
    {
     "data": {
      "image/png": "[encoded data removed]",
      "text/plain": [
       "<Figure size 432x288 with 1 Axes>"
      ]
     },
     "metadata": {
      "needs_background": "light"
     },
     "output_type": "display_data"
    }
   ],
   "source": [
    "lag_score_df = pd.DataFrame(columns = [\"lag\", \"mae\"])\n",
    "lag_model_dict = {}\n",
    "for lag in lag_dict.keys():\n",
    "    print(lag)\n",
    "    df = lag_dict[lag]\n",
    "    \n",
    "    df['Date'] = pd.to_datetime(df['Date'])\n",
    "    df['Year'] = df['Date'].dt.year \n",
    "    df['Month'] = df['Date'].dt.month \n",
    "    df['Day'] = df['Date'].dt.day\n",
    "    df['dayofweek_num'] = df['Date'].dt.dayofweek\n",
    "    \n",
    "    df = get_lags(1, 8, df)\n",
    "    df['rolling_mean'] = df['Obs_Vol'].rolling(window=7).mean()\n",
    "    \n",
    "    df = df.dropna()\n",
    "    df1 = df.iloc[:, 3:]\n",
    "    \n",
    "    lag_no = int(lag[3])\n",
    "    train = df[:-(lag_no)].dropna()\n",
    "    test = df[-(lag_no):].dropna()\n",
    "    \n",
    "    lgb_model = lgb.LGBMRegressor(learning_rate=0.005,max_depth=5,random_state=42)\n",
    "    lag_model_dict[\"model_lag{}\".format(str(lag_no))] = lgb_model.fit(train[df1.columns], train[\"Obs_Vol\"], eval_set=[(test[df1.columns], test[\"Obs_Vol\"]),(train[df1.columns], train[\"Obs_Vol\"])],\n",
    "      verbose=20,eval_metric='logloss')\n",
    "    \n",
    "    y_pred = lgb_model.predict(test[df1.columns])\n",
    "    mae = mean_absolute_error(test[\"Obs_Vol\"], y_pred)\n",
    "    mse = mean_squared_error(test[\"Obs_Vol\"], y_pred)\n",
    "    print('MAE: %.3f' % mae)\n",
    "    print('MSE: %.3f' % mse)\n",
    "    \n",
    "    # Plotting estimated Random Forest volatility against actual volatility\n",
    "    pred_vol = pd.DataFrame(y_pred)\n",
    "    pred_vol.index = test['Date']\n",
    "    pred_vol = pred_vol.rename(columns={0: \"Volatility\"})\n",
    "\n",
    "    actual_vol = pd.DataFrame(test['Obs_Vol'])\n",
    "    actual_vol.index = test['Date']\n",
    "\n",
    "    # Plot the actual Bitcoin volatility\n",
    "    # plt.gca().xaxis.set_major_locator(mdates.DayLocator(interval=1))\n",
    "    plt.plot(actual_vol['Obs_Vol'], color = 'grey', alpha = 0.4, label = 'Actual Volatility')\n",
    "\n",
    "    # Plot Random Forest estimated volatility\n",
    "    plt.plot(pred_vol['Volatility'], color = 'blue', label = 'Random Forest Volatility')\n",
    "\n",
    "    plt.legend(loc = 'upper right')\n",
    "    plt.show()\n",
    "    \n",
    "    lag_score_df = lag_score_df.append({\"lag\": lag_no, \"mae\": mae}, ignore_index=True)\n",
    "plt.plot(lag_score_df[\"lag\"], lag_score_df[\"mae\"], 'go-', linewidth=2)\n",
    "plt.xlabel(\"lag\")\n",
    "plt.ylabel(\"mae\")\n",
    "plt.show()"
   ]
  },
  {
   "cell_type": "code",
   "execution_count": 36,
   "metadata": {},
   "outputs": [
    {
     "data": {
      "text/plain": [
       "LGBMRegressor(learning_rate=0.005, max_depth=5, random_state=42)"
      ]
     },
     "execution_count": 36,
     "metadata": {},
     "output_type": "execute_result"
    }
   ],
   "source": [
    "lag_model_dict['model_lag6']"
   ]
  },
  {
   "cell_type": "markdown",
   "metadata": {},
   "source": [
    "## Hyperparameter tuning and lag tuning for LightGBM"
   ]
  },
  {
   "cell_type": "code",
   "execution_count": 38,
   "metadata": {},
   "outputs": [],
   "source": [
    "# param_grid ={'num_leaves': [6,10], \n",
    "#              'min_child_samples': [100, 200, 500], \n",
    "#              'min_child_weight': [0.1, 1, 5],\n",
    "#              'subsample': [0.6, 1.0], \n",
    "#              'colsample_bytree': [0.6, 1.0],\n",
    "#              'reg_alpha': [0, 1, 5],\n",
    "#              'reg_lambda': [0, 1, 5]}"
   ]
  },
  {
   "cell_type": "code",
   "execution_count": 37,
   "metadata": {},
   "outputs": [],
   "source": [
    "param_grid ={'num_leaves': [6,10], \n",
    "             'min_child_samples': [100, 200], \n",
    "             'min_child_weight': [0.1, 1],\n",
    "             'subsample': [0.6, 1.0], \n",
    "             'colsample_bytree': [0.6, 1.0],\n",
    "             'reg_alpha': [0, 1],\n",
    "             'reg_lambda': [0, 1]}"
   ]
  },
  {
   "cell_type": "code",
   "execution_count": 38,
   "metadata": {},
   "outputs": [],
   "source": [
    "def lgbm_tuning(param_grid):\n",
    "    lag_score_df = pd.DataFrame(columns = [\"lag\", \"mae\"])\n",
    "    for lag in lag_dict.keys():\n",
    "        print(lag)\n",
    "        df = lag_dict[lag]\n",
    "\n",
    "        df['Date'] = pd.to_datetime(df['Date'])\n",
    "        df['Year'] = df['Date'].dt.year \n",
    "        df['Month'] = df['Date'].dt.month \n",
    "        df['Day'] = df['Date'].dt.day\n",
    "        df['dayofweek_num'] = df['Date'].dt.dayofweek\n",
    "\n",
    "        df = get_lags(1, 8, df)\n",
    "        df['rolling_mean'] = df['Obs_Vol'].rolling(window=7).mean()\n",
    "\n",
    "        df = df.dropna()\n",
    "        df1 = df.iloc[:, 3:]\n",
    "\n",
    "        lag_no = int(lag[3])\n",
    "        train = df[:-(lag_no)].dropna()\n",
    "        test = df[-(lag_no):].dropna()\n",
    "        \n",
    "        # Hyperparameter tuning\n",
    "        n_folds = 5\n",
    "\n",
    "        lgb_model = GridSearchCV(estimator=lgb.LGBMRegressor(),\n",
    "                                    param_grid=param_grid,\n",
    "                                    cv=KFold(n_splits=n_folds,\n",
    "                                            shuffle=True),\n",
    "                                     scoring=\"neg_mean_squared_error\")\n",
    "        \n",
    "        lgb_model.fit(train[df1.columns], train[\"Obs_Vol\"], eval_set=[(test[df1.columns], test[\"Obs_Vol\"]),(train[df1.columns], train[\"Obs_Vol\"])],\n",
    "          verbose=20,eval_metric='logloss')\n",
    "\n",
    "        y_pred = lgb_model.predict(test[df1.columns])\n",
    "        mae = mean_absolute_error(test[\"Obs_Vol\"], y_pred)\n",
    "        mse = mean_squared_error(test[\"Obs_Vol\"], y_pred)\n",
    "        print('MAE: %.3f' % mae)\n",
    "        print('MSE: %.3f' % mse)\n",
    "\n",
    "        # Plotting estimated Random Forest volatility against actual volatility\n",
    "        pred_vol = pd.DataFrame(y_pred)\n",
    "        pred_vol.index = test['Date']\n",
    "        pred_vol = pred_vol.rename(columns={0: \"Volatility\"})\n",
    "\n",
    "        actual_vol = pd.DataFrame(test['Obs_Vol'])\n",
    "        actual_vol.index = test['Date']\n",
    "\n",
    "        # Plot the actual Bitcoin volatility\n",
    "        # plt.gca().xaxis.set_major_locator(mdates.DayLocator(interval=1))\n",
    "        plt.plot(actual_vol['Obs_Vol'], color = 'grey', alpha = 0.4, label = 'Actual Volatility')\n",
    "\n",
    "        # Plot Random Forest estimated volatility\n",
    "        plt.plot(pred_vol['Volatility'], color = 'blue', label = 'Random Forest Volatility')\n",
    "\n",
    "        plt.legend(loc = 'upper right')\n",
    "        plt.show()\n",
    "\n",
    "        lag_score_df = lag_score_df.append({\"lag\": lag_no, \"mae\": mae}, ignore_index=True)\n",
    "    plt.plot(lag_score_df[\"lag\"], lag_score_df[\"mae\"], 'go-', linewidth=2)\n",
    "    plt.xlabel(\"lag\")\n",
    "    plt.ylabel(\"mae\")\n",
    "    plt.show()\n",
    "    return model_dict, lag_score_df"
   ]
  },
  {
   "cell_type": "code",
   "execution_count": null,
   "metadata": {},
   "outputs": [
    {
     "name": "stdout",
     "output_type": "stream",
     "text": [
      "lag1_df\n"
     ]
    },
    {
     "name": "stderr",
     "output_type": "stream",
     "text": [
      "/opt/conda/lib/python3.7/site-packages/lightgbm/sklearn.py:736: UserWarning: 'verbose' argument is deprecated and will be removed in a future release of LightGBM. Pass 'log_evaluation()' callback via 'callbacks' argument instead.\n",
      "  _log_warning(\"'verbose' argument is deprecated and will be removed in a future release of LightGBM. \"\n"
     ]
    },
    {
     "name": "stdout",
     "output_type": "stream",
     "text": [
      "[20]\tvalid_0's l2: 46.9026\tvalid_1's l2: 2488.75\n",
      "[40]\tvalid_0's l2: 33.2656\tvalid_1's l2: 2359.21\n",
      "[60]\tvalid_0's l2: 24.007\tvalid_1's l2: 2257.04\n",
      "[80]\tvalid_0's l2: 4.51269\tvalid_1's l2: 2173.73\n",
      "[100]\tvalid_0's l2: 4.90926\tvalid_1's l2: 2107.36\n"
     ]
    },
    {
     "name": "stderr",
     "output_type": "stream",
     "text": [
      "/opt/conda/lib/python3.7/site-packages/lightgbm/sklearn.py:736: UserWarning: 'verbose' argument is deprecated and will be removed in a future release of LightGBM. Pass 'log_evaluation()' callback via 'callbacks' argument instead.\n",
      "  _log_warning(\"'verbose' argument is deprecated and will be removed in a future release of LightGBM. \"\n"
     ]
    },
    {
     "name": "stdout",
     "output_type": "stream",
     "text": [
      "[20]\tvalid_0's l2: 109.345\tvalid_1's l2: 2457.31\n",
      "[40]\tvalid_0's l2: 139.147\tvalid_1's l2: 2334.13\n",
      "[60]\tvalid_0's l2: 103.281\tvalid_1's l2: 2233.45\n",
      "[80]\tvalid_0's l2: 73.7962\tvalid_1's l2: 2151.42\n",
      "[100]\tvalid_0's l2: 31.511\tvalid_1's l2: 2078.81\n"
     ]
    },
    {
     "name": "stderr",
     "output_type": "stream",
     "text": [
      "/opt/conda/lib/python3.7/site-packages/lightgbm/sklearn.py:736: UserWarning: 'verbose' argument is deprecated and will be removed in a future release of LightGBM. Pass 'log_evaluation()' callback via 'callbacks' argument instead.\n",
      "  _log_warning(\"'verbose' argument is deprecated and will be removed in a future release of LightGBM. \"\n"
     ]
    },
    {
     "name": "stdout",
     "output_type": "stream",
     "text": [
      "[20]\tvalid_0's l2: 18.3181\tvalid_1's l2: 2487.28\n",
      "[40]\tvalid_0's l2: 10.0431\tvalid_1's l2: 2335.69\n",
      "[60]\tvalid_0's l2: 3.79222\tvalid_1's l2: 2224.6\n",
      "[80]\tvalid_0's l2: 46.2776\tvalid_1's l2: 2142.74\n",
      "[100]\tvalid_0's l2: 105.183\tvalid_1's l2: 2067.7\n"
     ]
    },
    {
     "name": "stderr",
     "output_type": "stream",
     "text": [
      "/opt/conda/lib/python3.7/site-packages/lightgbm/sklearn.py:736: UserWarning: 'verbose' argument is deprecated and will be removed in a future release of LightGBM. Pass 'log_evaluation()' callback via 'callbacks' argument instead.\n",
      "  _log_warning(\"'verbose' argument is deprecated and will be removed in a future release of LightGBM. \"\n"
     ]
    },
    {
     "name": "stdout",
     "output_type": "stream",
     "text": [
      "[20]\tvalid_0's l2: 12.213\tvalid_1's l2: 2464.71\n",
      "[40]\tvalid_0's l2: 1.3853\tvalid_1's l2: 2315.79\n",
      "[60]\tvalid_0's l2: 1.86975\tvalid_1's l2: 2207.47\n",
      "[80]\tvalid_0's l2: 6.16323\tvalid_1's l2: 2114.54\n",
      "[100]\tvalid_0's l2: 16.55\tvalid_1's l2: 2040.98\n"
     ]
    },
    {
     "name": "stderr",
     "output_type": "stream",
     "text": [
      "/opt/conda/lib/python3.7/site-packages/lightgbm/sklearn.py:736: UserWarning: 'verbose' argument is deprecated and will be removed in a future release of LightGBM. Pass 'log_evaluation()' callback via 'callbacks' argument instead.\n",
      "  _log_warning(\"'verbose' argument is deprecated and will be removed in a future release of LightGBM. \"\n"
     ]
    },
    {
     "name": "stdout",
     "output_type": "stream",
     "text": [
      "[20]\tvalid_0's l2: 17.6977\tvalid_1's l2: 2556.51\n",
      "[40]\tvalid_0's l2: 43.7782\tvalid_1's l2: 2429.76\n",
      "[60]\tvalid_0's l2: 70.8551\tvalid_1's l2: 2348.56\n",
      "[80]\tvalid_0's l2: 45.1713\tvalid_1's l2: 2267.79\n",
      "[100]\tvalid_0's l2: 30.2949\tvalid_1's l2: 2220.34\n"
     ]
    },
    {
     "name": "stderr",
     "output_type": "stream",
     "text": [
      "/opt/conda/lib/python3.7/site-packages/lightgbm/sklearn.py:736: UserWarning: 'verbose' argument is deprecated and will be removed in a future release of LightGBM. Pass 'log_evaluation()' callback via 'callbacks' argument instead.\n",
      "  _log_warning(\"'verbose' argument is deprecated and will be removed in a future release of LightGBM. \"\n"
     ]
    },
    {
     "name": "stdout",
     "output_type": "stream",
     "text": [
      "[20]\tvalid_0's l2: 46.9026\tvalid_1's l2: 2488.75\n",
      "[40]\tvalid_0's l2: 33.2656\tvalid_1's l2: 2359.21\n",
      "[60]\tvalid_0's l2: 24.007\tvalid_1's l2: 2257.04\n",
      "[80]\tvalid_0's l2: 4.51269\tvalid_1's l2: 2173.73\n",
      "[100]\tvalid_0's l2: 4.90926\tvalid_1's l2: 2107.36\n"
     ]
    },
    {
     "name": "stderr",
     "output_type": "stream",
     "text": [
      "/opt/conda/lib/python3.7/site-packages/lightgbm/sklearn.py:736: UserWarning: 'verbose' argument is deprecated and will be removed in a future release of LightGBM. Pass 'log_evaluation()' callback via 'callbacks' argument instead.\n",
      "  _log_warning(\"'verbose' argument is deprecated and will be removed in a future release of LightGBM. \"\n"
     ]
    },
    {
     "name": "stdout",
     "output_type": "stream",
     "text": [
      "[20]\tvalid_0's l2: 109.345\tvalid_1's l2: 2457.31\n",
      "[40]\tvalid_0's l2: 139.147\tvalid_1's l2: 2334.13\n",
      "[60]\tvalid_0's l2: 103.281\tvalid_1's l2: 2233.45\n",
      "[80]\tvalid_0's l2: 73.7962\tvalid_1's l2: 2151.42\n",
      "[100]\tvalid_0's l2: 31.511\tvalid_1's l2: 2078.81\n"
     ]
    },
    {
     "name": "stderr",
     "output_type": "stream",
     "text": [
      "/opt/conda/lib/python3.7/site-packages/lightgbm/sklearn.py:736: UserWarning: 'verbose' argument is deprecated and will be removed in a future release of LightGBM. Pass 'log_evaluation()' callback via 'callbacks' argument instead.\n",
      "  _log_warning(\"'verbose' argument is deprecated and will be removed in a future release of LightGBM. \"\n"
     ]
    },
    {
     "name": "stdout",
     "output_type": "stream",
     "text": [
      "[20]\tvalid_0's l2: 18.3181\tvalid_1's l2: 2487.28\n",
      "[40]\tvalid_0's l2: 10.0431\tvalid_1's l2: 2335.69\n",
      "[60]\tvalid_0's l2: 3.79222\tvalid_1's l2: 2224.6\n",
      "[80]\tvalid_0's l2: 46.2776\tvalid_1's l2: 2142.74\n",
      "[100]\tvalid_0's l2: 105.183\tvalid_1's l2: 2067.7\n"
     ]
    },
    {
     "name": "stderr",
     "output_type": "stream",
     "text": [
      "/opt/conda/lib/python3.7/site-packages/lightgbm/sklearn.py:736: UserWarning: 'verbose' argument is deprecated and will be removed in a future release of LightGBM. Pass 'log_evaluation()' callback via 'callbacks' argument instead.\n",
      "  _log_warning(\"'verbose' argument is deprecated and will be removed in a future release of LightGBM. \"\n"
     ]
    },
    {
     "name": "stdout",
     "output_type": "stream",
     "text": [
      "[20]\tvalid_0's l2: 12.213\tvalid_1's l2: 2464.71\n",
      "[40]\tvalid_0's l2: 1.3853\tvalid_1's l2: 2315.79\n",
      "[60]\tvalid_0's l2: 1.86975\tvalid_1's l2: 2207.47\n",
      "[80]\tvalid_0's l2: 6.16323\tvalid_1's l2: 2114.54\n",
      "[100]\tvalid_0's l2: 16.55\tvalid_1's l2: 2040.98\n"
     ]
    },
    {
     "name": "stderr",
     "output_type": "stream",
     "text": [
      "/opt/conda/lib/python3.7/site-packages/lightgbm/sklearn.py:736: UserWarning: 'verbose' argument is deprecated and will be removed in a future release of LightGBM. Pass 'log_evaluation()' callback via 'callbacks' argument instead.\n",
      "  _log_warning(\"'verbose' argument is deprecated and will be removed in a future release of LightGBM. \"\n"
     ]
    },
    {
     "name": "stdout",
     "output_type": "stream",
     "text": [
      "[20]\tvalid_0's l2: 17.6977\tvalid_1's l2: 2556.51\n",
      "[40]\tvalid_0's l2: 43.7782\tvalid_1's l2: 2429.76\n",
      "[60]\tvalid_0's l2: 70.8551\tvalid_1's l2: 2348.56\n",
      "[80]\tvalid_0's l2: 45.1713\tvalid_1's l2: 2267.79\n",
      "[100]\tvalid_0's l2: 30.2949\tvalid_1's l2: 2220.34\n"
     ]
    },
    {
     "name": "stderr",
     "output_type": "stream",
     "text": [
      "/opt/conda/lib/python3.7/site-packages/lightgbm/sklearn.py:736: UserWarning: 'verbose' argument is deprecated and will be removed in a future release of LightGBM. Pass 'log_evaluation()' callback via 'callbacks' argument instead.\n",
      "  _log_warning(\"'verbose' argument is deprecated and will be removed in a future release of LightGBM. \"\n"
     ]
    },
    {
     "name": "stdout",
     "output_type": "stream",
     "text": [
      "[20]\tvalid_0's l2: 68.4465\tvalid_1's l2: 2491.02\n",
      "[40]\tvalid_0's l2: 47.0888\tvalid_1's l2: 2356.85\n",
      "[60]\tvalid_0's l2: 30.0748\tvalid_1's l2: 2257.77\n",
      "[80]\tvalid_0's l2: 26.2869\tvalid_1's l2: 2178.08\n",
      "[100]\tvalid_0's l2: 8.11901\tvalid_1's l2: 2108.61\n"
     ]
    },
    {
     "name": "stderr",
     "output_type": "stream",
     "text": [
      "/opt/conda/lib/python3.7/site-packages/lightgbm/sklearn.py:736: UserWarning: 'verbose' argument is deprecated and will be removed in a future release of LightGBM. Pass 'log_evaluation()' callback via 'callbacks' argument instead.\n",
      "  _log_warning(\"'verbose' argument is deprecated and will be removed in a future release of LightGBM. \"\n"
     ]
    },
    {
     "name": "stdout",
     "output_type": "stream",
     "text": [
      "[20]\tvalid_0's l2: 116.916\tvalid_1's l2: 2458.07\n",
      "[40]\tvalid_0's l2: 88.1049\tvalid_1's l2: 2335.08\n",
      "[60]\tvalid_0's l2: 85.514\tvalid_1's l2: 2231.8\n",
      "[80]\tvalid_0's l2: 40.2001\tvalid_1's l2: 2152.33\n",
      "[100]\tvalid_0's l2: 14.0423\tvalid_1's l2: 2086.86\n"
     ]
    },
    {
     "name": "stderr",
     "output_type": "stream",
     "text": [
      "/opt/conda/lib/python3.7/site-packages/lightgbm/sklearn.py:736: UserWarning: 'verbose' argument is deprecated and will be removed in a future release of LightGBM. Pass 'log_evaluation()' callback via 'callbacks' argument instead.\n",
      "  _log_warning(\"'verbose' argument is deprecated and will be removed in a future release of LightGBM. \"\n"
     ]
    },
    {
     "name": "stdout",
     "output_type": "stream",
     "text": [
      "[20]\tvalid_0's l2: 45.7873\tvalid_1's l2: 2493.28\n",
      "[40]\tvalid_0's l2: 11.9054\tvalid_1's l2: 2341.66\n",
      "[60]\tvalid_0's l2: 0.0709186\tvalid_1's l2: 2232.91\n",
      "[80]\tvalid_0's l2: 11.1665\tvalid_1's l2: 2143.71\n",
      "[100]\tvalid_0's l2: 21.4529\tvalid_1's l2: 2074.26\n"
     ]
    },
    {
     "name": "stderr",
     "output_type": "stream",
     "text": [
      "/opt/conda/lib/python3.7/site-packages/lightgbm/sklearn.py:736: UserWarning: 'verbose' argument is deprecated and will be removed in a future release of LightGBM. Pass 'log_evaluation()' callback via 'callbacks' argument instead.\n",
      "  _log_warning(\"'verbose' argument is deprecated and will be removed in a future release of LightGBM. \"\n"
     ]
    },
    {
     "name": "stdout",
     "output_type": "stream",
     "text": [
      "[20]\tvalid_0's l2: 12.4777\tvalid_1's l2: 2465.96\n",
      "[40]\tvalid_0's l2: 0.0935056\tvalid_1's l2: 2320.44\n",
      "[60]\tvalid_0's l2: 0.444191\tvalid_1's l2: 2215.54\n",
      "[80]\tvalid_0's l2: 4.81796\tvalid_1's l2: 2118.88\n",
      "[100]\tvalid_0's l2: 6.40319\tvalid_1's l2: 2040\n"
     ]
    },
    {
     "name": "stderr",
     "output_type": "stream",
     "text": [
      "/opt/conda/lib/python3.7/site-packages/lightgbm/sklearn.py:736: UserWarning: 'verbose' argument is deprecated and will be removed in a future release of LightGBM. Pass 'log_evaluation()' callback via 'callbacks' argument instead.\n",
      "  _log_warning(\"'verbose' argument is deprecated and will be removed in a future release of LightGBM. \"\n"
     ]
    },
    {
     "name": "stdout",
     "output_type": "stream",
     "text": [
      "[20]\tvalid_0's l2: 27.0115\tvalid_1's l2: 2557.49\n",
      "[40]\tvalid_0's l2: 68.0651\tvalid_1's l2: 2431.39\n",
      "[60]\tvalid_0's l2: 116.852\tvalid_1's l2: 2340.34\n",
      "[80]\tvalid_0's l2: 70.1723\tvalid_1's l2: 2266.94\n",
      "[100]\tvalid_0's l2: 37.7289\tvalid_1's l2: 2207.72\n"
     ]
    },
    {
     "name": "stderr",
     "output_type": "stream",
     "text": [
      "/opt/conda/lib/python3.7/site-packages/lightgbm/sklearn.py:736: UserWarning: 'verbose' argument is deprecated and will be removed in a future release of LightGBM. Pass 'log_evaluation()' callback via 'callbacks' argument instead.\n",
      "  _log_warning(\"'verbose' argument is deprecated and will be removed in a future release of LightGBM. \"\n"
     ]
    },
    {
     "name": "stdout",
     "output_type": "stream",
     "text": [
      "[20]\tvalid_0's l2: 68.4465\tvalid_1's l2: 2491.02\n",
      "[40]\tvalid_0's l2: 47.0888\tvalid_1's l2: 2356.85\n",
      "[60]\tvalid_0's l2: 30.0748\tvalid_1's l2: 2257.77\n",
      "[80]\tvalid_0's l2: 26.2869\tvalid_1's l2: 2178.08\n",
      "[100]\tvalid_0's l2: 8.11901\tvalid_1's l2: 2108.61\n"
     ]
    },
    {
     "name": "stderr",
     "output_type": "stream",
     "text": [
      "/opt/conda/lib/python3.7/site-packages/lightgbm/sklearn.py:736: UserWarning: 'verbose' argument is deprecated and will be removed in a future release of LightGBM. Pass 'log_evaluation()' callback via 'callbacks' argument instead.\n",
      "  _log_warning(\"'verbose' argument is deprecated and will be removed in a future release of LightGBM. \"\n"
     ]
    },
    {
     "name": "stdout",
     "output_type": "stream",
     "text": [
      "[20]\tvalid_0's l2: 116.916\tvalid_1's l2: 2458.07\n",
      "[40]\tvalid_0's l2: 88.1049\tvalid_1's l2: 2335.08\n",
      "[60]\tvalid_0's l2: 85.514\tvalid_1's l2: 2231.8\n",
      "[80]\tvalid_0's l2: 40.2001\tvalid_1's l2: 2152.33\n",
      "[100]\tvalid_0's l2: 14.0423\tvalid_1's l2: 2086.86\n"
     ]
    },
    {
     "name": "stderr",
     "output_type": "stream",
     "text": [
      "/opt/conda/lib/python3.7/site-packages/lightgbm/sklearn.py:736: UserWarning: 'verbose' argument is deprecated and will be removed in a future release of LightGBM. Pass 'log_evaluation()' callback via 'callbacks' argument instead.\n",
      "  _log_warning(\"'verbose' argument is deprecated and will be removed in a future release of LightGBM. \"\n"
     ]
    },
    {
     "name": "stdout",
     "output_type": "stream",
     "text": [
      "[20]\tvalid_0's l2: 45.7873\tvalid_1's l2: 2493.28\n",
      "[40]\tvalid_0's l2: 11.9054\tvalid_1's l2: 2341.66\n",
      "[60]\tvalid_0's l2: 0.0709186\tvalid_1's l2: 2232.91\n",
      "[80]\tvalid_0's l2: 11.1665\tvalid_1's l2: 2143.71\n",
      "[100]\tvalid_0's l2: 21.4529\tvalid_1's l2: 2074.26\n"
     ]
    },
    {
     "name": "stderr",
     "output_type": "stream",
     "text": [
      "/opt/conda/lib/python3.7/site-packages/lightgbm/sklearn.py:736: UserWarning: 'verbose' argument is deprecated and will be removed in a future release of LightGBM. Pass 'log_evaluation()' callback via 'callbacks' argument instead.\n",
      "  _log_warning(\"'verbose' argument is deprecated and will be removed in a future release of LightGBM. \"\n"
     ]
    },
    {
     "name": "stdout",
     "output_type": "stream",
     "text": [
      "[20]\tvalid_0's l2: 12.4777\tvalid_1's l2: 2465.96\n",
      "[40]\tvalid_0's l2: 0.0935056\tvalid_1's l2: 2320.44\n",
      "[60]\tvalid_0's l2: 0.444191\tvalid_1's l2: 2215.54\n",
      "[80]\tvalid_0's l2: 4.81796\tvalid_1's l2: 2118.88\n",
      "[100]\tvalid_0's l2: 6.40319\tvalid_1's l2: 2040\n"
     ]
    },
    {
     "name": "stderr",
     "output_type": "stream",
     "text": [
      "/opt/conda/lib/python3.7/site-packages/lightgbm/sklearn.py:736: UserWarning: 'verbose' argument is deprecated and will be removed in a future release of LightGBM. Pass 'log_evaluation()' callback via 'callbacks' argument instead.\n",
      "  _log_warning(\"'verbose' argument is deprecated and will be removed in a future release of LightGBM. \"\n"
     ]
    },
    {
     "name": "stdout",
     "output_type": "stream",
     "text": [
      "[20]\tvalid_0's l2: 27.0115\tvalid_1's l2: 2557.49\n",
      "[40]\tvalid_0's l2: 68.0651\tvalid_1's l2: 2431.39\n",
      "[60]\tvalid_0's l2: 116.852\tvalid_1's l2: 2340.34\n",
      "[80]\tvalid_0's l2: 70.1723\tvalid_1's l2: 2266.94\n",
      "[100]\tvalid_0's l2: 37.7289\tvalid_1's l2: 2207.72\n"
     ]
    },
    {
     "name": "stderr",
     "output_type": "stream",
     "text": [
      "/opt/conda/lib/python3.7/site-packages/lightgbm/sklearn.py:736: UserWarning: 'verbose' argument is deprecated and will be removed in a future release of LightGBM. Pass 'log_evaluation()' callback via 'callbacks' argument instead.\n",
      "  _log_warning(\"'verbose' argument is deprecated and will be removed in a future release of LightGBM. \"\n"
     ]
    },
    {
     "name": "stdout",
     "output_type": "stream",
     "text": [
      "[20]\tvalid_0's l2: 46.8971\tvalid_1's l2: 2488.85\n",
      "[40]\tvalid_0's l2: 33.2783\tvalid_1's l2: 2359.38\n",
      "[60]\tvalid_0's l2: 24.0281\tvalid_1's l2: 2257.28\n",
      "[80]\tvalid_0's l2: 4.51885\tvalid_1's l2: 2174.02\n",
      "[100]\tvalid_0's l2: 4.91012\tvalid_1's l2: 2107.72\n"
     ]
    },
    {
     "name": "stderr",
     "output_type": "stream",
     "text": [
      "/opt/conda/lib/python3.7/site-packages/lightgbm/sklearn.py:736: UserWarning: 'verbose' argument is deprecated and will be removed in a future release of LightGBM. Pass 'log_evaluation()' callback via 'callbacks' argument instead.\n",
      "  _log_warning(\"'verbose' argument is deprecated and will be removed in a future release of LightGBM. \"\n"
     ]
    },
    {
     "name": "stdout",
     "output_type": "stream",
     "text": [
      "[20]\tvalid_0's l2: 98.81\tvalid_1's l2: 2457.23\n",
      "[40]\tvalid_0's l2: 139.545\tvalid_1's l2: 2332.86\n",
      "[60]\tvalid_0's l2: 91.3057\tvalid_1's l2: 2229.28\n",
      "[80]\tvalid_0's l2: 56.9555\tvalid_1's l2: 2142.78\n",
      "[100]\tvalid_0's l2: 38.4529\tvalid_1's l2: 2074.41\n"
     ]
    },
    {
     "name": "stderr",
     "output_type": "stream",
     "text": [
      "/opt/conda/lib/python3.7/site-packages/lightgbm/sklearn.py:736: UserWarning: 'verbose' argument is deprecated and will be removed in a future release of LightGBM. Pass 'log_evaluation()' callback via 'callbacks' argument instead.\n",
      "  _log_warning(\"'verbose' argument is deprecated and will be removed in a future release of LightGBM. \"\n"
     ]
    },
    {
     "name": "stdout",
     "output_type": "stream",
     "text": [
      "[20]\tvalid_0's l2: 18.3441\tvalid_1's l2: 2487.39\n",
      "[40]\tvalid_0's l2: 10.0473\tvalid_1's l2: 2335.85\n",
      "[60]\tvalid_0's l2: 3.76879\tvalid_1's l2: 2224.82\n",
      "[80]\tvalid_0's l2: 46.1127\tvalid_1's l2: 2143.02\n",
      "[100]\tvalid_0's l2: 141.929\tvalid_1's l2: 2070.49\n"
     ]
    },
    {
     "name": "stderr",
     "output_type": "stream",
     "text": [
      "/opt/conda/lib/python3.7/site-packages/lightgbm/sklearn.py:736: UserWarning: 'verbose' argument is deprecated and will be removed in a future release of LightGBM. Pass 'log_evaluation()' callback via 'callbacks' argument instead.\n",
      "  _log_warning(\"'verbose' argument is deprecated and will be removed in a future release of LightGBM. \"\n"
     ]
    },
    {
     "name": "stdout",
     "output_type": "stream",
     "text": [
      "[20]\tvalid_0's l2: 12.2449\tvalid_1's l2: 2464.81\n",
      "[40]\tvalid_0's l2: 1.3986\tvalid_1's l2: 2315.97\n",
      "[60]\tvalid_0's l2: 3.22377\tvalid_1's l2: 2207.79\n",
      "[80]\tvalid_0's l2: 8.45406\tvalid_1's l2: 2114.95\n",
      "[100]\tvalid_0's l2: 19.9884\tvalid_1's l2: 2041.46\n"
     ]
    },
    {
     "name": "stderr",
     "output_type": "stream",
     "text": [
      "/opt/conda/lib/python3.7/site-packages/lightgbm/sklearn.py:736: UserWarning: 'verbose' argument is deprecated and will be removed in a future release of LightGBM. Pass 'log_evaluation()' callback via 'callbacks' argument instead.\n",
      "  _log_warning(\"'verbose' argument is deprecated and will be removed in a future release of LightGBM. \"\n"
     ]
    },
    {
     "name": "stdout",
     "output_type": "stream",
     "text": [
      "[20]\tvalid_0's l2: 17.7258\tvalid_1's l2: 2556.61\n",
      "[40]\tvalid_0's l2: 43.8005\tvalid_1's l2: 2429.91\n",
      "[60]\tvalid_0's l2: 70.8663\tvalid_1's l2: 2348.75\n",
      "[80]\tvalid_0's l2: 30.7223\tvalid_1's l2: 2270.66\n",
      "[100]\tvalid_0's l2: 38.5413\tvalid_1's l2: 2217.73\n"
     ]
    },
    {
     "name": "stderr",
     "output_type": "stream",
     "text": [
      "/opt/conda/lib/python3.7/site-packages/lightgbm/sklearn.py:736: UserWarning: 'verbose' argument is deprecated and will be removed in a future release of LightGBM. Pass 'log_evaluation()' callback via 'callbacks' argument instead.\n",
      "  _log_warning(\"'verbose' argument is deprecated and will be removed in a future release of LightGBM. \"\n"
     ]
    },
    {
     "name": "stdout",
     "output_type": "stream",
     "text": [
      "[20]\tvalid_0's l2: 46.8971\tvalid_1's l2: 2488.85\n",
      "[40]\tvalid_0's l2: 33.2783\tvalid_1's l2: 2359.38\n",
      "[60]\tvalid_0's l2: 24.0281\tvalid_1's l2: 2257.28\n",
      "[80]\tvalid_0's l2: 4.51885\tvalid_1's l2: 2174.02\n",
      "[100]\tvalid_0's l2: 4.91012\tvalid_1's l2: 2107.72\n"
     ]
    },
    {
     "name": "stderr",
     "output_type": "stream",
     "text": [
      "/opt/conda/lib/python3.7/site-packages/lightgbm/sklearn.py:736: UserWarning: 'verbose' argument is deprecated and will be removed in a future release of LightGBM. Pass 'log_evaluation()' callback via 'callbacks' argument instead.\n",
      "  _log_warning(\"'verbose' argument is deprecated and will be removed in a future release of LightGBM. \"\n"
     ]
    },
    {
     "name": "stdout",
     "output_type": "stream",
     "text": [
      "[20]\tvalid_0's l2: 98.81\tvalid_1's l2: 2457.23\n",
      "[40]\tvalid_0's l2: 139.545\tvalid_1's l2: 2332.86\n",
      "[60]\tvalid_0's l2: 91.3057\tvalid_1's l2: 2229.28\n",
      "[80]\tvalid_0's l2: 56.9555\tvalid_1's l2: 2142.78\n",
      "[100]\tvalid_0's l2: 38.4529\tvalid_1's l2: 2074.41\n"
     ]
    },
    {
     "name": "stderr",
     "output_type": "stream",
     "text": [
      "/opt/conda/lib/python3.7/site-packages/lightgbm/sklearn.py:736: UserWarning: 'verbose' argument is deprecated and will be removed in a future release of LightGBM. Pass 'log_evaluation()' callback via 'callbacks' argument instead.\n",
      "  _log_warning(\"'verbose' argument is deprecated and will be removed in a future release of LightGBM. \"\n"
     ]
    },
    {
     "name": "stdout",
     "output_type": "stream",
     "text": [
      "[20]\tvalid_0's l2: 18.3441\tvalid_1's l2: 2487.39\n",
      "[40]\tvalid_0's l2: 10.0473\tvalid_1's l2: 2335.85\n",
      "[60]\tvalid_0's l2: 3.76879\tvalid_1's l2: 2224.82\n",
      "[80]\tvalid_0's l2: 46.1127\tvalid_1's l2: 2143.02\n",
      "[100]\tvalid_0's l2: 141.929\tvalid_1's l2: 2070.49\n"
     ]
    },
    {
     "name": "stderr",
     "output_type": "stream",
     "text": [
      "/opt/conda/lib/python3.7/site-packages/lightgbm/sklearn.py:736: UserWarning: 'verbose' argument is deprecated and will be removed in a future release of LightGBM. Pass 'log_evaluation()' callback via 'callbacks' argument instead.\n",
      "  _log_warning(\"'verbose' argument is deprecated and will be removed in a future release of LightGBM. \"\n"
     ]
    },
    {
     "name": "stdout",
     "output_type": "stream",
     "text": [
      "[20]\tvalid_0's l2: 12.2449\tvalid_1's l2: 2464.81\n",
      "[40]\tvalid_0's l2: 1.3986\tvalid_1's l2: 2315.97\n",
      "[60]\tvalid_0's l2: 3.22377\tvalid_1's l2: 2207.79\n",
      "[80]\tvalid_0's l2: 8.45406\tvalid_1's l2: 2114.95\n",
      "[100]\tvalid_0's l2: 19.9884\tvalid_1's l2: 2041.46\n"
     ]
    },
    {
     "name": "stderr",
     "output_type": "stream",
     "text": [
      "/opt/conda/lib/python3.7/site-packages/lightgbm/sklearn.py:736: UserWarning: 'verbose' argument is deprecated and will be removed in a future release of LightGBM. Pass 'log_evaluation()' callback via 'callbacks' argument instead.\n",
      "  _log_warning(\"'verbose' argument is deprecated and will be removed in a future release of LightGBM. \"\n"
     ]
    },
    {
     "name": "stdout",
     "output_type": "stream",
     "text": [
      "[20]\tvalid_0's l2: 17.7258\tvalid_1's l2: 2556.61\n",
      "[40]\tvalid_0's l2: 43.8005\tvalid_1's l2: 2429.91\n",
      "[60]\tvalid_0's l2: 70.8663\tvalid_1's l2: 2348.75\n",
      "[80]\tvalid_0's l2: 30.7223\tvalid_1's l2: 2270.66\n",
      "[100]\tvalid_0's l2: 38.5413\tvalid_1's l2: 2217.73\n"
     ]
    },
    {
     "name": "stderr",
     "output_type": "stream",
     "text": [
      "/opt/conda/lib/python3.7/site-packages/lightgbm/sklearn.py:736: UserWarning: 'verbose' argument is deprecated and will be removed in a future release of LightGBM. Pass 'log_evaluation()' callback via 'callbacks' argument instead.\n",
      "  _log_warning(\"'verbose' argument is deprecated and will be removed in a future release of LightGBM. \"\n"
     ]
    },
    {
     "name": "stdout",
     "output_type": "stream",
     "text": [
      "[20]\tvalid_0's l2: 68.3909\tvalid_1's l2: 2491.12\n",
      "[40]\tvalid_0's l2: 53.7967\tvalid_1's l2: 2359.47\n",
      "[60]\tvalid_0's l2: 28.0347\tvalid_1's l2: 2255.43\n",
      "[80]\tvalid_0's l2: 28.9938\tvalid_1's l2: 2176.54\n",
      "[100]\tvalid_0's l2: 7.58212\tvalid_1's l2: 2103.3\n"
     ]
    },
    {
     "name": "stderr",
     "output_type": "stream",
     "text": [
      "/opt/conda/lib/python3.7/site-packages/lightgbm/sklearn.py:736: UserWarning: 'verbose' argument is deprecated and will be removed in a future release of LightGBM. Pass 'log_evaluation()' callback via 'callbacks' argument instead.\n",
      "  _log_warning(\"'verbose' argument is deprecated and will be removed in a future release of LightGBM. \"\n"
     ]
    },
    {
     "name": "stdout",
     "output_type": "stream",
     "text": [
      "[20]\tvalid_0's l2: 116.76\tvalid_1's l2: 2458.15\n",
      "[40]\tvalid_0's l2: 87.9859\tvalid_1's l2: 2335.25\n",
      "[60]\tvalid_0's l2: 85.3888\tvalid_1's l2: 2232.03\n",
      "[80]\tvalid_0's l2: 40.156\tvalid_1's l2: 2152.62\n",
      "[100]\tvalid_0's l2: 14.0386\tvalid_1's l2: 2087.21\n"
     ]
    },
    {
     "name": "stderr",
     "output_type": "stream",
     "text": [
      "/opt/conda/lib/python3.7/site-packages/lightgbm/sklearn.py:736: UserWarning: 'verbose' argument is deprecated and will be removed in a future release of LightGBM. Pass 'log_evaluation()' callback via 'callbacks' argument instead.\n",
      "  _log_warning(\"'verbose' argument is deprecated and will be removed in a future release of LightGBM. \"\n"
     ]
    },
    {
     "name": "stdout",
     "output_type": "stream",
     "text": [
      "[20]\tvalid_0's l2: 45.7722\tvalid_1's l2: 2493.31\n",
      "[40]\tvalid_0's l2: 32.8701\tvalid_1's l2: 2347.77\n",
      "[60]\tvalid_0's l2: 0.0898222\tvalid_1's l2: 2231.89\n",
      "[80]\tvalid_0's l2: 12.7682\tvalid_1's l2: 2138.87\n",
      "[100]\tvalid_0's l2: 18.0996\tvalid_1's l2: 2067.46\n"
     ]
    },
    {
     "name": "stderr",
     "output_type": "stream",
     "text": [
      "/opt/conda/lib/python3.7/site-packages/lightgbm/sklearn.py:736: UserWarning: 'verbose' argument is deprecated and will be removed in a future release of LightGBM. Pass 'log_evaluation()' callback via 'callbacks' argument instead.\n",
      "  _log_warning(\"'verbose' argument is deprecated and will be removed in a future release of LightGBM. \"\n"
     ]
    },
    {
     "name": "stdout",
     "output_type": "stream",
     "text": [
      "[20]\tvalid_0's l2: 12.5124\tvalid_1's l2: 2466.05\n",
      "[40]\tvalid_0's l2: 0.0883991\tvalid_1's l2: 2320.6\n",
      "[60]\tvalid_0's l2: 0.826547\tvalid_1's l2: 2215.64\n",
      "[80]\tvalid_0's l2: 4.44605\tvalid_1's l2: 2116.67\n",
      "[100]\tvalid_0's l2: 7.70093\tvalid_1's l2: 2038.72\n"
     ]
    },
    {
     "name": "stderr",
     "output_type": "stream",
     "text": [
      "/opt/conda/lib/python3.7/site-packages/lightgbm/sklearn.py:736: UserWarning: 'verbose' argument is deprecated and will be removed in a future release of LightGBM. Pass 'log_evaluation()' callback via 'callbacks' argument instead.\n",
      "  _log_warning(\"'verbose' argument is deprecated and will be removed in a future release of LightGBM. \"\n"
     ]
    },
    {
     "name": "stdout",
     "output_type": "stream",
     "text": [
      "[20]\tvalid_0's l2: 27.0324\tvalid_1's l2: 2557.59\n",
      "[40]\tvalid_0's l2: 68.063\tvalid_1's l2: 2431.53\n",
      "[60]\tvalid_0's l2: 116.777\tvalid_1's l2: 2340.53\n",
      "[80]\tvalid_0's l2: 89.2189\tvalid_1's l2: 2268.65\n",
      "[100]\tvalid_0's l2: 41.0714\tvalid_1's l2: 2214.62\n"
     ]
    },
    {
     "name": "stderr",
     "output_type": "stream",
     "text": [
      "/opt/conda/lib/python3.7/site-packages/lightgbm/sklearn.py:736: UserWarning: 'verbose' argument is deprecated and will be removed in a future release of LightGBM. Pass 'log_evaluation()' callback via 'callbacks' argument instead.\n",
      "  _log_warning(\"'verbose' argument is deprecated and will be removed in a future release of LightGBM. \"\n"
     ]
    },
    {
     "name": "stdout",
     "output_type": "stream",
     "text": [
      "[20]\tvalid_0's l2: 68.3909\tvalid_1's l2: 2491.12\n",
      "[40]\tvalid_0's l2: 53.7967\tvalid_1's l2: 2359.47\n",
      "[60]\tvalid_0's l2: 28.0347\tvalid_1's l2: 2255.43\n",
      "[80]\tvalid_0's l2: 28.9938\tvalid_1's l2: 2176.54\n",
      "[100]\tvalid_0's l2: 7.58212\tvalid_1's l2: 2103.3\n"
     ]
    },
    {
     "name": "stderr",
     "output_type": "stream",
     "text": [
      "/opt/conda/lib/python3.7/site-packages/lightgbm/sklearn.py:736: UserWarning: 'verbose' argument is deprecated and will be removed in a future release of LightGBM. Pass 'log_evaluation()' callback via 'callbacks' argument instead.\n",
      "  _log_warning(\"'verbose' argument is deprecated and will be removed in a future release of LightGBM. \"\n"
     ]
    },
    {
     "name": "stdout",
     "output_type": "stream",
     "text": [
      "[20]\tvalid_0's l2: 116.76\tvalid_1's l2: 2458.15\n",
      "[40]\tvalid_0's l2: 87.9859\tvalid_1's l2: 2335.25\n",
      "[60]\tvalid_0's l2: 85.3888\tvalid_1's l2: 2232.03\n",
      "[80]\tvalid_0's l2: 40.156\tvalid_1's l2: 2152.62\n",
      "[100]\tvalid_0's l2: 14.0386\tvalid_1's l2: 2087.21\n"
     ]
    },
    {
     "name": "stderr",
     "output_type": "stream",
     "text": [
      "/opt/conda/lib/python3.7/site-packages/lightgbm/sklearn.py:736: UserWarning: 'verbose' argument is deprecated and will be removed in a future release of LightGBM. Pass 'log_evaluation()' callback via 'callbacks' argument instead.\n",
      "  _log_warning(\"'verbose' argument is deprecated and will be removed in a future release of LightGBM. \"\n"
     ]
    },
    {
     "name": "stdout",
     "output_type": "stream",
     "text": [
      "[20]\tvalid_0's l2: 45.7722\tvalid_1's l2: 2493.31\n",
      "[40]\tvalid_0's l2: 32.8701\tvalid_1's l2: 2347.77\n",
      "[60]\tvalid_0's l2: 0.0898222\tvalid_1's l2: 2231.89\n",
      "[80]\tvalid_0's l2: 12.7682\tvalid_1's l2: 2138.87\n",
      "[100]\tvalid_0's l2: 18.0996\tvalid_1's l2: 2067.46\n"
     ]
    },
    {
     "name": "stderr",
     "output_type": "stream",
     "text": [
      "/opt/conda/lib/python3.7/site-packages/lightgbm/sklearn.py:736: UserWarning: 'verbose' argument is deprecated and will be removed in a future release of LightGBM. Pass 'log_evaluation()' callback via 'callbacks' argument instead.\n",
      "  _log_warning(\"'verbose' argument is deprecated and will be removed in a future release of LightGBM. \"\n"
     ]
    },
    {
     "name": "stdout",
     "output_type": "stream",
     "text": [
      "[20]\tvalid_0's l2: 12.5124\tvalid_1's l2: 2466.05\n",
      "[40]\tvalid_0's l2: 0.0883991\tvalid_1's l2: 2320.6\n",
      "[60]\tvalid_0's l2: 0.826547\tvalid_1's l2: 2215.64\n",
      "[80]\tvalid_0's l2: 4.44605\tvalid_1's l2: 2116.67\n",
      "[100]\tvalid_0's l2: 7.70093\tvalid_1's l2: 2038.72\n"
     ]
    },
    {
     "name": "stderr",
     "output_type": "stream",
     "text": [
      "/opt/conda/lib/python3.7/site-packages/lightgbm/sklearn.py:736: UserWarning: 'verbose' argument is deprecated and will be removed in a future release of LightGBM. Pass 'log_evaluation()' callback via 'callbacks' argument instead.\n",
      "  _log_warning(\"'verbose' argument is deprecated and will be removed in a future release of LightGBM. \"\n"
     ]
    },
    {
     "name": "stdout",
     "output_type": "stream",
     "text": [
      "[20]\tvalid_0's l2: 27.0324\tvalid_1's l2: 2557.59\n",
      "[40]\tvalid_0's l2: 68.063\tvalid_1's l2: 2431.53\n",
      "[60]\tvalid_0's l2: 116.777\tvalid_1's l2: 2340.53\n",
      "[80]\tvalid_0's l2: 89.2189\tvalid_1's l2: 2268.65\n",
      "[100]\tvalid_0's l2: 41.0714\tvalid_1's l2: 2214.62\n"
     ]
    },
    {
     "name": "stderr",
     "output_type": "stream",
     "text": [
      "/opt/conda/lib/python3.7/site-packages/lightgbm/sklearn.py:736: UserWarning: 'verbose' argument is deprecated and will be removed in a future release of LightGBM. Pass 'log_evaluation()' callback via 'callbacks' argument instead.\n",
      "  _log_warning(\"'verbose' argument is deprecated and will be removed in a future release of LightGBM. \"\n"
     ]
    },
    {
     "name": "stdout",
     "output_type": "stream",
     "text": [
      "[20]\tvalid_0's l2: 60.6865\tvalid_1's l2: 2486.88\n",
      "[40]\tvalid_0's l2: 59.3275\tvalid_1's l2: 2357.15\n",
      "[60]\tvalid_0's l2: 21.6751\tvalid_1's l2: 2253.48\n",
      "[80]\tvalid_0's l2: 4.36589\tvalid_1's l2: 2167.58\n",
      "[100]\tvalid_0's l2: 0.348361\tvalid_1's l2: 2095.62\n"
     ]
    },
    {
     "name": "stderr",
     "output_type": "stream",
     "text": [
      "/opt/conda/lib/python3.7/site-packages/lightgbm/sklearn.py:736: UserWarning: 'verbose' argument is deprecated and will be removed in a future release of LightGBM. Pass 'log_evaluation()' callback via 'callbacks' argument instead.\n",
      "  _log_warning(\"'verbose' argument is deprecated and will be removed in a future release of LightGBM. \"\n"
     ]
    },
    {
     "name": "stdout",
     "output_type": "stream",
     "text": [
      "[20]\tvalid_0's l2: 133.641\tvalid_1's l2: 2453.03\n",
      "[40]\tvalid_0's l2: 91.1105\tvalid_1's l2: 2324.69\n",
      "[60]\tvalid_0's l2: 122.858\tvalid_1's l2: 2223.07\n",
      "[80]\tvalid_0's l2: 76.3061\tvalid_1's l2: 2134.59\n",
      "[100]\tvalid_0's l2: 53.3892\tvalid_1's l2: 2061.03\n"
     ]
    },
    {
     "name": "stderr",
     "output_type": "stream",
     "text": [
      "/opt/conda/lib/python3.7/site-packages/lightgbm/sklearn.py:736: UserWarning: 'verbose' argument is deprecated and will be removed in a future release of LightGBM. Pass 'log_evaluation()' callback via 'callbacks' argument instead.\n",
      "  _log_warning(\"'verbose' argument is deprecated and will be removed in a future release of LightGBM. \"\n"
     ]
    },
    {
     "name": "stdout",
     "output_type": "stream",
     "text": [
      "[20]\tvalid_0's l2: 11.3754\tvalid_1's l2: 2486.26\n",
      "[40]\tvalid_0's l2: 2.50698\tvalid_1's l2: 2329.78\n",
      "[60]\tvalid_0's l2: 0.212146\tvalid_1's l2: 2219.5\n",
      "[80]\tvalid_0's l2: 0.000732827\tvalid_1's l2: 2132.55\n",
      "[100]\tvalid_0's l2: 0.356198\tvalid_1's l2: 2053.11\n"
     ]
    },
    {
     "name": "stderr",
     "output_type": "stream",
     "text": [
      "/opt/conda/lib/python3.7/site-packages/lightgbm/sklearn.py:736: UserWarning: 'verbose' argument is deprecated and will be removed in a future release of LightGBM. Pass 'log_evaluation()' callback via 'callbacks' argument instead.\n",
      "  _log_warning(\"'verbose' argument is deprecated and will be removed in a future release of LightGBM. \"\n"
     ]
    },
    {
     "name": "stdout",
     "output_type": "stream",
     "text": [
      "[20]\tvalid_0's l2: 22.6321\tvalid_1's l2: 2459.03\n",
      "[40]\tvalid_0's l2: 10.6243\tvalid_1's l2: 2314.55\n",
      "[60]\tvalid_0's l2: 0.380567\tvalid_1's l2: 2202.86\n",
      "[80]\tvalid_0's l2: 5.79333\tvalid_1's l2: 2108.78\n",
      "[100]\tvalid_0's l2: 8.41352\tvalid_1's l2: 2027.41\n"
     ]
    },
    {
     "name": "stderr",
     "output_type": "stream",
     "text": [
      "/opt/conda/lib/python3.7/site-packages/lightgbm/sklearn.py:736: UserWarning: 'verbose' argument is deprecated and will be removed in a future release of LightGBM. Pass 'log_evaluation()' callback via 'callbacks' argument instead.\n",
      "  _log_warning(\"'verbose' argument is deprecated and will be removed in a future release of LightGBM. \"\n"
     ]
    },
    {
     "name": "stdout",
     "output_type": "stream",
     "text": [
      "[20]\tvalid_0's l2: 55.2242\tvalid_1's l2: 2550.37\n",
      "[40]\tvalid_0's l2: 100.197\tvalid_1's l2: 2423.17\n",
      "[60]\tvalid_0's l2: 89.0039\tvalid_1's l2: 2341.75\n",
      "[80]\tvalid_0's l2: 97.2255\tvalid_1's l2: 2265.31\n",
      "[100]\tvalid_0's l2: 38.2864\tvalid_1's l2: 2202.69\n"
     ]
    },
    {
     "name": "stderr",
     "output_type": "stream",
     "text": [
      "/opt/conda/lib/python3.7/site-packages/lightgbm/sklearn.py:736: UserWarning: 'verbose' argument is deprecated and will be removed in a future release of LightGBM. Pass 'log_evaluation()' callback via 'callbacks' argument instead.\n",
      "  _log_warning(\"'verbose' argument is deprecated and will be removed in a future release of LightGBM. \"\n"
     ]
    },
    {
     "name": "stdout",
     "output_type": "stream",
     "text": [
      "[20]\tvalid_0's l2: 60.6865\tvalid_1's l2: 2486.88\n",
      "[40]\tvalid_0's l2: 59.3275\tvalid_1's l2: 2357.15\n",
      "[60]\tvalid_0's l2: 21.6751\tvalid_1's l2: 2253.48\n",
      "[80]\tvalid_0's l2: 4.36589\tvalid_1's l2: 2167.58\n",
      "[100]\tvalid_0's l2: 0.348361\tvalid_1's l2: 2095.62\n"
     ]
    },
    {
     "name": "stderr",
     "output_type": "stream",
     "text": [
      "/opt/conda/lib/python3.7/site-packages/lightgbm/sklearn.py:736: UserWarning: 'verbose' argument is deprecated and will be removed in a future release of LightGBM. Pass 'log_evaluation()' callback via 'callbacks' argument instead.\n",
      "  _log_warning(\"'verbose' argument is deprecated and will be removed in a future release of LightGBM. \"\n"
     ]
    },
    {
     "name": "stdout",
     "output_type": "stream",
     "text": [
      "[20]\tvalid_0's l2: 133.641\tvalid_1's l2: 2453.03\n",
      "[40]\tvalid_0's l2: 91.1105\tvalid_1's l2: 2324.69\n",
      "[60]\tvalid_0's l2: 122.858\tvalid_1's l2: 2223.07\n",
      "[80]\tvalid_0's l2: 76.3061\tvalid_1's l2: 2134.59\n",
      "[100]\tvalid_0's l2: 53.3892\tvalid_1's l2: 2061.03\n"
     ]
    },
    {
     "name": "stderr",
     "output_type": "stream",
     "text": [
      "/opt/conda/lib/python3.7/site-packages/lightgbm/sklearn.py:736: UserWarning: 'verbose' argument is deprecated and will be removed in a future release of LightGBM. Pass 'log_evaluation()' callback via 'callbacks' argument instead.\n",
      "  _log_warning(\"'verbose' argument is deprecated and will be removed in a future release of LightGBM. \"\n"
     ]
    },
    {
     "name": "stdout",
     "output_type": "stream",
     "text": [
      "[20]\tvalid_0's l2: 11.3754\tvalid_1's l2: 2486.26\n",
      "[40]\tvalid_0's l2: 2.50698\tvalid_1's l2: 2329.78\n",
      "[60]\tvalid_0's l2: 0.212146\tvalid_1's l2: 2219.5\n",
      "[80]\tvalid_0's l2: 0.000732827\tvalid_1's l2: 2132.55\n",
      "[100]\tvalid_0's l2: 0.356198\tvalid_1's l2: 2053.11\n"
     ]
    },
    {
     "name": "stderr",
     "output_type": "stream",
     "text": [
      "/opt/conda/lib/python3.7/site-packages/lightgbm/sklearn.py:736: UserWarning: 'verbose' argument is deprecated and will be removed in a future release of LightGBM. Pass 'log_evaluation()' callback via 'callbacks' argument instead.\n",
      "  _log_warning(\"'verbose' argument is deprecated and will be removed in a future release of LightGBM. \"\n"
     ]
    },
    {
     "name": "stdout",
     "output_type": "stream",
     "text": [
      "[20]\tvalid_0's l2: 22.6321\tvalid_1's l2: 2459.03\n",
      "[40]\tvalid_0's l2: 10.6243\tvalid_1's l2: 2314.55\n",
      "[60]\tvalid_0's l2: 0.380567\tvalid_1's l2: 2202.86\n",
      "[80]\tvalid_0's l2: 5.79333\tvalid_1's l2: 2108.78\n",
      "[100]\tvalid_0's l2: 8.41352\tvalid_1's l2: 2027.41\n"
     ]
    },
    {
     "name": "stderr",
     "output_type": "stream",
     "text": [
      "/opt/conda/lib/python3.7/site-packages/lightgbm/sklearn.py:736: UserWarning: 'verbose' argument is deprecated and will be removed in a future release of LightGBM. Pass 'log_evaluation()' callback via 'callbacks' argument instead.\n",
      "  _log_warning(\"'verbose' argument is deprecated and will be removed in a future release of LightGBM. \"\n"
     ]
    },
    {
     "name": "stdout",
     "output_type": "stream",
     "text": [
      "[20]\tvalid_0's l2: 55.2242\tvalid_1's l2: 2550.37\n",
      "[40]\tvalid_0's l2: 100.197\tvalid_1's l2: 2423.17\n",
      "[60]\tvalid_0's l2: 89.0039\tvalid_1's l2: 2341.75\n",
      "[80]\tvalid_0's l2: 97.2255\tvalid_1's l2: 2265.31\n",
      "[100]\tvalid_0's l2: 38.2864\tvalid_1's l2: 2202.69\n"
     ]
    },
    {
     "name": "stderr",
     "output_type": "stream",
     "text": [
      "/opt/conda/lib/python3.7/site-packages/lightgbm/sklearn.py:736: UserWarning: 'verbose' argument is deprecated and will be removed in a future release of LightGBM. Pass 'log_evaluation()' callback via 'callbacks' argument instead.\n",
      "  _log_warning(\"'verbose' argument is deprecated and will be removed in a future release of LightGBM. \"\n"
     ]
    },
    {
     "name": "stdout",
     "output_type": "stream",
     "text": [
      "[20]\tvalid_0's l2: 65.0132\tvalid_1's l2: 2487.48\n",
      "[40]\tvalid_0's l2: 47.5272\tvalid_1's l2: 2352.8\n",
      "[60]\tvalid_0's l2: 49.6743\tvalid_1's l2: 2251.88\n",
      "[80]\tvalid_0's l2: 21.63\tvalid_1's l2: 2164.42\n",
      "[100]\tvalid_0's l2: 15.6869\tvalid_1's l2: 2093.81\n"
     ]
    },
    {
     "name": "stderr",
     "output_type": "stream",
     "text": [
      "/opt/conda/lib/python3.7/site-packages/lightgbm/sklearn.py:736: UserWarning: 'verbose' argument is deprecated and will be removed in a future release of LightGBM. Pass 'log_evaluation()' callback via 'callbacks' argument instead.\n",
      "  _log_warning(\"'verbose' argument is deprecated and will be removed in a future release of LightGBM. \"\n"
     ]
    },
    {
     "name": "stdout",
     "output_type": "stream",
     "text": [
      "[20]\tvalid_0's l2: 110.659\tvalid_1's l2: 2457.62\n",
      "[40]\tvalid_0's l2: 67.5643\tvalid_1's l2: 2325.68\n",
      "[60]\tvalid_0's l2: 82.4869\tvalid_1's l2: 2226.18\n",
      "[80]\tvalid_0's l2: 81.9899\tvalid_1's l2: 2142.87\n",
      "[100]\tvalid_0's l2: 31.0408\tvalid_1's l2: 2074.24\n"
     ]
    },
    {
     "name": "stderr",
     "output_type": "stream",
     "text": [
      "/opt/conda/lib/python3.7/site-packages/lightgbm/sklearn.py:736: UserWarning: 'verbose' argument is deprecated and will be removed in a future release of LightGBM. Pass 'log_evaluation()' callback via 'callbacks' argument instead.\n",
      "  _log_warning(\"'verbose' argument is deprecated and will be removed in a future release of LightGBM. \"\n"
     ]
    },
    {
     "name": "stdout",
     "output_type": "stream",
     "text": [
      "[20]\tvalid_0's l2: 24.0572\tvalid_1's l2: 2486.39\n",
      "[40]\tvalid_0's l2: 12.0168\tvalid_1's l2: 2335.14\n",
      "[60]\tvalid_0's l2: 4.44343\tvalid_1's l2: 2222.06\n",
      "[80]\tvalid_0's l2: 1.05516\tvalid_1's l2: 2132.58\n",
      "[100]\tvalid_0's l2: 9.31927\tvalid_1's l2: 2057.15\n"
     ]
    },
    {
     "name": "stderr",
     "output_type": "stream",
     "text": [
      "/opt/conda/lib/python3.7/site-packages/lightgbm/sklearn.py:736: UserWarning: 'verbose' argument is deprecated and will be removed in a future release of LightGBM. Pass 'log_evaluation()' callback via 'callbacks' argument instead.\n",
      "  _log_warning(\"'verbose' argument is deprecated and will be removed in a future release of LightGBM. \"\n"
     ]
    },
    {
     "name": "stdout",
     "output_type": "stream",
     "text": [
      "[20]\tvalid_0's l2: 12.472\tvalid_1's l2: 2462.45\n",
      "[40]\tvalid_0's l2: 7.04608\tvalid_1's l2: 2317.34\n",
      "[60]\tvalid_0's l2: 0.319136\tvalid_1's l2: 2204.98\n",
      "[80]\tvalid_0's l2: 3.94264\tvalid_1's l2: 2104.72\n",
      "[100]\tvalid_0's l2: 14.4399\tvalid_1's l2: 2028.11\n"
     ]
    },
    {
     "name": "stderr",
     "output_type": "stream",
     "text": [
      "/opt/conda/lib/python3.7/site-packages/lightgbm/sklearn.py:736: UserWarning: 'verbose' argument is deprecated and will be removed in a future release of LightGBM. Pass 'log_evaluation()' callback via 'callbacks' argument instead.\n",
      "  _log_warning(\"'verbose' argument is deprecated and will be removed in a future release of LightGBM. \"\n"
     ]
    },
    {
     "name": "stdout",
     "output_type": "stream",
     "text": [
      "[20]\tvalid_0's l2: 45.5132\tvalid_1's l2: 2547.15\n",
      "[40]\tvalid_0's l2: 99.4514\tvalid_1's l2: 2424.85\n",
      "[60]\tvalid_0's l2: 128.214\tvalid_1's l2: 2339.4\n",
      "[80]\tvalid_0's l2: 47.9496\tvalid_1's l2: 2265.02\n",
      "[100]\tvalid_0's l2: 22.668\tvalid_1's l2: 2209.63\n"
     ]
    },
    {
     "name": "stderr",
     "output_type": "stream",
     "text": [
      "/opt/conda/lib/python3.7/site-packages/lightgbm/sklearn.py:736: UserWarning: 'verbose' argument is deprecated and will be removed in a future release of LightGBM. Pass 'log_evaluation()' callback via 'callbacks' argument instead.\n",
      "  _log_warning(\"'verbose' argument is deprecated and will be removed in a future release of LightGBM. \"\n"
     ]
    },
    {
     "name": "stdout",
     "output_type": "stream",
     "text": [
      "[20]\tvalid_0's l2: 65.0132\tvalid_1's l2: 2487.48\n",
      "[40]\tvalid_0's l2: 47.5272\tvalid_1's l2: 2352.8\n",
      "[60]\tvalid_0's l2: 49.6743\tvalid_1's l2: 2251.88\n",
      "[80]\tvalid_0's l2: 21.63\tvalid_1's l2: 2164.42\n",
      "[100]\tvalid_0's l2: 15.6869\tvalid_1's l2: 2093.81\n"
     ]
    },
    {
     "name": "stderr",
     "output_type": "stream",
     "text": [
      "/opt/conda/lib/python3.7/site-packages/lightgbm/sklearn.py:736: UserWarning: 'verbose' argument is deprecated and will be removed in a future release of LightGBM. Pass 'log_evaluation()' callback via 'callbacks' argument instead.\n",
      "  _log_warning(\"'verbose' argument is deprecated and will be removed in a future release of LightGBM. \"\n"
     ]
    },
    {
     "name": "stdout",
     "output_type": "stream",
     "text": [
      "[20]\tvalid_0's l2: 110.659\tvalid_1's l2: 2457.62\n",
      "[40]\tvalid_0's l2: 67.5643\tvalid_1's l2: 2325.68\n",
      "[60]\tvalid_0's l2: 82.4869\tvalid_1's l2: 2226.18\n",
      "[80]\tvalid_0's l2: 81.9899\tvalid_1's l2: 2142.87\n",
      "[100]\tvalid_0's l2: 31.0408\tvalid_1's l2: 2074.24\n"
     ]
    },
    {
     "name": "stderr",
     "output_type": "stream",
     "text": [
      "/opt/conda/lib/python3.7/site-packages/lightgbm/sklearn.py:736: UserWarning: 'verbose' argument is deprecated and will be removed in a future release of LightGBM. Pass 'log_evaluation()' callback via 'callbacks' argument instead.\n",
      "  _log_warning(\"'verbose' argument is deprecated and will be removed in a future release of LightGBM. \"\n"
     ]
    },
    {
     "name": "stdout",
     "output_type": "stream",
     "text": [
      "[20]\tvalid_0's l2: 24.0572\tvalid_1's l2: 2486.39\n",
      "[40]\tvalid_0's l2: 12.0168\tvalid_1's l2: 2335.14\n",
      "[60]\tvalid_0's l2: 4.44343\tvalid_1's l2: 2222.06\n",
      "[80]\tvalid_0's l2: 1.05516\tvalid_1's l2: 2132.58\n",
      "[100]\tvalid_0's l2: 9.31927\tvalid_1's l2: 2057.15\n"
     ]
    },
    {
     "name": "stderr",
     "output_type": "stream",
     "text": [
      "/opt/conda/lib/python3.7/site-packages/lightgbm/sklearn.py:736: UserWarning: 'verbose' argument is deprecated and will be removed in a future release of LightGBM. Pass 'log_evaluation()' callback via 'callbacks' argument instead.\n",
      "  _log_warning(\"'verbose' argument is deprecated and will be removed in a future release of LightGBM. \"\n"
     ]
    },
    {
     "name": "stdout",
     "output_type": "stream",
     "text": [
      "[20]\tvalid_0's l2: 12.472\tvalid_1's l2: 2462.45\n",
      "[40]\tvalid_0's l2: 7.04608\tvalid_1's l2: 2317.34\n",
      "[60]\tvalid_0's l2: 0.319136\tvalid_1's l2: 2204.98\n",
      "[80]\tvalid_0's l2: 3.94264\tvalid_1's l2: 2104.72\n",
      "[100]\tvalid_0's l2: 14.4399\tvalid_1's l2: 2028.11\n"
     ]
    },
    {
     "name": "stderr",
     "output_type": "stream",
     "text": [
      "/opt/conda/lib/python3.7/site-packages/lightgbm/sklearn.py:736: UserWarning: 'verbose' argument is deprecated and will be removed in a future release of LightGBM. Pass 'log_evaluation()' callback via 'callbacks' argument instead.\n",
      "  _log_warning(\"'verbose' argument is deprecated and will be removed in a future release of LightGBM. \"\n"
     ]
    },
    {
     "name": "stdout",
     "output_type": "stream",
     "text": [
      "[20]\tvalid_0's l2: 45.5132\tvalid_1's l2: 2547.15\n",
      "[40]\tvalid_0's l2: 99.4514\tvalid_1's l2: 2424.85\n",
      "[60]\tvalid_0's l2: 128.214\tvalid_1's l2: 2339.4\n",
      "[80]\tvalid_0's l2: 47.9496\tvalid_1's l2: 2265.02\n",
      "[100]\tvalid_0's l2: 22.668\tvalid_1's l2: 2209.63\n"
     ]
    },
    {
     "name": "stderr",
     "output_type": "stream",
     "text": [
      "/opt/conda/lib/python3.7/site-packages/lightgbm/sklearn.py:736: UserWarning: 'verbose' argument is deprecated and will be removed in a future release of LightGBM. Pass 'log_evaluation()' callback via 'callbacks' argument instead.\n",
      "  _log_warning(\"'verbose' argument is deprecated and will be removed in a future release of LightGBM. \"\n"
     ]
    },
    {
     "name": "stdout",
     "output_type": "stream",
     "text": [
      "[20]\tvalid_0's l2: 60.655\tvalid_1's l2: 2487\n",
      "[40]\tvalid_0's l2: 53.8723\tvalid_1's l2: 2357.55\n",
      "[60]\tvalid_0's l2: 22.1324\tvalid_1's l2: 2251.2\n",
      "[80]\tvalid_0's l2: 17.7526\tvalid_1's l2: 2166.13\n",
      "[100]\tvalid_0's l2: 4.04099\tvalid_1's l2: 2086.45\n"
     ]
    },
    {
     "name": "stderr",
     "output_type": "stream",
     "text": [
      "/opt/conda/lib/python3.7/site-packages/lightgbm/sklearn.py:736: UserWarning: 'verbose' argument is deprecated and will be removed in a future release of LightGBM. Pass 'log_evaluation()' callback via 'callbacks' argument instead.\n",
      "  _log_warning(\"'verbose' argument is deprecated and will be removed in a future release of LightGBM. \"\n"
     ]
    },
    {
     "name": "stdout",
     "output_type": "stream",
     "text": [
      "[20]\tvalid_0's l2: 133.431\tvalid_1's l2: 2453.12\n",
      "[40]\tvalid_0's l2: 91.0078\tvalid_1's l2: 2324.88\n",
      "[60]\tvalid_0's l2: 129.493\tvalid_1's l2: 2223.11\n",
      "[80]\tvalid_0's l2: 80.631\tvalid_1's l2: 2136.97\n",
      "[100]\tvalid_0's l2: 20.4767\tvalid_1's l2: 2063.49\n"
     ]
    },
    {
     "name": "stderr",
     "output_type": "stream",
     "text": [
      "/opt/conda/lib/python3.7/site-packages/lightgbm/sklearn.py:736: UserWarning: 'verbose' argument is deprecated and will be removed in a future release of LightGBM. Pass 'log_evaluation()' callback via 'callbacks' argument instead.\n",
      "  _log_warning(\"'verbose' argument is deprecated and will be removed in a future release of LightGBM. \"\n"
     ]
    },
    {
     "name": "stdout",
     "output_type": "stream",
     "text": [
      "[20]\tvalid_0's l2: 11.3956\tvalid_1's l2: 2486.39\n",
      "[40]\tvalid_0's l2: 3.41416\tvalid_1's l2: 2331.96\n",
      "[60]\tvalid_0's l2: 2.79934\tvalid_1's l2: 2210.74\n",
      "[80]\tvalid_0's l2: 8.94341\tvalid_1's l2: 2122.69\n",
      "[100]\tvalid_0's l2: 44.1839\tvalid_1's l2: 2046.3\n"
     ]
    },
    {
     "name": "stderr",
     "output_type": "stream",
     "text": [
      "/opt/conda/lib/python3.7/site-packages/lightgbm/sklearn.py:736: UserWarning: 'verbose' argument is deprecated and will be removed in a future release of LightGBM. Pass 'log_evaluation()' callback via 'callbacks' argument instead.\n",
      "  _log_warning(\"'verbose' argument is deprecated and will be removed in a future release of LightGBM. \"\n"
     ]
    },
    {
     "name": "stdout",
     "output_type": "stream",
     "text": [
      "[20]\tvalid_0's l2: 22.6672\tvalid_1's l2: 2459.13\n",
      "[40]\tvalid_0's l2: 10.6517\tvalid_1's l2: 2314.73\n",
      "[60]\tvalid_0's l2: 0.385698\tvalid_1's l2: 2203.11\n",
      "[80]\tvalid_0's l2: 5.76635\tvalid_1's l2: 2109.09\n",
      "[100]\tvalid_0's l2: 8.33681\tvalid_1's l2: 2027.8\n"
     ]
    },
    {
     "name": "stderr",
     "output_type": "stream",
     "text": [
      "/opt/conda/lib/python3.7/site-packages/lightgbm/sklearn.py:736: UserWarning: 'verbose' argument is deprecated and will be removed in a future release of LightGBM. Pass 'log_evaluation()' callback via 'callbacks' argument instead.\n",
      "  _log_warning(\"'verbose' argument is deprecated and will be removed in a future release of LightGBM. \"\n"
     ]
    },
    {
     "name": "stdout",
     "output_type": "stream",
     "text": [
      "[20]\tvalid_0's l2: 55.2161\tvalid_1's l2: 2550.48\n",
      "[40]\tvalid_0's l2: 139.816\tvalid_1's l2: 2422.34\n",
      "[60]\tvalid_0's l2: 123.046\tvalid_1's l2: 2338.16\n",
      "[80]\tvalid_0's l2: 52.1474\tvalid_1's l2: 2266.64\n",
      "[100]\tvalid_0's l2: 59.8763\tvalid_1's l2: 2215.32\n"
     ]
    },
    {
     "name": "stderr",
     "output_type": "stream",
     "text": [
      "/opt/conda/lib/python3.7/site-packages/lightgbm/sklearn.py:736: UserWarning: 'verbose' argument is deprecated and will be removed in a future release of LightGBM. Pass 'log_evaluation()' callback via 'callbacks' argument instead.\n",
      "  _log_warning(\"'verbose' argument is deprecated and will be removed in a future release of LightGBM. \"\n"
     ]
    },
    {
     "name": "stdout",
     "output_type": "stream",
     "text": [
      "[20]\tvalid_0's l2: 60.655\tvalid_1's l2: 2487\n",
      "[40]\tvalid_0's l2: 53.8723\tvalid_1's l2: 2357.55\n",
      "[60]\tvalid_0's l2: 22.1324\tvalid_1's l2: 2251.2\n",
      "[80]\tvalid_0's l2: 17.7526\tvalid_1's l2: 2166.13\n",
      "[100]\tvalid_0's l2: 4.04099\tvalid_1's l2: 2086.45\n"
     ]
    },
    {
     "name": "stderr",
     "output_type": "stream",
     "text": [
      "/opt/conda/lib/python3.7/site-packages/lightgbm/sklearn.py:736: UserWarning: 'verbose' argument is deprecated and will be removed in a future release of LightGBM. Pass 'log_evaluation()' callback via 'callbacks' argument instead.\n",
      "  _log_warning(\"'verbose' argument is deprecated and will be removed in a future release of LightGBM. \"\n"
     ]
    },
    {
     "name": "stdout",
     "output_type": "stream",
     "text": [
      "[20]\tvalid_0's l2: 133.431\tvalid_1's l2: 2453.12\n",
      "[40]\tvalid_0's l2: 91.0078\tvalid_1's l2: 2324.88\n",
      "[60]\tvalid_0's l2: 129.493\tvalid_1's l2: 2223.11\n",
      "[80]\tvalid_0's l2: 80.631\tvalid_1's l2: 2136.97\n",
      "[100]\tvalid_0's l2: 20.4767\tvalid_1's l2: 2063.49\n"
     ]
    },
    {
     "name": "stderr",
     "output_type": "stream",
     "text": [
      "/opt/conda/lib/python3.7/site-packages/lightgbm/sklearn.py:736: UserWarning: 'verbose' argument is deprecated and will be removed in a future release of LightGBM. Pass 'log_evaluation()' callback via 'callbacks' argument instead.\n",
      "  _log_warning(\"'verbose' argument is deprecated and will be removed in a future release of LightGBM. \"\n"
     ]
    },
    {
     "name": "stdout",
     "output_type": "stream",
     "text": [
      "[20]\tvalid_0's l2: 11.3956\tvalid_1's l2: 2486.39\n",
      "[40]\tvalid_0's l2: 3.41416\tvalid_1's l2: 2331.96\n",
      "[60]\tvalid_0's l2: 2.79934\tvalid_1's l2: 2210.74\n",
      "[80]\tvalid_0's l2: 8.94341\tvalid_1's l2: 2122.69\n",
      "[100]\tvalid_0's l2: 44.1839\tvalid_1's l2: 2046.3\n"
     ]
    },
    {
     "name": "stderr",
     "output_type": "stream",
     "text": [
      "/opt/conda/lib/python3.7/site-packages/lightgbm/sklearn.py:736: UserWarning: 'verbose' argument is deprecated and will be removed in a future release of LightGBM. Pass 'log_evaluation()' callback via 'callbacks' argument instead.\n",
      "  _log_warning(\"'verbose' argument is deprecated and will be removed in a future release of LightGBM. \"\n"
     ]
    },
    {
     "name": "stdout",
     "output_type": "stream",
     "text": [
      "[20]\tvalid_0's l2: 22.6672\tvalid_1's l2: 2459.13\n",
      "[40]\tvalid_0's l2: 10.6517\tvalid_1's l2: 2314.73\n",
      "[60]\tvalid_0's l2: 0.385698\tvalid_1's l2: 2203.11\n",
      "[80]\tvalid_0's l2: 5.76635\tvalid_1's l2: 2109.09\n",
      "[100]\tvalid_0's l2: 8.33681\tvalid_1's l2: 2027.8\n"
     ]
    },
    {
     "name": "stderr",
     "output_type": "stream",
     "text": [
      "/opt/conda/lib/python3.7/site-packages/lightgbm/sklearn.py:736: UserWarning: 'verbose' argument is deprecated and will be removed in a future release of LightGBM. Pass 'log_evaluation()' callback via 'callbacks' argument instead.\n",
      "  _log_warning(\"'verbose' argument is deprecated and will be removed in a future release of LightGBM. \"\n"
     ]
    },
    {
     "name": "stdout",
     "output_type": "stream",
     "text": [
      "[20]\tvalid_0's l2: 55.2161\tvalid_1's l2: 2550.48\n",
      "[40]\tvalid_0's l2: 139.816\tvalid_1's l2: 2422.34\n",
      "[60]\tvalid_0's l2: 123.046\tvalid_1's l2: 2338.16\n",
      "[80]\tvalid_0's l2: 52.1474\tvalid_1's l2: 2266.64\n",
      "[100]\tvalid_0's l2: 59.8763\tvalid_1's l2: 2215.32\n"
     ]
    },
    {
     "name": "stderr",
     "output_type": "stream",
     "text": [
      "/opt/conda/lib/python3.7/site-packages/lightgbm/sklearn.py:736: UserWarning: 'verbose' argument is deprecated and will be removed in a future release of LightGBM. Pass 'log_evaluation()' callback via 'callbacks' argument instead.\n",
      "  _log_warning(\"'verbose' argument is deprecated and will be removed in a future release of LightGBM. \"\n"
     ]
    },
    {
     "name": "stdout",
     "output_type": "stream",
     "text": [
      "[20]\tvalid_0's l2: 71.4814\tvalid_1's l2: 2488.42\n",
      "[40]\tvalid_0's l2: 91.757\tvalid_1's l2: 2356.5\n",
      "[60]\tvalid_0's l2: 56.984\tvalid_1's l2: 2257.32\n",
      "[80]\tvalid_0's l2: 72.3021\tvalid_1's l2: 2173.82\n",
      "[100]\tvalid_0's l2: 25.8433\tvalid_1's l2: 2100.36\n"
     ]
    },
    {
     "name": "stderr",
     "output_type": "stream",
     "text": [
      "/opt/conda/lib/python3.7/site-packages/lightgbm/sklearn.py:736: UserWarning: 'verbose' argument is deprecated and will be removed in a future release of LightGBM. Pass 'log_evaluation()' callback via 'callbacks' argument instead.\n",
      "  _log_warning(\"'verbose' argument is deprecated and will be removed in a future release of LightGBM. \"\n"
     ]
    },
    {
     "name": "stdout",
     "output_type": "stream",
     "text": [
      "[20]\tvalid_0's l2: 105.798\tvalid_1's l2: 2456.84\n",
      "[40]\tvalid_0's l2: 159.164\tvalid_1's l2: 2329.83\n",
      "[60]\tvalid_0's l2: 197.524\tvalid_1's l2: 2227.28\n",
      "[80]\tvalid_0's l2: 147.917\tvalid_1's l2: 2141.69\n",
      "[100]\tvalid_0's l2: 61.1176\tvalid_1's l2: 2064.05\n"
     ]
    },
    {
     "name": "stderr",
     "output_type": "stream",
     "text": [
      "/opt/conda/lib/python3.7/site-packages/lightgbm/sklearn.py:736: UserWarning: 'verbose' argument is deprecated and will be removed in a future release of LightGBM. Pass 'log_evaluation()' callback via 'callbacks' argument instead.\n",
      "  _log_warning(\"'verbose' argument is deprecated and will be removed in a future release of LightGBM. \"\n"
     ]
    },
    {
     "name": "stdout",
     "output_type": "stream",
     "text": [
      "[20]\tvalid_0's l2: 24.0725\tvalid_1's l2: 2486.49\n",
      "[40]\tvalid_0's l2: 13.2604\tvalid_1's l2: 2335.43\n",
      "[60]\tvalid_0's l2: 4.54958\tvalid_1's l2: 2220.04\n",
      "[80]\tvalid_0's l2: 11.4466\tvalid_1's l2: 2132.55\n",
      "[100]\tvalid_0's l2: 19.3478\tvalid_1's l2: 2054.86\n"
     ]
    },
    {
     "name": "stderr",
     "output_type": "stream",
     "text": [
      "/opt/conda/lib/python3.7/site-packages/lightgbm/sklearn.py:736: UserWarning: 'verbose' argument is deprecated and will be removed in a future release of LightGBM. Pass 'log_evaluation()' callback via 'callbacks' argument instead.\n",
      "  _log_warning(\"'verbose' argument is deprecated and will be removed in a future release of LightGBM. \"\n"
     ]
    },
    {
     "name": "stdout",
     "output_type": "stream",
     "text": [
      "[20]\tvalid_0's l2: 12.6045\tvalid_1's l2: 2462.61\n",
      "[40]\tvalid_0's l2: 9.70443\tvalid_1's l2: 2319.74\n",
      "[60]\tvalid_0's l2: 0.398777\tvalid_1's l2: 2212.39\n",
      "[80]\tvalid_0's l2: 5.63943\tvalid_1's l2: 2114.96\n",
      "[100]\tvalid_0's l2: 13.6799\tvalid_1's l2: 2036.61\n"
     ]
    },
    {
     "name": "stderr",
     "output_type": "stream",
     "text": [
      "/opt/conda/lib/python3.7/site-packages/lightgbm/sklearn.py:736: UserWarning: 'verbose' argument is deprecated and will be removed in a future release of LightGBM. Pass 'log_evaluation()' callback via 'callbacks' argument instead.\n",
      "  _log_warning(\"'verbose' argument is deprecated and will be removed in a future release of LightGBM. \"\n"
     ]
    },
    {
     "name": "stdout",
     "output_type": "stream",
     "text": [
      "[20]\tvalid_0's l2: 45.5215\tvalid_1's l2: 2547.26\n",
      "[40]\tvalid_0's l2: 99.3822\tvalid_1's l2: 2425.01\n",
      "[60]\tvalid_0's l2: 128.13\tvalid_1's l2: 2339.6\n",
      "[80]\tvalid_0's l2: 47.9845\tvalid_1's l2: 2265.28\n",
      "[100]\tvalid_0's l2: 22.6967\tvalid_1's l2: 2209.93\n"
     ]
    },
    {
     "name": "stderr",
     "output_type": "stream",
     "text": [
      "/opt/conda/lib/python3.7/site-packages/lightgbm/sklearn.py:736: UserWarning: 'verbose' argument is deprecated and will be removed in a future release of LightGBM. Pass 'log_evaluation()' callback via 'callbacks' argument instead.\n",
      "  _log_warning(\"'verbose' argument is deprecated and will be removed in a future release of LightGBM. \"\n"
     ]
    },
    {
     "name": "stdout",
     "output_type": "stream",
     "text": [
      "[20]\tvalid_0's l2: 71.4814\tvalid_1's l2: 2488.42\n",
      "[40]\tvalid_0's l2: 91.757\tvalid_1's l2: 2356.5\n",
      "[60]\tvalid_0's l2: 56.984\tvalid_1's l2: 2257.32\n",
      "[80]\tvalid_0's l2: 72.3021\tvalid_1's l2: 2173.82\n",
      "[100]\tvalid_0's l2: 25.8433\tvalid_1's l2: 2100.36\n"
     ]
    },
    {
     "name": "stderr",
     "output_type": "stream",
     "text": [
      "/opt/conda/lib/python3.7/site-packages/lightgbm/sklearn.py:736: UserWarning: 'verbose' argument is deprecated and will be removed in a future release of LightGBM. Pass 'log_evaluation()' callback via 'callbacks' argument instead.\n",
      "  _log_warning(\"'verbose' argument is deprecated and will be removed in a future release of LightGBM. \"\n"
     ]
    },
    {
     "name": "stdout",
     "output_type": "stream",
     "text": [
      "[20]\tvalid_0's l2: 105.798\tvalid_1's l2: 2456.84\n",
      "[40]\tvalid_0's l2: 159.164\tvalid_1's l2: 2329.83\n",
      "[60]\tvalid_0's l2: 197.524\tvalid_1's l2: 2227.28\n",
      "[80]\tvalid_0's l2: 147.917\tvalid_1's l2: 2141.69\n",
      "[100]\tvalid_0's l2: 61.1176\tvalid_1's l2: 2064.05\n"
     ]
    },
    {
     "name": "stderr",
     "output_type": "stream",
     "text": [
      "/opt/conda/lib/python3.7/site-packages/lightgbm/sklearn.py:736: UserWarning: 'verbose' argument is deprecated and will be removed in a future release of LightGBM. Pass 'log_evaluation()' callback via 'callbacks' argument instead.\n",
      "  _log_warning(\"'verbose' argument is deprecated and will be removed in a future release of LightGBM. \"\n"
     ]
    },
    {
     "name": "stdout",
     "output_type": "stream",
     "text": [
      "[20]\tvalid_0's l2: 24.0725\tvalid_1's l2: 2486.49\n",
      "[40]\tvalid_0's l2: 13.2604\tvalid_1's l2: 2335.43\n",
      "[60]\tvalid_0's l2: 4.54958\tvalid_1's l2: 2220.04\n",
      "[80]\tvalid_0's l2: 11.4466\tvalid_1's l2: 2132.55\n",
      "[100]\tvalid_0's l2: 19.3478\tvalid_1's l2: 2054.86\n"
     ]
    },
    {
     "name": "stderr",
     "output_type": "stream",
     "text": [
      "/opt/conda/lib/python3.7/site-packages/lightgbm/sklearn.py:736: UserWarning: 'verbose' argument is deprecated and will be removed in a future release of LightGBM. Pass 'log_evaluation()' callback via 'callbacks' argument instead.\n",
      "  _log_warning(\"'verbose' argument is deprecated and will be removed in a future release of LightGBM. \"\n"
     ]
    },
    {
     "name": "stdout",
     "output_type": "stream",
     "text": [
      "[20]\tvalid_0's l2: 12.6045\tvalid_1's l2: 2462.61\n",
      "[40]\tvalid_0's l2: 9.70443\tvalid_1's l2: 2319.74\n",
      "[60]\tvalid_0's l2: 0.398777\tvalid_1's l2: 2212.39\n",
      "[80]\tvalid_0's l2: 5.63943\tvalid_1's l2: 2114.96\n",
      "[100]\tvalid_0's l2: 13.6799\tvalid_1's l2: 2036.61\n"
     ]
    },
    {
     "name": "stderr",
     "output_type": "stream",
     "text": [
      "/opt/conda/lib/python3.7/site-packages/lightgbm/sklearn.py:736: UserWarning: 'verbose' argument is deprecated and will be removed in a future release of LightGBM. Pass 'log_evaluation()' callback via 'callbacks' argument instead.\n",
      "  _log_warning(\"'verbose' argument is deprecated and will be removed in a future release of LightGBM. \"\n"
     ]
    },
    {
     "name": "stdout",
     "output_type": "stream",
     "text": [
      "[20]\tvalid_0's l2: 45.5215\tvalid_1's l2: 2547.26\n",
      "[40]\tvalid_0's l2: 99.3822\tvalid_1's l2: 2425.01\n",
      "[60]\tvalid_0's l2: 128.13\tvalid_1's l2: 2339.6\n",
      "[80]\tvalid_0's l2: 47.9845\tvalid_1's l2: 2265.28\n",
      "[100]\tvalid_0's l2: 22.6967\tvalid_1's l2: 2209.93\n"
     ]
    },
    {
     "name": "stderr",
     "output_type": "stream",
     "text": [
      "/opt/conda/lib/python3.7/site-packages/lightgbm/sklearn.py:736: UserWarning: 'verbose' argument is deprecated and will be removed in a future release of LightGBM. Pass 'log_evaluation()' callback via 'callbacks' argument instead.\n",
      "  _log_warning(\"'verbose' argument is deprecated and will be removed in a future release of LightGBM. \"\n"
     ]
    },
    {
     "name": "stdout",
     "output_type": "stream",
     "text": [
      "[20]\tvalid_0's l2: 46.9026\tvalid_1's l2: 2488.75\n",
      "[40]\tvalid_0's l2: 33.2656\tvalid_1's l2: 2359.21\n",
      "[60]\tvalid_0's l2: 24.007\tvalid_1's l2: 2257.04\n",
      "[80]\tvalid_0's l2: 4.51269\tvalid_1's l2: 2173.73\n",
      "[100]\tvalid_0's l2: 4.90926\tvalid_1's l2: 2107.36\n"
     ]
    },
    {
     "name": "stderr",
     "output_type": "stream",
     "text": [
      "/opt/conda/lib/python3.7/site-packages/lightgbm/sklearn.py:736: UserWarning: 'verbose' argument is deprecated and will be removed in a future release of LightGBM. Pass 'log_evaluation()' callback via 'callbacks' argument instead.\n",
      "  _log_warning(\"'verbose' argument is deprecated and will be removed in a future release of LightGBM. \"\n"
     ]
    },
    {
     "name": "stdout",
     "output_type": "stream",
     "text": [
      "[20]\tvalid_0's l2: 109.345\tvalid_1's l2: 2457.31\n",
      "[40]\tvalid_0's l2: 139.147\tvalid_1's l2: 2334.13\n",
      "[60]\tvalid_0's l2: 103.281\tvalid_1's l2: 2233.45\n",
      "[80]\tvalid_0's l2: 73.7962\tvalid_1's l2: 2151.42\n",
      "[100]\tvalid_0's l2: 31.511\tvalid_1's l2: 2078.81\n"
     ]
    },
    {
     "name": "stderr",
     "output_type": "stream",
     "text": [
      "/opt/conda/lib/python3.7/site-packages/lightgbm/sklearn.py:736: UserWarning: 'verbose' argument is deprecated and will be removed in a future release of LightGBM. Pass 'log_evaluation()' callback via 'callbacks' argument instead.\n",
      "  _log_warning(\"'verbose' argument is deprecated and will be removed in a future release of LightGBM. \"\n"
     ]
    },
    {
     "name": "stdout",
     "output_type": "stream",
     "text": [
      "[20]\tvalid_0's l2: 18.3181\tvalid_1's l2: 2487.28\n",
      "[40]\tvalid_0's l2: 10.0431\tvalid_1's l2: 2335.69\n",
      "[60]\tvalid_0's l2: 3.79222\tvalid_1's l2: 2224.6\n",
      "[80]\tvalid_0's l2: 46.2776\tvalid_1's l2: 2142.74\n",
      "[100]\tvalid_0's l2: 105.183\tvalid_1's l2: 2067.7\n"
     ]
    },
    {
     "name": "stderr",
     "output_type": "stream",
     "text": [
      "/opt/conda/lib/python3.7/site-packages/lightgbm/sklearn.py:736: UserWarning: 'verbose' argument is deprecated and will be removed in a future release of LightGBM. Pass 'log_evaluation()' callback via 'callbacks' argument instead.\n",
      "  _log_warning(\"'verbose' argument is deprecated and will be removed in a future release of LightGBM. \"\n"
     ]
    },
    {
     "name": "stdout",
     "output_type": "stream",
     "text": [
      "[20]\tvalid_0's l2: 12.213\tvalid_1's l2: 2464.71\n",
      "[40]\tvalid_0's l2: 1.3853\tvalid_1's l2: 2315.79\n",
      "[60]\tvalid_0's l2: 1.86975\tvalid_1's l2: 2207.47\n",
      "[80]\tvalid_0's l2: 6.16323\tvalid_1's l2: 2114.54\n",
      "[100]\tvalid_0's l2: 16.55\tvalid_1's l2: 2040.98\n"
     ]
    },
    {
     "name": "stderr",
     "output_type": "stream",
     "text": [
      "/opt/conda/lib/python3.7/site-packages/lightgbm/sklearn.py:736: UserWarning: 'verbose' argument is deprecated and will be removed in a future release of LightGBM. Pass 'log_evaluation()' callback via 'callbacks' argument instead.\n",
      "  _log_warning(\"'verbose' argument is deprecated and will be removed in a future release of LightGBM. \"\n"
     ]
    },
    {
     "name": "stdout",
     "output_type": "stream",
     "text": [
      "[20]\tvalid_0's l2: 17.6977\tvalid_1's l2: 2556.51\n",
      "[40]\tvalid_0's l2: 43.7782\tvalid_1's l2: 2429.76\n",
      "[60]\tvalid_0's l2: 70.8551\tvalid_1's l2: 2348.56\n",
      "[80]\tvalid_0's l2: 45.1713\tvalid_1's l2: 2267.79\n",
      "[100]\tvalid_0's l2: 30.2949\tvalid_1's l2: 2220.34\n"
     ]
    },
    {
     "name": "stderr",
     "output_type": "stream",
     "text": [
      "/opt/conda/lib/python3.7/site-packages/lightgbm/sklearn.py:736: UserWarning: 'verbose' argument is deprecated and will be removed in a future release of LightGBM. Pass 'log_evaluation()' callback via 'callbacks' argument instead.\n",
      "  _log_warning(\"'verbose' argument is deprecated and will be removed in a future release of LightGBM. \"\n"
     ]
    },
    {
     "name": "stdout",
     "output_type": "stream",
     "text": [
      "[20]\tvalid_0's l2: 46.9026\tvalid_1's l2: 2488.75\n",
      "[40]\tvalid_0's l2: 33.2656\tvalid_1's l2: 2359.21\n",
      "[60]\tvalid_0's l2: 24.007\tvalid_1's l2: 2257.04\n",
      "[80]\tvalid_0's l2: 4.51269\tvalid_1's l2: 2173.73\n",
      "[100]\tvalid_0's l2: 4.90926\tvalid_1's l2: 2107.36\n"
     ]
    },
    {
     "name": "stderr",
     "output_type": "stream",
     "text": [
      "/opt/conda/lib/python3.7/site-packages/lightgbm/sklearn.py:736: UserWarning: 'verbose' argument is deprecated and will be removed in a future release of LightGBM. Pass 'log_evaluation()' callback via 'callbacks' argument instead.\n",
      "  _log_warning(\"'verbose' argument is deprecated and will be removed in a future release of LightGBM. \"\n"
     ]
    },
    {
     "name": "stdout",
     "output_type": "stream",
     "text": [
      "[20]\tvalid_0's l2: 109.345\tvalid_1's l2: 2457.31\n",
      "[40]\tvalid_0's l2: 139.147\tvalid_1's l2: 2334.13\n",
      "[60]\tvalid_0's l2: 103.281\tvalid_1's l2: 2233.45\n",
      "[80]\tvalid_0's l2: 73.7962\tvalid_1's l2: 2151.42\n",
      "[100]\tvalid_0's l2: 31.511\tvalid_1's l2: 2078.81\n"
     ]
    },
    {
     "name": "stderr",
     "output_type": "stream",
     "text": [
      "/opt/conda/lib/python3.7/site-packages/lightgbm/sklearn.py:736: UserWarning: 'verbose' argument is deprecated and will be removed in a future release of LightGBM. Pass 'log_evaluation()' callback via 'callbacks' argument instead.\n",
      "  _log_warning(\"'verbose' argument is deprecated and will be removed in a future release of LightGBM. \"\n"
     ]
    },
    {
     "name": "stdout",
     "output_type": "stream",
     "text": [
      "[20]\tvalid_0's l2: 18.3181\tvalid_1's l2: 2487.28\n",
      "[40]\tvalid_0's l2: 10.0431\tvalid_1's l2: 2335.69\n",
      "[60]\tvalid_0's l2: 3.79222\tvalid_1's l2: 2224.6\n",
      "[80]\tvalid_0's l2: 46.2776\tvalid_1's l2: 2142.74\n",
      "[100]\tvalid_0's l2: 105.183\tvalid_1's l2: 2067.7\n"
     ]
    },
    {
     "name": "stderr",
     "output_type": "stream",
     "text": [
      "/opt/conda/lib/python3.7/site-packages/lightgbm/sklearn.py:736: UserWarning: 'verbose' argument is deprecated and will be removed in a future release of LightGBM. Pass 'log_evaluation()' callback via 'callbacks' argument instead.\n",
      "  _log_warning(\"'verbose' argument is deprecated and will be removed in a future release of LightGBM. \"\n"
     ]
    },
    {
     "name": "stdout",
     "output_type": "stream",
     "text": [
      "[20]\tvalid_0's l2: 12.213\tvalid_1's l2: 2464.71\n",
      "[40]\tvalid_0's l2: 1.3853\tvalid_1's l2: 2315.79\n",
      "[60]\tvalid_0's l2: 1.86975\tvalid_1's l2: 2207.47\n",
      "[80]\tvalid_0's l2: 6.16323\tvalid_1's l2: 2114.54\n",
      "[100]\tvalid_0's l2: 16.55\tvalid_1's l2: 2040.98\n"
     ]
    },
    {
     "name": "stderr",
     "output_type": "stream",
     "text": [
      "/opt/conda/lib/python3.7/site-packages/lightgbm/sklearn.py:736: UserWarning: 'verbose' argument is deprecated and will be removed in a future release of LightGBM. Pass 'log_evaluation()' callback via 'callbacks' argument instead.\n",
      "  _log_warning(\"'verbose' argument is deprecated and will be removed in a future release of LightGBM. \"\n"
     ]
    },
    {
     "name": "stdout",
     "output_type": "stream",
     "text": [
      "[20]\tvalid_0's l2: 17.6977\tvalid_1's l2: 2556.51\n",
      "[40]\tvalid_0's l2: 43.7782\tvalid_1's l2: 2429.76\n",
      "[60]\tvalid_0's l2: 70.8551\tvalid_1's l2: 2348.56\n",
      "[80]\tvalid_0's l2: 45.1713\tvalid_1's l2: 2267.79\n",
      "[100]\tvalid_0's l2: 30.2949\tvalid_1's l2: 2220.34\n"
     ]
    },
    {
     "name": "stderr",
     "output_type": "stream",
     "text": [
      "/opt/conda/lib/python3.7/site-packages/lightgbm/sklearn.py:736: UserWarning: 'verbose' argument is deprecated and will be removed in a future release of LightGBM. Pass 'log_evaluation()' callback via 'callbacks' argument instead.\n",
      "  _log_warning(\"'verbose' argument is deprecated and will be removed in a future release of LightGBM. \"\n"
     ]
    },
    {
     "name": "stdout",
     "output_type": "stream",
     "text": [
      "[20]\tvalid_0's l2: 68.4465\tvalid_1's l2: 2491.02\n",
      "[40]\tvalid_0's l2: 47.0888\tvalid_1's l2: 2356.85\n",
      "[60]\tvalid_0's l2: 30.0748\tvalid_1's l2: 2257.77\n",
      "[80]\tvalid_0's l2: 26.2869\tvalid_1's l2: 2178.08\n",
      "[100]\tvalid_0's l2: 8.11901\tvalid_1's l2: 2108.61\n"
     ]
    },
    {
     "name": "stderr",
     "output_type": "stream",
     "text": [
      "/opt/conda/lib/python3.7/site-packages/lightgbm/sklearn.py:736: UserWarning: 'verbose' argument is deprecated and will be removed in a future release of LightGBM. Pass 'log_evaluation()' callback via 'callbacks' argument instead.\n",
      "  _log_warning(\"'verbose' argument is deprecated and will be removed in a future release of LightGBM. \"\n"
     ]
    },
    {
     "name": "stdout",
     "output_type": "stream",
     "text": [
      "[20]\tvalid_0's l2: 116.916\tvalid_1's l2: 2458.07\n",
      "[40]\tvalid_0's l2: 88.1049\tvalid_1's l2: 2335.08\n",
      "[60]\tvalid_0's l2: 85.514\tvalid_1's l2: 2231.8\n",
      "[80]\tvalid_0's l2: 40.2001\tvalid_1's l2: 2152.33\n",
      "[100]\tvalid_0's l2: 14.0423\tvalid_1's l2: 2086.86\n"
     ]
    },
    {
     "name": "stderr",
     "output_type": "stream",
     "text": [
      "/opt/conda/lib/python3.7/site-packages/lightgbm/sklearn.py:736: UserWarning: 'verbose' argument is deprecated and will be removed in a future release of LightGBM. Pass 'log_evaluation()' callback via 'callbacks' argument instead.\n",
      "  _log_warning(\"'verbose' argument is deprecated and will be removed in a future release of LightGBM. \"\n"
     ]
    },
    {
     "name": "stdout",
     "output_type": "stream",
     "text": [
      "[20]\tvalid_0's l2: 45.7873\tvalid_1's l2: 2493.28\n",
      "[40]\tvalid_0's l2: 11.9054\tvalid_1's l2: 2341.66\n",
      "[60]\tvalid_0's l2: 0.0709186\tvalid_1's l2: 2232.91\n",
      "[80]\tvalid_0's l2: 11.1665\tvalid_1's l2: 2143.71\n",
      "[100]\tvalid_0's l2: 21.4529\tvalid_1's l2: 2074.26\n"
     ]
    },
    {
     "name": "stderr",
     "output_type": "stream",
     "text": [
      "/opt/conda/lib/python3.7/site-packages/lightgbm/sklearn.py:736: UserWarning: 'verbose' argument is deprecated and will be removed in a future release of LightGBM. Pass 'log_evaluation()' callback via 'callbacks' argument instead.\n",
      "  _log_warning(\"'verbose' argument is deprecated and will be removed in a future release of LightGBM. \"\n"
     ]
    },
    {
     "name": "stdout",
     "output_type": "stream",
     "text": [
      "[20]\tvalid_0's l2: 12.4777\tvalid_1's l2: 2465.96\n",
      "[40]\tvalid_0's l2: 0.0935056\tvalid_1's l2: 2320.44\n",
      "[60]\tvalid_0's l2: 0.444191\tvalid_1's l2: 2215.54\n",
      "[80]\tvalid_0's l2: 4.81796\tvalid_1's l2: 2118.88\n",
      "[100]\tvalid_0's l2: 6.40319\tvalid_1's l2: 2040\n"
     ]
    },
    {
     "name": "stderr",
     "output_type": "stream",
     "text": [
      "/opt/conda/lib/python3.7/site-packages/lightgbm/sklearn.py:736: UserWarning: 'verbose' argument is deprecated and will be removed in a future release of LightGBM. Pass 'log_evaluation()' callback via 'callbacks' argument instead.\n",
      "  _log_warning(\"'verbose' argument is deprecated and will be removed in a future release of LightGBM. \"\n"
     ]
    },
    {
     "name": "stdout",
     "output_type": "stream",
     "text": [
      "[20]\tvalid_0's l2: 27.0115\tvalid_1's l2: 2557.49\n",
      "[40]\tvalid_0's l2: 68.0651\tvalid_1's l2: 2431.39\n",
      "[60]\tvalid_0's l2: 116.852\tvalid_1's l2: 2340.34\n",
      "[80]\tvalid_0's l2: 70.1723\tvalid_1's l2: 2266.94\n",
      "[100]\tvalid_0's l2: 37.7289\tvalid_1's l2: 2207.72\n"
     ]
    },
    {
     "name": "stderr",
     "output_type": "stream",
     "text": [
      "/opt/conda/lib/python3.7/site-packages/lightgbm/sklearn.py:736: UserWarning: 'verbose' argument is deprecated and will be removed in a future release of LightGBM. Pass 'log_evaluation()' callback via 'callbacks' argument instead.\n",
      "  _log_warning(\"'verbose' argument is deprecated and will be removed in a future release of LightGBM. \"\n"
     ]
    },
    {
     "name": "stdout",
     "output_type": "stream",
     "text": [
      "[20]\tvalid_0's l2: 68.4465\tvalid_1's l2: 2491.02\n",
      "[40]\tvalid_0's l2: 47.0888\tvalid_1's l2: 2356.85\n",
      "[60]\tvalid_0's l2: 30.0748\tvalid_1's l2: 2257.77\n",
      "[80]\tvalid_0's l2: 26.2869\tvalid_1's l2: 2178.08\n",
      "[100]\tvalid_0's l2: 8.11901\tvalid_1's l2: 2108.61\n"
     ]
    },
    {
     "name": "stderr",
     "output_type": "stream",
     "text": [
      "/opt/conda/lib/python3.7/site-packages/lightgbm/sklearn.py:736: UserWarning: 'verbose' argument is deprecated and will be removed in a future release of LightGBM. Pass 'log_evaluation()' callback via 'callbacks' argument instead.\n",
      "  _log_warning(\"'verbose' argument is deprecated and will be removed in a future release of LightGBM. \"\n"
     ]
    },
    {
     "name": "stdout",
     "output_type": "stream",
     "text": [
      "[20]\tvalid_0's l2: 116.916\tvalid_1's l2: 2458.07\n",
      "[40]\tvalid_0's l2: 88.1049\tvalid_1's l2: 2335.08\n",
      "[60]\tvalid_0's l2: 85.514\tvalid_1's l2: 2231.8\n",
      "[80]\tvalid_0's l2: 40.2001\tvalid_1's l2: 2152.33\n",
      "[100]\tvalid_0's l2: 14.0423\tvalid_1's l2: 2086.86\n"
     ]
    },
    {
     "name": "stderr",
     "output_type": "stream",
     "text": [
      "/opt/conda/lib/python3.7/site-packages/lightgbm/sklearn.py:736: UserWarning: 'verbose' argument is deprecated and will be removed in a future release of LightGBM. Pass 'log_evaluation()' callback via 'callbacks' argument instead.\n",
      "  _log_warning(\"'verbose' argument is deprecated and will be removed in a future release of LightGBM. \"\n"
     ]
    },
    {
     "name": "stdout",
     "output_type": "stream",
     "text": [
      "[20]\tvalid_0's l2: 45.7873\tvalid_1's l2: 2493.28\n",
      "[40]\tvalid_0's l2: 11.9054\tvalid_1's l2: 2341.66\n",
      "[60]\tvalid_0's l2: 0.0709186\tvalid_1's l2: 2232.91\n",
      "[80]\tvalid_0's l2: 11.1665\tvalid_1's l2: 2143.71\n",
      "[100]\tvalid_0's l2: 21.4529\tvalid_1's l2: 2074.26\n"
     ]
    },
    {
     "name": "stderr",
     "output_type": "stream",
     "text": [
      "/opt/conda/lib/python3.7/site-packages/lightgbm/sklearn.py:736: UserWarning: 'verbose' argument is deprecated and will be removed in a future release of LightGBM. Pass 'log_evaluation()' callback via 'callbacks' argument instead.\n",
      "  _log_warning(\"'verbose' argument is deprecated and will be removed in a future release of LightGBM. \"\n"
     ]
    },
    {
     "name": "stdout",
     "output_type": "stream",
     "text": [
      "[20]\tvalid_0's l2: 12.4777\tvalid_1's l2: 2465.96\n",
      "[40]\tvalid_0's l2: 0.0935056\tvalid_1's l2: 2320.44\n",
      "[60]\tvalid_0's l2: 0.444191\tvalid_1's l2: 2215.54\n",
      "[80]\tvalid_0's l2: 4.81796\tvalid_1's l2: 2118.88\n",
      "[100]\tvalid_0's l2: 6.40319\tvalid_1's l2: 2040\n"
     ]
    },
    {
     "name": "stderr",
     "output_type": "stream",
     "text": [
      "/opt/conda/lib/python3.7/site-packages/lightgbm/sklearn.py:736: UserWarning: 'verbose' argument is deprecated and will be removed in a future release of LightGBM. Pass 'log_evaluation()' callback via 'callbacks' argument instead.\n",
      "  _log_warning(\"'verbose' argument is deprecated and will be removed in a future release of LightGBM. \"\n"
     ]
    },
    {
     "name": "stdout",
     "output_type": "stream",
     "text": [
      "[20]\tvalid_0's l2: 27.0115\tvalid_1's l2: 2557.49\n",
      "[40]\tvalid_0's l2: 68.0651\tvalid_1's l2: 2431.39\n"
     ]
    }
   ],
   "source": [
    "%%time\n",
    "model_dict, lag_score_df = lgbm_tuning(param_grid)"
   ]
  },
  {
   "cell_type": "code",
   "execution_count": 48,
   "metadata": {},
   "outputs": [
    {
     "name": "stderr",
     "output_type": "stream",
     "text": [
      "/opt/conda/lib/python3.7/site-packages/lightgbm/sklearn.py:736: UserWarning: 'verbose' argument is deprecated and will be removed in a future release of LightGBM. Pass 'log_evaluation()' callback via 'callbacks' argument instead.\n",
      "  _log_warning(\"'verbose' argument is deprecated and will be removed in a future release of LightGBM. \"\n"
     ]
    },
    {
     "name": "stdout",
     "output_type": "stream",
     "text": [
      "[20]\tvalid_0's l2: 794.02\tvalid_1's l2: 2475.05\n",
      "[40]\tvalid_0's l2: 665.655\tvalid_1's l2: 2359.89\n",
      "[60]\tvalid_0's l2: 518.244\tvalid_1's l2: 2270.16\n",
      "[80]\tvalid_0's l2: 484.598\tvalid_1's l2: 2193.34\n",
      "[100]\tvalid_0's l2: 384.511\tvalid_1's l2: 2134.79\n"
     ]
    },
    {
     "name": "stderr",
     "output_type": "stream",
     "text": [
      "/opt/conda/lib/python3.7/site-packages/lightgbm/sklearn.py:736: UserWarning: 'verbose' argument is deprecated and will be removed in a future release of LightGBM. Pass 'log_evaluation()' callback via 'callbacks' argument instead.\n",
      "  _log_warning(\"'verbose' argument is deprecated and will be removed in a future release of LightGBM. \"\n"
     ]
    },
    {
     "name": "stdout",
     "output_type": "stream",
     "text": [
      "[20]\tvalid_0's l2: 91.5103\tvalid_1's l2: 2488.4\n",
      "[40]\tvalid_0's l2: 101.513\tvalid_1's l2: 2343.42\n",
      "[60]\tvalid_0's l2: 149.049\tvalid_1's l2: 2237.94\n",
      "[80]\tvalid_0's l2: 182.945\tvalid_1's l2: 2138.28\n",
      "[100]\tvalid_0's l2: 211.155\tvalid_1's l2: 2065.83\n"
     ]
    },
    {
     "name": "stderr",
     "output_type": "stream",
     "text": [
      "/opt/conda/lib/python3.7/site-packages/lightgbm/sklearn.py:736: UserWarning: 'verbose' argument is deprecated and will be removed in a future release of LightGBM. Pass 'log_evaluation()' callback via 'callbacks' argument instead.\n",
      "  _log_warning(\"'verbose' argument is deprecated and will be removed in a future release of LightGBM. \"\n"
     ]
    },
    {
     "name": "stdout",
     "output_type": "stream",
     "text": [
      "[20]\tvalid_0's l2: 175.551\tvalid_1's l2: 2459.49\n",
      "[40]\tvalid_0's l2: 156.397\tvalid_1's l2: 2306.61\n",
      "[60]\tvalid_0's l2: 132.89\tvalid_1's l2: 2204.44\n",
      "[80]\tvalid_0's l2: 131.809\tvalid_1's l2: 2112.64\n",
      "[100]\tvalid_0's l2: 188.936\tvalid_1's l2: 2046.09\n"
     ]
    },
    {
     "name": "stderr",
     "output_type": "stream",
     "text": [
      "/opt/conda/lib/python3.7/site-packages/lightgbm/sklearn.py:736: UserWarning: 'verbose' argument is deprecated and will be removed in a future release of LightGBM. Pass 'log_evaluation()' callback via 'callbacks' argument instead.\n",
      "  _log_warning(\"'verbose' argument is deprecated and will be removed in a future release of LightGBM. \"\n"
     ]
    },
    {
     "name": "stdout",
     "output_type": "stream",
     "text": [
      "[20]\tvalid_0's l2: 282.166\tvalid_1's l2: 2470.17\n",
      "[40]\tvalid_0's l2: 257.02\tvalid_1's l2: 2341.09\n",
      "[60]\tvalid_0's l2: 251.87\tvalid_1's l2: 2246.65\n",
      "[80]\tvalid_0's l2: 240.986\tvalid_1's l2: 2156.01\n",
      "[100]\tvalid_0's l2: 202.972\tvalid_1's l2: 2090.34\n"
     ]
    },
    {
     "name": "stderr",
     "output_type": "stream",
     "text": [
      "/opt/conda/lib/python3.7/site-packages/lightgbm/sklearn.py:736: UserWarning: 'verbose' argument is deprecated and will be removed in a future release of LightGBM. Pass 'log_evaluation()' callback via 'callbacks' argument instead.\n",
      "  _log_warning(\"'verbose' argument is deprecated and will be removed in a future release of LightGBM. \"\n"
     ]
    },
    {
     "name": "stdout",
     "output_type": "stream",
     "text": [
      "[20]\tvalid_0's l2: 486.204\tvalid_1's l2: 2551.43\n",
      "[40]\tvalid_0's l2: 513.313\tvalid_1's l2: 2457.41\n",
      "[60]\tvalid_0's l2: 413.943\tvalid_1's l2: 2393.57\n",
      "[80]\tvalid_0's l2: 383.168\tvalid_1's l2: 2334.47\n",
      "[100]\tvalid_0's l2: 332.967\tvalid_1's l2: 2290.08\n"
     ]
    },
    {
     "name": "stderr",
     "output_type": "stream",
     "text": [
      "/opt/conda/lib/python3.7/site-packages/lightgbm/sklearn.py:736: UserWarning: 'verbose' argument is deprecated and will be removed in a future release of LightGBM. Pass 'log_evaluation()' callback via 'callbacks' argument instead.\n",
      "  _log_warning(\"'verbose' argument is deprecated and will be removed in a future release of LightGBM. \"\n"
     ]
    },
    {
     "name": "stdout",
     "output_type": "stream",
     "text": [
      "[20]\tvalid_0's l2: 794.02\tvalid_1's l2: 2475.05\n",
      "[40]\tvalid_0's l2: 665.655\tvalid_1's l2: 2359.89\n",
      "[60]\tvalid_0's l2: 518.244\tvalid_1's l2: 2270.16\n",
      "[80]\tvalid_0's l2: 484.598\tvalid_1's l2: 2193.34\n",
      "[100]\tvalid_0's l2: 384.511\tvalid_1's l2: 2134.79\n"
     ]
    },
    {
     "name": "stderr",
     "output_type": "stream",
     "text": [
      "/opt/conda/lib/python3.7/site-packages/lightgbm/sklearn.py:736: UserWarning: 'verbose' argument is deprecated and will be removed in a future release of LightGBM. Pass 'log_evaluation()' callback via 'callbacks' argument instead.\n",
      "  _log_warning(\"'verbose' argument is deprecated and will be removed in a future release of LightGBM. \"\n"
     ]
    },
    {
     "name": "stdout",
     "output_type": "stream",
     "text": [
      "[20]\tvalid_0's l2: 91.5103\tvalid_1's l2: 2488.4\n",
      "[40]\tvalid_0's l2: 101.513\tvalid_1's l2: 2343.42\n",
      "[60]\tvalid_0's l2: 149.049\tvalid_1's l2: 2237.94\n",
      "[80]\tvalid_0's l2: 182.945\tvalid_1's l2: 2138.28\n",
      "[100]\tvalid_0's l2: 211.155\tvalid_1's l2: 2065.83\n"
     ]
    },
    {
     "name": "stderr",
     "output_type": "stream",
     "text": [
      "/opt/conda/lib/python3.7/site-packages/lightgbm/sklearn.py:736: UserWarning: 'verbose' argument is deprecated and will be removed in a future release of LightGBM. Pass 'log_evaluation()' callback via 'callbacks' argument instead.\n",
      "  _log_warning(\"'verbose' argument is deprecated and will be removed in a future release of LightGBM. \"\n"
     ]
    },
    {
     "name": "stdout",
     "output_type": "stream",
     "text": [
      "[20]\tvalid_0's l2: 175.551\tvalid_1's l2: 2459.49\n",
      "[40]\tvalid_0's l2: 156.397\tvalid_1's l2: 2306.61\n",
      "[60]\tvalid_0's l2: 132.89\tvalid_1's l2: 2204.44\n",
      "[80]\tvalid_0's l2: 131.809\tvalid_1's l2: 2112.64\n",
      "[100]\tvalid_0's l2: 188.936\tvalid_1's l2: 2046.09\n"
     ]
    },
    {
     "name": "stderr",
     "output_type": "stream",
     "text": [
      "/opt/conda/lib/python3.7/site-packages/lightgbm/sklearn.py:736: UserWarning: 'verbose' argument is deprecated and will be removed in a future release of LightGBM. Pass 'log_evaluation()' callback via 'callbacks' argument instead.\n",
      "  _log_warning(\"'verbose' argument is deprecated and will be removed in a future release of LightGBM. \"\n"
     ]
    },
    {
     "name": "stdout",
     "output_type": "stream",
     "text": [
      "[20]\tvalid_0's l2: 282.166\tvalid_1's l2: 2470.17\n",
      "[40]\tvalid_0's l2: 257.02\tvalid_1's l2: 2341.09\n",
      "[60]\tvalid_0's l2: 251.87\tvalid_1's l2: 2246.65\n",
      "[80]\tvalid_0's l2: 240.986\tvalid_1's l2: 2156.01\n",
      "[100]\tvalid_0's l2: 202.972\tvalid_1's l2: 2090.34\n"
     ]
    },
    {
     "name": "stderr",
     "output_type": "stream",
     "text": [
      "/opt/conda/lib/python3.7/site-packages/lightgbm/sklearn.py:736: UserWarning: 'verbose' argument is deprecated and will be removed in a future release of LightGBM. Pass 'log_evaluation()' callback via 'callbacks' argument instead.\n",
      "  _log_warning(\"'verbose' argument is deprecated and will be removed in a future release of LightGBM. \"\n"
     ]
    },
    {
     "name": "stdout",
     "output_type": "stream",
     "text": [
      "[20]\tvalid_0's l2: 486.204\tvalid_1's l2: 2551.43\n",
      "[40]\tvalid_0's l2: 513.313\tvalid_1's l2: 2457.41\n",
      "[60]\tvalid_0's l2: 413.943\tvalid_1's l2: 2393.57\n",
      "[80]\tvalid_0's l2: 383.168\tvalid_1's l2: 2334.47\n",
      "[100]\tvalid_0's l2: 332.967\tvalid_1's l2: 2290.08\n"
     ]
    },
    {
     "name": "stderr",
     "output_type": "stream",
     "text": [
      "/opt/conda/lib/python3.7/site-packages/lightgbm/sklearn.py:736: UserWarning: 'verbose' argument is deprecated and will be removed in a future release of LightGBM. Pass 'log_evaluation()' callback via 'callbacks' argument instead.\n",
      "  _log_warning(\"'verbose' argument is deprecated and will be removed in a future release of LightGBM. \"\n"
     ]
    },
    {
     "name": "stdout",
     "output_type": "stream",
     "text": [
      "[20]\tvalid_0's l2: 785.689\tvalid_1's l2: 2476.11\n",
      "[40]\tvalid_0's l2: 702.556\tvalid_1's l2: 2361.45\n",
      "[60]\tvalid_0's l2: 532.778\tvalid_1's l2: 2279.56\n",
      "[80]\tvalid_0's l2: 449.735\tvalid_1's l2: 2197.95\n",
      "[100]\tvalid_0's l2: 445.355\tvalid_1's l2: 2141.03\n"
     ]
    },
    {
     "name": "stderr",
     "output_type": "stream",
     "text": [
      "/opt/conda/lib/python3.7/site-packages/lightgbm/sklearn.py:736: UserWarning: 'verbose' argument is deprecated and will be removed in a future release of LightGBM. Pass 'log_evaluation()' callback via 'callbacks' argument instead.\n",
      "  _log_warning(\"'verbose' argument is deprecated and will be removed in a future release of LightGBM. \"\n"
     ]
    },
    {
     "name": "stdout",
     "output_type": "stream",
     "text": [
      "[20]\tvalid_0's l2: 93.2707\tvalid_1's l2: 2492.48\n",
      "[40]\tvalid_0's l2: 80.8501\tvalid_1's l2: 2343.2\n",
      "[60]\tvalid_0's l2: 93.7057\tvalid_1's l2: 2238.55\n",
      "[80]\tvalid_0's l2: 148.188\tvalid_1's l2: 2144.35\n",
      "[100]\tvalid_0's l2: 200.285\tvalid_1's l2: 2074.38\n"
     ]
    },
    {
     "name": "stderr",
     "output_type": "stream",
     "text": [
      "/opt/conda/lib/python3.7/site-packages/lightgbm/sklearn.py:736: UserWarning: 'verbose' argument is deprecated and will be removed in a future release of LightGBM. Pass 'log_evaluation()' callback via 'callbacks' argument instead.\n",
      "  _log_warning(\"'verbose' argument is deprecated and will be removed in a future release of LightGBM. \"\n"
     ]
    },
    {
     "name": "stdout",
     "output_type": "stream",
     "text": [
      "[20]\tvalid_0's l2: 171.735\tvalid_1's l2: 2462.32\n",
      "[40]\tvalid_0's l2: 200.854\tvalid_1's l2: 2305.04\n",
      "[60]\tvalid_0's l2: 171.859\tvalid_1's l2: 2195.66\n",
      "[80]\tvalid_0's l2: 193.004\tvalid_1's l2: 2111.96\n",
      "[100]\tvalid_0's l2: 228.42\tvalid_1's l2: 2039.62\n"
     ]
    },
    {
     "name": "stderr",
     "output_type": "stream",
     "text": [
      "/opt/conda/lib/python3.7/site-packages/lightgbm/sklearn.py:736: UserWarning: 'verbose' argument is deprecated and will be removed in a future release of LightGBM. Pass 'log_evaluation()' callback via 'callbacks' argument instead.\n",
      "  _log_warning(\"'verbose' argument is deprecated and will be removed in a future release of LightGBM. \"\n"
     ]
    },
    {
     "name": "stdout",
     "output_type": "stream",
     "text": [
      "[20]\tvalid_0's l2: 226.15\tvalid_1's l2: 2473.53\n",
      "[40]\tvalid_0's l2: 242.49\tvalid_1's l2: 2350.46\n",
      "[60]\tvalid_0's l2: 244.402\tvalid_1's l2: 2251.69\n",
      "[80]\tvalid_0's l2: 184.705\tvalid_1's l2: 2174.98\n",
      "[100]\tvalid_0's l2: 155.144\tvalid_1's l2: 2103.76\n"
     ]
    },
    {
     "name": "stderr",
     "output_type": "stream",
     "text": [
      "/opt/conda/lib/python3.7/site-packages/lightgbm/sklearn.py:736: UserWarning: 'verbose' argument is deprecated and will be removed in a future release of LightGBM. Pass 'log_evaluation()' callback via 'callbacks' argument instead.\n",
      "  _log_warning(\"'verbose' argument is deprecated and will be removed in a future release of LightGBM. \"\n"
     ]
    },
    {
     "name": "stdout",
     "output_type": "stream",
     "text": [
      "[20]\tvalid_0's l2: 484.617\tvalid_1's l2: 2550.11\n",
      "[40]\tvalid_0's l2: 493.53\tvalid_1's l2: 2467.06\n",
      "[60]\tvalid_0's l2: 488.887\tvalid_1's l2: 2405.35\n",
      "[80]\tvalid_0's l2: 419.929\tvalid_1's l2: 2347.89\n",
      "[100]\tvalid_0's l2: 356.337\tvalid_1's l2: 2300.89\n"
     ]
    },
    {
     "name": "stderr",
     "output_type": "stream",
     "text": [
      "/opt/conda/lib/python3.7/site-packages/lightgbm/sklearn.py:736: UserWarning: 'verbose' argument is deprecated and will be removed in a future release of LightGBM. Pass 'log_evaluation()' callback via 'callbacks' argument instead.\n",
      "  _log_warning(\"'verbose' argument is deprecated and will be removed in a future release of LightGBM. \"\n"
     ]
    },
    {
     "name": "stdout",
     "output_type": "stream",
     "text": [
      "[20]\tvalid_0's l2: 785.689\tvalid_1's l2: 2476.11\n",
      "[40]\tvalid_0's l2: 702.556\tvalid_1's l2: 2361.45\n",
      "[60]\tvalid_0's l2: 532.778\tvalid_1's l2: 2279.56\n",
      "[80]\tvalid_0's l2: 449.735\tvalid_1's l2: 2197.95\n",
      "[100]\tvalid_0's l2: 445.355\tvalid_1's l2: 2141.03\n"
     ]
    },
    {
     "name": "stderr",
     "output_type": "stream",
     "text": [
      "/opt/conda/lib/python3.7/site-packages/lightgbm/sklearn.py:736: UserWarning: 'verbose' argument is deprecated and will be removed in a future release of LightGBM. Pass 'log_evaluation()' callback via 'callbacks' argument instead.\n",
      "  _log_warning(\"'verbose' argument is deprecated and will be removed in a future release of LightGBM. \"\n"
     ]
    },
    {
     "name": "stdout",
     "output_type": "stream",
     "text": [
      "[20]\tvalid_0's l2: 93.2707\tvalid_1's l2: 2492.48\n",
      "[40]\tvalid_0's l2: 80.8501\tvalid_1's l2: 2343.2\n",
      "[60]\tvalid_0's l2: 93.7057\tvalid_1's l2: 2238.55\n",
      "[80]\tvalid_0's l2: 148.188\tvalid_1's l2: 2144.35\n",
      "[100]\tvalid_0's l2: 200.285\tvalid_1's l2: 2074.38\n"
     ]
    },
    {
     "name": "stderr",
     "output_type": "stream",
     "text": [
      "/opt/conda/lib/python3.7/site-packages/lightgbm/sklearn.py:736: UserWarning: 'verbose' argument is deprecated and will be removed in a future release of LightGBM. Pass 'log_evaluation()' callback via 'callbacks' argument instead.\n",
      "  _log_warning(\"'verbose' argument is deprecated and will be removed in a future release of LightGBM. \"\n"
     ]
    },
    {
     "name": "stdout",
     "output_type": "stream",
     "text": [
      "[20]\tvalid_0's l2: 171.735\tvalid_1's l2: 2462.32\n",
      "[40]\tvalid_0's l2: 200.854\tvalid_1's l2: 2305.04\n",
      "[60]\tvalid_0's l2: 171.859\tvalid_1's l2: 2195.66\n",
      "[80]\tvalid_0's l2: 193.004\tvalid_1's l2: 2111.96\n",
      "[100]\tvalid_0's l2: 228.42\tvalid_1's l2: 2039.62\n"
     ]
    },
    {
     "name": "stderr",
     "output_type": "stream",
     "text": [
      "/opt/conda/lib/python3.7/site-packages/lightgbm/sklearn.py:736: UserWarning: 'verbose' argument is deprecated and will be removed in a future release of LightGBM. Pass 'log_evaluation()' callback via 'callbacks' argument instead.\n",
      "  _log_warning(\"'verbose' argument is deprecated and will be removed in a future release of LightGBM. \"\n"
     ]
    },
    {
     "name": "stdout",
     "output_type": "stream",
     "text": [
      "[20]\tvalid_0's l2: 226.15\tvalid_1's l2: 2473.53\n",
      "[40]\tvalid_0's l2: 242.49\tvalid_1's l2: 2350.46\n",
      "[60]\tvalid_0's l2: 244.402\tvalid_1's l2: 2251.69\n",
      "[80]\tvalid_0's l2: 184.705\tvalid_1's l2: 2174.98\n",
      "[100]\tvalid_0's l2: 155.144\tvalid_1's l2: 2103.76\n"
     ]
    },
    {
     "name": "stderr",
     "output_type": "stream",
     "text": [
      "/opt/conda/lib/python3.7/site-packages/lightgbm/sklearn.py:736: UserWarning: 'verbose' argument is deprecated and will be removed in a future release of LightGBM. Pass 'log_evaluation()' callback via 'callbacks' argument instead.\n",
      "  _log_warning(\"'verbose' argument is deprecated and will be removed in a future release of LightGBM. \"\n"
     ]
    },
    {
     "name": "stdout",
     "output_type": "stream",
     "text": [
      "[20]\tvalid_0's l2: 484.617\tvalid_1's l2: 2550.11\n",
      "[40]\tvalid_0's l2: 493.53\tvalid_1's l2: 2467.06\n",
      "[60]\tvalid_0's l2: 488.887\tvalid_1's l2: 2405.35\n",
      "[80]\tvalid_0's l2: 419.929\tvalid_1's l2: 2347.89\n",
      "[100]\tvalid_0's l2: 356.337\tvalid_1's l2: 2300.89\n"
     ]
    },
    {
     "name": "stderr",
     "output_type": "stream",
     "text": [
      "/opt/conda/lib/python3.7/site-packages/lightgbm/sklearn.py:736: UserWarning: 'verbose' argument is deprecated and will be removed in a future release of LightGBM. Pass 'log_evaluation()' callback via 'callbacks' argument instead.\n",
      "  _log_warning(\"'verbose' argument is deprecated and will be removed in a future release of LightGBM. \"\n"
     ]
    },
    {
     "name": "stdout",
     "output_type": "stream",
     "text": [
      "[20]\tvalid_0's l2: 793.776\tvalid_1's l2: 2475.14\n",
      "[40]\tvalid_0's l2: 683.491\tvalid_1's l2: 2360.69\n",
      "[60]\tvalid_0's l2: 557.246\tvalid_1's l2: 2268.84\n",
      "[80]\tvalid_0's l2: 490.251\tvalid_1's l2: 2197.06\n",
      "[100]\tvalid_0's l2: 486.937\tvalid_1's l2: 2138.38\n"
     ]
    },
    {
     "name": "stderr",
     "output_type": "stream",
     "text": [
      "/opt/conda/lib/python3.7/site-packages/lightgbm/sklearn.py:736: UserWarning: 'verbose' argument is deprecated and will be removed in a future release of LightGBM. Pass 'log_evaluation()' callback via 'callbacks' argument instead.\n",
      "  _log_warning(\"'verbose' argument is deprecated and will be removed in a future release of LightGBM. \"\n"
     ]
    },
    {
     "name": "stdout",
     "output_type": "stream",
     "text": [
      "[20]\tvalid_0's l2: 91.5539\tvalid_1's l2: 2488.5\n",
      "[40]\tvalid_0's l2: 101.552\tvalid_1's l2: 2343.58\n",
      "[60]\tvalid_0's l2: 149.015\tvalid_1's l2: 2238.14\n",
      "[80]\tvalid_0's l2: 182.763\tvalid_1's l2: 2138.53\n",
      "[100]\tvalid_0's l2: 210.837\tvalid_1's l2: 2066.13\n"
     ]
    },
    {
     "name": "stderr",
     "output_type": "stream",
     "text": [
      "/opt/conda/lib/python3.7/site-packages/lightgbm/sklearn.py:736: UserWarning: 'verbose' argument is deprecated and will be removed in a future release of LightGBM. Pass 'log_evaluation()' callback via 'callbacks' argument instead.\n",
      "  _log_warning(\"'verbose' argument is deprecated and will be removed in a future release of LightGBM. \"\n"
     ]
    },
    {
     "name": "stdout",
     "output_type": "stream",
     "text": [
      "[20]\tvalid_0's l2: 175.539\tvalid_1's l2: 2459.59\n",
      "[40]\tvalid_0's l2: 156.473\tvalid_1's l2: 2306.77\n",
      "[60]\tvalid_0's l2: 132.945\tvalid_1's l2: 2204.7\n",
      "[80]\tvalid_0's l2: 140.234\tvalid_1's l2: 2113.12\n",
      "[100]\tvalid_0's l2: 148.612\tvalid_1's l2: 2046.28\n"
     ]
    },
    {
     "name": "stderr",
     "output_type": "stream",
     "text": [
      "/opt/conda/lib/python3.7/site-packages/lightgbm/sklearn.py:736: UserWarning: 'verbose' argument is deprecated and will be removed in a future release of LightGBM. Pass 'log_evaluation()' callback via 'callbacks' argument instead.\n",
      "  _log_warning(\"'verbose' argument is deprecated and will be removed in a future release of LightGBM. \"\n"
     ]
    },
    {
     "name": "stdout",
     "output_type": "stream",
     "text": [
      "[20]\tvalid_0's l2: 282.044\tvalid_1's l2: 2470.26\n",
      "[40]\tvalid_0's l2: 257.931\tvalid_1's l2: 2340.89\n",
      "[60]\tvalid_0's l2: 223.809\tvalid_1's l2: 2249.41\n",
      "[80]\tvalid_0's l2: 250.138\tvalid_1's l2: 2156.41\n",
      "[100]\tvalid_0's l2: 227.195\tvalid_1's l2: 2087.94\n"
     ]
    },
    {
     "name": "stderr",
     "output_type": "stream",
     "text": [
      "/opt/conda/lib/python3.7/site-packages/lightgbm/sklearn.py:736: UserWarning: 'verbose' argument is deprecated and will be removed in a future release of LightGBM. Pass 'log_evaluation()' callback via 'callbacks' argument instead.\n",
      "  _log_warning(\"'verbose' argument is deprecated and will be removed in a future release of LightGBM. \"\n"
     ]
    },
    {
     "name": "stdout",
     "output_type": "stream",
     "text": [
      "[20]\tvalid_0's l2: 486.007\tvalid_1's l2: 2551.51\n",
      "[40]\tvalid_0's l2: 513.191\tvalid_1's l2: 2457.59\n",
      "[60]\tvalid_0's l2: 431.775\tvalid_1's l2: 2398.38\n",
      "[80]\tvalid_0's l2: 420.004\tvalid_1's l2: 2348.32\n",
      "[100]\tvalid_0's l2: 405.135\tvalid_1's l2: 2298.7\n"
     ]
    },
    {
     "name": "stderr",
     "output_type": "stream",
     "text": [
      "/opt/conda/lib/python3.7/site-packages/lightgbm/sklearn.py:736: UserWarning: 'verbose' argument is deprecated and will be removed in a future release of LightGBM. Pass 'log_evaluation()' callback via 'callbacks' argument instead.\n",
      "  _log_warning(\"'verbose' argument is deprecated and will be removed in a future release of LightGBM. \"\n"
     ]
    },
    {
     "name": "stdout",
     "output_type": "stream",
     "text": [
      "[20]\tvalid_0's l2: 793.776\tvalid_1's l2: 2475.14\n",
      "[40]\tvalid_0's l2: 683.491\tvalid_1's l2: 2360.69\n",
      "[60]\tvalid_0's l2: 557.246\tvalid_1's l2: 2268.84\n",
      "[80]\tvalid_0's l2: 490.251\tvalid_1's l2: 2197.06\n",
      "[100]\tvalid_0's l2: 486.937\tvalid_1's l2: 2138.38\n"
     ]
    },
    {
     "name": "stderr",
     "output_type": "stream",
     "text": [
      "/opt/conda/lib/python3.7/site-packages/lightgbm/sklearn.py:736: UserWarning: 'verbose' argument is deprecated and will be removed in a future release of LightGBM. Pass 'log_evaluation()' callback via 'callbacks' argument instead.\n",
      "  _log_warning(\"'verbose' argument is deprecated and will be removed in a future release of LightGBM. \"\n"
     ]
    },
    {
     "name": "stdout",
     "output_type": "stream",
     "text": [
      "[20]\tvalid_0's l2: 91.5539\tvalid_1's l2: 2488.5\n",
      "[40]\tvalid_0's l2: 101.552\tvalid_1's l2: 2343.58\n",
      "[60]\tvalid_0's l2: 149.015\tvalid_1's l2: 2238.14\n",
      "[80]\tvalid_0's l2: 182.763\tvalid_1's l2: 2138.53\n",
      "[100]\tvalid_0's l2: 210.837\tvalid_1's l2: 2066.13\n"
     ]
    },
    {
     "name": "stderr",
     "output_type": "stream",
     "text": [
      "/opt/conda/lib/python3.7/site-packages/lightgbm/sklearn.py:736: UserWarning: 'verbose' argument is deprecated and will be removed in a future release of LightGBM. Pass 'log_evaluation()' callback via 'callbacks' argument instead.\n",
      "  _log_warning(\"'verbose' argument is deprecated and will be removed in a future release of LightGBM. \"\n"
     ]
    },
    {
     "name": "stdout",
     "output_type": "stream",
     "text": [
      "[20]\tvalid_0's l2: 175.539\tvalid_1's l2: 2459.59\n",
      "[40]\tvalid_0's l2: 156.473\tvalid_1's l2: 2306.77\n",
      "[60]\tvalid_0's l2: 132.945\tvalid_1's l2: 2204.7\n",
      "[80]\tvalid_0's l2: 140.234\tvalid_1's l2: 2113.12\n",
      "[100]\tvalid_0's l2: 148.612\tvalid_1's l2: 2046.28\n"
     ]
    },
    {
     "name": "stderr",
     "output_type": "stream",
     "text": [
      "/opt/conda/lib/python3.7/site-packages/lightgbm/sklearn.py:736: UserWarning: 'verbose' argument is deprecated and will be removed in a future release of LightGBM. Pass 'log_evaluation()' callback via 'callbacks' argument instead.\n",
      "  _log_warning(\"'verbose' argument is deprecated and will be removed in a future release of LightGBM. \"\n"
     ]
    },
    {
     "name": "stdout",
     "output_type": "stream",
     "text": [
      "[20]\tvalid_0's l2: 282.044\tvalid_1's l2: 2470.26\n",
      "[40]\tvalid_0's l2: 257.931\tvalid_1's l2: 2340.89\n",
      "[60]\tvalid_0's l2: 223.809\tvalid_1's l2: 2249.41\n",
      "[80]\tvalid_0's l2: 250.138\tvalid_1's l2: 2156.41\n",
      "[100]\tvalid_0's l2: 227.195\tvalid_1's l2: 2087.94\n"
     ]
    },
    {
     "name": "stderr",
     "output_type": "stream",
     "text": [
      "/opt/conda/lib/python3.7/site-packages/lightgbm/sklearn.py:736: UserWarning: 'verbose' argument is deprecated and will be removed in a future release of LightGBM. Pass 'log_evaluation()' callback via 'callbacks' argument instead.\n",
      "  _log_warning(\"'verbose' argument is deprecated and will be removed in a future release of LightGBM. \"\n"
     ]
    },
    {
     "name": "stdout",
     "output_type": "stream",
     "text": [
      "[20]\tvalid_0's l2: 486.007\tvalid_1's l2: 2551.51\n",
      "[40]\tvalid_0's l2: 513.191\tvalid_1's l2: 2457.59\n",
      "[60]\tvalid_0's l2: 431.775\tvalid_1's l2: 2398.38\n",
      "[80]\tvalid_0's l2: 420.004\tvalid_1's l2: 2348.32\n",
      "[100]\tvalid_0's l2: 405.135\tvalid_1's l2: 2298.7\n"
     ]
    },
    {
     "name": "stderr",
     "output_type": "stream",
     "text": [
      "/opt/conda/lib/python3.7/site-packages/lightgbm/sklearn.py:736: UserWarning: 'verbose' argument is deprecated and will be removed in a future release of LightGBM. Pass 'log_evaluation()' callback via 'callbacks' argument instead.\n",
      "  _log_warning(\"'verbose' argument is deprecated and will be removed in a future release of LightGBM. \"\n"
     ]
    },
    {
     "name": "stdout",
     "output_type": "stream",
     "text": [
      "[20]\tvalid_0's l2: 785.455\tvalid_1's l2: 2476.19\n",
      "[40]\tvalid_0's l2: 702.61\tvalid_1's l2: 2361.62\n",
      "[60]\tvalid_0's l2: 533.052\tvalid_1's l2: 2279.79\n",
      "[80]\tvalid_0's l2: 450.116\tvalid_1's l2: 2198.24\n",
      "[100]\tvalid_0's l2: 445.735\tvalid_1's l2: 2141.37\n"
     ]
    },
    {
     "name": "stderr",
     "output_type": "stream",
     "text": [
      "/opt/conda/lib/python3.7/site-packages/lightgbm/sklearn.py:736: UserWarning: 'verbose' argument is deprecated and will be removed in a future release of LightGBM. Pass 'log_evaluation()' callback via 'callbacks' argument instead.\n",
      "  _log_warning(\"'verbose' argument is deprecated and will be removed in a future release of LightGBM. \"\n"
     ]
    },
    {
     "name": "stdout",
     "output_type": "stream",
     "text": [
      "[20]\tvalid_0's l2: 93.3167\tvalid_1's l2: 2492.55\n",
      "[40]\tvalid_0's l2: 80.8199\tvalid_1's l2: 2343.43\n",
      "[60]\tvalid_0's l2: 112.114\tvalid_1's l2: 2235.23\n",
      "[80]\tvalid_0's l2: 178.717\tvalid_1's l2: 2140.84\n",
      "[100]\tvalid_0's l2: 209.579\tvalid_1's l2: 2072.25\n"
     ]
    },
    {
     "name": "stderr",
     "output_type": "stream",
     "text": [
      "/opt/conda/lib/python3.7/site-packages/lightgbm/sklearn.py:736: UserWarning: 'verbose' argument is deprecated and will be removed in a future release of LightGBM. Pass 'log_evaluation()' callback via 'callbacks' argument instead.\n",
      "  _log_warning(\"'verbose' argument is deprecated and will be removed in a future release of LightGBM. \"\n"
     ]
    },
    {
     "name": "stdout",
     "output_type": "stream",
     "text": [
      "[20]\tvalid_0's l2: 171.764\tvalid_1's l2: 2462.42\n",
      "[40]\tvalid_0's l2: 200.894\tvalid_1's l2: 2305.2\n",
      "[60]\tvalid_0's l2: 171.859\tvalid_1's l2: 2195.88\n",
      "[80]\tvalid_0's l2: 192.964\tvalid_1's l2: 2112.17\n",
      "[100]\tvalid_0's l2: 197.68\tvalid_1's l2: 2049.89\n"
     ]
    },
    {
     "name": "stderr",
     "output_type": "stream",
     "text": [
      "/opt/conda/lib/python3.7/site-packages/lightgbm/sklearn.py:736: UserWarning: 'verbose' argument is deprecated and will be removed in a future release of LightGBM. Pass 'log_evaluation()' callback via 'callbacks' argument instead.\n",
      "  _log_warning(\"'verbose' argument is deprecated and will be removed in a future release of LightGBM. \"\n"
     ]
    },
    {
     "name": "stdout",
     "output_type": "stream",
     "text": [
      "[20]\tvalid_0's l2: 226.101\tvalid_1's l2: 2473.63\n",
      "[40]\tvalid_0's l2: 242.503\tvalid_1's l2: 2350.62\n",
      "[60]\tvalid_0's l2: 231.813\tvalid_1's l2: 2252.5\n",
      "[80]\tvalid_0's l2: 216.088\tvalid_1's l2: 2170.85\n",
      "[100]\tvalid_0's l2: 187.256\tvalid_1's l2: 2102.07\n"
     ]
    },
    {
     "name": "stderr",
     "output_type": "stream",
     "text": [
      "/opt/conda/lib/python3.7/site-packages/lightgbm/sklearn.py:736: UserWarning: 'verbose' argument is deprecated and will be removed in a future release of LightGBM. Pass 'log_evaluation()' callback via 'callbacks' argument instead.\n",
      "  _log_warning(\"'verbose' argument is deprecated and will be removed in a future release of LightGBM. \"\n"
     ]
    },
    {
     "name": "stdout",
     "output_type": "stream",
     "text": [
      "[20]\tvalid_0's l2: 484.416\tvalid_1's l2: 2550.19\n",
      "[40]\tvalid_0's l2: 493.451\tvalid_1's l2: 2467.2\n",
      "[60]\tvalid_0's l2: 488.965\tvalid_1's l2: 2405.54\n",
      "[80]\tvalid_0's l2: 413.597\tvalid_1's l2: 2348.98\n",
      "[100]\tvalid_0's l2: 404.139\tvalid_1's l2: 2309.11\n"
     ]
    },
    {
     "name": "stderr",
     "output_type": "stream",
     "text": [
      "/opt/conda/lib/python3.7/site-packages/lightgbm/sklearn.py:736: UserWarning: 'verbose' argument is deprecated and will be removed in a future release of LightGBM. Pass 'log_evaluation()' callback via 'callbacks' argument instead.\n",
      "  _log_warning(\"'verbose' argument is deprecated and will be removed in a future release of LightGBM. \"\n"
     ]
    },
    {
     "name": "stdout",
     "output_type": "stream",
     "text": [
      "[20]\tvalid_0's l2: 785.455\tvalid_1's l2: 2476.19\n",
      "[40]\tvalid_0's l2: 702.61\tvalid_1's l2: 2361.62\n",
      "[60]\tvalid_0's l2: 533.052\tvalid_1's l2: 2279.79\n",
      "[80]\tvalid_0's l2: 450.116\tvalid_1's l2: 2198.24\n",
      "[100]\tvalid_0's l2: 445.735\tvalid_1's l2: 2141.37\n"
     ]
    },
    {
     "name": "stderr",
     "output_type": "stream",
     "text": [
      "/opt/conda/lib/python3.7/site-packages/lightgbm/sklearn.py:736: UserWarning: 'verbose' argument is deprecated and will be removed in a future release of LightGBM. Pass 'log_evaluation()' callback via 'callbacks' argument instead.\n",
      "  _log_warning(\"'verbose' argument is deprecated and will be removed in a future release of LightGBM. \"\n"
     ]
    },
    {
     "name": "stdout",
     "output_type": "stream",
     "text": [
      "[20]\tvalid_0's l2: 93.3167\tvalid_1's l2: 2492.55\n",
      "[40]\tvalid_0's l2: 80.8199\tvalid_1's l2: 2343.43\n",
      "[60]\tvalid_0's l2: 112.114\tvalid_1's l2: 2235.23\n",
      "[80]\tvalid_0's l2: 178.717\tvalid_1's l2: 2140.84\n",
      "[100]\tvalid_0's l2: 209.579\tvalid_1's l2: 2072.25\n"
     ]
    },
    {
     "name": "stderr",
     "output_type": "stream",
     "text": [
      "/opt/conda/lib/python3.7/site-packages/lightgbm/sklearn.py:736: UserWarning: 'verbose' argument is deprecated and will be removed in a future release of LightGBM. Pass 'log_evaluation()' callback via 'callbacks' argument instead.\n",
      "  _log_warning(\"'verbose' argument is deprecated and will be removed in a future release of LightGBM. \"\n"
     ]
    },
    {
     "name": "stdout",
     "output_type": "stream",
     "text": [
      "[20]\tvalid_0's l2: 171.764\tvalid_1's l2: 2462.42\n",
      "[40]\tvalid_0's l2: 200.894\tvalid_1's l2: 2305.2\n",
      "[60]\tvalid_0's l2: 171.859\tvalid_1's l2: 2195.88\n",
      "[80]\tvalid_0's l2: 192.964\tvalid_1's l2: 2112.17\n",
      "[100]\tvalid_0's l2: 197.68\tvalid_1's l2: 2049.89\n"
     ]
    },
    {
     "name": "stderr",
     "output_type": "stream",
     "text": [
      "/opt/conda/lib/python3.7/site-packages/lightgbm/sklearn.py:736: UserWarning: 'verbose' argument is deprecated and will be removed in a future release of LightGBM. Pass 'log_evaluation()' callback via 'callbacks' argument instead.\n",
      "  _log_warning(\"'verbose' argument is deprecated and will be removed in a future release of LightGBM. \"\n"
     ]
    },
    {
     "name": "stdout",
     "output_type": "stream",
     "text": [
      "[20]\tvalid_0's l2: 226.101\tvalid_1's l2: 2473.63\n",
      "[40]\tvalid_0's l2: 242.503\tvalid_1's l2: 2350.62\n",
      "[60]\tvalid_0's l2: 231.813\tvalid_1's l2: 2252.5\n",
      "[80]\tvalid_0's l2: 216.088\tvalid_1's l2: 2170.85\n",
      "[100]\tvalid_0's l2: 187.256\tvalid_1's l2: 2102.07\n"
     ]
    },
    {
     "name": "stderr",
     "output_type": "stream",
     "text": [
      "/opt/conda/lib/python3.7/site-packages/lightgbm/sklearn.py:736: UserWarning: 'verbose' argument is deprecated and will be removed in a future release of LightGBM. Pass 'log_evaluation()' callback via 'callbacks' argument instead.\n",
      "  _log_warning(\"'verbose' argument is deprecated and will be removed in a future release of LightGBM. \"\n"
     ]
    },
    {
     "name": "stdout",
     "output_type": "stream",
     "text": [
      "[20]\tvalid_0's l2: 484.416\tvalid_1's l2: 2550.19\n",
      "[40]\tvalid_0's l2: 493.451\tvalid_1's l2: 2467.2\n",
      "[60]\tvalid_0's l2: 488.965\tvalid_1's l2: 2405.54\n",
      "[80]\tvalid_0's l2: 413.597\tvalid_1's l2: 2348.98\n",
      "[100]\tvalid_0's l2: 404.139\tvalid_1's l2: 2309.11\n"
     ]
    },
    {
     "name": "stderr",
     "output_type": "stream",
     "text": [
      "/opt/conda/lib/python3.7/site-packages/lightgbm/sklearn.py:736: UserWarning: 'verbose' argument is deprecated and will be removed in a future release of LightGBM. Pass 'log_evaluation()' callback via 'callbacks' argument instead.\n",
      "  _log_warning(\"'verbose' argument is deprecated and will be removed in a future release of LightGBM. \"\n"
     ]
    },
    {
     "name": "stdout",
     "output_type": "stream",
     "text": [
      "[20]\tvalid_0's l2: 797.222\tvalid_1's l2: 2473.04\n",
      "[40]\tvalid_0's l2: 742.278\tvalid_1's l2: 2356.72\n",
      "[60]\tvalid_0's l2: 577.733\tvalid_1's l2: 2263.85\n",
      "[80]\tvalid_0's l2: 501.812\tvalid_1's l2: 2185.65\n",
      "[100]\tvalid_0's l2: 464.993\tvalid_1's l2: 2120.53\n"
     ]
    },
    {
     "name": "stderr",
     "output_type": "stream",
     "text": [
      "/opt/conda/lib/python3.7/site-packages/lightgbm/sklearn.py:736: UserWarning: 'verbose' argument is deprecated and will be removed in a future release of LightGBM. Pass 'log_evaluation()' callback via 'callbacks' argument instead.\n",
      "  _log_warning(\"'verbose' argument is deprecated and will be removed in a future release of LightGBM. \"\n"
     ]
    },
    {
     "name": "stdout",
     "output_type": "stream",
     "text": [
      "[20]\tvalid_0's l2: 86.4901\tvalid_1's l2: 2486.92\n",
      "[40]\tvalid_0's l2: 87.2116\tvalid_1's l2: 2340.08\n",
      "[60]\tvalid_0's l2: 125.443\tvalid_1's l2: 2231.89\n",
      "[80]\tvalid_0's l2: 158.89\tvalid_1's l2: 2138.26\n",
      "[100]\tvalid_0's l2: 221.813\tvalid_1's l2: 2059.23\n"
     ]
    },
    {
     "name": "stderr",
     "output_type": "stream",
     "text": [
      "/opt/conda/lib/python3.7/site-packages/lightgbm/sklearn.py:736: UserWarning: 'verbose' argument is deprecated and will be removed in a future release of LightGBM. Pass 'log_evaluation()' callback via 'callbacks' argument instead.\n",
      "  _log_warning(\"'verbose' argument is deprecated and will be removed in a future release of LightGBM. \"\n"
     ]
    },
    {
     "name": "stdout",
     "output_type": "stream",
     "text": [
      "[20]\tvalid_0's l2: 168.129\tvalid_1's l2: 2458.43\n",
      "[40]\tvalid_0's l2: 165.366\tvalid_1's l2: 2302.23\n",
      "[60]\tvalid_0's l2: 150.894\tvalid_1's l2: 2197.42\n",
      "[80]\tvalid_0's l2: 170.918\tvalid_1's l2: 2107.86\n",
      "[100]\tvalid_0's l2: 174.707\tvalid_1's l2: 2040.46\n"
     ]
    },
    {
     "name": "stderr",
     "output_type": "stream",
     "text": [
      "/opt/conda/lib/python3.7/site-packages/lightgbm/sklearn.py:736: UserWarning: 'verbose' argument is deprecated and will be removed in a future release of LightGBM. Pass 'log_evaluation()' callback via 'callbacks' argument instead.\n",
      "  _log_warning(\"'verbose' argument is deprecated and will be removed in a future release of LightGBM. \"\n"
     ]
    },
    {
     "name": "stdout",
     "output_type": "stream",
     "text": [
      "[20]\tvalid_0's l2: 229.031\tvalid_1's l2: 2471\n",
      "[40]\tvalid_0's l2: 200.646\tvalid_1's l2: 2342.59\n",
      "[60]\tvalid_0's l2: 187.027\tvalid_1's l2: 2244.43\n",
      "[80]\tvalid_0's l2: 179.63\tvalid_1's l2: 2152.73\n",
      "[100]\tvalid_0's l2: 151.09\tvalid_1's l2: 2086.11\n"
     ]
    },
    {
     "name": "stderr",
     "output_type": "stream",
     "text": [
      "/opt/conda/lib/python3.7/site-packages/lightgbm/sklearn.py:736: UserWarning: 'verbose' argument is deprecated and will be removed in a future release of LightGBM. Pass 'log_evaluation()' callback via 'callbacks' argument instead.\n",
      "  _log_warning(\"'verbose' argument is deprecated and will be removed in a future release of LightGBM. \"\n"
     ]
    },
    {
     "name": "stdout",
     "output_type": "stream",
     "text": [
      "[20]\tvalid_0's l2: 486.491\tvalid_1's l2: 2548.71\n",
      "[40]\tvalid_0's l2: 521.586\tvalid_1's l2: 2452.82\n",
      "[60]\tvalid_0's l2: 554.726\tvalid_1's l2: 2385.91\n",
      "[80]\tvalid_0's l2: 489.245\tvalid_1's l2: 2339.37\n",
      "[100]\tvalid_0's l2: 435.965\tvalid_1's l2: 2300.61\n"
     ]
    },
    {
     "name": "stderr",
     "output_type": "stream",
     "text": [
      "/opt/conda/lib/python3.7/site-packages/lightgbm/sklearn.py:736: UserWarning: 'verbose' argument is deprecated and will be removed in a future release of LightGBM. Pass 'log_evaluation()' callback via 'callbacks' argument instead.\n",
      "  _log_warning(\"'verbose' argument is deprecated and will be removed in a future release of LightGBM. \"\n"
     ]
    },
    {
     "name": "stdout",
     "output_type": "stream",
     "text": [
      "[20]\tvalid_0's l2: 797.222\tvalid_1's l2: 2473.04\n",
      "[40]\tvalid_0's l2: 742.278\tvalid_1's l2: 2356.72\n",
      "[60]\tvalid_0's l2: 577.733\tvalid_1's l2: 2263.85\n",
      "[80]\tvalid_0's l2: 501.812\tvalid_1's l2: 2185.65\n",
      "[100]\tvalid_0's l2: 464.993\tvalid_1's l2: 2120.53\n"
     ]
    },
    {
     "name": "stderr",
     "output_type": "stream",
     "text": [
      "/opt/conda/lib/python3.7/site-packages/lightgbm/sklearn.py:736: UserWarning: 'verbose' argument is deprecated and will be removed in a future release of LightGBM. Pass 'log_evaluation()' callback via 'callbacks' argument instead.\n",
      "  _log_warning(\"'verbose' argument is deprecated and will be removed in a future release of LightGBM. \"\n"
     ]
    },
    {
     "name": "stdout",
     "output_type": "stream",
     "text": [
      "[20]\tvalid_0's l2: 86.4901\tvalid_1's l2: 2486.92\n",
      "[40]\tvalid_0's l2: 87.2116\tvalid_1's l2: 2340.08\n",
      "[60]\tvalid_0's l2: 125.443\tvalid_1's l2: 2231.89\n",
      "[80]\tvalid_0's l2: 158.89\tvalid_1's l2: 2138.26\n",
      "[100]\tvalid_0's l2: 221.813\tvalid_1's l2: 2059.23\n"
     ]
    },
    {
     "name": "stderr",
     "output_type": "stream",
     "text": [
      "/opt/conda/lib/python3.7/site-packages/lightgbm/sklearn.py:736: UserWarning: 'verbose' argument is deprecated and will be removed in a future release of LightGBM. Pass 'log_evaluation()' callback via 'callbacks' argument instead.\n",
      "  _log_warning(\"'verbose' argument is deprecated and will be removed in a future release of LightGBM. \"\n"
     ]
    },
    {
     "name": "stdout",
     "output_type": "stream",
     "text": [
      "[20]\tvalid_0's l2: 168.129\tvalid_1's l2: 2458.43\n",
      "[40]\tvalid_0's l2: 165.366\tvalid_1's l2: 2302.23\n",
      "[60]\tvalid_0's l2: 150.894\tvalid_1's l2: 2197.42\n",
      "[80]\tvalid_0's l2: 170.918\tvalid_1's l2: 2107.86\n",
      "[100]\tvalid_0's l2: 174.707\tvalid_1's l2: 2040.46\n"
     ]
    },
    {
     "name": "stderr",
     "output_type": "stream",
     "text": [
      "/opt/conda/lib/python3.7/site-packages/lightgbm/sklearn.py:736: UserWarning: 'verbose' argument is deprecated and will be removed in a future release of LightGBM. Pass 'log_evaluation()' callback via 'callbacks' argument instead.\n",
      "  _log_warning(\"'verbose' argument is deprecated and will be removed in a future release of LightGBM. \"\n"
     ]
    },
    {
     "name": "stdout",
     "output_type": "stream",
     "text": [
      "[20]\tvalid_0's l2: 229.031\tvalid_1's l2: 2471\n",
      "[40]\tvalid_0's l2: 200.646\tvalid_1's l2: 2342.59\n",
      "[60]\tvalid_0's l2: 187.027\tvalid_1's l2: 2244.43\n",
      "[80]\tvalid_0's l2: 179.63\tvalid_1's l2: 2152.73\n",
      "[100]\tvalid_0's l2: 151.09\tvalid_1's l2: 2086.11\n"
     ]
    },
    {
     "name": "stderr",
     "output_type": "stream",
     "text": [
      "/opt/conda/lib/python3.7/site-packages/lightgbm/sklearn.py:736: UserWarning: 'verbose' argument is deprecated and will be removed in a future release of LightGBM. Pass 'log_evaluation()' callback via 'callbacks' argument instead.\n",
      "  _log_warning(\"'verbose' argument is deprecated and will be removed in a future release of LightGBM. \"\n"
     ]
    },
    {
     "name": "stdout",
     "output_type": "stream",
     "text": [
      "[20]\tvalid_0's l2: 486.491\tvalid_1's l2: 2548.71\n",
      "[40]\tvalid_0's l2: 521.586\tvalid_1's l2: 2452.82\n",
      "[60]\tvalid_0's l2: 554.726\tvalid_1's l2: 2385.91\n",
      "[80]\tvalid_0's l2: 489.245\tvalid_1's l2: 2339.37\n",
      "[100]\tvalid_0's l2: 435.965\tvalid_1's l2: 2300.61\n"
     ]
    },
    {
     "name": "stderr",
     "output_type": "stream",
     "text": [
      "/opt/conda/lib/python3.7/site-packages/lightgbm/sklearn.py:736: UserWarning: 'verbose' argument is deprecated and will be removed in a future release of LightGBM. Pass 'log_evaluation()' callback via 'callbacks' argument instead.\n",
      "  _log_warning(\"'verbose' argument is deprecated and will be removed in a future release of LightGBM. \"\n"
     ]
    },
    {
     "name": "stdout",
     "output_type": "stream",
     "text": [
      "[20]\tvalid_0's l2: 792.538\tvalid_1's l2: 2474.58\n",
      "[40]\tvalid_0's l2: 693.002\tvalid_1's l2: 2355.88\n",
      "[60]\tvalid_0's l2: 614.93\tvalid_1's l2: 2275.25\n",
      "[80]\tvalid_0's l2: 538.438\tvalid_1's l2: 2196.24\n",
      "[100]\tvalid_0's l2: 427.877\tvalid_1's l2: 2123.18\n"
     ]
    },
    {
     "name": "stderr",
     "output_type": "stream",
     "text": [
      "/opt/conda/lib/python3.7/site-packages/lightgbm/sklearn.py:736: UserWarning: 'verbose' argument is deprecated and will be removed in a future release of LightGBM. Pass 'log_evaluation()' callback via 'callbacks' argument instead.\n",
      "  _log_warning(\"'verbose' argument is deprecated and will be removed in a future release of LightGBM. \"\n"
     ]
    },
    {
     "name": "stdout",
     "output_type": "stream",
     "text": [
      "[20]\tvalid_0's l2: 97.6629\tvalid_1's l2: 2489.97\n",
      "[40]\tvalid_0's l2: 98.9246\tvalid_1's l2: 2340.59\n",
      "[60]\tvalid_0's l2: 112.597\tvalid_1's l2: 2229.26\n",
      "[80]\tvalid_0's l2: 199.351\tvalid_1's l2: 2138.33\n",
      "[100]\tvalid_0's l2: 219.532\tvalid_1's l2: 2063.76\n"
     ]
    },
    {
     "name": "stderr",
     "output_type": "stream",
     "text": [
      "/opt/conda/lib/python3.7/site-packages/lightgbm/sklearn.py:736: UserWarning: 'verbose' argument is deprecated and will be removed in a future release of LightGBM. Pass 'log_evaluation()' callback via 'callbacks' argument instead.\n",
      "  _log_warning(\"'verbose' argument is deprecated and will be removed in a future release of LightGBM. \"\n"
     ]
    },
    {
     "name": "stdout",
     "output_type": "stream",
     "text": [
      "[20]\tvalid_0's l2: 169.617\tvalid_1's l2: 2460.48\n",
      "[40]\tvalid_0's l2: 180.045\tvalid_1's l2: 2300\n",
      "[60]\tvalid_0's l2: 132.499\tvalid_1's l2: 2198.78\n",
      "[80]\tvalid_0's l2: 157.832\tvalid_1's l2: 2104.09\n",
      "[100]\tvalid_0's l2: 189.569\tvalid_1's l2: 2035.92\n"
     ]
    },
    {
     "name": "stderr",
     "output_type": "stream",
     "text": [
      "/opt/conda/lib/python3.7/site-packages/lightgbm/sklearn.py:736: UserWarning: 'verbose' argument is deprecated and will be removed in a future release of LightGBM. Pass 'log_evaluation()' callback via 'callbacks' argument instead.\n",
      "  _log_warning(\"'verbose' argument is deprecated and will be removed in a future release of LightGBM. \"\n"
     ]
    },
    {
     "name": "stdout",
     "output_type": "stream",
     "text": [
      "[20]\tvalid_0's l2: 228.729\tvalid_1's l2: 2472.24\n",
      "[40]\tvalid_0's l2: 204.874\tvalid_1's l2: 2344.65\n",
      "[60]\tvalid_0's l2: 209.876\tvalid_1's l2: 2241.07\n",
      "[80]\tvalid_0's l2: 167.561\tvalid_1's l2: 2158.24\n",
      "[100]\tvalid_0's l2: 159.114\tvalid_1's l2: 2087.61\n"
     ]
    },
    {
     "name": "stderr",
     "output_type": "stream",
     "text": [
      "/opt/conda/lib/python3.7/site-packages/lightgbm/sklearn.py:736: UserWarning: 'verbose' argument is deprecated and will be removed in a future release of LightGBM. Pass 'log_evaluation()' callback via 'callbacks' argument instead.\n",
      "  _log_warning(\"'verbose' argument is deprecated and will be removed in a future release of LightGBM. \"\n"
     ]
    },
    {
     "name": "stdout",
     "output_type": "stream",
     "text": [
      "[20]\tvalid_0's l2: 486.3\tvalid_1's l2: 2549.67\n",
      "[40]\tvalid_0's l2: 549.965\tvalid_1's l2: 2450.16\n",
      "[60]\tvalid_0's l2: 535.523\tvalid_1's l2: 2390.33\n",
      "[80]\tvalid_0's l2: 504.61\tvalid_1's l2: 2342.57\n",
      "[100]\tvalid_0's l2: 431.225\tvalid_1's l2: 2294.73\n"
     ]
    },
    {
     "name": "stderr",
     "output_type": "stream",
     "text": [
      "/opt/conda/lib/python3.7/site-packages/lightgbm/sklearn.py:736: UserWarning: 'verbose' argument is deprecated and will be removed in a future release of LightGBM. Pass 'log_evaluation()' callback via 'callbacks' argument instead.\n",
      "  _log_warning(\"'verbose' argument is deprecated and will be removed in a future release of LightGBM. \"\n"
     ]
    },
    {
     "name": "stdout",
     "output_type": "stream",
     "text": [
      "[20]\tvalid_0's l2: 792.538\tvalid_1's l2: 2474.58\n",
      "[40]\tvalid_0's l2: 693.002\tvalid_1's l2: 2355.88\n",
      "[60]\tvalid_0's l2: 614.93\tvalid_1's l2: 2275.25\n",
      "[80]\tvalid_0's l2: 538.438\tvalid_1's l2: 2196.24\n",
      "[100]\tvalid_0's l2: 427.877\tvalid_1's l2: 2123.18\n"
     ]
    },
    {
     "name": "stderr",
     "output_type": "stream",
     "text": [
      "/opt/conda/lib/python3.7/site-packages/lightgbm/sklearn.py:736: UserWarning: 'verbose' argument is deprecated and will be removed in a future release of LightGBM. Pass 'log_evaluation()' callback via 'callbacks' argument instead.\n",
      "  _log_warning(\"'verbose' argument is deprecated and will be removed in a future release of LightGBM. \"\n"
     ]
    },
    {
     "name": "stdout",
     "output_type": "stream",
     "text": [
      "[20]\tvalid_0's l2: 97.6629\tvalid_1's l2: 2489.97\n",
      "[40]\tvalid_0's l2: 98.9246\tvalid_1's l2: 2340.59\n",
      "[60]\tvalid_0's l2: 112.597\tvalid_1's l2: 2229.26\n",
      "[80]\tvalid_0's l2: 199.351\tvalid_1's l2: 2138.33\n",
      "[100]\tvalid_0's l2: 219.532\tvalid_1's l2: 2063.76\n"
     ]
    },
    {
     "name": "stderr",
     "output_type": "stream",
     "text": [
      "/opt/conda/lib/python3.7/site-packages/lightgbm/sklearn.py:736: UserWarning: 'verbose' argument is deprecated and will be removed in a future release of LightGBM. Pass 'log_evaluation()' callback via 'callbacks' argument instead.\n",
      "  _log_warning(\"'verbose' argument is deprecated and will be removed in a future release of LightGBM. \"\n"
     ]
    },
    {
     "name": "stdout",
     "output_type": "stream",
     "text": [
      "[20]\tvalid_0's l2: 169.617\tvalid_1's l2: 2460.48\n",
      "[40]\tvalid_0's l2: 180.045\tvalid_1's l2: 2300\n",
      "[60]\tvalid_0's l2: 132.499\tvalid_1's l2: 2198.78\n",
      "[80]\tvalid_0's l2: 157.832\tvalid_1's l2: 2104.09\n",
      "[100]\tvalid_0's l2: 189.569\tvalid_1's l2: 2035.92\n"
     ]
    },
    {
     "name": "stderr",
     "output_type": "stream",
     "text": [
      "/opt/conda/lib/python3.7/site-packages/lightgbm/sklearn.py:736: UserWarning: 'verbose' argument is deprecated and will be removed in a future release of LightGBM. Pass 'log_evaluation()' callback via 'callbacks' argument instead.\n",
      "  _log_warning(\"'verbose' argument is deprecated and will be removed in a future release of LightGBM. \"\n"
     ]
    },
    {
     "name": "stdout",
     "output_type": "stream",
     "text": [
      "[20]\tvalid_0's l2: 228.729\tvalid_1's l2: 2472.24\n",
      "[40]\tvalid_0's l2: 204.874\tvalid_1's l2: 2344.65\n",
      "[60]\tvalid_0's l2: 209.876\tvalid_1's l2: 2241.07\n",
      "[80]\tvalid_0's l2: 167.561\tvalid_1's l2: 2158.24\n",
      "[100]\tvalid_0's l2: 159.114\tvalid_1's l2: 2087.61\n"
     ]
    },
    {
     "name": "stderr",
     "output_type": "stream",
     "text": [
      "/opt/conda/lib/python3.7/site-packages/lightgbm/sklearn.py:736: UserWarning: 'verbose' argument is deprecated and will be removed in a future release of LightGBM. Pass 'log_evaluation()' callback via 'callbacks' argument instead.\n",
      "  _log_warning(\"'verbose' argument is deprecated and will be removed in a future release of LightGBM. \"\n"
     ]
    },
    {
     "name": "stdout",
     "output_type": "stream",
     "text": [
      "[20]\tvalid_0's l2: 486.3\tvalid_1's l2: 2549.67\n",
      "[40]\tvalid_0's l2: 549.965\tvalid_1's l2: 2450.16\n",
      "[60]\tvalid_0's l2: 535.523\tvalid_1's l2: 2390.33\n",
      "[80]\tvalid_0's l2: 504.61\tvalid_1's l2: 2342.57\n",
      "[100]\tvalid_0's l2: 431.225\tvalid_1's l2: 2294.73\n"
     ]
    },
    {
     "name": "stderr",
     "output_type": "stream",
     "text": [
      "/opt/conda/lib/python3.7/site-packages/lightgbm/sklearn.py:736: UserWarning: 'verbose' argument is deprecated and will be removed in a future release of LightGBM. Pass 'log_evaluation()' callback via 'callbacks' argument instead.\n",
      "  _log_warning(\"'verbose' argument is deprecated and will be removed in a future release of LightGBM. \"\n"
     ]
    },
    {
     "name": "stdout",
     "output_type": "stream",
     "text": [
      "[20]\tvalid_0's l2: 796.974\tvalid_1's l2: 2473.13\n",
      "[40]\tvalid_0's l2: 747.241\tvalid_1's l2: 2354.53\n",
      "[60]\tvalid_0's l2: 617.403\tvalid_1's l2: 2256.05\n",
      "[80]\tvalid_0's l2: 545.064\tvalid_1's l2: 2181.14\n",
      "[100]\tvalid_0's l2: 490.678\tvalid_1's l2: 2118.5\n"
     ]
    },
    {
     "name": "stderr",
     "output_type": "stream",
     "text": [
      "/opt/conda/lib/python3.7/site-packages/lightgbm/sklearn.py:736: UserWarning: 'verbose' argument is deprecated and will be removed in a future release of LightGBM. Pass 'log_evaluation()' callback via 'callbacks' argument instead.\n",
      "  _log_warning(\"'verbose' argument is deprecated and will be removed in a future release of LightGBM. \"\n"
     ]
    },
    {
     "name": "stdout",
     "output_type": "stream",
     "text": [
      "[20]\tvalid_0's l2: 86.5387\tvalid_1's l2: 2487.03\n",
      "[40]\tvalid_0's l2: 87.2601\tvalid_1's l2: 2340.23\n",
      "[60]\tvalid_0's l2: 125.245\tvalid_1's l2: 2229.71\n",
      "[80]\tvalid_0's l2: 161.138\tvalid_1's l2: 2142.89\n",
      "[100]\tvalid_0's l2: 198.559\tvalid_1's l2: 2065.51\n"
     ]
    },
    {
     "name": "stderr",
     "output_type": "stream",
     "text": [
      "/opt/conda/lib/python3.7/site-packages/lightgbm/sklearn.py:736: UserWarning: 'verbose' argument is deprecated and will be removed in a future release of LightGBM. Pass 'log_evaluation()' callback via 'callbacks' argument instead.\n",
      "  _log_warning(\"'verbose' argument is deprecated and will be removed in a future release of LightGBM. \"\n"
     ]
    },
    {
     "name": "stdout",
     "output_type": "stream",
     "text": [
      "[20]\tvalid_0's l2: 168.14\tvalid_1's l2: 2458.55\n",
      "[40]\tvalid_0's l2: 165.422\tvalid_1's l2: 2302.41\n",
      "[60]\tvalid_0's l2: 150.914\tvalid_1's l2: 2197.67\n",
      "[80]\tvalid_0's l2: 180.832\tvalid_1's l2: 2103.75\n",
      "[100]\tvalid_0's l2: 173.517\tvalid_1's l2: 2032.5\n"
     ]
    },
    {
     "name": "stderr",
     "output_type": "stream",
     "text": [
      "/opt/conda/lib/python3.7/site-packages/lightgbm/sklearn.py:736: UserWarning: 'verbose' argument is deprecated and will be removed in a future release of LightGBM. Pass 'log_evaluation()' callback via 'callbacks' argument instead.\n",
      "  _log_warning(\"'verbose' argument is deprecated and will be removed in a future release of LightGBM. \"\n"
     ]
    },
    {
     "name": "stdout",
     "output_type": "stream",
     "text": [
      "[20]\tvalid_0's l2: 228.989\tvalid_1's l2: 2471.1\n",
      "[40]\tvalid_0's l2: 200.683\tvalid_1's l2: 2342.77\n",
      "[60]\tvalid_0's l2: 173.068\tvalid_1's l2: 2238.28\n",
      "[80]\tvalid_0's l2: 175.223\tvalid_1's l2: 2156.54\n",
      "[100]\tvalid_0's l2: 183.351\tvalid_1's l2: 2089.2\n"
     ]
    },
    {
     "name": "stderr",
     "output_type": "stream",
     "text": [
      "/opt/conda/lib/python3.7/site-packages/lightgbm/sklearn.py:736: UserWarning: 'verbose' argument is deprecated and will be removed in a future release of LightGBM. Pass 'log_evaluation()' callback via 'callbacks' argument instead.\n",
      "  _log_warning(\"'verbose' argument is deprecated and will be removed in a future release of LightGBM. \"\n"
     ]
    },
    {
     "name": "stdout",
     "output_type": "stream",
     "text": [
      "[20]\tvalid_0's l2: 486.286\tvalid_1's l2: 2548.79\n",
      "[40]\tvalid_0's l2: 521.433\tvalid_1's l2: 2452.98\n",
      "[60]\tvalid_0's l2: 554.616\tvalid_1's l2: 2386.13\n",
      "[80]\tvalid_0's l2: 517.656\tvalid_1's l2: 2337.15\n",
      "[100]\tvalid_0's l2: 479.481\tvalid_1's l2: 2295.96\n"
     ]
    },
    {
     "name": "stderr",
     "output_type": "stream",
     "text": [
      "/opt/conda/lib/python3.7/site-packages/lightgbm/sklearn.py:736: UserWarning: 'verbose' argument is deprecated and will be removed in a future release of LightGBM. Pass 'log_evaluation()' callback via 'callbacks' argument instead.\n",
      "  _log_warning(\"'verbose' argument is deprecated and will be removed in a future release of LightGBM. \"\n"
     ]
    },
    {
     "name": "stdout",
     "output_type": "stream",
     "text": [
      "[20]\tvalid_0's l2: 796.974\tvalid_1's l2: 2473.13\n",
      "[40]\tvalid_0's l2: 747.241\tvalid_1's l2: 2354.53\n",
      "[60]\tvalid_0's l2: 617.403\tvalid_1's l2: 2256.05\n",
      "[80]\tvalid_0's l2: 545.064\tvalid_1's l2: 2181.14\n",
      "[100]\tvalid_0's l2: 490.678\tvalid_1's l2: 2118.5\n"
     ]
    },
    {
     "name": "stderr",
     "output_type": "stream",
     "text": [
      "/opt/conda/lib/python3.7/site-packages/lightgbm/sklearn.py:736: UserWarning: 'verbose' argument is deprecated and will be removed in a future release of LightGBM. Pass 'log_evaluation()' callback via 'callbacks' argument instead.\n",
      "  _log_warning(\"'verbose' argument is deprecated and will be removed in a future release of LightGBM. \"\n"
     ]
    },
    {
     "name": "stdout",
     "output_type": "stream",
     "text": [
      "[20]\tvalid_0's l2: 86.5387\tvalid_1's l2: 2487.03\n",
      "[40]\tvalid_0's l2: 87.2601\tvalid_1's l2: 2340.23\n",
      "[60]\tvalid_0's l2: 125.245\tvalid_1's l2: 2229.71\n",
      "[80]\tvalid_0's l2: 161.138\tvalid_1's l2: 2142.89\n",
      "[100]\tvalid_0's l2: 198.559\tvalid_1's l2: 2065.51\n"
     ]
    },
    {
     "name": "stderr",
     "output_type": "stream",
     "text": [
      "/opt/conda/lib/python3.7/site-packages/lightgbm/sklearn.py:736: UserWarning: 'verbose' argument is deprecated and will be removed in a future release of LightGBM. Pass 'log_evaluation()' callback via 'callbacks' argument instead.\n",
      "  _log_warning(\"'verbose' argument is deprecated and will be removed in a future release of LightGBM. \"\n"
     ]
    },
    {
     "name": "stdout",
     "output_type": "stream",
     "text": [
      "[20]\tvalid_0's l2: 168.14\tvalid_1's l2: 2458.55\n",
      "[40]\tvalid_0's l2: 165.422\tvalid_1's l2: 2302.41\n",
      "[60]\tvalid_0's l2: 150.914\tvalid_1's l2: 2197.67\n",
      "[80]\tvalid_0's l2: 180.832\tvalid_1's l2: 2103.75\n",
      "[100]\tvalid_0's l2: 173.517\tvalid_1's l2: 2032.5\n"
     ]
    },
    {
     "name": "stderr",
     "output_type": "stream",
     "text": [
      "/opt/conda/lib/python3.7/site-packages/lightgbm/sklearn.py:736: UserWarning: 'verbose' argument is deprecated and will be removed in a future release of LightGBM. Pass 'log_evaluation()' callback via 'callbacks' argument instead.\n",
      "  _log_warning(\"'verbose' argument is deprecated and will be removed in a future release of LightGBM. \"\n"
     ]
    },
    {
     "name": "stdout",
     "output_type": "stream",
     "text": [
      "[20]\tvalid_0's l2: 228.989\tvalid_1's l2: 2471.1\n",
      "[40]\tvalid_0's l2: 200.683\tvalid_1's l2: 2342.77\n",
      "[60]\tvalid_0's l2: 173.068\tvalid_1's l2: 2238.28\n",
      "[80]\tvalid_0's l2: 175.223\tvalid_1's l2: 2156.54\n",
      "[100]\tvalid_0's l2: 183.351\tvalid_1's l2: 2089.2\n"
     ]
    },
    {
     "name": "stderr",
     "output_type": "stream",
     "text": [
      "/opt/conda/lib/python3.7/site-packages/lightgbm/sklearn.py:736: UserWarning: 'verbose' argument is deprecated and will be removed in a future release of LightGBM. Pass 'log_evaluation()' callback via 'callbacks' argument instead.\n",
      "  _log_warning(\"'verbose' argument is deprecated and will be removed in a future release of LightGBM. \"\n"
     ]
    },
    {
     "name": "stdout",
     "output_type": "stream",
     "text": [
      "[20]\tvalid_0's l2: 486.286\tvalid_1's l2: 2548.79\n",
      "[40]\tvalid_0's l2: 521.433\tvalid_1's l2: 2452.98\n",
      "[60]\tvalid_0's l2: 554.616\tvalid_1's l2: 2386.13\n",
      "[80]\tvalid_0's l2: 517.656\tvalid_1's l2: 2337.15\n",
      "[100]\tvalid_0's l2: 479.481\tvalid_1's l2: 2295.96\n"
     ]
    },
    {
     "name": "stderr",
     "output_type": "stream",
     "text": [
      "/opt/conda/lib/python3.7/site-packages/lightgbm/sklearn.py:736: UserWarning: 'verbose' argument is deprecated and will be removed in a future release of LightGBM. Pass 'log_evaluation()' callback via 'callbacks' argument instead.\n",
      "  _log_warning(\"'verbose' argument is deprecated and will be removed in a future release of LightGBM. \"\n"
     ]
    },
    {
     "name": "stdout",
     "output_type": "stream",
     "text": [
      "[20]\tvalid_0's l2: 792.289\tvalid_1's l2: 2474.69\n",
      "[40]\tvalid_0's l2: 692.725\tvalid_1's l2: 2356\n",
      "[60]\tvalid_0's l2: 563.231\tvalid_1's l2: 2269.31\n",
      "[80]\tvalid_0's l2: 517.119\tvalid_1's l2: 2191.61\n",
      "[100]\tvalid_0's l2: 467.777\tvalid_1's l2: 2135.03\n"
     ]
    },
    {
     "name": "stderr",
     "output_type": "stream",
     "text": [
      "/opt/conda/lib/python3.7/site-packages/lightgbm/sklearn.py:736: UserWarning: 'verbose' argument is deprecated and will be removed in a future release of LightGBM. Pass 'log_evaluation()' callback via 'callbacks' argument instead.\n",
      "  _log_warning(\"'verbose' argument is deprecated and will be removed in a future release of LightGBM. \"\n"
     ]
    },
    {
     "name": "stdout",
     "output_type": "stream",
     "text": [
      "[20]\tvalid_0's l2: 109.548\tvalid_1's l2: 2489.68\n",
      "[40]\tvalid_0's l2: 96.3949\tvalid_1's l2: 2345.22\n",
      "[60]\tvalid_0's l2: 155.088\tvalid_1's l2: 2241.86\n",
      "[80]\tvalid_0's l2: 181.855\tvalid_1's l2: 2150.13\n",
      "[100]\tvalid_0's l2: 197.18\tvalid_1's l2: 2070.86\n"
     ]
    },
    {
     "name": "stderr",
     "output_type": "stream",
     "text": [
      "/opt/conda/lib/python3.7/site-packages/lightgbm/sklearn.py:736: UserWarning: 'verbose' argument is deprecated and will be removed in a future release of LightGBM. Pass 'log_evaluation()' callback via 'callbacks' argument instead.\n",
      "  _log_warning(\"'verbose' argument is deprecated and will be removed in a future release of LightGBM. \"\n"
     ]
    },
    {
     "name": "stdout",
     "output_type": "stream",
     "text": [
      "[20]\tvalid_0's l2: 169.628\tvalid_1's l2: 2460.59\n",
      "[40]\tvalid_0's l2: 180.039\tvalid_1's l2: 2300.18\n",
      "[60]\tvalid_0's l2: 132.464\tvalid_1's l2: 2199.02\n",
      "[80]\tvalid_0's l2: 157.725\tvalid_1's l2: 2104.37\n",
      "[100]\tvalid_0's l2: 184.241\tvalid_1's l2: 2034.91\n"
     ]
    },
    {
     "name": "stderr",
     "output_type": "stream",
     "text": [
      "/opt/conda/lib/python3.7/site-packages/lightgbm/sklearn.py:736: UserWarning: 'verbose' argument is deprecated and will be removed in a future release of LightGBM. Pass 'log_evaluation()' callback via 'callbacks' argument instead.\n",
      "  _log_warning(\"'verbose' argument is deprecated and will be removed in a future release of LightGBM. \"\n"
     ]
    },
    {
     "name": "stdout",
     "output_type": "stream",
     "text": [
      "[20]\tvalid_0's l2: 228.688\tvalid_1's l2: 2472.34\n",
      "[40]\tvalid_0's l2: 204.901\tvalid_1's l2: 2344.82\n",
      "[60]\tvalid_0's l2: 209.936\tvalid_1's l2: 2241.31\n",
      "[80]\tvalid_0's l2: 167.635\tvalid_1's l2: 2158.54\n",
      "[100]\tvalid_0's l2: 175.783\tvalid_1's l2: 2090.22\n"
     ]
    },
    {
     "name": "stderr",
     "output_type": "stream",
     "text": [
      "/opt/conda/lib/python3.7/site-packages/lightgbm/sklearn.py:736: UserWarning: 'verbose' argument is deprecated and will be removed in a future release of LightGBM. Pass 'log_evaluation()' callback via 'callbacks' argument instead.\n",
      "  _log_warning(\"'verbose' argument is deprecated and will be removed in a future release of LightGBM. \"\n"
     ]
    },
    {
     "name": "stdout",
     "output_type": "stream",
     "text": [
      "[20]\tvalid_0's l2: 486.28\tvalid_1's l2: 2549.8\n",
      "[40]\tvalid_0's l2: 524.837\tvalid_1's l2: 2453.35\n",
      "[60]\tvalid_0's l2: 512.638\tvalid_1's l2: 2396.17\n",
      "[80]\tvalid_0's l2: 441.461\tvalid_1's l2: 2344.13\n",
      "[100]\tvalid_0's l2: 374.845\tvalid_1's l2: 2295.27\n"
     ]
    },
    {
     "name": "stderr",
     "output_type": "stream",
     "text": [
      "/opt/conda/lib/python3.7/site-packages/lightgbm/sklearn.py:736: UserWarning: 'verbose' argument is deprecated and will be removed in a future release of LightGBM. Pass 'log_evaluation()' callback via 'callbacks' argument instead.\n",
      "  _log_warning(\"'verbose' argument is deprecated and will be removed in a future release of LightGBM. \"\n"
     ]
    },
    {
     "name": "stdout",
     "output_type": "stream",
     "text": [
      "[20]\tvalid_0's l2: 792.289\tvalid_1's l2: 2474.69\n",
      "[40]\tvalid_0's l2: 692.725\tvalid_1's l2: 2356\n",
      "[60]\tvalid_0's l2: 563.231\tvalid_1's l2: 2269.31\n",
      "[80]\tvalid_0's l2: 517.119\tvalid_1's l2: 2191.61\n",
      "[100]\tvalid_0's l2: 467.777\tvalid_1's l2: 2135.03\n"
     ]
    },
    {
     "name": "stderr",
     "output_type": "stream",
     "text": [
      "/opt/conda/lib/python3.7/site-packages/lightgbm/sklearn.py:736: UserWarning: 'verbose' argument is deprecated and will be removed in a future release of LightGBM. Pass 'log_evaluation()' callback via 'callbacks' argument instead.\n",
      "  _log_warning(\"'verbose' argument is deprecated and will be removed in a future release of LightGBM. \"\n"
     ]
    },
    {
     "name": "stdout",
     "output_type": "stream",
     "text": [
      "[20]\tvalid_0's l2: 109.548\tvalid_1's l2: 2489.68\n",
      "[40]\tvalid_0's l2: 96.3949\tvalid_1's l2: 2345.22\n",
      "[60]\tvalid_0's l2: 155.088\tvalid_1's l2: 2241.86\n",
      "[80]\tvalid_0's l2: 181.855\tvalid_1's l2: 2150.13\n",
      "[100]\tvalid_0's l2: 197.18\tvalid_1's l2: 2070.86\n"
     ]
    },
    {
     "name": "stderr",
     "output_type": "stream",
     "text": [
      "/opt/conda/lib/python3.7/site-packages/lightgbm/sklearn.py:736: UserWarning: 'verbose' argument is deprecated and will be removed in a future release of LightGBM. Pass 'log_evaluation()' callback via 'callbacks' argument instead.\n",
      "  _log_warning(\"'verbose' argument is deprecated and will be removed in a future release of LightGBM. \"\n"
     ]
    },
    {
     "name": "stdout",
     "output_type": "stream",
     "text": [
      "[20]\tvalid_0's l2: 169.628\tvalid_1's l2: 2460.59\n",
      "[40]\tvalid_0's l2: 180.039\tvalid_1's l2: 2300.18\n",
      "[60]\tvalid_0's l2: 132.464\tvalid_1's l2: 2199.02\n",
      "[80]\tvalid_0's l2: 157.725\tvalid_1's l2: 2104.37\n",
      "[100]\tvalid_0's l2: 184.241\tvalid_1's l2: 2034.91\n"
     ]
    },
    {
     "name": "stderr",
     "output_type": "stream",
     "text": [
      "/opt/conda/lib/python3.7/site-packages/lightgbm/sklearn.py:736: UserWarning: 'verbose' argument is deprecated and will be removed in a future release of LightGBM. Pass 'log_evaluation()' callback via 'callbacks' argument instead.\n",
      "  _log_warning(\"'verbose' argument is deprecated and will be removed in a future release of LightGBM. \"\n"
     ]
    },
    {
     "name": "stdout",
     "output_type": "stream",
     "text": [
      "[20]\tvalid_0's l2: 228.688\tvalid_1's l2: 2472.34\n",
      "[40]\tvalid_0's l2: 204.901\tvalid_1's l2: 2344.82\n",
      "[60]\tvalid_0's l2: 209.936\tvalid_1's l2: 2241.31\n",
      "[80]\tvalid_0's l2: 167.635\tvalid_1's l2: 2158.54\n",
      "[100]\tvalid_0's l2: 175.783\tvalid_1's l2: 2090.22\n"
     ]
    },
    {
     "name": "stderr",
     "output_type": "stream",
     "text": [
      "/opt/conda/lib/python3.7/site-packages/lightgbm/sklearn.py:736: UserWarning: 'verbose' argument is deprecated and will be removed in a future release of LightGBM. Pass 'log_evaluation()' callback via 'callbacks' argument instead.\n",
      "  _log_warning(\"'verbose' argument is deprecated and will be removed in a future release of LightGBM. \"\n"
     ]
    },
    {
     "name": "stdout",
     "output_type": "stream",
     "text": [
      "[20]\tvalid_0's l2: 486.28\tvalid_1's l2: 2549.8\n",
      "[40]\tvalid_0's l2: 524.837\tvalid_1's l2: 2453.35\n",
      "[60]\tvalid_0's l2: 512.638\tvalid_1's l2: 2396.17\n",
      "[80]\tvalid_0's l2: 441.461\tvalid_1's l2: 2344.13\n",
      "[100]\tvalid_0's l2: 374.845\tvalid_1's l2: 2295.27\n"
     ]
    },
    {
     "name": "stderr",
     "output_type": "stream",
     "text": [
      "/opt/conda/lib/python3.7/site-packages/lightgbm/sklearn.py:736: UserWarning: 'verbose' argument is deprecated and will be removed in a future release of LightGBM. Pass 'log_evaluation()' callback via 'callbacks' argument instead.\n",
      "  _log_warning(\"'verbose' argument is deprecated and will be removed in a future release of LightGBM. \"\n"
     ]
    },
    {
     "name": "stdout",
     "output_type": "stream",
     "text": [
      "[20]\tvalid_0's l2: 794.02\tvalid_1's l2: 2475.05\n",
      "[40]\tvalid_0's l2: 665.655\tvalid_1's l2: 2359.89\n",
      "[60]\tvalid_0's l2: 518.244\tvalid_1's l2: 2270.16\n",
      "[80]\tvalid_0's l2: 484.598\tvalid_1's l2: 2193.34\n",
      "[100]\tvalid_0's l2: 384.511\tvalid_1's l2: 2134.79\n"
     ]
    },
    {
     "name": "stderr",
     "output_type": "stream",
     "text": [
      "/opt/conda/lib/python3.7/site-packages/lightgbm/sklearn.py:736: UserWarning: 'verbose' argument is deprecated and will be removed in a future release of LightGBM. Pass 'log_evaluation()' callback via 'callbacks' argument instead.\n",
      "  _log_warning(\"'verbose' argument is deprecated and will be removed in a future release of LightGBM. \"\n"
     ]
    },
    {
     "name": "stdout",
     "output_type": "stream",
     "text": [
      "[20]\tvalid_0's l2: 91.5103\tvalid_1's l2: 2488.4\n",
      "[40]\tvalid_0's l2: 101.513\tvalid_1's l2: 2343.42\n",
      "[60]\tvalid_0's l2: 149.049\tvalid_1's l2: 2237.94\n",
      "[80]\tvalid_0's l2: 182.945\tvalid_1's l2: 2138.28\n",
      "[100]\tvalid_0's l2: 211.155\tvalid_1's l2: 2065.83\n"
     ]
    },
    {
     "name": "stderr",
     "output_type": "stream",
     "text": [
      "/opt/conda/lib/python3.7/site-packages/lightgbm/sklearn.py:736: UserWarning: 'verbose' argument is deprecated and will be removed in a future release of LightGBM. Pass 'log_evaluation()' callback via 'callbacks' argument instead.\n",
      "  _log_warning(\"'verbose' argument is deprecated and will be removed in a future release of LightGBM. \"\n"
     ]
    },
    {
     "name": "stdout",
     "output_type": "stream",
     "text": [
      "[20]\tvalid_0's l2: 175.551\tvalid_1's l2: 2459.49\n",
      "[40]\tvalid_0's l2: 156.397\tvalid_1's l2: 2306.61\n",
      "[60]\tvalid_0's l2: 132.89\tvalid_1's l2: 2204.44\n",
      "[80]\tvalid_0's l2: 131.809\tvalid_1's l2: 2112.64\n",
      "[100]\tvalid_0's l2: 188.936\tvalid_1's l2: 2046.09\n"
     ]
    },
    {
     "name": "stderr",
     "output_type": "stream",
     "text": [
      "/opt/conda/lib/python3.7/site-packages/lightgbm/sklearn.py:736: UserWarning: 'verbose' argument is deprecated and will be removed in a future release of LightGBM. Pass 'log_evaluation()' callback via 'callbacks' argument instead.\n",
      "  _log_warning(\"'verbose' argument is deprecated and will be removed in a future release of LightGBM. \"\n"
     ]
    },
    {
     "name": "stdout",
     "output_type": "stream",
     "text": [
      "[20]\tvalid_0's l2: 282.166\tvalid_1's l2: 2470.17\n",
      "[40]\tvalid_0's l2: 257.02\tvalid_1's l2: 2341.09\n",
      "[60]\tvalid_0's l2: 251.87\tvalid_1's l2: 2246.65\n",
      "[80]\tvalid_0's l2: 240.986\tvalid_1's l2: 2156.01\n",
      "[100]\tvalid_0's l2: 202.972\tvalid_1's l2: 2090.34\n"
     ]
    },
    {
     "name": "stderr",
     "output_type": "stream",
     "text": [
      "/opt/conda/lib/python3.7/site-packages/lightgbm/sklearn.py:736: UserWarning: 'verbose' argument is deprecated and will be removed in a future release of LightGBM. Pass 'log_evaluation()' callback via 'callbacks' argument instead.\n",
      "  _log_warning(\"'verbose' argument is deprecated and will be removed in a future release of LightGBM. \"\n"
     ]
    },
    {
     "name": "stdout",
     "output_type": "stream",
     "text": [
      "[20]\tvalid_0's l2: 486.204\tvalid_1's l2: 2551.43\n",
      "[40]\tvalid_0's l2: 513.313\tvalid_1's l2: 2457.41\n",
      "[60]\tvalid_0's l2: 413.943\tvalid_1's l2: 2393.57\n",
      "[80]\tvalid_0's l2: 383.168\tvalid_1's l2: 2334.47\n",
      "[100]\tvalid_0's l2: 332.967\tvalid_1's l2: 2290.08\n"
     ]
    },
    {
     "name": "stderr",
     "output_type": "stream",
     "text": [
      "/opt/conda/lib/python3.7/site-packages/lightgbm/sklearn.py:736: UserWarning: 'verbose' argument is deprecated and will be removed in a future release of LightGBM. Pass 'log_evaluation()' callback via 'callbacks' argument instead.\n",
      "  _log_warning(\"'verbose' argument is deprecated and will be removed in a future release of LightGBM. \"\n"
     ]
    },
    {
     "name": "stdout",
     "output_type": "stream",
     "text": [
      "[20]\tvalid_0's l2: 794.02\tvalid_1's l2: 2475.05\n",
      "[40]\tvalid_0's l2: 665.655\tvalid_1's l2: 2359.89\n",
      "[60]\tvalid_0's l2: 518.244\tvalid_1's l2: 2270.16\n",
      "[80]\tvalid_0's l2: 484.598\tvalid_1's l2: 2193.34\n",
      "[100]\tvalid_0's l2: 384.511\tvalid_1's l2: 2134.79\n"
     ]
    },
    {
     "name": "stderr",
     "output_type": "stream",
     "text": [
      "/opt/conda/lib/python3.7/site-packages/lightgbm/sklearn.py:736: UserWarning: 'verbose' argument is deprecated and will be removed in a future release of LightGBM. Pass 'log_evaluation()' callback via 'callbacks' argument instead.\n",
      "  _log_warning(\"'verbose' argument is deprecated and will be removed in a future release of LightGBM. \"\n"
     ]
    },
    {
     "name": "stdout",
     "output_type": "stream",
     "text": [
      "[20]\tvalid_0's l2: 91.5103\tvalid_1's l2: 2488.4\n",
      "[40]\tvalid_0's l2: 101.513\tvalid_1's l2: 2343.42\n",
      "[60]\tvalid_0's l2: 149.049\tvalid_1's l2: 2237.94\n",
      "[80]\tvalid_0's l2: 182.945\tvalid_1's l2: 2138.28\n",
      "[100]\tvalid_0's l2: 211.155\tvalid_1's l2: 2065.83\n"
     ]
    },
    {
     "name": "stderr",
     "output_type": "stream",
     "text": [
      "/opt/conda/lib/python3.7/site-packages/lightgbm/sklearn.py:736: UserWarning: 'verbose' argument is deprecated and will be removed in a future release of LightGBM. Pass 'log_evaluation()' callback via 'callbacks' argument instead.\n",
      "  _log_warning(\"'verbose' argument is deprecated and will be removed in a future release of LightGBM. \"\n"
     ]
    },
    {
     "name": "stdout",
     "output_type": "stream",
     "text": [
      "[20]\tvalid_0's l2: 175.551\tvalid_1's l2: 2459.49\n",
      "[40]\tvalid_0's l2: 156.397\tvalid_1's l2: 2306.61\n",
      "[60]\tvalid_0's l2: 132.89\tvalid_1's l2: 2204.44\n",
      "[80]\tvalid_0's l2: 131.809\tvalid_1's l2: 2112.64\n",
      "[100]\tvalid_0's l2: 188.936\tvalid_1's l2: 2046.09\n"
     ]
    },
    {
     "name": "stderr",
     "output_type": "stream",
     "text": [
      "/opt/conda/lib/python3.7/site-packages/lightgbm/sklearn.py:736: UserWarning: 'verbose' argument is deprecated and will be removed in a future release of LightGBM. Pass 'log_evaluation()' callback via 'callbacks' argument instead.\n",
      "  _log_warning(\"'verbose' argument is deprecated and will be removed in a future release of LightGBM. \"\n"
     ]
    },
    {
     "name": "stdout",
     "output_type": "stream",
     "text": [
      "[20]\tvalid_0's l2: 282.166\tvalid_1's l2: 2470.17\n",
      "[40]\tvalid_0's l2: 257.02\tvalid_1's l2: 2341.09\n",
      "[60]\tvalid_0's l2: 251.87\tvalid_1's l2: 2246.65\n",
      "[80]\tvalid_0's l2: 240.986\tvalid_1's l2: 2156.01\n",
      "[100]\tvalid_0's l2: 202.972\tvalid_1's l2: 2090.34\n"
     ]
    },
    {
     "name": "stderr",
     "output_type": "stream",
     "text": [
      "/opt/conda/lib/python3.7/site-packages/lightgbm/sklearn.py:736: UserWarning: 'verbose' argument is deprecated and will be removed in a future release of LightGBM. Pass 'log_evaluation()' callback via 'callbacks' argument instead.\n",
      "  _log_warning(\"'verbose' argument is deprecated and will be removed in a future release of LightGBM. \"\n"
     ]
    },
    {
     "name": "stdout",
     "output_type": "stream",
     "text": [
      "[20]\tvalid_0's l2: 486.204\tvalid_1's l2: 2551.43\n",
      "[40]\tvalid_0's l2: 513.313\tvalid_1's l2: 2457.41\n",
      "[60]\tvalid_0's l2: 413.943\tvalid_1's l2: 2393.57\n",
      "[80]\tvalid_0's l2: 383.168\tvalid_1's l2: 2334.47\n",
      "[100]\tvalid_0's l2: 332.967\tvalid_1's l2: 2290.08\n"
     ]
    },
    {
     "name": "stderr",
     "output_type": "stream",
     "text": [
      "/opt/conda/lib/python3.7/site-packages/lightgbm/sklearn.py:736: UserWarning: 'verbose' argument is deprecated and will be removed in a future release of LightGBM. Pass 'log_evaluation()' callback via 'callbacks' argument instead.\n",
      "  _log_warning(\"'verbose' argument is deprecated and will be removed in a future release of LightGBM. \"\n"
     ]
    },
    {
     "name": "stdout",
     "output_type": "stream",
     "text": [
      "[20]\tvalid_0's l2: 785.689\tvalid_1's l2: 2476.11\n",
      "[40]\tvalid_0's l2: 702.556\tvalid_1's l2: 2361.45\n",
      "[60]\tvalid_0's l2: 532.778\tvalid_1's l2: 2279.56\n",
      "[80]\tvalid_0's l2: 449.735\tvalid_1's l2: 2197.95\n",
      "[100]\tvalid_0's l2: 445.355\tvalid_1's l2: 2141.03\n"
     ]
    },
    {
     "name": "stderr",
     "output_type": "stream",
     "text": [
      "/opt/conda/lib/python3.7/site-packages/lightgbm/sklearn.py:736: UserWarning: 'verbose' argument is deprecated and will be removed in a future release of LightGBM. Pass 'log_evaluation()' callback via 'callbacks' argument instead.\n",
      "  _log_warning(\"'verbose' argument is deprecated and will be removed in a future release of LightGBM. \"\n"
     ]
    },
    {
     "name": "stdout",
     "output_type": "stream",
     "text": [
      "[20]\tvalid_0's l2: 93.2707\tvalid_1's l2: 2492.48\n",
      "[40]\tvalid_0's l2: 80.8501\tvalid_1's l2: 2343.2\n",
      "[60]\tvalid_0's l2: 93.7057\tvalid_1's l2: 2238.55\n",
      "[80]\tvalid_0's l2: 148.188\tvalid_1's l2: 2144.35\n",
      "[100]\tvalid_0's l2: 200.285\tvalid_1's l2: 2074.38\n"
     ]
    },
    {
     "name": "stderr",
     "output_type": "stream",
     "text": [
      "/opt/conda/lib/python3.7/site-packages/lightgbm/sklearn.py:736: UserWarning: 'verbose' argument is deprecated and will be removed in a future release of LightGBM. Pass 'log_evaluation()' callback via 'callbacks' argument instead.\n",
      "  _log_warning(\"'verbose' argument is deprecated and will be removed in a future release of LightGBM. \"\n"
     ]
    },
    {
     "name": "stdout",
     "output_type": "stream",
     "text": [
      "[20]\tvalid_0's l2: 171.735\tvalid_1's l2: 2462.32\n",
      "[40]\tvalid_0's l2: 200.854\tvalid_1's l2: 2305.04\n",
      "[60]\tvalid_0's l2: 171.859\tvalid_1's l2: 2195.66\n",
      "[80]\tvalid_0's l2: 193.004\tvalid_1's l2: 2111.96\n",
      "[100]\tvalid_0's l2: 228.42\tvalid_1's l2: 2039.62\n"
     ]
    },
    {
     "name": "stderr",
     "output_type": "stream",
     "text": [
      "/opt/conda/lib/python3.7/site-packages/lightgbm/sklearn.py:736: UserWarning: 'verbose' argument is deprecated and will be removed in a future release of LightGBM. Pass 'log_evaluation()' callback via 'callbacks' argument instead.\n",
      "  _log_warning(\"'verbose' argument is deprecated and will be removed in a future release of LightGBM. \"\n"
     ]
    },
    {
     "name": "stdout",
     "output_type": "stream",
     "text": [
      "[20]\tvalid_0's l2: 226.15\tvalid_1's l2: 2473.53\n",
      "[40]\tvalid_0's l2: 242.49\tvalid_1's l2: 2350.46\n",
      "[60]\tvalid_0's l2: 244.402\tvalid_1's l2: 2251.69\n",
      "[80]\tvalid_0's l2: 184.705\tvalid_1's l2: 2174.98\n",
      "[100]\tvalid_0's l2: 155.144\tvalid_1's l2: 2103.76\n"
     ]
    },
    {
     "name": "stderr",
     "output_type": "stream",
     "text": [
      "/opt/conda/lib/python3.7/site-packages/lightgbm/sklearn.py:736: UserWarning: 'verbose' argument is deprecated and will be removed in a future release of LightGBM. Pass 'log_evaluation()' callback via 'callbacks' argument instead.\n",
      "  _log_warning(\"'verbose' argument is deprecated and will be removed in a future release of LightGBM. \"\n"
     ]
    },
    {
     "name": "stdout",
     "output_type": "stream",
     "text": [
      "[20]\tvalid_0's l2: 484.617\tvalid_1's l2: 2550.11\n",
      "[40]\tvalid_0's l2: 493.53\tvalid_1's l2: 2467.06\n",
      "[60]\tvalid_0's l2: 488.887\tvalid_1's l2: 2405.35\n",
      "[80]\tvalid_0's l2: 419.929\tvalid_1's l2: 2347.89\n",
      "[100]\tvalid_0's l2: 356.337\tvalid_1's l2: 2300.89\n"
     ]
    },
    {
     "name": "stderr",
     "output_type": "stream",
     "text": [
      "/opt/conda/lib/python3.7/site-packages/lightgbm/sklearn.py:736: UserWarning: 'verbose' argument is deprecated and will be removed in a future release of LightGBM. Pass 'log_evaluation()' callback via 'callbacks' argument instead.\n",
      "  _log_warning(\"'verbose' argument is deprecated and will be removed in a future release of LightGBM. \"\n"
     ]
    },
    {
     "name": "stdout",
     "output_type": "stream",
     "text": [
      "[20]\tvalid_0's l2: 785.689\tvalid_1's l2: 2476.11\n",
      "[40]\tvalid_0's l2: 702.556\tvalid_1's l2: 2361.45\n",
      "[60]\tvalid_0's l2: 532.778\tvalid_1's l2: 2279.56\n",
      "[80]\tvalid_0's l2: 449.735\tvalid_1's l2: 2197.95\n",
      "[100]\tvalid_0's l2: 445.355\tvalid_1's l2: 2141.03\n"
     ]
    },
    {
     "name": "stderr",
     "output_type": "stream",
     "text": [
      "/opt/conda/lib/python3.7/site-packages/lightgbm/sklearn.py:736: UserWarning: 'verbose' argument is deprecated and will be removed in a future release of LightGBM. Pass 'log_evaluation()' callback via 'callbacks' argument instead.\n",
      "  _log_warning(\"'verbose' argument is deprecated and will be removed in a future release of LightGBM. \"\n"
     ]
    },
    {
     "name": "stdout",
     "output_type": "stream",
     "text": [
      "[20]\tvalid_0's l2: 93.2707\tvalid_1's l2: 2492.48\n",
      "[40]\tvalid_0's l2: 80.8501\tvalid_1's l2: 2343.2\n",
      "[60]\tvalid_0's l2: 93.7057\tvalid_1's l2: 2238.55\n",
      "[80]\tvalid_0's l2: 148.188\tvalid_1's l2: 2144.35\n",
      "[100]\tvalid_0's l2: 200.285\tvalid_1's l2: 2074.38\n"
     ]
    },
    {
     "name": "stderr",
     "output_type": "stream",
     "text": [
      "/opt/conda/lib/python3.7/site-packages/lightgbm/sklearn.py:736: UserWarning: 'verbose' argument is deprecated and will be removed in a future release of LightGBM. Pass 'log_evaluation()' callback via 'callbacks' argument instead.\n",
      "  _log_warning(\"'verbose' argument is deprecated and will be removed in a future release of LightGBM. \"\n"
     ]
    },
    {
     "name": "stdout",
     "output_type": "stream",
     "text": [
      "[20]\tvalid_0's l2: 171.735\tvalid_1's l2: 2462.32\n",
      "[40]\tvalid_0's l2: 200.854\tvalid_1's l2: 2305.04\n",
      "[60]\tvalid_0's l2: 171.859\tvalid_1's l2: 2195.66\n",
      "[80]\tvalid_0's l2: 193.004\tvalid_1's l2: 2111.96\n",
      "[100]\tvalid_0's l2: 228.42\tvalid_1's l2: 2039.62\n"
     ]
    },
    {
     "name": "stderr",
     "output_type": "stream",
     "text": [
      "/opt/conda/lib/python3.7/site-packages/lightgbm/sklearn.py:736: UserWarning: 'verbose' argument is deprecated and will be removed in a future release of LightGBM. Pass 'log_evaluation()' callback via 'callbacks' argument instead.\n",
      "  _log_warning(\"'verbose' argument is deprecated and will be removed in a future release of LightGBM. \"\n"
     ]
    },
    {
     "name": "stdout",
     "output_type": "stream",
     "text": [
      "[20]\tvalid_0's l2: 226.15\tvalid_1's l2: 2473.53\n",
      "[40]\tvalid_0's l2: 242.49\tvalid_1's l2: 2350.46\n",
      "[60]\tvalid_0's l2: 244.402\tvalid_1's l2: 2251.69\n",
      "[80]\tvalid_0's l2: 184.705\tvalid_1's l2: 2174.98\n",
      "[100]\tvalid_0's l2: 155.144\tvalid_1's l2: 2103.76\n"
     ]
    },
    {
     "name": "stderr",
     "output_type": "stream",
     "text": [
      "/opt/conda/lib/python3.7/site-packages/lightgbm/sklearn.py:736: UserWarning: 'verbose' argument is deprecated and will be removed in a future release of LightGBM. Pass 'log_evaluation()' callback via 'callbacks' argument instead.\n",
      "  _log_warning(\"'verbose' argument is deprecated and will be removed in a future release of LightGBM. \"\n"
     ]
    },
    {
     "name": "stdout",
     "output_type": "stream",
     "text": [
      "[20]\tvalid_0's l2: 484.617\tvalid_1's l2: 2550.11\n",
      "[40]\tvalid_0's l2: 493.53\tvalid_1's l2: 2467.06\n",
      "[60]\tvalid_0's l2: 488.887\tvalid_1's l2: 2405.35\n",
      "[80]\tvalid_0's l2: 419.929\tvalid_1's l2: 2347.89\n",
      "[100]\tvalid_0's l2: 356.337\tvalid_1's l2: 2300.89\n"
     ]
    },
    {
     "name": "stderr",
     "output_type": "stream",
     "text": [
      "/opt/conda/lib/python3.7/site-packages/lightgbm/sklearn.py:736: UserWarning: 'verbose' argument is deprecated and will be removed in a future release of LightGBM. Pass 'log_evaluation()' callback via 'callbacks' argument instead.\n",
      "  _log_warning(\"'verbose' argument is deprecated and will be removed in a future release of LightGBM. \"\n"
     ]
    },
    {
     "name": "stdout",
     "output_type": "stream",
     "text": [
      "[20]\tvalid_0's l2: 793.776\tvalid_1's l2: 2475.14\n",
      "[40]\tvalid_0's l2: 683.491\tvalid_1's l2: 2360.69\n",
      "[60]\tvalid_0's l2: 557.246\tvalid_1's l2: 2268.84\n",
      "[80]\tvalid_0's l2: 490.251\tvalid_1's l2: 2197.06\n",
      "[100]\tvalid_0's l2: 486.937\tvalid_1's l2: 2138.38\n"
     ]
    },
    {
     "name": "stderr",
     "output_type": "stream",
     "text": [
      "/opt/conda/lib/python3.7/site-packages/lightgbm/sklearn.py:736: UserWarning: 'verbose' argument is deprecated and will be removed in a future release of LightGBM. Pass 'log_evaluation()' callback via 'callbacks' argument instead.\n",
      "  _log_warning(\"'verbose' argument is deprecated and will be removed in a future release of LightGBM. \"\n"
     ]
    },
    {
     "name": "stdout",
     "output_type": "stream",
     "text": [
      "[20]\tvalid_0's l2: 91.5539\tvalid_1's l2: 2488.5\n",
      "[40]\tvalid_0's l2: 101.552\tvalid_1's l2: 2343.58\n",
      "[60]\tvalid_0's l2: 149.015\tvalid_1's l2: 2238.14\n",
      "[80]\tvalid_0's l2: 182.763\tvalid_1's l2: 2138.53\n",
      "[100]\tvalid_0's l2: 210.837\tvalid_1's l2: 2066.13\n"
     ]
    },
    {
     "name": "stderr",
     "output_type": "stream",
     "text": [
      "/opt/conda/lib/python3.7/site-packages/lightgbm/sklearn.py:736: UserWarning: 'verbose' argument is deprecated and will be removed in a future release of LightGBM. Pass 'log_evaluation()' callback via 'callbacks' argument instead.\n",
      "  _log_warning(\"'verbose' argument is deprecated and will be removed in a future release of LightGBM. \"\n"
     ]
    },
    {
     "name": "stdout",
     "output_type": "stream",
     "text": [
      "[20]\tvalid_0's l2: 175.539\tvalid_1's l2: 2459.59\n",
      "[40]\tvalid_0's l2: 156.473\tvalid_1's l2: 2306.77\n",
      "[60]\tvalid_0's l2: 132.945\tvalid_1's l2: 2204.7\n",
      "[80]\tvalid_0's l2: 140.234\tvalid_1's l2: 2113.12\n",
      "[100]\tvalid_0's l2: 148.612\tvalid_1's l2: 2046.28\n"
     ]
    },
    {
     "name": "stderr",
     "output_type": "stream",
     "text": [
      "/opt/conda/lib/python3.7/site-packages/lightgbm/sklearn.py:736: UserWarning: 'verbose' argument is deprecated and will be removed in a future release of LightGBM. Pass 'log_evaluation()' callback via 'callbacks' argument instead.\n",
      "  _log_warning(\"'verbose' argument is deprecated and will be removed in a future release of LightGBM. \"\n"
     ]
    },
    {
     "name": "stdout",
     "output_type": "stream",
     "text": [
      "[20]\tvalid_0's l2: 282.044\tvalid_1's l2: 2470.26\n",
      "[40]\tvalid_0's l2: 257.931\tvalid_1's l2: 2340.89\n",
      "[60]\tvalid_0's l2: 223.809\tvalid_1's l2: 2249.41\n",
      "[80]\tvalid_0's l2: 250.138\tvalid_1's l2: 2156.41\n",
      "[100]\tvalid_0's l2: 227.195\tvalid_1's l2: 2087.94\n"
     ]
    },
    {
     "name": "stderr",
     "output_type": "stream",
     "text": [
      "/opt/conda/lib/python3.7/site-packages/lightgbm/sklearn.py:736: UserWarning: 'verbose' argument is deprecated and will be removed in a future release of LightGBM. Pass 'log_evaluation()' callback via 'callbacks' argument instead.\n",
      "  _log_warning(\"'verbose' argument is deprecated and will be removed in a future release of LightGBM. \"\n"
     ]
    },
    {
     "name": "stdout",
     "output_type": "stream",
     "text": [
      "[20]\tvalid_0's l2: 486.007\tvalid_1's l2: 2551.51\n",
      "[40]\tvalid_0's l2: 513.191\tvalid_1's l2: 2457.59\n",
      "[60]\tvalid_0's l2: 431.775\tvalid_1's l2: 2398.38\n",
      "[80]\tvalid_0's l2: 420.004\tvalid_1's l2: 2348.32\n",
      "[100]\tvalid_0's l2: 405.135\tvalid_1's l2: 2298.7\n"
     ]
    },
    {
     "name": "stderr",
     "output_type": "stream",
     "text": [
      "/opt/conda/lib/python3.7/site-packages/lightgbm/sklearn.py:736: UserWarning: 'verbose' argument is deprecated and will be removed in a future release of LightGBM. Pass 'log_evaluation()' callback via 'callbacks' argument instead.\n",
      "  _log_warning(\"'verbose' argument is deprecated and will be removed in a future release of LightGBM. \"\n"
     ]
    },
    {
     "name": "stdout",
     "output_type": "stream",
     "text": [
      "[20]\tvalid_0's l2: 793.776\tvalid_1's l2: 2475.14\n",
      "[40]\tvalid_0's l2: 683.491\tvalid_1's l2: 2360.69\n",
      "[60]\tvalid_0's l2: 557.246\tvalid_1's l2: 2268.84\n",
      "[80]\tvalid_0's l2: 490.251\tvalid_1's l2: 2197.06\n",
      "[100]\tvalid_0's l2: 486.937\tvalid_1's l2: 2138.38\n"
     ]
    },
    {
     "name": "stderr",
     "output_type": "stream",
     "text": [
      "/opt/conda/lib/python3.7/site-packages/lightgbm/sklearn.py:736: UserWarning: 'verbose' argument is deprecated and will be removed in a future release of LightGBM. Pass 'log_evaluation()' callback via 'callbacks' argument instead.\n",
      "  _log_warning(\"'verbose' argument is deprecated and will be removed in a future release of LightGBM. \"\n"
     ]
    },
    {
     "name": "stdout",
     "output_type": "stream",
     "text": [
      "[20]\tvalid_0's l2: 91.5539\tvalid_1's l2: 2488.5\n",
      "[40]\tvalid_0's l2: 101.552\tvalid_1's l2: 2343.58\n",
      "[60]\tvalid_0's l2: 149.015\tvalid_1's l2: 2238.14\n",
      "[80]\tvalid_0's l2: 182.763\tvalid_1's l2: 2138.53\n",
      "[100]\tvalid_0's l2: 210.837\tvalid_1's l2: 2066.13\n"
     ]
    },
    {
     "name": "stderr",
     "output_type": "stream",
     "text": [
      "/opt/conda/lib/python3.7/site-packages/lightgbm/sklearn.py:736: UserWarning: 'verbose' argument is deprecated and will be removed in a future release of LightGBM. Pass 'log_evaluation()' callback via 'callbacks' argument instead.\n",
      "  _log_warning(\"'verbose' argument is deprecated and will be removed in a future release of LightGBM. \"\n"
     ]
    },
    {
     "name": "stdout",
     "output_type": "stream",
     "text": [
      "[20]\tvalid_0's l2: 175.539\tvalid_1's l2: 2459.59\n",
      "[40]\tvalid_0's l2: 156.473\tvalid_1's l2: 2306.77\n",
      "[60]\tvalid_0's l2: 132.945\tvalid_1's l2: 2204.7\n",
      "[80]\tvalid_0's l2: 140.234\tvalid_1's l2: 2113.12\n",
      "[100]\tvalid_0's l2: 148.612\tvalid_1's l2: 2046.28\n"
     ]
    },
    {
     "name": "stderr",
     "output_type": "stream",
     "text": [
      "/opt/conda/lib/python3.7/site-packages/lightgbm/sklearn.py:736: UserWarning: 'verbose' argument is deprecated and will be removed in a future release of LightGBM. Pass 'log_evaluation()' callback via 'callbacks' argument instead.\n",
      "  _log_warning(\"'verbose' argument is deprecated and will be removed in a future release of LightGBM. \"\n"
     ]
    },
    {
     "name": "stdout",
     "output_type": "stream",
     "text": [
      "[20]\tvalid_0's l2: 282.044\tvalid_1's l2: 2470.26\n",
      "[40]\tvalid_0's l2: 257.931\tvalid_1's l2: 2340.89\n",
      "[60]\tvalid_0's l2: 223.809\tvalid_1's l2: 2249.41\n",
      "[80]\tvalid_0's l2: 250.138\tvalid_1's l2: 2156.41\n",
      "[100]\tvalid_0's l2: 227.195\tvalid_1's l2: 2087.94\n"
     ]
    },
    {
     "name": "stderr",
     "output_type": "stream",
     "text": [
      "/opt/conda/lib/python3.7/site-packages/lightgbm/sklearn.py:736: UserWarning: 'verbose' argument is deprecated and will be removed in a future release of LightGBM. Pass 'log_evaluation()' callback via 'callbacks' argument instead.\n",
      "  _log_warning(\"'verbose' argument is deprecated and will be removed in a future release of LightGBM. \"\n"
     ]
    },
    {
     "name": "stdout",
     "output_type": "stream",
     "text": [
      "[20]\tvalid_0's l2: 486.007\tvalid_1's l2: 2551.51\n",
      "[40]\tvalid_0's l2: 513.191\tvalid_1's l2: 2457.59\n",
      "[60]\tvalid_0's l2: 431.775\tvalid_1's l2: 2398.38\n",
      "[80]\tvalid_0's l2: 420.004\tvalid_1's l2: 2348.32\n",
      "[100]\tvalid_0's l2: 405.135\tvalid_1's l2: 2298.7\n"
     ]
    },
    {
     "name": "stderr",
     "output_type": "stream",
     "text": [
      "/opt/conda/lib/python3.7/site-packages/lightgbm/sklearn.py:736: UserWarning: 'verbose' argument is deprecated and will be removed in a future release of LightGBM. Pass 'log_evaluation()' callback via 'callbacks' argument instead.\n",
      "  _log_warning(\"'verbose' argument is deprecated and will be removed in a future release of LightGBM. \"\n"
     ]
    },
    {
     "name": "stdout",
     "output_type": "stream",
     "text": [
      "[20]\tvalid_0's l2: 785.455\tvalid_1's l2: 2476.19\n",
      "[40]\tvalid_0's l2: 702.61\tvalid_1's l2: 2361.62\n",
      "[60]\tvalid_0's l2: 533.052\tvalid_1's l2: 2279.79\n",
      "[80]\tvalid_0's l2: 450.116\tvalid_1's l2: 2198.24\n",
      "[100]\tvalid_0's l2: 445.735\tvalid_1's l2: 2141.37\n"
     ]
    },
    {
     "name": "stderr",
     "output_type": "stream",
     "text": [
      "/opt/conda/lib/python3.7/site-packages/lightgbm/sklearn.py:736: UserWarning: 'verbose' argument is deprecated and will be removed in a future release of LightGBM. Pass 'log_evaluation()' callback via 'callbacks' argument instead.\n",
      "  _log_warning(\"'verbose' argument is deprecated and will be removed in a future release of LightGBM. \"\n"
     ]
    },
    {
     "name": "stdout",
     "output_type": "stream",
     "text": [
      "[20]\tvalid_0's l2: 93.3167\tvalid_1's l2: 2492.55\n",
      "[40]\tvalid_0's l2: 80.8199\tvalid_1's l2: 2343.43\n",
      "[60]\tvalid_0's l2: 112.114\tvalid_1's l2: 2235.23\n",
      "[80]\tvalid_0's l2: 178.717\tvalid_1's l2: 2140.84\n",
      "[100]\tvalid_0's l2: 209.579\tvalid_1's l2: 2072.25\n"
     ]
    },
    {
     "name": "stderr",
     "output_type": "stream",
     "text": [
      "/opt/conda/lib/python3.7/site-packages/lightgbm/sklearn.py:736: UserWarning: 'verbose' argument is deprecated and will be removed in a future release of LightGBM. Pass 'log_evaluation()' callback via 'callbacks' argument instead.\n",
      "  _log_warning(\"'verbose' argument is deprecated and will be removed in a future release of LightGBM. \"\n"
     ]
    },
    {
     "name": "stdout",
     "output_type": "stream",
     "text": [
      "[20]\tvalid_0's l2: 171.764\tvalid_1's l2: 2462.42\n",
      "[40]\tvalid_0's l2: 200.894\tvalid_1's l2: 2305.2\n",
      "[60]\tvalid_0's l2: 171.859\tvalid_1's l2: 2195.88\n",
      "[80]\tvalid_0's l2: 192.964\tvalid_1's l2: 2112.17\n",
      "[100]\tvalid_0's l2: 197.68\tvalid_1's l2: 2049.89\n"
     ]
    },
    {
     "name": "stderr",
     "output_type": "stream",
     "text": [
      "/opt/conda/lib/python3.7/site-packages/lightgbm/sklearn.py:736: UserWarning: 'verbose' argument is deprecated and will be removed in a future release of LightGBM. Pass 'log_evaluation()' callback via 'callbacks' argument instead.\n",
      "  _log_warning(\"'verbose' argument is deprecated and will be removed in a future release of LightGBM. \"\n"
     ]
    },
    {
     "name": "stdout",
     "output_type": "stream",
     "text": [
      "[20]\tvalid_0's l2: 226.101\tvalid_1's l2: 2473.63\n",
      "[40]\tvalid_0's l2: 242.503\tvalid_1's l2: 2350.62\n",
      "[60]\tvalid_0's l2: 231.813\tvalid_1's l2: 2252.5\n",
      "[80]\tvalid_0's l2: 216.088\tvalid_1's l2: 2170.85\n",
      "[100]\tvalid_0's l2: 187.256\tvalid_1's l2: 2102.07\n"
     ]
    },
    {
     "name": "stderr",
     "output_type": "stream",
     "text": [
      "/opt/conda/lib/python3.7/site-packages/lightgbm/sklearn.py:736: UserWarning: 'verbose' argument is deprecated and will be removed in a future release of LightGBM. Pass 'log_evaluation()' callback via 'callbacks' argument instead.\n",
      "  _log_warning(\"'verbose' argument is deprecated and will be removed in a future release of LightGBM. \"\n"
     ]
    },
    {
     "name": "stdout",
     "output_type": "stream",
     "text": [
      "[20]\tvalid_0's l2: 484.416\tvalid_1's l2: 2550.19\n",
      "[40]\tvalid_0's l2: 493.451\tvalid_1's l2: 2467.2\n",
      "[60]\tvalid_0's l2: 488.965\tvalid_1's l2: 2405.54\n",
      "[80]\tvalid_0's l2: 413.597\tvalid_1's l2: 2348.98\n",
      "[100]\tvalid_0's l2: 404.139\tvalid_1's l2: 2309.11\n"
     ]
    },
    {
     "name": "stderr",
     "output_type": "stream",
     "text": [
      "/opt/conda/lib/python3.7/site-packages/lightgbm/sklearn.py:736: UserWarning: 'verbose' argument is deprecated and will be removed in a future release of LightGBM. Pass 'log_evaluation()' callback via 'callbacks' argument instead.\n",
      "  _log_warning(\"'verbose' argument is deprecated and will be removed in a future release of LightGBM. \"\n"
     ]
    },
    {
     "name": "stdout",
     "output_type": "stream",
     "text": [
      "[20]\tvalid_0's l2: 785.455\tvalid_1's l2: 2476.19\n",
      "[40]\tvalid_0's l2: 702.61\tvalid_1's l2: 2361.62\n",
      "[60]\tvalid_0's l2: 533.052\tvalid_1's l2: 2279.79\n",
      "[80]\tvalid_0's l2: 450.116\tvalid_1's l2: 2198.24\n",
      "[100]\tvalid_0's l2: 445.735\tvalid_1's l2: 2141.37\n"
     ]
    },
    {
     "name": "stderr",
     "output_type": "stream",
     "text": [
      "/opt/conda/lib/python3.7/site-packages/lightgbm/sklearn.py:736: UserWarning: 'verbose' argument is deprecated and will be removed in a future release of LightGBM. Pass 'log_evaluation()' callback via 'callbacks' argument instead.\n",
      "  _log_warning(\"'verbose' argument is deprecated and will be removed in a future release of LightGBM. \"\n"
     ]
    },
    {
     "name": "stdout",
     "output_type": "stream",
     "text": [
      "[20]\tvalid_0's l2: 93.3167\tvalid_1's l2: 2492.55\n",
      "[40]\tvalid_0's l2: 80.8199\tvalid_1's l2: 2343.43\n",
      "[60]\tvalid_0's l2: 112.114\tvalid_1's l2: 2235.23\n",
      "[80]\tvalid_0's l2: 178.717\tvalid_1's l2: 2140.84\n",
      "[100]\tvalid_0's l2: 209.579\tvalid_1's l2: 2072.25\n"
     ]
    },
    {
     "name": "stderr",
     "output_type": "stream",
     "text": [
      "/opt/conda/lib/python3.7/site-packages/lightgbm/sklearn.py:736: UserWarning: 'verbose' argument is deprecated and will be removed in a future release of LightGBM. Pass 'log_evaluation()' callback via 'callbacks' argument instead.\n",
      "  _log_warning(\"'verbose' argument is deprecated and will be removed in a future release of LightGBM. \"\n"
     ]
    },
    {
     "name": "stdout",
     "output_type": "stream",
     "text": [
      "[20]\tvalid_0's l2: 171.764\tvalid_1's l2: 2462.42\n",
      "[40]\tvalid_0's l2: 200.894\tvalid_1's l2: 2305.2\n",
      "[60]\tvalid_0's l2: 171.859\tvalid_1's l2: 2195.88\n",
      "[80]\tvalid_0's l2: 192.964\tvalid_1's l2: 2112.17\n",
      "[100]\tvalid_0's l2: 197.68\tvalid_1's l2: 2049.89\n"
     ]
    },
    {
     "name": "stderr",
     "output_type": "stream",
     "text": [
      "/opt/conda/lib/python3.7/site-packages/lightgbm/sklearn.py:736: UserWarning: 'verbose' argument is deprecated and will be removed in a future release of LightGBM. Pass 'log_evaluation()' callback via 'callbacks' argument instead.\n",
      "  _log_warning(\"'verbose' argument is deprecated and will be removed in a future release of LightGBM. \"\n"
     ]
    },
    {
     "name": "stdout",
     "output_type": "stream",
     "text": [
      "[20]\tvalid_0's l2: 226.101\tvalid_1's l2: 2473.63\n",
      "[40]\tvalid_0's l2: 242.503\tvalid_1's l2: 2350.62\n",
      "[60]\tvalid_0's l2: 231.813\tvalid_1's l2: 2252.5\n",
      "[80]\tvalid_0's l2: 216.088\tvalid_1's l2: 2170.85\n",
      "[100]\tvalid_0's l2: 187.256\tvalid_1's l2: 2102.07\n"
     ]
    },
    {
     "name": "stderr",
     "output_type": "stream",
     "text": [
      "/opt/conda/lib/python3.7/site-packages/lightgbm/sklearn.py:736: UserWarning: 'verbose' argument is deprecated and will be removed in a future release of LightGBM. Pass 'log_evaluation()' callback via 'callbacks' argument instead.\n",
      "  _log_warning(\"'verbose' argument is deprecated and will be removed in a future release of LightGBM. \"\n"
     ]
    },
    {
     "name": "stdout",
     "output_type": "stream",
     "text": [
      "[20]\tvalid_0's l2: 484.416\tvalid_1's l2: 2550.19\n",
      "[40]\tvalid_0's l2: 493.451\tvalid_1's l2: 2467.2\n",
      "[60]\tvalid_0's l2: 488.965\tvalid_1's l2: 2405.54\n",
      "[80]\tvalid_0's l2: 413.597\tvalid_1's l2: 2348.98\n",
      "[100]\tvalid_0's l2: 404.139\tvalid_1's l2: 2309.11\n"
     ]
    },
    {
     "name": "stderr",
     "output_type": "stream",
     "text": [
      "/opt/conda/lib/python3.7/site-packages/lightgbm/sklearn.py:736: UserWarning: 'verbose' argument is deprecated and will be removed in a future release of LightGBM. Pass 'log_evaluation()' callback via 'callbacks' argument instead.\n",
      "  _log_warning(\"'verbose' argument is deprecated and will be removed in a future release of LightGBM. \"\n"
     ]
    },
    {
     "name": "stdout",
     "output_type": "stream",
     "text": [
      "[20]\tvalid_0's l2: 797.222\tvalid_1's l2: 2473.04\n",
      "[40]\tvalid_0's l2: 742.278\tvalid_1's l2: 2356.72\n",
      "[60]\tvalid_0's l2: 577.733\tvalid_1's l2: 2263.85\n",
      "[80]\tvalid_0's l2: 501.812\tvalid_1's l2: 2185.65\n",
      "[100]\tvalid_0's l2: 464.993\tvalid_1's l2: 2120.53\n"
     ]
    },
    {
     "name": "stderr",
     "output_type": "stream",
     "text": [
      "/opt/conda/lib/python3.7/site-packages/lightgbm/sklearn.py:736: UserWarning: 'verbose' argument is deprecated and will be removed in a future release of LightGBM. Pass 'log_evaluation()' callback via 'callbacks' argument instead.\n",
      "  _log_warning(\"'verbose' argument is deprecated and will be removed in a future release of LightGBM. \"\n"
     ]
    },
    {
     "name": "stdout",
     "output_type": "stream",
     "text": [
      "[20]\tvalid_0's l2: 86.4901\tvalid_1's l2: 2486.92\n",
      "[40]\tvalid_0's l2: 87.2116\tvalid_1's l2: 2340.08\n",
      "[60]\tvalid_0's l2: 125.443\tvalid_1's l2: 2231.89\n",
      "[80]\tvalid_0's l2: 158.89\tvalid_1's l2: 2138.26\n",
      "[100]\tvalid_0's l2: 221.813\tvalid_1's l2: 2059.23\n"
     ]
    },
    {
     "name": "stderr",
     "output_type": "stream",
     "text": [
      "/opt/conda/lib/python3.7/site-packages/lightgbm/sklearn.py:736: UserWarning: 'verbose' argument is deprecated and will be removed in a future release of LightGBM. Pass 'log_evaluation()' callback via 'callbacks' argument instead.\n",
      "  _log_warning(\"'verbose' argument is deprecated and will be removed in a future release of LightGBM. \"\n"
     ]
    },
    {
     "name": "stdout",
     "output_type": "stream",
     "text": [
      "[20]\tvalid_0's l2: 168.129\tvalid_1's l2: 2458.43\n",
      "[40]\tvalid_0's l2: 165.366\tvalid_1's l2: 2302.23\n",
      "[60]\tvalid_0's l2: 150.894\tvalid_1's l2: 2197.42\n",
      "[80]\tvalid_0's l2: 170.918\tvalid_1's l2: 2107.86\n",
      "[100]\tvalid_0's l2: 174.707\tvalid_1's l2: 2040.46\n"
     ]
    },
    {
     "name": "stderr",
     "output_type": "stream",
     "text": [
      "/opt/conda/lib/python3.7/site-packages/lightgbm/sklearn.py:736: UserWarning: 'verbose' argument is deprecated and will be removed in a future release of LightGBM. Pass 'log_evaluation()' callback via 'callbacks' argument instead.\n",
      "  _log_warning(\"'verbose' argument is deprecated and will be removed in a future release of LightGBM. \"\n"
     ]
    },
    {
     "name": "stdout",
     "output_type": "stream",
     "text": [
      "[20]\tvalid_0's l2: 229.031\tvalid_1's l2: 2471\n",
      "[40]\tvalid_0's l2: 200.646\tvalid_1's l2: 2342.59\n",
      "[60]\tvalid_0's l2: 187.027\tvalid_1's l2: 2244.43\n",
      "[80]\tvalid_0's l2: 179.63\tvalid_1's l2: 2152.73\n",
      "[100]\tvalid_0's l2: 151.09\tvalid_1's l2: 2086.11\n"
     ]
    },
    {
     "name": "stderr",
     "output_type": "stream",
     "text": [
      "/opt/conda/lib/python3.7/site-packages/lightgbm/sklearn.py:736: UserWarning: 'verbose' argument is deprecated and will be removed in a future release of LightGBM. Pass 'log_evaluation()' callback via 'callbacks' argument instead.\n",
      "  _log_warning(\"'verbose' argument is deprecated and will be removed in a future release of LightGBM. \"\n"
     ]
    },
    {
     "name": "stdout",
     "output_type": "stream",
     "text": [
      "[20]\tvalid_0's l2: 486.491\tvalid_1's l2: 2548.71\n",
      "[40]\tvalid_0's l2: 521.586\tvalid_1's l2: 2452.82\n",
      "[60]\tvalid_0's l2: 554.726\tvalid_1's l2: 2385.91\n",
      "[80]\tvalid_0's l2: 489.245\tvalid_1's l2: 2339.37\n",
      "[100]\tvalid_0's l2: 435.965\tvalid_1's l2: 2300.61\n"
     ]
    },
    {
     "name": "stderr",
     "output_type": "stream",
     "text": [
      "/opt/conda/lib/python3.7/site-packages/lightgbm/sklearn.py:736: UserWarning: 'verbose' argument is deprecated and will be removed in a future release of LightGBM. Pass 'log_evaluation()' callback via 'callbacks' argument instead.\n",
      "  _log_warning(\"'verbose' argument is deprecated and will be removed in a future release of LightGBM. \"\n"
     ]
    },
    {
     "name": "stdout",
     "output_type": "stream",
     "text": [
      "[20]\tvalid_0's l2: 797.222\tvalid_1's l2: 2473.04\n",
      "[40]\tvalid_0's l2: 742.278\tvalid_1's l2: 2356.72\n",
      "[60]\tvalid_0's l2: 577.733\tvalid_1's l2: 2263.85\n",
      "[80]\tvalid_0's l2: 501.812\tvalid_1's l2: 2185.65\n",
      "[100]\tvalid_0's l2: 464.993\tvalid_1's l2: 2120.53\n"
     ]
    },
    {
     "name": "stderr",
     "output_type": "stream",
     "text": [
      "/opt/conda/lib/python3.7/site-packages/lightgbm/sklearn.py:736: UserWarning: 'verbose' argument is deprecated and will be removed in a future release of LightGBM. Pass 'log_evaluation()' callback via 'callbacks' argument instead.\n",
      "  _log_warning(\"'verbose' argument is deprecated and will be removed in a future release of LightGBM. \"\n"
     ]
    },
    {
     "name": "stdout",
     "output_type": "stream",
     "text": [
      "[20]\tvalid_0's l2: 86.4901\tvalid_1's l2: 2486.92\n",
      "[40]\tvalid_0's l2: 87.2116\tvalid_1's l2: 2340.08\n",
      "[60]\tvalid_0's l2: 125.443\tvalid_1's l2: 2231.89\n",
      "[80]\tvalid_0's l2: 158.89\tvalid_1's l2: 2138.26\n",
      "[100]\tvalid_0's l2: 221.813\tvalid_1's l2: 2059.23\n"
     ]
    },
    {
     "name": "stderr",
     "output_type": "stream",
     "text": [
      "/opt/conda/lib/python3.7/site-packages/lightgbm/sklearn.py:736: UserWarning: 'verbose' argument is deprecated and will be removed in a future release of LightGBM. Pass 'log_evaluation()' callback via 'callbacks' argument instead.\n",
      "  _log_warning(\"'verbose' argument is deprecated and will be removed in a future release of LightGBM. \"\n"
     ]
    },
    {
     "name": "stdout",
     "output_type": "stream",
     "text": [
      "[20]\tvalid_0's l2: 168.129\tvalid_1's l2: 2458.43\n",
      "[40]\tvalid_0's l2: 165.366\tvalid_1's l2: 2302.23\n",
      "[60]\tvalid_0's l2: 150.894\tvalid_1's l2: 2197.42\n",
      "[80]\tvalid_0's l2: 170.918\tvalid_1's l2: 2107.86\n",
      "[100]\tvalid_0's l2: 174.707\tvalid_1's l2: 2040.46\n"
     ]
    },
    {
     "name": "stderr",
     "output_type": "stream",
     "text": [
      "/opt/conda/lib/python3.7/site-packages/lightgbm/sklearn.py:736: UserWarning: 'verbose' argument is deprecated and will be removed in a future release of LightGBM. Pass 'log_evaluation()' callback via 'callbacks' argument instead.\n",
      "  _log_warning(\"'verbose' argument is deprecated and will be removed in a future release of LightGBM. \"\n"
     ]
    },
    {
     "name": "stdout",
     "output_type": "stream",
     "text": [
      "[20]\tvalid_0's l2: 229.031\tvalid_1's l2: 2471\n",
      "[40]\tvalid_0's l2: 200.646\tvalid_1's l2: 2342.59\n",
      "[60]\tvalid_0's l2: 187.027\tvalid_1's l2: 2244.43\n",
      "[80]\tvalid_0's l2: 179.63\tvalid_1's l2: 2152.73\n",
      "[100]\tvalid_0's l2: 151.09\tvalid_1's l2: 2086.11\n"
     ]
    },
    {
     "name": "stderr",
     "output_type": "stream",
     "text": [
      "/opt/conda/lib/python3.7/site-packages/lightgbm/sklearn.py:736: UserWarning: 'verbose' argument is deprecated and will be removed in a future release of LightGBM. Pass 'log_evaluation()' callback via 'callbacks' argument instead.\n",
      "  _log_warning(\"'verbose' argument is deprecated and will be removed in a future release of LightGBM. \"\n"
     ]
    },
    {
     "name": "stdout",
     "output_type": "stream",
     "text": [
      "[20]\tvalid_0's l2: 486.491\tvalid_1's l2: 2548.71\n",
      "[40]\tvalid_0's l2: 521.586\tvalid_1's l2: 2452.82\n",
      "[60]\tvalid_0's l2: 554.726\tvalid_1's l2: 2385.91\n",
      "[80]\tvalid_0's l2: 489.245\tvalid_1's l2: 2339.37\n",
      "[100]\tvalid_0's l2: 435.965\tvalid_1's l2: 2300.61\n"
     ]
    },
    {
     "name": "stderr",
     "output_type": "stream",
     "text": [
      "/opt/conda/lib/python3.7/site-packages/lightgbm/sklearn.py:736: UserWarning: 'verbose' argument is deprecated and will be removed in a future release of LightGBM. Pass 'log_evaluation()' callback via 'callbacks' argument instead.\n",
      "  _log_warning(\"'verbose' argument is deprecated and will be removed in a future release of LightGBM. \"\n"
     ]
    },
    {
     "name": "stdout",
     "output_type": "stream",
     "text": [
      "[20]\tvalid_0's l2: 792.538\tvalid_1's l2: 2474.58\n",
      "[40]\tvalid_0's l2: 693.002\tvalid_1's l2: 2355.88\n",
      "[60]\tvalid_0's l2: 614.93\tvalid_1's l2: 2275.25\n",
      "[80]\tvalid_0's l2: 538.438\tvalid_1's l2: 2196.24\n",
      "[100]\tvalid_0's l2: 427.877\tvalid_1's l2: 2123.18\n"
     ]
    },
    {
     "name": "stderr",
     "output_type": "stream",
     "text": [
      "/opt/conda/lib/python3.7/site-packages/lightgbm/sklearn.py:736: UserWarning: 'verbose' argument is deprecated and will be removed in a future release of LightGBM. Pass 'log_evaluation()' callback via 'callbacks' argument instead.\n",
      "  _log_warning(\"'verbose' argument is deprecated and will be removed in a future release of LightGBM. \"\n"
     ]
    },
    {
     "name": "stdout",
     "output_type": "stream",
     "text": [
      "[20]\tvalid_0's l2: 97.6629\tvalid_1's l2: 2489.97\n",
      "[40]\tvalid_0's l2: 98.9246\tvalid_1's l2: 2340.59\n",
      "[60]\tvalid_0's l2: 112.597\tvalid_1's l2: 2229.26\n",
      "[80]\tvalid_0's l2: 199.351\tvalid_1's l2: 2138.33\n",
      "[100]\tvalid_0's l2: 219.532\tvalid_1's l2: 2063.76\n"
     ]
    },
    {
     "name": "stderr",
     "output_type": "stream",
     "text": [
      "/opt/conda/lib/python3.7/site-packages/lightgbm/sklearn.py:736: UserWarning: 'verbose' argument is deprecated and will be removed in a future release of LightGBM. Pass 'log_evaluation()' callback via 'callbacks' argument instead.\n",
      "  _log_warning(\"'verbose' argument is deprecated and will be removed in a future release of LightGBM. \"\n"
     ]
    },
    {
     "name": "stdout",
     "output_type": "stream",
     "text": [
      "[20]\tvalid_0's l2: 169.617\tvalid_1's l2: 2460.48\n",
      "[40]\tvalid_0's l2: 180.045\tvalid_1's l2: 2300\n",
      "[60]\tvalid_0's l2: 132.499\tvalid_1's l2: 2198.78\n",
      "[80]\tvalid_0's l2: 157.832\tvalid_1's l2: 2104.09\n",
      "[100]\tvalid_0's l2: 189.569\tvalid_1's l2: 2035.92\n"
     ]
    },
    {
     "name": "stderr",
     "output_type": "stream",
     "text": [
      "/opt/conda/lib/python3.7/site-packages/lightgbm/sklearn.py:736: UserWarning: 'verbose' argument is deprecated and will be removed in a future release of LightGBM. Pass 'log_evaluation()' callback via 'callbacks' argument instead.\n",
      "  _log_warning(\"'verbose' argument is deprecated and will be removed in a future release of LightGBM. \"\n"
     ]
    },
    {
     "name": "stdout",
     "output_type": "stream",
     "text": [
      "[20]\tvalid_0's l2: 228.729\tvalid_1's l2: 2472.24\n",
      "[40]\tvalid_0's l2: 204.874\tvalid_1's l2: 2344.65\n",
      "[60]\tvalid_0's l2: 209.876\tvalid_1's l2: 2241.07\n",
      "[80]\tvalid_0's l2: 167.561\tvalid_1's l2: 2158.24\n",
      "[100]\tvalid_0's l2: 159.114\tvalid_1's l2: 2087.61\n"
     ]
    },
    {
     "name": "stderr",
     "output_type": "stream",
     "text": [
      "/opt/conda/lib/python3.7/site-packages/lightgbm/sklearn.py:736: UserWarning: 'verbose' argument is deprecated and will be removed in a future release of LightGBM. Pass 'log_evaluation()' callback via 'callbacks' argument instead.\n",
      "  _log_warning(\"'verbose' argument is deprecated and will be removed in a future release of LightGBM. \"\n"
     ]
    },
    {
     "name": "stdout",
     "output_type": "stream",
     "text": [
      "[20]\tvalid_0's l2: 486.3\tvalid_1's l2: 2549.67\n",
      "[40]\tvalid_0's l2: 549.965\tvalid_1's l2: 2450.16\n",
      "[60]\tvalid_0's l2: 535.523\tvalid_1's l2: 2390.33\n",
      "[80]\tvalid_0's l2: 504.61\tvalid_1's l2: 2342.57\n",
      "[100]\tvalid_0's l2: 431.225\tvalid_1's l2: 2294.73\n"
     ]
    },
    {
     "name": "stderr",
     "output_type": "stream",
     "text": [
      "/opt/conda/lib/python3.7/site-packages/lightgbm/sklearn.py:736: UserWarning: 'verbose' argument is deprecated and will be removed in a future release of LightGBM. Pass 'log_evaluation()' callback via 'callbacks' argument instead.\n",
      "  _log_warning(\"'verbose' argument is deprecated and will be removed in a future release of LightGBM. \"\n"
     ]
    },
    {
     "name": "stdout",
     "output_type": "stream",
     "text": [
      "[20]\tvalid_0's l2: 792.538\tvalid_1's l2: 2474.58\n",
      "[40]\tvalid_0's l2: 693.002\tvalid_1's l2: 2355.88\n",
      "[60]\tvalid_0's l2: 614.93\tvalid_1's l2: 2275.25\n",
      "[80]\tvalid_0's l2: 538.438\tvalid_1's l2: 2196.24\n",
      "[100]\tvalid_0's l2: 427.877\tvalid_1's l2: 2123.18\n"
     ]
    },
    {
     "name": "stderr",
     "output_type": "stream",
     "text": [
      "/opt/conda/lib/python3.7/site-packages/lightgbm/sklearn.py:736: UserWarning: 'verbose' argument is deprecated and will be removed in a future release of LightGBM. Pass 'log_evaluation()' callback via 'callbacks' argument instead.\n",
      "  _log_warning(\"'verbose' argument is deprecated and will be removed in a future release of LightGBM. \"\n"
     ]
    },
    {
     "name": "stdout",
     "output_type": "stream",
     "text": [
      "[20]\tvalid_0's l2: 97.6629\tvalid_1's l2: 2489.97\n",
      "[40]\tvalid_0's l2: 98.9246\tvalid_1's l2: 2340.59\n",
      "[60]\tvalid_0's l2: 112.597\tvalid_1's l2: 2229.26\n",
      "[80]\tvalid_0's l2: 199.351\tvalid_1's l2: 2138.33\n",
      "[100]\tvalid_0's l2: 219.532\tvalid_1's l2: 2063.76\n"
     ]
    },
    {
     "name": "stderr",
     "output_type": "stream",
     "text": [
      "/opt/conda/lib/python3.7/site-packages/lightgbm/sklearn.py:736: UserWarning: 'verbose' argument is deprecated and will be removed in a future release of LightGBM. Pass 'log_evaluation()' callback via 'callbacks' argument instead.\n",
      "  _log_warning(\"'verbose' argument is deprecated and will be removed in a future release of LightGBM. \"\n"
     ]
    },
    {
     "name": "stdout",
     "output_type": "stream",
     "text": [
      "[20]\tvalid_0's l2: 169.617\tvalid_1's l2: 2460.48\n",
      "[40]\tvalid_0's l2: 180.045\tvalid_1's l2: 2300\n",
      "[60]\tvalid_0's l2: 132.499\tvalid_1's l2: 2198.78\n",
      "[80]\tvalid_0's l2: 157.832\tvalid_1's l2: 2104.09\n",
      "[100]\tvalid_0's l2: 189.569\tvalid_1's l2: 2035.92\n"
     ]
    },
    {
     "name": "stderr",
     "output_type": "stream",
     "text": [
      "/opt/conda/lib/python3.7/site-packages/lightgbm/sklearn.py:736: UserWarning: 'verbose' argument is deprecated and will be removed in a future release of LightGBM. Pass 'log_evaluation()' callback via 'callbacks' argument instead.\n",
      "  _log_warning(\"'verbose' argument is deprecated and will be removed in a future release of LightGBM. \"\n"
     ]
    },
    {
     "name": "stdout",
     "output_type": "stream",
     "text": [
      "[20]\tvalid_0's l2: 228.729\tvalid_1's l2: 2472.24\n",
      "[40]\tvalid_0's l2: 204.874\tvalid_1's l2: 2344.65\n",
      "[60]\tvalid_0's l2: 209.876\tvalid_1's l2: 2241.07\n",
      "[80]\tvalid_0's l2: 167.561\tvalid_1's l2: 2158.24\n",
      "[100]\tvalid_0's l2: 159.114\tvalid_1's l2: 2087.61\n"
     ]
    },
    {
     "name": "stderr",
     "output_type": "stream",
     "text": [
      "/opt/conda/lib/python3.7/site-packages/lightgbm/sklearn.py:736: UserWarning: 'verbose' argument is deprecated and will be removed in a future release of LightGBM. Pass 'log_evaluation()' callback via 'callbacks' argument instead.\n",
      "  _log_warning(\"'verbose' argument is deprecated and will be removed in a future release of LightGBM. \"\n"
     ]
    },
    {
     "name": "stdout",
     "output_type": "stream",
     "text": [
      "[20]\tvalid_0's l2: 486.3\tvalid_1's l2: 2549.67\n",
      "[40]\tvalid_0's l2: 549.965\tvalid_1's l2: 2450.16\n",
      "[60]\tvalid_0's l2: 535.523\tvalid_1's l2: 2390.33\n",
      "[80]\tvalid_0's l2: 504.61\tvalid_1's l2: 2342.57\n",
      "[100]\tvalid_0's l2: 431.225\tvalid_1's l2: 2294.73\n"
     ]
    },
    {
     "name": "stderr",
     "output_type": "stream",
     "text": [
      "/opt/conda/lib/python3.7/site-packages/lightgbm/sklearn.py:736: UserWarning: 'verbose' argument is deprecated and will be removed in a future release of LightGBM. Pass 'log_evaluation()' callback via 'callbacks' argument instead.\n",
      "  _log_warning(\"'verbose' argument is deprecated and will be removed in a future release of LightGBM. \"\n"
     ]
    },
    {
     "name": "stdout",
     "output_type": "stream",
     "text": [
      "[20]\tvalid_0's l2: 796.974\tvalid_1's l2: 2473.13\n",
      "[40]\tvalid_0's l2: 747.241\tvalid_1's l2: 2354.53\n",
      "[60]\tvalid_0's l2: 617.403\tvalid_1's l2: 2256.05\n",
      "[80]\tvalid_0's l2: 545.064\tvalid_1's l2: 2181.14\n",
      "[100]\tvalid_0's l2: 490.678\tvalid_1's l2: 2118.5\n"
     ]
    },
    {
     "name": "stderr",
     "output_type": "stream",
     "text": [
      "/opt/conda/lib/python3.7/site-packages/lightgbm/sklearn.py:736: UserWarning: 'verbose' argument is deprecated and will be removed in a future release of LightGBM. Pass 'log_evaluation()' callback via 'callbacks' argument instead.\n",
      "  _log_warning(\"'verbose' argument is deprecated and will be removed in a future release of LightGBM. \"\n"
     ]
    },
    {
     "name": "stdout",
     "output_type": "stream",
     "text": [
      "[20]\tvalid_0's l2: 86.5387\tvalid_1's l2: 2487.03\n",
      "[40]\tvalid_0's l2: 87.2601\tvalid_1's l2: 2340.23\n",
      "[60]\tvalid_0's l2: 125.245\tvalid_1's l2: 2229.71\n",
      "[80]\tvalid_0's l2: 161.138\tvalid_1's l2: 2142.89\n",
      "[100]\tvalid_0's l2: 198.559\tvalid_1's l2: 2065.51\n"
     ]
    },
    {
     "name": "stderr",
     "output_type": "stream",
     "text": [
      "/opt/conda/lib/python3.7/site-packages/lightgbm/sklearn.py:736: UserWarning: 'verbose' argument is deprecated and will be removed in a future release of LightGBM. Pass 'log_evaluation()' callback via 'callbacks' argument instead.\n",
      "  _log_warning(\"'verbose' argument is deprecated and will be removed in a future release of LightGBM. \"\n"
     ]
    },
    {
     "name": "stdout",
     "output_type": "stream",
     "text": [
      "[20]\tvalid_0's l2: 168.14\tvalid_1's l2: 2458.55\n",
      "[40]\tvalid_0's l2: 165.422\tvalid_1's l2: 2302.41\n",
      "[60]\tvalid_0's l2: 150.914\tvalid_1's l2: 2197.67\n",
      "[80]\tvalid_0's l2: 180.832\tvalid_1's l2: 2103.75\n",
      "[100]\tvalid_0's l2: 173.517\tvalid_1's l2: 2032.5\n"
     ]
    },
    {
     "name": "stderr",
     "output_type": "stream",
     "text": [
      "/opt/conda/lib/python3.7/site-packages/lightgbm/sklearn.py:736: UserWarning: 'verbose' argument is deprecated and will be removed in a future release of LightGBM. Pass 'log_evaluation()' callback via 'callbacks' argument instead.\n",
      "  _log_warning(\"'verbose' argument is deprecated and will be removed in a future release of LightGBM. \"\n"
     ]
    },
    {
     "name": "stdout",
     "output_type": "stream",
     "text": [
      "[20]\tvalid_0's l2: 228.989\tvalid_1's l2: 2471.1\n",
      "[40]\tvalid_0's l2: 200.683\tvalid_1's l2: 2342.77\n",
      "[60]\tvalid_0's l2: 173.068\tvalid_1's l2: 2238.28\n",
      "[80]\tvalid_0's l2: 175.223\tvalid_1's l2: 2156.54\n",
      "[100]\tvalid_0's l2: 183.351\tvalid_1's l2: 2089.2\n"
     ]
    },
    {
     "name": "stderr",
     "output_type": "stream",
     "text": [
      "/opt/conda/lib/python3.7/site-packages/lightgbm/sklearn.py:736: UserWarning: 'verbose' argument is deprecated and will be removed in a future release of LightGBM. Pass 'log_evaluation()' callback via 'callbacks' argument instead.\n",
      "  _log_warning(\"'verbose' argument is deprecated and will be removed in a future release of LightGBM. \"\n"
     ]
    },
    {
     "name": "stdout",
     "output_type": "stream",
     "text": [
      "[20]\tvalid_0's l2: 486.286\tvalid_1's l2: 2548.79\n",
      "[40]\tvalid_0's l2: 521.433\tvalid_1's l2: 2452.98\n",
      "[60]\tvalid_0's l2: 554.616\tvalid_1's l2: 2386.13\n",
      "[80]\tvalid_0's l2: 517.656\tvalid_1's l2: 2337.15\n",
      "[100]\tvalid_0's l2: 479.481\tvalid_1's l2: 2295.96\n"
     ]
    },
    {
     "name": "stderr",
     "output_type": "stream",
     "text": [
      "/opt/conda/lib/python3.7/site-packages/lightgbm/sklearn.py:736: UserWarning: 'verbose' argument is deprecated and will be removed in a future release of LightGBM. Pass 'log_evaluation()' callback via 'callbacks' argument instead.\n",
      "  _log_warning(\"'verbose' argument is deprecated and will be removed in a future release of LightGBM. \"\n"
     ]
    },
    {
     "name": "stdout",
     "output_type": "stream",
     "text": [
      "[20]\tvalid_0's l2: 796.974\tvalid_1's l2: 2473.13\n",
      "[40]\tvalid_0's l2: 747.241\tvalid_1's l2: 2354.53\n",
      "[60]\tvalid_0's l2: 617.403\tvalid_1's l2: 2256.05\n",
      "[80]\tvalid_0's l2: 545.064\tvalid_1's l2: 2181.14\n",
      "[100]\tvalid_0's l2: 490.678\tvalid_1's l2: 2118.5\n"
     ]
    },
    {
     "name": "stderr",
     "output_type": "stream",
     "text": [
      "/opt/conda/lib/python3.7/site-packages/lightgbm/sklearn.py:736: UserWarning: 'verbose' argument is deprecated and will be removed in a future release of LightGBM. Pass 'log_evaluation()' callback via 'callbacks' argument instead.\n",
      "  _log_warning(\"'verbose' argument is deprecated and will be removed in a future release of LightGBM. \"\n"
     ]
    },
    {
     "name": "stdout",
     "output_type": "stream",
     "text": [
      "[20]\tvalid_0's l2: 86.5387\tvalid_1's l2: 2487.03\n",
      "[40]\tvalid_0's l2: 87.2601\tvalid_1's l2: 2340.23\n",
      "[60]\tvalid_0's l2: 125.245\tvalid_1's l2: 2229.71\n",
      "[80]\tvalid_0's l2: 161.138\tvalid_1's l2: 2142.89\n",
      "[100]\tvalid_0's l2: 198.559\tvalid_1's l2: 2065.51\n"
     ]
    },
    {
     "name": "stderr",
     "output_type": "stream",
     "text": [
      "/opt/conda/lib/python3.7/site-packages/lightgbm/sklearn.py:736: UserWarning: 'verbose' argument is deprecated and will be removed in a future release of LightGBM. Pass 'log_evaluation()' callback via 'callbacks' argument instead.\n",
      "  _log_warning(\"'verbose' argument is deprecated and will be removed in a future release of LightGBM. \"\n"
     ]
    },
    {
     "name": "stdout",
     "output_type": "stream",
     "text": [
      "[20]\tvalid_0's l2: 168.14\tvalid_1's l2: 2458.55\n",
      "[40]\tvalid_0's l2: 165.422\tvalid_1's l2: 2302.41\n",
      "[60]\tvalid_0's l2: 150.914\tvalid_1's l2: 2197.67\n",
      "[80]\tvalid_0's l2: 180.832\tvalid_1's l2: 2103.75\n",
      "[100]\tvalid_0's l2: 173.517\tvalid_1's l2: 2032.5\n"
     ]
    },
    {
     "name": "stderr",
     "output_type": "stream",
     "text": [
      "/opt/conda/lib/python3.7/site-packages/lightgbm/sklearn.py:736: UserWarning: 'verbose' argument is deprecated and will be removed in a future release of LightGBM. Pass 'log_evaluation()' callback via 'callbacks' argument instead.\n",
      "  _log_warning(\"'verbose' argument is deprecated and will be removed in a future release of LightGBM. \"\n"
     ]
    },
    {
     "name": "stdout",
     "output_type": "stream",
     "text": [
      "[20]\tvalid_0's l2: 228.989\tvalid_1's l2: 2471.1\n",
      "[40]\tvalid_0's l2: 200.683\tvalid_1's l2: 2342.77\n",
      "[60]\tvalid_0's l2: 173.068\tvalid_1's l2: 2238.28\n",
      "[80]\tvalid_0's l2: 175.223\tvalid_1's l2: 2156.54\n",
      "[100]\tvalid_0's l2: 183.351\tvalid_1's l2: 2089.2\n"
     ]
    },
    {
     "name": "stderr",
     "output_type": "stream",
     "text": [
      "/opt/conda/lib/python3.7/site-packages/lightgbm/sklearn.py:736: UserWarning: 'verbose' argument is deprecated and will be removed in a future release of LightGBM. Pass 'log_evaluation()' callback via 'callbacks' argument instead.\n",
      "  _log_warning(\"'verbose' argument is deprecated and will be removed in a future release of LightGBM. \"\n"
     ]
    },
    {
     "name": "stdout",
     "output_type": "stream",
     "text": [
      "[20]\tvalid_0's l2: 486.286\tvalid_1's l2: 2548.79\n",
      "[40]\tvalid_0's l2: 521.433\tvalid_1's l2: 2452.98\n",
      "[60]\tvalid_0's l2: 554.616\tvalid_1's l2: 2386.13\n",
      "[80]\tvalid_0's l2: 517.656\tvalid_1's l2: 2337.15\n",
      "[100]\tvalid_0's l2: 479.481\tvalid_1's l2: 2295.96\n"
     ]
    },
    {
     "name": "stderr",
     "output_type": "stream",
     "text": [
      "/opt/conda/lib/python3.7/site-packages/lightgbm/sklearn.py:736: UserWarning: 'verbose' argument is deprecated and will be removed in a future release of LightGBM. Pass 'log_evaluation()' callback via 'callbacks' argument instead.\n",
      "  _log_warning(\"'verbose' argument is deprecated and will be removed in a future release of LightGBM. \"\n"
     ]
    },
    {
     "name": "stdout",
     "output_type": "stream",
     "text": [
      "[20]\tvalid_0's l2: 792.289\tvalid_1's l2: 2474.69\n",
      "[40]\tvalid_0's l2: 692.725\tvalid_1's l2: 2356\n",
      "[60]\tvalid_0's l2: 563.231\tvalid_1's l2: 2269.31\n",
      "[80]\tvalid_0's l2: 517.119\tvalid_1's l2: 2191.61\n",
      "[100]\tvalid_0's l2: 467.777\tvalid_1's l2: 2135.03\n"
     ]
    },
    {
     "name": "stderr",
     "output_type": "stream",
     "text": [
      "/opt/conda/lib/python3.7/site-packages/lightgbm/sklearn.py:736: UserWarning: 'verbose' argument is deprecated and will be removed in a future release of LightGBM. Pass 'log_evaluation()' callback via 'callbacks' argument instead.\n",
      "  _log_warning(\"'verbose' argument is deprecated and will be removed in a future release of LightGBM. \"\n"
     ]
    },
    {
     "name": "stdout",
     "output_type": "stream",
     "text": [
      "[20]\tvalid_0's l2: 109.548\tvalid_1's l2: 2489.68\n",
      "[40]\tvalid_0's l2: 96.3949\tvalid_1's l2: 2345.22\n",
      "[60]\tvalid_0's l2: 155.088\tvalid_1's l2: 2241.86\n",
      "[80]\tvalid_0's l2: 181.855\tvalid_1's l2: 2150.13\n",
      "[100]\tvalid_0's l2: 197.18\tvalid_1's l2: 2070.86\n"
     ]
    },
    {
     "name": "stderr",
     "output_type": "stream",
     "text": [
      "/opt/conda/lib/python3.7/site-packages/lightgbm/sklearn.py:736: UserWarning: 'verbose' argument is deprecated and will be removed in a future release of LightGBM. Pass 'log_evaluation()' callback via 'callbacks' argument instead.\n",
      "  _log_warning(\"'verbose' argument is deprecated and will be removed in a future release of LightGBM. \"\n"
     ]
    },
    {
     "name": "stdout",
     "output_type": "stream",
     "text": [
      "[20]\tvalid_0's l2: 169.628\tvalid_1's l2: 2460.59\n",
      "[40]\tvalid_0's l2: 180.039\tvalid_1's l2: 2300.18\n",
      "[60]\tvalid_0's l2: 132.464\tvalid_1's l2: 2199.02\n",
      "[80]\tvalid_0's l2: 157.725\tvalid_1's l2: 2104.37\n",
      "[100]\tvalid_0's l2: 184.241\tvalid_1's l2: 2034.91\n"
     ]
    },
    {
     "name": "stderr",
     "output_type": "stream",
     "text": [
      "/opt/conda/lib/python3.7/site-packages/lightgbm/sklearn.py:736: UserWarning: 'verbose' argument is deprecated and will be removed in a future release of LightGBM. Pass 'log_evaluation()' callback via 'callbacks' argument instead.\n",
      "  _log_warning(\"'verbose' argument is deprecated and will be removed in a future release of LightGBM. \"\n"
     ]
    },
    {
     "name": "stdout",
     "output_type": "stream",
     "text": [
      "[20]\tvalid_0's l2: 228.688\tvalid_1's l2: 2472.34\n",
      "[40]\tvalid_0's l2: 204.901\tvalid_1's l2: 2344.82\n",
      "[60]\tvalid_0's l2: 209.936\tvalid_1's l2: 2241.31\n",
      "[80]\tvalid_0's l2: 167.635\tvalid_1's l2: 2158.54\n",
      "[100]\tvalid_0's l2: 175.783\tvalid_1's l2: 2090.22\n"
     ]
    },
    {
     "name": "stderr",
     "output_type": "stream",
     "text": [
      "/opt/conda/lib/python3.7/site-packages/lightgbm/sklearn.py:736: UserWarning: 'verbose' argument is deprecated and will be removed in a future release of LightGBM. Pass 'log_evaluation()' callback via 'callbacks' argument instead.\n",
      "  _log_warning(\"'verbose' argument is deprecated and will be removed in a future release of LightGBM. \"\n"
     ]
    },
    {
     "name": "stdout",
     "output_type": "stream",
     "text": [
      "[20]\tvalid_0's l2: 486.28\tvalid_1's l2: 2549.8\n",
      "[40]\tvalid_0's l2: 524.837\tvalid_1's l2: 2453.35\n",
      "[60]\tvalid_0's l2: 512.638\tvalid_1's l2: 2396.17\n",
      "[80]\tvalid_0's l2: 441.461\tvalid_1's l2: 2344.13\n",
      "[100]\tvalid_0's l2: 374.845\tvalid_1's l2: 2295.27\n"
     ]
    },
    {
     "name": "stderr",
     "output_type": "stream",
     "text": [
      "/opt/conda/lib/python3.7/site-packages/lightgbm/sklearn.py:736: UserWarning: 'verbose' argument is deprecated and will be removed in a future release of LightGBM. Pass 'log_evaluation()' callback via 'callbacks' argument instead.\n",
      "  _log_warning(\"'verbose' argument is deprecated and will be removed in a future release of LightGBM. \"\n"
     ]
    },
    {
     "name": "stdout",
     "output_type": "stream",
     "text": [
      "[20]\tvalid_0's l2: 792.289\tvalid_1's l2: 2474.69\n",
      "[40]\tvalid_0's l2: 692.725\tvalid_1's l2: 2356\n",
      "[60]\tvalid_0's l2: 563.231\tvalid_1's l2: 2269.31\n",
      "[80]\tvalid_0's l2: 517.119\tvalid_1's l2: 2191.61\n",
      "[100]\tvalid_0's l2: 467.777\tvalid_1's l2: 2135.03\n"
     ]
    },
    {
     "name": "stderr",
     "output_type": "stream",
     "text": [
      "/opt/conda/lib/python3.7/site-packages/lightgbm/sklearn.py:736: UserWarning: 'verbose' argument is deprecated and will be removed in a future release of LightGBM. Pass 'log_evaluation()' callback via 'callbacks' argument instead.\n",
      "  _log_warning(\"'verbose' argument is deprecated and will be removed in a future release of LightGBM. \"\n"
     ]
    },
    {
     "name": "stdout",
     "output_type": "stream",
     "text": [
      "[20]\tvalid_0's l2: 109.548\tvalid_1's l2: 2489.68\n",
      "[40]\tvalid_0's l2: 96.3949\tvalid_1's l2: 2345.22\n",
      "[60]\tvalid_0's l2: 155.088\tvalid_1's l2: 2241.86\n",
      "[80]\tvalid_0's l2: 181.855\tvalid_1's l2: 2150.13\n",
      "[100]\tvalid_0's l2: 197.18\tvalid_1's l2: 2070.86\n"
     ]
    },
    {
     "name": "stderr",
     "output_type": "stream",
     "text": [
      "/opt/conda/lib/python3.7/site-packages/lightgbm/sklearn.py:736: UserWarning: 'verbose' argument is deprecated and will be removed in a future release of LightGBM. Pass 'log_evaluation()' callback via 'callbacks' argument instead.\n",
      "  _log_warning(\"'verbose' argument is deprecated and will be removed in a future release of LightGBM. \"\n"
     ]
    },
    {
     "name": "stdout",
     "output_type": "stream",
     "text": [
      "[20]\tvalid_0's l2: 169.628\tvalid_1's l2: 2460.59\n",
      "[40]\tvalid_0's l2: 180.039\tvalid_1's l2: 2300.18\n",
      "[60]\tvalid_0's l2: 132.464\tvalid_1's l2: 2199.02\n",
      "[80]\tvalid_0's l2: 157.725\tvalid_1's l2: 2104.37\n",
      "[100]\tvalid_0's l2: 184.241\tvalid_1's l2: 2034.91\n"
     ]
    },
    {
     "name": "stderr",
     "output_type": "stream",
     "text": [
      "/opt/conda/lib/python3.7/site-packages/lightgbm/sklearn.py:736: UserWarning: 'verbose' argument is deprecated and will be removed in a future release of LightGBM. Pass 'log_evaluation()' callback via 'callbacks' argument instead.\n",
      "  _log_warning(\"'verbose' argument is deprecated and will be removed in a future release of LightGBM. \"\n"
     ]
    },
    {
     "name": "stdout",
     "output_type": "stream",
     "text": [
      "[20]\tvalid_0's l2: 228.688\tvalid_1's l2: 2472.34\n",
      "[40]\tvalid_0's l2: 204.901\tvalid_1's l2: 2344.82\n",
      "[60]\tvalid_0's l2: 209.936\tvalid_1's l2: 2241.31\n",
      "[80]\tvalid_0's l2: 167.635\tvalid_1's l2: 2158.54\n",
      "[100]\tvalid_0's l2: 175.783\tvalid_1's l2: 2090.22\n"
     ]
    },
    {
     "name": "stderr",
     "output_type": "stream",
     "text": [
      "/opt/conda/lib/python3.7/site-packages/lightgbm/sklearn.py:736: UserWarning: 'verbose' argument is deprecated and will be removed in a future release of LightGBM. Pass 'log_evaluation()' callback via 'callbacks' argument instead.\n",
      "  _log_warning(\"'verbose' argument is deprecated and will be removed in a future release of LightGBM. \"\n"
     ]
    },
    {
     "name": "stdout",
     "output_type": "stream",
     "text": [
      "[20]\tvalid_0's l2: 486.28\tvalid_1's l2: 2549.8\n",
      "[40]\tvalid_0's l2: 524.837\tvalid_1's l2: 2453.35\n",
      "[60]\tvalid_0's l2: 512.638\tvalid_1's l2: 2396.17\n",
      "[80]\tvalid_0's l2: 441.461\tvalid_1's l2: 2344.13\n",
      "[100]\tvalid_0's l2: 374.845\tvalid_1's l2: 2295.27\n"
     ]
    },
    {
     "name": "stderr",
     "output_type": "stream",
     "text": [
      "/opt/conda/lib/python3.7/site-packages/lightgbm/sklearn.py:736: UserWarning: 'verbose' argument is deprecated and will be removed in a future release of LightGBM. Pass 'log_evaluation()' callback via 'callbacks' argument instead.\n",
      "  _log_warning(\"'verbose' argument is deprecated and will be removed in a future release of LightGBM. \"\n"
     ]
    },
    {
     "name": "stdout",
     "output_type": "stream",
     "text": [
      "[20]\tvalid_0's l2: 338.907\tvalid_1's l2: 2612.44\n",
      "[40]\tvalid_0's l2: 476.593\tvalid_1's l2: 2556.33\n",
      "[60]\tvalid_0's l2: 466.951\tvalid_1's l2: 2509.75\n",
      "[80]\tvalid_0's l2: 421.702\tvalid_1's l2: 2468.96\n",
      "[100]\tvalid_0's l2: 401.875\tvalid_1's l2: 2428.21\n"
     ]
    },
    {
     "name": "stderr",
     "output_type": "stream",
     "text": [
      "/opt/conda/lib/python3.7/site-packages/lightgbm/sklearn.py:736: UserWarning: 'verbose' argument is deprecated and will be removed in a future release of LightGBM. Pass 'log_evaluation()' callback via 'callbacks' argument instead.\n",
      "  _log_warning(\"'verbose' argument is deprecated and will be removed in a future release of LightGBM. \"\n"
     ]
    },
    {
     "name": "stdout",
     "output_type": "stream",
     "text": [
      "[20]\tvalid_0's l2: 571.552\tvalid_1's l2: 2580.27\n",
      "[40]\tvalid_0's l2: 628.186\tvalid_1's l2: 2496.12\n",
      "[60]\tvalid_0's l2: 581.526\tvalid_1's l2: 2440.14\n",
      "[80]\tvalid_0's l2: 541.341\tvalid_1's l2: 2394.88\n",
      "[100]\tvalid_0's l2: 498.481\tvalid_1's l2: 2355.53\n"
     ]
    },
    {
     "name": "stderr",
     "output_type": "stream",
     "text": [
      "/opt/conda/lib/python3.7/site-packages/lightgbm/sklearn.py:736: UserWarning: 'verbose' argument is deprecated and will be removed in a future release of LightGBM. Pass 'log_evaluation()' callback via 'callbacks' argument instead.\n",
      "  _log_warning(\"'verbose' argument is deprecated and will be removed in a future release of LightGBM. \"\n"
     ]
    },
    {
     "name": "stdout",
     "output_type": "stream",
     "text": [
      "[20]\tvalid_0's l2: 460.744\tvalid_1's l2: 2585.57\n",
      "[40]\tvalid_0's l2: 662.71\tvalid_1's l2: 2496.83\n",
      "[60]\tvalid_0's l2: 631.289\tvalid_1's l2: 2448.07\n",
      "[80]\tvalid_0's l2: 613.57\tvalid_1's l2: 2400.56\n",
      "[100]\tvalid_0's l2: 509.049\tvalid_1's l2: 2357.38\n"
     ]
    },
    {
     "name": "stderr",
     "output_type": "stream",
     "text": [
      "/opt/conda/lib/python3.7/site-packages/lightgbm/sklearn.py:736: UserWarning: 'verbose' argument is deprecated and will be removed in a future release of LightGBM. Pass 'log_evaluation()' callback via 'callbacks' argument instead.\n",
      "  _log_warning(\"'verbose' argument is deprecated and will be removed in a future release of LightGBM. \"\n"
     ]
    },
    {
     "name": "stdout",
     "output_type": "stream",
     "text": [
      "[20]\tvalid_0's l2: 418.49\tvalid_1's l2: 2601.13\n",
      "[40]\tvalid_0's l2: 557.293\tvalid_1's l2: 2519.22\n",
      "[60]\tvalid_0's l2: 524.764\tvalid_1's l2: 2461.37\n",
      "[80]\tvalid_0's l2: 497.003\tvalid_1's l2: 2416.77\n",
      "[100]\tvalid_0's l2: 452.681\tvalid_1's l2: 2380.21\n"
     ]
    },
    {
     "name": "stderr",
     "output_type": "stream",
     "text": [
      "/opt/conda/lib/python3.7/site-packages/lightgbm/sklearn.py:736: UserWarning: 'verbose' argument is deprecated and will be removed in a future release of LightGBM. Pass 'log_evaluation()' callback via 'callbacks' argument instead.\n",
      "  _log_warning(\"'verbose' argument is deprecated and will be removed in a future release of LightGBM. \"\n"
     ]
    },
    {
     "name": "stdout",
     "output_type": "stream",
     "text": [
      "[20]\tvalid_0's l2: 279.19\tvalid_1's l2: 2639.62\n",
      "[40]\tvalid_0's l2: 317.592\tvalid_1's l2: 2595.89\n",
      "[60]\tvalid_0's l2: 275.225\tvalid_1's l2: 2558.36\n",
      "[80]\tvalid_0's l2: 265.635\tvalid_1's l2: 2531.5\n",
      "[100]\tvalid_0's l2: 253.012\tvalid_1's l2: 2508.88\n"
     ]
    },
    {
     "name": "stderr",
     "output_type": "stream",
     "text": [
      "/opt/conda/lib/python3.7/site-packages/lightgbm/sklearn.py:736: UserWarning: 'verbose' argument is deprecated and will be removed in a future release of LightGBM. Pass 'log_evaluation()' callback via 'callbacks' argument instead.\n",
      "  _log_warning(\"'verbose' argument is deprecated and will be removed in a future release of LightGBM. \"\n"
     ]
    },
    {
     "name": "stdout",
     "output_type": "stream",
     "text": [
      "[20]\tvalid_0's l2: 338.907\tvalid_1's l2: 2612.44\n",
      "[40]\tvalid_0's l2: 476.593\tvalid_1's l2: 2556.33\n",
      "[60]\tvalid_0's l2: 466.951\tvalid_1's l2: 2509.75\n",
      "[80]\tvalid_0's l2: 421.702\tvalid_1's l2: 2468.96\n",
      "[100]\tvalid_0's l2: 401.875\tvalid_1's l2: 2428.21\n"
     ]
    },
    {
     "name": "stderr",
     "output_type": "stream",
     "text": [
      "/opt/conda/lib/python3.7/site-packages/lightgbm/sklearn.py:736: UserWarning: 'verbose' argument is deprecated and will be removed in a future release of LightGBM. Pass 'log_evaluation()' callback via 'callbacks' argument instead.\n",
      "  _log_warning(\"'verbose' argument is deprecated and will be removed in a future release of LightGBM. \"\n"
     ]
    },
    {
     "name": "stdout",
     "output_type": "stream",
     "text": [
      "[20]\tvalid_0's l2: 571.552\tvalid_1's l2: 2580.27\n",
      "[40]\tvalid_0's l2: 628.186\tvalid_1's l2: 2496.12\n",
      "[60]\tvalid_0's l2: 581.526\tvalid_1's l2: 2440.14\n",
      "[80]\tvalid_0's l2: 541.341\tvalid_1's l2: 2394.88\n",
      "[100]\tvalid_0's l2: 498.481\tvalid_1's l2: 2355.53\n"
     ]
    },
    {
     "name": "stderr",
     "output_type": "stream",
     "text": [
      "/opt/conda/lib/python3.7/site-packages/lightgbm/sklearn.py:736: UserWarning: 'verbose' argument is deprecated and will be removed in a future release of LightGBM. Pass 'log_evaluation()' callback via 'callbacks' argument instead.\n",
      "  _log_warning(\"'verbose' argument is deprecated and will be removed in a future release of LightGBM. \"\n"
     ]
    },
    {
     "name": "stdout",
     "output_type": "stream",
     "text": [
      "[20]\tvalid_0's l2: 460.744\tvalid_1's l2: 2585.57\n",
      "[40]\tvalid_0's l2: 662.71\tvalid_1's l2: 2496.83\n",
      "[60]\tvalid_0's l2: 631.289\tvalid_1's l2: 2448.07\n",
      "[80]\tvalid_0's l2: 613.57\tvalid_1's l2: 2400.56\n",
      "[100]\tvalid_0's l2: 509.049\tvalid_1's l2: 2357.38\n"
     ]
    },
    {
     "name": "stderr",
     "output_type": "stream",
     "text": [
      "/opt/conda/lib/python3.7/site-packages/lightgbm/sklearn.py:736: UserWarning: 'verbose' argument is deprecated and will be removed in a future release of LightGBM. Pass 'log_evaluation()' callback via 'callbacks' argument instead.\n",
      "  _log_warning(\"'verbose' argument is deprecated and will be removed in a future release of LightGBM. \"\n"
     ]
    },
    {
     "name": "stdout",
     "output_type": "stream",
     "text": [
      "[20]\tvalid_0's l2: 418.49\tvalid_1's l2: 2601.13\n",
      "[40]\tvalid_0's l2: 557.293\tvalid_1's l2: 2519.22\n",
      "[60]\tvalid_0's l2: 524.764\tvalid_1's l2: 2461.37\n",
      "[80]\tvalid_0's l2: 497.003\tvalid_1's l2: 2416.77\n",
      "[100]\tvalid_0's l2: 452.681\tvalid_1's l2: 2380.21\n"
     ]
    },
    {
     "name": "stderr",
     "output_type": "stream",
     "text": [
      "/opt/conda/lib/python3.7/site-packages/lightgbm/sklearn.py:736: UserWarning: 'verbose' argument is deprecated and will be removed in a future release of LightGBM. Pass 'log_evaluation()' callback via 'callbacks' argument instead.\n",
      "  _log_warning(\"'verbose' argument is deprecated and will be removed in a future release of LightGBM. \"\n"
     ]
    },
    {
     "name": "stdout",
     "output_type": "stream",
     "text": [
      "[20]\tvalid_0's l2: 279.19\tvalid_1's l2: 2639.62\n",
      "[40]\tvalid_0's l2: 317.592\tvalid_1's l2: 2595.89\n",
      "[60]\tvalid_0's l2: 275.225\tvalid_1's l2: 2558.36\n",
      "[80]\tvalid_0's l2: 265.635\tvalid_1's l2: 2531.5\n",
      "[100]\tvalid_0's l2: 253.012\tvalid_1's l2: 2508.88\n"
     ]
    },
    {
     "name": "stderr",
     "output_type": "stream",
     "text": [
      "/opt/conda/lib/python3.7/site-packages/lightgbm/sklearn.py:736: UserWarning: 'verbose' argument is deprecated and will be removed in a future release of LightGBM. Pass 'log_evaluation()' callback via 'callbacks' argument instead.\n",
      "  _log_warning(\"'verbose' argument is deprecated and will be removed in a future release of LightGBM. \"\n"
     ]
    },
    {
     "name": "stdout",
     "output_type": "stream",
     "text": [
      "[20]\tvalid_0's l2: 338.013\tvalid_1's l2: 2612.82\n",
      "[40]\tvalid_0's l2: 485.387\tvalid_1's l2: 2556.66\n",
      "[60]\tvalid_0's l2: 458.818\tvalid_1's l2: 2507.76\n",
      "[80]\tvalid_0's l2: 375.064\tvalid_1's l2: 2462.94\n",
      "[100]\tvalid_0's l2: 361.903\tvalid_1's l2: 2425.66\n"
     ]
    },
    {
     "name": "stderr",
     "output_type": "stream",
     "text": [
      "/opt/conda/lib/python3.7/site-packages/lightgbm/sklearn.py:736: UserWarning: 'verbose' argument is deprecated and will be removed in a future release of LightGBM. Pass 'log_evaluation()' callback via 'callbacks' argument instead.\n",
      "  _log_warning(\"'verbose' argument is deprecated and will be removed in a future release of LightGBM. \"\n"
     ]
    },
    {
     "name": "stdout",
     "output_type": "stream",
     "text": [
      "[20]\tvalid_0's l2: 569.97\tvalid_1's l2: 2580.59\n",
      "[40]\tvalid_0's l2: 627.213\tvalid_1's l2: 2496.54\n",
      "[60]\tvalid_0's l2: 581.121\tvalid_1's l2: 2440.66\n",
      "[80]\tvalid_0's l2: 541.295\tvalid_1's l2: 2395.48\n",
      "[100]\tvalid_0's l2: 527.247\tvalid_1's l2: 2357.11\n"
     ]
    },
    {
     "name": "stderr",
     "output_type": "stream",
     "text": [
      "/opt/conda/lib/python3.7/site-packages/lightgbm/sklearn.py:736: UserWarning: 'verbose' argument is deprecated and will be removed in a future release of LightGBM. Pass 'log_evaluation()' callback via 'callbacks' argument instead.\n",
      "  _log_warning(\"'verbose' argument is deprecated and will be removed in a future release of LightGBM. \"\n"
     ]
    },
    {
     "name": "stdout",
     "output_type": "stream",
     "text": [
      "[20]\tvalid_0's l2: 459.29\tvalid_1's l2: 2586.06\n",
      "[40]\tvalid_0's l2: 661.484\tvalid_1's l2: 2497.25\n",
      "[60]\tvalid_0's l2: 630.703\tvalid_1's l2: 2448.58\n",
      "[80]\tvalid_0's l2: 613.194\tvalid_1's l2: 2401.14\n",
      "[100]\tvalid_0's l2: 509.271\tvalid_1's l2: 2358.04\n"
     ]
    },
    {
     "name": "stderr",
     "output_type": "stream",
     "text": [
      "/opt/conda/lib/python3.7/site-packages/lightgbm/sklearn.py:736: UserWarning: 'verbose' argument is deprecated and will be removed in a future release of LightGBM. Pass 'log_evaluation()' callback via 'callbacks' argument instead.\n",
      "  _log_warning(\"'verbose' argument is deprecated and will be removed in a future release of LightGBM. \"\n"
     ]
    },
    {
     "name": "stdout",
     "output_type": "stream",
     "text": [
      "[20]\tvalid_0's l2: 417.248\tvalid_1's l2: 2601.58\n",
      "[40]\tvalid_0's l2: 556.229\tvalid_1's l2: 2519.76\n",
      "[60]\tvalid_0's l2: 537.313\tvalid_1's l2: 2462.09\n",
      "[80]\tvalid_0's l2: 487.272\tvalid_1's l2: 2415.9\n",
      "[100]\tvalid_0's l2: 456.109\tvalid_1's l2: 2382.34\n"
     ]
    },
    {
     "name": "stderr",
     "output_type": "stream",
     "text": [
      "/opt/conda/lib/python3.7/site-packages/lightgbm/sklearn.py:736: UserWarning: 'verbose' argument is deprecated and will be removed in a future release of LightGBM. Pass 'log_evaluation()' callback via 'callbacks' argument instead.\n",
      "  _log_warning(\"'verbose' argument is deprecated and will be removed in a future release of LightGBM. \"\n"
     ]
    },
    {
     "name": "stdout",
     "output_type": "stream",
     "text": [
      "[20]\tvalid_0's l2: 278.581\tvalid_1's l2: 2639.88\n",
      "[40]\tvalid_0's l2: 317.261\tvalid_1's l2: 2596.16\n",
      "[60]\tvalid_0's l2: 275.233\tvalid_1's l2: 2558.68\n",
      "[80]\tvalid_0's l2: 251.722\tvalid_1's l2: 2532.26\n",
      "[100]\tvalid_0's l2: 242.995\tvalid_1's l2: 2510.12\n"
     ]
    },
    {
     "name": "stderr",
     "output_type": "stream",
     "text": [
      "/opt/conda/lib/python3.7/site-packages/lightgbm/sklearn.py:736: UserWarning: 'verbose' argument is deprecated and will be removed in a future release of LightGBM. Pass 'log_evaluation()' callback via 'callbacks' argument instead.\n",
      "  _log_warning(\"'verbose' argument is deprecated and will be removed in a future release of LightGBM. \"\n"
     ]
    },
    {
     "name": "stdout",
     "output_type": "stream",
     "text": [
      "[20]\tvalid_0's l2: 338.013\tvalid_1's l2: 2612.82\n",
      "[40]\tvalid_0's l2: 485.387\tvalid_1's l2: 2556.66\n",
      "[60]\tvalid_0's l2: 458.818\tvalid_1's l2: 2507.76\n",
      "[80]\tvalid_0's l2: 375.064\tvalid_1's l2: 2462.94\n",
      "[100]\tvalid_0's l2: 361.903\tvalid_1's l2: 2425.66\n"
     ]
    },
    {
     "name": "stderr",
     "output_type": "stream",
     "text": [
      "/opt/conda/lib/python3.7/site-packages/lightgbm/sklearn.py:736: UserWarning: 'verbose' argument is deprecated and will be removed in a future release of LightGBM. Pass 'log_evaluation()' callback via 'callbacks' argument instead.\n",
      "  _log_warning(\"'verbose' argument is deprecated and will be removed in a future release of LightGBM. \"\n"
     ]
    },
    {
     "name": "stdout",
     "output_type": "stream",
     "text": [
      "[20]\tvalid_0's l2: 569.97\tvalid_1's l2: 2580.59\n",
      "[40]\tvalid_0's l2: 627.213\tvalid_1's l2: 2496.54\n",
      "[60]\tvalid_0's l2: 581.121\tvalid_1's l2: 2440.66\n",
      "[80]\tvalid_0's l2: 541.295\tvalid_1's l2: 2395.48\n",
      "[100]\tvalid_0's l2: 527.247\tvalid_1's l2: 2357.11\n"
     ]
    },
    {
     "name": "stderr",
     "output_type": "stream",
     "text": [
      "/opt/conda/lib/python3.7/site-packages/lightgbm/sklearn.py:736: UserWarning: 'verbose' argument is deprecated and will be removed in a future release of LightGBM. Pass 'log_evaluation()' callback via 'callbacks' argument instead.\n",
      "  _log_warning(\"'verbose' argument is deprecated and will be removed in a future release of LightGBM. \"\n"
     ]
    },
    {
     "name": "stdout",
     "output_type": "stream",
     "text": [
      "[20]\tvalid_0's l2: 459.29\tvalid_1's l2: 2586.06\n",
      "[40]\tvalid_0's l2: 661.484\tvalid_1's l2: 2497.25\n",
      "[60]\tvalid_0's l2: 630.703\tvalid_1's l2: 2448.58\n",
      "[80]\tvalid_0's l2: 613.194\tvalid_1's l2: 2401.14\n",
      "[100]\tvalid_0's l2: 509.271\tvalid_1's l2: 2358.04\n"
     ]
    },
    {
     "name": "stderr",
     "output_type": "stream",
     "text": [
      "/opt/conda/lib/python3.7/site-packages/lightgbm/sklearn.py:736: UserWarning: 'verbose' argument is deprecated and will be removed in a future release of LightGBM. Pass 'log_evaluation()' callback via 'callbacks' argument instead.\n",
      "  _log_warning(\"'verbose' argument is deprecated and will be removed in a future release of LightGBM. \"\n"
     ]
    },
    {
     "name": "stdout",
     "output_type": "stream",
     "text": [
      "[20]\tvalid_0's l2: 417.248\tvalid_1's l2: 2601.58\n",
      "[40]\tvalid_0's l2: 556.229\tvalid_1's l2: 2519.76\n",
      "[60]\tvalid_0's l2: 537.313\tvalid_1's l2: 2462.09\n",
      "[80]\tvalid_0's l2: 487.272\tvalid_1's l2: 2415.9\n",
      "[100]\tvalid_0's l2: 456.109\tvalid_1's l2: 2382.34\n"
     ]
    },
    {
     "name": "stderr",
     "output_type": "stream",
     "text": [
      "/opt/conda/lib/python3.7/site-packages/lightgbm/sklearn.py:736: UserWarning: 'verbose' argument is deprecated and will be removed in a future release of LightGBM. Pass 'log_evaluation()' callback via 'callbacks' argument instead.\n",
      "  _log_warning(\"'verbose' argument is deprecated and will be removed in a future release of LightGBM. \"\n"
     ]
    },
    {
     "name": "stdout",
     "output_type": "stream",
     "text": [
      "[20]\tvalid_0's l2: 278.581\tvalid_1's l2: 2639.88\n",
      "[40]\tvalid_0's l2: 317.261\tvalid_1's l2: 2596.16\n",
      "[60]\tvalid_0's l2: 275.233\tvalid_1's l2: 2558.68\n",
      "[80]\tvalid_0's l2: 251.722\tvalid_1's l2: 2532.26\n",
      "[100]\tvalid_0's l2: 242.995\tvalid_1's l2: 2510.12\n"
     ]
    },
    {
     "name": "stderr",
     "output_type": "stream",
     "text": [
      "/opt/conda/lib/python3.7/site-packages/lightgbm/sklearn.py:736: UserWarning: 'verbose' argument is deprecated and will be removed in a future release of LightGBM. Pass 'log_evaluation()' callback via 'callbacks' argument instead.\n",
      "  _log_warning(\"'verbose' argument is deprecated and will be removed in a future release of LightGBM. \"\n"
     ]
    },
    {
     "name": "stdout",
     "output_type": "stream",
     "text": [
      "[20]\tvalid_0's l2: 338.851\tvalid_1's l2: 2612.48\n",
      "[40]\tvalid_0's l2: 476.521\tvalid_1's l2: 2556.38\n",
      "[60]\tvalid_0's l2: 466.928\tvalid_1's l2: 2509.82\n",
      "[80]\tvalid_0's l2: 421.759\tvalid_1's l2: 2469.05\n",
      "[100]\tvalid_0's l2: 402.002\tvalid_1's l2: 2428.32\n"
     ]
    },
    {
     "name": "stderr",
     "output_type": "stream",
     "text": [
      "/opt/conda/lib/python3.7/site-packages/lightgbm/sklearn.py:736: UserWarning: 'verbose' argument is deprecated and will be removed in a future release of LightGBM. Pass 'log_evaluation()' callback via 'callbacks' argument instead.\n",
      "  _log_warning(\"'verbose' argument is deprecated and will be removed in a future release of LightGBM. \"\n"
     ]
    },
    {
     "name": "stdout",
     "output_type": "stream",
     "text": [
      "[20]\tvalid_0's l2: 571.441\tvalid_1's l2: 2580.3\n",
      "[40]\tvalid_0's l2: 628.096\tvalid_1's l2: 2496.18\n",
      "[60]\tvalid_0's l2: 581.483\tvalid_1's l2: 2440.22\n",
      "[80]\tvalid_0's l2: 541.334\tvalid_1's l2: 2394.99\n",
      "[100]\tvalid_0's l2: 498.489\tvalid_1's l2: 2355.66\n"
     ]
    },
    {
     "name": "stderr",
     "output_type": "stream",
     "text": [
      "/opt/conda/lib/python3.7/site-packages/lightgbm/sklearn.py:736: UserWarning: 'verbose' argument is deprecated and will be removed in a future release of LightGBM. Pass 'log_evaluation()' callback via 'callbacks' argument instead.\n",
      "  _log_warning(\"'verbose' argument is deprecated and will be removed in a future release of LightGBM. \"\n"
     ]
    },
    {
     "name": "stdout",
     "output_type": "stream",
     "text": [
      "[20]\tvalid_0's l2: 460.68\tvalid_1's l2: 2585.62\n",
      "[40]\tvalid_0's l2: 662.604\tvalid_1's l2: 2496.89\n",
      "[60]\tvalid_0's l2: 631.231\tvalid_1's l2: 2448.16\n",
      "[80]\tvalid_0's l2: 613.578\tvalid_1's l2: 2400.66\n",
      "[100]\tvalid_0's l2: 509.166\tvalid_1's l2: 2357.51\n"
     ]
    },
    {
     "name": "stderr",
     "output_type": "stream",
     "text": [
      "/opt/conda/lib/python3.7/site-packages/lightgbm/sklearn.py:736: UserWarning: 'verbose' argument is deprecated and will be removed in a future release of LightGBM. Pass 'log_evaluation()' callback via 'callbacks' argument instead.\n",
      "  _log_warning(\"'verbose' argument is deprecated and will be removed in a future release of LightGBM. \"\n"
     ]
    },
    {
     "name": "stdout",
     "output_type": "stream",
     "text": [
      "[20]\tvalid_0's l2: 418.371\tvalid_1's l2: 2601.18\n",
      "[40]\tvalid_0's l2: 557.193\tvalid_1's l2: 2519.28\n",
      "[60]\tvalid_0's l2: 524.755\tvalid_1's l2: 2461.45\n",
      "[80]\tvalid_0's l2: 497.037\tvalid_1's l2: 2416.88\n",
      "[100]\tvalid_0's l2: 452.731\tvalid_1's l2: 2380.34\n"
     ]
    },
    {
     "name": "stderr",
     "output_type": "stream",
     "text": [
      "/opt/conda/lib/python3.7/site-packages/lightgbm/sklearn.py:736: UserWarning: 'verbose' argument is deprecated and will be removed in a future release of LightGBM. Pass 'log_evaluation()' callback via 'callbacks' argument instead.\n",
      "  _log_warning(\"'verbose' argument is deprecated and will be removed in a future release of LightGBM. \"\n"
     ]
    },
    {
     "name": "stdout",
     "output_type": "stream",
     "text": [
      "[20]\tvalid_0's l2: 279.118\tvalid_1's l2: 2639.65\n",
      "[40]\tvalid_0's l2: 317.528\tvalid_1's l2: 2595.95\n",
      "[60]\tvalid_0's l2: 275.255\tvalid_1's l2: 2558.45\n",
      "[80]\tvalid_0's l2: 265.68\tvalid_1's l2: 2531.6\n",
      "[100]\tvalid_0's l2: 253.068\tvalid_1's l2: 2509\n"
     ]
    },
    {
     "name": "stderr",
     "output_type": "stream",
     "text": [
      "/opt/conda/lib/python3.7/site-packages/lightgbm/sklearn.py:736: UserWarning: 'verbose' argument is deprecated and will be removed in a future release of LightGBM. Pass 'log_evaluation()' callback via 'callbacks' argument instead.\n",
      "  _log_warning(\"'verbose' argument is deprecated and will be removed in a future release of LightGBM. \"\n"
     ]
    },
    {
     "name": "stdout",
     "output_type": "stream",
     "text": [
      "[20]\tvalid_0's l2: 338.851\tvalid_1's l2: 2612.48\n",
      "[40]\tvalid_0's l2: 476.521\tvalid_1's l2: 2556.38\n",
      "[60]\tvalid_0's l2: 466.928\tvalid_1's l2: 2509.82\n",
      "[80]\tvalid_0's l2: 421.759\tvalid_1's l2: 2469.05\n",
      "[100]\tvalid_0's l2: 402.002\tvalid_1's l2: 2428.32\n"
     ]
    },
    {
     "name": "stderr",
     "output_type": "stream",
     "text": [
      "/opt/conda/lib/python3.7/site-packages/lightgbm/sklearn.py:736: UserWarning: 'verbose' argument is deprecated and will be removed in a future release of LightGBM. Pass 'log_evaluation()' callback via 'callbacks' argument instead.\n",
      "  _log_warning(\"'verbose' argument is deprecated and will be removed in a future release of LightGBM. \"\n"
     ]
    },
    {
     "name": "stdout",
     "output_type": "stream",
     "text": [
      "[20]\tvalid_0's l2: 571.441\tvalid_1's l2: 2580.3\n",
      "[40]\tvalid_0's l2: 628.096\tvalid_1's l2: 2496.18\n",
      "[60]\tvalid_0's l2: 581.483\tvalid_1's l2: 2440.22\n",
      "[80]\tvalid_0's l2: 541.334\tvalid_1's l2: 2394.99\n",
      "[100]\tvalid_0's l2: 498.489\tvalid_1's l2: 2355.66\n"
     ]
    },
    {
     "name": "stderr",
     "output_type": "stream",
     "text": [
      "/opt/conda/lib/python3.7/site-packages/lightgbm/sklearn.py:736: UserWarning: 'verbose' argument is deprecated and will be removed in a future release of LightGBM. Pass 'log_evaluation()' callback via 'callbacks' argument instead.\n",
      "  _log_warning(\"'verbose' argument is deprecated and will be removed in a future release of LightGBM. \"\n"
     ]
    },
    {
     "name": "stdout",
     "output_type": "stream",
     "text": [
      "[20]\tvalid_0's l2: 460.68\tvalid_1's l2: 2585.62\n",
      "[40]\tvalid_0's l2: 662.604\tvalid_1's l2: 2496.89\n",
      "[60]\tvalid_0's l2: 631.231\tvalid_1's l2: 2448.16\n",
      "[80]\tvalid_0's l2: 613.578\tvalid_1's l2: 2400.66\n",
      "[100]\tvalid_0's l2: 509.166\tvalid_1's l2: 2357.51\n"
     ]
    },
    {
     "name": "stderr",
     "output_type": "stream",
     "text": [
      "/opt/conda/lib/python3.7/site-packages/lightgbm/sklearn.py:736: UserWarning: 'verbose' argument is deprecated and will be removed in a future release of LightGBM. Pass 'log_evaluation()' callback via 'callbacks' argument instead.\n",
      "  _log_warning(\"'verbose' argument is deprecated and will be removed in a future release of LightGBM. \"\n"
     ]
    },
    {
     "name": "stdout",
     "output_type": "stream",
     "text": [
      "[20]\tvalid_0's l2: 418.371\tvalid_1's l2: 2601.18\n",
      "[40]\tvalid_0's l2: 557.193\tvalid_1's l2: 2519.28\n",
      "[60]\tvalid_0's l2: 524.755\tvalid_1's l2: 2461.45\n",
      "[80]\tvalid_0's l2: 497.037\tvalid_1's l2: 2416.88\n",
      "[100]\tvalid_0's l2: 452.731\tvalid_1's l2: 2380.34\n"
     ]
    },
    {
     "name": "stderr",
     "output_type": "stream",
     "text": [
      "/opt/conda/lib/python3.7/site-packages/lightgbm/sklearn.py:736: UserWarning: 'verbose' argument is deprecated and will be removed in a future release of LightGBM. Pass 'log_evaluation()' callback via 'callbacks' argument instead.\n",
      "  _log_warning(\"'verbose' argument is deprecated and will be removed in a future release of LightGBM. \"\n"
     ]
    },
    {
     "name": "stdout",
     "output_type": "stream",
     "text": [
      "[20]\tvalid_0's l2: 279.118\tvalid_1's l2: 2639.65\n",
      "[40]\tvalid_0's l2: 317.528\tvalid_1's l2: 2595.95\n",
      "[60]\tvalid_0's l2: 275.255\tvalid_1's l2: 2558.45\n",
      "[80]\tvalid_0's l2: 265.68\tvalid_1's l2: 2531.6\n",
      "[100]\tvalid_0's l2: 253.068\tvalid_1's l2: 2509\n"
     ]
    },
    {
     "name": "stderr",
     "output_type": "stream",
     "text": [
      "/opt/conda/lib/python3.7/site-packages/lightgbm/sklearn.py:736: UserWarning: 'verbose' argument is deprecated and will be removed in a future release of LightGBM. Pass 'log_evaluation()' callback via 'callbacks' argument instead.\n",
      "  _log_warning(\"'verbose' argument is deprecated and will be removed in a future release of LightGBM. \"\n"
     ]
    },
    {
     "name": "stdout",
     "output_type": "stream",
     "text": [
      "[20]\tvalid_0's l2: 337.957\tvalid_1's l2: 2612.87\n",
      "[40]\tvalid_0's l2: 485.32\tvalid_1's l2: 2556.71\n",
      "[60]\tvalid_0's l2: 458.824\tvalid_1's l2: 2507.83\n",
      "[80]\tvalid_0's l2: 375.162\tvalid_1's l2: 2463.04\n",
      "[100]\tvalid_0's l2: 362.035\tvalid_1's l2: 2425.77\n"
     ]
    },
    {
     "name": "stderr",
     "output_type": "stream",
     "text": [
      "/opt/conda/lib/python3.7/site-packages/lightgbm/sklearn.py:736: UserWarning: 'verbose' argument is deprecated and will be removed in a future release of LightGBM. Pass 'log_evaluation()' callback via 'callbacks' argument instead.\n",
      "  _log_warning(\"'verbose' argument is deprecated and will be removed in a future release of LightGBM. \"\n"
     ]
    },
    {
     "name": "stdout",
     "output_type": "stream",
     "text": [
      "[20]\tvalid_0's l2: 569.86\tvalid_1's l2: 2580.63\n",
      "[40]\tvalid_0's l2: 627.124\tvalid_1's l2: 2496.61\n",
      "[60]\tvalid_0's l2: 581.079\tvalid_1's l2: 2440.74\n",
      "[80]\tvalid_0's l2: 541.3\tvalid_1's l2: 2395.59\n",
      "[100]\tvalid_0's l2: 527.222\tvalid_1's l2: 2357.24\n"
     ]
    },
    {
     "name": "stderr",
     "output_type": "stream",
     "text": [
      "/opt/conda/lib/python3.7/site-packages/lightgbm/sklearn.py:736: UserWarning: 'verbose' argument is deprecated and will be removed in a future release of LightGBM. Pass 'log_evaluation()' callback via 'callbacks' argument instead.\n",
      "  _log_warning(\"'verbose' argument is deprecated and will be removed in a future release of LightGBM. \"\n"
     ]
    },
    {
     "name": "stdout",
     "output_type": "stream",
     "text": [
      "[20]\tvalid_0's l2: 459.227\tvalid_1's l2: 2586.11\n",
      "[40]\tvalid_0's l2: 661.378\tvalid_1's l2: 2497.31\n",
      "[60]\tvalid_0's l2: 630.645\tvalid_1's l2: 2448.66\n",
      "[80]\tvalid_0's l2: 613.202\tvalid_1's l2: 2401.24\n",
      "[100]\tvalid_0's l2: 509.388\tvalid_1's l2: 2358.16\n"
     ]
    },
    {
     "name": "stderr",
     "output_type": "stream",
     "text": [
      "/opt/conda/lib/python3.7/site-packages/lightgbm/sklearn.py:736: UserWarning: 'verbose' argument is deprecated and will be removed in a future release of LightGBM. Pass 'log_evaluation()' callback via 'callbacks' argument instead.\n",
      "  _log_warning(\"'verbose' argument is deprecated and will be removed in a future release of LightGBM. \"\n"
     ]
    },
    {
     "name": "stdout",
     "output_type": "stream",
     "text": [
      "[20]\tvalid_0's l2: 417.129\tvalid_1's l2: 2601.63\n",
      "[40]\tvalid_0's l2: 558.416\tvalid_1's l2: 2520.39\n",
      "[60]\tvalid_0's l2: 525.488\tvalid_1's l2: 2462.62\n",
      "[80]\tvalid_0's l2: 434.623\tvalid_1's l2: 2419.73\n",
      "[100]\tvalid_0's l2: 399.31\tvalid_1's l2: 2384.65\n"
     ]
    },
    {
     "name": "stderr",
     "output_type": "stream",
     "text": [
      "/opt/conda/lib/python3.7/site-packages/lightgbm/sklearn.py:736: UserWarning: 'verbose' argument is deprecated and will be removed in a future release of LightGBM. Pass 'log_evaluation()' callback via 'callbacks' argument instead.\n",
      "  _log_warning(\"'verbose' argument is deprecated and will be removed in a future release of LightGBM. \"\n"
     ]
    },
    {
     "name": "stdout",
     "output_type": "stream",
     "text": [
      "[20]\tvalid_0's l2: 278.509\tvalid_1's l2: 2639.92\n",
      "[40]\tvalid_0's l2: 317.198\tvalid_1's l2: 2596.22\n",
      "[60]\tvalid_0's l2: 275.263\tvalid_1's l2: 2558.77\n",
      "[80]\tvalid_0's l2: 257.705\tvalid_1's l2: 2530.88\n",
      "[100]\tvalid_0's l2: 242.247\tvalid_1's l2: 2510.51\n"
     ]
    },
    {
     "name": "stderr",
     "output_type": "stream",
     "text": [
      "/opt/conda/lib/python3.7/site-packages/lightgbm/sklearn.py:736: UserWarning: 'verbose' argument is deprecated and will be removed in a future release of LightGBM. Pass 'log_evaluation()' callback via 'callbacks' argument instead.\n",
      "  _log_warning(\"'verbose' argument is deprecated and will be removed in a future release of LightGBM. \"\n"
     ]
    },
    {
     "name": "stdout",
     "output_type": "stream",
     "text": [
      "[20]\tvalid_0's l2: 337.957\tvalid_1's l2: 2612.87\n",
      "[40]\tvalid_0's l2: 485.32\tvalid_1's l2: 2556.71\n",
      "[60]\tvalid_0's l2: 458.824\tvalid_1's l2: 2507.83\n",
      "[80]\tvalid_0's l2: 375.162\tvalid_1's l2: 2463.04\n",
      "[100]\tvalid_0's l2: 362.035\tvalid_1's l2: 2425.77\n"
     ]
    },
    {
     "name": "stderr",
     "output_type": "stream",
     "text": [
      "/opt/conda/lib/python3.7/site-packages/lightgbm/sklearn.py:736: UserWarning: 'verbose' argument is deprecated and will be removed in a future release of LightGBM. Pass 'log_evaluation()' callback via 'callbacks' argument instead.\n",
      "  _log_warning(\"'verbose' argument is deprecated and will be removed in a future release of LightGBM. \"\n"
     ]
    },
    {
     "name": "stdout",
     "output_type": "stream",
     "text": [
      "[20]\tvalid_0's l2: 569.86\tvalid_1's l2: 2580.63\n",
      "[40]\tvalid_0's l2: 627.124\tvalid_1's l2: 2496.61\n",
      "[60]\tvalid_0's l2: 581.079\tvalid_1's l2: 2440.74\n",
      "[80]\tvalid_0's l2: 541.3\tvalid_1's l2: 2395.59\n",
      "[100]\tvalid_0's l2: 527.222\tvalid_1's l2: 2357.24\n"
     ]
    },
    {
     "name": "stderr",
     "output_type": "stream",
     "text": [
      "/opt/conda/lib/python3.7/site-packages/lightgbm/sklearn.py:736: UserWarning: 'verbose' argument is deprecated and will be removed in a future release of LightGBM. Pass 'log_evaluation()' callback via 'callbacks' argument instead.\n",
      "  _log_warning(\"'verbose' argument is deprecated and will be removed in a future release of LightGBM. \"\n"
     ]
    },
    {
     "name": "stdout",
     "output_type": "stream",
     "text": [
      "[20]\tvalid_0's l2: 459.227\tvalid_1's l2: 2586.11\n",
      "[40]\tvalid_0's l2: 661.378\tvalid_1's l2: 2497.31\n",
      "[60]\tvalid_0's l2: 630.645\tvalid_1's l2: 2448.66\n",
      "[80]\tvalid_0's l2: 613.202\tvalid_1's l2: 2401.24\n",
      "[100]\tvalid_0's l2: 509.388\tvalid_1's l2: 2358.16\n"
     ]
    },
    {
     "name": "stderr",
     "output_type": "stream",
     "text": [
      "/opt/conda/lib/python3.7/site-packages/lightgbm/sklearn.py:736: UserWarning: 'verbose' argument is deprecated and will be removed in a future release of LightGBM. Pass 'log_evaluation()' callback via 'callbacks' argument instead.\n",
      "  _log_warning(\"'verbose' argument is deprecated and will be removed in a future release of LightGBM. \"\n"
     ]
    },
    {
     "name": "stdout",
     "output_type": "stream",
     "text": [
      "[20]\tvalid_0's l2: 417.129\tvalid_1's l2: 2601.63\n",
      "[40]\tvalid_0's l2: 558.416\tvalid_1's l2: 2520.39\n",
      "[60]\tvalid_0's l2: 525.488\tvalid_1's l2: 2462.62\n",
      "[80]\tvalid_0's l2: 434.623\tvalid_1's l2: 2419.73\n",
      "[100]\tvalid_0's l2: 399.31\tvalid_1's l2: 2384.65\n"
     ]
    },
    {
     "name": "stderr",
     "output_type": "stream",
     "text": [
      "/opt/conda/lib/python3.7/site-packages/lightgbm/sklearn.py:736: UserWarning: 'verbose' argument is deprecated and will be removed in a future release of LightGBM. Pass 'log_evaluation()' callback via 'callbacks' argument instead.\n",
      "  _log_warning(\"'verbose' argument is deprecated and will be removed in a future release of LightGBM. \"\n"
     ]
    },
    {
     "name": "stdout",
     "output_type": "stream",
     "text": [
      "[20]\tvalid_0's l2: 278.509\tvalid_1's l2: 2639.92\n",
      "[40]\tvalid_0's l2: 317.198\tvalid_1's l2: 2596.22\n",
      "[60]\tvalid_0's l2: 275.263\tvalid_1's l2: 2558.77\n",
      "[80]\tvalid_0's l2: 257.705\tvalid_1's l2: 2530.88\n",
      "[100]\tvalid_0's l2: 242.247\tvalid_1's l2: 2510.51\n"
     ]
    },
    {
     "name": "stderr",
     "output_type": "stream",
     "text": [
      "/opt/conda/lib/python3.7/site-packages/lightgbm/sklearn.py:736: UserWarning: 'verbose' argument is deprecated and will be removed in a future release of LightGBM. Pass 'log_evaluation()' callback via 'callbacks' argument instead.\n",
      "  _log_warning(\"'verbose' argument is deprecated and will be removed in a future release of LightGBM. \"\n"
     ]
    },
    {
     "name": "stdout",
     "output_type": "stream",
     "text": [
      "[20]\tvalid_0's l2: 338.907\tvalid_1's l2: 2612.44\n",
      "[40]\tvalid_0's l2: 476.593\tvalid_1's l2: 2556.33\n",
      "[60]\tvalid_0's l2: 466.951\tvalid_1's l2: 2509.75\n",
      "[80]\tvalid_0's l2: 421.702\tvalid_1's l2: 2468.96\n",
      "[100]\tvalid_0's l2: 401.875\tvalid_1's l2: 2428.21\n"
     ]
    },
    {
     "name": "stderr",
     "output_type": "stream",
     "text": [
      "/opt/conda/lib/python3.7/site-packages/lightgbm/sklearn.py:736: UserWarning: 'verbose' argument is deprecated and will be removed in a future release of LightGBM. Pass 'log_evaluation()' callback via 'callbacks' argument instead.\n",
      "  _log_warning(\"'verbose' argument is deprecated and will be removed in a future release of LightGBM. \"\n"
     ]
    },
    {
     "name": "stdout",
     "output_type": "stream",
     "text": [
      "[20]\tvalid_0's l2: 571.552\tvalid_1's l2: 2580.27\n",
      "[40]\tvalid_0's l2: 628.186\tvalid_1's l2: 2496.12\n",
      "[60]\tvalid_0's l2: 581.526\tvalid_1's l2: 2440.14\n",
      "[80]\tvalid_0's l2: 541.341\tvalid_1's l2: 2394.88\n",
      "[100]\tvalid_0's l2: 498.481\tvalid_1's l2: 2355.53\n"
     ]
    },
    {
     "name": "stderr",
     "output_type": "stream",
     "text": [
      "/opt/conda/lib/python3.7/site-packages/lightgbm/sklearn.py:736: UserWarning: 'verbose' argument is deprecated and will be removed in a future release of LightGBM. Pass 'log_evaluation()' callback via 'callbacks' argument instead.\n",
      "  _log_warning(\"'verbose' argument is deprecated and will be removed in a future release of LightGBM. \"\n"
     ]
    },
    {
     "name": "stdout",
     "output_type": "stream",
     "text": [
      "[20]\tvalid_0's l2: 460.744\tvalid_1's l2: 2585.57\n",
      "[40]\tvalid_0's l2: 662.71\tvalid_1's l2: 2496.83\n",
      "[60]\tvalid_0's l2: 631.289\tvalid_1's l2: 2448.07\n",
      "[80]\tvalid_0's l2: 613.57\tvalid_1's l2: 2400.56\n",
      "[100]\tvalid_0's l2: 509.049\tvalid_1's l2: 2357.38\n"
     ]
    },
    {
     "name": "stderr",
     "output_type": "stream",
     "text": [
      "/opt/conda/lib/python3.7/site-packages/lightgbm/sklearn.py:736: UserWarning: 'verbose' argument is deprecated and will be removed in a future release of LightGBM. Pass 'log_evaluation()' callback via 'callbacks' argument instead.\n",
      "  _log_warning(\"'verbose' argument is deprecated and will be removed in a future release of LightGBM. \"\n"
     ]
    },
    {
     "name": "stdout",
     "output_type": "stream",
     "text": [
      "[20]\tvalid_0's l2: 418.49\tvalid_1's l2: 2601.13\n",
      "[40]\tvalid_0's l2: 557.293\tvalid_1's l2: 2519.22\n",
      "[60]\tvalid_0's l2: 524.764\tvalid_1's l2: 2461.37\n",
      "[80]\tvalid_0's l2: 497.003\tvalid_1's l2: 2416.77\n",
      "[100]\tvalid_0's l2: 452.681\tvalid_1's l2: 2380.21\n"
     ]
    },
    {
     "name": "stderr",
     "output_type": "stream",
     "text": [
      "/opt/conda/lib/python3.7/site-packages/lightgbm/sklearn.py:736: UserWarning: 'verbose' argument is deprecated and will be removed in a future release of LightGBM. Pass 'log_evaluation()' callback via 'callbacks' argument instead.\n",
      "  _log_warning(\"'verbose' argument is deprecated and will be removed in a future release of LightGBM. \"\n"
     ]
    },
    {
     "name": "stdout",
     "output_type": "stream",
     "text": [
      "[20]\tvalid_0's l2: 279.19\tvalid_1's l2: 2639.62\n",
      "[40]\tvalid_0's l2: 317.592\tvalid_1's l2: 2595.89\n",
      "[60]\tvalid_0's l2: 275.225\tvalid_1's l2: 2558.36\n",
      "[80]\tvalid_0's l2: 265.635\tvalid_1's l2: 2531.5\n",
      "[100]\tvalid_0's l2: 253.012\tvalid_1's l2: 2508.88\n"
     ]
    },
    {
     "name": "stderr",
     "output_type": "stream",
     "text": [
      "/opt/conda/lib/python3.7/site-packages/lightgbm/sklearn.py:736: UserWarning: 'verbose' argument is deprecated and will be removed in a future release of LightGBM. Pass 'log_evaluation()' callback via 'callbacks' argument instead.\n",
      "  _log_warning(\"'verbose' argument is deprecated and will be removed in a future release of LightGBM. \"\n"
     ]
    },
    {
     "name": "stdout",
     "output_type": "stream",
     "text": [
      "[20]\tvalid_0's l2: 338.907\tvalid_1's l2: 2612.44\n",
      "[40]\tvalid_0's l2: 476.593\tvalid_1's l2: 2556.33\n",
      "[60]\tvalid_0's l2: 466.951\tvalid_1's l2: 2509.75\n",
      "[80]\tvalid_0's l2: 421.702\tvalid_1's l2: 2468.96\n",
      "[100]\tvalid_0's l2: 401.875\tvalid_1's l2: 2428.21\n"
     ]
    },
    {
     "name": "stderr",
     "output_type": "stream",
     "text": [
      "/opt/conda/lib/python3.7/site-packages/lightgbm/sklearn.py:736: UserWarning: 'verbose' argument is deprecated and will be removed in a future release of LightGBM. Pass 'log_evaluation()' callback via 'callbacks' argument instead.\n",
      "  _log_warning(\"'verbose' argument is deprecated and will be removed in a future release of LightGBM. \"\n"
     ]
    },
    {
     "name": "stdout",
     "output_type": "stream",
     "text": [
      "[20]\tvalid_0's l2: 571.552\tvalid_1's l2: 2580.27\n",
      "[40]\tvalid_0's l2: 628.186\tvalid_1's l2: 2496.12\n",
      "[60]\tvalid_0's l2: 581.526\tvalid_1's l2: 2440.14\n",
      "[80]\tvalid_0's l2: 541.341\tvalid_1's l2: 2394.88\n",
      "[100]\tvalid_0's l2: 498.481\tvalid_1's l2: 2355.53\n"
     ]
    },
    {
     "name": "stderr",
     "output_type": "stream",
     "text": [
      "/opt/conda/lib/python3.7/site-packages/lightgbm/sklearn.py:736: UserWarning: 'verbose' argument is deprecated and will be removed in a future release of LightGBM. Pass 'log_evaluation()' callback via 'callbacks' argument instead.\n",
      "  _log_warning(\"'verbose' argument is deprecated and will be removed in a future release of LightGBM. \"\n"
     ]
    },
    {
     "name": "stdout",
     "output_type": "stream",
     "text": [
      "[20]\tvalid_0's l2: 460.744\tvalid_1's l2: 2585.57\n",
      "[40]\tvalid_0's l2: 662.71\tvalid_1's l2: 2496.83\n",
      "[60]\tvalid_0's l2: 631.289\tvalid_1's l2: 2448.07\n",
      "[80]\tvalid_0's l2: 613.57\tvalid_1's l2: 2400.56\n",
      "[100]\tvalid_0's l2: 509.049\tvalid_1's l2: 2357.38\n"
     ]
    },
    {
     "name": "stderr",
     "output_type": "stream",
     "text": [
      "/opt/conda/lib/python3.7/site-packages/lightgbm/sklearn.py:736: UserWarning: 'verbose' argument is deprecated and will be removed in a future release of LightGBM. Pass 'log_evaluation()' callback via 'callbacks' argument instead.\n",
      "  _log_warning(\"'verbose' argument is deprecated and will be removed in a future release of LightGBM. \"\n"
     ]
    },
    {
     "name": "stdout",
     "output_type": "stream",
     "text": [
      "[20]\tvalid_0's l2: 418.49\tvalid_1's l2: 2601.13\n",
      "[40]\tvalid_0's l2: 557.293\tvalid_1's l2: 2519.22\n",
      "[60]\tvalid_0's l2: 524.764\tvalid_1's l2: 2461.37\n",
      "[80]\tvalid_0's l2: 497.003\tvalid_1's l2: 2416.77\n",
      "[100]\tvalid_0's l2: 452.681\tvalid_1's l2: 2380.21\n"
     ]
    },
    {
     "name": "stderr",
     "output_type": "stream",
     "text": [
      "/opt/conda/lib/python3.7/site-packages/lightgbm/sklearn.py:736: UserWarning: 'verbose' argument is deprecated and will be removed in a future release of LightGBM. Pass 'log_evaluation()' callback via 'callbacks' argument instead.\n",
      "  _log_warning(\"'verbose' argument is deprecated and will be removed in a future release of LightGBM. \"\n"
     ]
    },
    {
     "name": "stdout",
     "output_type": "stream",
     "text": [
      "[20]\tvalid_0's l2: 279.19\tvalid_1's l2: 2639.62\n",
      "[40]\tvalid_0's l2: 317.592\tvalid_1's l2: 2595.89\n",
      "[60]\tvalid_0's l2: 275.225\tvalid_1's l2: 2558.36\n",
      "[80]\tvalid_0's l2: 265.635\tvalid_1's l2: 2531.5\n",
      "[100]\tvalid_0's l2: 253.012\tvalid_1's l2: 2508.88\n"
     ]
    },
    {
     "name": "stderr",
     "output_type": "stream",
     "text": [
      "/opt/conda/lib/python3.7/site-packages/lightgbm/sklearn.py:736: UserWarning: 'verbose' argument is deprecated and will be removed in a future release of LightGBM. Pass 'log_evaluation()' callback via 'callbacks' argument instead.\n",
      "  _log_warning(\"'verbose' argument is deprecated and will be removed in a future release of LightGBM. \"\n"
     ]
    },
    {
     "name": "stdout",
     "output_type": "stream",
     "text": [
      "[20]\tvalid_0's l2: 338.013\tvalid_1's l2: 2612.82\n",
      "[40]\tvalid_0's l2: 485.387\tvalid_1's l2: 2556.66\n",
      "[60]\tvalid_0's l2: 458.818\tvalid_1's l2: 2507.76\n",
      "[80]\tvalid_0's l2: 375.064\tvalid_1's l2: 2462.94\n",
      "[100]\tvalid_0's l2: 361.903\tvalid_1's l2: 2425.66\n"
     ]
    },
    {
     "name": "stderr",
     "output_type": "stream",
     "text": [
      "/opt/conda/lib/python3.7/site-packages/lightgbm/sklearn.py:736: UserWarning: 'verbose' argument is deprecated and will be removed in a future release of LightGBM. Pass 'log_evaluation()' callback via 'callbacks' argument instead.\n",
      "  _log_warning(\"'verbose' argument is deprecated and will be removed in a future release of LightGBM. \"\n"
     ]
    },
    {
     "name": "stdout",
     "output_type": "stream",
     "text": [
      "[20]\tvalid_0's l2: 569.97\tvalid_1's l2: 2580.59\n",
      "[40]\tvalid_0's l2: 627.213\tvalid_1's l2: 2496.54\n",
      "[60]\tvalid_0's l2: 581.121\tvalid_1's l2: 2440.66\n",
      "[80]\tvalid_0's l2: 541.295\tvalid_1's l2: 2395.48\n",
      "[100]\tvalid_0's l2: 527.247\tvalid_1's l2: 2357.11\n"
     ]
    },
    {
     "name": "stderr",
     "output_type": "stream",
     "text": [
      "/opt/conda/lib/python3.7/site-packages/lightgbm/sklearn.py:736: UserWarning: 'verbose' argument is deprecated and will be removed in a future release of LightGBM. Pass 'log_evaluation()' callback via 'callbacks' argument instead.\n",
      "  _log_warning(\"'verbose' argument is deprecated and will be removed in a future release of LightGBM. \"\n"
     ]
    },
    {
     "name": "stdout",
     "output_type": "stream",
     "text": [
      "[20]\tvalid_0's l2: 459.29\tvalid_1's l2: 2586.06\n",
      "[40]\tvalid_0's l2: 661.484\tvalid_1's l2: 2497.25\n",
      "[60]\tvalid_0's l2: 630.703\tvalid_1's l2: 2448.58\n",
      "[80]\tvalid_0's l2: 613.194\tvalid_1's l2: 2401.14\n",
      "[100]\tvalid_0's l2: 509.271\tvalid_1's l2: 2358.04\n"
     ]
    },
    {
     "name": "stderr",
     "output_type": "stream",
     "text": [
      "/opt/conda/lib/python3.7/site-packages/lightgbm/sklearn.py:736: UserWarning: 'verbose' argument is deprecated and will be removed in a future release of LightGBM. Pass 'log_evaluation()' callback via 'callbacks' argument instead.\n",
      "  _log_warning(\"'verbose' argument is deprecated and will be removed in a future release of LightGBM. \"\n"
     ]
    },
    {
     "name": "stdout",
     "output_type": "stream",
     "text": [
      "[20]\tvalid_0's l2: 417.248\tvalid_1's l2: 2601.58\n",
      "[40]\tvalid_0's l2: 556.229\tvalid_1's l2: 2519.76\n",
      "[60]\tvalid_0's l2: 537.313\tvalid_1's l2: 2462.09\n",
      "[80]\tvalid_0's l2: 487.272\tvalid_1's l2: 2415.9\n",
      "[100]\tvalid_0's l2: 456.109\tvalid_1's l2: 2382.34\n"
     ]
    },
    {
     "name": "stderr",
     "output_type": "stream",
     "text": [
      "/opt/conda/lib/python3.7/site-packages/lightgbm/sklearn.py:736: UserWarning: 'verbose' argument is deprecated and will be removed in a future release of LightGBM. Pass 'log_evaluation()' callback via 'callbacks' argument instead.\n",
      "  _log_warning(\"'verbose' argument is deprecated and will be removed in a future release of LightGBM. \"\n"
     ]
    },
    {
     "name": "stdout",
     "output_type": "stream",
     "text": [
      "[20]\tvalid_0's l2: 278.581\tvalid_1's l2: 2639.88\n",
      "[40]\tvalid_0's l2: 317.261\tvalid_1's l2: 2596.16\n",
      "[60]\tvalid_0's l2: 275.233\tvalid_1's l2: 2558.68\n",
      "[80]\tvalid_0's l2: 251.722\tvalid_1's l2: 2532.26\n",
      "[100]\tvalid_0's l2: 242.995\tvalid_1's l2: 2510.12\n"
     ]
    },
    {
     "name": "stderr",
     "output_type": "stream",
     "text": [
      "/opt/conda/lib/python3.7/site-packages/lightgbm/sklearn.py:736: UserWarning: 'verbose' argument is deprecated and will be removed in a future release of LightGBM. Pass 'log_evaluation()' callback via 'callbacks' argument instead.\n",
      "  _log_warning(\"'verbose' argument is deprecated and will be removed in a future release of LightGBM. \"\n"
     ]
    },
    {
     "name": "stdout",
     "output_type": "stream",
     "text": [
      "[20]\tvalid_0's l2: 338.013\tvalid_1's l2: 2612.82\n",
      "[40]\tvalid_0's l2: 485.387\tvalid_1's l2: 2556.66\n",
      "[60]\tvalid_0's l2: 458.818\tvalid_1's l2: 2507.76\n",
      "[80]\tvalid_0's l2: 375.064\tvalid_1's l2: 2462.94\n",
      "[100]\tvalid_0's l2: 361.903\tvalid_1's l2: 2425.66\n"
     ]
    },
    {
     "name": "stderr",
     "output_type": "stream",
     "text": [
      "/opt/conda/lib/python3.7/site-packages/lightgbm/sklearn.py:736: UserWarning: 'verbose' argument is deprecated and will be removed in a future release of LightGBM. Pass 'log_evaluation()' callback via 'callbacks' argument instead.\n",
      "  _log_warning(\"'verbose' argument is deprecated and will be removed in a future release of LightGBM. \"\n"
     ]
    },
    {
     "name": "stdout",
     "output_type": "stream",
     "text": [
      "[20]\tvalid_0's l2: 569.97\tvalid_1's l2: 2580.59\n",
      "[40]\tvalid_0's l2: 627.213\tvalid_1's l2: 2496.54\n",
      "[60]\tvalid_0's l2: 581.121\tvalid_1's l2: 2440.66\n",
      "[80]\tvalid_0's l2: 541.295\tvalid_1's l2: 2395.48\n",
      "[100]\tvalid_0's l2: 527.247\tvalid_1's l2: 2357.11\n"
     ]
    },
    {
     "name": "stderr",
     "output_type": "stream",
     "text": [
      "/opt/conda/lib/python3.7/site-packages/lightgbm/sklearn.py:736: UserWarning: 'verbose' argument is deprecated and will be removed in a future release of LightGBM. Pass 'log_evaluation()' callback via 'callbacks' argument instead.\n",
      "  _log_warning(\"'verbose' argument is deprecated and will be removed in a future release of LightGBM. \"\n"
     ]
    },
    {
     "name": "stdout",
     "output_type": "stream",
     "text": [
      "[20]\tvalid_0's l2: 459.29\tvalid_1's l2: 2586.06\n",
      "[40]\tvalid_0's l2: 661.484\tvalid_1's l2: 2497.25\n",
      "[60]\tvalid_0's l2: 630.703\tvalid_1's l2: 2448.58\n",
      "[80]\tvalid_0's l2: 613.194\tvalid_1's l2: 2401.14\n",
      "[100]\tvalid_0's l2: 509.271\tvalid_1's l2: 2358.04\n"
     ]
    },
    {
     "name": "stderr",
     "output_type": "stream",
     "text": [
      "/opt/conda/lib/python3.7/site-packages/lightgbm/sklearn.py:736: UserWarning: 'verbose' argument is deprecated and will be removed in a future release of LightGBM. Pass 'log_evaluation()' callback via 'callbacks' argument instead.\n",
      "  _log_warning(\"'verbose' argument is deprecated and will be removed in a future release of LightGBM. \"\n"
     ]
    },
    {
     "name": "stdout",
     "output_type": "stream",
     "text": [
      "[20]\tvalid_0's l2: 417.248\tvalid_1's l2: 2601.58\n",
      "[40]\tvalid_0's l2: 556.229\tvalid_1's l2: 2519.76\n",
      "[60]\tvalid_0's l2: 537.313\tvalid_1's l2: 2462.09\n",
      "[80]\tvalid_0's l2: 487.272\tvalid_1's l2: 2415.9\n",
      "[100]\tvalid_0's l2: 456.109\tvalid_1's l2: 2382.34\n"
     ]
    },
    {
     "name": "stderr",
     "output_type": "stream",
     "text": [
      "/opt/conda/lib/python3.7/site-packages/lightgbm/sklearn.py:736: UserWarning: 'verbose' argument is deprecated and will be removed in a future release of LightGBM. Pass 'log_evaluation()' callback via 'callbacks' argument instead.\n",
      "  _log_warning(\"'verbose' argument is deprecated and will be removed in a future release of LightGBM. \"\n"
     ]
    },
    {
     "name": "stdout",
     "output_type": "stream",
     "text": [
      "[20]\tvalid_0's l2: 278.581\tvalid_1's l2: 2639.88\n",
      "[40]\tvalid_0's l2: 317.261\tvalid_1's l2: 2596.16\n",
      "[60]\tvalid_0's l2: 275.233\tvalid_1's l2: 2558.68\n",
      "[80]\tvalid_0's l2: 251.722\tvalid_1's l2: 2532.26\n",
      "[100]\tvalid_0's l2: 242.995\tvalid_1's l2: 2510.12\n"
     ]
    },
    {
     "name": "stderr",
     "output_type": "stream",
     "text": [
      "/opt/conda/lib/python3.7/site-packages/lightgbm/sklearn.py:736: UserWarning: 'verbose' argument is deprecated and will be removed in a future release of LightGBM. Pass 'log_evaluation()' callback via 'callbacks' argument instead.\n",
      "  _log_warning(\"'verbose' argument is deprecated and will be removed in a future release of LightGBM. \"\n"
     ]
    },
    {
     "name": "stdout",
     "output_type": "stream",
     "text": [
      "[20]\tvalid_0's l2: 338.851\tvalid_1's l2: 2612.48\n",
      "[40]\tvalid_0's l2: 476.521\tvalid_1's l2: 2556.38\n",
      "[60]\tvalid_0's l2: 466.928\tvalid_1's l2: 2509.82\n",
      "[80]\tvalid_0's l2: 421.759\tvalid_1's l2: 2469.05\n",
      "[100]\tvalid_0's l2: 402.002\tvalid_1's l2: 2428.32\n"
     ]
    },
    {
     "name": "stderr",
     "output_type": "stream",
     "text": [
      "/opt/conda/lib/python3.7/site-packages/lightgbm/sklearn.py:736: UserWarning: 'verbose' argument is deprecated and will be removed in a future release of LightGBM. Pass 'log_evaluation()' callback via 'callbacks' argument instead.\n",
      "  _log_warning(\"'verbose' argument is deprecated and will be removed in a future release of LightGBM. \"\n"
     ]
    },
    {
     "name": "stdout",
     "output_type": "stream",
     "text": [
      "[20]\tvalid_0's l2: 571.441\tvalid_1's l2: 2580.3\n",
      "[40]\tvalid_0's l2: 628.096\tvalid_1's l2: 2496.18\n",
      "[60]\tvalid_0's l2: 581.483\tvalid_1's l2: 2440.22\n",
      "[80]\tvalid_0's l2: 541.334\tvalid_1's l2: 2394.99\n",
      "[100]\tvalid_0's l2: 498.489\tvalid_1's l2: 2355.66\n"
     ]
    },
    {
     "name": "stderr",
     "output_type": "stream",
     "text": [
      "/opt/conda/lib/python3.7/site-packages/lightgbm/sklearn.py:736: UserWarning: 'verbose' argument is deprecated and will be removed in a future release of LightGBM. Pass 'log_evaluation()' callback via 'callbacks' argument instead.\n",
      "  _log_warning(\"'verbose' argument is deprecated and will be removed in a future release of LightGBM. \"\n"
     ]
    },
    {
     "name": "stdout",
     "output_type": "stream",
     "text": [
      "[20]\tvalid_0's l2: 460.68\tvalid_1's l2: 2585.62\n",
      "[40]\tvalid_0's l2: 662.604\tvalid_1's l2: 2496.89\n",
      "[60]\tvalid_0's l2: 631.231\tvalid_1's l2: 2448.16\n",
      "[80]\tvalid_0's l2: 613.578\tvalid_1's l2: 2400.66\n",
      "[100]\tvalid_0's l2: 509.166\tvalid_1's l2: 2357.51\n"
     ]
    },
    {
     "name": "stderr",
     "output_type": "stream",
     "text": [
      "/opt/conda/lib/python3.7/site-packages/lightgbm/sklearn.py:736: UserWarning: 'verbose' argument is deprecated and will be removed in a future release of LightGBM. Pass 'log_evaluation()' callback via 'callbacks' argument instead.\n",
      "  _log_warning(\"'verbose' argument is deprecated and will be removed in a future release of LightGBM. \"\n"
     ]
    },
    {
     "name": "stdout",
     "output_type": "stream",
     "text": [
      "[20]\tvalid_0's l2: 418.371\tvalid_1's l2: 2601.18\n",
      "[40]\tvalid_0's l2: 557.193\tvalid_1's l2: 2519.28\n",
      "[60]\tvalid_0's l2: 524.755\tvalid_1's l2: 2461.45\n",
      "[80]\tvalid_0's l2: 497.037\tvalid_1's l2: 2416.88\n",
      "[100]\tvalid_0's l2: 452.731\tvalid_1's l2: 2380.34\n"
     ]
    },
    {
     "name": "stderr",
     "output_type": "stream",
     "text": [
      "/opt/conda/lib/python3.7/site-packages/lightgbm/sklearn.py:736: UserWarning: 'verbose' argument is deprecated and will be removed in a future release of LightGBM. Pass 'log_evaluation()' callback via 'callbacks' argument instead.\n",
      "  _log_warning(\"'verbose' argument is deprecated and will be removed in a future release of LightGBM. \"\n"
     ]
    },
    {
     "name": "stdout",
     "output_type": "stream",
     "text": [
      "[20]\tvalid_0's l2: 279.118\tvalid_1's l2: 2639.65\n",
      "[40]\tvalid_0's l2: 317.528\tvalid_1's l2: 2595.95\n",
      "[60]\tvalid_0's l2: 275.255\tvalid_1's l2: 2558.45\n",
      "[80]\tvalid_0's l2: 265.68\tvalid_1's l2: 2531.6\n",
      "[100]\tvalid_0's l2: 253.068\tvalid_1's l2: 2509\n"
     ]
    },
    {
     "name": "stderr",
     "output_type": "stream",
     "text": [
      "/opt/conda/lib/python3.7/site-packages/lightgbm/sklearn.py:736: UserWarning: 'verbose' argument is deprecated and will be removed in a future release of LightGBM. Pass 'log_evaluation()' callback via 'callbacks' argument instead.\n",
      "  _log_warning(\"'verbose' argument is deprecated and will be removed in a future release of LightGBM. \"\n"
     ]
    },
    {
     "name": "stdout",
     "output_type": "stream",
     "text": [
      "[20]\tvalid_0's l2: 338.851\tvalid_1's l2: 2612.48\n",
      "[40]\tvalid_0's l2: 476.521\tvalid_1's l2: 2556.38\n",
      "[60]\tvalid_0's l2: 466.928\tvalid_1's l2: 2509.82\n",
      "[80]\tvalid_0's l2: 421.759\tvalid_1's l2: 2469.05\n",
      "[100]\tvalid_0's l2: 402.002\tvalid_1's l2: 2428.32\n"
     ]
    },
    {
     "name": "stderr",
     "output_type": "stream",
     "text": [
      "/opt/conda/lib/python3.7/site-packages/lightgbm/sklearn.py:736: UserWarning: 'verbose' argument is deprecated and will be removed in a future release of LightGBM. Pass 'log_evaluation()' callback via 'callbacks' argument instead.\n",
      "  _log_warning(\"'verbose' argument is deprecated and will be removed in a future release of LightGBM. \"\n"
     ]
    },
    {
     "name": "stdout",
     "output_type": "stream",
     "text": [
      "[20]\tvalid_0's l2: 571.441\tvalid_1's l2: 2580.3\n",
      "[40]\tvalid_0's l2: 628.096\tvalid_1's l2: 2496.18\n",
      "[60]\tvalid_0's l2: 581.483\tvalid_1's l2: 2440.22\n",
      "[80]\tvalid_0's l2: 541.334\tvalid_1's l2: 2394.99\n",
      "[100]\tvalid_0's l2: 498.489\tvalid_1's l2: 2355.66\n"
     ]
    },
    {
     "name": "stderr",
     "output_type": "stream",
     "text": [
      "/opt/conda/lib/python3.7/site-packages/lightgbm/sklearn.py:736: UserWarning: 'verbose' argument is deprecated and will be removed in a future release of LightGBM. Pass 'log_evaluation()' callback via 'callbacks' argument instead.\n",
      "  _log_warning(\"'verbose' argument is deprecated and will be removed in a future release of LightGBM. \"\n"
     ]
    },
    {
     "name": "stdout",
     "output_type": "stream",
     "text": [
      "[20]\tvalid_0's l2: 460.68\tvalid_1's l2: 2585.62\n",
      "[40]\tvalid_0's l2: 662.604\tvalid_1's l2: 2496.89\n",
      "[60]\tvalid_0's l2: 631.231\tvalid_1's l2: 2448.16\n",
      "[80]\tvalid_0's l2: 613.578\tvalid_1's l2: 2400.66\n",
      "[100]\tvalid_0's l2: 509.166\tvalid_1's l2: 2357.51\n"
     ]
    },
    {
     "name": "stderr",
     "output_type": "stream",
     "text": [
      "/opt/conda/lib/python3.7/site-packages/lightgbm/sklearn.py:736: UserWarning: 'verbose' argument is deprecated and will be removed in a future release of LightGBM. Pass 'log_evaluation()' callback via 'callbacks' argument instead.\n",
      "  _log_warning(\"'verbose' argument is deprecated and will be removed in a future release of LightGBM. \"\n"
     ]
    },
    {
     "name": "stdout",
     "output_type": "stream",
     "text": [
      "[20]\tvalid_0's l2: 418.371\tvalid_1's l2: 2601.18\n",
      "[40]\tvalid_0's l2: 557.193\tvalid_1's l2: 2519.28\n",
      "[60]\tvalid_0's l2: 524.755\tvalid_1's l2: 2461.45\n",
      "[80]\tvalid_0's l2: 497.037\tvalid_1's l2: 2416.88\n",
      "[100]\tvalid_0's l2: 452.731\tvalid_1's l2: 2380.34\n"
     ]
    },
    {
     "name": "stderr",
     "output_type": "stream",
     "text": [
      "/opt/conda/lib/python3.7/site-packages/lightgbm/sklearn.py:736: UserWarning: 'verbose' argument is deprecated and will be removed in a future release of LightGBM. Pass 'log_evaluation()' callback via 'callbacks' argument instead.\n",
      "  _log_warning(\"'verbose' argument is deprecated and will be removed in a future release of LightGBM. \"\n"
     ]
    },
    {
     "name": "stdout",
     "output_type": "stream",
     "text": [
      "[20]\tvalid_0's l2: 279.118\tvalid_1's l2: 2639.65\n",
      "[40]\tvalid_0's l2: 317.528\tvalid_1's l2: 2595.95\n",
      "[60]\tvalid_0's l2: 275.255\tvalid_1's l2: 2558.45\n",
      "[80]\tvalid_0's l2: 265.68\tvalid_1's l2: 2531.6\n",
      "[100]\tvalid_0's l2: 253.068\tvalid_1's l2: 2509\n"
     ]
    },
    {
     "name": "stderr",
     "output_type": "stream",
     "text": [
      "/opt/conda/lib/python3.7/site-packages/lightgbm/sklearn.py:736: UserWarning: 'verbose' argument is deprecated and will be removed in a future release of LightGBM. Pass 'log_evaluation()' callback via 'callbacks' argument instead.\n",
      "  _log_warning(\"'verbose' argument is deprecated and will be removed in a future release of LightGBM. \"\n"
     ]
    },
    {
     "name": "stdout",
     "output_type": "stream",
     "text": [
      "[20]\tvalid_0's l2: 337.957\tvalid_1's l2: 2612.87\n",
      "[40]\tvalid_0's l2: 485.32\tvalid_1's l2: 2556.71\n",
      "[60]\tvalid_0's l2: 458.824\tvalid_1's l2: 2507.83\n",
      "[80]\tvalid_0's l2: 375.162\tvalid_1's l2: 2463.04\n",
      "[100]\tvalid_0's l2: 362.035\tvalid_1's l2: 2425.77\n"
     ]
    },
    {
     "name": "stderr",
     "output_type": "stream",
     "text": [
      "/opt/conda/lib/python3.7/site-packages/lightgbm/sklearn.py:736: UserWarning: 'verbose' argument is deprecated and will be removed in a future release of LightGBM. Pass 'log_evaluation()' callback via 'callbacks' argument instead.\n",
      "  _log_warning(\"'verbose' argument is deprecated and will be removed in a future release of LightGBM. \"\n"
     ]
    },
    {
     "name": "stdout",
     "output_type": "stream",
     "text": [
      "[20]\tvalid_0's l2: 569.86\tvalid_1's l2: 2580.63\n",
      "[40]\tvalid_0's l2: 627.124\tvalid_1's l2: 2496.61\n",
      "[60]\tvalid_0's l2: 581.079\tvalid_1's l2: 2440.74\n",
      "[80]\tvalid_0's l2: 541.3\tvalid_1's l2: 2395.59\n",
      "[100]\tvalid_0's l2: 527.222\tvalid_1's l2: 2357.24\n"
     ]
    },
    {
     "name": "stderr",
     "output_type": "stream",
     "text": [
      "/opt/conda/lib/python3.7/site-packages/lightgbm/sklearn.py:736: UserWarning: 'verbose' argument is deprecated and will be removed in a future release of LightGBM. Pass 'log_evaluation()' callback via 'callbacks' argument instead.\n",
      "  _log_warning(\"'verbose' argument is deprecated and will be removed in a future release of LightGBM. \"\n"
     ]
    },
    {
     "name": "stdout",
     "output_type": "stream",
     "text": [
      "[20]\tvalid_0's l2: 459.227\tvalid_1's l2: 2586.11\n",
      "[40]\tvalid_0's l2: 661.378\tvalid_1's l2: 2497.31\n",
      "[60]\tvalid_0's l2: 630.645\tvalid_1's l2: 2448.66\n",
      "[80]\tvalid_0's l2: 613.202\tvalid_1's l2: 2401.24\n",
      "[100]\tvalid_0's l2: 509.388\tvalid_1's l2: 2358.16\n"
     ]
    },
    {
     "name": "stderr",
     "output_type": "stream",
     "text": [
      "/opt/conda/lib/python3.7/site-packages/lightgbm/sklearn.py:736: UserWarning: 'verbose' argument is deprecated and will be removed in a future release of LightGBM. Pass 'log_evaluation()' callback via 'callbacks' argument instead.\n",
      "  _log_warning(\"'verbose' argument is deprecated and will be removed in a future release of LightGBM. \"\n"
     ]
    },
    {
     "name": "stdout",
     "output_type": "stream",
     "text": [
      "[20]\tvalid_0's l2: 417.129\tvalid_1's l2: 2601.63\n",
      "[40]\tvalid_0's l2: 558.416\tvalid_1's l2: 2520.39\n",
      "[60]\tvalid_0's l2: 525.488\tvalid_1's l2: 2462.62\n",
      "[80]\tvalid_0's l2: 434.623\tvalid_1's l2: 2419.73\n",
      "[100]\tvalid_0's l2: 399.31\tvalid_1's l2: 2384.65\n"
     ]
    },
    {
     "name": "stderr",
     "output_type": "stream",
     "text": [
      "/opt/conda/lib/python3.7/site-packages/lightgbm/sklearn.py:736: UserWarning: 'verbose' argument is deprecated and will be removed in a future release of LightGBM. Pass 'log_evaluation()' callback via 'callbacks' argument instead.\n",
      "  _log_warning(\"'verbose' argument is deprecated and will be removed in a future release of LightGBM. \"\n"
     ]
    },
    {
     "name": "stdout",
     "output_type": "stream",
     "text": [
      "[20]\tvalid_0's l2: 278.509\tvalid_1's l2: 2639.92\n",
      "[40]\tvalid_0's l2: 317.198\tvalid_1's l2: 2596.22\n",
      "[60]\tvalid_0's l2: 275.263\tvalid_1's l2: 2558.77\n",
      "[80]\tvalid_0's l2: 257.705\tvalid_1's l2: 2530.88\n",
      "[100]\tvalid_0's l2: 242.247\tvalid_1's l2: 2510.51\n"
     ]
    },
    {
     "name": "stderr",
     "output_type": "stream",
     "text": [
      "/opt/conda/lib/python3.7/site-packages/lightgbm/sklearn.py:736: UserWarning: 'verbose' argument is deprecated and will be removed in a future release of LightGBM. Pass 'log_evaluation()' callback via 'callbacks' argument instead.\n",
      "  _log_warning(\"'verbose' argument is deprecated and will be removed in a future release of LightGBM. \"\n"
     ]
    },
    {
     "name": "stdout",
     "output_type": "stream",
     "text": [
      "[20]\tvalid_0's l2: 337.957\tvalid_1's l2: 2612.87\n",
      "[40]\tvalid_0's l2: 485.32\tvalid_1's l2: 2556.71\n",
      "[60]\tvalid_0's l2: 458.824\tvalid_1's l2: 2507.83\n",
      "[80]\tvalid_0's l2: 375.162\tvalid_1's l2: 2463.04\n",
      "[100]\tvalid_0's l2: 362.035\tvalid_1's l2: 2425.77\n"
     ]
    },
    {
     "name": "stderr",
     "output_type": "stream",
     "text": [
      "/opt/conda/lib/python3.7/site-packages/lightgbm/sklearn.py:736: UserWarning: 'verbose' argument is deprecated and will be removed in a future release of LightGBM. Pass 'log_evaluation()' callback via 'callbacks' argument instead.\n",
      "  _log_warning(\"'verbose' argument is deprecated and will be removed in a future release of LightGBM. \"\n"
     ]
    },
    {
     "name": "stdout",
     "output_type": "stream",
     "text": [
      "[20]\tvalid_0's l2: 569.86\tvalid_1's l2: 2580.63\n",
      "[40]\tvalid_0's l2: 627.124\tvalid_1's l2: 2496.61\n",
      "[60]\tvalid_0's l2: 581.079\tvalid_1's l2: 2440.74\n",
      "[80]\tvalid_0's l2: 541.3\tvalid_1's l2: 2395.59\n",
      "[100]\tvalid_0's l2: 527.222\tvalid_1's l2: 2357.24\n"
     ]
    },
    {
     "name": "stderr",
     "output_type": "stream",
     "text": [
      "/opt/conda/lib/python3.7/site-packages/lightgbm/sklearn.py:736: UserWarning: 'verbose' argument is deprecated and will be removed in a future release of LightGBM. Pass 'log_evaluation()' callback via 'callbacks' argument instead.\n",
      "  _log_warning(\"'verbose' argument is deprecated and will be removed in a future release of LightGBM. \"\n"
     ]
    },
    {
     "name": "stdout",
     "output_type": "stream",
     "text": [
      "[20]\tvalid_0's l2: 459.227\tvalid_1's l2: 2586.11\n",
      "[40]\tvalid_0's l2: 661.378\tvalid_1's l2: 2497.31\n",
      "[60]\tvalid_0's l2: 630.645\tvalid_1's l2: 2448.66\n",
      "[80]\tvalid_0's l2: 613.202\tvalid_1's l2: 2401.24\n",
      "[100]\tvalid_0's l2: 509.388\tvalid_1's l2: 2358.16\n"
     ]
    },
    {
     "name": "stderr",
     "output_type": "stream",
     "text": [
      "/opt/conda/lib/python3.7/site-packages/lightgbm/sklearn.py:736: UserWarning: 'verbose' argument is deprecated and will be removed in a future release of LightGBM. Pass 'log_evaluation()' callback via 'callbacks' argument instead.\n",
      "  _log_warning(\"'verbose' argument is deprecated and will be removed in a future release of LightGBM. \"\n"
     ]
    },
    {
     "name": "stdout",
     "output_type": "stream",
     "text": [
      "[20]\tvalid_0's l2: 417.129\tvalid_1's l2: 2601.63\n",
      "[40]\tvalid_0's l2: 558.416\tvalid_1's l2: 2520.39\n",
      "[60]\tvalid_0's l2: 525.488\tvalid_1's l2: 2462.62\n",
      "[80]\tvalid_0's l2: 434.623\tvalid_1's l2: 2419.73\n",
      "[100]\tvalid_0's l2: 399.31\tvalid_1's l2: 2384.65\n"
     ]
    },
    {
     "name": "stderr",
     "output_type": "stream",
     "text": [
      "/opt/conda/lib/python3.7/site-packages/lightgbm/sklearn.py:736: UserWarning: 'verbose' argument is deprecated and will be removed in a future release of LightGBM. Pass 'log_evaluation()' callback via 'callbacks' argument instead.\n",
      "  _log_warning(\"'verbose' argument is deprecated and will be removed in a future release of LightGBM. \"\n"
     ]
    },
    {
     "name": "stdout",
     "output_type": "stream",
     "text": [
      "[20]\tvalid_0's l2: 278.509\tvalid_1's l2: 2639.92\n",
      "[40]\tvalid_0's l2: 317.198\tvalid_1's l2: 2596.22\n",
      "[60]\tvalid_0's l2: 275.263\tvalid_1's l2: 2558.77\n",
      "[80]\tvalid_0's l2: 257.705\tvalid_1's l2: 2530.88\n",
      "[100]\tvalid_0's l2: 242.247\tvalid_1's l2: 2510.51\n"
     ]
    },
    {
     "name": "stderr",
     "output_type": "stream",
     "text": [
      "/opt/conda/lib/python3.7/site-packages/lightgbm/sklearn.py:736: UserWarning: 'verbose' argument is deprecated and will be removed in a future release of LightGBM. Pass 'log_evaluation()' callback via 'callbacks' argument instead.\n",
      "  _log_warning(\"'verbose' argument is deprecated and will be removed in a future release of LightGBM. \"\n"
     ]
    },
    {
     "name": "stdout",
     "output_type": "stream",
     "text": [
      "[20]\tvalid_0's l2: 338.907\tvalid_1's l2: 2612.44\n",
      "[40]\tvalid_0's l2: 476.593\tvalid_1's l2: 2556.33\n",
      "[60]\tvalid_0's l2: 466.951\tvalid_1's l2: 2509.75\n",
      "[80]\tvalid_0's l2: 421.702\tvalid_1's l2: 2468.96\n",
      "[100]\tvalid_0's l2: 401.875\tvalid_1's l2: 2428.21\n"
     ]
    },
    {
     "name": "stderr",
     "output_type": "stream",
     "text": [
      "/opt/conda/lib/python3.7/site-packages/lightgbm/sklearn.py:736: UserWarning: 'verbose' argument is deprecated and will be removed in a future release of LightGBM. Pass 'log_evaluation()' callback via 'callbacks' argument instead.\n",
      "  _log_warning(\"'verbose' argument is deprecated and will be removed in a future release of LightGBM. \"\n"
     ]
    },
    {
     "name": "stdout",
     "output_type": "stream",
     "text": [
      "[20]\tvalid_0's l2: 571.552\tvalid_1's l2: 2580.27\n",
      "[40]\tvalid_0's l2: 628.186\tvalid_1's l2: 2496.12\n",
      "[60]\tvalid_0's l2: 581.526\tvalid_1's l2: 2440.14\n",
      "[80]\tvalid_0's l2: 541.341\tvalid_1's l2: 2394.88\n",
      "[100]\tvalid_0's l2: 498.481\tvalid_1's l2: 2355.53\n"
     ]
    },
    {
     "name": "stderr",
     "output_type": "stream",
     "text": [
      "/opt/conda/lib/python3.7/site-packages/lightgbm/sklearn.py:736: UserWarning: 'verbose' argument is deprecated and will be removed in a future release of LightGBM. Pass 'log_evaluation()' callback via 'callbacks' argument instead.\n",
      "  _log_warning(\"'verbose' argument is deprecated and will be removed in a future release of LightGBM. \"\n"
     ]
    },
    {
     "name": "stdout",
     "output_type": "stream",
     "text": [
      "[20]\tvalid_0's l2: 460.744\tvalid_1's l2: 2585.57\n",
      "[40]\tvalid_0's l2: 662.71\tvalid_1's l2: 2496.83\n",
      "[60]\tvalid_0's l2: 631.289\tvalid_1's l2: 2448.07\n",
      "[80]\tvalid_0's l2: 613.57\tvalid_1's l2: 2400.56\n",
      "[100]\tvalid_0's l2: 509.049\tvalid_1's l2: 2357.38\n"
     ]
    },
    {
     "name": "stderr",
     "output_type": "stream",
     "text": [
      "/opt/conda/lib/python3.7/site-packages/lightgbm/sklearn.py:736: UserWarning: 'verbose' argument is deprecated and will be removed in a future release of LightGBM. Pass 'log_evaluation()' callback via 'callbacks' argument instead.\n",
      "  _log_warning(\"'verbose' argument is deprecated and will be removed in a future release of LightGBM. \"\n"
     ]
    },
    {
     "name": "stdout",
     "output_type": "stream",
     "text": [
      "[20]\tvalid_0's l2: 418.49\tvalid_1's l2: 2601.13\n",
      "[40]\tvalid_0's l2: 557.293\tvalid_1's l2: 2519.22\n",
      "[60]\tvalid_0's l2: 524.764\tvalid_1's l2: 2461.37\n",
      "[80]\tvalid_0's l2: 497.003\tvalid_1's l2: 2416.77\n",
      "[100]\tvalid_0's l2: 452.681\tvalid_1's l2: 2380.21\n"
     ]
    },
    {
     "name": "stderr",
     "output_type": "stream",
     "text": [
      "/opt/conda/lib/python3.7/site-packages/lightgbm/sklearn.py:736: UserWarning: 'verbose' argument is deprecated and will be removed in a future release of LightGBM. Pass 'log_evaluation()' callback via 'callbacks' argument instead.\n",
      "  _log_warning(\"'verbose' argument is deprecated and will be removed in a future release of LightGBM. \"\n"
     ]
    },
    {
     "name": "stdout",
     "output_type": "stream",
     "text": [
      "[20]\tvalid_0's l2: 279.19\tvalid_1's l2: 2639.62\n",
      "[40]\tvalid_0's l2: 317.592\tvalid_1's l2: 2595.89\n",
      "[60]\tvalid_0's l2: 275.225\tvalid_1's l2: 2558.36\n",
      "[80]\tvalid_0's l2: 265.635\tvalid_1's l2: 2531.5\n",
      "[100]\tvalid_0's l2: 253.012\tvalid_1's l2: 2508.88\n"
     ]
    },
    {
     "name": "stderr",
     "output_type": "stream",
     "text": [
      "/opt/conda/lib/python3.7/site-packages/lightgbm/sklearn.py:736: UserWarning: 'verbose' argument is deprecated and will be removed in a future release of LightGBM. Pass 'log_evaluation()' callback via 'callbacks' argument instead.\n",
      "  _log_warning(\"'verbose' argument is deprecated and will be removed in a future release of LightGBM. \"\n"
     ]
    },
    {
     "name": "stdout",
     "output_type": "stream",
     "text": [
      "[20]\tvalid_0's l2: 338.907\tvalid_1's l2: 2612.44\n",
      "[40]\tvalid_0's l2: 476.593\tvalid_1's l2: 2556.33\n",
      "[60]\tvalid_0's l2: 466.951\tvalid_1's l2: 2509.75\n",
      "[80]\tvalid_0's l2: 421.702\tvalid_1's l2: 2468.96\n",
      "[100]\tvalid_0's l2: 401.875\tvalid_1's l2: 2428.21\n"
     ]
    },
    {
     "name": "stderr",
     "output_type": "stream",
     "text": [
      "/opt/conda/lib/python3.7/site-packages/lightgbm/sklearn.py:736: UserWarning: 'verbose' argument is deprecated and will be removed in a future release of LightGBM. Pass 'log_evaluation()' callback via 'callbacks' argument instead.\n",
      "  _log_warning(\"'verbose' argument is deprecated and will be removed in a future release of LightGBM. \"\n"
     ]
    },
    {
     "name": "stdout",
     "output_type": "stream",
     "text": [
      "[20]\tvalid_0's l2: 571.552\tvalid_1's l2: 2580.27\n",
      "[40]\tvalid_0's l2: 628.186\tvalid_1's l2: 2496.12\n",
      "[60]\tvalid_0's l2: 581.526\tvalid_1's l2: 2440.14\n",
      "[80]\tvalid_0's l2: 541.341\tvalid_1's l2: 2394.88\n",
      "[100]\tvalid_0's l2: 498.481\tvalid_1's l2: 2355.53\n"
     ]
    },
    {
     "name": "stderr",
     "output_type": "stream",
     "text": [
      "/opt/conda/lib/python3.7/site-packages/lightgbm/sklearn.py:736: UserWarning: 'verbose' argument is deprecated and will be removed in a future release of LightGBM. Pass 'log_evaluation()' callback via 'callbacks' argument instead.\n",
      "  _log_warning(\"'verbose' argument is deprecated and will be removed in a future release of LightGBM. \"\n"
     ]
    },
    {
     "name": "stdout",
     "output_type": "stream",
     "text": [
      "[20]\tvalid_0's l2: 460.744\tvalid_1's l2: 2585.57\n",
      "[40]\tvalid_0's l2: 662.71\tvalid_1's l2: 2496.83\n",
      "[60]\tvalid_0's l2: 631.289\tvalid_1's l2: 2448.07\n",
      "[80]\tvalid_0's l2: 613.57\tvalid_1's l2: 2400.56\n",
      "[100]\tvalid_0's l2: 509.049\tvalid_1's l2: 2357.38\n"
     ]
    },
    {
     "name": "stderr",
     "output_type": "stream",
     "text": [
      "/opt/conda/lib/python3.7/site-packages/lightgbm/sklearn.py:736: UserWarning: 'verbose' argument is deprecated and will be removed in a future release of LightGBM. Pass 'log_evaluation()' callback via 'callbacks' argument instead.\n",
      "  _log_warning(\"'verbose' argument is deprecated and will be removed in a future release of LightGBM. \"\n"
     ]
    },
    {
     "name": "stdout",
     "output_type": "stream",
     "text": [
      "[20]\tvalid_0's l2: 418.49\tvalid_1's l2: 2601.13\n",
      "[40]\tvalid_0's l2: 557.293\tvalid_1's l2: 2519.22\n",
      "[60]\tvalid_0's l2: 524.764\tvalid_1's l2: 2461.37\n",
      "[80]\tvalid_0's l2: 497.003\tvalid_1's l2: 2416.77\n",
      "[100]\tvalid_0's l2: 452.681\tvalid_1's l2: 2380.21\n"
     ]
    },
    {
     "name": "stderr",
     "output_type": "stream",
     "text": [
      "/opt/conda/lib/python3.7/site-packages/lightgbm/sklearn.py:736: UserWarning: 'verbose' argument is deprecated and will be removed in a future release of LightGBM. Pass 'log_evaluation()' callback via 'callbacks' argument instead.\n",
      "  _log_warning(\"'verbose' argument is deprecated and will be removed in a future release of LightGBM. \"\n"
     ]
    },
    {
     "name": "stdout",
     "output_type": "stream",
     "text": [
      "[20]\tvalid_0's l2: 279.19\tvalid_1's l2: 2639.62\n",
      "[40]\tvalid_0's l2: 317.592\tvalid_1's l2: 2595.89\n",
      "[60]\tvalid_0's l2: 275.225\tvalid_1's l2: 2558.36\n",
      "[80]\tvalid_0's l2: 265.635\tvalid_1's l2: 2531.5\n",
      "[100]\tvalid_0's l2: 253.012\tvalid_1's l2: 2508.88\n"
     ]
    },
    {
     "name": "stderr",
     "output_type": "stream",
     "text": [
      "/opt/conda/lib/python3.7/site-packages/lightgbm/sklearn.py:736: UserWarning: 'verbose' argument is deprecated and will be removed in a future release of LightGBM. Pass 'log_evaluation()' callback via 'callbacks' argument instead.\n",
      "  _log_warning(\"'verbose' argument is deprecated and will be removed in a future release of LightGBM. \"\n"
     ]
    },
    {
     "name": "stdout",
     "output_type": "stream",
     "text": [
      "[20]\tvalid_0's l2: 338.013\tvalid_1's l2: 2612.82\n",
      "[40]\tvalid_0's l2: 485.387\tvalid_1's l2: 2556.66\n",
      "[60]\tvalid_0's l2: 458.818\tvalid_1's l2: 2507.76\n",
      "[80]\tvalid_0's l2: 375.064\tvalid_1's l2: 2462.94\n",
      "[100]\tvalid_0's l2: 361.903\tvalid_1's l2: 2425.66\n"
     ]
    },
    {
     "name": "stderr",
     "output_type": "stream",
     "text": [
      "/opt/conda/lib/python3.7/site-packages/lightgbm/sklearn.py:736: UserWarning: 'verbose' argument is deprecated and will be removed in a future release of LightGBM. Pass 'log_evaluation()' callback via 'callbacks' argument instead.\n",
      "  _log_warning(\"'verbose' argument is deprecated and will be removed in a future release of LightGBM. \"\n"
     ]
    },
    {
     "name": "stdout",
     "output_type": "stream",
     "text": [
      "[20]\tvalid_0's l2: 569.97\tvalid_1's l2: 2580.59\n",
      "[40]\tvalid_0's l2: 627.213\tvalid_1's l2: 2496.54\n",
      "[60]\tvalid_0's l2: 581.121\tvalid_1's l2: 2440.66\n",
      "[80]\tvalid_0's l2: 541.295\tvalid_1's l2: 2395.48\n",
      "[100]\tvalid_0's l2: 527.247\tvalid_1's l2: 2357.11\n"
     ]
    },
    {
     "name": "stderr",
     "output_type": "stream",
     "text": [
      "/opt/conda/lib/python3.7/site-packages/lightgbm/sklearn.py:736: UserWarning: 'verbose' argument is deprecated and will be removed in a future release of LightGBM. Pass 'log_evaluation()' callback via 'callbacks' argument instead.\n",
      "  _log_warning(\"'verbose' argument is deprecated and will be removed in a future release of LightGBM. \"\n"
     ]
    },
    {
     "name": "stdout",
     "output_type": "stream",
     "text": [
      "[20]\tvalid_0's l2: 459.29\tvalid_1's l2: 2586.06\n",
      "[40]\tvalid_0's l2: 661.484\tvalid_1's l2: 2497.25\n",
      "[60]\tvalid_0's l2: 630.703\tvalid_1's l2: 2448.58\n",
      "[80]\tvalid_0's l2: 613.194\tvalid_1's l2: 2401.14\n",
      "[100]\tvalid_0's l2: 509.271\tvalid_1's l2: 2358.04\n"
     ]
    },
    {
     "name": "stderr",
     "output_type": "stream",
     "text": [
      "/opt/conda/lib/python3.7/site-packages/lightgbm/sklearn.py:736: UserWarning: 'verbose' argument is deprecated and will be removed in a future release of LightGBM. Pass 'log_evaluation()' callback via 'callbacks' argument instead.\n",
      "  _log_warning(\"'verbose' argument is deprecated and will be removed in a future release of LightGBM. \"\n"
     ]
    },
    {
     "name": "stdout",
     "output_type": "stream",
     "text": [
      "[20]\tvalid_0's l2: 417.248\tvalid_1's l2: 2601.58\n",
      "[40]\tvalid_0's l2: 556.229\tvalid_1's l2: 2519.76\n",
      "[60]\tvalid_0's l2: 537.313\tvalid_1's l2: 2462.09\n",
      "[80]\tvalid_0's l2: 487.272\tvalid_1's l2: 2415.9\n",
      "[100]\tvalid_0's l2: 456.109\tvalid_1's l2: 2382.34\n"
     ]
    },
    {
     "name": "stderr",
     "output_type": "stream",
     "text": [
      "/opt/conda/lib/python3.7/site-packages/lightgbm/sklearn.py:736: UserWarning: 'verbose' argument is deprecated and will be removed in a future release of LightGBM. Pass 'log_evaluation()' callback via 'callbacks' argument instead.\n",
      "  _log_warning(\"'verbose' argument is deprecated and will be removed in a future release of LightGBM. \"\n"
     ]
    },
    {
     "name": "stdout",
     "output_type": "stream",
     "text": [
      "[20]\tvalid_0's l2: 278.581\tvalid_1's l2: 2639.88\n",
      "[40]\tvalid_0's l2: 317.261\tvalid_1's l2: 2596.16\n",
      "[60]\tvalid_0's l2: 275.233\tvalid_1's l2: 2558.68\n",
      "[80]\tvalid_0's l2: 251.722\tvalid_1's l2: 2532.26\n",
      "[100]\tvalid_0's l2: 242.995\tvalid_1's l2: 2510.12\n"
     ]
    },
    {
     "name": "stderr",
     "output_type": "stream",
     "text": [
      "/opt/conda/lib/python3.7/site-packages/lightgbm/sklearn.py:736: UserWarning: 'verbose' argument is deprecated and will be removed in a future release of LightGBM. Pass 'log_evaluation()' callback via 'callbacks' argument instead.\n",
      "  _log_warning(\"'verbose' argument is deprecated and will be removed in a future release of LightGBM. \"\n"
     ]
    },
    {
     "name": "stdout",
     "output_type": "stream",
     "text": [
      "[20]\tvalid_0's l2: 338.013\tvalid_1's l2: 2612.82\n",
      "[40]\tvalid_0's l2: 485.387\tvalid_1's l2: 2556.66\n",
      "[60]\tvalid_0's l2: 458.818\tvalid_1's l2: 2507.76\n",
      "[80]\tvalid_0's l2: 375.064\tvalid_1's l2: 2462.94\n",
      "[100]\tvalid_0's l2: 361.903\tvalid_1's l2: 2425.66\n"
     ]
    },
    {
     "name": "stderr",
     "output_type": "stream",
     "text": [
      "/opt/conda/lib/python3.7/site-packages/lightgbm/sklearn.py:736: UserWarning: 'verbose' argument is deprecated and will be removed in a future release of LightGBM. Pass 'log_evaluation()' callback via 'callbacks' argument instead.\n",
      "  _log_warning(\"'verbose' argument is deprecated and will be removed in a future release of LightGBM. \"\n"
     ]
    },
    {
     "name": "stdout",
     "output_type": "stream",
     "text": [
      "[20]\tvalid_0's l2: 569.97\tvalid_1's l2: 2580.59\n",
      "[40]\tvalid_0's l2: 627.213\tvalid_1's l2: 2496.54\n",
      "[60]\tvalid_0's l2: 581.121\tvalid_1's l2: 2440.66\n",
      "[80]\tvalid_0's l2: 541.295\tvalid_1's l2: 2395.48\n",
      "[100]\tvalid_0's l2: 527.247\tvalid_1's l2: 2357.11\n"
     ]
    },
    {
     "name": "stderr",
     "output_type": "stream",
     "text": [
      "/opt/conda/lib/python3.7/site-packages/lightgbm/sklearn.py:736: UserWarning: 'verbose' argument is deprecated and will be removed in a future release of LightGBM. Pass 'log_evaluation()' callback via 'callbacks' argument instead.\n",
      "  _log_warning(\"'verbose' argument is deprecated and will be removed in a future release of LightGBM. \"\n"
     ]
    },
    {
     "name": "stdout",
     "output_type": "stream",
     "text": [
      "[20]\tvalid_0's l2: 459.29\tvalid_1's l2: 2586.06\n",
      "[40]\tvalid_0's l2: 661.484\tvalid_1's l2: 2497.25\n",
      "[60]\tvalid_0's l2: 630.703\tvalid_1's l2: 2448.58\n",
      "[80]\tvalid_0's l2: 613.194\tvalid_1's l2: 2401.14\n",
      "[100]\tvalid_0's l2: 509.271\tvalid_1's l2: 2358.04\n"
     ]
    },
    {
     "name": "stderr",
     "output_type": "stream",
     "text": [
      "/opt/conda/lib/python3.7/site-packages/lightgbm/sklearn.py:736: UserWarning: 'verbose' argument is deprecated and will be removed in a future release of LightGBM. Pass 'log_evaluation()' callback via 'callbacks' argument instead.\n",
      "  _log_warning(\"'verbose' argument is deprecated and will be removed in a future release of LightGBM. \"\n"
     ]
    },
    {
     "name": "stdout",
     "output_type": "stream",
     "text": [
      "[20]\tvalid_0's l2: 417.248\tvalid_1's l2: 2601.58\n",
      "[40]\tvalid_0's l2: 556.229\tvalid_1's l2: 2519.76\n",
      "[60]\tvalid_0's l2: 537.313\tvalid_1's l2: 2462.09\n",
      "[80]\tvalid_0's l2: 487.272\tvalid_1's l2: 2415.9\n",
      "[100]\tvalid_0's l2: 456.109\tvalid_1's l2: 2382.34\n"
     ]
    },
    {
     "name": "stderr",
     "output_type": "stream",
     "text": [
      "/opt/conda/lib/python3.7/site-packages/lightgbm/sklearn.py:736: UserWarning: 'verbose' argument is deprecated and will be removed in a future release of LightGBM. Pass 'log_evaluation()' callback via 'callbacks' argument instead.\n",
      "  _log_warning(\"'verbose' argument is deprecated and will be removed in a future release of LightGBM. \"\n"
     ]
    },
    {
     "name": "stdout",
     "output_type": "stream",
     "text": [
      "[20]\tvalid_0's l2: 278.581\tvalid_1's l2: 2639.88\n",
      "[40]\tvalid_0's l2: 317.261\tvalid_1's l2: 2596.16\n",
      "[60]\tvalid_0's l2: 275.233\tvalid_1's l2: 2558.68\n",
      "[80]\tvalid_0's l2: 251.722\tvalid_1's l2: 2532.26\n",
      "[100]\tvalid_0's l2: 242.995\tvalid_1's l2: 2510.12\n"
     ]
    },
    {
     "name": "stderr",
     "output_type": "stream",
     "text": [
      "/opt/conda/lib/python3.7/site-packages/lightgbm/sklearn.py:736: UserWarning: 'verbose' argument is deprecated and will be removed in a future release of LightGBM. Pass 'log_evaluation()' callback via 'callbacks' argument instead.\n",
      "  _log_warning(\"'verbose' argument is deprecated and will be removed in a future release of LightGBM. \"\n"
     ]
    },
    {
     "name": "stdout",
     "output_type": "stream",
     "text": [
      "[20]\tvalid_0's l2: 338.851\tvalid_1's l2: 2612.48\n",
      "[40]\tvalid_0's l2: 476.521\tvalid_1's l2: 2556.38\n",
      "[60]\tvalid_0's l2: 466.928\tvalid_1's l2: 2509.82\n",
      "[80]\tvalid_0's l2: 421.759\tvalid_1's l2: 2469.05\n",
      "[100]\tvalid_0's l2: 402.002\tvalid_1's l2: 2428.32\n"
     ]
    },
    {
     "name": "stderr",
     "output_type": "stream",
     "text": [
      "/opt/conda/lib/python3.7/site-packages/lightgbm/sklearn.py:736: UserWarning: 'verbose' argument is deprecated and will be removed in a future release of LightGBM. Pass 'log_evaluation()' callback via 'callbacks' argument instead.\n",
      "  _log_warning(\"'verbose' argument is deprecated and will be removed in a future release of LightGBM. \"\n"
     ]
    },
    {
     "name": "stdout",
     "output_type": "stream",
     "text": [
      "[20]\tvalid_0's l2: 571.441\tvalid_1's l2: 2580.3\n",
      "[40]\tvalid_0's l2: 628.096\tvalid_1's l2: 2496.18\n",
      "[60]\tvalid_0's l2: 581.483\tvalid_1's l2: 2440.22\n",
      "[80]\tvalid_0's l2: 541.334\tvalid_1's l2: 2394.99\n",
      "[100]\tvalid_0's l2: 498.489\tvalid_1's l2: 2355.66\n"
     ]
    },
    {
     "name": "stderr",
     "output_type": "stream",
     "text": [
      "/opt/conda/lib/python3.7/site-packages/lightgbm/sklearn.py:736: UserWarning: 'verbose' argument is deprecated and will be removed in a future release of LightGBM. Pass 'log_evaluation()' callback via 'callbacks' argument instead.\n",
      "  _log_warning(\"'verbose' argument is deprecated and will be removed in a future release of LightGBM. \"\n"
     ]
    },
    {
     "name": "stdout",
     "output_type": "stream",
     "text": [
      "[20]\tvalid_0's l2: 460.68\tvalid_1's l2: 2585.62\n",
      "[40]\tvalid_0's l2: 662.604\tvalid_1's l2: 2496.89\n",
      "[60]\tvalid_0's l2: 631.231\tvalid_1's l2: 2448.16\n",
      "[80]\tvalid_0's l2: 613.578\tvalid_1's l2: 2400.66\n",
      "[100]\tvalid_0's l2: 509.166\tvalid_1's l2: 2357.51\n"
     ]
    },
    {
     "name": "stderr",
     "output_type": "stream",
     "text": [
      "/opt/conda/lib/python3.7/site-packages/lightgbm/sklearn.py:736: UserWarning: 'verbose' argument is deprecated and will be removed in a future release of LightGBM. Pass 'log_evaluation()' callback via 'callbacks' argument instead.\n",
      "  _log_warning(\"'verbose' argument is deprecated and will be removed in a future release of LightGBM. \"\n"
     ]
    },
    {
     "name": "stdout",
     "output_type": "stream",
     "text": [
      "[20]\tvalid_0's l2: 418.371\tvalid_1's l2: 2601.18\n",
      "[40]\tvalid_0's l2: 557.193\tvalid_1's l2: 2519.28\n",
      "[60]\tvalid_0's l2: 524.755\tvalid_1's l2: 2461.45\n",
      "[80]\tvalid_0's l2: 497.037\tvalid_1's l2: 2416.88\n",
      "[100]\tvalid_0's l2: 452.731\tvalid_1's l2: 2380.34\n"
     ]
    },
    {
     "name": "stderr",
     "output_type": "stream",
     "text": [
      "/opt/conda/lib/python3.7/site-packages/lightgbm/sklearn.py:736: UserWarning: 'verbose' argument is deprecated and will be removed in a future release of LightGBM. Pass 'log_evaluation()' callback via 'callbacks' argument instead.\n",
      "  _log_warning(\"'verbose' argument is deprecated and will be removed in a future release of LightGBM. \"\n"
     ]
    },
    {
     "name": "stdout",
     "output_type": "stream",
     "text": [
      "[20]\tvalid_0's l2: 279.118\tvalid_1's l2: 2639.65\n",
      "[40]\tvalid_0's l2: 317.528\tvalid_1's l2: 2595.95\n",
      "[60]\tvalid_0's l2: 275.255\tvalid_1's l2: 2558.45\n",
      "[80]\tvalid_0's l2: 265.68\tvalid_1's l2: 2531.6\n",
      "[100]\tvalid_0's l2: 253.068\tvalid_1's l2: 2509\n"
     ]
    },
    {
     "name": "stderr",
     "output_type": "stream",
     "text": [
      "/opt/conda/lib/python3.7/site-packages/lightgbm/sklearn.py:736: UserWarning: 'verbose' argument is deprecated and will be removed in a future release of LightGBM. Pass 'log_evaluation()' callback via 'callbacks' argument instead.\n",
      "  _log_warning(\"'verbose' argument is deprecated and will be removed in a future release of LightGBM. \"\n"
     ]
    },
    {
     "name": "stdout",
     "output_type": "stream",
     "text": [
      "[20]\tvalid_0's l2: 338.851\tvalid_1's l2: 2612.48\n",
      "[40]\tvalid_0's l2: 476.521\tvalid_1's l2: 2556.38\n",
      "[60]\tvalid_0's l2: 466.928\tvalid_1's l2: 2509.82\n",
      "[80]\tvalid_0's l2: 421.759\tvalid_1's l2: 2469.05\n",
      "[100]\tvalid_0's l2: 402.002\tvalid_1's l2: 2428.32\n"
     ]
    },
    {
     "name": "stderr",
     "output_type": "stream",
     "text": [
      "/opt/conda/lib/python3.7/site-packages/lightgbm/sklearn.py:736: UserWarning: 'verbose' argument is deprecated and will be removed in a future release of LightGBM. Pass 'log_evaluation()' callback via 'callbacks' argument instead.\n",
      "  _log_warning(\"'verbose' argument is deprecated and will be removed in a future release of LightGBM. \"\n"
     ]
    },
    {
     "name": "stdout",
     "output_type": "stream",
     "text": [
      "[20]\tvalid_0's l2: 571.441\tvalid_1's l2: 2580.3\n",
      "[40]\tvalid_0's l2: 628.096\tvalid_1's l2: 2496.18\n",
      "[60]\tvalid_0's l2: 581.483\tvalid_1's l2: 2440.22\n",
      "[80]\tvalid_0's l2: 541.334\tvalid_1's l2: 2394.99\n",
      "[100]\tvalid_0's l2: 498.489\tvalid_1's l2: 2355.66\n"
     ]
    },
    {
     "name": "stderr",
     "output_type": "stream",
     "text": [
      "/opt/conda/lib/python3.7/site-packages/lightgbm/sklearn.py:736: UserWarning: 'verbose' argument is deprecated and will be removed in a future release of LightGBM. Pass 'log_evaluation()' callback via 'callbacks' argument instead.\n",
      "  _log_warning(\"'verbose' argument is deprecated and will be removed in a future release of LightGBM. \"\n"
     ]
    },
    {
     "name": "stdout",
     "output_type": "stream",
     "text": [
      "[20]\tvalid_0's l2: 460.68\tvalid_1's l2: 2585.62\n",
      "[40]\tvalid_0's l2: 662.604\tvalid_1's l2: 2496.89\n",
      "[60]\tvalid_0's l2: 631.231\tvalid_1's l2: 2448.16\n",
      "[80]\tvalid_0's l2: 613.578\tvalid_1's l2: 2400.66\n",
      "[100]\tvalid_0's l2: 509.166\tvalid_1's l2: 2357.51\n"
     ]
    },
    {
     "name": "stderr",
     "output_type": "stream",
     "text": [
      "/opt/conda/lib/python3.7/site-packages/lightgbm/sklearn.py:736: UserWarning: 'verbose' argument is deprecated and will be removed in a future release of LightGBM. Pass 'log_evaluation()' callback via 'callbacks' argument instead.\n",
      "  _log_warning(\"'verbose' argument is deprecated and will be removed in a future release of LightGBM. \"\n"
     ]
    },
    {
     "name": "stdout",
     "output_type": "stream",
     "text": [
      "[20]\tvalid_0's l2: 418.371\tvalid_1's l2: 2601.18\n",
      "[40]\tvalid_0's l2: 557.193\tvalid_1's l2: 2519.28\n",
      "[60]\tvalid_0's l2: 524.755\tvalid_1's l2: 2461.45\n",
      "[80]\tvalid_0's l2: 497.037\tvalid_1's l2: 2416.88\n",
      "[100]\tvalid_0's l2: 452.731\tvalid_1's l2: 2380.34\n"
     ]
    },
    {
     "name": "stderr",
     "output_type": "stream",
     "text": [
      "/opt/conda/lib/python3.7/site-packages/lightgbm/sklearn.py:736: UserWarning: 'verbose' argument is deprecated and will be removed in a future release of LightGBM. Pass 'log_evaluation()' callback via 'callbacks' argument instead.\n",
      "  _log_warning(\"'verbose' argument is deprecated and will be removed in a future release of LightGBM. \"\n"
     ]
    },
    {
     "name": "stdout",
     "output_type": "stream",
     "text": [
      "[20]\tvalid_0's l2: 279.118\tvalid_1's l2: 2639.65\n",
      "[40]\tvalid_0's l2: 317.528\tvalid_1's l2: 2595.95\n",
      "[60]\tvalid_0's l2: 275.255\tvalid_1's l2: 2558.45\n",
      "[80]\tvalid_0's l2: 265.68\tvalid_1's l2: 2531.6\n",
      "[100]\tvalid_0's l2: 253.068\tvalid_1's l2: 2509\n"
     ]
    },
    {
     "name": "stderr",
     "output_type": "stream",
     "text": [
      "/opt/conda/lib/python3.7/site-packages/lightgbm/sklearn.py:736: UserWarning: 'verbose' argument is deprecated and will be removed in a future release of LightGBM. Pass 'log_evaluation()' callback via 'callbacks' argument instead.\n",
      "  _log_warning(\"'verbose' argument is deprecated and will be removed in a future release of LightGBM. \"\n"
     ]
    },
    {
     "name": "stdout",
     "output_type": "stream",
     "text": [
      "[20]\tvalid_0's l2: 337.957\tvalid_1's l2: 2612.87\n",
      "[40]\tvalid_0's l2: 485.32\tvalid_1's l2: 2556.71\n",
      "[60]\tvalid_0's l2: 458.824\tvalid_1's l2: 2507.83\n",
      "[80]\tvalid_0's l2: 375.162\tvalid_1's l2: 2463.04\n",
      "[100]\tvalid_0's l2: 362.035\tvalid_1's l2: 2425.77\n"
     ]
    },
    {
     "name": "stderr",
     "output_type": "stream",
     "text": [
      "/opt/conda/lib/python3.7/site-packages/lightgbm/sklearn.py:736: UserWarning: 'verbose' argument is deprecated and will be removed in a future release of LightGBM. Pass 'log_evaluation()' callback via 'callbacks' argument instead.\n",
      "  _log_warning(\"'verbose' argument is deprecated and will be removed in a future release of LightGBM. \"\n"
     ]
    },
    {
     "name": "stdout",
     "output_type": "stream",
     "text": [
      "[20]\tvalid_0's l2: 569.86\tvalid_1's l2: 2580.63\n",
      "[40]\tvalid_0's l2: 627.124\tvalid_1's l2: 2496.61\n",
      "[60]\tvalid_0's l2: 581.079\tvalid_1's l2: 2440.74\n",
      "[80]\tvalid_0's l2: 541.3\tvalid_1's l2: 2395.59\n",
      "[100]\tvalid_0's l2: 527.222\tvalid_1's l2: 2357.24\n"
     ]
    },
    {
     "name": "stderr",
     "output_type": "stream",
     "text": [
      "/opt/conda/lib/python3.7/site-packages/lightgbm/sklearn.py:736: UserWarning: 'verbose' argument is deprecated and will be removed in a future release of LightGBM. Pass 'log_evaluation()' callback via 'callbacks' argument instead.\n",
      "  _log_warning(\"'verbose' argument is deprecated and will be removed in a future release of LightGBM. \"\n"
     ]
    },
    {
     "name": "stdout",
     "output_type": "stream",
     "text": [
      "[20]\tvalid_0's l2: 459.227\tvalid_1's l2: 2586.11\n",
      "[40]\tvalid_0's l2: 661.378\tvalid_1's l2: 2497.31\n",
      "[60]\tvalid_0's l2: 630.645\tvalid_1's l2: 2448.66\n",
      "[80]\tvalid_0's l2: 613.202\tvalid_1's l2: 2401.24\n",
      "[100]\tvalid_0's l2: 509.388\tvalid_1's l2: 2358.16\n"
     ]
    },
    {
     "name": "stderr",
     "output_type": "stream",
     "text": [
      "/opt/conda/lib/python3.7/site-packages/lightgbm/sklearn.py:736: UserWarning: 'verbose' argument is deprecated and will be removed in a future release of LightGBM. Pass 'log_evaluation()' callback via 'callbacks' argument instead.\n",
      "  _log_warning(\"'verbose' argument is deprecated and will be removed in a future release of LightGBM. \"\n"
     ]
    },
    {
     "name": "stdout",
     "output_type": "stream",
     "text": [
      "[20]\tvalid_0's l2: 417.129\tvalid_1's l2: 2601.63\n",
      "[40]\tvalid_0's l2: 558.416\tvalid_1's l2: 2520.39\n",
      "[60]\tvalid_0's l2: 525.488\tvalid_1's l2: 2462.62\n",
      "[80]\tvalid_0's l2: 434.623\tvalid_1's l2: 2419.73\n",
      "[100]\tvalid_0's l2: 399.31\tvalid_1's l2: 2384.65\n"
     ]
    },
    {
     "name": "stderr",
     "output_type": "stream",
     "text": [
      "/opt/conda/lib/python3.7/site-packages/lightgbm/sklearn.py:736: UserWarning: 'verbose' argument is deprecated and will be removed in a future release of LightGBM. Pass 'log_evaluation()' callback via 'callbacks' argument instead.\n",
      "  _log_warning(\"'verbose' argument is deprecated and will be removed in a future release of LightGBM. \"\n"
     ]
    },
    {
     "name": "stdout",
     "output_type": "stream",
     "text": [
      "[20]\tvalid_0's l2: 278.509\tvalid_1's l2: 2639.92\n",
      "[40]\tvalid_0's l2: 317.198\tvalid_1's l2: 2596.22\n",
      "[60]\tvalid_0's l2: 275.263\tvalid_1's l2: 2558.77\n",
      "[80]\tvalid_0's l2: 257.705\tvalid_1's l2: 2530.88\n",
      "[100]\tvalid_0's l2: 242.247\tvalid_1's l2: 2510.51\n"
     ]
    },
    {
     "name": "stderr",
     "output_type": "stream",
     "text": [
      "/opt/conda/lib/python3.7/site-packages/lightgbm/sklearn.py:736: UserWarning: 'verbose' argument is deprecated and will be removed in a future release of LightGBM. Pass 'log_evaluation()' callback via 'callbacks' argument instead.\n",
      "  _log_warning(\"'verbose' argument is deprecated and will be removed in a future release of LightGBM. \"\n"
     ]
    },
    {
     "name": "stdout",
     "output_type": "stream",
     "text": [
      "[20]\tvalid_0's l2: 337.957\tvalid_1's l2: 2612.87\n",
      "[40]\tvalid_0's l2: 485.32\tvalid_1's l2: 2556.71\n",
      "[60]\tvalid_0's l2: 458.824\tvalid_1's l2: 2507.83\n",
      "[80]\tvalid_0's l2: 375.162\tvalid_1's l2: 2463.04\n",
      "[100]\tvalid_0's l2: 362.035\tvalid_1's l2: 2425.77\n"
     ]
    },
    {
     "name": "stderr",
     "output_type": "stream",
     "text": [
      "/opt/conda/lib/python3.7/site-packages/lightgbm/sklearn.py:736: UserWarning: 'verbose' argument is deprecated and will be removed in a future release of LightGBM. Pass 'log_evaluation()' callback via 'callbacks' argument instead.\n",
      "  _log_warning(\"'verbose' argument is deprecated and will be removed in a future release of LightGBM. \"\n"
     ]
    },
    {
     "name": "stdout",
     "output_type": "stream",
     "text": [
      "[20]\tvalid_0's l2: 569.86\tvalid_1's l2: 2580.63\n",
      "[40]\tvalid_0's l2: 627.124\tvalid_1's l2: 2496.61\n",
      "[60]\tvalid_0's l2: 581.079\tvalid_1's l2: 2440.74\n",
      "[80]\tvalid_0's l2: 541.3\tvalid_1's l2: 2395.59\n",
      "[100]\tvalid_0's l2: 527.222\tvalid_1's l2: 2357.24\n"
     ]
    },
    {
     "name": "stderr",
     "output_type": "stream",
     "text": [
      "/opt/conda/lib/python3.7/site-packages/lightgbm/sklearn.py:736: UserWarning: 'verbose' argument is deprecated and will be removed in a future release of LightGBM. Pass 'log_evaluation()' callback via 'callbacks' argument instead.\n",
      "  _log_warning(\"'verbose' argument is deprecated and will be removed in a future release of LightGBM. \"\n"
     ]
    },
    {
     "name": "stdout",
     "output_type": "stream",
     "text": [
      "[20]\tvalid_0's l2: 459.227\tvalid_1's l2: 2586.11\n",
      "[40]\tvalid_0's l2: 661.378\tvalid_1's l2: 2497.31\n",
      "[60]\tvalid_0's l2: 630.645\tvalid_1's l2: 2448.66\n",
      "[80]\tvalid_0's l2: 613.202\tvalid_1's l2: 2401.24\n",
      "[100]\tvalid_0's l2: 509.388\tvalid_1's l2: 2358.16\n"
     ]
    },
    {
     "name": "stderr",
     "output_type": "stream",
     "text": [
      "/opt/conda/lib/python3.7/site-packages/lightgbm/sklearn.py:736: UserWarning: 'verbose' argument is deprecated and will be removed in a future release of LightGBM. Pass 'log_evaluation()' callback via 'callbacks' argument instead.\n",
      "  _log_warning(\"'verbose' argument is deprecated and will be removed in a future release of LightGBM. \"\n"
     ]
    },
    {
     "name": "stdout",
     "output_type": "stream",
     "text": [
      "[20]\tvalid_0's l2: 417.129\tvalid_1's l2: 2601.63\n",
      "[40]\tvalid_0's l2: 558.416\tvalid_1's l2: 2520.39\n",
      "[60]\tvalid_0's l2: 525.488\tvalid_1's l2: 2462.62\n",
      "[80]\tvalid_0's l2: 434.623\tvalid_1's l2: 2419.73\n",
      "[100]\tvalid_0's l2: 399.31\tvalid_1's l2: 2384.65\n"
     ]
    },
    {
     "name": "stderr",
     "output_type": "stream",
     "text": [
      "/opt/conda/lib/python3.7/site-packages/lightgbm/sklearn.py:736: UserWarning: 'verbose' argument is deprecated and will be removed in a future release of LightGBM. Pass 'log_evaluation()' callback via 'callbacks' argument instead.\n",
      "  _log_warning(\"'verbose' argument is deprecated and will be removed in a future release of LightGBM. \"\n"
     ]
    },
    {
     "name": "stdout",
     "output_type": "stream",
     "text": [
      "[20]\tvalid_0's l2: 278.509\tvalid_1's l2: 2639.92\n",
      "[40]\tvalid_0's l2: 317.198\tvalid_1's l2: 2596.22\n",
      "[60]\tvalid_0's l2: 275.263\tvalid_1's l2: 2558.77\n",
      "[80]\tvalid_0's l2: 257.705\tvalid_1's l2: 2530.88\n",
      "[100]\tvalid_0's l2: 242.247\tvalid_1's l2: 2510.51\n"
     ]
    },
    {
     "name": "stderr",
     "output_type": "stream",
     "text": [
      "/opt/conda/lib/python3.7/site-packages/lightgbm/sklearn.py:736: UserWarning: 'verbose' argument is deprecated and will be removed in a future release of LightGBM. Pass 'log_evaluation()' callback via 'callbacks' argument instead.\n",
      "  _log_warning(\"'verbose' argument is deprecated and will be removed in a future release of LightGBM. \"\n"
     ]
    },
    {
     "name": "stdout",
     "output_type": "stream",
     "text": [
      "[20]\tvalid_0's l2: 338.907\tvalid_1's l2: 2612.44\n",
      "[40]\tvalid_0's l2: 476.593\tvalid_1's l2: 2556.33\n",
      "[60]\tvalid_0's l2: 466.951\tvalid_1's l2: 2509.75\n",
      "[80]\tvalid_0's l2: 421.702\tvalid_1's l2: 2468.96\n",
      "[100]\tvalid_0's l2: 401.875\tvalid_1's l2: 2428.21\n"
     ]
    },
    {
     "name": "stderr",
     "output_type": "stream",
     "text": [
      "/opt/conda/lib/python3.7/site-packages/lightgbm/sklearn.py:736: UserWarning: 'verbose' argument is deprecated and will be removed in a future release of LightGBM. Pass 'log_evaluation()' callback via 'callbacks' argument instead.\n",
      "  _log_warning(\"'verbose' argument is deprecated and will be removed in a future release of LightGBM. \"\n"
     ]
    },
    {
     "name": "stdout",
     "output_type": "stream",
     "text": [
      "[20]\tvalid_0's l2: 571.552\tvalid_1's l2: 2580.27\n",
      "[40]\tvalid_0's l2: 628.186\tvalid_1's l2: 2496.12\n",
      "[60]\tvalid_0's l2: 581.526\tvalid_1's l2: 2440.14\n",
      "[80]\tvalid_0's l2: 541.341\tvalid_1's l2: 2394.88\n",
      "[100]\tvalid_0's l2: 498.481\tvalid_1's l2: 2355.53\n"
     ]
    },
    {
     "name": "stderr",
     "output_type": "stream",
     "text": [
      "/opt/conda/lib/python3.7/site-packages/lightgbm/sklearn.py:736: UserWarning: 'verbose' argument is deprecated and will be removed in a future release of LightGBM. Pass 'log_evaluation()' callback via 'callbacks' argument instead.\n",
      "  _log_warning(\"'verbose' argument is deprecated and will be removed in a future release of LightGBM. \"\n"
     ]
    },
    {
     "name": "stdout",
     "output_type": "stream",
     "text": [
      "[20]\tvalid_0's l2: 460.744\tvalid_1's l2: 2585.57\n",
      "[40]\tvalid_0's l2: 662.71\tvalid_1's l2: 2496.83\n",
      "[60]\tvalid_0's l2: 631.289\tvalid_1's l2: 2448.07\n",
      "[80]\tvalid_0's l2: 613.57\tvalid_1's l2: 2400.56\n",
      "[100]\tvalid_0's l2: 509.049\tvalid_1's l2: 2357.38\n"
     ]
    },
    {
     "name": "stderr",
     "output_type": "stream",
     "text": [
      "/opt/conda/lib/python3.7/site-packages/lightgbm/sklearn.py:736: UserWarning: 'verbose' argument is deprecated and will be removed in a future release of LightGBM. Pass 'log_evaluation()' callback via 'callbacks' argument instead.\n",
      "  _log_warning(\"'verbose' argument is deprecated and will be removed in a future release of LightGBM. \"\n"
     ]
    },
    {
     "name": "stdout",
     "output_type": "stream",
     "text": [
      "[20]\tvalid_0's l2: 418.49\tvalid_1's l2: 2601.13\n",
      "[40]\tvalid_0's l2: 557.293\tvalid_1's l2: 2519.22\n",
      "[60]\tvalid_0's l2: 524.764\tvalid_1's l2: 2461.37\n",
      "[80]\tvalid_0's l2: 497.003\tvalid_1's l2: 2416.77\n",
      "[100]\tvalid_0's l2: 452.681\tvalid_1's l2: 2380.21\n"
     ]
    },
    {
     "name": "stderr",
     "output_type": "stream",
     "text": [
      "/opt/conda/lib/python3.7/site-packages/lightgbm/sklearn.py:736: UserWarning: 'verbose' argument is deprecated and will be removed in a future release of LightGBM. Pass 'log_evaluation()' callback via 'callbacks' argument instead.\n",
      "  _log_warning(\"'verbose' argument is deprecated and will be removed in a future release of LightGBM. \"\n"
     ]
    },
    {
     "name": "stdout",
     "output_type": "stream",
     "text": [
      "[20]\tvalid_0's l2: 279.19\tvalid_1's l2: 2639.62\n",
      "[40]\tvalid_0's l2: 317.592\tvalid_1's l2: 2595.89\n",
      "[60]\tvalid_0's l2: 275.225\tvalid_1's l2: 2558.36\n",
      "[80]\tvalid_0's l2: 265.635\tvalid_1's l2: 2531.5\n",
      "[100]\tvalid_0's l2: 253.012\tvalid_1's l2: 2508.88\n"
     ]
    },
    {
     "name": "stderr",
     "output_type": "stream",
     "text": [
      "/opt/conda/lib/python3.7/site-packages/lightgbm/sklearn.py:736: UserWarning: 'verbose' argument is deprecated and will be removed in a future release of LightGBM. Pass 'log_evaluation()' callback via 'callbacks' argument instead.\n",
      "  _log_warning(\"'verbose' argument is deprecated and will be removed in a future release of LightGBM. \"\n"
     ]
    },
    {
     "name": "stdout",
     "output_type": "stream",
     "text": [
      "[20]\tvalid_0's l2: 338.907\tvalid_1's l2: 2612.44\n",
      "[40]\tvalid_0's l2: 476.593\tvalid_1's l2: 2556.33\n",
      "[60]\tvalid_0's l2: 466.951\tvalid_1's l2: 2509.75\n",
      "[80]\tvalid_0's l2: 421.702\tvalid_1's l2: 2468.96\n",
      "[100]\tvalid_0's l2: 401.875\tvalid_1's l2: 2428.21\n"
     ]
    },
    {
     "name": "stderr",
     "output_type": "stream",
     "text": [
      "/opt/conda/lib/python3.7/site-packages/lightgbm/sklearn.py:736: UserWarning: 'verbose' argument is deprecated and will be removed in a future release of LightGBM. Pass 'log_evaluation()' callback via 'callbacks' argument instead.\n",
      "  _log_warning(\"'verbose' argument is deprecated and will be removed in a future release of LightGBM. \"\n"
     ]
    },
    {
     "name": "stdout",
     "output_type": "stream",
     "text": [
      "[20]\tvalid_0's l2: 571.552\tvalid_1's l2: 2580.27\n",
      "[40]\tvalid_0's l2: 628.186\tvalid_1's l2: 2496.12\n",
      "[60]\tvalid_0's l2: 581.526\tvalid_1's l2: 2440.14\n",
      "[80]\tvalid_0's l2: 541.341\tvalid_1's l2: 2394.88\n",
      "[100]\tvalid_0's l2: 498.481\tvalid_1's l2: 2355.53\n"
     ]
    },
    {
     "name": "stderr",
     "output_type": "stream",
     "text": [
      "/opt/conda/lib/python3.7/site-packages/lightgbm/sklearn.py:736: UserWarning: 'verbose' argument is deprecated and will be removed in a future release of LightGBM. Pass 'log_evaluation()' callback via 'callbacks' argument instead.\n",
      "  _log_warning(\"'verbose' argument is deprecated and will be removed in a future release of LightGBM. \"\n"
     ]
    },
    {
     "name": "stdout",
     "output_type": "stream",
     "text": [
      "[20]\tvalid_0's l2: 460.744\tvalid_1's l2: 2585.57\n",
      "[40]\tvalid_0's l2: 662.71\tvalid_1's l2: 2496.83\n",
      "[60]\tvalid_0's l2: 631.289\tvalid_1's l2: 2448.07\n",
      "[80]\tvalid_0's l2: 613.57\tvalid_1's l2: 2400.56\n",
      "[100]\tvalid_0's l2: 509.049\tvalid_1's l2: 2357.38\n"
     ]
    },
    {
     "name": "stderr",
     "output_type": "stream",
     "text": [
      "/opt/conda/lib/python3.7/site-packages/lightgbm/sklearn.py:736: UserWarning: 'verbose' argument is deprecated and will be removed in a future release of LightGBM. Pass 'log_evaluation()' callback via 'callbacks' argument instead.\n",
      "  _log_warning(\"'verbose' argument is deprecated and will be removed in a future release of LightGBM. \"\n"
     ]
    },
    {
     "name": "stdout",
     "output_type": "stream",
     "text": [
      "[20]\tvalid_0's l2: 418.49\tvalid_1's l2: 2601.13\n",
      "[40]\tvalid_0's l2: 557.293\tvalid_1's l2: 2519.22\n",
      "[60]\tvalid_0's l2: 524.764\tvalid_1's l2: 2461.37\n",
      "[80]\tvalid_0's l2: 497.003\tvalid_1's l2: 2416.77\n",
      "[100]\tvalid_0's l2: 452.681\tvalid_1's l2: 2380.21\n"
     ]
    },
    {
     "name": "stderr",
     "output_type": "stream",
     "text": [
      "/opt/conda/lib/python3.7/site-packages/lightgbm/sklearn.py:736: UserWarning: 'verbose' argument is deprecated and will be removed in a future release of LightGBM. Pass 'log_evaluation()' callback via 'callbacks' argument instead.\n",
      "  _log_warning(\"'verbose' argument is deprecated and will be removed in a future release of LightGBM. \"\n"
     ]
    },
    {
     "name": "stdout",
     "output_type": "stream",
     "text": [
      "[20]\tvalid_0's l2: 279.19\tvalid_1's l2: 2639.62\n",
      "[40]\tvalid_0's l2: 317.592\tvalid_1's l2: 2595.89\n",
      "[60]\tvalid_0's l2: 275.225\tvalid_1's l2: 2558.36\n",
      "[80]\tvalid_0's l2: 265.635\tvalid_1's l2: 2531.5\n",
      "[100]\tvalid_0's l2: 253.012\tvalid_1's l2: 2508.88\n"
     ]
    },
    {
     "name": "stderr",
     "output_type": "stream",
     "text": [
      "/opt/conda/lib/python3.7/site-packages/lightgbm/sklearn.py:736: UserWarning: 'verbose' argument is deprecated and will be removed in a future release of LightGBM. Pass 'log_evaluation()' callback via 'callbacks' argument instead.\n",
      "  _log_warning(\"'verbose' argument is deprecated and will be removed in a future release of LightGBM. \"\n"
     ]
    },
    {
     "name": "stdout",
     "output_type": "stream",
     "text": [
      "[20]\tvalid_0's l2: 338.013\tvalid_1's l2: 2612.82\n",
      "[40]\tvalid_0's l2: 485.387\tvalid_1's l2: 2556.66\n",
      "[60]\tvalid_0's l2: 458.818\tvalid_1's l2: 2507.76\n",
      "[80]\tvalid_0's l2: 375.064\tvalid_1's l2: 2462.94\n",
      "[100]\tvalid_0's l2: 361.903\tvalid_1's l2: 2425.66\n"
     ]
    },
    {
     "name": "stderr",
     "output_type": "stream",
     "text": [
      "/opt/conda/lib/python3.7/site-packages/lightgbm/sklearn.py:736: UserWarning: 'verbose' argument is deprecated and will be removed in a future release of LightGBM. Pass 'log_evaluation()' callback via 'callbacks' argument instead.\n",
      "  _log_warning(\"'verbose' argument is deprecated and will be removed in a future release of LightGBM. \"\n"
     ]
    },
    {
     "name": "stdout",
     "output_type": "stream",
     "text": [
      "[20]\tvalid_0's l2: 569.97\tvalid_1's l2: 2580.59\n",
      "[40]\tvalid_0's l2: 627.213\tvalid_1's l2: 2496.54\n",
      "[60]\tvalid_0's l2: 581.121\tvalid_1's l2: 2440.66\n",
      "[80]\tvalid_0's l2: 541.295\tvalid_1's l2: 2395.48\n",
      "[100]\tvalid_0's l2: 527.247\tvalid_1's l2: 2357.11\n"
     ]
    },
    {
     "name": "stderr",
     "output_type": "stream",
     "text": [
      "/opt/conda/lib/python3.7/site-packages/lightgbm/sklearn.py:736: UserWarning: 'verbose' argument is deprecated and will be removed in a future release of LightGBM. Pass 'log_evaluation()' callback via 'callbacks' argument instead.\n",
      "  _log_warning(\"'verbose' argument is deprecated and will be removed in a future release of LightGBM. \"\n"
     ]
    },
    {
     "name": "stdout",
     "output_type": "stream",
     "text": [
      "[20]\tvalid_0's l2: 459.29\tvalid_1's l2: 2586.06\n",
      "[40]\tvalid_0's l2: 661.484\tvalid_1's l2: 2497.25\n",
      "[60]\tvalid_0's l2: 630.703\tvalid_1's l2: 2448.58\n",
      "[80]\tvalid_0's l2: 613.194\tvalid_1's l2: 2401.14\n",
      "[100]\tvalid_0's l2: 509.271\tvalid_1's l2: 2358.04\n"
     ]
    },
    {
     "name": "stderr",
     "output_type": "stream",
     "text": [
      "/opt/conda/lib/python3.7/site-packages/lightgbm/sklearn.py:736: UserWarning: 'verbose' argument is deprecated and will be removed in a future release of LightGBM. Pass 'log_evaluation()' callback via 'callbacks' argument instead.\n",
      "  _log_warning(\"'verbose' argument is deprecated and will be removed in a future release of LightGBM. \"\n"
     ]
    },
    {
     "name": "stdout",
     "output_type": "stream",
     "text": [
      "[20]\tvalid_0's l2: 417.248\tvalid_1's l2: 2601.58\n",
      "[40]\tvalid_0's l2: 556.229\tvalid_1's l2: 2519.76\n",
      "[60]\tvalid_0's l2: 537.313\tvalid_1's l2: 2462.09\n",
      "[80]\tvalid_0's l2: 487.272\tvalid_1's l2: 2415.9\n",
      "[100]\tvalid_0's l2: 456.109\tvalid_1's l2: 2382.34\n"
     ]
    },
    {
     "name": "stderr",
     "output_type": "stream",
     "text": [
      "/opt/conda/lib/python3.7/site-packages/lightgbm/sklearn.py:736: UserWarning: 'verbose' argument is deprecated and will be removed in a future release of LightGBM. Pass 'log_evaluation()' callback via 'callbacks' argument instead.\n",
      "  _log_warning(\"'verbose' argument is deprecated and will be removed in a future release of LightGBM. \"\n"
     ]
    },
    {
     "name": "stdout",
     "output_type": "stream",
     "text": [
      "[20]\tvalid_0's l2: 278.581\tvalid_1's l2: 2639.88\n",
      "[40]\tvalid_0's l2: 317.261\tvalid_1's l2: 2596.16\n",
      "[60]\tvalid_0's l2: 275.233\tvalid_1's l2: 2558.68\n",
      "[80]\tvalid_0's l2: 251.722\tvalid_1's l2: 2532.26\n",
      "[100]\tvalid_0's l2: 242.995\tvalid_1's l2: 2510.12\n"
     ]
    },
    {
     "name": "stderr",
     "output_type": "stream",
     "text": [
      "/opt/conda/lib/python3.7/site-packages/lightgbm/sklearn.py:736: UserWarning: 'verbose' argument is deprecated and will be removed in a future release of LightGBM. Pass 'log_evaluation()' callback via 'callbacks' argument instead.\n",
      "  _log_warning(\"'verbose' argument is deprecated and will be removed in a future release of LightGBM. \"\n"
     ]
    },
    {
     "name": "stdout",
     "output_type": "stream",
     "text": [
      "[20]\tvalid_0's l2: 338.013\tvalid_1's l2: 2612.82\n",
      "[40]\tvalid_0's l2: 485.387\tvalid_1's l2: 2556.66\n",
      "[60]\tvalid_0's l2: 458.818\tvalid_1's l2: 2507.76\n",
      "[80]\tvalid_0's l2: 375.064\tvalid_1's l2: 2462.94\n",
      "[100]\tvalid_0's l2: 361.903\tvalid_1's l2: 2425.66\n"
     ]
    },
    {
     "name": "stderr",
     "output_type": "stream",
     "text": [
      "/opt/conda/lib/python3.7/site-packages/lightgbm/sklearn.py:736: UserWarning: 'verbose' argument is deprecated and will be removed in a future release of LightGBM. Pass 'log_evaluation()' callback via 'callbacks' argument instead.\n",
      "  _log_warning(\"'verbose' argument is deprecated and will be removed in a future release of LightGBM. \"\n"
     ]
    },
    {
     "name": "stdout",
     "output_type": "stream",
     "text": [
      "[20]\tvalid_0's l2: 569.97\tvalid_1's l2: 2580.59\n",
      "[40]\tvalid_0's l2: 627.213\tvalid_1's l2: 2496.54\n",
      "[60]\tvalid_0's l2: 581.121\tvalid_1's l2: 2440.66\n",
      "[80]\tvalid_0's l2: 541.295\tvalid_1's l2: 2395.48\n",
      "[100]\tvalid_0's l2: 527.247\tvalid_1's l2: 2357.11\n"
     ]
    },
    {
     "name": "stderr",
     "output_type": "stream",
     "text": [
      "/opt/conda/lib/python3.7/site-packages/lightgbm/sklearn.py:736: UserWarning: 'verbose' argument is deprecated and will be removed in a future release of LightGBM. Pass 'log_evaluation()' callback via 'callbacks' argument instead.\n",
      "  _log_warning(\"'verbose' argument is deprecated and will be removed in a future release of LightGBM. \"\n"
     ]
    },
    {
     "name": "stdout",
     "output_type": "stream",
     "text": [
      "[20]\tvalid_0's l2: 459.29\tvalid_1's l2: 2586.06\n",
      "[40]\tvalid_0's l2: 661.484\tvalid_1's l2: 2497.25\n",
      "[60]\tvalid_0's l2: 630.703\tvalid_1's l2: 2448.58\n",
      "[80]\tvalid_0's l2: 613.194\tvalid_1's l2: 2401.14\n",
      "[100]\tvalid_0's l2: 509.271\tvalid_1's l2: 2358.04\n"
     ]
    },
    {
     "name": "stderr",
     "output_type": "stream",
     "text": [
      "/opt/conda/lib/python3.7/site-packages/lightgbm/sklearn.py:736: UserWarning: 'verbose' argument is deprecated and will be removed in a future release of LightGBM. Pass 'log_evaluation()' callback via 'callbacks' argument instead.\n",
      "  _log_warning(\"'verbose' argument is deprecated and will be removed in a future release of LightGBM. \"\n"
     ]
    },
    {
     "name": "stdout",
     "output_type": "stream",
     "text": [
      "[20]\tvalid_0's l2: 417.248\tvalid_1's l2: 2601.58\n",
      "[40]\tvalid_0's l2: 556.229\tvalid_1's l2: 2519.76\n",
      "[60]\tvalid_0's l2: 537.313\tvalid_1's l2: 2462.09\n",
      "[80]\tvalid_0's l2: 487.272\tvalid_1's l2: 2415.9\n",
      "[100]\tvalid_0's l2: 456.109\tvalid_1's l2: 2382.34\n"
     ]
    },
    {
     "name": "stderr",
     "output_type": "stream",
     "text": [
      "/opt/conda/lib/python3.7/site-packages/lightgbm/sklearn.py:736: UserWarning: 'verbose' argument is deprecated and will be removed in a future release of LightGBM. Pass 'log_evaluation()' callback via 'callbacks' argument instead.\n",
      "  _log_warning(\"'verbose' argument is deprecated and will be removed in a future release of LightGBM. \"\n"
     ]
    },
    {
     "name": "stdout",
     "output_type": "stream",
     "text": [
      "[20]\tvalid_0's l2: 278.581\tvalid_1's l2: 2639.88\n",
      "[40]\tvalid_0's l2: 317.261\tvalid_1's l2: 2596.16\n",
      "[60]\tvalid_0's l2: 275.233\tvalid_1's l2: 2558.68\n",
      "[80]\tvalid_0's l2: 251.722\tvalid_1's l2: 2532.26\n",
      "[100]\tvalid_0's l2: 242.995\tvalid_1's l2: 2510.12\n"
     ]
    },
    {
     "name": "stderr",
     "output_type": "stream",
     "text": [
      "/opt/conda/lib/python3.7/site-packages/lightgbm/sklearn.py:736: UserWarning: 'verbose' argument is deprecated and will be removed in a future release of LightGBM. Pass 'log_evaluation()' callback via 'callbacks' argument instead.\n",
      "  _log_warning(\"'verbose' argument is deprecated and will be removed in a future release of LightGBM. \"\n"
     ]
    },
    {
     "name": "stdout",
     "output_type": "stream",
     "text": [
      "[20]\tvalid_0's l2: 338.851\tvalid_1's l2: 2612.48\n",
      "[40]\tvalid_0's l2: 476.521\tvalid_1's l2: 2556.38\n",
      "[60]\tvalid_0's l2: 466.928\tvalid_1's l2: 2509.82\n",
      "[80]\tvalid_0's l2: 421.759\tvalid_1's l2: 2469.05\n",
      "[100]\tvalid_0's l2: 402.002\tvalid_1's l2: 2428.32\n"
     ]
    },
    {
     "name": "stderr",
     "output_type": "stream",
     "text": [
      "/opt/conda/lib/python3.7/site-packages/lightgbm/sklearn.py:736: UserWarning: 'verbose' argument is deprecated and will be removed in a future release of LightGBM. Pass 'log_evaluation()' callback via 'callbacks' argument instead.\n",
      "  _log_warning(\"'verbose' argument is deprecated and will be removed in a future release of LightGBM. \"\n"
     ]
    },
    {
     "name": "stdout",
     "output_type": "stream",
     "text": [
      "[20]\tvalid_0's l2: 571.441\tvalid_1's l2: 2580.3\n",
      "[40]\tvalid_0's l2: 628.096\tvalid_1's l2: 2496.18\n",
      "[60]\tvalid_0's l2: 581.483\tvalid_1's l2: 2440.22\n",
      "[80]\tvalid_0's l2: 541.334\tvalid_1's l2: 2394.99\n",
      "[100]\tvalid_0's l2: 498.489\tvalid_1's l2: 2355.66\n"
     ]
    },
    {
     "name": "stderr",
     "output_type": "stream",
     "text": [
      "/opt/conda/lib/python3.7/site-packages/lightgbm/sklearn.py:736: UserWarning: 'verbose' argument is deprecated and will be removed in a future release of LightGBM. Pass 'log_evaluation()' callback via 'callbacks' argument instead.\n",
      "  _log_warning(\"'verbose' argument is deprecated and will be removed in a future release of LightGBM. \"\n"
     ]
    },
    {
     "name": "stdout",
     "output_type": "stream",
     "text": [
      "[20]\tvalid_0's l2: 460.68\tvalid_1's l2: 2585.62\n",
      "[40]\tvalid_0's l2: 662.604\tvalid_1's l2: 2496.89\n",
      "[60]\tvalid_0's l2: 631.231\tvalid_1's l2: 2448.16\n",
      "[80]\tvalid_0's l2: 613.578\tvalid_1's l2: 2400.66\n",
      "[100]\tvalid_0's l2: 509.166\tvalid_1's l2: 2357.51\n"
     ]
    },
    {
     "name": "stderr",
     "output_type": "stream",
     "text": [
      "/opt/conda/lib/python3.7/site-packages/lightgbm/sklearn.py:736: UserWarning: 'verbose' argument is deprecated and will be removed in a future release of LightGBM. Pass 'log_evaluation()' callback via 'callbacks' argument instead.\n",
      "  _log_warning(\"'verbose' argument is deprecated and will be removed in a future release of LightGBM. \"\n"
     ]
    },
    {
     "name": "stdout",
     "output_type": "stream",
     "text": [
      "[20]\tvalid_0's l2: 418.371\tvalid_1's l2: 2601.18\n",
      "[40]\tvalid_0's l2: 557.193\tvalid_1's l2: 2519.28\n",
      "[60]\tvalid_0's l2: 524.755\tvalid_1's l2: 2461.45\n",
      "[80]\tvalid_0's l2: 497.037\tvalid_1's l2: 2416.88\n",
      "[100]\tvalid_0's l2: 452.731\tvalid_1's l2: 2380.34\n"
     ]
    },
    {
     "name": "stderr",
     "output_type": "stream",
     "text": [
      "/opt/conda/lib/python3.7/site-packages/lightgbm/sklearn.py:736: UserWarning: 'verbose' argument is deprecated and will be removed in a future release of LightGBM. Pass 'log_evaluation()' callback via 'callbacks' argument instead.\n",
      "  _log_warning(\"'verbose' argument is deprecated and will be removed in a future release of LightGBM. \"\n"
     ]
    },
    {
     "name": "stdout",
     "output_type": "stream",
     "text": [
      "[20]\tvalid_0's l2: 279.118\tvalid_1's l2: 2639.65\n",
      "[40]\tvalid_0's l2: 317.528\tvalid_1's l2: 2595.95\n",
      "[60]\tvalid_0's l2: 275.255\tvalid_1's l2: 2558.45\n",
      "[80]\tvalid_0's l2: 265.68\tvalid_1's l2: 2531.6\n",
      "[100]\tvalid_0's l2: 253.068\tvalid_1's l2: 2509\n"
     ]
    },
    {
     "name": "stderr",
     "output_type": "stream",
     "text": [
      "/opt/conda/lib/python3.7/site-packages/lightgbm/sklearn.py:736: UserWarning: 'verbose' argument is deprecated and will be removed in a future release of LightGBM. Pass 'log_evaluation()' callback via 'callbacks' argument instead.\n",
      "  _log_warning(\"'verbose' argument is deprecated and will be removed in a future release of LightGBM. \"\n"
     ]
    },
    {
     "name": "stdout",
     "output_type": "stream",
     "text": [
      "[20]\tvalid_0's l2: 338.851\tvalid_1's l2: 2612.48\n",
      "[40]\tvalid_0's l2: 476.521\tvalid_1's l2: 2556.38\n",
      "[60]\tvalid_0's l2: 466.928\tvalid_1's l2: 2509.82\n",
      "[80]\tvalid_0's l2: 421.759\tvalid_1's l2: 2469.05\n",
      "[100]\tvalid_0's l2: 402.002\tvalid_1's l2: 2428.32\n"
     ]
    },
    {
     "name": "stderr",
     "output_type": "stream",
     "text": [
      "/opt/conda/lib/python3.7/site-packages/lightgbm/sklearn.py:736: UserWarning: 'verbose' argument is deprecated and will be removed in a future release of LightGBM. Pass 'log_evaluation()' callback via 'callbacks' argument instead.\n",
      "  _log_warning(\"'verbose' argument is deprecated and will be removed in a future release of LightGBM. \"\n"
     ]
    },
    {
     "name": "stdout",
     "output_type": "stream",
     "text": [
      "[20]\tvalid_0's l2: 571.441\tvalid_1's l2: 2580.3\n",
      "[40]\tvalid_0's l2: 628.096\tvalid_1's l2: 2496.18\n",
      "[60]\tvalid_0's l2: 581.483\tvalid_1's l2: 2440.22\n",
      "[80]\tvalid_0's l2: 541.334\tvalid_1's l2: 2394.99\n",
      "[100]\tvalid_0's l2: 498.489\tvalid_1's l2: 2355.66\n"
     ]
    },
    {
     "name": "stderr",
     "output_type": "stream",
     "text": [
      "/opt/conda/lib/python3.7/site-packages/lightgbm/sklearn.py:736: UserWarning: 'verbose' argument is deprecated and will be removed in a future release of LightGBM. Pass 'log_evaluation()' callback via 'callbacks' argument instead.\n",
      "  _log_warning(\"'verbose' argument is deprecated and will be removed in a future release of LightGBM. \"\n"
     ]
    },
    {
     "name": "stdout",
     "output_type": "stream",
     "text": [
      "[20]\tvalid_0's l2: 460.68\tvalid_1's l2: 2585.62\n",
      "[40]\tvalid_0's l2: 662.604\tvalid_1's l2: 2496.89\n",
      "[60]\tvalid_0's l2: 631.231\tvalid_1's l2: 2448.16\n",
      "[80]\tvalid_0's l2: 613.578\tvalid_1's l2: 2400.66\n",
      "[100]\tvalid_0's l2: 509.166\tvalid_1's l2: 2357.51\n"
     ]
    },
    {
     "name": "stderr",
     "output_type": "stream",
     "text": [
      "/opt/conda/lib/python3.7/site-packages/lightgbm/sklearn.py:736: UserWarning: 'verbose' argument is deprecated and will be removed in a future release of LightGBM. Pass 'log_evaluation()' callback via 'callbacks' argument instead.\n",
      "  _log_warning(\"'verbose' argument is deprecated and will be removed in a future release of LightGBM. \"\n"
     ]
    },
    {
     "name": "stdout",
     "output_type": "stream",
     "text": [
      "[20]\tvalid_0's l2: 418.371\tvalid_1's l2: 2601.18\n",
      "[40]\tvalid_0's l2: 557.193\tvalid_1's l2: 2519.28\n",
      "[60]\tvalid_0's l2: 524.755\tvalid_1's l2: 2461.45\n",
      "[80]\tvalid_0's l2: 497.037\tvalid_1's l2: 2416.88\n",
      "[100]\tvalid_0's l2: 452.731\tvalid_1's l2: 2380.34\n"
     ]
    },
    {
     "name": "stderr",
     "output_type": "stream",
     "text": [
      "/opt/conda/lib/python3.7/site-packages/lightgbm/sklearn.py:736: UserWarning: 'verbose' argument is deprecated and will be removed in a future release of LightGBM. Pass 'log_evaluation()' callback via 'callbacks' argument instead.\n",
      "  _log_warning(\"'verbose' argument is deprecated and will be removed in a future release of LightGBM. \"\n"
     ]
    },
    {
     "name": "stdout",
     "output_type": "stream",
     "text": [
      "[20]\tvalid_0's l2: 279.118\tvalid_1's l2: 2639.65\n",
      "[40]\tvalid_0's l2: 317.528\tvalid_1's l2: 2595.95\n",
      "[60]\tvalid_0's l2: 275.255\tvalid_1's l2: 2558.45\n",
      "[80]\tvalid_0's l2: 265.68\tvalid_1's l2: 2531.6\n",
      "[100]\tvalid_0's l2: 253.068\tvalid_1's l2: 2509\n"
     ]
    },
    {
     "name": "stderr",
     "output_type": "stream",
     "text": [
      "/opt/conda/lib/python3.7/site-packages/lightgbm/sklearn.py:736: UserWarning: 'verbose' argument is deprecated and will be removed in a future release of LightGBM. Pass 'log_evaluation()' callback via 'callbacks' argument instead.\n",
      "  _log_warning(\"'verbose' argument is deprecated and will be removed in a future release of LightGBM. \"\n"
     ]
    },
    {
     "name": "stdout",
     "output_type": "stream",
     "text": [
      "[20]\tvalid_0's l2: 337.957\tvalid_1's l2: 2612.87\n",
      "[40]\tvalid_0's l2: 485.32\tvalid_1's l2: 2556.71\n",
      "[60]\tvalid_0's l2: 458.824\tvalid_1's l2: 2507.83\n",
      "[80]\tvalid_0's l2: 375.162\tvalid_1's l2: 2463.04\n",
      "[100]\tvalid_0's l2: 362.035\tvalid_1's l2: 2425.77\n"
     ]
    },
    {
     "name": "stderr",
     "output_type": "stream",
     "text": [
      "/opt/conda/lib/python3.7/site-packages/lightgbm/sklearn.py:736: UserWarning: 'verbose' argument is deprecated and will be removed in a future release of LightGBM. Pass 'log_evaluation()' callback via 'callbacks' argument instead.\n",
      "  _log_warning(\"'verbose' argument is deprecated and will be removed in a future release of LightGBM. \"\n"
     ]
    },
    {
     "name": "stdout",
     "output_type": "stream",
     "text": [
      "[20]\tvalid_0's l2: 569.86\tvalid_1's l2: 2580.63\n",
      "[40]\tvalid_0's l2: 627.124\tvalid_1's l2: 2496.61\n",
      "[60]\tvalid_0's l2: 581.079\tvalid_1's l2: 2440.74\n",
      "[80]\tvalid_0's l2: 541.3\tvalid_1's l2: 2395.59\n",
      "[100]\tvalid_0's l2: 527.222\tvalid_1's l2: 2357.24\n"
     ]
    },
    {
     "name": "stderr",
     "output_type": "stream",
     "text": [
      "/opt/conda/lib/python3.7/site-packages/lightgbm/sklearn.py:736: UserWarning: 'verbose' argument is deprecated and will be removed in a future release of LightGBM. Pass 'log_evaluation()' callback via 'callbacks' argument instead.\n",
      "  _log_warning(\"'verbose' argument is deprecated and will be removed in a future release of LightGBM. \"\n"
     ]
    },
    {
     "name": "stdout",
     "output_type": "stream",
     "text": [
      "[20]\tvalid_0's l2: 459.227\tvalid_1's l2: 2586.11\n",
      "[40]\tvalid_0's l2: 661.378\tvalid_1's l2: 2497.31\n",
      "[60]\tvalid_0's l2: 630.645\tvalid_1's l2: 2448.66\n",
      "[80]\tvalid_0's l2: 613.202\tvalid_1's l2: 2401.24\n",
      "[100]\tvalid_0's l2: 509.388\tvalid_1's l2: 2358.16\n"
     ]
    },
    {
     "name": "stderr",
     "output_type": "stream",
     "text": [
      "/opt/conda/lib/python3.7/site-packages/lightgbm/sklearn.py:736: UserWarning: 'verbose' argument is deprecated and will be removed in a future release of LightGBM. Pass 'log_evaluation()' callback via 'callbacks' argument instead.\n",
      "  _log_warning(\"'verbose' argument is deprecated and will be removed in a future release of LightGBM. \"\n"
     ]
    },
    {
     "name": "stdout",
     "output_type": "stream",
     "text": [
      "[20]\tvalid_0's l2: 417.129\tvalid_1's l2: 2601.63\n",
      "[40]\tvalid_0's l2: 558.416\tvalid_1's l2: 2520.39\n",
      "[60]\tvalid_0's l2: 525.488\tvalid_1's l2: 2462.62\n",
      "[80]\tvalid_0's l2: 434.623\tvalid_1's l2: 2419.73\n",
      "[100]\tvalid_0's l2: 399.31\tvalid_1's l2: 2384.65\n"
     ]
    },
    {
     "name": "stderr",
     "output_type": "stream",
     "text": [
      "/opt/conda/lib/python3.7/site-packages/lightgbm/sklearn.py:736: UserWarning: 'verbose' argument is deprecated and will be removed in a future release of LightGBM. Pass 'log_evaluation()' callback via 'callbacks' argument instead.\n",
      "  _log_warning(\"'verbose' argument is deprecated and will be removed in a future release of LightGBM. \"\n"
     ]
    },
    {
     "name": "stdout",
     "output_type": "stream",
     "text": [
      "[20]\tvalid_0's l2: 278.509\tvalid_1's l2: 2639.92\n",
      "[40]\tvalid_0's l2: 317.198\tvalid_1's l2: 2596.22\n",
      "[60]\tvalid_0's l2: 275.263\tvalid_1's l2: 2558.77\n",
      "[80]\tvalid_0's l2: 257.705\tvalid_1's l2: 2530.88\n",
      "[100]\tvalid_0's l2: 242.247\tvalid_1's l2: 2510.51\n"
     ]
    },
    {
     "name": "stderr",
     "output_type": "stream",
     "text": [
      "/opt/conda/lib/python3.7/site-packages/lightgbm/sklearn.py:736: UserWarning: 'verbose' argument is deprecated and will be removed in a future release of LightGBM. Pass 'log_evaluation()' callback via 'callbacks' argument instead.\n",
      "  _log_warning(\"'verbose' argument is deprecated and will be removed in a future release of LightGBM. \"\n"
     ]
    },
    {
     "name": "stdout",
     "output_type": "stream",
     "text": [
      "[20]\tvalid_0's l2: 337.957\tvalid_1's l2: 2612.87\n",
      "[40]\tvalid_0's l2: 485.32\tvalid_1's l2: 2556.71\n",
      "[60]\tvalid_0's l2: 458.824\tvalid_1's l2: 2507.83\n",
      "[80]\tvalid_0's l2: 375.162\tvalid_1's l2: 2463.04\n",
      "[100]\tvalid_0's l2: 362.035\tvalid_1's l2: 2425.77\n"
     ]
    },
    {
     "name": "stderr",
     "output_type": "stream",
     "text": [
      "/opt/conda/lib/python3.7/site-packages/lightgbm/sklearn.py:736: UserWarning: 'verbose' argument is deprecated and will be removed in a future release of LightGBM. Pass 'log_evaluation()' callback via 'callbacks' argument instead.\n",
      "  _log_warning(\"'verbose' argument is deprecated and will be removed in a future release of LightGBM. \"\n"
     ]
    },
    {
     "name": "stdout",
     "output_type": "stream",
     "text": [
      "[20]\tvalid_0's l2: 569.86\tvalid_1's l2: 2580.63\n",
      "[40]\tvalid_0's l2: 627.124\tvalid_1's l2: 2496.61\n",
      "[60]\tvalid_0's l2: 581.079\tvalid_1's l2: 2440.74\n",
      "[80]\tvalid_0's l2: 541.3\tvalid_1's l2: 2395.59\n",
      "[100]\tvalid_0's l2: 527.222\tvalid_1's l2: 2357.24\n"
     ]
    },
    {
     "name": "stderr",
     "output_type": "stream",
     "text": [
      "/opt/conda/lib/python3.7/site-packages/lightgbm/sklearn.py:736: UserWarning: 'verbose' argument is deprecated and will be removed in a future release of LightGBM. Pass 'log_evaluation()' callback via 'callbacks' argument instead.\n",
      "  _log_warning(\"'verbose' argument is deprecated and will be removed in a future release of LightGBM. \"\n"
     ]
    },
    {
     "name": "stdout",
     "output_type": "stream",
     "text": [
      "[20]\tvalid_0's l2: 459.227\tvalid_1's l2: 2586.11\n",
      "[40]\tvalid_0's l2: 661.378\tvalid_1's l2: 2497.31\n",
      "[60]\tvalid_0's l2: 630.645\tvalid_1's l2: 2448.66\n",
      "[80]\tvalid_0's l2: 613.202\tvalid_1's l2: 2401.24\n",
      "[100]\tvalid_0's l2: 509.388\tvalid_1's l2: 2358.16\n"
     ]
    },
    {
     "name": "stderr",
     "output_type": "stream",
     "text": [
      "/opt/conda/lib/python3.7/site-packages/lightgbm/sklearn.py:736: UserWarning: 'verbose' argument is deprecated and will be removed in a future release of LightGBM. Pass 'log_evaluation()' callback via 'callbacks' argument instead.\n",
      "  _log_warning(\"'verbose' argument is deprecated and will be removed in a future release of LightGBM. \"\n"
     ]
    },
    {
     "name": "stdout",
     "output_type": "stream",
     "text": [
      "[20]\tvalid_0's l2: 417.129\tvalid_1's l2: 2601.63\n",
      "[40]\tvalid_0's l2: 558.416\tvalid_1's l2: 2520.39\n",
      "[60]\tvalid_0's l2: 525.488\tvalid_1's l2: 2462.62\n",
      "[80]\tvalid_0's l2: 434.623\tvalid_1's l2: 2419.73\n",
      "[100]\tvalid_0's l2: 399.31\tvalid_1's l2: 2384.65\n"
     ]
    },
    {
     "name": "stderr",
     "output_type": "stream",
     "text": [
      "/opt/conda/lib/python3.7/site-packages/lightgbm/sklearn.py:736: UserWarning: 'verbose' argument is deprecated and will be removed in a future release of LightGBM. Pass 'log_evaluation()' callback via 'callbacks' argument instead.\n",
      "  _log_warning(\"'verbose' argument is deprecated and will be removed in a future release of LightGBM. \"\n"
     ]
    },
    {
     "name": "stdout",
     "output_type": "stream",
     "text": [
      "[20]\tvalid_0's l2: 278.509\tvalid_1's l2: 2639.92\n",
      "[40]\tvalid_0's l2: 317.198\tvalid_1's l2: 2596.22\n",
      "[60]\tvalid_0's l2: 275.263\tvalid_1's l2: 2558.77\n",
      "[80]\tvalid_0's l2: 257.705\tvalid_1's l2: 2530.88\n",
      "[100]\tvalid_0's l2: 242.247\tvalid_1's l2: 2510.51\n"
     ]
    },
    {
     "name": "stderr",
     "output_type": "stream",
     "text": [
      "/opt/conda/lib/python3.7/site-packages/lightgbm/sklearn.py:736: UserWarning: 'verbose' argument is deprecated and will be removed in a future release of LightGBM. Pass 'log_evaluation()' callback via 'callbacks' argument instead.\n",
      "  _log_warning(\"'verbose' argument is deprecated and will be removed in a future release of LightGBM. \"\n"
     ]
    },
    {
     "name": "stdout",
     "output_type": "stream",
     "text": [
      "[20]\tvalid_0's l2: 839.629\tvalid_1's l2: 2454.66\n",
      "[40]\tvalid_0's l2: 717.467\tvalid_1's l2: 2341.11\n",
      "[60]\tvalid_0's l2: 600.819\tvalid_1's l2: 2252.84\n",
      "[80]\tvalid_0's l2: 521.984\tvalid_1's l2: 2184.69\n",
      "[100]\tvalid_0's l2: 468.574\tvalid_1's l2: 2128.74\n"
     ]
    },
    {
     "name": "stderr",
     "output_type": "stream",
     "text": [
      "/opt/conda/lib/python3.7/site-packages/lightgbm/sklearn.py:736: UserWarning: 'verbose' argument is deprecated and will be removed in a future release of LightGBM. Pass 'log_evaluation()' callback via 'callbacks' argument instead.\n",
      "  _log_warning(\"'verbose' argument is deprecated and will be removed in a future release of LightGBM. \"\n"
     ]
    },
    {
     "name": "stdout",
     "output_type": "stream",
     "text": [
      "[20]\tvalid_0's l2: 109.517\tvalid_1's l2: 2431.59\n",
      "[40]\tvalid_0's l2: 131.549\tvalid_1's l2: 2301.35\n",
      "[60]\tvalid_0's l2: 131.09\tvalid_1's l2: 2206.98\n",
      "[80]\tvalid_0's l2: 203.681\tvalid_1's l2: 2121.51\n",
      "[100]\tvalid_0's l2: 275.263\tvalid_1's l2: 2048\n"
     ]
    },
    {
     "name": "stderr",
     "output_type": "stream",
     "text": [
      "/opt/conda/lib/python3.7/site-packages/lightgbm/sklearn.py:736: UserWarning: 'verbose' argument is deprecated and will be removed in a future release of LightGBM. Pass 'log_evaluation()' callback via 'callbacks' argument instead.\n",
      "  _log_warning(\"'verbose' argument is deprecated and will be removed in a future release of LightGBM. \"\n"
     ]
    },
    {
     "name": "stdout",
     "output_type": "stream",
     "text": [
      "[20]\tvalid_0's l2: 189.465\tvalid_1's l2: 2439.16\n",
      "[40]\tvalid_0's l2: 157.979\tvalid_1's l2: 2286.98\n",
      "[60]\tvalid_0's l2: 160.81\tvalid_1's l2: 2182.12\n",
      "[80]\tvalid_0's l2: 172.647\tvalid_1's l2: 2100.11\n",
      "[100]\tvalid_0's l2: 189.506\tvalid_1's l2: 2029.17\n"
     ]
    },
    {
     "name": "stderr",
     "output_type": "stream",
     "text": [
      "/opt/conda/lib/python3.7/site-packages/lightgbm/sklearn.py:736: UserWarning: 'verbose' argument is deprecated and will be removed in a future release of LightGBM. Pass 'log_evaluation()' callback via 'callbacks' argument instead.\n",
      "  _log_warning(\"'verbose' argument is deprecated and will be removed in a future release of LightGBM. \"\n"
     ]
    },
    {
     "name": "stdout",
     "output_type": "stream",
     "text": [
      "[20]\tvalid_0's l2: 323.202\tvalid_1's l2: 2454.44\n",
      "[40]\tvalid_0's l2: 233.931\tvalid_1's l2: 2327.3\n",
      "[60]\tvalid_0's l2: 214.417\tvalid_1's l2: 2226.75\n",
      "[80]\tvalid_0's l2: 210.422\tvalid_1's l2: 2139.37\n",
      "[100]\tvalid_0's l2: 196.789\tvalid_1's l2: 2070.98\n"
     ]
    },
    {
     "name": "stderr",
     "output_type": "stream",
     "text": [
      "/opt/conda/lib/python3.7/site-packages/lightgbm/sklearn.py:736: UserWarning: 'verbose' argument is deprecated and will be removed in a future release of LightGBM. Pass 'log_evaluation()' callback via 'callbacks' argument instead.\n",
      "  _log_warning(\"'verbose' argument is deprecated and will be removed in a future release of LightGBM. \"\n"
     ]
    },
    {
     "name": "stdout",
     "output_type": "stream",
     "text": [
      "[20]\tvalid_0's l2: 467.912\tvalid_1's l2: 2534.9\n",
      "[40]\tvalid_0's l2: 432.65\tvalid_1's l2: 2445.46\n",
      "[60]\tvalid_0's l2: 338.219\tvalid_1's l2: 2382.11\n",
      "[80]\tvalid_0's l2: 338.768\tvalid_1's l2: 2320.03\n",
      "[100]\tvalid_0's l2: 298.274\tvalid_1's l2: 2274.48\n"
     ]
    },
    {
     "name": "stderr",
     "output_type": "stream",
     "text": [
      "/opt/conda/lib/python3.7/site-packages/lightgbm/sklearn.py:736: UserWarning: 'verbose' argument is deprecated and will be removed in a future release of LightGBM. Pass 'log_evaluation()' callback via 'callbacks' argument instead.\n",
      "  _log_warning(\"'verbose' argument is deprecated and will be removed in a future release of LightGBM. \"\n"
     ]
    },
    {
     "name": "stdout",
     "output_type": "stream",
     "text": [
      "[20]\tvalid_0's l2: 839.629\tvalid_1's l2: 2454.66\n",
      "[40]\tvalid_0's l2: 717.467\tvalid_1's l2: 2341.11\n",
      "[60]\tvalid_0's l2: 600.819\tvalid_1's l2: 2252.84\n",
      "[80]\tvalid_0's l2: 521.984\tvalid_1's l2: 2184.69\n",
      "[100]\tvalid_0's l2: 468.574\tvalid_1's l2: 2128.74\n"
     ]
    },
    {
     "name": "stderr",
     "output_type": "stream",
     "text": [
      "/opt/conda/lib/python3.7/site-packages/lightgbm/sklearn.py:736: UserWarning: 'verbose' argument is deprecated and will be removed in a future release of LightGBM. Pass 'log_evaluation()' callback via 'callbacks' argument instead.\n",
      "  _log_warning(\"'verbose' argument is deprecated and will be removed in a future release of LightGBM. \"\n"
     ]
    },
    {
     "name": "stdout",
     "output_type": "stream",
     "text": [
      "[20]\tvalid_0's l2: 109.517\tvalid_1's l2: 2431.59\n",
      "[40]\tvalid_0's l2: 131.549\tvalid_1's l2: 2301.35\n",
      "[60]\tvalid_0's l2: 131.09\tvalid_1's l2: 2206.98\n",
      "[80]\tvalid_0's l2: 203.681\tvalid_1's l2: 2121.51\n",
      "[100]\tvalid_0's l2: 275.263\tvalid_1's l2: 2048\n"
     ]
    },
    {
     "name": "stderr",
     "output_type": "stream",
     "text": [
      "/opt/conda/lib/python3.7/site-packages/lightgbm/sklearn.py:736: UserWarning: 'verbose' argument is deprecated and will be removed in a future release of LightGBM. Pass 'log_evaluation()' callback via 'callbacks' argument instead.\n",
      "  _log_warning(\"'verbose' argument is deprecated and will be removed in a future release of LightGBM. \"\n"
     ]
    },
    {
     "name": "stdout",
     "output_type": "stream",
     "text": [
      "[20]\tvalid_0's l2: 189.465\tvalid_1's l2: 2439.16\n",
      "[40]\tvalid_0's l2: 157.979\tvalid_1's l2: 2286.98\n",
      "[60]\tvalid_0's l2: 160.81\tvalid_1's l2: 2182.12\n",
      "[80]\tvalid_0's l2: 172.647\tvalid_1's l2: 2100.11\n",
      "[100]\tvalid_0's l2: 189.506\tvalid_1's l2: 2029.17\n"
     ]
    },
    {
     "name": "stderr",
     "output_type": "stream",
     "text": [
      "/opt/conda/lib/python3.7/site-packages/lightgbm/sklearn.py:736: UserWarning: 'verbose' argument is deprecated and will be removed in a future release of LightGBM. Pass 'log_evaluation()' callback via 'callbacks' argument instead.\n",
      "  _log_warning(\"'verbose' argument is deprecated and will be removed in a future release of LightGBM. \"\n"
     ]
    },
    {
     "name": "stdout",
     "output_type": "stream",
     "text": [
      "[20]\tvalid_0's l2: 323.202\tvalid_1's l2: 2454.44\n",
      "[40]\tvalid_0's l2: 233.931\tvalid_1's l2: 2327.3\n",
      "[60]\tvalid_0's l2: 214.417\tvalid_1's l2: 2226.75\n",
      "[80]\tvalid_0's l2: 210.422\tvalid_1's l2: 2139.37\n",
      "[100]\tvalid_0's l2: 196.789\tvalid_1's l2: 2070.98\n"
     ]
    },
    {
     "name": "stderr",
     "output_type": "stream",
     "text": [
      "/opt/conda/lib/python3.7/site-packages/lightgbm/sklearn.py:736: UserWarning: 'verbose' argument is deprecated and will be removed in a future release of LightGBM. Pass 'log_evaluation()' callback via 'callbacks' argument instead.\n",
      "  _log_warning(\"'verbose' argument is deprecated and will be removed in a future release of LightGBM. \"\n"
     ]
    },
    {
     "name": "stdout",
     "output_type": "stream",
     "text": [
      "[20]\tvalid_0's l2: 467.912\tvalid_1's l2: 2534.9\n",
      "[40]\tvalid_0's l2: 432.65\tvalid_1's l2: 2445.46\n",
      "[60]\tvalid_0's l2: 338.219\tvalid_1's l2: 2382.11\n",
      "[80]\tvalid_0's l2: 338.768\tvalid_1's l2: 2320.03\n",
      "[100]\tvalid_0's l2: 298.274\tvalid_1's l2: 2274.48\n"
     ]
    },
    {
     "name": "stderr",
     "output_type": "stream",
     "text": [
      "/opt/conda/lib/python3.7/site-packages/lightgbm/sklearn.py:736: UserWarning: 'verbose' argument is deprecated and will be removed in a future release of LightGBM. Pass 'log_evaluation()' callback via 'callbacks' argument instead.\n",
      "  _log_warning(\"'verbose' argument is deprecated and will be removed in a future release of LightGBM. \"\n"
     ]
    },
    {
     "name": "stdout",
     "output_type": "stream",
     "text": [
      "[20]\tvalid_0's l2: 837.946\tvalid_1's l2: 2454.36\n",
      "[40]\tvalid_0's l2: 723.53\tvalid_1's l2: 2338.96\n",
      "[60]\tvalid_0's l2: 555.028\tvalid_1's l2: 2250.98\n",
      "[80]\tvalid_0's l2: 491.206\tvalid_1's l2: 2180.02\n",
      "[100]\tvalid_0's l2: 469.841\tvalid_1's l2: 2122.69\n"
     ]
    },
    {
     "name": "stderr",
     "output_type": "stream",
     "text": [
      "/opt/conda/lib/python3.7/site-packages/lightgbm/sklearn.py:736: UserWarning: 'verbose' argument is deprecated and will be removed in a future release of LightGBM. Pass 'log_evaluation()' callback via 'callbacks' argument instead.\n",
      "  _log_warning(\"'verbose' argument is deprecated and will be removed in a future release of LightGBM. \"\n"
     ]
    },
    {
     "name": "stdout",
     "output_type": "stream",
     "text": [
      "[20]\tvalid_0's l2: 112.818\tvalid_1's l2: 2433.04\n",
      "[40]\tvalid_0's l2: 81.5223\tvalid_1's l2: 2304.51\n",
      "[60]\tvalid_0's l2: 140.981\tvalid_1's l2: 2204.28\n",
      "[80]\tvalid_0's l2: 220.824\tvalid_1's l2: 2119.39\n",
      "[100]\tvalid_0's l2: 332.7\tvalid_1's l2: 2047.44\n"
     ]
    },
    {
     "name": "stderr",
     "output_type": "stream",
     "text": [
      "/opt/conda/lib/python3.7/site-packages/lightgbm/sklearn.py:736: UserWarning: 'verbose' argument is deprecated and will be removed in a future release of LightGBM. Pass 'log_evaluation()' callback via 'callbacks' argument instead.\n",
      "  _log_warning(\"'verbose' argument is deprecated and will be removed in a future release of LightGBM. \"\n"
     ]
    },
    {
     "name": "stdout",
     "output_type": "stream",
     "text": [
      "[20]\tvalid_0's l2: 210.742\tvalid_1's l2: 2439.74\n",
      "[40]\tvalid_0's l2: 192.368\tvalid_1's l2: 2295.38\n",
      "[60]\tvalid_0's l2: 160.555\tvalid_1's l2: 2190.65\n",
      "[80]\tvalid_0's l2: 189.18\tvalid_1's l2: 2107.69\n",
      "[100]\tvalid_0's l2: 167.555\tvalid_1's l2: 2045.5\n"
     ]
    },
    {
     "name": "stderr",
     "output_type": "stream",
     "text": [
      "/opt/conda/lib/python3.7/site-packages/lightgbm/sklearn.py:736: UserWarning: 'verbose' argument is deprecated and will be removed in a future release of LightGBM. Pass 'log_evaluation()' callback via 'callbacks' argument instead.\n",
      "  _log_warning(\"'verbose' argument is deprecated and will be removed in a future release of LightGBM. \"\n"
     ]
    },
    {
     "name": "stdout",
     "output_type": "stream",
     "text": [
      "[20]\tvalid_0's l2: 321.041\tvalid_1's l2: 2455.9\n",
      "[40]\tvalid_0's l2: 207.414\tvalid_1's l2: 2324.52\n",
      "[60]\tvalid_0's l2: 215.859\tvalid_1's l2: 2227.2\n",
      "[80]\tvalid_0's l2: 239.44\tvalid_1's l2: 2139.65\n",
      "[100]\tvalid_0's l2: 269.774\tvalid_1's l2: 2073.68\n"
     ]
    },
    {
     "name": "stderr",
     "output_type": "stream",
     "text": [
      "/opt/conda/lib/python3.7/site-packages/lightgbm/sklearn.py:736: UserWarning: 'verbose' argument is deprecated and will be removed in a future release of LightGBM. Pass 'log_evaluation()' callback via 'callbacks' argument instead.\n",
      "  _log_warning(\"'verbose' argument is deprecated and will be removed in a future release of LightGBM. \"\n"
     ]
    },
    {
     "name": "stdout",
     "output_type": "stream",
     "text": [
      "[20]\tvalid_0's l2: 463.591\tvalid_1's l2: 2534.69\n",
      "[40]\tvalid_0's l2: 474.794\tvalid_1's l2: 2451.65\n",
      "[60]\tvalid_0's l2: 437.086\tvalid_1's l2: 2371.46\n",
      "[80]\tvalid_0's l2: 386.519\tvalid_1's l2: 2319.71\n",
      "[100]\tvalid_0's l2: 383.172\tvalid_1's l2: 2266.94\n"
     ]
    },
    {
     "name": "stderr",
     "output_type": "stream",
     "text": [
      "/opt/conda/lib/python3.7/site-packages/lightgbm/sklearn.py:736: UserWarning: 'verbose' argument is deprecated and will be removed in a future release of LightGBM. Pass 'log_evaluation()' callback via 'callbacks' argument instead.\n",
      "  _log_warning(\"'verbose' argument is deprecated and will be removed in a future release of LightGBM. \"\n"
     ]
    },
    {
     "name": "stdout",
     "output_type": "stream",
     "text": [
      "[20]\tvalid_0's l2: 837.946\tvalid_1's l2: 2454.36\n",
      "[40]\tvalid_0's l2: 723.53\tvalid_1's l2: 2338.96\n",
      "[60]\tvalid_0's l2: 555.028\tvalid_1's l2: 2250.98\n",
      "[80]\tvalid_0's l2: 491.206\tvalid_1's l2: 2180.02\n",
      "[100]\tvalid_0's l2: 469.841\tvalid_1's l2: 2122.69\n"
     ]
    },
    {
     "name": "stderr",
     "output_type": "stream",
     "text": [
      "/opt/conda/lib/python3.7/site-packages/lightgbm/sklearn.py:736: UserWarning: 'verbose' argument is deprecated and will be removed in a future release of LightGBM. Pass 'log_evaluation()' callback via 'callbacks' argument instead.\n",
      "  _log_warning(\"'verbose' argument is deprecated and will be removed in a future release of LightGBM. \"\n"
     ]
    },
    {
     "name": "stdout",
     "output_type": "stream",
     "text": [
      "[20]\tvalid_0's l2: 112.818\tvalid_1's l2: 2433.04\n",
      "[40]\tvalid_0's l2: 81.5223\tvalid_1's l2: 2304.51\n",
      "[60]\tvalid_0's l2: 140.981\tvalid_1's l2: 2204.28\n",
      "[80]\tvalid_0's l2: 220.824\tvalid_1's l2: 2119.39\n",
      "[100]\tvalid_0's l2: 332.7\tvalid_1's l2: 2047.44\n"
     ]
    },
    {
     "name": "stderr",
     "output_type": "stream",
     "text": [
      "/opt/conda/lib/python3.7/site-packages/lightgbm/sklearn.py:736: UserWarning: 'verbose' argument is deprecated and will be removed in a future release of LightGBM. Pass 'log_evaluation()' callback via 'callbacks' argument instead.\n",
      "  _log_warning(\"'verbose' argument is deprecated and will be removed in a future release of LightGBM. \"\n"
     ]
    },
    {
     "name": "stdout",
     "output_type": "stream",
     "text": [
      "[20]\tvalid_0's l2: 210.742\tvalid_1's l2: 2439.74\n",
      "[40]\tvalid_0's l2: 192.368\tvalid_1's l2: 2295.38\n",
      "[60]\tvalid_0's l2: 160.555\tvalid_1's l2: 2190.65\n",
      "[80]\tvalid_0's l2: 189.18\tvalid_1's l2: 2107.69\n",
      "[100]\tvalid_0's l2: 167.555\tvalid_1's l2: 2045.5\n"
     ]
    },
    {
     "name": "stderr",
     "output_type": "stream",
     "text": [
      "/opt/conda/lib/python3.7/site-packages/lightgbm/sklearn.py:736: UserWarning: 'verbose' argument is deprecated and will be removed in a future release of LightGBM. Pass 'log_evaluation()' callback via 'callbacks' argument instead.\n",
      "  _log_warning(\"'verbose' argument is deprecated and will be removed in a future release of LightGBM. \"\n"
     ]
    },
    {
     "name": "stdout",
     "output_type": "stream",
     "text": [
      "[20]\tvalid_0's l2: 321.041\tvalid_1's l2: 2455.9\n",
      "[40]\tvalid_0's l2: 207.414\tvalid_1's l2: 2324.52\n",
      "[60]\tvalid_0's l2: 215.859\tvalid_1's l2: 2227.2\n",
      "[80]\tvalid_0's l2: 239.44\tvalid_1's l2: 2139.65\n",
      "[100]\tvalid_0's l2: 269.774\tvalid_1's l2: 2073.68\n"
     ]
    },
    {
     "name": "stderr",
     "output_type": "stream",
     "text": [
      "/opt/conda/lib/python3.7/site-packages/lightgbm/sklearn.py:736: UserWarning: 'verbose' argument is deprecated and will be removed in a future release of LightGBM. Pass 'log_evaluation()' callback via 'callbacks' argument instead.\n",
      "  _log_warning(\"'verbose' argument is deprecated and will be removed in a future release of LightGBM. \"\n"
     ]
    },
    {
     "name": "stdout",
     "output_type": "stream",
     "text": [
      "[20]\tvalid_0's l2: 463.591\tvalid_1's l2: 2534.69\n",
      "[40]\tvalid_0's l2: 474.794\tvalid_1's l2: 2451.65\n",
      "[60]\tvalid_0's l2: 437.086\tvalid_1's l2: 2371.46\n",
      "[80]\tvalid_0's l2: 386.519\tvalid_1's l2: 2319.71\n",
      "[100]\tvalid_0's l2: 383.172\tvalid_1's l2: 2266.94\n"
     ]
    },
    {
     "name": "stderr",
     "output_type": "stream",
     "text": [
      "/opt/conda/lib/python3.7/site-packages/lightgbm/sklearn.py:736: UserWarning: 'verbose' argument is deprecated and will be removed in a future release of LightGBM. Pass 'log_evaluation()' callback via 'callbacks' argument instead.\n",
      "  _log_warning(\"'verbose' argument is deprecated and will be removed in a future release of LightGBM. \"\n"
     ]
    },
    {
     "name": "stdout",
     "output_type": "stream",
     "text": [
      "[20]\tvalid_0's l2: 839.455\tvalid_1's l2: 2454.76\n",
      "[40]\tvalid_0's l2: 717.604\tvalid_1's l2: 2341.29\n",
      "[60]\tvalid_0's l2: 617.305\tvalid_1's l2: 2253.23\n",
      "[80]\tvalid_0's l2: 537.515\tvalid_1's l2: 2181.37\n",
      "[100]\tvalid_0's l2: 475.687\tvalid_1's l2: 2123.91\n"
     ]
    },
    {
     "name": "stderr",
     "output_type": "stream",
     "text": [
      "/opt/conda/lib/python3.7/site-packages/lightgbm/sklearn.py:736: UserWarning: 'verbose' argument is deprecated and will be removed in a future release of LightGBM. Pass 'log_evaluation()' callback via 'callbacks' argument instead.\n",
      "  _log_warning(\"'verbose' argument is deprecated and will be removed in a future release of LightGBM. \"\n"
     ]
    },
    {
     "name": "stdout",
     "output_type": "stream",
     "text": [
      "[20]\tvalid_0's l2: 109.558\tvalid_1's l2: 2431.68\n",
      "[40]\tvalid_0's l2: 131.509\tvalid_1's l2: 2301.5\n",
      "[60]\tvalid_0's l2: 130.984\tvalid_1's l2: 2207.18\n",
      "[80]\tvalid_0's l2: 203.395\tvalid_1's l2: 2121.76\n",
      "[100]\tvalid_0's l2: 273.634\tvalid_1's l2: 2053.81\n"
     ]
    },
    {
     "name": "stderr",
     "output_type": "stream",
     "text": [
      "/opt/conda/lib/python3.7/site-packages/lightgbm/sklearn.py:736: UserWarning: 'verbose' argument is deprecated and will be removed in a future release of LightGBM. Pass 'log_evaluation()' callback via 'callbacks' argument instead.\n",
      "  _log_warning(\"'verbose' argument is deprecated and will be removed in a future release of LightGBM. \"\n"
     ]
    },
    {
     "name": "stdout",
     "output_type": "stream",
     "text": [
      "[20]\tvalid_0's l2: 190.579\tvalid_1's l2: 2438.76\n",
      "[40]\tvalid_0's l2: 181.26\tvalid_1's l2: 2289.23\n",
      "[60]\tvalid_0's l2: 169.609\tvalid_1's l2: 2183.42\n",
      "[80]\tvalid_0's l2: 178.636\tvalid_1's l2: 2101.55\n",
      "[100]\tvalid_0's l2: 204.348\tvalid_1's l2: 2030.32\n"
     ]
    },
    {
     "name": "stderr",
     "output_type": "stream",
     "text": [
      "/opt/conda/lib/python3.7/site-packages/lightgbm/sklearn.py:736: UserWarning: 'verbose' argument is deprecated and will be removed in a future release of LightGBM. Pass 'log_evaluation()' callback via 'callbacks' argument instead.\n",
      "  _log_warning(\"'verbose' argument is deprecated and will be removed in a future release of LightGBM. \"\n"
     ]
    },
    {
     "name": "stdout",
     "output_type": "stream",
     "text": [
      "[20]\tvalid_0's l2: 323.096\tvalid_1's l2: 2454.54\n",
      "[40]\tvalid_0's l2: 218.592\tvalid_1's l2: 2328.65\n",
      "[60]\tvalid_0's l2: 241.28\tvalid_1's l2: 2227.66\n",
      "[80]\tvalid_0's l2: 217.22\tvalid_1's l2: 2140.01\n",
      "[100]\tvalid_0's l2: 258.812\tvalid_1's l2: 2067.25\n"
     ]
    },
    {
     "name": "stderr",
     "output_type": "stream",
     "text": [
      "/opt/conda/lib/python3.7/site-packages/lightgbm/sklearn.py:736: UserWarning: 'verbose' argument is deprecated and will be removed in a future release of LightGBM. Pass 'log_evaluation()' callback via 'callbacks' argument instead.\n",
      "  _log_warning(\"'verbose' argument is deprecated and will be removed in a future release of LightGBM. \"\n"
     ]
    },
    {
     "name": "stdout",
     "output_type": "stream",
     "text": [
      "[20]\tvalid_0's l2: 465.087\tvalid_1's l2: 2534.13\n",
      "[40]\tvalid_0's l2: 498.885\tvalid_1's l2: 2449.67\n",
      "[60]\tvalid_0's l2: 405.862\tvalid_1's l2: 2371.19\n",
      "[80]\tvalid_0's l2: 341.79\tvalid_1's l2: 2317.43\n",
      "[100]\tvalid_0's l2: 319.48\tvalid_1's l2: 2268.17\n"
     ]
    },
    {
     "name": "stderr",
     "output_type": "stream",
     "text": [
      "/opt/conda/lib/python3.7/site-packages/lightgbm/sklearn.py:736: UserWarning: 'verbose' argument is deprecated and will be removed in a future release of LightGBM. Pass 'log_evaluation()' callback via 'callbacks' argument instead.\n",
      "  _log_warning(\"'verbose' argument is deprecated and will be removed in a future release of LightGBM. \"\n"
     ]
    },
    {
     "name": "stdout",
     "output_type": "stream",
     "text": [
      "[20]\tvalid_0's l2: 839.455\tvalid_1's l2: 2454.76\n",
      "[40]\tvalid_0's l2: 717.604\tvalid_1's l2: 2341.29\n",
      "[60]\tvalid_0's l2: 617.305\tvalid_1's l2: 2253.23\n",
      "[80]\tvalid_0's l2: 537.515\tvalid_1's l2: 2181.37\n",
      "[100]\tvalid_0's l2: 475.687\tvalid_1's l2: 2123.91\n"
     ]
    },
    {
     "name": "stderr",
     "output_type": "stream",
     "text": [
      "/opt/conda/lib/python3.7/site-packages/lightgbm/sklearn.py:736: UserWarning: 'verbose' argument is deprecated and will be removed in a future release of LightGBM. Pass 'log_evaluation()' callback via 'callbacks' argument instead.\n",
      "  _log_warning(\"'verbose' argument is deprecated and will be removed in a future release of LightGBM. \"\n"
     ]
    },
    {
     "name": "stdout",
     "output_type": "stream",
     "text": [
      "[20]\tvalid_0's l2: 109.558\tvalid_1's l2: 2431.68\n",
      "[40]\tvalid_0's l2: 131.509\tvalid_1's l2: 2301.5\n",
      "[60]\tvalid_0's l2: 130.984\tvalid_1's l2: 2207.18\n",
      "[80]\tvalid_0's l2: 203.395\tvalid_1's l2: 2121.76\n",
      "[100]\tvalid_0's l2: 273.634\tvalid_1's l2: 2053.81\n"
     ]
    },
    {
     "name": "stderr",
     "output_type": "stream",
     "text": [
      "/opt/conda/lib/python3.7/site-packages/lightgbm/sklearn.py:736: UserWarning: 'verbose' argument is deprecated and will be removed in a future release of LightGBM. Pass 'log_evaluation()' callback via 'callbacks' argument instead.\n",
      "  _log_warning(\"'verbose' argument is deprecated and will be removed in a future release of LightGBM. \"\n"
     ]
    },
    {
     "name": "stdout",
     "output_type": "stream",
     "text": [
      "[20]\tvalid_0's l2: 190.579\tvalid_1's l2: 2438.76\n",
      "[40]\tvalid_0's l2: 181.26\tvalid_1's l2: 2289.23\n",
      "[60]\tvalid_0's l2: 169.609\tvalid_1's l2: 2183.42\n",
      "[80]\tvalid_0's l2: 178.636\tvalid_1's l2: 2101.55\n",
      "[100]\tvalid_0's l2: 204.348\tvalid_1's l2: 2030.32\n"
     ]
    },
    {
     "name": "stderr",
     "output_type": "stream",
     "text": [
      "/opt/conda/lib/python3.7/site-packages/lightgbm/sklearn.py:736: UserWarning: 'verbose' argument is deprecated and will be removed in a future release of LightGBM. Pass 'log_evaluation()' callback via 'callbacks' argument instead.\n",
      "  _log_warning(\"'verbose' argument is deprecated and will be removed in a future release of LightGBM. \"\n"
     ]
    },
    {
     "name": "stdout",
     "output_type": "stream",
     "text": [
      "[20]\tvalid_0's l2: 323.096\tvalid_1's l2: 2454.54\n",
      "[40]\tvalid_0's l2: 218.592\tvalid_1's l2: 2328.65\n",
      "[60]\tvalid_0's l2: 241.28\tvalid_1's l2: 2227.66\n",
      "[80]\tvalid_0's l2: 217.22\tvalid_1's l2: 2140.01\n",
      "[100]\tvalid_0's l2: 258.812\tvalid_1's l2: 2067.25\n"
     ]
    },
    {
     "name": "stderr",
     "output_type": "stream",
     "text": [
      "/opt/conda/lib/python3.7/site-packages/lightgbm/sklearn.py:736: UserWarning: 'verbose' argument is deprecated and will be removed in a future release of LightGBM. Pass 'log_evaluation()' callback via 'callbacks' argument instead.\n",
      "  _log_warning(\"'verbose' argument is deprecated and will be removed in a future release of LightGBM. \"\n"
     ]
    },
    {
     "name": "stdout",
     "output_type": "stream",
     "text": [
      "[20]\tvalid_0's l2: 465.087\tvalid_1's l2: 2534.13\n",
      "[40]\tvalid_0's l2: 498.885\tvalid_1's l2: 2449.67\n",
      "[60]\tvalid_0's l2: 405.862\tvalid_1's l2: 2371.19\n",
      "[80]\tvalid_0's l2: 341.79\tvalid_1's l2: 2317.43\n",
      "[100]\tvalid_0's l2: 319.48\tvalid_1's l2: 2268.17\n"
     ]
    },
    {
     "name": "stderr",
     "output_type": "stream",
     "text": [
      "/opt/conda/lib/python3.7/site-packages/lightgbm/sklearn.py:736: UserWarning: 'verbose' argument is deprecated and will be removed in a future release of LightGBM. Pass 'log_evaluation()' callback via 'callbacks' argument instead.\n",
      "  _log_warning(\"'verbose' argument is deprecated and will be removed in a future release of LightGBM. \"\n"
     ]
    },
    {
     "name": "stdout",
     "output_type": "stream",
     "text": [
      "[20]\tvalid_0's l2: 805.166\tvalid_1's l2: 2451.97\n",
      "[40]\tvalid_0's l2: 703.488\tvalid_1's l2: 2339.3\n",
      "[60]\tvalid_0's l2: 603.431\tvalid_1's l2: 2254.34\n",
      "[80]\tvalid_0's l2: 511.809\tvalid_1's l2: 2186.9\n",
      "[100]\tvalid_0's l2: 441.433\tvalid_1's l2: 2127.16\n"
     ]
    },
    {
     "name": "stderr",
     "output_type": "stream",
     "text": [
      "/opt/conda/lib/python3.7/site-packages/lightgbm/sklearn.py:736: UserWarning: 'verbose' argument is deprecated and will be removed in a future release of LightGBM. Pass 'log_evaluation()' callback via 'callbacks' argument instead.\n",
      "  _log_warning(\"'verbose' argument is deprecated and will be removed in a future release of LightGBM. \"\n"
     ]
    },
    {
     "name": "stdout",
     "output_type": "stream",
     "text": [
      "[20]\tvalid_0's l2: 112.859\tvalid_1's l2: 2433.12\n",
      "[40]\tvalid_0's l2: 81.5388\tvalid_1's l2: 2304.66\n",
      "[60]\tvalid_0's l2: 140.891\tvalid_1's l2: 2204.48\n",
      "[80]\tvalid_0's l2: 220.655\tvalid_1's l2: 2119.63\n",
      "[100]\tvalid_0's l2: 369.615\tvalid_1's l2: 2044.6\n"
     ]
    },
    {
     "name": "stderr",
     "output_type": "stream",
     "text": [
      "/opt/conda/lib/python3.7/site-packages/lightgbm/sklearn.py:736: UserWarning: 'verbose' argument is deprecated and will be removed in a future release of LightGBM. Pass 'log_evaluation()' callback via 'callbacks' argument instead.\n",
      "  _log_warning(\"'verbose' argument is deprecated and will be removed in a future release of LightGBM. \"\n"
     ]
    },
    {
     "name": "stdout",
     "output_type": "stream",
     "text": [
      "[20]\tvalid_0's l2: 210.753\tvalid_1's l2: 2439.84\n",
      "[40]\tvalid_0's l2: 192.348\tvalid_1's l2: 2295.55\n",
      "[60]\tvalid_0's l2: 160.425\tvalid_1's l2: 2190.87\n",
      "[80]\tvalid_0's l2: 189.012\tvalid_1's l2: 2107.95\n",
      "[100]\tvalid_0's l2: 198.065\tvalid_1's l2: 2041.62\n"
     ]
    },
    {
     "name": "stderr",
     "output_type": "stream",
     "text": [
      "/opt/conda/lib/python3.7/site-packages/lightgbm/sklearn.py:736: UserWarning: 'verbose' argument is deprecated and will be removed in a future release of LightGBM. Pass 'log_evaluation()' callback via 'callbacks' argument instead.\n",
      "  _log_warning(\"'verbose' argument is deprecated and will be removed in a future release of LightGBM. \"\n"
     ]
    },
    {
     "name": "stdout",
     "output_type": "stream",
     "text": [
      "[20]\tvalid_0's l2: 320.279\tvalid_1's l2: 2456.09\n",
      "[40]\tvalid_0's l2: 240.709\tvalid_1's l2: 2326.15\n",
      "[60]\tvalid_0's l2: 221.16\tvalid_1's l2: 2228.02\n",
      "[80]\tvalid_0's l2: 215.692\tvalid_1's l2: 2143.43\n",
      "[100]\tvalid_0's l2: 237.258\tvalid_1's l2: 2073.76\n"
     ]
    },
    {
     "name": "stderr",
     "output_type": "stream",
     "text": [
      "/opt/conda/lib/python3.7/site-packages/lightgbm/sklearn.py:736: UserWarning: 'verbose' argument is deprecated and will be removed in a future release of LightGBM. Pass 'log_evaluation()' callback via 'callbacks' argument instead.\n",
      "  _log_warning(\"'verbose' argument is deprecated and will be removed in a future release of LightGBM. \"\n"
     ]
    },
    {
     "name": "stdout",
     "output_type": "stream",
     "text": [
      "[20]\tvalid_0's l2: 463.5\tvalid_1's l2: 2534.77\n",
      "[40]\tvalid_0's l2: 490.385\tvalid_1's l2: 2443.7\n",
      "[60]\tvalid_0's l2: 363.504\tvalid_1's l2: 2369.78\n",
      "[80]\tvalid_0's l2: 325.491\tvalid_1's l2: 2322.77\n",
      "[100]\tvalid_0's l2: 336.248\tvalid_1's l2: 2276.16\n"
     ]
    },
    {
     "name": "stderr",
     "output_type": "stream",
     "text": [
      "/opt/conda/lib/python3.7/site-packages/lightgbm/sklearn.py:736: UserWarning: 'verbose' argument is deprecated and will be removed in a future release of LightGBM. Pass 'log_evaluation()' callback via 'callbacks' argument instead.\n",
      "  _log_warning(\"'verbose' argument is deprecated and will be removed in a future release of LightGBM. \"\n"
     ]
    },
    {
     "name": "stdout",
     "output_type": "stream",
     "text": [
      "[20]\tvalid_0's l2: 805.166\tvalid_1's l2: 2451.97\n",
      "[40]\tvalid_0's l2: 703.488\tvalid_1's l2: 2339.3\n",
      "[60]\tvalid_0's l2: 603.431\tvalid_1's l2: 2254.34\n",
      "[80]\tvalid_0's l2: 511.809\tvalid_1's l2: 2186.9\n",
      "[100]\tvalid_0's l2: 441.433\tvalid_1's l2: 2127.16\n"
     ]
    },
    {
     "name": "stderr",
     "output_type": "stream",
     "text": [
      "/opt/conda/lib/python3.7/site-packages/lightgbm/sklearn.py:736: UserWarning: 'verbose' argument is deprecated and will be removed in a future release of LightGBM. Pass 'log_evaluation()' callback via 'callbacks' argument instead.\n",
      "  _log_warning(\"'verbose' argument is deprecated and will be removed in a future release of LightGBM. \"\n"
     ]
    },
    {
     "name": "stdout",
     "output_type": "stream",
     "text": [
      "[20]\tvalid_0's l2: 112.859\tvalid_1's l2: 2433.12\n",
      "[40]\tvalid_0's l2: 81.5388\tvalid_1's l2: 2304.66\n",
      "[60]\tvalid_0's l2: 140.891\tvalid_1's l2: 2204.48\n",
      "[80]\tvalid_0's l2: 220.655\tvalid_1's l2: 2119.63\n",
      "[100]\tvalid_0's l2: 369.615\tvalid_1's l2: 2044.6\n"
     ]
    },
    {
     "name": "stderr",
     "output_type": "stream",
     "text": [
      "/opt/conda/lib/python3.7/site-packages/lightgbm/sklearn.py:736: UserWarning: 'verbose' argument is deprecated and will be removed in a future release of LightGBM. Pass 'log_evaluation()' callback via 'callbacks' argument instead.\n",
      "  _log_warning(\"'verbose' argument is deprecated and will be removed in a future release of LightGBM. \"\n"
     ]
    },
    {
     "name": "stdout",
     "output_type": "stream",
     "text": [
      "[20]\tvalid_0's l2: 210.753\tvalid_1's l2: 2439.84\n",
      "[40]\tvalid_0's l2: 192.348\tvalid_1's l2: 2295.55\n",
      "[60]\tvalid_0's l2: 160.425\tvalid_1's l2: 2190.87\n",
      "[80]\tvalid_0's l2: 189.012\tvalid_1's l2: 2107.95\n",
      "[100]\tvalid_0's l2: 198.065\tvalid_1's l2: 2041.62\n"
     ]
    },
    {
     "name": "stderr",
     "output_type": "stream",
     "text": [
      "/opt/conda/lib/python3.7/site-packages/lightgbm/sklearn.py:736: UserWarning: 'verbose' argument is deprecated and will be removed in a future release of LightGBM. Pass 'log_evaluation()' callback via 'callbacks' argument instead.\n",
      "  _log_warning(\"'verbose' argument is deprecated and will be removed in a future release of LightGBM. \"\n"
     ]
    },
    {
     "name": "stdout",
     "output_type": "stream",
     "text": [
      "[20]\tvalid_0's l2: 320.279\tvalid_1's l2: 2456.09\n",
      "[40]\tvalid_0's l2: 240.709\tvalid_1's l2: 2326.15\n",
      "[60]\tvalid_0's l2: 221.16\tvalid_1's l2: 2228.02\n",
      "[80]\tvalid_0's l2: 215.692\tvalid_1's l2: 2143.43\n",
      "[100]\tvalid_0's l2: 237.258\tvalid_1's l2: 2073.76\n"
     ]
    },
    {
     "name": "stderr",
     "output_type": "stream",
     "text": [
      "/opt/conda/lib/python3.7/site-packages/lightgbm/sklearn.py:736: UserWarning: 'verbose' argument is deprecated and will be removed in a future release of LightGBM. Pass 'log_evaluation()' callback via 'callbacks' argument instead.\n",
      "  _log_warning(\"'verbose' argument is deprecated and will be removed in a future release of LightGBM. \"\n"
     ]
    },
    {
     "name": "stdout",
     "output_type": "stream",
     "text": [
      "[20]\tvalid_0's l2: 463.5\tvalid_1's l2: 2534.77\n",
      "[40]\tvalid_0's l2: 490.385\tvalid_1's l2: 2443.7\n",
      "[60]\tvalid_0's l2: 363.504\tvalid_1's l2: 2369.78\n",
      "[80]\tvalid_0's l2: 325.491\tvalid_1's l2: 2322.77\n",
      "[100]\tvalid_0's l2: 336.248\tvalid_1's l2: 2276.16\n"
     ]
    },
    {
     "name": "stderr",
     "output_type": "stream",
     "text": [
      "/opt/conda/lib/python3.7/site-packages/lightgbm/sklearn.py:736: UserWarning: 'verbose' argument is deprecated and will be removed in a future release of LightGBM. Pass 'log_evaluation()' callback via 'callbacks' argument instead.\n",
      "  _log_warning(\"'verbose' argument is deprecated and will be removed in a future release of LightGBM. \"\n"
     ]
    },
    {
     "name": "stdout",
     "output_type": "stream",
     "text": [
      "[20]\tvalid_0's l2: 839.794\tvalid_1's l2: 2453.93\n",
      "[40]\tvalid_0's l2: 700.377\tvalid_1's l2: 2338.82\n",
      "[60]\tvalid_0's l2: 545.438\tvalid_1's l2: 2249.63\n",
      "[80]\tvalid_0's l2: 541.486\tvalid_1's l2: 2176.7\n",
      "[100]\tvalid_0's l2: 487.031\tvalid_1's l2: 2113.99\n"
     ]
    },
    {
     "name": "stderr",
     "output_type": "stream",
     "text": [
      "/opt/conda/lib/python3.7/site-packages/lightgbm/sklearn.py:736: UserWarning: 'verbose' argument is deprecated and will be removed in a future release of LightGBM. Pass 'log_evaluation()' callback via 'callbacks' argument instead.\n",
      "  _log_warning(\"'verbose' argument is deprecated and will be removed in a future release of LightGBM. \"\n"
     ]
    },
    {
     "name": "stdout",
     "output_type": "stream",
     "text": [
      "[20]\tvalid_0's l2: 113.838\tvalid_1's l2: 2435.85\n",
      "[40]\tvalid_0's l2: 76.6042\tvalid_1's l2: 2297.61\n",
      "[60]\tvalid_0's l2: 143.332\tvalid_1's l2: 2192.27\n",
      "[80]\tvalid_0's l2: 171.037\tvalid_1's l2: 2105.36\n",
      "[100]\tvalid_0's l2: 161.785\tvalid_1's l2: 2038.65\n"
     ]
    },
    {
     "name": "stderr",
     "output_type": "stream",
     "text": [
      "/opt/conda/lib/python3.7/site-packages/lightgbm/sklearn.py:736: UserWarning: 'verbose' argument is deprecated and will be removed in a future release of LightGBM. Pass 'log_evaluation()' callback via 'callbacks' argument instead.\n",
      "  _log_warning(\"'verbose' argument is deprecated and will be removed in a future release of LightGBM. \"\n"
     ]
    },
    {
     "name": "stdout",
     "output_type": "stream",
     "text": [
      "[20]\tvalid_0's l2: 190.562\tvalid_1's l2: 2438.03\n",
      "[40]\tvalid_0's l2: 187.015\tvalid_1's l2: 2283.07\n",
      "[60]\tvalid_0's l2: 192.095\tvalid_1's l2: 2174.53\n",
      "[80]\tvalid_0's l2: 207.614\tvalid_1's l2: 2088.29\n",
      "[100]\tvalid_0's l2: 208.745\tvalid_1's l2: 2028.02\n"
     ]
    },
    {
     "name": "stderr",
     "output_type": "stream",
     "text": [
      "/opt/conda/lib/python3.7/site-packages/lightgbm/sklearn.py:736: UserWarning: 'verbose' argument is deprecated and will be removed in a future release of LightGBM. Pass 'log_evaluation()' callback via 'callbacks' argument instead.\n",
      "  _log_warning(\"'verbose' argument is deprecated and will be removed in a future release of LightGBM. \"\n"
     ]
    },
    {
     "name": "stdout",
     "output_type": "stream",
     "text": [
      "[20]\tvalid_0's l2: 320.996\tvalid_1's l2: 2453.46\n",
      "[40]\tvalid_0's l2: 270.102\tvalid_1's l2: 2323.25\n",
      "[60]\tvalid_0's l2: 252.937\tvalid_1's l2: 2219.39\n",
      "[80]\tvalid_0's l2: 258.521\tvalid_1's l2: 2130.11\n",
      "[100]\tvalid_0's l2: 275.923\tvalid_1's l2: 2061.26\n"
     ]
    },
    {
     "name": "stderr",
     "output_type": "stream",
     "text": [
      "/opt/conda/lib/python3.7/site-packages/lightgbm/sklearn.py:736: UserWarning: 'verbose' argument is deprecated and will be removed in a future release of LightGBM. Pass 'log_evaluation()' callback via 'callbacks' argument instead.\n",
      "  _log_warning(\"'verbose' argument is deprecated and will be removed in a future release of LightGBM. \"\n"
     ]
    },
    {
     "name": "stdout",
     "output_type": "stream",
     "text": [
      "[20]\tvalid_0's l2: 468.243\tvalid_1's l2: 2533.94\n",
      "[40]\tvalid_0's l2: 473.643\tvalid_1's l2: 2444.78\n",
      "[60]\tvalid_0's l2: 388.188\tvalid_1's l2: 2375.77\n",
      "[80]\tvalid_0's l2: 341.069\tvalid_1's l2: 2317.73\n",
      "[100]\tvalid_0's l2: 297.203\tvalid_1's l2: 2276.32\n"
     ]
    },
    {
     "name": "stderr",
     "output_type": "stream",
     "text": [
      "/opt/conda/lib/python3.7/site-packages/lightgbm/sklearn.py:736: UserWarning: 'verbose' argument is deprecated and will be removed in a future release of LightGBM. Pass 'log_evaluation()' callback via 'callbacks' argument instead.\n",
      "  _log_warning(\"'verbose' argument is deprecated and will be removed in a future release of LightGBM. \"\n"
     ]
    },
    {
     "name": "stdout",
     "output_type": "stream",
     "text": [
      "[20]\tvalid_0's l2: 839.794\tvalid_1's l2: 2453.93\n",
      "[40]\tvalid_0's l2: 700.377\tvalid_1's l2: 2338.82\n",
      "[60]\tvalid_0's l2: 545.438\tvalid_1's l2: 2249.63\n",
      "[80]\tvalid_0's l2: 541.486\tvalid_1's l2: 2176.7\n",
      "[100]\tvalid_0's l2: 487.031\tvalid_1's l2: 2113.99\n"
     ]
    },
    {
     "name": "stderr",
     "output_type": "stream",
     "text": [
      "/opt/conda/lib/python3.7/site-packages/lightgbm/sklearn.py:736: UserWarning: 'verbose' argument is deprecated and will be removed in a future release of LightGBM. Pass 'log_evaluation()' callback via 'callbacks' argument instead.\n",
      "  _log_warning(\"'verbose' argument is deprecated and will be removed in a future release of LightGBM. \"\n"
     ]
    },
    {
     "name": "stdout",
     "output_type": "stream",
     "text": [
      "[20]\tvalid_0's l2: 113.838\tvalid_1's l2: 2435.85\n",
      "[40]\tvalid_0's l2: 76.6042\tvalid_1's l2: 2297.61\n",
      "[60]\tvalid_0's l2: 143.332\tvalid_1's l2: 2192.27\n",
      "[80]\tvalid_0's l2: 171.037\tvalid_1's l2: 2105.36\n",
      "[100]\tvalid_0's l2: 161.785\tvalid_1's l2: 2038.65\n"
     ]
    },
    {
     "name": "stderr",
     "output_type": "stream",
     "text": [
      "/opt/conda/lib/python3.7/site-packages/lightgbm/sklearn.py:736: UserWarning: 'verbose' argument is deprecated and will be removed in a future release of LightGBM. Pass 'log_evaluation()' callback via 'callbacks' argument instead.\n",
      "  _log_warning(\"'verbose' argument is deprecated and will be removed in a future release of LightGBM. \"\n"
     ]
    },
    {
     "name": "stdout",
     "output_type": "stream",
     "text": [
      "[20]\tvalid_0's l2: 190.562\tvalid_1's l2: 2438.03\n",
      "[40]\tvalid_0's l2: 187.015\tvalid_1's l2: 2283.07\n",
      "[60]\tvalid_0's l2: 192.095\tvalid_1's l2: 2174.53\n",
      "[80]\tvalid_0's l2: 207.614\tvalid_1's l2: 2088.29\n",
      "[100]\tvalid_0's l2: 208.745\tvalid_1's l2: 2028.02\n"
     ]
    },
    {
     "name": "stderr",
     "output_type": "stream",
     "text": [
      "/opt/conda/lib/python3.7/site-packages/lightgbm/sklearn.py:736: UserWarning: 'verbose' argument is deprecated and will be removed in a future release of LightGBM. Pass 'log_evaluation()' callback via 'callbacks' argument instead.\n",
      "  _log_warning(\"'verbose' argument is deprecated and will be removed in a future release of LightGBM. \"\n"
     ]
    },
    {
     "name": "stdout",
     "output_type": "stream",
     "text": [
      "[20]\tvalid_0's l2: 320.996\tvalid_1's l2: 2453.46\n",
      "[40]\tvalid_0's l2: 270.102\tvalid_1's l2: 2323.25\n",
      "[60]\tvalid_0's l2: 252.937\tvalid_1's l2: 2219.39\n",
      "[80]\tvalid_0's l2: 258.521\tvalid_1's l2: 2130.11\n",
      "[100]\tvalid_0's l2: 275.923\tvalid_1's l2: 2061.26\n"
     ]
    },
    {
     "name": "stderr",
     "output_type": "stream",
     "text": [
      "/opt/conda/lib/python3.7/site-packages/lightgbm/sklearn.py:736: UserWarning: 'verbose' argument is deprecated and will be removed in a future release of LightGBM. Pass 'log_evaluation()' callback via 'callbacks' argument instead.\n",
      "  _log_warning(\"'verbose' argument is deprecated and will be removed in a future release of LightGBM. \"\n"
     ]
    },
    {
     "name": "stdout",
     "output_type": "stream",
     "text": [
      "[20]\tvalid_0's l2: 468.243\tvalid_1's l2: 2533.94\n",
      "[40]\tvalid_0's l2: 473.643\tvalid_1's l2: 2444.78\n",
      "[60]\tvalid_0's l2: 388.188\tvalid_1's l2: 2375.77\n",
      "[80]\tvalid_0's l2: 341.069\tvalid_1's l2: 2317.73\n",
      "[100]\tvalid_0's l2: 297.203\tvalid_1's l2: 2276.32\n"
     ]
    },
    {
     "name": "stderr",
     "output_type": "stream",
     "text": [
      "/opt/conda/lib/python3.7/site-packages/lightgbm/sklearn.py:736: UserWarning: 'verbose' argument is deprecated and will be removed in a future release of LightGBM. Pass 'log_evaluation()' callback via 'callbacks' argument instead.\n",
      "  _log_warning(\"'verbose' argument is deprecated and will be removed in a future release of LightGBM. \"\n"
     ]
    },
    {
     "name": "stdout",
     "output_type": "stream",
     "text": [
      "[20]\tvalid_0's l2: 847.516\tvalid_1's l2: 2454.25\n",
      "[40]\tvalid_0's l2: 645.524\tvalid_1's l2: 2335.34\n",
      "[60]\tvalid_0's l2: 574.723\tvalid_1's l2: 2247.44\n",
      "[80]\tvalid_0's l2: 504.917\tvalid_1's l2: 2180.06\n",
      "[100]\tvalid_0's l2: 515.466\tvalid_1's l2: 2122.7\n"
     ]
    },
    {
     "name": "stderr",
     "output_type": "stream",
     "text": [
      "/opt/conda/lib/python3.7/site-packages/lightgbm/sklearn.py:736: UserWarning: 'verbose' argument is deprecated and will be removed in a future release of LightGBM. Pass 'log_evaluation()' callback via 'callbacks' argument instead.\n",
      "  _log_warning(\"'verbose' argument is deprecated and will be removed in a future release of LightGBM. \"\n"
     ]
    },
    {
     "name": "stdout",
     "output_type": "stream",
     "text": [
      "[20]\tvalid_0's l2: 97.6554\tvalid_1's l2: 2440.61\n",
      "[40]\tvalid_0's l2: 79.9743\tvalid_1's l2: 2305.42\n",
      "[60]\tvalid_0's l2: 129.255\tvalid_1's l2: 2201.24\n",
      "[80]\tvalid_0's l2: 196.949\tvalid_1's l2: 2109.59\n",
      "[100]\tvalid_0's l2: 217.879\tvalid_1's l2: 2044.15\n"
     ]
    },
    {
     "name": "stderr",
     "output_type": "stream",
     "text": [
      "/opt/conda/lib/python3.7/site-packages/lightgbm/sklearn.py:736: UserWarning: 'verbose' argument is deprecated and will be removed in a future release of LightGBM. Pass 'log_evaluation()' callback via 'callbacks' argument instead.\n",
      "  _log_warning(\"'verbose' argument is deprecated and will be removed in a future release of LightGBM. \"\n"
     ]
    },
    {
     "name": "stdout",
     "output_type": "stream",
     "text": [
      "[20]\tvalid_0's l2: 213.42\tvalid_1's l2: 2439.14\n",
      "[40]\tvalid_0's l2: 218.508\tvalid_1's l2: 2293.88\n",
      "[60]\tvalid_0's l2: 162.06\tvalid_1's l2: 2184.1\n",
      "[80]\tvalid_0's l2: 213.724\tvalid_1's l2: 2104.78\n",
      "[100]\tvalid_0's l2: 242.122\tvalid_1's l2: 2033.79\n"
     ]
    },
    {
     "name": "stderr",
     "output_type": "stream",
     "text": [
      "/opt/conda/lib/python3.7/site-packages/lightgbm/sklearn.py:736: UserWarning: 'verbose' argument is deprecated and will be removed in a future release of LightGBM. Pass 'log_evaluation()' callback via 'callbacks' argument instead.\n",
      "  _log_warning(\"'verbose' argument is deprecated and will be removed in a future release of LightGBM. \"\n"
     ]
    },
    {
     "name": "stdout",
     "output_type": "stream",
     "text": [
      "[20]\tvalid_0's l2: 315.989\tvalid_1's l2: 2454.96\n",
      "[40]\tvalid_0's l2: 243.861\tvalid_1's l2: 2321.95\n",
      "[60]\tvalid_0's l2: 267.508\tvalid_1's l2: 2218.52\n",
      "[80]\tvalid_0's l2: 249.667\tvalid_1's l2: 2135\n",
      "[100]\tvalid_0's l2: 266.094\tvalid_1's l2: 2068.65\n"
     ]
    },
    {
     "name": "stderr",
     "output_type": "stream",
     "text": [
      "/opt/conda/lib/python3.7/site-packages/lightgbm/sklearn.py:736: UserWarning: 'verbose' argument is deprecated and will be removed in a future release of LightGBM. Pass 'log_evaluation()' callback via 'callbacks' argument instead.\n",
      "  _log_warning(\"'verbose' argument is deprecated and will be removed in a future release of LightGBM. \"\n"
     ]
    },
    {
     "name": "stdout",
     "output_type": "stream",
     "text": [
      "[20]\tvalid_0's l2: 452.297\tvalid_1's l2: 2532.08\n",
      "[40]\tvalid_0's l2: 489.884\tvalid_1's l2: 2447.6\n",
      "[60]\tvalid_0's l2: 346.867\tvalid_1's l2: 2368.39\n",
      "[80]\tvalid_0's l2: 309.23\tvalid_1's l2: 2306.63\n",
      "[100]\tvalid_0's l2: 294.008\tvalid_1's l2: 2261.46\n"
     ]
    },
    {
     "name": "stderr",
     "output_type": "stream",
     "text": [
      "/opt/conda/lib/python3.7/site-packages/lightgbm/sklearn.py:736: UserWarning: 'verbose' argument is deprecated and will be removed in a future release of LightGBM. Pass 'log_evaluation()' callback via 'callbacks' argument instead.\n",
      "  _log_warning(\"'verbose' argument is deprecated and will be removed in a future release of LightGBM. \"\n"
     ]
    },
    {
     "name": "stdout",
     "output_type": "stream",
     "text": [
      "[20]\tvalid_0's l2: 847.516\tvalid_1's l2: 2454.25\n",
      "[40]\tvalid_0's l2: 645.524\tvalid_1's l2: 2335.34\n",
      "[60]\tvalid_0's l2: 574.723\tvalid_1's l2: 2247.44\n",
      "[80]\tvalid_0's l2: 504.917\tvalid_1's l2: 2180.06\n",
      "[100]\tvalid_0's l2: 515.466\tvalid_1's l2: 2122.7\n"
     ]
    },
    {
     "name": "stderr",
     "output_type": "stream",
     "text": [
      "/opt/conda/lib/python3.7/site-packages/lightgbm/sklearn.py:736: UserWarning: 'verbose' argument is deprecated and will be removed in a future release of LightGBM. Pass 'log_evaluation()' callback via 'callbacks' argument instead.\n",
      "  _log_warning(\"'verbose' argument is deprecated and will be removed in a future release of LightGBM. \"\n"
     ]
    },
    {
     "name": "stdout",
     "output_type": "stream",
     "text": [
      "[20]\tvalid_0's l2: 97.6554\tvalid_1's l2: 2440.61\n",
      "[40]\tvalid_0's l2: 79.9743\tvalid_1's l2: 2305.42\n",
      "[60]\tvalid_0's l2: 129.255\tvalid_1's l2: 2201.24\n",
      "[80]\tvalid_0's l2: 196.949\tvalid_1's l2: 2109.59\n",
      "[100]\tvalid_0's l2: 217.879\tvalid_1's l2: 2044.15\n"
     ]
    },
    {
     "name": "stderr",
     "output_type": "stream",
     "text": [
      "/opt/conda/lib/python3.7/site-packages/lightgbm/sklearn.py:736: UserWarning: 'verbose' argument is deprecated and will be removed in a future release of LightGBM. Pass 'log_evaluation()' callback via 'callbacks' argument instead.\n",
      "  _log_warning(\"'verbose' argument is deprecated and will be removed in a future release of LightGBM. \"\n"
     ]
    },
    {
     "name": "stdout",
     "output_type": "stream",
     "text": [
      "[20]\tvalid_0's l2: 213.42\tvalid_1's l2: 2439.14\n",
      "[40]\tvalid_0's l2: 218.508\tvalid_1's l2: 2293.88\n",
      "[60]\tvalid_0's l2: 162.06\tvalid_1's l2: 2184.1\n",
      "[80]\tvalid_0's l2: 213.724\tvalid_1's l2: 2104.78\n",
      "[100]\tvalid_0's l2: 242.122\tvalid_1's l2: 2033.79\n"
     ]
    },
    {
     "name": "stderr",
     "output_type": "stream",
     "text": [
      "/opt/conda/lib/python3.7/site-packages/lightgbm/sklearn.py:736: UserWarning: 'verbose' argument is deprecated and will be removed in a future release of LightGBM. Pass 'log_evaluation()' callback via 'callbacks' argument instead.\n",
      "  _log_warning(\"'verbose' argument is deprecated and will be removed in a future release of LightGBM. \"\n"
     ]
    },
    {
     "name": "stdout",
     "output_type": "stream",
     "text": [
      "[20]\tvalid_0's l2: 315.989\tvalid_1's l2: 2454.96\n",
      "[40]\tvalid_0's l2: 243.861\tvalid_1's l2: 2321.95\n",
      "[60]\tvalid_0's l2: 267.508\tvalid_1's l2: 2218.52\n",
      "[80]\tvalid_0's l2: 249.667\tvalid_1's l2: 2135\n",
      "[100]\tvalid_0's l2: 266.094\tvalid_1's l2: 2068.65\n"
     ]
    },
    {
     "name": "stderr",
     "output_type": "stream",
     "text": [
      "/opt/conda/lib/python3.7/site-packages/lightgbm/sklearn.py:736: UserWarning: 'verbose' argument is deprecated and will be removed in a future release of LightGBM. Pass 'log_evaluation()' callback via 'callbacks' argument instead.\n",
      "  _log_warning(\"'verbose' argument is deprecated and will be removed in a future release of LightGBM. \"\n"
     ]
    },
    {
     "name": "stdout",
     "output_type": "stream",
     "text": [
      "[20]\tvalid_0's l2: 452.297\tvalid_1's l2: 2532.08\n",
      "[40]\tvalid_0's l2: 489.884\tvalid_1's l2: 2447.6\n",
      "[60]\tvalid_0's l2: 346.867\tvalid_1's l2: 2368.39\n",
      "[80]\tvalid_0's l2: 309.23\tvalid_1's l2: 2306.63\n",
      "[100]\tvalid_0's l2: 294.008\tvalid_1's l2: 2261.46\n"
     ]
    },
    {
     "name": "stderr",
     "output_type": "stream",
     "text": [
      "/opt/conda/lib/python3.7/site-packages/lightgbm/sklearn.py:736: UserWarning: 'verbose' argument is deprecated and will be removed in a future release of LightGBM. Pass 'log_evaluation()' callback via 'callbacks' argument instead.\n",
      "  _log_warning(\"'verbose' argument is deprecated and will be removed in a future release of LightGBM. \"\n"
     ]
    },
    {
     "name": "stdout",
     "output_type": "stream",
     "text": [
      "[20]\tvalid_0's l2: 839.615\tvalid_1's l2: 2454.03\n",
      "[40]\tvalid_0's l2: 700.531\tvalid_1's l2: 2339.01\n",
      "[60]\tvalid_0's l2: 541.531\tvalid_1's l2: 2243.21\n",
      "[80]\tvalid_0's l2: 583.758\tvalid_1's l2: 2177.34\n",
      "[100]\tvalid_0's l2: 559.299\tvalid_1's l2: 2111.38\n"
     ]
    },
    {
     "name": "stderr",
     "output_type": "stream",
     "text": [
      "/opt/conda/lib/python3.7/site-packages/lightgbm/sklearn.py:736: UserWarning: 'verbose' argument is deprecated and will be removed in a future release of LightGBM. Pass 'log_evaluation()' callback via 'callbacks' argument instead.\n",
      "  _log_warning(\"'verbose' argument is deprecated and will be removed in a future release of LightGBM. \"\n"
     ]
    },
    {
     "name": "stdout",
     "output_type": "stream",
     "text": [
      "[20]\tvalid_0's l2: 113.857\tvalid_1's l2: 2435.95\n",
      "[40]\tvalid_0's l2: 76.0197\tvalid_1's l2: 2298.1\n",
      "[60]\tvalid_0's l2: 126.544\tvalid_1's l2: 2190.51\n",
      "[80]\tvalid_0's l2: 146.962\tvalid_1's l2: 2114.22\n",
      "[100]\tvalid_0's l2: 187.191\tvalid_1's l2: 2040.3\n"
     ]
    },
    {
     "name": "stderr",
     "output_type": "stream",
     "text": [
      "/opt/conda/lib/python3.7/site-packages/lightgbm/sklearn.py:736: UserWarning: 'verbose' argument is deprecated and will be removed in a future release of LightGBM. Pass 'log_evaluation()' callback via 'callbacks' argument instead.\n",
      "  _log_warning(\"'verbose' argument is deprecated and will be removed in a future release of LightGBM. \"\n"
     ]
    },
    {
     "name": "stdout",
     "output_type": "stream",
     "text": [
      "[20]\tvalid_0's l2: 190.586\tvalid_1's l2: 2438.13\n",
      "[40]\tvalid_0's l2: 170.453\tvalid_1's l2: 2282.75\n",
      "[60]\tvalid_0's l2: 159.327\tvalid_1's l2: 2169.38\n",
      "[80]\tvalid_0's l2: 206.184\tvalid_1's l2: 2084.16\n",
      "[100]\tvalid_0's l2: 239.34\tvalid_1's l2: 2016.67\n"
     ]
    },
    {
     "name": "stderr",
     "output_type": "stream",
     "text": [
      "/opt/conda/lib/python3.7/site-packages/lightgbm/sklearn.py:736: UserWarning: 'verbose' argument is deprecated and will be removed in a future release of LightGBM. Pass 'log_evaluation()' callback via 'callbacks' argument instead.\n",
      "  _log_warning(\"'verbose' argument is deprecated and will be removed in a future release of LightGBM. \"\n"
     ]
    },
    {
     "name": "stdout",
     "output_type": "stream",
     "text": [
      "[20]\tvalid_0's l2: 320.888\tvalid_1's l2: 2453.56\n",
      "[40]\tvalid_0's l2: 278.044\tvalid_1's l2: 2325.01\n",
      "[60]\tvalid_0's l2: 240.771\tvalid_1's l2: 2222.34\n",
      "[80]\tvalid_0's l2: 229.47\tvalid_1's l2: 2138.42\n",
      "[100]\tvalid_0's l2: 254.598\tvalid_1's l2: 2062.86\n"
     ]
    },
    {
     "name": "stderr",
     "output_type": "stream",
     "text": [
      "/opt/conda/lib/python3.7/site-packages/lightgbm/sklearn.py:736: UserWarning: 'verbose' argument is deprecated and will be removed in a future release of LightGBM. Pass 'log_evaluation()' callback via 'callbacks' argument instead.\n",
      "  _log_warning(\"'verbose' argument is deprecated and will be removed in a future release of LightGBM. \"\n"
     ]
    },
    {
     "name": "stdout",
     "output_type": "stream",
     "text": [
      "[20]\tvalid_0's l2: 470.543\tvalid_1's l2: 2535.2\n",
      "[40]\tvalid_0's l2: 454.657\tvalid_1's l2: 2448.15\n",
      "[60]\tvalid_0's l2: 407.902\tvalid_1's l2: 2369.36\n",
      "[80]\tvalid_0's l2: 424.452\tvalid_1's l2: 2310.87\n",
      "[100]\tvalid_0's l2: 366.756\tvalid_1's l2: 2264.72\n"
     ]
    },
    {
     "name": "stderr",
     "output_type": "stream",
     "text": [
      "/opt/conda/lib/python3.7/site-packages/lightgbm/sklearn.py:736: UserWarning: 'verbose' argument is deprecated and will be removed in a future release of LightGBM. Pass 'log_evaluation()' callback via 'callbacks' argument instead.\n",
      "  _log_warning(\"'verbose' argument is deprecated and will be removed in a future release of LightGBM. \"\n"
     ]
    },
    {
     "name": "stdout",
     "output_type": "stream",
     "text": [
      "[20]\tvalid_0's l2: 839.615\tvalid_1's l2: 2454.03\n",
      "[40]\tvalid_0's l2: 700.531\tvalid_1's l2: 2339.01\n",
      "[60]\tvalid_0's l2: 541.531\tvalid_1's l2: 2243.21\n",
      "[80]\tvalid_0's l2: 583.758\tvalid_1's l2: 2177.34\n",
      "[100]\tvalid_0's l2: 559.299\tvalid_1's l2: 2111.38\n"
     ]
    },
    {
     "name": "stderr",
     "output_type": "stream",
     "text": [
      "/opt/conda/lib/python3.7/site-packages/lightgbm/sklearn.py:736: UserWarning: 'verbose' argument is deprecated and will be removed in a future release of LightGBM. Pass 'log_evaluation()' callback via 'callbacks' argument instead.\n",
      "  _log_warning(\"'verbose' argument is deprecated and will be removed in a future release of LightGBM. \"\n"
     ]
    },
    {
     "name": "stdout",
     "output_type": "stream",
     "text": [
      "[20]\tvalid_0's l2: 113.857\tvalid_1's l2: 2435.95\n",
      "[40]\tvalid_0's l2: 76.0197\tvalid_1's l2: 2298.1\n",
      "[60]\tvalid_0's l2: 126.544\tvalid_1's l2: 2190.51\n",
      "[80]\tvalid_0's l2: 146.962\tvalid_1's l2: 2114.22\n",
      "[100]\tvalid_0's l2: 187.191\tvalid_1's l2: 2040.3\n"
     ]
    },
    {
     "name": "stderr",
     "output_type": "stream",
     "text": [
      "/opt/conda/lib/python3.7/site-packages/lightgbm/sklearn.py:736: UserWarning: 'verbose' argument is deprecated and will be removed in a future release of LightGBM. Pass 'log_evaluation()' callback via 'callbacks' argument instead.\n",
      "  _log_warning(\"'verbose' argument is deprecated and will be removed in a future release of LightGBM. \"\n"
     ]
    },
    {
     "name": "stdout",
     "output_type": "stream",
     "text": [
      "[20]\tvalid_0's l2: 190.586\tvalid_1's l2: 2438.13\n",
      "[40]\tvalid_0's l2: 170.453\tvalid_1's l2: 2282.75\n",
      "[60]\tvalid_0's l2: 159.327\tvalid_1's l2: 2169.38\n",
      "[80]\tvalid_0's l2: 206.184\tvalid_1's l2: 2084.16\n",
      "[100]\tvalid_0's l2: 239.34\tvalid_1's l2: 2016.67\n"
     ]
    },
    {
     "name": "stderr",
     "output_type": "stream",
     "text": [
      "/opt/conda/lib/python3.7/site-packages/lightgbm/sklearn.py:736: UserWarning: 'verbose' argument is deprecated and will be removed in a future release of LightGBM. Pass 'log_evaluation()' callback via 'callbacks' argument instead.\n",
      "  _log_warning(\"'verbose' argument is deprecated and will be removed in a future release of LightGBM. \"\n"
     ]
    },
    {
     "name": "stdout",
     "output_type": "stream",
     "text": [
      "[20]\tvalid_0's l2: 320.888\tvalid_1's l2: 2453.56\n",
      "[40]\tvalid_0's l2: 278.044\tvalid_1's l2: 2325.01\n",
      "[60]\tvalid_0's l2: 240.771\tvalid_1's l2: 2222.34\n",
      "[80]\tvalid_0's l2: 229.47\tvalid_1's l2: 2138.42\n",
      "[100]\tvalid_0's l2: 254.598\tvalid_1's l2: 2062.86\n"
     ]
    },
    {
     "name": "stderr",
     "output_type": "stream",
     "text": [
      "/opt/conda/lib/python3.7/site-packages/lightgbm/sklearn.py:736: UserWarning: 'verbose' argument is deprecated and will be removed in a future release of LightGBM. Pass 'log_evaluation()' callback via 'callbacks' argument instead.\n",
      "  _log_warning(\"'verbose' argument is deprecated and will be removed in a future release of LightGBM. \"\n"
     ]
    },
    {
     "name": "stdout",
     "output_type": "stream",
     "text": [
      "[20]\tvalid_0's l2: 470.543\tvalid_1's l2: 2535.2\n",
      "[40]\tvalid_0's l2: 454.657\tvalid_1's l2: 2448.15\n",
      "[60]\tvalid_0's l2: 407.902\tvalid_1's l2: 2369.36\n",
      "[80]\tvalid_0's l2: 424.452\tvalid_1's l2: 2310.87\n",
      "[100]\tvalid_0's l2: 366.756\tvalid_1's l2: 2264.72\n"
     ]
    },
    {
     "name": "stderr",
     "output_type": "stream",
     "text": [
      "/opt/conda/lib/python3.7/site-packages/lightgbm/sklearn.py:736: UserWarning: 'verbose' argument is deprecated and will be removed in a future release of LightGBM. Pass 'log_evaluation()' callback via 'callbacks' argument instead.\n",
      "  _log_warning(\"'verbose' argument is deprecated and will be removed in a future release of LightGBM. \"\n"
     ]
    },
    {
     "name": "stdout",
     "output_type": "stream",
     "text": [
      "[20]\tvalid_0's l2: 847.329\tvalid_1's l2: 2454.36\n",
      "[40]\tvalid_0's l2: 645.612\tvalid_1's l2: 2335.53\n",
      "[60]\tvalid_0's l2: 609.786\tvalid_1's l2: 2248.89\n",
      "[80]\tvalid_0's l2: 516.584\tvalid_1's l2: 2176.8\n",
      "[100]\tvalid_0's l2: 491.397\tvalid_1's l2: 2114.99\n"
     ]
    },
    {
     "name": "stderr",
     "output_type": "stream",
     "text": [
      "/opt/conda/lib/python3.7/site-packages/lightgbm/sklearn.py:736: UserWarning: 'verbose' argument is deprecated and will be removed in a future release of LightGBM. Pass 'log_evaluation()' callback via 'callbacks' argument instead.\n",
      "  _log_warning(\"'verbose' argument is deprecated and will be removed in a future release of LightGBM. \"\n"
     ]
    },
    {
     "name": "stdout",
     "output_type": "stream",
     "text": [
      "[20]\tvalid_0's l2: 97.6839\tvalid_1's l2: 2440.7\n",
      "[40]\tvalid_0's l2: 79.5867\tvalid_1's l2: 2305.64\n",
      "[60]\tvalid_0's l2: 137.123\tvalid_1's l2: 2195.79\n",
      "[80]\tvalid_0's l2: 203.593\tvalid_1's l2: 2110.83\n",
      "[100]\tvalid_0's l2: 245.116\tvalid_1's l2: 2046.96\n"
     ]
    },
    {
     "name": "stderr",
     "output_type": "stream",
     "text": [
      "/opt/conda/lib/python3.7/site-packages/lightgbm/sklearn.py:736: UserWarning: 'verbose' argument is deprecated and will be removed in a future release of LightGBM. Pass 'log_evaluation()' callback via 'callbacks' argument instead.\n",
      "  _log_warning(\"'verbose' argument is deprecated and will be removed in a future release of LightGBM. \"\n"
     ]
    },
    {
     "name": "stdout",
     "output_type": "stream",
     "text": [
      "[20]\tvalid_0's l2: 211.791\tvalid_1's l2: 2439.14\n",
      "[40]\tvalid_0's l2: 208.174\tvalid_1's l2: 2291.47\n",
      "[60]\tvalid_0's l2: 185.656\tvalid_1's l2: 2182.34\n",
      "[80]\tvalid_0's l2: 239.428\tvalid_1's l2: 2101.27\n",
      "[100]\tvalid_0's l2: 282.423\tvalid_1's l2: 2029.19\n"
     ]
    },
    {
     "name": "stderr",
     "output_type": "stream",
     "text": [
      "/opt/conda/lib/python3.7/site-packages/lightgbm/sklearn.py:736: UserWarning: 'verbose' argument is deprecated and will be removed in a future release of LightGBM. Pass 'log_evaluation()' callback via 'callbacks' argument instead.\n",
      "  _log_warning(\"'verbose' argument is deprecated and will be removed in a future release of LightGBM. \"\n"
     ]
    },
    {
     "name": "stdout",
     "output_type": "stream",
     "text": [
      "[20]\tvalid_0's l2: 315.912\tvalid_1's l2: 2455.12\n",
      "[40]\tvalid_0's l2: 225.375\tvalid_1's l2: 2326.53\n",
      "[60]\tvalid_0's l2: 246.72\tvalid_1's l2: 2219.05\n",
      "[80]\tvalid_0's l2: 263.865\tvalid_1's l2: 2130\n",
      "[100]\tvalid_0's l2: 305.813\tvalid_1's l2: 2064.74\n"
     ]
    },
    {
     "name": "stderr",
     "output_type": "stream",
     "text": [
      "/opt/conda/lib/python3.7/site-packages/lightgbm/sklearn.py:736: UserWarning: 'verbose' argument is deprecated and will be removed in a future release of LightGBM. Pass 'log_evaluation()' callback via 'callbacks' argument instead.\n",
      "  _log_warning(\"'verbose' argument is deprecated and will be removed in a future release of LightGBM. \"\n"
     ]
    },
    {
     "name": "stdout",
     "output_type": "stream",
     "text": [
      "[20]\tvalid_0's l2: 463.542\tvalid_1's l2: 2534.12\n",
      "[40]\tvalid_0's l2: 449.09\tvalid_1's l2: 2448.71\n",
      "[60]\tvalid_0's l2: 383.792\tvalid_1's l2: 2367.49\n",
      "[80]\tvalid_0's l2: 304.18\tvalid_1's l2: 2316.79\n",
      "[100]\tvalid_0's l2: 320.333\tvalid_1's l2: 2272.35\n"
     ]
    },
    {
     "name": "stderr",
     "output_type": "stream",
     "text": [
      "/opt/conda/lib/python3.7/site-packages/lightgbm/sklearn.py:736: UserWarning: 'verbose' argument is deprecated and will be removed in a future release of LightGBM. Pass 'log_evaluation()' callback via 'callbacks' argument instead.\n",
      "  _log_warning(\"'verbose' argument is deprecated and will be removed in a future release of LightGBM. \"\n"
     ]
    },
    {
     "name": "stdout",
     "output_type": "stream",
     "text": [
      "[20]\tvalid_0's l2: 847.329\tvalid_1's l2: 2454.36\n",
      "[40]\tvalid_0's l2: 645.612\tvalid_1's l2: 2335.53\n",
      "[60]\tvalid_0's l2: 609.786\tvalid_1's l2: 2248.89\n",
      "[80]\tvalid_0's l2: 516.584\tvalid_1's l2: 2176.8\n",
      "[100]\tvalid_0's l2: 491.397\tvalid_1's l2: 2114.99\n"
     ]
    },
    {
     "name": "stderr",
     "output_type": "stream",
     "text": [
      "/opt/conda/lib/python3.7/site-packages/lightgbm/sklearn.py:736: UserWarning: 'verbose' argument is deprecated and will be removed in a future release of LightGBM. Pass 'log_evaluation()' callback via 'callbacks' argument instead.\n",
      "  _log_warning(\"'verbose' argument is deprecated and will be removed in a future release of LightGBM. \"\n"
     ]
    },
    {
     "name": "stdout",
     "output_type": "stream",
     "text": [
      "[20]\tvalid_0's l2: 97.6839\tvalid_1's l2: 2440.7\n",
      "[40]\tvalid_0's l2: 79.5867\tvalid_1's l2: 2305.64\n",
      "[60]\tvalid_0's l2: 137.123\tvalid_1's l2: 2195.79\n",
      "[80]\tvalid_0's l2: 203.593\tvalid_1's l2: 2110.83\n",
      "[100]\tvalid_0's l2: 245.116\tvalid_1's l2: 2046.96\n"
     ]
    },
    {
     "name": "stderr",
     "output_type": "stream",
     "text": [
      "/opt/conda/lib/python3.7/site-packages/lightgbm/sklearn.py:736: UserWarning: 'verbose' argument is deprecated and will be removed in a future release of LightGBM. Pass 'log_evaluation()' callback via 'callbacks' argument instead.\n",
      "  _log_warning(\"'verbose' argument is deprecated and will be removed in a future release of LightGBM. \"\n"
     ]
    },
    {
     "name": "stdout",
     "output_type": "stream",
     "text": [
      "[20]\tvalid_0's l2: 211.791\tvalid_1's l2: 2439.14\n",
      "[40]\tvalid_0's l2: 208.174\tvalid_1's l2: 2291.47\n",
      "[60]\tvalid_0's l2: 185.656\tvalid_1's l2: 2182.34\n",
      "[80]\tvalid_0's l2: 239.428\tvalid_1's l2: 2101.27\n",
      "[100]\tvalid_0's l2: 282.423\tvalid_1's l2: 2029.19\n"
     ]
    },
    {
     "name": "stderr",
     "output_type": "stream",
     "text": [
      "/opt/conda/lib/python3.7/site-packages/lightgbm/sklearn.py:736: UserWarning: 'verbose' argument is deprecated and will be removed in a future release of LightGBM. Pass 'log_evaluation()' callback via 'callbacks' argument instead.\n",
      "  _log_warning(\"'verbose' argument is deprecated and will be removed in a future release of LightGBM. \"\n"
     ]
    },
    {
     "name": "stdout",
     "output_type": "stream",
     "text": [
      "[20]\tvalid_0's l2: 315.912\tvalid_1's l2: 2455.12\n",
      "[40]\tvalid_0's l2: 225.375\tvalid_1's l2: 2326.53\n",
      "[60]\tvalid_0's l2: 246.72\tvalid_1's l2: 2219.05\n",
      "[80]\tvalid_0's l2: 263.865\tvalid_1's l2: 2130\n",
      "[100]\tvalid_0's l2: 305.813\tvalid_1's l2: 2064.74\n"
     ]
    },
    {
     "name": "stderr",
     "output_type": "stream",
     "text": [
      "/opt/conda/lib/python3.7/site-packages/lightgbm/sklearn.py:736: UserWarning: 'verbose' argument is deprecated and will be removed in a future release of LightGBM. Pass 'log_evaluation()' callback via 'callbacks' argument instead.\n",
      "  _log_warning(\"'verbose' argument is deprecated and will be removed in a future release of LightGBM. \"\n"
     ]
    },
    {
     "name": "stdout",
     "output_type": "stream",
     "text": [
      "[20]\tvalid_0's l2: 463.542\tvalid_1's l2: 2534.12\n",
      "[40]\tvalid_0's l2: 449.09\tvalid_1's l2: 2448.71\n",
      "[60]\tvalid_0's l2: 383.792\tvalid_1's l2: 2367.49\n",
      "[80]\tvalid_0's l2: 304.18\tvalid_1's l2: 2316.79\n",
      "[100]\tvalid_0's l2: 320.333\tvalid_1's l2: 2272.35\n"
     ]
    },
    {
     "name": "stderr",
     "output_type": "stream",
     "text": [
      "/opt/conda/lib/python3.7/site-packages/lightgbm/sklearn.py:736: UserWarning: 'verbose' argument is deprecated and will be removed in a future release of LightGBM. Pass 'log_evaluation()' callback via 'callbacks' argument instead.\n",
      "  _log_warning(\"'verbose' argument is deprecated and will be removed in a future release of LightGBM. \"\n"
     ]
    },
    {
     "name": "stdout",
     "output_type": "stream",
     "text": [
      "[20]\tvalid_0's l2: 839.629\tvalid_1's l2: 2454.66\n",
      "[40]\tvalid_0's l2: 717.467\tvalid_1's l2: 2341.11\n",
      "[60]\tvalid_0's l2: 600.819\tvalid_1's l2: 2252.84\n",
      "[80]\tvalid_0's l2: 521.984\tvalid_1's l2: 2184.69\n",
      "[100]\tvalid_0's l2: 468.574\tvalid_1's l2: 2128.74\n"
     ]
    },
    {
     "name": "stderr",
     "output_type": "stream",
     "text": [
      "/opt/conda/lib/python3.7/site-packages/lightgbm/sklearn.py:736: UserWarning: 'verbose' argument is deprecated and will be removed in a future release of LightGBM. Pass 'log_evaluation()' callback via 'callbacks' argument instead.\n",
      "  _log_warning(\"'verbose' argument is deprecated and will be removed in a future release of LightGBM. \"\n"
     ]
    },
    {
     "name": "stdout",
     "output_type": "stream",
     "text": [
      "[20]\tvalid_0's l2: 109.517\tvalid_1's l2: 2431.59\n",
      "[40]\tvalid_0's l2: 131.549\tvalid_1's l2: 2301.35\n",
      "[60]\tvalid_0's l2: 131.09\tvalid_1's l2: 2206.98\n",
      "[80]\tvalid_0's l2: 203.681\tvalid_1's l2: 2121.51\n",
      "[100]\tvalid_0's l2: 275.263\tvalid_1's l2: 2048\n"
     ]
    },
    {
     "name": "stderr",
     "output_type": "stream",
     "text": [
      "/opt/conda/lib/python3.7/site-packages/lightgbm/sklearn.py:736: UserWarning: 'verbose' argument is deprecated and will be removed in a future release of LightGBM. Pass 'log_evaluation()' callback via 'callbacks' argument instead.\n",
      "  _log_warning(\"'verbose' argument is deprecated and will be removed in a future release of LightGBM. \"\n"
     ]
    },
    {
     "name": "stdout",
     "output_type": "stream",
     "text": [
      "[20]\tvalid_0's l2: 189.465\tvalid_1's l2: 2439.16\n",
      "[40]\tvalid_0's l2: 157.979\tvalid_1's l2: 2286.98\n",
      "[60]\tvalid_0's l2: 160.81\tvalid_1's l2: 2182.12\n",
      "[80]\tvalid_0's l2: 172.647\tvalid_1's l2: 2100.11\n",
      "[100]\tvalid_0's l2: 189.506\tvalid_1's l2: 2029.17\n"
     ]
    },
    {
     "name": "stderr",
     "output_type": "stream",
     "text": [
      "/opt/conda/lib/python3.7/site-packages/lightgbm/sklearn.py:736: UserWarning: 'verbose' argument is deprecated and will be removed in a future release of LightGBM. Pass 'log_evaluation()' callback via 'callbacks' argument instead.\n",
      "  _log_warning(\"'verbose' argument is deprecated and will be removed in a future release of LightGBM. \"\n"
     ]
    },
    {
     "name": "stdout",
     "output_type": "stream",
     "text": [
      "[20]\tvalid_0's l2: 323.202\tvalid_1's l2: 2454.44\n",
      "[40]\tvalid_0's l2: 233.931\tvalid_1's l2: 2327.3\n",
      "[60]\tvalid_0's l2: 214.417\tvalid_1's l2: 2226.75\n",
      "[80]\tvalid_0's l2: 210.422\tvalid_1's l2: 2139.37\n",
      "[100]\tvalid_0's l2: 196.789\tvalid_1's l2: 2070.98\n"
     ]
    },
    {
     "name": "stderr",
     "output_type": "stream",
     "text": [
      "/opt/conda/lib/python3.7/site-packages/lightgbm/sklearn.py:736: UserWarning: 'verbose' argument is deprecated and will be removed in a future release of LightGBM. Pass 'log_evaluation()' callback via 'callbacks' argument instead.\n",
      "  _log_warning(\"'verbose' argument is deprecated and will be removed in a future release of LightGBM. \"\n"
     ]
    },
    {
     "name": "stdout",
     "output_type": "stream",
     "text": [
      "[20]\tvalid_0's l2: 467.912\tvalid_1's l2: 2534.9\n",
      "[40]\tvalid_0's l2: 432.65\tvalid_1's l2: 2445.46\n",
      "[60]\tvalid_0's l2: 338.219\tvalid_1's l2: 2382.11\n",
      "[80]\tvalid_0's l2: 338.768\tvalid_1's l2: 2320.03\n",
      "[100]\tvalid_0's l2: 298.274\tvalid_1's l2: 2274.48\n"
     ]
    },
    {
     "name": "stderr",
     "output_type": "stream",
     "text": [
      "/opt/conda/lib/python3.7/site-packages/lightgbm/sklearn.py:736: UserWarning: 'verbose' argument is deprecated and will be removed in a future release of LightGBM. Pass 'log_evaluation()' callback via 'callbacks' argument instead.\n",
      "  _log_warning(\"'verbose' argument is deprecated and will be removed in a future release of LightGBM. \"\n"
     ]
    },
    {
     "name": "stdout",
     "output_type": "stream",
     "text": [
      "[20]\tvalid_0's l2: 839.629\tvalid_1's l2: 2454.66\n",
      "[40]\tvalid_0's l2: 717.467\tvalid_1's l2: 2341.11\n",
      "[60]\tvalid_0's l2: 600.819\tvalid_1's l2: 2252.84\n",
      "[80]\tvalid_0's l2: 521.984\tvalid_1's l2: 2184.69\n",
      "[100]\tvalid_0's l2: 468.574\tvalid_1's l2: 2128.74\n"
     ]
    },
    {
     "name": "stderr",
     "output_type": "stream",
     "text": [
      "/opt/conda/lib/python3.7/site-packages/lightgbm/sklearn.py:736: UserWarning: 'verbose' argument is deprecated and will be removed in a future release of LightGBM. Pass 'log_evaluation()' callback via 'callbacks' argument instead.\n",
      "  _log_warning(\"'verbose' argument is deprecated and will be removed in a future release of LightGBM. \"\n"
     ]
    },
    {
     "name": "stdout",
     "output_type": "stream",
     "text": [
      "[20]\tvalid_0's l2: 109.517\tvalid_1's l2: 2431.59\n",
      "[40]\tvalid_0's l2: 131.549\tvalid_1's l2: 2301.35\n",
      "[60]\tvalid_0's l2: 131.09\tvalid_1's l2: 2206.98\n",
      "[80]\tvalid_0's l2: 203.681\tvalid_1's l2: 2121.51\n",
      "[100]\tvalid_0's l2: 275.263\tvalid_1's l2: 2048\n"
     ]
    },
    {
     "name": "stderr",
     "output_type": "stream",
     "text": [
      "/opt/conda/lib/python3.7/site-packages/lightgbm/sklearn.py:736: UserWarning: 'verbose' argument is deprecated and will be removed in a future release of LightGBM. Pass 'log_evaluation()' callback via 'callbacks' argument instead.\n",
      "  _log_warning(\"'verbose' argument is deprecated and will be removed in a future release of LightGBM. \"\n"
     ]
    },
    {
     "name": "stdout",
     "output_type": "stream",
     "text": [
      "[20]\tvalid_0's l2: 189.465\tvalid_1's l2: 2439.16\n",
      "[40]\tvalid_0's l2: 157.979\tvalid_1's l2: 2286.98\n",
      "[60]\tvalid_0's l2: 160.81\tvalid_1's l2: 2182.12\n",
      "[80]\tvalid_0's l2: 172.647\tvalid_1's l2: 2100.11\n",
      "[100]\tvalid_0's l2: 189.506\tvalid_1's l2: 2029.17\n"
     ]
    },
    {
     "name": "stderr",
     "output_type": "stream",
     "text": [
      "/opt/conda/lib/python3.7/site-packages/lightgbm/sklearn.py:736: UserWarning: 'verbose' argument is deprecated and will be removed in a future release of LightGBM. Pass 'log_evaluation()' callback via 'callbacks' argument instead.\n",
      "  _log_warning(\"'verbose' argument is deprecated and will be removed in a future release of LightGBM. \"\n"
     ]
    },
    {
     "name": "stdout",
     "output_type": "stream",
     "text": [
      "[20]\tvalid_0's l2: 323.202\tvalid_1's l2: 2454.44\n",
      "[40]\tvalid_0's l2: 233.931\tvalid_1's l2: 2327.3\n",
      "[60]\tvalid_0's l2: 214.417\tvalid_1's l2: 2226.75\n",
      "[80]\tvalid_0's l2: 210.422\tvalid_1's l2: 2139.37\n",
      "[100]\tvalid_0's l2: 196.789\tvalid_1's l2: 2070.98\n"
     ]
    },
    {
     "name": "stderr",
     "output_type": "stream",
     "text": [
      "/opt/conda/lib/python3.7/site-packages/lightgbm/sklearn.py:736: UserWarning: 'verbose' argument is deprecated and will be removed in a future release of LightGBM. Pass 'log_evaluation()' callback via 'callbacks' argument instead.\n",
      "  _log_warning(\"'verbose' argument is deprecated and will be removed in a future release of LightGBM. \"\n"
     ]
    },
    {
     "name": "stdout",
     "output_type": "stream",
     "text": [
      "[20]\tvalid_0's l2: 467.912\tvalid_1's l2: 2534.9\n",
      "[40]\tvalid_0's l2: 432.65\tvalid_1's l2: 2445.46\n",
      "[60]\tvalid_0's l2: 338.219\tvalid_1's l2: 2382.11\n",
      "[80]\tvalid_0's l2: 338.768\tvalid_1's l2: 2320.03\n",
      "[100]\tvalid_0's l2: 298.274\tvalid_1's l2: 2274.48\n"
     ]
    },
    {
     "name": "stderr",
     "output_type": "stream",
     "text": [
      "/opt/conda/lib/python3.7/site-packages/lightgbm/sklearn.py:736: UserWarning: 'verbose' argument is deprecated and will be removed in a future release of LightGBM. Pass 'log_evaluation()' callback via 'callbacks' argument instead.\n",
      "  _log_warning(\"'verbose' argument is deprecated and will be removed in a future release of LightGBM. \"\n"
     ]
    },
    {
     "name": "stdout",
     "output_type": "stream",
     "text": [
      "[20]\tvalid_0's l2: 837.946\tvalid_1's l2: 2454.36\n",
      "[40]\tvalid_0's l2: 723.53\tvalid_1's l2: 2338.96\n",
      "[60]\tvalid_0's l2: 555.028\tvalid_1's l2: 2250.98\n",
      "[80]\tvalid_0's l2: 491.206\tvalid_1's l2: 2180.02\n",
      "[100]\tvalid_0's l2: 469.841\tvalid_1's l2: 2122.69\n"
     ]
    },
    {
     "name": "stderr",
     "output_type": "stream",
     "text": [
      "/opt/conda/lib/python3.7/site-packages/lightgbm/sklearn.py:736: UserWarning: 'verbose' argument is deprecated and will be removed in a future release of LightGBM. Pass 'log_evaluation()' callback via 'callbacks' argument instead.\n",
      "  _log_warning(\"'verbose' argument is deprecated and will be removed in a future release of LightGBM. \"\n"
     ]
    },
    {
     "name": "stdout",
     "output_type": "stream",
     "text": [
      "[20]\tvalid_0's l2: 112.818\tvalid_1's l2: 2433.04\n",
      "[40]\tvalid_0's l2: 81.5223\tvalid_1's l2: 2304.51\n",
      "[60]\tvalid_0's l2: 140.981\tvalid_1's l2: 2204.28\n",
      "[80]\tvalid_0's l2: 220.824\tvalid_1's l2: 2119.39\n",
      "[100]\tvalid_0's l2: 332.7\tvalid_1's l2: 2047.44\n"
     ]
    },
    {
     "name": "stderr",
     "output_type": "stream",
     "text": [
      "/opt/conda/lib/python3.7/site-packages/lightgbm/sklearn.py:736: UserWarning: 'verbose' argument is deprecated and will be removed in a future release of LightGBM. Pass 'log_evaluation()' callback via 'callbacks' argument instead.\n",
      "  _log_warning(\"'verbose' argument is deprecated and will be removed in a future release of LightGBM. \"\n"
     ]
    },
    {
     "name": "stdout",
     "output_type": "stream",
     "text": [
      "[20]\tvalid_0's l2: 210.742\tvalid_1's l2: 2439.74\n",
      "[40]\tvalid_0's l2: 192.368\tvalid_1's l2: 2295.38\n",
      "[60]\tvalid_0's l2: 160.555\tvalid_1's l2: 2190.65\n",
      "[80]\tvalid_0's l2: 189.18\tvalid_1's l2: 2107.69\n",
      "[100]\tvalid_0's l2: 167.555\tvalid_1's l2: 2045.5\n"
     ]
    },
    {
     "name": "stderr",
     "output_type": "stream",
     "text": [
      "/opt/conda/lib/python3.7/site-packages/lightgbm/sklearn.py:736: UserWarning: 'verbose' argument is deprecated and will be removed in a future release of LightGBM. Pass 'log_evaluation()' callback via 'callbacks' argument instead.\n",
      "  _log_warning(\"'verbose' argument is deprecated and will be removed in a future release of LightGBM. \"\n"
     ]
    },
    {
     "name": "stdout",
     "output_type": "stream",
     "text": [
      "[20]\tvalid_0's l2: 321.041\tvalid_1's l2: 2455.9\n",
      "[40]\tvalid_0's l2: 207.414\tvalid_1's l2: 2324.52\n",
      "[60]\tvalid_0's l2: 215.859\tvalid_1's l2: 2227.2\n",
      "[80]\tvalid_0's l2: 239.44\tvalid_1's l2: 2139.65\n",
      "[100]\tvalid_0's l2: 269.774\tvalid_1's l2: 2073.68\n"
     ]
    },
    {
     "name": "stderr",
     "output_type": "stream",
     "text": [
      "/opt/conda/lib/python3.7/site-packages/lightgbm/sklearn.py:736: UserWarning: 'verbose' argument is deprecated and will be removed in a future release of LightGBM. Pass 'log_evaluation()' callback via 'callbacks' argument instead.\n",
      "  _log_warning(\"'verbose' argument is deprecated and will be removed in a future release of LightGBM. \"\n"
     ]
    },
    {
     "name": "stdout",
     "output_type": "stream",
     "text": [
      "[20]\tvalid_0's l2: 463.591\tvalid_1's l2: 2534.69\n",
      "[40]\tvalid_0's l2: 474.794\tvalid_1's l2: 2451.65\n",
      "[60]\tvalid_0's l2: 437.086\tvalid_1's l2: 2371.46\n",
      "[80]\tvalid_0's l2: 386.519\tvalid_1's l2: 2319.71\n",
      "[100]\tvalid_0's l2: 383.172\tvalid_1's l2: 2266.94\n"
     ]
    },
    {
     "name": "stderr",
     "output_type": "stream",
     "text": [
      "/opt/conda/lib/python3.7/site-packages/lightgbm/sklearn.py:736: UserWarning: 'verbose' argument is deprecated and will be removed in a future release of LightGBM. Pass 'log_evaluation()' callback via 'callbacks' argument instead.\n",
      "  _log_warning(\"'verbose' argument is deprecated and will be removed in a future release of LightGBM. \"\n"
     ]
    },
    {
     "name": "stdout",
     "output_type": "stream",
     "text": [
      "[20]\tvalid_0's l2: 837.946\tvalid_1's l2: 2454.36\n",
      "[40]\tvalid_0's l2: 723.53\tvalid_1's l2: 2338.96\n",
      "[60]\tvalid_0's l2: 555.028\tvalid_1's l2: 2250.98\n",
      "[80]\tvalid_0's l2: 491.206\tvalid_1's l2: 2180.02\n",
      "[100]\tvalid_0's l2: 469.841\tvalid_1's l2: 2122.69\n"
     ]
    },
    {
     "name": "stderr",
     "output_type": "stream",
     "text": [
      "/opt/conda/lib/python3.7/site-packages/lightgbm/sklearn.py:736: UserWarning: 'verbose' argument is deprecated and will be removed in a future release of LightGBM. Pass 'log_evaluation()' callback via 'callbacks' argument instead.\n",
      "  _log_warning(\"'verbose' argument is deprecated and will be removed in a future release of LightGBM. \"\n"
     ]
    },
    {
     "name": "stdout",
     "output_type": "stream",
     "text": [
      "[20]\tvalid_0's l2: 112.818\tvalid_1's l2: 2433.04\n",
      "[40]\tvalid_0's l2: 81.5223\tvalid_1's l2: 2304.51\n",
      "[60]\tvalid_0's l2: 140.981\tvalid_1's l2: 2204.28\n",
      "[80]\tvalid_0's l2: 220.824\tvalid_1's l2: 2119.39\n",
      "[100]\tvalid_0's l2: 332.7\tvalid_1's l2: 2047.44\n"
     ]
    },
    {
     "name": "stderr",
     "output_type": "stream",
     "text": [
      "/opt/conda/lib/python3.7/site-packages/lightgbm/sklearn.py:736: UserWarning: 'verbose' argument is deprecated and will be removed in a future release of LightGBM. Pass 'log_evaluation()' callback via 'callbacks' argument instead.\n",
      "  _log_warning(\"'verbose' argument is deprecated and will be removed in a future release of LightGBM. \"\n"
     ]
    },
    {
     "name": "stdout",
     "output_type": "stream",
     "text": [
      "[20]\tvalid_0's l2: 210.742\tvalid_1's l2: 2439.74\n",
      "[40]\tvalid_0's l2: 192.368\tvalid_1's l2: 2295.38\n",
      "[60]\tvalid_0's l2: 160.555\tvalid_1's l2: 2190.65\n",
      "[80]\tvalid_0's l2: 189.18\tvalid_1's l2: 2107.69\n",
      "[100]\tvalid_0's l2: 167.555\tvalid_1's l2: 2045.5\n"
     ]
    },
    {
     "name": "stderr",
     "output_type": "stream",
     "text": [
      "/opt/conda/lib/python3.7/site-packages/lightgbm/sklearn.py:736: UserWarning: 'verbose' argument is deprecated and will be removed in a future release of LightGBM. Pass 'log_evaluation()' callback via 'callbacks' argument instead.\n",
      "  _log_warning(\"'verbose' argument is deprecated and will be removed in a future release of LightGBM. \"\n"
     ]
    },
    {
     "name": "stdout",
     "output_type": "stream",
     "text": [
      "[20]\tvalid_0's l2: 321.041\tvalid_1's l2: 2455.9\n",
      "[40]\tvalid_0's l2: 207.414\tvalid_1's l2: 2324.52\n",
      "[60]\tvalid_0's l2: 215.859\tvalid_1's l2: 2227.2\n",
      "[80]\tvalid_0's l2: 239.44\tvalid_1's l2: 2139.65\n",
      "[100]\tvalid_0's l2: 269.774\tvalid_1's l2: 2073.68\n"
     ]
    },
    {
     "name": "stderr",
     "output_type": "stream",
     "text": [
      "/opt/conda/lib/python3.7/site-packages/lightgbm/sklearn.py:736: UserWarning: 'verbose' argument is deprecated and will be removed in a future release of LightGBM. Pass 'log_evaluation()' callback via 'callbacks' argument instead.\n",
      "  _log_warning(\"'verbose' argument is deprecated and will be removed in a future release of LightGBM. \"\n"
     ]
    },
    {
     "name": "stdout",
     "output_type": "stream",
     "text": [
      "[20]\tvalid_0's l2: 463.591\tvalid_1's l2: 2534.69\n",
      "[40]\tvalid_0's l2: 474.794\tvalid_1's l2: 2451.65\n",
      "[60]\tvalid_0's l2: 437.086\tvalid_1's l2: 2371.46\n",
      "[80]\tvalid_0's l2: 386.519\tvalid_1's l2: 2319.71\n",
      "[100]\tvalid_0's l2: 383.172\tvalid_1's l2: 2266.94\n"
     ]
    },
    {
     "name": "stderr",
     "output_type": "stream",
     "text": [
      "/opt/conda/lib/python3.7/site-packages/lightgbm/sklearn.py:736: UserWarning: 'verbose' argument is deprecated and will be removed in a future release of LightGBM. Pass 'log_evaluation()' callback via 'callbacks' argument instead.\n",
      "  _log_warning(\"'verbose' argument is deprecated and will be removed in a future release of LightGBM. \"\n"
     ]
    },
    {
     "name": "stdout",
     "output_type": "stream",
     "text": [
      "[20]\tvalid_0's l2: 839.455\tvalid_1's l2: 2454.76\n",
      "[40]\tvalid_0's l2: 717.604\tvalid_1's l2: 2341.29\n",
      "[60]\tvalid_0's l2: 617.305\tvalid_1's l2: 2253.23\n",
      "[80]\tvalid_0's l2: 537.515\tvalid_1's l2: 2181.37\n",
      "[100]\tvalid_0's l2: 475.687\tvalid_1's l2: 2123.91\n"
     ]
    },
    {
     "name": "stderr",
     "output_type": "stream",
     "text": [
      "/opt/conda/lib/python3.7/site-packages/lightgbm/sklearn.py:736: UserWarning: 'verbose' argument is deprecated and will be removed in a future release of LightGBM. Pass 'log_evaluation()' callback via 'callbacks' argument instead.\n",
      "  _log_warning(\"'verbose' argument is deprecated and will be removed in a future release of LightGBM. \"\n"
     ]
    },
    {
     "name": "stdout",
     "output_type": "stream",
     "text": [
      "[20]\tvalid_0's l2: 109.558\tvalid_1's l2: 2431.68\n",
      "[40]\tvalid_0's l2: 131.509\tvalid_1's l2: 2301.5\n",
      "[60]\tvalid_0's l2: 130.984\tvalid_1's l2: 2207.18\n",
      "[80]\tvalid_0's l2: 203.395\tvalid_1's l2: 2121.76\n",
      "[100]\tvalid_0's l2: 273.634\tvalid_1's l2: 2053.81\n"
     ]
    },
    {
     "name": "stderr",
     "output_type": "stream",
     "text": [
      "/opt/conda/lib/python3.7/site-packages/lightgbm/sklearn.py:736: UserWarning: 'verbose' argument is deprecated and will be removed in a future release of LightGBM. Pass 'log_evaluation()' callback via 'callbacks' argument instead.\n",
      "  _log_warning(\"'verbose' argument is deprecated and will be removed in a future release of LightGBM. \"\n"
     ]
    },
    {
     "name": "stdout",
     "output_type": "stream",
     "text": [
      "[20]\tvalid_0's l2: 190.579\tvalid_1's l2: 2438.76\n",
      "[40]\tvalid_0's l2: 181.26\tvalid_1's l2: 2289.23\n",
      "[60]\tvalid_0's l2: 169.609\tvalid_1's l2: 2183.42\n",
      "[80]\tvalid_0's l2: 178.636\tvalid_1's l2: 2101.55\n",
      "[100]\tvalid_0's l2: 204.348\tvalid_1's l2: 2030.32\n"
     ]
    },
    {
     "name": "stderr",
     "output_type": "stream",
     "text": [
      "/opt/conda/lib/python3.7/site-packages/lightgbm/sklearn.py:736: UserWarning: 'verbose' argument is deprecated and will be removed in a future release of LightGBM. Pass 'log_evaluation()' callback via 'callbacks' argument instead.\n",
      "  _log_warning(\"'verbose' argument is deprecated and will be removed in a future release of LightGBM. \"\n"
     ]
    },
    {
     "name": "stdout",
     "output_type": "stream",
     "text": [
      "[20]\tvalid_0's l2: 323.096\tvalid_1's l2: 2454.54\n",
      "[40]\tvalid_0's l2: 218.592\tvalid_1's l2: 2328.65\n",
      "[60]\tvalid_0's l2: 241.28\tvalid_1's l2: 2227.66\n",
      "[80]\tvalid_0's l2: 217.22\tvalid_1's l2: 2140.01\n",
      "[100]\tvalid_0's l2: 258.812\tvalid_1's l2: 2067.25\n"
     ]
    },
    {
     "name": "stderr",
     "output_type": "stream",
     "text": [
      "/opt/conda/lib/python3.7/site-packages/lightgbm/sklearn.py:736: UserWarning: 'verbose' argument is deprecated and will be removed in a future release of LightGBM. Pass 'log_evaluation()' callback via 'callbacks' argument instead.\n",
      "  _log_warning(\"'verbose' argument is deprecated and will be removed in a future release of LightGBM. \"\n"
     ]
    },
    {
     "name": "stdout",
     "output_type": "stream",
     "text": [
      "[20]\tvalid_0's l2: 465.087\tvalid_1's l2: 2534.13\n",
      "[40]\tvalid_0's l2: 498.885\tvalid_1's l2: 2449.67\n",
      "[60]\tvalid_0's l2: 405.862\tvalid_1's l2: 2371.19\n",
      "[80]\tvalid_0's l2: 341.79\tvalid_1's l2: 2317.43\n",
      "[100]\tvalid_0's l2: 319.48\tvalid_1's l2: 2268.17\n"
     ]
    },
    {
     "name": "stderr",
     "output_type": "stream",
     "text": [
      "/opt/conda/lib/python3.7/site-packages/lightgbm/sklearn.py:736: UserWarning: 'verbose' argument is deprecated and will be removed in a future release of LightGBM. Pass 'log_evaluation()' callback via 'callbacks' argument instead.\n",
      "  _log_warning(\"'verbose' argument is deprecated and will be removed in a future release of LightGBM. \"\n"
     ]
    },
    {
     "name": "stdout",
     "output_type": "stream",
     "text": [
      "[20]\tvalid_0's l2: 839.455\tvalid_1's l2: 2454.76\n",
      "[40]\tvalid_0's l2: 717.604\tvalid_1's l2: 2341.29\n",
      "[60]\tvalid_0's l2: 617.305\tvalid_1's l2: 2253.23\n",
      "[80]\tvalid_0's l2: 537.515\tvalid_1's l2: 2181.37\n",
      "[100]\tvalid_0's l2: 475.687\tvalid_1's l2: 2123.91\n"
     ]
    },
    {
     "name": "stderr",
     "output_type": "stream",
     "text": [
      "/opt/conda/lib/python3.7/site-packages/lightgbm/sklearn.py:736: UserWarning: 'verbose' argument is deprecated and will be removed in a future release of LightGBM. Pass 'log_evaluation()' callback via 'callbacks' argument instead.\n",
      "  _log_warning(\"'verbose' argument is deprecated and will be removed in a future release of LightGBM. \"\n"
     ]
    },
    {
     "name": "stdout",
     "output_type": "stream",
     "text": [
      "[20]\tvalid_0's l2: 109.558\tvalid_1's l2: 2431.68\n",
      "[40]\tvalid_0's l2: 131.509\tvalid_1's l2: 2301.5\n",
      "[60]\tvalid_0's l2: 130.984\tvalid_1's l2: 2207.18\n",
      "[80]\tvalid_0's l2: 203.395\tvalid_1's l2: 2121.76\n",
      "[100]\tvalid_0's l2: 273.634\tvalid_1's l2: 2053.81\n"
     ]
    },
    {
     "name": "stderr",
     "output_type": "stream",
     "text": [
      "/opt/conda/lib/python3.7/site-packages/lightgbm/sklearn.py:736: UserWarning: 'verbose' argument is deprecated and will be removed in a future release of LightGBM. Pass 'log_evaluation()' callback via 'callbacks' argument instead.\n",
      "  _log_warning(\"'verbose' argument is deprecated and will be removed in a future release of LightGBM. \"\n"
     ]
    },
    {
     "name": "stdout",
     "output_type": "stream",
     "text": [
      "[20]\tvalid_0's l2: 190.579\tvalid_1's l2: 2438.76\n",
      "[40]\tvalid_0's l2: 181.26\tvalid_1's l2: 2289.23\n",
      "[60]\tvalid_0's l2: 169.609\tvalid_1's l2: 2183.42\n",
      "[80]\tvalid_0's l2: 178.636\tvalid_1's l2: 2101.55\n",
      "[100]\tvalid_0's l2: 204.348\tvalid_1's l2: 2030.32\n"
     ]
    },
    {
     "name": "stderr",
     "output_type": "stream",
     "text": [
      "/opt/conda/lib/python3.7/site-packages/lightgbm/sklearn.py:736: UserWarning: 'verbose' argument is deprecated and will be removed in a future release of LightGBM. Pass 'log_evaluation()' callback via 'callbacks' argument instead.\n",
      "  _log_warning(\"'verbose' argument is deprecated and will be removed in a future release of LightGBM. \"\n"
     ]
    },
    {
     "name": "stdout",
     "output_type": "stream",
     "text": [
      "[20]\tvalid_0's l2: 323.096\tvalid_1's l2: 2454.54\n",
      "[40]\tvalid_0's l2: 218.592\tvalid_1's l2: 2328.65\n",
      "[60]\tvalid_0's l2: 241.28\tvalid_1's l2: 2227.66\n",
      "[80]\tvalid_0's l2: 217.22\tvalid_1's l2: 2140.01\n",
      "[100]\tvalid_0's l2: 258.812\tvalid_1's l2: 2067.25\n"
     ]
    },
    {
     "name": "stderr",
     "output_type": "stream",
     "text": [
      "/opt/conda/lib/python3.7/site-packages/lightgbm/sklearn.py:736: UserWarning: 'verbose' argument is deprecated and will be removed in a future release of LightGBM. Pass 'log_evaluation()' callback via 'callbacks' argument instead.\n",
      "  _log_warning(\"'verbose' argument is deprecated and will be removed in a future release of LightGBM. \"\n"
     ]
    },
    {
     "name": "stdout",
     "output_type": "stream",
     "text": [
      "[20]\tvalid_0's l2: 465.087\tvalid_1's l2: 2534.13\n",
      "[40]\tvalid_0's l2: 498.885\tvalid_1's l2: 2449.67\n",
      "[60]\tvalid_0's l2: 405.862\tvalid_1's l2: 2371.19\n",
      "[80]\tvalid_0's l2: 341.79\tvalid_1's l2: 2317.43\n",
      "[100]\tvalid_0's l2: 319.48\tvalid_1's l2: 2268.17\n"
     ]
    },
    {
     "name": "stderr",
     "output_type": "stream",
     "text": [
      "/opt/conda/lib/python3.7/site-packages/lightgbm/sklearn.py:736: UserWarning: 'verbose' argument is deprecated and will be removed in a future release of LightGBM. Pass 'log_evaluation()' callback via 'callbacks' argument instead.\n",
      "  _log_warning(\"'verbose' argument is deprecated and will be removed in a future release of LightGBM. \"\n"
     ]
    },
    {
     "name": "stdout",
     "output_type": "stream",
     "text": [
      "[20]\tvalid_0's l2: 805.166\tvalid_1's l2: 2451.97\n",
      "[40]\tvalid_0's l2: 703.488\tvalid_1's l2: 2339.3\n",
      "[60]\tvalid_0's l2: 603.431\tvalid_1's l2: 2254.34\n",
      "[80]\tvalid_0's l2: 511.809\tvalid_1's l2: 2186.9\n",
      "[100]\tvalid_0's l2: 441.433\tvalid_1's l2: 2127.16\n"
     ]
    },
    {
     "name": "stderr",
     "output_type": "stream",
     "text": [
      "/opt/conda/lib/python3.7/site-packages/lightgbm/sklearn.py:736: UserWarning: 'verbose' argument is deprecated and will be removed in a future release of LightGBM. Pass 'log_evaluation()' callback via 'callbacks' argument instead.\n",
      "  _log_warning(\"'verbose' argument is deprecated and will be removed in a future release of LightGBM. \"\n"
     ]
    },
    {
     "name": "stdout",
     "output_type": "stream",
     "text": [
      "[20]\tvalid_0's l2: 112.859\tvalid_1's l2: 2433.12\n",
      "[40]\tvalid_0's l2: 81.5388\tvalid_1's l2: 2304.66\n",
      "[60]\tvalid_0's l2: 140.891\tvalid_1's l2: 2204.48\n",
      "[80]\tvalid_0's l2: 220.655\tvalid_1's l2: 2119.63\n",
      "[100]\tvalid_0's l2: 369.615\tvalid_1's l2: 2044.6\n"
     ]
    },
    {
     "name": "stderr",
     "output_type": "stream",
     "text": [
      "/opt/conda/lib/python3.7/site-packages/lightgbm/sklearn.py:736: UserWarning: 'verbose' argument is deprecated and will be removed in a future release of LightGBM. Pass 'log_evaluation()' callback via 'callbacks' argument instead.\n",
      "  _log_warning(\"'verbose' argument is deprecated and will be removed in a future release of LightGBM. \"\n"
     ]
    },
    {
     "name": "stdout",
     "output_type": "stream",
     "text": [
      "[20]\tvalid_0's l2: 210.753\tvalid_1's l2: 2439.84\n",
      "[40]\tvalid_0's l2: 192.348\tvalid_1's l2: 2295.55\n",
      "[60]\tvalid_0's l2: 160.425\tvalid_1's l2: 2190.87\n",
      "[80]\tvalid_0's l2: 189.012\tvalid_1's l2: 2107.95\n",
      "[100]\tvalid_0's l2: 198.065\tvalid_1's l2: 2041.62\n"
     ]
    },
    {
     "name": "stderr",
     "output_type": "stream",
     "text": [
      "/opt/conda/lib/python3.7/site-packages/lightgbm/sklearn.py:736: UserWarning: 'verbose' argument is deprecated and will be removed in a future release of LightGBM. Pass 'log_evaluation()' callback via 'callbacks' argument instead.\n",
      "  _log_warning(\"'verbose' argument is deprecated and will be removed in a future release of LightGBM. \"\n"
     ]
    },
    {
     "name": "stdout",
     "output_type": "stream",
     "text": [
      "[20]\tvalid_0's l2: 320.279\tvalid_1's l2: 2456.09\n",
      "[40]\tvalid_0's l2: 240.709\tvalid_1's l2: 2326.15\n",
      "[60]\tvalid_0's l2: 221.16\tvalid_1's l2: 2228.02\n",
      "[80]\tvalid_0's l2: 215.692\tvalid_1's l2: 2143.43\n",
      "[100]\tvalid_0's l2: 237.258\tvalid_1's l2: 2073.76\n"
     ]
    },
    {
     "name": "stderr",
     "output_type": "stream",
     "text": [
      "/opt/conda/lib/python3.7/site-packages/lightgbm/sklearn.py:736: UserWarning: 'verbose' argument is deprecated and will be removed in a future release of LightGBM. Pass 'log_evaluation()' callback via 'callbacks' argument instead.\n",
      "  _log_warning(\"'verbose' argument is deprecated and will be removed in a future release of LightGBM. \"\n"
     ]
    },
    {
     "name": "stdout",
     "output_type": "stream",
     "text": [
      "[20]\tvalid_0's l2: 463.5\tvalid_1's l2: 2534.77\n",
      "[40]\tvalid_0's l2: 490.385\tvalid_1's l2: 2443.7\n",
      "[60]\tvalid_0's l2: 363.504\tvalid_1's l2: 2369.78\n",
      "[80]\tvalid_0's l2: 325.491\tvalid_1's l2: 2322.77\n",
      "[100]\tvalid_0's l2: 336.248\tvalid_1's l2: 2276.16\n"
     ]
    },
    {
     "name": "stderr",
     "output_type": "stream",
     "text": [
      "/opt/conda/lib/python3.7/site-packages/lightgbm/sklearn.py:736: UserWarning: 'verbose' argument is deprecated and will be removed in a future release of LightGBM. Pass 'log_evaluation()' callback via 'callbacks' argument instead.\n",
      "  _log_warning(\"'verbose' argument is deprecated and will be removed in a future release of LightGBM. \"\n"
     ]
    },
    {
     "name": "stdout",
     "output_type": "stream",
     "text": [
      "[20]\tvalid_0's l2: 805.166\tvalid_1's l2: 2451.97\n",
      "[40]\tvalid_0's l2: 703.488\tvalid_1's l2: 2339.3\n",
      "[60]\tvalid_0's l2: 603.431\tvalid_1's l2: 2254.34\n",
      "[80]\tvalid_0's l2: 511.809\tvalid_1's l2: 2186.9\n",
      "[100]\tvalid_0's l2: 441.433\tvalid_1's l2: 2127.16\n"
     ]
    },
    {
     "name": "stderr",
     "output_type": "stream",
     "text": [
      "/opt/conda/lib/python3.7/site-packages/lightgbm/sklearn.py:736: UserWarning: 'verbose' argument is deprecated and will be removed in a future release of LightGBM. Pass 'log_evaluation()' callback via 'callbacks' argument instead.\n",
      "  _log_warning(\"'verbose' argument is deprecated and will be removed in a future release of LightGBM. \"\n"
     ]
    },
    {
     "name": "stdout",
     "output_type": "stream",
     "text": [
      "[20]\tvalid_0's l2: 112.859\tvalid_1's l2: 2433.12\n",
      "[40]\tvalid_0's l2: 81.5388\tvalid_1's l2: 2304.66\n",
      "[60]\tvalid_0's l2: 140.891\tvalid_1's l2: 2204.48\n",
      "[80]\tvalid_0's l2: 220.655\tvalid_1's l2: 2119.63\n",
      "[100]\tvalid_0's l2: 369.615\tvalid_1's l2: 2044.6\n"
     ]
    },
    {
     "name": "stderr",
     "output_type": "stream",
     "text": [
      "/opt/conda/lib/python3.7/site-packages/lightgbm/sklearn.py:736: UserWarning: 'verbose' argument is deprecated and will be removed in a future release of LightGBM. Pass 'log_evaluation()' callback via 'callbacks' argument instead.\n",
      "  _log_warning(\"'verbose' argument is deprecated and will be removed in a future release of LightGBM. \"\n"
     ]
    },
    {
     "name": "stdout",
     "output_type": "stream",
     "text": [
      "[20]\tvalid_0's l2: 210.753\tvalid_1's l2: 2439.84\n",
      "[40]\tvalid_0's l2: 192.348\tvalid_1's l2: 2295.55\n",
      "[60]\tvalid_0's l2: 160.425\tvalid_1's l2: 2190.87\n",
      "[80]\tvalid_0's l2: 189.012\tvalid_1's l2: 2107.95\n",
      "[100]\tvalid_0's l2: 198.065\tvalid_1's l2: 2041.62\n"
     ]
    },
    {
     "name": "stderr",
     "output_type": "stream",
     "text": [
      "/opt/conda/lib/python3.7/site-packages/lightgbm/sklearn.py:736: UserWarning: 'verbose' argument is deprecated and will be removed in a future release of LightGBM. Pass 'log_evaluation()' callback via 'callbacks' argument instead.\n",
      "  _log_warning(\"'verbose' argument is deprecated and will be removed in a future release of LightGBM. \"\n"
     ]
    },
    {
     "name": "stdout",
     "output_type": "stream",
     "text": [
      "[20]\tvalid_0's l2: 320.279\tvalid_1's l2: 2456.09\n",
      "[40]\tvalid_0's l2: 240.709\tvalid_1's l2: 2326.15\n",
      "[60]\tvalid_0's l2: 221.16\tvalid_1's l2: 2228.02\n",
      "[80]\tvalid_0's l2: 215.692\tvalid_1's l2: 2143.43\n",
      "[100]\tvalid_0's l2: 237.258\tvalid_1's l2: 2073.76\n"
     ]
    },
    {
     "name": "stderr",
     "output_type": "stream",
     "text": [
      "/opt/conda/lib/python3.7/site-packages/lightgbm/sklearn.py:736: UserWarning: 'verbose' argument is deprecated and will be removed in a future release of LightGBM. Pass 'log_evaluation()' callback via 'callbacks' argument instead.\n",
      "  _log_warning(\"'verbose' argument is deprecated and will be removed in a future release of LightGBM. \"\n"
     ]
    },
    {
     "name": "stdout",
     "output_type": "stream",
     "text": [
      "[20]\tvalid_0's l2: 463.5\tvalid_1's l2: 2534.77\n",
      "[40]\tvalid_0's l2: 490.385\tvalid_1's l2: 2443.7\n",
      "[60]\tvalid_0's l2: 363.504\tvalid_1's l2: 2369.78\n",
      "[80]\tvalid_0's l2: 325.491\tvalid_1's l2: 2322.77\n",
      "[100]\tvalid_0's l2: 336.248\tvalid_1's l2: 2276.16\n"
     ]
    },
    {
     "name": "stderr",
     "output_type": "stream",
     "text": [
      "/opt/conda/lib/python3.7/site-packages/lightgbm/sklearn.py:736: UserWarning: 'verbose' argument is deprecated and will be removed in a future release of LightGBM. Pass 'log_evaluation()' callback via 'callbacks' argument instead.\n",
      "  _log_warning(\"'verbose' argument is deprecated and will be removed in a future release of LightGBM. \"\n"
     ]
    },
    {
     "name": "stdout",
     "output_type": "stream",
     "text": [
      "[20]\tvalid_0's l2: 839.794\tvalid_1's l2: 2453.93\n",
      "[40]\tvalid_0's l2: 700.377\tvalid_1's l2: 2338.82\n",
      "[60]\tvalid_0's l2: 545.438\tvalid_1's l2: 2249.63\n",
      "[80]\tvalid_0's l2: 541.486\tvalid_1's l2: 2176.7\n",
      "[100]\tvalid_0's l2: 487.031\tvalid_1's l2: 2113.99\n"
     ]
    },
    {
     "name": "stderr",
     "output_type": "stream",
     "text": [
      "/opt/conda/lib/python3.7/site-packages/lightgbm/sklearn.py:736: UserWarning: 'verbose' argument is deprecated and will be removed in a future release of LightGBM. Pass 'log_evaluation()' callback via 'callbacks' argument instead.\n",
      "  _log_warning(\"'verbose' argument is deprecated and will be removed in a future release of LightGBM. \"\n"
     ]
    },
    {
     "name": "stdout",
     "output_type": "stream",
     "text": [
      "[20]\tvalid_0's l2: 113.838\tvalid_1's l2: 2435.85\n",
      "[40]\tvalid_0's l2: 76.6042\tvalid_1's l2: 2297.61\n",
      "[60]\tvalid_0's l2: 143.332\tvalid_1's l2: 2192.27\n",
      "[80]\tvalid_0's l2: 171.037\tvalid_1's l2: 2105.36\n",
      "[100]\tvalid_0's l2: 161.785\tvalid_1's l2: 2038.65\n"
     ]
    },
    {
     "name": "stderr",
     "output_type": "stream",
     "text": [
      "/opt/conda/lib/python3.7/site-packages/lightgbm/sklearn.py:736: UserWarning: 'verbose' argument is deprecated and will be removed in a future release of LightGBM. Pass 'log_evaluation()' callback via 'callbacks' argument instead.\n",
      "  _log_warning(\"'verbose' argument is deprecated and will be removed in a future release of LightGBM. \"\n"
     ]
    },
    {
     "name": "stdout",
     "output_type": "stream",
     "text": [
      "[20]\tvalid_0's l2: 190.562\tvalid_1's l2: 2438.03\n",
      "[40]\tvalid_0's l2: 187.015\tvalid_1's l2: 2283.07\n",
      "[60]\tvalid_0's l2: 192.095\tvalid_1's l2: 2174.53\n",
      "[80]\tvalid_0's l2: 207.614\tvalid_1's l2: 2088.29\n",
      "[100]\tvalid_0's l2: 208.745\tvalid_1's l2: 2028.02\n"
     ]
    },
    {
     "name": "stderr",
     "output_type": "stream",
     "text": [
      "/opt/conda/lib/python3.7/site-packages/lightgbm/sklearn.py:736: UserWarning: 'verbose' argument is deprecated and will be removed in a future release of LightGBM. Pass 'log_evaluation()' callback via 'callbacks' argument instead.\n",
      "  _log_warning(\"'verbose' argument is deprecated and will be removed in a future release of LightGBM. \"\n"
     ]
    },
    {
     "name": "stdout",
     "output_type": "stream",
     "text": [
      "[20]\tvalid_0's l2: 320.996\tvalid_1's l2: 2453.46\n",
      "[40]\tvalid_0's l2: 270.102\tvalid_1's l2: 2323.25\n",
      "[60]\tvalid_0's l2: 252.937\tvalid_1's l2: 2219.39\n",
      "[80]\tvalid_0's l2: 258.521\tvalid_1's l2: 2130.11\n",
      "[100]\tvalid_0's l2: 275.923\tvalid_1's l2: 2061.26\n"
     ]
    },
    {
     "name": "stderr",
     "output_type": "stream",
     "text": [
      "/opt/conda/lib/python3.7/site-packages/lightgbm/sklearn.py:736: UserWarning: 'verbose' argument is deprecated and will be removed in a future release of LightGBM. Pass 'log_evaluation()' callback via 'callbacks' argument instead.\n",
      "  _log_warning(\"'verbose' argument is deprecated and will be removed in a future release of LightGBM. \"\n"
     ]
    },
    {
     "name": "stdout",
     "output_type": "stream",
     "text": [
      "[20]\tvalid_0's l2: 468.243\tvalid_1's l2: 2533.94\n",
      "[40]\tvalid_0's l2: 473.643\tvalid_1's l2: 2444.78\n",
      "[60]\tvalid_0's l2: 388.188\tvalid_1's l2: 2375.77\n",
      "[80]\tvalid_0's l2: 341.069\tvalid_1's l2: 2317.73\n",
      "[100]\tvalid_0's l2: 297.203\tvalid_1's l2: 2276.32\n"
     ]
    },
    {
     "name": "stderr",
     "output_type": "stream",
     "text": [
      "/opt/conda/lib/python3.7/site-packages/lightgbm/sklearn.py:736: UserWarning: 'verbose' argument is deprecated and will be removed in a future release of LightGBM. Pass 'log_evaluation()' callback via 'callbacks' argument instead.\n",
      "  _log_warning(\"'verbose' argument is deprecated and will be removed in a future release of LightGBM. \"\n"
     ]
    },
    {
     "name": "stdout",
     "output_type": "stream",
     "text": [
      "[20]\tvalid_0's l2: 839.794\tvalid_1's l2: 2453.93\n",
      "[40]\tvalid_0's l2: 700.377\tvalid_1's l2: 2338.82\n",
      "[60]\tvalid_0's l2: 545.438\tvalid_1's l2: 2249.63\n",
      "[80]\tvalid_0's l2: 541.486\tvalid_1's l2: 2176.7\n",
      "[100]\tvalid_0's l2: 487.031\tvalid_1's l2: 2113.99\n"
     ]
    },
    {
     "name": "stderr",
     "output_type": "stream",
     "text": [
      "/opt/conda/lib/python3.7/site-packages/lightgbm/sklearn.py:736: UserWarning: 'verbose' argument is deprecated and will be removed in a future release of LightGBM. Pass 'log_evaluation()' callback via 'callbacks' argument instead.\n",
      "  _log_warning(\"'verbose' argument is deprecated and will be removed in a future release of LightGBM. \"\n"
     ]
    },
    {
     "name": "stdout",
     "output_type": "stream",
     "text": [
      "[20]\tvalid_0's l2: 113.838\tvalid_1's l2: 2435.85\n",
      "[40]\tvalid_0's l2: 76.6042\tvalid_1's l2: 2297.61\n",
      "[60]\tvalid_0's l2: 143.332\tvalid_1's l2: 2192.27\n",
      "[80]\tvalid_0's l2: 171.037\tvalid_1's l2: 2105.36\n",
      "[100]\tvalid_0's l2: 161.785\tvalid_1's l2: 2038.65\n"
     ]
    },
    {
     "name": "stderr",
     "output_type": "stream",
     "text": [
      "/opt/conda/lib/python3.7/site-packages/lightgbm/sklearn.py:736: UserWarning: 'verbose' argument is deprecated and will be removed in a future release of LightGBM. Pass 'log_evaluation()' callback via 'callbacks' argument instead.\n",
      "  _log_warning(\"'verbose' argument is deprecated and will be removed in a future release of LightGBM. \"\n"
     ]
    },
    {
     "name": "stdout",
     "output_type": "stream",
     "text": [
      "[20]\tvalid_0's l2: 190.562\tvalid_1's l2: 2438.03\n",
      "[40]\tvalid_0's l2: 187.015\tvalid_1's l2: 2283.07\n",
      "[60]\tvalid_0's l2: 192.095\tvalid_1's l2: 2174.53\n",
      "[80]\tvalid_0's l2: 207.614\tvalid_1's l2: 2088.29\n",
      "[100]\tvalid_0's l2: 208.745\tvalid_1's l2: 2028.02\n"
     ]
    },
    {
     "name": "stderr",
     "output_type": "stream",
     "text": [
      "/opt/conda/lib/python3.7/site-packages/lightgbm/sklearn.py:736: UserWarning: 'verbose' argument is deprecated and will be removed in a future release of LightGBM. Pass 'log_evaluation()' callback via 'callbacks' argument instead.\n",
      "  _log_warning(\"'verbose' argument is deprecated and will be removed in a future release of LightGBM. \"\n"
     ]
    },
    {
     "name": "stdout",
     "output_type": "stream",
     "text": [
      "[20]\tvalid_0's l2: 320.996\tvalid_1's l2: 2453.46\n",
      "[40]\tvalid_0's l2: 270.102\tvalid_1's l2: 2323.25\n",
      "[60]\tvalid_0's l2: 252.937\tvalid_1's l2: 2219.39\n",
      "[80]\tvalid_0's l2: 258.521\tvalid_1's l2: 2130.11\n",
      "[100]\tvalid_0's l2: 275.923\tvalid_1's l2: 2061.26\n"
     ]
    },
    {
     "name": "stderr",
     "output_type": "stream",
     "text": [
      "/opt/conda/lib/python3.7/site-packages/lightgbm/sklearn.py:736: UserWarning: 'verbose' argument is deprecated and will be removed in a future release of LightGBM. Pass 'log_evaluation()' callback via 'callbacks' argument instead.\n",
      "  _log_warning(\"'verbose' argument is deprecated and will be removed in a future release of LightGBM. \"\n"
     ]
    },
    {
     "name": "stdout",
     "output_type": "stream",
     "text": [
      "[20]\tvalid_0's l2: 468.243\tvalid_1's l2: 2533.94\n",
      "[40]\tvalid_0's l2: 473.643\tvalid_1's l2: 2444.78\n",
      "[60]\tvalid_0's l2: 388.188\tvalid_1's l2: 2375.77\n",
      "[80]\tvalid_0's l2: 341.069\tvalid_1's l2: 2317.73\n",
      "[100]\tvalid_0's l2: 297.203\tvalid_1's l2: 2276.32\n"
     ]
    },
    {
     "name": "stderr",
     "output_type": "stream",
     "text": [
      "/opt/conda/lib/python3.7/site-packages/lightgbm/sklearn.py:736: UserWarning: 'verbose' argument is deprecated and will be removed in a future release of LightGBM. Pass 'log_evaluation()' callback via 'callbacks' argument instead.\n",
      "  _log_warning(\"'verbose' argument is deprecated and will be removed in a future release of LightGBM. \"\n"
     ]
    },
    {
     "name": "stdout",
     "output_type": "stream",
     "text": [
      "[20]\tvalid_0's l2: 847.516\tvalid_1's l2: 2454.25\n",
      "[40]\tvalid_0's l2: 645.524\tvalid_1's l2: 2335.34\n",
      "[60]\tvalid_0's l2: 574.723\tvalid_1's l2: 2247.44\n",
      "[80]\tvalid_0's l2: 504.917\tvalid_1's l2: 2180.06\n",
      "[100]\tvalid_0's l2: 515.466\tvalid_1's l2: 2122.7\n"
     ]
    },
    {
     "name": "stderr",
     "output_type": "stream",
     "text": [
      "/opt/conda/lib/python3.7/site-packages/lightgbm/sklearn.py:736: UserWarning: 'verbose' argument is deprecated and will be removed in a future release of LightGBM. Pass 'log_evaluation()' callback via 'callbacks' argument instead.\n",
      "  _log_warning(\"'verbose' argument is deprecated and will be removed in a future release of LightGBM. \"\n"
     ]
    },
    {
     "name": "stdout",
     "output_type": "stream",
     "text": [
      "[20]\tvalid_0's l2: 97.6554\tvalid_1's l2: 2440.61\n",
      "[40]\tvalid_0's l2: 79.9743\tvalid_1's l2: 2305.42\n",
      "[60]\tvalid_0's l2: 129.255\tvalid_1's l2: 2201.24\n",
      "[80]\tvalid_0's l2: 196.949\tvalid_1's l2: 2109.59\n",
      "[100]\tvalid_0's l2: 217.879\tvalid_1's l2: 2044.15\n"
     ]
    },
    {
     "name": "stderr",
     "output_type": "stream",
     "text": [
      "/opt/conda/lib/python3.7/site-packages/lightgbm/sklearn.py:736: UserWarning: 'verbose' argument is deprecated and will be removed in a future release of LightGBM. Pass 'log_evaluation()' callback via 'callbacks' argument instead.\n",
      "  _log_warning(\"'verbose' argument is deprecated and will be removed in a future release of LightGBM. \"\n"
     ]
    },
    {
     "name": "stdout",
     "output_type": "stream",
     "text": [
      "[20]\tvalid_0's l2: 213.42\tvalid_1's l2: 2439.14\n",
      "[40]\tvalid_0's l2: 218.508\tvalid_1's l2: 2293.88\n",
      "[60]\tvalid_0's l2: 162.06\tvalid_1's l2: 2184.1\n",
      "[80]\tvalid_0's l2: 213.724\tvalid_1's l2: 2104.78\n",
      "[100]\tvalid_0's l2: 242.122\tvalid_1's l2: 2033.79\n"
     ]
    },
    {
     "name": "stderr",
     "output_type": "stream",
     "text": [
      "/opt/conda/lib/python3.7/site-packages/lightgbm/sklearn.py:736: UserWarning: 'verbose' argument is deprecated and will be removed in a future release of LightGBM. Pass 'log_evaluation()' callback via 'callbacks' argument instead.\n",
      "  _log_warning(\"'verbose' argument is deprecated and will be removed in a future release of LightGBM. \"\n"
     ]
    },
    {
     "name": "stdout",
     "output_type": "stream",
     "text": [
      "[20]\tvalid_0's l2: 315.989\tvalid_1's l2: 2454.96\n",
      "[40]\tvalid_0's l2: 243.861\tvalid_1's l2: 2321.95\n",
      "[60]\tvalid_0's l2: 267.508\tvalid_1's l2: 2218.52\n",
      "[80]\tvalid_0's l2: 249.667\tvalid_1's l2: 2135\n",
      "[100]\tvalid_0's l2: 266.094\tvalid_1's l2: 2068.65\n"
     ]
    },
    {
     "name": "stderr",
     "output_type": "stream",
     "text": [
      "/opt/conda/lib/python3.7/site-packages/lightgbm/sklearn.py:736: UserWarning: 'verbose' argument is deprecated and will be removed in a future release of LightGBM. Pass 'log_evaluation()' callback via 'callbacks' argument instead.\n",
      "  _log_warning(\"'verbose' argument is deprecated and will be removed in a future release of LightGBM. \"\n"
     ]
    },
    {
     "name": "stdout",
     "output_type": "stream",
     "text": [
      "[20]\tvalid_0's l2: 452.297\tvalid_1's l2: 2532.08\n",
      "[40]\tvalid_0's l2: 489.884\tvalid_1's l2: 2447.6\n",
      "[60]\tvalid_0's l2: 346.867\tvalid_1's l2: 2368.39\n",
      "[80]\tvalid_0's l2: 309.23\tvalid_1's l2: 2306.63\n",
      "[100]\tvalid_0's l2: 294.008\tvalid_1's l2: 2261.46\n"
     ]
    },
    {
     "name": "stderr",
     "output_type": "stream",
     "text": [
      "/opt/conda/lib/python3.7/site-packages/lightgbm/sklearn.py:736: UserWarning: 'verbose' argument is deprecated and will be removed in a future release of LightGBM. Pass 'log_evaluation()' callback via 'callbacks' argument instead.\n",
      "  _log_warning(\"'verbose' argument is deprecated and will be removed in a future release of LightGBM. \"\n"
     ]
    },
    {
     "name": "stdout",
     "output_type": "stream",
     "text": [
      "[20]\tvalid_0's l2: 847.516\tvalid_1's l2: 2454.25\n",
      "[40]\tvalid_0's l2: 645.524\tvalid_1's l2: 2335.34\n",
      "[60]\tvalid_0's l2: 574.723\tvalid_1's l2: 2247.44\n",
      "[80]\tvalid_0's l2: 504.917\tvalid_1's l2: 2180.06\n",
      "[100]\tvalid_0's l2: 515.466\tvalid_1's l2: 2122.7\n"
     ]
    },
    {
     "name": "stderr",
     "output_type": "stream",
     "text": [
      "/opt/conda/lib/python3.7/site-packages/lightgbm/sklearn.py:736: UserWarning: 'verbose' argument is deprecated and will be removed in a future release of LightGBM. Pass 'log_evaluation()' callback via 'callbacks' argument instead.\n",
      "  _log_warning(\"'verbose' argument is deprecated and will be removed in a future release of LightGBM. \"\n"
     ]
    },
    {
     "name": "stdout",
     "output_type": "stream",
     "text": [
      "[20]\tvalid_0's l2: 97.6554\tvalid_1's l2: 2440.61\n",
      "[40]\tvalid_0's l2: 79.9743\tvalid_1's l2: 2305.42\n",
      "[60]\tvalid_0's l2: 129.255\tvalid_1's l2: 2201.24\n",
      "[80]\tvalid_0's l2: 196.949\tvalid_1's l2: 2109.59\n",
      "[100]\tvalid_0's l2: 217.879\tvalid_1's l2: 2044.15\n"
     ]
    },
    {
     "name": "stderr",
     "output_type": "stream",
     "text": [
      "/opt/conda/lib/python3.7/site-packages/lightgbm/sklearn.py:736: UserWarning: 'verbose' argument is deprecated and will be removed in a future release of LightGBM. Pass 'log_evaluation()' callback via 'callbacks' argument instead.\n",
      "  _log_warning(\"'verbose' argument is deprecated and will be removed in a future release of LightGBM. \"\n"
     ]
    },
    {
     "name": "stdout",
     "output_type": "stream",
     "text": [
      "[20]\tvalid_0's l2: 213.42\tvalid_1's l2: 2439.14\n",
      "[40]\tvalid_0's l2: 218.508\tvalid_1's l2: 2293.88\n",
      "[60]\tvalid_0's l2: 162.06\tvalid_1's l2: 2184.1\n",
      "[80]\tvalid_0's l2: 213.724\tvalid_1's l2: 2104.78\n",
      "[100]\tvalid_0's l2: 242.122\tvalid_1's l2: 2033.79\n"
     ]
    },
    {
     "name": "stderr",
     "output_type": "stream",
     "text": [
      "/opt/conda/lib/python3.7/site-packages/lightgbm/sklearn.py:736: UserWarning: 'verbose' argument is deprecated and will be removed in a future release of LightGBM. Pass 'log_evaluation()' callback via 'callbacks' argument instead.\n",
      "  _log_warning(\"'verbose' argument is deprecated and will be removed in a future release of LightGBM. \"\n"
     ]
    },
    {
     "name": "stdout",
     "output_type": "stream",
     "text": [
      "[20]\tvalid_0's l2: 315.989\tvalid_1's l2: 2454.96\n",
      "[40]\tvalid_0's l2: 243.861\tvalid_1's l2: 2321.95\n",
      "[60]\tvalid_0's l2: 267.508\tvalid_1's l2: 2218.52\n",
      "[80]\tvalid_0's l2: 249.667\tvalid_1's l2: 2135\n",
      "[100]\tvalid_0's l2: 266.094\tvalid_1's l2: 2068.65\n"
     ]
    },
    {
     "name": "stderr",
     "output_type": "stream",
     "text": [
      "/opt/conda/lib/python3.7/site-packages/lightgbm/sklearn.py:736: UserWarning: 'verbose' argument is deprecated and will be removed in a future release of LightGBM. Pass 'log_evaluation()' callback via 'callbacks' argument instead.\n",
      "  _log_warning(\"'verbose' argument is deprecated and will be removed in a future release of LightGBM. \"\n"
     ]
    },
    {
     "name": "stdout",
     "output_type": "stream",
     "text": [
      "[20]\tvalid_0's l2: 452.297\tvalid_1's l2: 2532.08\n",
      "[40]\tvalid_0's l2: 489.884\tvalid_1's l2: 2447.6\n",
      "[60]\tvalid_0's l2: 346.867\tvalid_1's l2: 2368.39\n",
      "[80]\tvalid_0's l2: 309.23\tvalid_1's l2: 2306.63\n",
      "[100]\tvalid_0's l2: 294.008\tvalid_1's l2: 2261.46\n"
     ]
    },
    {
     "name": "stderr",
     "output_type": "stream",
     "text": [
      "/opt/conda/lib/python3.7/site-packages/lightgbm/sklearn.py:736: UserWarning: 'verbose' argument is deprecated and will be removed in a future release of LightGBM. Pass 'log_evaluation()' callback via 'callbacks' argument instead.\n",
      "  _log_warning(\"'verbose' argument is deprecated and will be removed in a future release of LightGBM. \"\n"
     ]
    },
    {
     "name": "stdout",
     "output_type": "stream",
     "text": [
      "[20]\tvalid_0's l2: 839.615\tvalid_1's l2: 2454.03\n",
      "[40]\tvalid_0's l2: 700.531\tvalid_1's l2: 2339.01\n",
      "[60]\tvalid_0's l2: 541.531\tvalid_1's l2: 2243.21\n",
      "[80]\tvalid_0's l2: 583.758\tvalid_1's l2: 2177.34\n",
      "[100]\tvalid_0's l2: 559.299\tvalid_1's l2: 2111.38\n"
     ]
    },
    {
     "name": "stderr",
     "output_type": "stream",
     "text": [
      "/opt/conda/lib/python3.7/site-packages/lightgbm/sklearn.py:736: UserWarning: 'verbose' argument is deprecated and will be removed in a future release of LightGBM. Pass 'log_evaluation()' callback via 'callbacks' argument instead.\n",
      "  _log_warning(\"'verbose' argument is deprecated and will be removed in a future release of LightGBM. \"\n"
     ]
    },
    {
     "name": "stdout",
     "output_type": "stream",
     "text": [
      "[20]\tvalid_0's l2: 113.857\tvalid_1's l2: 2435.95\n",
      "[40]\tvalid_0's l2: 76.0197\tvalid_1's l2: 2298.1\n",
      "[60]\tvalid_0's l2: 126.544\tvalid_1's l2: 2190.51\n",
      "[80]\tvalid_0's l2: 146.962\tvalid_1's l2: 2114.22\n",
      "[100]\tvalid_0's l2: 187.191\tvalid_1's l2: 2040.3\n"
     ]
    },
    {
     "name": "stderr",
     "output_type": "stream",
     "text": [
      "/opt/conda/lib/python3.7/site-packages/lightgbm/sklearn.py:736: UserWarning: 'verbose' argument is deprecated and will be removed in a future release of LightGBM. Pass 'log_evaluation()' callback via 'callbacks' argument instead.\n",
      "  _log_warning(\"'verbose' argument is deprecated and will be removed in a future release of LightGBM. \"\n"
     ]
    },
    {
     "name": "stdout",
     "output_type": "stream",
     "text": [
      "[20]\tvalid_0's l2: 190.586\tvalid_1's l2: 2438.13\n",
      "[40]\tvalid_0's l2: 170.453\tvalid_1's l2: 2282.75\n",
      "[60]\tvalid_0's l2: 159.327\tvalid_1's l2: 2169.38\n",
      "[80]\tvalid_0's l2: 206.184\tvalid_1's l2: 2084.16\n",
      "[100]\tvalid_0's l2: 239.34\tvalid_1's l2: 2016.67\n"
     ]
    },
    {
     "name": "stderr",
     "output_type": "stream",
     "text": [
      "/opt/conda/lib/python3.7/site-packages/lightgbm/sklearn.py:736: UserWarning: 'verbose' argument is deprecated and will be removed in a future release of LightGBM. Pass 'log_evaluation()' callback via 'callbacks' argument instead.\n",
      "  _log_warning(\"'verbose' argument is deprecated and will be removed in a future release of LightGBM. \"\n"
     ]
    },
    {
     "name": "stdout",
     "output_type": "stream",
     "text": [
      "[20]\tvalid_0's l2: 320.888\tvalid_1's l2: 2453.56\n",
      "[40]\tvalid_0's l2: 278.044\tvalid_1's l2: 2325.01\n",
      "[60]\tvalid_0's l2: 240.771\tvalid_1's l2: 2222.34\n",
      "[80]\tvalid_0's l2: 229.47\tvalid_1's l2: 2138.42\n",
      "[100]\tvalid_0's l2: 254.598\tvalid_1's l2: 2062.86\n"
     ]
    },
    {
     "name": "stderr",
     "output_type": "stream",
     "text": [
      "/opt/conda/lib/python3.7/site-packages/lightgbm/sklearn.py:736: UserWarning: 'verbose' argument is deprecated and will be removed in a future release of LightGBM. Pass 'log_evaluation()' callback via 'callbacks' argument instead.\n",
      "  _log_warning(\"'verbose' argument is deprecated and will be removed in a future release of LightGBM. \"\n"
     ]
    },
    {
     "name": "stdout",
     "output_type": "stream",
     "text": [
      "[20]\tvalid_0's l2: 470.543\tvalid_1's l2: 2535.2\n",
      "[40]\tvalid_0's l2: 454.657\tvalid_1's l2: 2448.15\n",
      "[60]\tvalid_0's l2: 407.902\tvalid_1's l2: 2369.36\n",
      "[80]\tvalid_0's l2: 424.452\tvalid_1's l2: 2310.87\n",
      "[100]\tvalid_0's l2: 366.756\tvalid_1's l2: 2264.72\n"
     ]
    },
    {
     "name": "stderr",
     "output_type": "stream",
     "text": [
      "/opt/conda/lib/python3.7/site-packages/lightgbm/sklearn.py:736: UserWarning: 'verbose' argument is deprecated and will be removed in a future release of LightGBM. Pass 'log_evaluation()' callback via 'callbacks' argument instead.\n",
      "  _log_warning(\"'verbose' argument is deprecated and will be removed in a future release of LightGBM. \"\n"
     ]
    },
    {
     "name": "stdout",
     "output_type": "stream",
     "text": [
      "[20]\tvalid_0's l2: 839.615\tvalid_1's l2: 2454.03\n",
      "[40]\tvalid_0's l2: 700.531\tvalid_1's l2: 2339.01\n",
      "[60]\tvalid_0's l2: 541.531\tvalid_1's l2: 2243.21\n",
      "[80]\tvalid_0's l2: 583.758\tvalid_1's l2: 2177.34\n",
      "[100]\tvalid_0's l2: 559.299\tvalid_1's l2: 2111.38\n"
     ]
    },
    {
     "name": "stderr",
     "output_type": "stream",
     "text": [
      "/opt/conda/lib/python3.7/site-packages/lightgbm/sklearn.py:736: UserWarning: 'verbose' argument is deprecated and will be removed in a future release of LightGBM. Pass 'log_evaluation()' callback via 'callbacks' argument instead.\n",
      "  _log_warning(\"'verbose' argument is deprecated and will be removed in a future release of LightGBM. \"\n"
     ]
    },
    {
     "name": "stdout",
     "output_type": "stream",
     "text": [
      "[20]\tvalid_0's l2: 113.857\tvalid_1's l2: 2435.95\n",
      "[40]\tvalid_0's l2: 76.0197\tvalid_1's l2: 2298.1\n",
      "[60]\tvalid_0's l2: 126.544\tvalid_1's l2: 2190.51\n",
      "[80]\tvalid_0's l2: 146.962\tvalid_1's l2: 2114.22\n",
      "[100]\tvalid_0's l2: 187.191\tvalid_1's l2: 2040.3\n"
     ]
    },
    {
     "name": "stderr",
     "output_type": "stream",
     "text": [
      "/opt/conda/lib/python3.7/site-packages/lightgbm/sklearn.py:736: UserWarning: 'verbose' argument is deprecated and will be removed in a future release of LightGBM. Pass 'log_evaluation()' callback via 'callbacks' argument instead.\n",
      "  _log_warning(\"'verbose' argument is deprecated and will be removed in a future release of LightGBM. \"\n"
     ]
    },
    {
     "name": "stdout",
     "output_type": "stream",
     "text": [
      "[20]\tvalid_0's l2: 190.586\tvalid_1's l2: 2438.13\n",
      "[40]\tvalid_0's l2: 170.453\tvalid_1's l2: 2282.75\n",
      "[60]\tvalid_0's l2: 159.327\tvalid_1's l2: 2169.38\n",
      "[80]\tvalid_0's l2: 206.184\tvalid_1's l2: 2084.16\n",
      "[100]\tvalid_0's l2: 239.34\tvalid_1's l2: 2016.67\n"
     ]
    },
    {
     "name": "stderr",
     "output_type": "stream",
     "text": [
      "/opt/conda/lib/python3.7/site-packages/lightgbm/sklearn.py:736: UserWarning: 'verbose' argument is deprecated and will be removed in a future release of LightGBM. Pass 'log_evaluation()' callback via 'callbacks' argument instead.\n",
      "  _log_warning(\"'verbose' argument is deprecated and will be removed in a future release of LightGBM. \"\n"
     ]
    },
    {
     "name": "stdout",
     "output_type": "stream",
     "text": [
      "[20]\tvalid_0's l2: 320.888\tvalid_1's l2: 2453.56\n",
      "[40]\tvalid_0's l2: 278.044\tvalid_1's l2: 2325.01\n",
      "[60]\tvalid_0's l2: 240.771\tvalid_1's l2: 2222.34\n",
      "[80]\tvalid_0's l2: 229.47\tvalid_1's l2: 2138.42\n",
      "[100]\tvalid_0's l2: 254.598\tvalid_1's l2: 2062.86\n"
     ]
    },
    {
     "name": "stderr",
     "output_type": "stream",
     "text": [
      "/opt/conda/lib/python3.7/site-packages/lightgbm/sklearn.py:736: UserWarning: 'verbose' argument is deprecated and will be removed in a future release of LightGBM. Pass 'log_evaluation()' callback via 'callbacks' argument instead.\n",
      "  _log_warning(\"'verbose' argument is deprecated and will be removed in a future release of LightGBM. \"\n"
     ]
    },
    {
     "name": "stdout",
     "output_type": "stream",
     "text": [
      "[20]\tvalid_0's l2: 470.543\tvalid_1's l2: 2535.2\n",
      "[40]\tvalid_0's l2: 454.657\tvalid_1's l2: 2448.15\n",
      "[60]\tvalid_0's l2: 407.902\tvalid_1's l2: 2369.36\n",
      "[80]\tvalid_0's l2: 424.452\tvalid_1's l2: 2310.87\n",
      "[100]\tvalid_0's l2: 366.756\tvalid_1's l2: 2264.72\n"
     ]
    },
    {
     "name": "stderr",
     "output_type": "stream",
     "text": [
      "/opt/conda/lib/python3.7/site-packages/lightgbm/sklearn.py:736: UserWarning: 'verbose' argument is deprecated and will be removed in a future release of LightGBM. Pass 'log_evaluation()' callback via 'callbacks' argument instead.\n",
      "  _log_warning(\"'verbose' argument is deprecated and will be removed in a future release of LightGBM. \"\n"
     ]
    },
    {
     "name": "stdout",
     "output_type": "stream",
     "text": [
      "[20]\tvalid_0's l2: 847.329\tvalid_1's l2: 2454.36\n",
      "[40]\tvalid_0's l2: 645.612\tvalid_1's l2: 2335.53\n",
      "[60]\tvalid_0's l2: 609.786\tvalid_1's l2: 2248.89\n",
      "[80]\tvalid_0's l2: 516.584\tvalid_1's l2: 2176.8\n",
      "[100]\tvalid_0's l2: 491.397\tvalid_1's l2: 2114.99\n"
     ]
    },
    {
     "name": "stderr",
     "output_type": "stream",
     "text": [
      "/opt/conda/lib/python3.7/site-packages/lightgbm/sklearn.py:736: UserWarning: 'verbose' argument is deprecated and will be removed in a future release of LightGBM. Pass 'log_evaluation()' callback via 'callbacks' argument instead.\n",
      "  _log_warning(\"'verbose' argument is deprecated and will be removed in a future release of LightGBM. \"\n"
     ]
    },
    {
     "name": "stdout",
     "output_type": "stream",
     "text": [
      "[20]\tvalid_0's l2: 97.6839\tvalid_1's l2: 2440.7\n",
      "[40]\tvalid_0's l2: 79.5867\tvalid_1's l2: 2305.64\n",
      "[60]\tvalid_0's l2: 137.123\tvalid_1's l2: 2195.79\n",
      "[80]\tvalid_0's l2: 203.593\tvalid_1's l2: 2110.83\n",
      "[100]\tvalid_0's l2: 245.116\tvalid_1's l2: 2046.96\n"
     ]
    },
    {
     "name": "stderr",
     "output_type": "stream",
     "text": [
      "/opt/conda/lib/python3.7/site-packages/lightgbm/sklearn.py:736: UserWarning: 'verbose' argument is deprecated and will be removed in a future release of LightGBM. Pass 'log_evaluation()' callback via 'callbacks' argument instead.\n",
      "  _log_warning(\"'verbose' argument is deprecated and will be removed in a future release of LightGBM. \"\n"
     ]
    },
    {
     "name": "stdout",
     "output_type": "stream",
     "text": [
      "[20]\tvalid_0's l2: 211.791\tvalid_1's l2: 2439.14\n",
      "[40]\tvalid_0's l2: 208.174\tvalid_1's l2: 2291.47\n",
      "[60]\tvalid_0's l2: 185.656\tvalid_1's l2: 2182.34\n",
      "[80]\tvalid_0's l2: 239.428\tvalid_1's l2: 2101.27\n",
      "[100]\tvalid_0's l2: 282.423\tvalid_1's l2: 2029.19\n"
     ]
    },
    {
     "name": "stderr",
     "output_type": "stream",
     "text": [
      "/opt/conda/lib/python3.7/site-packages/lightgbm/sklearn.py:736: UserWarning: 'verbose' argument is deprecated and will be removed in a future release of LightGBM. Pass 'log_evaluation()' callback via 'callbacks' argument instead.\n",
      "  _log_warning(\"'verbose' argument is deprecated and will be removed in a future release of LightGBM. \"\n"
     ]
    },
    {
     "name": "stdout",
     "output_type": "stream",
     "text": [
      "[20]\tvalid_0's l2: 315.912\tvalid_1's l2: 2455.12\n",
      "[40]\tvalid_0's l2: 225.375\tvalid_1's l2: 2326.53\n",
      "[60]\tvalid_0's l2: 246.72\tvalid_1's l2: 2219.05\n",
      "[80]\tvalid_0's l2: 263.865\tvalid_1's l2: 2130\n",
      "[100]\tvalid_0's l2: 305.813\tvalid_1's l2: 2064.74\n"
     ]
    },
    {
     "name": "stderr",
     "output_type": "stream",
     "text": [
      "/opt/conda/lib/python3.7/site-packages/lightgbm/sklearn.py:736: UserWarning: 'verbose' argument is deprecated and will be removed in a future release of LightGBM. Pass 'log_evaluation()' callback via 'callbacks' argument instead.\n",
      "  _log_warning(\"'verbose' argument is deprecated and will be removed in a future release of LightGBM. \"\n"
     ]
    },
    {
     "name": "stdout",
     "output_type": "stream",
     "text": [
      "[20]\tvalid_0's l2: 463.542\tvalid_1's l2: 2534.12\n",
      "[40]\tvalid_0's l2: 449.09\tvalid_1's l2: 2448.71\n",
      "[60]\tvalid_0's l2: 383.792\tvalid_1's l2: 2367.49\n",
      "[80]\tvalid_0's l2: 304.18\tvalid_1's l2: 2316.79\n",
      "[100]\tvalid_0's l2: 320.333\tvalid_1's l2: 2272.35\n"
     ]
    },
    {
     "name": "stderr",
     "output_type": "stream",
     "text": [
      "/opt/conda/lib/python3.7/site-packages/lightgbm/sklearn.py:736: UserWarning: 'verbose' argument is deprecated and will be removed in a future release of LightGBM. Pass 'log_evaluation()' callback via 'callbacks' argument instead.\n",
      "  _log_warning(\"'verbose' argument is deprecated and will be removed in a future release of LightGBM. \"\n"
     ]
    },
    {
     "name": "stdout",
     "output_type": "stream",
     "text": [
      "[20]\tvalid_0's l2: 847.329\tvalid_1's l2: 2454.36\n",
      "[40]\tvalid_0's l2: 645.612\tvalid_1's l2: 2335.53\n",
      "[60]\tvalid_0's l2: 609.786\tvalid_1's l2: 2248.89\n",
      "[80]\tvalid_0's l2: 516.584\tvalid_1's l2: 2176.8\n",
      "[100]\tvalid_0's l2: 491.397\tvalid_1's l2: 2114.99\n"
     ]
    },
    {
     "name": "stderr",
     "output_type": "stream",
     "text": [
      "/opt/conda/lib/python3.7/site-packages/lightgbm/sklearn.py:736: UserWarning: 'verbose' argument is deprecated and will be removed in a future release of LightGBM. Pass 'log_evaluation()' callback via 'callbacks' argument instead.\n",
      "  _log_warning(\"'verbose' argument is deprecated and will be removed in a future release of LightGBM. \"\n"
     ]
    },
    {
     "name": "stdout",
     "output_type": "stream",
     "text": [
      "[20]\tvalid_0's l2: 97.6839\tvalid_1's l2: 2440.7\n",
      "[40]\tvalid_0's l2: 79.5867\tvalid_1's l2: 2305.64\n",
      "[60]\tvalid_0's l2: 137.123\tvalid_1's l2: 2195.79\n",
      "[80]\tvalid_0's l2: 203.593\tvalid_1's l2: 2110.83\n",
      "[100]\tvalid_0's l2: 245.116\tvalid_1's l2: 2046.96\n"
     ]
    },
    {
     "name": "stderr",
     "output_type": "stream",
     "text": [
      "/opt/conda/lib/python3.7/site-packages/lightgbm/sklearn.py:736: UserWarning: 'verbose' argument is deprecated and will be removed in a future release of LightGBM. Pass 'log_evaluation()' callback via 'callbacks' argument instead.\n",
      "  _log_warning(\"'verbose' argument is deprecated and will be removed in a future release of LightGBM. \"\n"
     ]
    },
    {
     "name": "stdout",
     "output_type": "stream",
     "text": [
      "[20]\tvalid_0's l2: 211.791\tvalid_1's l2: 2439.14\n",
      "[40]\tvalid_0's l2: 208.174\tvalid_1's l2: 2291.47\n",
      "[60]\tvalid_0's l2: 185.656\tvalid_1's l2: 2182.34\n",
      "[80]\tvalid_0's l2: 239.428\tvalid_1's l2: 2101.27\n",
      "[100]\tvalid_0's l2: 282.423\tvalid_1's l2: 2029.19\n"
     ]
    },
    {
     "name": "stderr",
     "output_type": "stream",
     "text": [
      "/opt/conda/lib/python3.7/site-packages/lightgbm/sklearn.py:736: UserWarning: 'verbose' argument is deprecated and will be removed in a future release of LightGBM. Pass 'log_evaluation()' callback via 'callbacks' argument instead.\n",
      "  _log_warning(\"'verbose' argument is deprecated and will be removed in a future release of LightGBM. \"\n"
     ]
    },
    {
     "name": "stdout",
     "output_type": "stream",
     "text": [
      "[20]\tvalid_0's l2: 315.912\tvalid_1's l2: 2455.12\n",
      "[40]\tvalid_0's l2: 225.375\tvalid_1's l2: 2326.53\n",
      "[60]\tvalid_0's l2: 246.72\tvalid_1's l2: 2219.05\n",
      "[80]\tvalid_0's l2: 263.865\tvalid_1's l2: 2130\n",
      "[100]\tvalid_0's l2: 305.813\tvalid_1's l2: 2064.74\n"
     ]
    },
    {
     "name": "stderr",
     "output_type": "stream",
     "text": [
      "/opt/conda/lib/python3.7/site-packages/lightgbm/sklearn.py:736: UserWarning: 'verbose' argument is deprecated and will be removed in a future release of LightGBM. Pass 'log_evaluation()' callback via 'callbacks' argument instead.\n",
      "  _log_warning(\"'verbose' argument is deprecated and will be removed in a future release of LightGBM. \"\n"
     ]
    },
    {
     "name": "stdout",
     "output_type": "stream",
     "text": [
      "[20]\tvalid_0's l2: 463.542\tvalid_1's l2: 2534.12\n",
      "[40]\tvalid_0's l2: 449.09\tvalid_1's l2: 2448.71\n",
      "[60]\tvalid_0's l2: 383.792\tvalid_1's l2: 2367.49\n",
      "[80]\tvalid_0's l2: 304.18\tvalid_1's l2: 2316.79\n",
      "[100]\tvalid_0's l2: 320.333\tvalid_1's l2: 2272.35\n"
     ]
    },
    {
     "name": "stderr",
     "output_type": "stream",
     "text": [
      "/opt/conda/lib/python3.7/site-packages/lightgbm/sklearn.py:736: UserWarning: 'verbose' argument is deprecated and will be removed in a future release of LightGBM. Pass 'log_evaluation()' callback via 'callbacks' argument instead.\n",
      "  _log_warning(\"'verbose' argument is deprecated and will be removed in a future release of LightGBM. \"\n"
     ]
    },
    {
     "name": "stdout",
     "output_type": "stream",
     "text": [
      "[20]\tvalid_0's l2: 478.5\tvalid_1's l2: 2595.5\n",
      "[40]\tvalid_0's l2: 419.079\tvalid_1's l2: 2548.76\n",
      "[60]\tvalid_0's l2: 351.736\tvalid_1's l2: 2496.96\n",
      "[80]\tvalid_0's l2: 316.592\tvalid_1's l2: 2458.11\n",
      "[100]\tvalid_0's l2: 291.114\tvalid_1's l2: 2417.08\n"
     ]
    },
    {
     "name": "stderr",
     "output_type": "stream",
     "text": [
      "/opt/conda/lib/python3.7/site-packages/lightgbm/sklearn.py:736: UserWarning: 'verbose' argument is deprecated and will be removed in a future release of LightGBM. Pass 'log_evaluation()' callback via 'callbacks' argument instead.\n",
      "  _log_warning(\"'verbose' argument is deprecated and will be removed in a future release of LightGBM. \"\n"
     ]
    },
    {
     "name": "stdout",
     "output_type": "stream",
     "text": [
      "[20]\tvalid_0's l2: 602.561\tvalid_1's l2: 2555.21\n",
      "[40]\tvalid_0's l2: 583.109\tvalid_1's l2: 2476.98\n",
      "[60]\tvalid_0's l2: 555.331\tvalid_1's l2: 2427.41\n",
      "[80]\tvalid_0's l2: 578.69\tvalid_1's l2: 2382.6\n",
      "[100]\tvalid_0's l2: 577.616\tvalid_1's l2: 2345.88\n"
     ]
    },
    {
     "name": "stderr",
     "output_type": "stream",
     "text": [
      "/opt/conda/lib/python3.7/site-packages/lightgbm/sklearn.py:736: UserWarning: 'verbose' argument is deprecated and will be removed in a future release of LightGBM. Pass 'log_evaluation()' callback via 'callbacks' argument instead.\n",
      "  _log_warning(\"'verbose' argument is deprecated and will be removed in a future release of LightGBM. \"\n"
     ]
    },
    {
     "name": "stdout",
     "output_type": "stream",
     "text": [
      "[20]\tvalid_0's l2: 613.099\tvalid_1's l2: 2543.12\n",
      "[40]\tvalid_0's l2: 614.703\tvalid_1's l2: 2482.06\n",
      "[60]\tvalid_0's l2: 634.587\tvalid_1's l2: 2429.85\n",
      "[80]\tvalid_0's l2: 594.227\tvalid_1's l2: 2384.54\n",
      "[100]\tvalid_0's l2: 590.934\tvalid_1's l2: 2347.79\n"
     ]
    },
    {
     "name": "stderr",
     "output_type": "stream",
     "text": [
      "/opt/conda/lib/python3.7/site-packages/lightgbm/sklearn.py:736: UserWarning: 'verbose' argument is deprecated and will be removed in a future release of LightGBM. Pass 'log_evaluation()' callback via 'callbacks' argument instead.\n",
      "  _log_warning(\"'verbose' argument is deprecated and will be removed in a future release of LightGBM. \"\n"
     ]
    },
    {
     "name": "stdout",
     "output_type": "stream",
     "text": [
      "[20]\tvalid_0's l2: 505.68\tvalid_1's l2: 2571.35\n",
      "[40]\tvalid_0's l2: 525.954\tvalid_1's l2: 2497.61\n",
      "[60]\tvalid_0's l2: 500.337\tvalid_1's l2: 2450.53\n",
      "[80]\tvalid_0's l2: 476.852\tvalid_1's l2: 2406.17\n",
      "[100]\tvalid_0's l2: 469.783\tvalid_1's l2: 2369.59\n"
     ]
    },
    {
     "name": "stderr",
     "output_type": "stream",
     "text": [
      "/opt/conda/lib/python3.7/site-packages/lightgbm/sklearn.py:736: UserWarning: 'verbose' argument is deprecated and will be removed in a future release of LightGBM. Pass 'log_evaluation()' callback via 'callbacks' argument instead.\n",
      "  _log_warning(\"'verbose' argument is deprecated and will be removed in a future release of LightGBM. \"\n"
     ]
    },
    {
     "name": "stdout",
     "output_type": "stream",
     "text": [
      "[20]\tvalid_0's l2: 321.362\tvalid_1's l2: 2624.75\n",
      "[40]\tvalid_0's l2: 284.722\tvalid_1's l2: 2573.42\n",
      "[60]\tvalid_0's l2: 242.765\tvalid_1's l2: 2539.88\n",
      "[80]\tvalid_0's l2: 238.101\tvalid_1's l2: 2513.81\n",
      "[100]\tvalid_0's l2: 230.585\tvalid_1's l2: 2499.11\n"
     ]
    },
    {
     "name": "stderr",
     "output_type": "stream",
     "text": [
      "/opt/conda/lib/python3.7/site-packages/lightgbm/sklearn.py:736: UserWarning: 'verbose' argument is deprecated and will be removed in a future release of LightGBM. Pass 'log_evaluation()' callback via 'callbacks' argument instead.\n",
      "  _log_warning(\"'verbose' argument is deprecated and will be removed in a future release of LightGBM. \"\n"
     ]
    },
    {
     "name": "stdout",
     "output_type": "stream",
     "text": [
      "[20]\tvalid_0's l2: 478.5\tvalid_1's l2: 2595.5\n",
      "[40]\tvalid_0's l2: 419.079\tvalid_1's l2: 2548.76\n",
      "[60]\tvalid_0's l2: 351.736\tvalid_1's l2: 2496.96\n",
      "[80]\tvalid_0's l2: 316.592\tvalid_1's l2: 2458.11\n",
      "[100]\tvalid_0's l2: 291.114\tvalid_1's l2: 2417.08\n"
     ]
    },
    {
     "name": "stderr",
     "output_type": "stream",
     "text": [
      "/opt/conda/lib/python3.7/site-packages/lightgbm/sklearn.py:736: UserWarning: 'verbose' argument is deprecated and will be removed in a future release of LightGBM. Pass 'log_evaluation()' callback via 'callbacks' argument instead.\n",
      "  _log_warning(\"'verbose' argument is deprecated and will be removed in a future release of LightGBM. \"\n"
     ]
    },
    {
     "name": "stdout",
     "output_type": "stream",
     "text": [
      "[20]\tvalid_0's l2: 602.561\tvalid_1's l2: 2555.21\n",
      "[40]\tvalid_0's l2: 583.109\tvalid_1's l2: 2476.98\n",
      "[60]\tvalid_0's l2: 555.331\tvalid_1's l2: 2427.41\n",
      "[80]\tvalid_0's l2: 578.69\tvalid_1's l2: 2382.6\n",
      "[100]\tvalid_0's l2: 577.616\tvalid_1's l2: 2345.88\n"
     ]
    },
    {
     "name": "stderr",
     "output_type": "stream",
     "text": [
      "/opt/conda/lib/python3.7/site-packages/lightgbm/sklearn.py:736: UserWarning: 'verbose' argument is deprecated and will be removed in a future release of LightGBM. Pass 'log_evaluation()' callback via 'callbacks' argument instead.\n",
      "  _log_warning(\"'verbose' argument is deprecated and will be removed in a future release of LightGBM. \"\n"
     ]
    },
    {
     "name": "stdout",
     "output_type": "stream",
     "text": [
      "[20]\tvalid_0's l2: 613.099\tvalid_1's l2: 2543.12\n",
      "[40]\tvalid_0's l2: 614.703\tvalid_1's l2: 2482.06\n",
      "[60]\tvalid_0's l2: 634.587\tvalid_1's l2: 2429.85\n",
      "[80]\tvalid_0's l2: 594.227\tvalid_1's l2: 2384.54\n",
      "[100]\tvalid_0's l2: 590.934\tvalid_1's l2: 2347.79\n"
     ]
    },
    {
     "name": "stderr",
     "output_type": "stream",
     "text": [
      "/opt/conda/lib/python3.7/site-packages/lightgbm/sklearn.py:736: UserWarning: 'verbose' argument is deprecated and will be removed in a future release of LightGBM. Pass 'log_evaluation()' callback via 'callbacks' argument instead.\n",
      "  _log_warning(\"'verbose' argument is deprecated and will be removed in a future release of LightGBM. \"\n"
     ]
    },
    {
     "name": "stdout",
     "output_type": "stream",
     "text": [
      "[20]\tvalid_0's l2: 505.68\tvalid_1's l2: 2571.35\n",
      "[40]\tvalid_0's l2: 525.954\tvalid_1's l2: 2497.61\n",
      "[60]\tvalid_0's l2: 500.337\tvalid_1's l2: 2450.53\n",
      "[80]\tvalid_0's l2: 476.852\tvalid_1's l2: 2406.17\n",
      "[100]\tvalid_0's l2: 469.783\tvalid_1's l2: 2369.59\n"
     ]
    },
    {
     "name": "stderr",
     "output_type": "stream",
     "text": [
      "/opt/conda/lib/python3.7/site-packages/lightgbm/sklearn.py:736: UserWarning: 'verbose' argument is deprecated and will be removed in a future release of LightGBM. Pass 'log_evaluation()' callback via 'callbacks' argument instead.\n",
      "  _log_warning(\"'verbose' argument is deprecated and will be removed in a future release of LightGBM. \"\n"
     ]
    },
    {
     "name": "stdout",
     "output_type": "stream",
     "text": [
      "[20]\tvalid_0's l2: 321.362\tvalid_1's l2: 2624.75\n",
      "[40]\tvalid_0's l2: 284.722\tvalid_1's l2: 2573.42\n",
      "[60]\tvalid_0's l2: 242.765\tvalid_1's l2: 2539.88\n",
      "[80]\tvalid_0's l2: 238.101\tvalid_1's l2: 2513.81\n",
      "[100]\tvalid_0's l2: 230.585\tvalid_1's l2: 2499.11\n"
     ]
    },
    {
     "name": "stderr",
     "output_type": "stream",
     "text": [
      "/opt/conda/lib/python3.7/site-packages/lightgbm/sklearn.py:736: UserWarning: 'verbose' argument is deprecated and will be removed in a future release of LightGBM. Pass 'log_evaluation()' callback via 'callbacks' argument instead.\n",
      "  _log_warning(\"'verbose' argument is deprecated and will be removed in a future release of LightGBM. \"\n"
     ]
    },
    {
     "name": "stdout",
     "output_type": "stream",
     "text": [
      "[20]\tvalid_0's l2: 476.605\tvalid_1's l2: 2595.71\n",
      "[40]\tvalid_0's l2: 418.14\tvalid_1's l2: 2549\n",
      "[60]\tvalid_0's l2: 364.143\tvalid_1's l2: 2495.49\n",
      "[80]\tvalid_0's l2: 305.089\tvalid_1's l2: 2455.76\n",
      "[100]\tvalid_0's l2: 297.115\tvalid_1's l2: 2416.8\n"
     ]
    },
    {
     "name": "stderr",
     "output_type": "stream",
     "text": [
      "/opt/conda/lib/python3.7/site-packages/lightgbm/sklearn.py:736: UserWarning: 'verbose' argument is deprecated and will be removed in a future release of LightGBM. Pass 'log_evaluation()' callback via 'callbacks' argument instead.\n",
      "  _log_warning(\"'verbose' argument is deprecated and will be removed in a future release of LightGBM. \"\n"
     ]
    },
    {
     "name": "stdout",
     "output_type": "stream",
     "text": [
      "[20]\tvalid_0's l2: 611.441\tvalid_1's l2: 2556.09\n",
      "[40]\tvalid_0's l2: 585.861\tvalid_1's l2: 2479.16\n",
      "[60]\tvalid_0's l2: 565.724\tvalid_1's l2: 2430.71\n",
      "[80]\tvalid_0's l2: 600.86\tvalid_1's l2: 2393.66\n",
      "[100]\tvalid_0's l2: 591.345\tvalid_1's l2: 2356.44\n"
     ]
    },
    {
     "name": "stderr",
     "output_type": "stream",
     "text": [
      "/opt/conda/lib/python3.7/site-packages/lightgbm/sklearn.py:736: UserWarning: 'verbose' argument is deprecated and will be removed in a future release of LightGBM. Pass 'log_evaluation()' callback via 'callbacks' argument instead.\n",
      "  _log_warning(\"'verbose' argument is deprecated and will be removed in a future release of LightGBM. \"\n"
     ]
    },
    {
     "name": "stdout",
     "output_type": "stream",
     "text": [
      "[20]\tvalid_0's l2: 611.497\tvalid_1's l2: 2543.47\n",
      "[40]\tvalid_0's l2: 616.127\tvalid_1's l2: 2482.34\n",
      "[60]\tvalid_0's l2: 634.833\tvalid_1's l2: 2430.33\n",
      "[80]\tvalid_0's l2: 621.64\tvalid_1's l2: 2384.18\n",
      "[100]\tvalid_0's l2: 591.254\tvalid_1's l2: 2349.73\n"
     ]
    },
    {
     "name": "stderr",
     "output_type": "stream",
     "text": [
      "/opt/conda/lib/python3.7/site-packages/lightgbm/sklearn.py:736: UserWarning: 'verbose' argument is deprecated and will be removed in a future release of LightGBM. Pass 'log_evaluation()' callback via 'callbacks' argument instead.\n",
      "  _log_warning(\"'verbose' argument is deprecated and will be removed in a future release of LightGBM. \"\n"
     ]
    },
    {
     "name": "stdout",
     "output_type": "stream",
     "text": [
      "[20]\tvalid_0's l2: 504.552\tvalid_1's l2: 2571.65\n",
      "[40]\tvalid_0's l2: 508.165\tvalid_1's l2: 2501.28\n",
      "[60]\tvalid_0's l2: 526.029\tvalid_1's l2: 2451.51\n",
      "[80]\tvalid_0's l2: 481.644\tvalid_1's l2: 2402.97\n",
      "[100]\tvalid_0's l2: 457.501\tvalid_1's l2: 2368.12\n"
     ]
    },
    {
     "name": "stderr",
     "output_type": "stream",
     "text": [
      "/opt/conda/lib/python3.7/site-packages/lightgbm/sklearn.py:736: UserWarning: 'verbose' argument is deprecated and will be removed in a future release of LightGBM. Pass 'log_evaluation()' callback via 'callbacks' argument instead.\n",
      "  _log_warning(\"'verbose' argument is deprecated and will be removed in a future release of LightGBM. \"\n"
     ]
    },
    {
     "name": "stdout",
     "output_type": "stream",
     "text": [
      "[20]\tvalid_0's l2: 320.497\tvalid_1's l2: 2623.89\n",
      "[40]\tvalid_0's l2: 281.874\tvalid_1's l2: 2574.62\n",
      "[60]\tvalid_0's l2: 249.419\tvalid_1's l2: 2540.11\n",
      "[80]\tvalid_0's l2: 219.698\tvalid_1's l2: 2514.36\n",
      "[100]\tvalid_0's l2: 230.392\tvalid_1's l2: 2498.01\n"
     ]
    },
    {
     "name": "stderr",
     "output_type": "stream",
     "text": [
      "/opt/conda/lib/python3.7/site-packages/lightgbm/sklearn.py:736: UserWarning: 'verbose' argument is deprecated and will be removed in a future release of LightGBM. Pass 'log_evaluation()' callback via 'callbacks' argument instead.\n",
      "  _log_warning(\"'verbose' argument is deprecated and will be removed in a future release of LightGBM. \"\n"
     ]
    },
    {
     "name": "stdout",
     "output_type": "stream",
     "text": [
      "[20]\tvalid_0's l2: 476.605\tvalid_1's l2: 2595.71\n",
      "[40]\tvalid_0's l2: 418.14\tvalid_1's l2: 2549\n",
      "[60]\tvalid_0's l2: 364.143\tvalid_1's l2: 2495.49\n",
      "[80]\tvalid_0's l2: 305.089\tvalid_1's l2: 2455.76\n",
      "[100]\tvalid_0's l2: 297.115\tvalid_1's l2: 2416.8\n"
     ]
    },
    {
     "name": "stderr",
     "output_type": "stream",
     "text": [
      "/opt/conda/lib/python3.7/site-packages/lightgbm/sklearn.py:736: UserWarning: 'verbose' argument is deprecated and will be removed in a future release of LightGBM. Pass 'log_evaluation()' callback via 'callbacks' argument instead.\n",
      "  _log_warning(\"'verbose' argument is deprecated and will be removed in a future release of LightGBM. \"\n"
     ]
    },
    {
     "name": "stdout",
     "output_type": "stream",
     "text": [
      "[20]\tvalid_0's l2: 611.441\tvalid_1's l2: 2556.09\n",
      "[40]\tvalid_0's l2: 585.861\tvalid_1's l2: 2479.16\n",
      "[60]\tvalid_0's l2: 565.724\tvalid_1's l2: 2430.71\n",
      "[80]\tvalid_0's l2: 600.86\tvalid_1's l2: 2393.66\n",
      "[100]\tvalid_0's l2: 591.345\tvalid_1's l2: 2356.44\n"
     ]
    },
    {
     "name": "stderr",
     "output_type": "stream",
     "text": [
      "/opt/conda/lib/python3.7/site-packages/lightgbm/sklearn.py:736: UserWarning: 'verbose' argument is deprecated and will be removed in a future release of LightGBM. Pass 'log_evaluation()' callback via 'callbacks' argument instead.\n",
      "  _log_warning(\"'verbose' argument is deprecated and will be removed in a future release of LightGBM. \"\n"
     ]
    },
    {
     "name": "stdout",
     "output_type": "stream",
     "text": [
      "[20]\tvalid_0's l2: 611.497\tvalid_1's l2: 2543.47\n",
      "[40]\tvalid_0's l2: 616.127\tvalid_1's l2: 2482.34\n",
      "[60]\tvalid_0's l2: 634.833\tvalid_1's l2: 2430.33\n",
      "[80]\tvalid_0's l2: 621.64\tvalid_1's l2: 2384.18\n",
      "[100]\tvalid_0's l2: 591.254\tvalid_1's l2: 2349.73\n"
     ]
    },
    {
     "name": "stderr",
     "output_type": "stream",
     "text": [
      "/opt/conda/lib/python3.7/site-packages/lightgbm/sklearn.py:736: UserWarning: 'verbose' argument is deprecated and will be removed in a future release of LightGBM. Pass 'log_evaluation()' callback via 'callbacks' argument instead.\n",
      "  _log_warning(\"'verbose' argument is deprecated and will be removed in a future release of LightGBM. \"\n"
     ]
    },
    {
     "name": "stdout",
     "output_type": "stream",
     "text": [
      "[20]\tvalid_0's l2: 504.552\tvalid_1's l2: 2571.65\n",
      "[40]\tvalid_0's l2: 508.165\tvalid_1's l2: 2501.28\n",
      "[60]\tvalid_0's l2: 526.029\tvalid_1's l2: 2451.51\n",
      "[80]\tvalid_0's l2: 481.644\tvalid_1's l2: 2402.97\n",
      "[100]\tvalid_0's l2: 457.501\tvalid_1's l2: 2368.12\n"
     ]
    },
    {
     "name": "stderr",
     "output_type": "stream",
     "text": [
      "/opt/conda/lib/python3.7/site-packages/lightgbm/sklearn.py:736: UserWarning: 'verbose' argument is deprecated and will be removed in a future release of LightGBM. Pass 'log_evaluation()' callback via 'callbacks' argument instead.\n",
      "  _log_warning(\"'verbose' argument is deprecated and will be removed in a future release of LightGBM. \"\n"
     ]
    },
    {
     "name": "stdout",
     "output_type": "stream",
     "text": [
      "[20]\tvalid_0's l2: 320.497\tvalid_1's l2: 2623.89\n",
      "[40]\tvalid_0's l2: 281.874\tvalid_1's l2: 2574.62\n",
      "[60]\tvalid_0's l2: 249.419\tvalid_1's l2: 2540.11\n",
      "[80]\tvalid_0's l2: 219.698\tvalid_1's l2: 2514.36\n",
      "[100]\tvalid_0's l2: 230.392\tvalid_1's l2: 2498.01\n"
     ]
    },
    {
     "name": "stderr",
     "output_type": "stream",
     "text": [
      "/opt/conda/lib/python3.7/site-packages/lightgbm/sklearn.py:736: UserWarning: 'verbose' argument is deprecated and will be removed in a future release of LightGBM. Pass 'log_evaluation()' callback via 'callbacks' argument instead.\n",
      "  _log_warning(\"'verbose' argument is deprecated and will be removed in a future release of LightGBM. \"\n"
     ]
    },
    {
     "name": "stdout",
     "output_type": "stream",
     "text": [
      "[20]\tvalid_0's l2: 478.383\tvalid_1's l2: 2595.53\n",
      "[40]\tvalid_0's l2: 419.055\tvalid_1's l2: 2548.81\n",
      "[60]\tvalid_0's l2: 351.815\tvalid_1's l2: 2497.04\n",
      "[80]\tvalid_0's l2: 316.688\tvalid_1's l2: 2458.21\n",
      "[100]\tvalid_0's l2: 291.253\tvalid_1's l2: 2417.2\n"
     ]
    },
    {
     "name": "stderr",
     "output_type": "stream",
     "text": [
      "/opt/conda/lib/python3.7/site-packages/lightgbm/sklearn.py:736: UserWarning: 'verbose' argument is deprecated and will be removed in a future release of LightGBM. Pass 'log_evaluation()' callback via 'callbacks' argument instead.\n",
      "  _log_warning(\"'verbose' argument is deprecated and will be removed in a future release of LightGBM. \"\n"
     ]
    },
    {
     "name": "stdout",
     "output_type": "stream",
     "text": [
      "[20]\tvalid_0's l2: 602.462\tvalid_1's l2: 2555.24\n",
      "[40]\tvalid_0's l2: 583.046\tvalid_1's l2: 2477.04\n",
      "[60]\tvalid_0's l2: 555.307\tvalid_1's l2: 2427.5\n",
      "[80]\tvalid_0's l2: 578.605\tvalid_1's l2: 2382.7\n",
      "[100]\tvalid_0's l2: 577.516\tvalid_1's l2: 2346.01\n"
     ]
    },
    {
     "name": "stderr",
     "output_type": "stream",
     "text": [
      "/opt/conda/lib/python3.7/site-packages/lightgbm/sklearn.py:736: UserWarning: 'verbose' argument is deprecated and will be removed in a future release of LightGBM. Pass 'log_evaluation()' callback via 'callbacks' argument instead.\n",
      "  _log_warning(\"'verbose' argument is deprecated and will be removed in a future release of LightGBM. \"\n"
     ]
    },
    {
     "name": "stdout",
     "output_type": "stream",
     "text": [
      "[20]\tvalid_0's l2: 613.001\tvalid_1's l2: 2543.16\n",
      "[40]\tvalid_0's l2: 614.637\tvalid_1's l2: 2482.12\n",
      "[60]\tvalid_0's l2: 634.516\tvalid_1's l2: 2429.93\n",
      "[80]\tvalid_0's l2: 594.185\tvalid_1's l2: 2384.64\n",
      "[100]\tvalid_0's l2: 590.893\tvalid_1's l2: 2347.91\n"
     ]
    },
    {
     "name": "stderr",
     "output_type": "stream",
     "text": [
      "/opt/conda/lib/python3.7/site-packages/lightgbm/sklearn.py:736: UserWarning: 'verbose' argument is deprecated and will be removed in a future release of LightGBM. Pass 'log_evaluation()' callback via 'callbacks' argument instead.\n",
      "  _log_warning(\"'verbose' argument is deprecated and will be removed in a future release of LightGBM. \"\n"
     ]
    },
    {
     "name": "stdout",
     "output_type": "stream",
     "text": [
      "[20]\tvalid_0's l2: 505.591\tvalid_1's l2: 2571.38\n",
      "[40]\tvalid_0's l2: 525.886\tvalid_1's l2: 2497.67\n",
      "[60]\tvalid_0's l2: 500.322\tvalid_1's l2: 2450.62\n",
      "[80]\tvalid_0's l2: 473.753\tvalid_1's l2: 2406.59\n",
      "[100]\tvalid_0's l2: 477.458\tvalid_1's l2: 2370.88\n"
     ]
    },
    {
     "name": "stderr",
     "output_type": "stream",
     "text": [
      "/opt/conda/lib/python3.7/site-packages/lightgbm/sklearn.py:736: UserWarning: 'verbose' argument is deprecated and will be removed in a future release of LightGBM. Pass 'log_evaluation()' callback via 'callbacks' argument instead.\n",
      "  _log_warning(\"'verbose' argument is deprecated and will be removed in a future release of LightGBM. \"\n"
     ]
    },
    {
     "name": "stdout",
     "output_type": "stream",
     "text": [
      "[20]\tvalid_0's l2: 324.562\tvalid_1's l2: 2621.61\n",
      "[40]\tvalid_0's l2: 276.114\tvalid_1's l2: 2572.93\n",
      "[60]\tvalid_0's l2: 244.874\tvalid_1's l2: 2537.89\n",
      "[80]\tvalid_0's l2: 217.324\tvalid_1's l2: 2513.34\n",
      "[100]\tvalid_0's l2: 220.719\tvalid_1's l2: 2494.36\n"
     ]
    },
    {
     "name": "stderr",
     "output_type": "stream",
     "text": [
      "/opt/conda/lib/python3.7/site-packages/lightgbm/sklearn.py:736: UserWarning: 'verbose' argument is deprecated and will be removed in a future release of LightGBM. Pass 'log_evaluation()' callback via 'callbacks' argument instead.\n",
      "  _log_warning(\"'verbose' argument is deprecated and will be removed in a future release of LightGBM. \"\n"
     ]
    },
    {
     "name": "stdout",
     "output_type": "stream",
     "text": [
      "[20]\tvalid_0's l2: 478.383\tvalid_1's l2: 2595.53\n",
      "[40]\tvalid_0's l2: 419.055\tvalid_1's l2: 2548.81\n",
      "[60]\tvalid_0's l2: 351.815\tvalid_1's l2: 2497.04\n",
      "[80]\tvalid_0's l2: 316.688\tvalid_1's l2: 2458.21\n",
      "[100]\tvalid_0's l2: 291.253\tvalid_1's l2: 2417.2\n"
     ]
    },
    {
     "name": "stderr",
     "output_type": "stream",
     "text": [
      "/opt/conda/lib/python3.7/site-packages/lightgbm/sklearn.py:736: UserWarning: 'verbose' argument is deprecated and will be removed in a future release of LightGBM. Pass 'log_evaluation()' callback via 'callbacks' argument instead.\n",
      "  _log_warning(\"'verbose' argument is deprecated and will be removed in a future release of LightGBM. \"\n"
     ]
    },
    {
     "name": "stdout",
     "output_type": "stream",
     "text": [
      "[20]\tvalid_0's l2: 602.462\tvalid_1's l2: 2555.24\n",
      "[40]\tvalid_0's l2: 583.046\tvalid_1's l2: 2477.04\n",
      "[60]\tvalid_0's l2: 555.307\tvalid_1's l2: 2427.5\n",
      "[80]\tvalid_0's l2: 578.605\tvalid_1's l2: 2382.7\n",
      "[100]\tvalid_0's l2: 577.516\tvalid_1's l2: 2346.01\n"
     ]
    },
    {
     "name": "stderr",
     "output_type": "stream",
     "text": [
      "/opt/conda/lib/python3.7/site-packages/lightgbm/sklearn.py:736: UserWarning: 'verbose' argument is deprecated and will be removed in a future release of LightGBM. Pass 'log_evaluation()' callback via 'callbacks' argument instead.\n",
      "  _log_warning(\"'verbose' argument is deprecated and will be removed in a future release of LightGBM. \"\n"
     ]
    },
    {
     "name": "stdout",
     "output_type": "stream",
     "text": [
      "[20]\tvalid_0's l2: 613.001\tvalid_1's l2: 2543.16\n",
      "[40]\tvalid_0's l2: 614.637\tvalid_1's l2: 2482.12\n",
      "[60]\tvalid_0's l2: 634.516\tvalid_1's l2: 2429.93\n",
      "[80]\tvalid_0's l2: 594.185\tvalid_1's l2: 2384.64\n",
      "[100]\tvalid_0's l2: 590.893\tvalid_1's l2: 2347.91\n"
     ]
    },
    {
     "name": "stderr",
     "output_type": "stream",
     "text": [
      "/opt/conda/lib/python3.7/site-packages/lightgbm/sklearn.py:736: UserWarning: 'verbose' argument is deprecated and will be removed in a future release of LightGBM. Pass 'log_evaluation()' callback via 'callbacks' argument instead.\n",
      "  _log_warning(\"'verbose' argument is deprecated and will be removed in a future release of LightGBM. \"\n"
     ]
    },
    {
     "name": "stdout",
     "output_type": "stream",
     "text": [
      "[20]\tvalid_0's l2: 505.591\tvalid_1's l2: 2571.38\n",
      "[40]\tvalid_0's l2: 525.886\tvalid_1's l2: 2497.67\n",
      "[60]\tvalid_0's l2: 500.322\tvalid_1's l2: 2450.62\n",
      "[80]\tvalid_0's l2: 473.753\tvalid_1's l2: 2406.59\n",
      "[100]\tvalid_0's l2: 477.458\tvalid_1's l2: 2370.88\n"
     ]
    },
    {
     "name": "stderr",
     "output_type": "stream",
     "text": [
      "/opt/conda/lib/python3.7/site-packages/lightgbm/sklearn.py:736: UserWarning: 'verbose' argument is deprecated and will be removed in a future release of LightGBM. Pass 'log_evaluation()' callback via 'callbacks' argument instead.\n",
      "  _log_warning(\"'verbose' argument is deprecated and will be removed in a future release of LightGBM. \"\n"
     ]
    },
    {
     "name": "stdout",
     "output_type": "stream",
     "text": [
      "[20]\tvalid_0's l2: 324.562\tvalid_1's l2: 2621.61\n",
      "[40]\tvalid_0's l2: 276.114\tvalid_1's l2: 2572.93\n",
      "[60]\tvalid_0's l2: 244.874\tvalid_1's l2: 2537.89\n",
      "[80]\tvalid_0's l2: 217.324\tvalid_1's l2: 2513.34\n",
      "[100]\tvalid_0's l2: 220.719\tvalid_1's l2: 2494.36\n"
     ]
    },
    {
     "name": "stderr",
     "output_type": "stream",
     "text": [
      "/opt/conda/lib/python3.7/site-packages/lightgbm/sklearn.py:736: UserWarning: 'verbose' argument is deprecated and will be removed in a future release of LightGBM. Pass 'log_evaluation()' callback via 'callbacks' argument instead.\n",
      "  _log_warning(\"'verbose' argument is deprecated and will be removed in a future release of LightGBM. \"\n"
     ]
    },
    {
     "name": "stdout",
     "output_type": "stream",
     "text": [
      "[20]\tvalid_0's l2: 476.488\tvalid_1's l2: 2595.74\n",
      "[40]\tvalid_0's l2: 417.788\tvalid_1's l2: 2549.09\n",
      "[60]\tvalid_0's l2: 369.994\tvalid_1's l2: 2499.37\n",
      "[80]\tvalid_0's l2: 297.171\tvalid_1's l2: 2458.95\n",
      "[100]\tvalid_0's l2: 284.731\tvalid_1's l2: 2422.26\n"
     ]
    },
    {
     "name": "stderr",
     "output_type": "stream",
     "text": [
      "/opt/conda/lib/python3.7/site-packages/lightgbm/sklearn.py:736: UserWarning: 'verbose' argument is deprecated and will be removed in a future release of LightGBM. Pass 'log_evaluation()' callback via 'callbacks' argument instead.\n",
      "  _log_warning(\"'verbose' argument is deprecated and will be removed in a future release of LightGBM. \"\n"
     ]
    },
    {
     "name": "stdout",
     "output_type": "stream",
     "text": [
      "[20]\tvalid_0's l2: 611.33\tvalid_1's l2: 2556.13\n",
      "[40]\tvalid_0's l2: 585.789\tvalid_1's l2: 2479.22\n",
      "[60]\tvalid_0's l2: 565.698\tvalid_1's l2: 2430.79\n",
      "[80]\tvalid_0's l2: 618.294\tvalid_1's l2: 2393.74\n",
      "[100]\tvalid_0's l2: 579.551\tvalid_1's l2: 2353.75\n"
     ]
    },
    {
     "name": "stderr",
     "output_type": "stream",
     "text": [
      "/opt/conda/lib/python3.7/site-packages/lightgbm/sklearn.py:736: UserWarning: 'verbose' argument is deprecated and will be removed in a future release of LightGBM. Pass 'log_evaluation()' callback via 'callbacks' argument instead.\n",
      "  _log_warning(\"'verbose' argument is deprecated and will be removed in a future release of LightGBM. \"\n"
     ]
    },
    {
     "name": "stdout",
     "output_type": "stream",
     "text": [
      "[20]\tvalid_0's l2: 611.397\tvalid_1's l2: 2543.51\n",
      "[40]\tvalid_0's l2: 616.051\tvalid_1's l2: 2482.41\n",
      "[60]\tvalid_0's l2: 634.756\tvalid_1's l2: 2430.42\n",
      "[80]\tvalid_0's l2: 621.57\tvalid_1's l2: 2384.29\n",
      "[100]\tvalid_0's l2: 574.514\tvalid_1's l2: 2348.82\n"
     ]
    },
    {
     "name": "stderr",
     "output_type": "stream",
     "text": [
      "/opt/conda/lib/python3.7/site-packages/lightgbm/sklearn.py:736: UserWarning: 'verbose' argument is deprecated and will be removed in a future release of LightGBM. Pass 'log_evaluation()' callback via 'callbacks' argument instead.\n",
      "  _log_warning(\"'verbose' argument is deprecated and will be removed in a future release of LightGBM. \"\n"
     ]
    },
    {
     "name": "stdout",
     "output_type": "stream",
     "text": [
      "[20]\tvalid_0's l2: 504.463\tvalid_1's l2: 2571.69\n",
      "[40]\tvalid_0's l2: 508.091\tvalid_1's l2: 2501.34\n",
      "[60]\tvalid_0's l2: 525.982\tvalid_1's l2: 2451.6\n",
      "[80]\tvalid_0's l2: 481.641\tvalid_1's l2: 2403.08\n",
      "[100]\tvalid_0's l2: 457.524\tvalid_1's l2: 2368.25\n"
     ]
    },
    {
     "name": "stderr",
     "output_type": "stream",
     "text": [
      "/opt/conda/lib/python3.7/site-packages/lightgbm/sklearn.py:736: UserWarning: 'verbose' argument is deprecated and will be removed in a future release of LightGBM. Pass 'log_evaluation()' callback via 'callbacks' argument instead.\n",
      "  _log_warning(\"'verbose' argument is deprecated and will be removed in a future release of LightGBM. \"\n"
     ]
    },
    {
     "name": "stdout",
     "output_type": "stream",
     "text": [
      "[20]\tvalid_0's l2: 321.322\tvalid_1's l2: 2623.12\n",
      "[40]\tvalid_0's l2: 286.201\tvalid_1's l2: 2575.15\n",
      "[60]\tvalid_0's l2: 242.742\tvalid_1's l2: 2541.01\n",
      "[80]\tvalid_0's l2: 228.823\tvalid_1's l2: 2517.49\n",
      "[100]\tvalid_0's l2: 226.401\tvalid_1's l2: 2498.11\n"
     ]
    },
    {
     "name": "stderr",
     "output_type": "stream",
     "text": [
      "/opt/conda/lib/python3.7/site-packages/lightgbm/sklearn.py:736: UserWarning: 'verbose' argument is deprecated and will be removed in a future release of LightGBM. Pass 'log_evaluation()' callback via 'callbacks' argument instead.\n",
      "  _log_warning(\"'verbose' argument is deprecated and will be removed in a future release of LightGBM. \"\n"
     ]
    },
    {
     "name": "stdout",
     "output_type": "stream",
     "text": [
      "[20]\tvalid_0's l2: 476.488\tvalid_1's l2: 2595.74\n",
      "[40]\tvalid_0's l2: 417.788\tvalid_1's l2: 2549.09\n",
      "[60]\tvalid_0's l2: 369.994\tvalid_1's l2: 2499.37\n",
      "[80]\tvalid_0's l2: 297.171\tvalid_1's l2: 2458.95\n",
      "[100]\tvalid_0's l2: 284.731\tvalid_1's l2: 2422.26\n"
     ]
    },
    {
     "name": "stderr",
     "output_type": "stream",
     "text": [
      "/opt/conda/lib/python3.7/site-packages/lightgbm/sklearn.py:736: UserWarning: 'verbose' argument is deprecated and will be removed in a future release of LightGBM. Pass 'log_evaluation()' callback via 'callbacks' argument instead.\n",
      "  _log_warning(\"'verbose' argument is deprecated and will be removed in a future release of LightGBM. \"\n"
     ]
    },
    {
     "name": "stdout",
     "output_type": "stream",
     "text": [
      "[20]\tvalid_0's l2: 611.33\tvalid_1's l2: 2556.13\n",
      "[40]\tvalid_0's l2: 585.789\tvalid_1's l2: 2479.22\n",
      "[60]\tvalid_0's l2: 565.698\tvalid_1's l2: 2430.79\n",
      "[80]\tvalid_0's l2: 618.294\tvalid_1's l2: 2393.74\n",
      "[100]\tvalid_0's l2: 579.551\tvalid_1's l2: 2353.75\n"
     ]
    },
    {
     "name": "stderr",
     "output_type": "stream",
     "text": [
      "/opt/conda/lib/python3.7/site-packages/lightgbm/sklearn.py:736: UserWarning: 'verbose' argument is deprecated and will be removed in a future release of LightGBM. Pass 'log_evaluation()' callback via 'callbacks' argument instead.\n",
      "  _log_warning(\"'verbose' argument is deprecated and will be removed in a future release of LightGBM. \"\n"
     ]
    },
    {
     "name": "stdout",
     "output_type": "stream",
     "text": [
      "[20]\tvalid_0's l2: 611.397\tvalid_1's l2: 2543.51\n",
      "[40]\tvalid_0's l2: 616.051\tvalid_1's l2: 2482.41\n",
      "[60]\tvalid_0's l2: 634.756\tvalid_1's l2: 2430.42\n",
      "[80]\tvalid_0's l2: 621.57\tvalid_1's l2: 2384.29\n",
      "[100]\tvalid_0's l2: 574.514\tvalid_1's l2: 2348.82\n"
     ]
    },
    {
     "name": "stderr",
     "output_type": "stream",
     "text": [
      "/opt/conda/lib/python3.7/site-packages/lightgbm/sklearn.py:736: UserWarning: 'verbose' argument is deprecated and will be removed in a future release of LightGBM. Pass 'log_evaluation()' callback via 'callbacks' argument instead.\n",
      "  _log_warning(\"'verbose' argument is deprecated and will be removed in a future release of LightGBM. \"\n"
     ]
    },
    {
     "name": "stdout",
     "output_type": "stream",
     "text": [
      "[20]\tvalid_0's l2: 504.463\tvalid_1's l2: 2571.69\n",
      "[40]\tvalid_0's l2: 508.091\tvalid_1's l2: 2501.34\n",
      "[60]\tvalid_0's l2: 525.982\tvalid_1's l2: 2451.6\n",
      "[80]\tvalid_0's l2: 481.641\tvalid_1's l2: 2403.08\n",
      "[100]\tvalid_0's l2: 457.524\tvalid_1's l2: 2368.25\n"
     ]
    },
    {
     "name": "stderr",
     "output_type": "stream",
     "text": [
      "/opt/conda/lib/python3.7/site-packages/lightgbm/sklearn.py:736: UserWarning: 'verbose' argument is deprecated and will be removed in a future release of LightGBM. Pass 'log_evaluation()' callback via 'callbacks' argument instead.\n",
      "  _log_warning(\"'verbose' argument is deprecated and will be removed in a future release of LightGBM. \"\n"
     ]
    },
    {
     "name": "stdout",
     "output_type": "stream",
     "text": [
      "[20]\tvalid_0's l2: 321.322\tvalid_1's l2: 2623.12\n",
      "[40]\tvalid_0's l2: 286.201\tvalid_1's l2: 2575.15\n",
      "[60]\tvalid_0's l2: 242.742\tvalid_1's l2: 2541.01\n",
      "[80]\tvalid_0's l2: 228.823\tvalid_1's l2: 2517.49\n",
      "[100]\tvalid_0's l2: 226.401\tvalid_1's l2: 2498.11\n"
     ]
    },
    {
     "name": "stderr",
     "output_type": "stream",
     "text": [
      "/opt/conda/lib/python3.7/site-packages/lightgbm/sklearn.py:736: UserWarning: 'verbose' argument is deprecated and will be removed in a future release of LightGBM. Pass 'log_evaluation()' callback via 'callbacks' argument instead.\n",
      "  _log_warning(\"'verbose' argument is deprecated and will be removed in a future release of LightGBM. \"\n"
     ]
    },
    {
     "name": "stdout",
     "output_type": "stream",
     "text": [
      "[20]\tvalid_0's l2: 478.5\tvalid_1's l2: 2595.5\n",
      "[40]\tvalid_0's l2: 419.079\tvalid_1's l2: 2548.76\n",
      "[60]\tvalid_0's l2: 351.736\tvalid_1's l2: 2496.96\n",
      "[80]\tvalid_0's l2: 316.592\tvalid_1's l2: 2458.11\n",
      "[100]\tvalid_0's l2: 291.114\tvalid_1's l2: 2417.08\n"
     ]
    },
    {
     "name": "stderr",
     "output_type": "stream",
     "text": [
      "/opt/conda/lib/python3.7/site-packages/lightgbm/sklearn.py:736: UserWarning: 'verbose' argument is deprecated and will be removed in a future release of LightGBM. Pass 'log_evaluation()' callback via 'callbacks' argument instead.\n",
      "  _log_warning(\"'verbose' argument is deprecated and will be removed in a future release of LightGBM. \"\n"
     ]
    },
    {
     "name": "stdout",
     "output_type": "stream",
     "text": [
      "[20]\tvalid_0's l2: 602.561\tvalid_1's l2: 2555.21\n",
      "[40]\tvalid_0's l2: 583.109\tvalid_1's l2: 2476.98\n",
      "[60]\tvalid_0's l2: 555.331\tvalid_1's l2: 2427.41\n",
      "[80]\tvalid_0's l2: 578.69\tvalid_1's l2: 2382.6\n",
      "[100]\tvalid_0's l2: 577.616\tvalid_1's l2: 2345.88\n"
     ]
    },
    {
     "name": "stderr",
     "output_type": "stream",
     "text": [
      "/opt/conda/lib/python3.7/site-packages/lightgbm/sklearn.py:736: UserWarning: 'verbose' argument is deprecated and will be removed in a future release of LightGBM. Pass 'log_evaluation()' callback via 'callbacks' argument instead.\n",
      "  _log_warning(\"'verbose' argument is deprecated and will be removed in a future release of LightGBM. \"\n"
     ]
    },
    {
     "name": "stdout",
     "output_type": "stream",
     "text": [
      "[20]\tvalid_0's l2: 613.099\tvalid_1's l2: 2543.12\n",
      "[40]\tvalid_0's l2: 614.703\tvalid_1's l2: 2482.06\n",
      "[60]\tvalid_0's l2: 634.587\tvalid_1's l2: 2429.85\n",
      "[80]\tvalid_0's l2: 594.227\tvalid_1's l2: 2384.54\n",
      "[100]\tvalid_0's l2: 590.934\tvalid_1's l2: 2347.79\n"
     ]
    },
    {
     "name": "stderr",
     "output_type": "stream",
     "text": [
      "/opt/conda/lib/python3.7/site-packages/lightgbm/sklearn.py:736: UserWarning: 'verbose' argument is deprecated and will be removed in a future release of LightGBM. Pass 'log_evaluation()' callback via 'callbacks' argument instead.\n",
      "  _log_warning(\"'verbose' argument is deprecated and will be removed in a future release of LightGBM. \"\n"
     ]
    },
    {
     "name": "stdout",
     "output_type": "stream",
     "text": [
      "[20]\tvalid_0's l2: 505.68\tvalid_1's l2: 2571.35\n",
      "[40]\tvalid_0's l2: 525.954\tvalid_1's l2: 2497.61\n",
      "[60]\tvalid_0's l2: 500.337\tvalid_1's l2: 2450.53\n",
      "[80]\tvalid_0's l2: 476.852\tvalid_1's l2: 2406.17\n",
      "[100]\tvalid_0's l2: 469.783\tvalid_1's l2: 2369.59\n"
     ]
    },
    {
     "name": "stderr",
     "output_type": "stream",
     "text": [
      "/opt/conda/lib/python3.7/site-packages/lightgbm/sklearn.py:736: UserWarning: 'verbose' argument is deprecated and will be removed in a future release of LightGBM. Pass 'log_evaluation()' callback via 'callbacks' argument instead.\n",
      "  _log_warning(\"'verbose' argument is deprecated and will be removed in a future release of LightGBM. \"\n"
     ]
    },
    {
     "name": "stdout",
     "output_type": "stream",
     "text": [
      "[20]\tvalid_0's l2: 321.362\tvalid_1's l2: 2624.75\n",
      "[40]\tvalid_0's l2: 284.722\tvalid_1's l2: 2573.42\n",
      "[60]\tvalid_0's l2: 242.765\tvalid_1's l2: 2539.88\n",
      "[80]\tvalid_0's l2: 238.101\tvalid_1's l2: 2513.81\n",
      "[100]\tvalid_0's l2: 230.585\tvalid_1's l2: 2499.11\n"
     ]
    },
    {
     "name": "stderr",
     "output_type": "stream",
     "text": [
      "/opt/conda/lib/python3.7/site-packages/lightgbm/sklearn.py:736: UserWarning: 'verbose' argument is deprecated and will be removed in a future release of LightGBM. Pass 'log_evaluation()' callback via 'callbacks' argument instead.\n",
      "  _log_warning(\"'verbose' argument is deprecated and will be removed in a future release of LightGBM. \"\n"
     ]
    },
    {
     "name": "stdout",
     "output_type": "stream",
     "text": [
      "[20]\tvalid_0's l2: 478.5\tvalid_1's l2: 2595.5\n",
      "[40]\tvalid_0's l2: 419.079\tvalid_1's l2: 2548.76\n",
      "[60]\tvalid_0's l2: 351.736\tvalid_1's l2: 2496.96\n",
      "[80]\tvalid_0's l2: 316.592\tvalid_1's l2: 2458.11\n",
      "[100]\tvalid_0's l2: 291.114\tvalid_1's l2: 2417.08\n"
     ]
    },
    {
     "name": "stderr",
     "output_type": "stream",
     "text": [
      "/opt/conda/lib/python3.7/site-packages/lightgbm/sklearn.py:736: UserWarning: 'verbose' argument is deprecated and will be removed in a future release of LightGBM. Pass 'log_evaluation()' callback via 'callbacks' argument instead.\n",
      "  _log_warning(\"'verbose' argument is deprecated and will be removed in a future release of LightGBM. \"\n"
     ]
    },
    {
     "name": "stdout",
     "output_type": "stream",
     "text": [
      "[20]\tvalid_0's l2: 602.561\tvalid_1's l2: 2555.21\n",
      "[40]\tvalid_0's l2: 583.109\tvalid_1's l2: 2476.98\n",
      "[60]\tvalid_0's l2: 555.331\tvalid_1's l2: 2427.41\n",
      "[80]\tvalid_0's l2: 578.69\tvalid_1's l2: 2382.6\n",
      "[100]\tvalid_0's l2: 577.616\tvalid_1's l2: 2345.88\n"
     ]
    },
    {
     "name": "stderr",
     "output_type": "stream",
     "text": [
      "/opt/conda/lib/python3.7/site-packages/lightgbm/sklearn.py:736: UserWarning: 'verbose' argument is deprecated and will be removed in a future release of LightGBM. Pass 'log_evaluation()' callback via 'callbacks' argument instead.\n",
      "  _log_warning(\"'verbose' argument is deprecated and will be removed in a future release of LightGBM. \"\n"
     ]
    },
    {
     "name": "stdout",
     "output_type": "stream",
     "text": [
      "[20]\tvalid_0's l2: 613.099\tvalid_1's l2: 2543.12\n",
      "[40]\tvalid_0's l2: 614.703\tvalid_1's l2: 2482.06\n",
      "[60]\tvalid_0's l2: 634.587\tvalid_1's l2: 2429.85\n",
      "[80]\tvalid_0's l2: 594.227\tvalid_1's l2: 2384.54\n",
      "[100]\tvalid_0's l2: 590.934\tvalid_1's l2: 2347.79\n"
     ]
    },
    {
     "name": "stderr",
     "output_type": "stream",
     "text": [
      "/opt/conda/lib/python3.7/site-packages/lightgbm/sklearn.py:736: UserWarning: 'verbose' argument is deprecated and will be removed in a future release of LightGBM. Pass 'log_evaluation()' callback via 'callbacks' argument instead.\n",
      "  _log_warning(\"'verbose' argument is deprecated and will be removed in a future release of LightGBM. \"\n"
     ]
    },
    {
     "name": "stdout",
     "output_type": "stream",
     "text": [
      "[20]\tvalid_0's l2: 505.68\tvalid_1's l2: 2571.35\n",
      "[40]\tvalid_0's l2: 525.954\tvalid_1's l2: 2497.61\n",
      "[60]\tvalid_0's l2: 500.337\tvalid_1's l2: 2450.53\n",
      "[80]\tvalid_0's l2: 476.852\tvalid_1's l2: 2406.17\n",
      "[100]\tvalid_0's l2: 469.783\tvalid_1's l2: 2369.59\n"
     ]
    },
    {
     "name": "stderr",
     "output_type": "stream",
     "text": [
      "/opt/conda/lib/python3.7/site-packages/lightgbm/sklearn.py:736: UserWarning: 'verbose' argument is deprecated and will be removed in a future release of LightGBM. Pass 'log_evaluation()' callback via 'callbacks' argument instead.\n",
      "  _log_warning(\"'verbose' argument is deprecated and will be removed in a future release of LightGBM. \"\n"
     ]
    },
    {
     "name": "stdout",
     "output_type": "stream",
     "text": [
      "[20]\tvalid_0's l2: 321.362\tvalid_1's l2: 2624.75\n",
      "[40]\tvalid_0's l2: 284.722\tvalid_1's l2: 2573.42\n",
      "[60]\tvalid_0's l2: 242.765\tvalid_1's l2: 2539.88\n",
      "[80]\tvalid_0's l2: 238.101\tvalid_1's l2: 2513.81\n",
      "[100]\tvalid_0's l2: 230.585\tvalid_1's l2: 2499.11\n"
     ]
    },
    {
     "name": "stderr",
     "output_type": "stream",
     "text": [
      "/opt/conda/lib/python3.7/site-packages/lightgbm/sklearn.py:736: UserWarning: 'verbose' argument is deprecated and will be removed in a future release of LightGBM. Pass 'log_evaluation()' callback via 'callbacks' argument instead.\n",
      "  _log_warning(\"'verbose' argument is deprecated and will be removed in a future release of LightGBM. \"\n"
     ]
    },
    {
     "name": "stdout",
     "output_type": "stream",
     "text": [
      "[20]\tvalid_0's l2: 476.605\tvalid_1's l2: 2595.71\n",
      "[40]\tvalid_0's l2: 418.14\tvalid_1's l2: 2549\n",
      "[60]\tvalid_0's l2: 364.143\tvalid_1's l2: 2495.49\n",
      "[80]\tvalid_0's l2: 305.089\tvalid_1's l2: 2455.76\n",
      "[100]\tvalid_0's l2: 297.115\tvalid_1's l2: 2416.8\n"
     ]
    },
    {
     "name": "stderr",
     "output_type": "stream",
     "text": [
      "/opt/conda/lib/python3.7/site-packages/lightgbm/sklearn.py:736: UserWarning: 'verbose' argument is deprecated and will be removed in a future release of LightGBM. Pass 'log_evaluation()' callback via 'callbacks' argument instead.\n",
      "  _log_warning(\"'verbose' argument is deprecated and will be removed in a future release of LightGBM. \"\n"
     ]
    },
    {
     "name": "stdout",
     "output_type": "stream",
     "text": [
      "[20]\tvalid_0's l2: 611.441\tvalid_1's l2: 2556.09\n",
      "[40]\tvalid_0's l2: 585.861\tvalid_1's l2: 2479.16\n",
      "[60]\tvalid_0's l2: 565.724\tvalid_1's l2: 2430.71\n",
      "[80]\tvalid_0's l2: 600.86\tvalid_1's l2: 2393.66\n",
      "[100]\tvalid_0's l2: 591.345\tvalid_1's l2: 2356.44\n"
     ]
    },
    {
     "name": "stderr",
     "output_type": "stream",
     "text": [
      "/opt/conda/lib/python3.7/site-packages/lightgbm/sklearn.py:736: UserWarning: 'verbose' argument is deprecated and will be removed in a future release of LightGBM. Pass 'log_evaluation()' callback via 'callbacks' argument instead.\n",
      "  _log_warning(\"'verbose' argument is deprecated and will be removed in a future release of LightGBM. \"\n"
     ]
    },
    {
     "name": "stdout",
     "output_type": "stream",
     "text": [
      "[20]\tvalid_0's l2: 611.497\tvalid_1's l2: 2543.47\n",
      "[40]\tvalid_0's l2: 616.127\tvalid_1's l2: 2482.34\n",
      "[60]\tvalid_0's l2: 634.833\tvalid_1's l2: 2430.33\n",
      "[80]\tvalid_0's l2: 621.64\tvalid_1's l2: 2384.18\n",
      "[100]\tvalid_0's l2: 591.254\tvalid_1's l2: 2349.73\n"
     ]
    },
    {
     "name": "stderr",
     "output_type": "stream",
     "text": [
      "/opt/conda/lib/python3.7/site-packages/lightgbm/sklearn.py:736: UserWarning: 'verbose' argument is deprecated and will be removed in a future release of LightGBM. Pass 'log_evaluation()' callback via 'callbacks' argument instead.\n",
      "  _log_warning(\"'verbose' argument is deprecated and will be removed in a future release of LightGBM. \"\n"
     ]
    },
    {
     "name": "stdout",
     "output_type": "stream",
     "text": [
      "[20]\tvalid_0's l2: 504.552\tvalid_1's l2: 2571.65\n",
      "[40]\tvalid_0's l2: 508.165\tvalid_1's l2: 2501.28\n",
      "[60]\tvalid_0's l2: 526.029\tvalid_1's l2: 2451.51\n",
      "[80]\tvalid_0's l2: 481.644\tvalid_1's l2: 2402.97\n",
      "[100]\tvalid_0's l2: 457.501\tvalid_1's l2: 2368.12\n"
     ]
    },
    {
     "name": "stderr",
     "output_type": "stream",
     "text": [
      "/opt/conda/lib/python3.7/site-packages/lightgbm/sklearn.py:736: UserWarning: 'verbose' argument is deprecated and will be removed in a future release of LightGBM. Pass 'log_evaluation()' callback via 'callbacks' argument instead.\n",
      "  _log_warning(\"'verbose' argument is deprecated and will be removed in a future release of LightGBM. \"\n"
     ]
    },
    {
     "name": "stdout",
     "output_type": "stream",
     "text": [
      "[20]\tvalid_0's l2: 320.497\tvalid_1's l2: 2623.89\n",
      "[40]\tvalid_0's l2: 281.874\tvalid_1's l2: 2574.62\n",
      "[60]\tvalid_0's l2: 249.419\tvalid_1's l2: 2540.11\n",
      "[80]\tvalid_0's l2: 219.698\tvalid_1's l2: 2514.36\n",
      "[100]\tvalid_0's l2: 230.392\tvalid_1's l2: 2498.01\n"
     ]
    },
    {
     "name": "stderr",
     "output_type": "stream",
     "text": [
      "/opt/conda/lib/python3.7/site-packages/lightgbm/sklearn.py:736: UserWarning: 'verbose' argument is deprecated and will be removed in a future release of LightGBM. Pass 'log_evaluation()' callback via 'callbacks' argument instead.\n",
      "  _log_warning(\"'verbose' argument is deprecated and will be removed in a future release of LightGBM. \"\n"
     ]
    },
    {
     "name": "stdout",
     "output_type": "stream",
     "text": [
      "[20]\tvalid_0's l2: 476.605\tvalid_1's l2: 2595.71\n",
      "[40]\tvalid_0's l2: 418.14\tvalid_1's l2: 2549\n",
      "[60]\tvalid_0's l2: 364.143\tvalid_1's l2: 2495.49\n",
      "[80]\tvalid_0's l2: 305.089\tvalid_1's l2: 2455.76\n",
      "[100]\tvalid_0's l2: 297.115\tvalid_1's l2: 2416.8\n"
     ]
    },
    {
     "name": "stderr",
     "output_type": "stream",
     "text": [
      "/opt/conda/lib/python3.7/site-packages/lightgbm/sklearn.py:736: UserWarning: 'verbose' argument is deprecated and will be removed in a future release of LightGBM. Pass 'log_evaluation()' callback via 'callbacks' argument instead.\n",
      "  _log_warning(\"'verbose' argument is deprecated and will be removed in a future release of LightGBM. \"\n"
     ]
    },
    {
     "name": "stdout",
     "output_type": "stream",
     "text": [
      "[20]\tvalid_0's l2: 611.441\tvalid_1's l2: 2556.09\n",
      "[40]\tvalid_0's l2: 585.861\tvalid_1's l2: 2479.16\n",
      "[60]\tvalid_0's l2: 565.724\tvalid_1's l2: 2430.71\n",
      "[80]\tvalid_0's l2: 600.86\tvalid_1's l2: 2393.66\n",
      "[100]\tvalid_0's l2: 591.345\tvalid_1's l2: 2356.44\n"
     ]
    },
    {
     "name": "stderr",
     "output_type": "stream",
     "text": [
      "/opt/conda/lib/python3.7/site-packages/lightgbm/sklearn.py:736: UserWarning: 'verbose' argument is deprecated and will be removed in a future release of LightGBM. Pass 'log_evaluation()' callback via 'callbacks' argument instead.\n",
      "  _log_warning(\"'verbose' argument is deprecated and will be removed in a future release of LightGBM. \"\n"
     ]
    },
    {
     "name": "stdout",
     "output_type": "stream",
     "text": [
      "[20]\tvalid_0's l2: 611.497\tvalid_1's l2: 2543.47\n",
      "[40]\tvalid_0's l2: 616.127\tvalid_1's l2: 2482.34\n",
      "[60]\tvalid_0's l2: 634.833\tvalid_1's l2: 2430.33\n",
      "[80]\tvalid_0's l2: 621.64\tvalid_1's l2: 2384.18\n",
      "[100]\tvalid_0's l2: 591.254\tvalid_1's l2: 2349.73\n"
     ]
    },
    {
     "name": "stderr",
     "output_type": "stream",
     "text": [
      "/opt/conda/lib/python3.7/site-packages/lightgbm/sklearn.py:736: UserWarning: 'verbose' argument is deprecated and will be removed in a future release of LightGBM. Pass 'log_evaluation()' callback via 'callbacks' argument instead.\n",
      "  _log_warning(\"'verbose' argument is deprecated and will be removed in a future release of LightGBM. \"\n"
     ]
    },
    {
     "name": "stdout",
     "output_type": "stream",
     "text": [
      "[20]\tvalid_0's l2: 504.552\tvalid_1's l2: 2571.65\n",
      "[40]\tvalid_0's l2: 508.165\tvalid_1's l2: 2501.28\n",
      "[60]\tvalid_0's l2: 526.029\tvalid_1's l2: 2451.51\n",
      "[80]\tvalid_0's l2: 481.644\tvalid_1's l2: 2402.97\n",
      "[100]\tvalid_0's l2: 457.501\tvalid_1's l2: 2368.12\n"
     ]
    },
    {
     "name": "stderr",
     "output_type": "stream",
     "text": [
      "/opt/conda/lib/python3.7/site-packages/lightgbm/sklearn.py:736: UserWarning: 'verbose' argument is deprecated and will be removed in a future release of LightGBM. Pass 'log_evaluation()' callback via 'callbacks' argument instead.\n",
      "  _log_warning(\"'verbose' argument is deprecated and will be removed in a future release of LightGBM. \"\n"
     ]
    },
    {
     "name": "stdout",
     "output_type": "stream",
     "text": [
      "[20]\tvalid_0's l2: 320.497\tvalid_1's l2: 2623.89\n",
      "[40]\tvalid_0's l2: 281.874\tvalid_1's l2: 2574.62\n",
      "[60]\tvalid_0's l2: 249.419\tvalid_1's l2: 2540.11\n",
      "[80]\tvalid_0's l2: 219.698\tvalid_1's l2: 2514.36\n",
      "[100]\tvalid_0's l2: 230.392\tvalid_1's l2: 2498.01\n"
     ]
    },
    {
     "name": "stderr",
     "output_type": "stream",
     "text": [
      "/opt/conda/lib/python3.7/site-packages/lightgbm/sklearn.py:736: UserWarning: 'verbose' argument is deprecated and will be removed in a future release of LightGBM. Pass 'log_evaluation()' callback via 'callbacks' argument instead.\n",
      "  _log_warning(\"'verbose' argument is deprecated and will be removed in a future release of LightGBM. \"\n"
     ]
    },
    {
     "name": "stdout",
     "output_type": "stream",
     "text": [
      "[20]\tvalid_0's l2: 478.383\tvalid_1's l2: 2595.53\n",
      "[40]\tvalid_0's l2: 419.055\tvalid_1's l2: 2548.81\n",
      "[60]\tvalid_0's l2: 351.815\tvalid_1's l2: 2497.04\n",
      "[80]\tvalid_0's l2: 316.688\tvalid_1's l2: 2458.21\n",
      "[100]\tvalid_0's l2: 291.253\tvalid_1's l2: 2417.2\n"
     ]
    },
    {
     "name": "stderr",
     "output_type": "stream",
     "text": [
      "/opt/conda/lib/python3.7/site-packages/lightgbm/sklearn.py:736: UserWarning: 'verbose' argument is deprecated and will be removed in a future release of LightGBM. Pass 'log_evaluation()' callback via 'callbacks' argument instead.\n",
      "  _log_warning(\"'verbose' argument is deprecated and will be removed in a future release of LightGBM. \"\n"
     ]
    },
    {
     "name": "stdout",
     "output_type": "stream",
     "text": [
      "[20]\tvalid_0's l2: 602.462\tvalid_1's l2: 2555.24\n",
      "[40]\tvalid_0's l2: 583.046\tvalid_1's l2: 2477.04\n",
      "[60]\tvalid_0's l2: 555.307\tvalid_1's l2: 2427.5\n",
      "[80]\tvalid_0's l2: 578.605\tvalid_1's l2: 2382.7\n",
      "[100]\tvalid_0's l2: 577.516\tvalid_1's l2: 2346.01\n"
     ]
    },
    {
     "name": "stderr",
     "output_type": "stream",
     "text": [
      "/opt/conda/lib/python3.7/site-packages/lightgbm/sklearn.py:736: UserWarning: 'verbose' argument is deprecated and will be removed in a future release of LightGBM. Pass 'log_evaluation()' callback via 'callbacks' argument instead.\n",
      "  _log_warning(\"'verbose' argument is deprecated and will be removed in a future release of LightGBM. \"\n"
     ]
    },
    {
     "name": "stdout",
     "output_type": "stream",
     "text": [
      "[20]\tvalid_0's l2: 613.001\tvalid_1's l2: 2543.16\n",
      "[40]\tvalid_0's l2: 614.637\tvalid_1's l2: 2482.12\n",
      "[60]\tvalid_0's l2: 634.516\tvalid_1's l2: 2429.93\n",
      "[80]\tvalid_0's l2: 594.185\tvalid_1's l2: 2384.64\n",
      "[100]\tvalid_0's l2: 590.893\tvalid_1's l2: 2347.91\n"
     ]
    },
    {
     "name": "stderr",
     "output_type": "stream",
     "text": [
      "/opt/conda/lib/python3.7/site-packages/lightgbm/sklearn.py:736: UserWarning: 'verbose' argument is deprecated and will be removed in a future release of LightGBM. Pass 'log_evaluation()' callback via 'callbacks' argument instead.\n",
      "  _log_warning(\"'verbose' argument is deprecated and will be removed in a future release of LightGBM. \"\n"
     ]
    },
    {
     "name": "stdout",
     "output_type": "stream",
     "text": [
      "[20]\tvalid_0's l2: 505.591\tvalid_1's l2: 2571.38\n",
      "[40]\tvalid_0's l2: 525.886\tvalid_1's l2: 2497.67\n",
      "[60]\tvalid_0's l2: 500.322\tvalid_1's l2: 2450.62\n",
      "[80]\tvalid_0's l2: 473.753\tvalid_1's l2: 2406.59\n",
      "[100]\tvalid_0's l2: 477.458\tvalid_1's l2: 2370.88\n"
     ]
    },
    {
     "name": "stderr",
     "output_type": "stream",
     "text": [
      "/opt/conda/lib/python3.7/site-packages/lightgbm/sklearn.py:736: UserWarning: 'verbose' argument is deprecated and will be removed in a future release of LightGBM. Pass 'log_evaluation()' callback via 'callbacks' argument instead.\n",
      "  _log_warning(\"'verbose' argument is deprecated and will be removed in a future release of LightGBM. \"\n"
     ]
    },
    {
     "name": "stdout",
     "output_type": "stream",
     "text": [
      "[20]\tvalid_0's l2: 324.562\tvalid_1's l2: 2621.61\n",
      "[40]\tvalid_0's l2: 276.114\tvalid_1's l2: 2572.93\n",
      "[60]\tvalid_0's l2: 244.874\tvalid_1's l2: 2537.89\n",
      "[80]\tvalid_0's l2: 217.324\tvalid_1's l2: 2513.34\n",
      "[100]\tvalid_0's l2: 220.719\tvalid_1's l2: 2494.36\n"
     ]
    },
    {
     "name": "stderr",
     "output_type": "stream",
     "text": [
      "/opt/conda/lib/python3.7/site-packages/lightgbm/sklearn.py:736: UserWarning: 'verbose' argument is deprecated and will be removed in a future release of LightGBM. Pass 'log_evaluation()' callback via 'callbacks' argument instead.\n",
      "  _log_warning(\"'verbose' argument is deprecated and will be removed in a future release of LightGBM. \"\n"
     ]
    },
    {
     "name": "stdout",
     "output_type": "stream",
     "text": [
      "[20]\tvalid_0's l2: 478.383\tvalid_1's l2: 2595.53\n",
      "[40]\tvalid_0's l2: 419.055\tvalid_1's l2: 2548.81\n",
      "[60]\tvalid_0's l2: 351.815\tvalid_1's l2: 2497.04\n",
      "[80]\tvalid_0's l2: 316.688\tvalid_1's l2: 2458.21\n",
      "[100]\tvalid_0's l2: 291.253\tvalid_1's l2: 2417.2\n"
     ]
    },
    {
     "name": "stderr",
     "output_type": "stream",
     "text": [
      "/opt/conda/lib/python3.7/site-packages/lightgbm/sklearn.py:736: UserWarning: 'verbose' argument is deprecated and will be removed in a future release of LightGBM. Pass 'log_evaluation()' callback via 'callbacks' argument instead.\n",
      "  _log_warning(\"'verbose' argument is deprecated and will be removed in a future release of LightGBM. \"\n"
     ]
    },
    {
     "name": "stdout",
     "output_type": "stream",
     "text": [
      "[20]\tvalid_0's l2: 602.462\tvalid_1's l2: 2555.24\n",
      "[40]\tvalid_0's l2: 583.046\tvalid_1's l2: 2477.04\n",
      "[60]\tvalid_0's l2: 555.307\tvalid_1's l2: 2427.5\n",
      "[80]\tvalid_0's l2: 578.605\tvalid_1's l2: 2382.7\n",
      "[100]\tvalid_0's l2: 577.516\tvalid_1's l2: 2346.01\n"
     ]
    },
    {
     "name": "stderr",
     "output_type": "stream",
     "text": [
      "/opt/conda/lib/python3.7/site-packages/lightgbm/sklearn.py:736: UserWarning: 'verbose' argument is deprecated and will be removed in a future release of LightGBM. Pass 'log_evaluation()' callback via 'callbacks' argument instead.\n",
      "  _log_warning(\"'verbose' argument is deprecated and will be removed in a future release of LightGBM. \"\n"
     ]
    },
    {
     "name": "stdout",
     "output_type": "stream",
     "text": [
      "[20]\tvalid_0's l2: 613.001\tvalid_1's l2: 2543.16\n",
      "[40]\tvalid_0's l2: 614.637\tvalid_1's l2: 2482.12\n",
      "[60]\tvalid_0's l2: 634.516\tvalid_1's l2: 2429.93\n",
      "[80]\tvalid_0's l2: 594.185\tvalid_1's l2: 2384.64\n",
      "[100]\tvalid_0's l2: 590.893\tvalid_1's l2: 2347.91\n"
     ]
    },
    {
     "name": "stderr",
     "output_type": "stream",
     "text": [
      "/opt/conda/lib/python3.7/site-packages/lightgbm/sklearn.py:736: UserWarning: 'verbose' argument is deprecated and will be removed in a future release of LightGBM. Pass 'log_evaluation()' callback via 'callbacks' argument instead.\n",
      "  _log_warning(\"'verbose' argument is deprecated and will be removed in a future release of LightGBM. \"\n"
     ]
    },
    {
     "name": "stdout",
     "output_type": "stream",
     "text": [
      "[20]\tvalid_0's l2: 505.591\tvalid_1's l2: 2571.38\n",
      "[40]\tvalid_0's l2: 525.886\tvalid_1's l2: 2497.67\n",
      "[60]\tvalid_0's l2: 500.322\tvalid_1's l2: 2450.62\n",
      "[80]\tvalid_0's l2: 473.753\tvalid_1's l2: 2406.59\n",
      "[100]\tvalid_0's l2: 477.458\tvalid_1's l2: 2370.88\n"
     ]
    },
    {
     "name": "stderr",
     "output_type": "stream",
     "text": [
      "/opt/conda/lib/python3.7/site-packages/lightgbm/sklearn.py:736: UserWarning: 'verbose' argument is deprecated and will be removed in a future release of LightGBM. Pass 'log_evaluation()' callback via 'callbacks' argument instead.\n",
      "  _log_warning(\"'verbose' argument is deprecated and will be removed in a future release of LightGBM. \"\n"
     ]
    },
    {
     "name": "stdout",
     "output_type": "stream",
     "text": [
      "[20]\tvalid_0's l2: 324.562\tvalid_1's l2: 2621.61\n",
      "[40]\tvalid_0's l2: 276.114\tvalid_1's l2: 2572.93\n",
      "[60]\tvalid_0's l2: 244.874\tvalid_1's l2: 2537.89\n",
      "[80]\tvalid_0's l2: 217.324\tvalid_1's l2: 2513.34\n",
      "[100]\tvalid_0's l2: 220.719\tvalid_1's l2: 2494.36\n"
     ]
    },
    {
     "name": "stderr",
     "output_type": "stream",
     "text": [
      "/opt/conda/lib/python3.7/site-packages/lightgbm/sklearn.py:736: UserWarning: 'verbose' argument is deprecated and will be removed in a future release of LightGBM. Pass 'log_evaluation()' callback via 'callbacks' argument instead.\n",
      "  _log_warning(\"'verbose' argument is deprecated and will be removed in a future release of LightGBM. \"\n"
     ]
    },
    {
     "name": "stdout",
     "output_type": "stream",
     "text": [
      "[20]\tvalid_0's l2: 476.488\tvalid_1's l2: 2595.74\n",
      "[40]\tvalid_0's l2: 417.788\tvalid_1's l2: 2549.09\n",
      "[60]\tvalid_0's l2: 369.994\tvalid_1's l2: 2499.37\n",
      "[80]\tvalid_0's l2: 297.171\tvalid_1's l2: 2458.95\n",
      "[100]\tvalid_0's l2: 284.731\tvalid_1's l2: 2422.26\n"
     ]
    },
    {
     "name": "stderr",
     "output_type": "stream",
     "text": [
      "/opt/conda/lib/python3.7/site-packages/lightgbm/sklearn.py:736: UserWarning: 'verbose' argument is deprecated and will be removed in a future release of LightGBM. Pass 'log_evaluation()' callback via 'callbacks' argument instead.\n",
      "  _log_warning(\"'verbose' argument is deprecated and will be removed in a future release of LightGBM. \"\n"
     ]
    },
    {
     "name": "stdout",
     "output_type": "stream",
     "text": [
      "[20]\tvalid_0's l2: 611.33\tvalid_1's l2: 2556.13\n",
      "[40]\tvalid_0's l2: 585.789\tvalid_1's l2: 2479.22\n",
      "[60]\tvalid_0's l2: 565.698\tvalid_1's l2: 2430.79\n",
      "[80]\tvalid_0's l2: 618.294\tvalid_1's l2: 2393.74\n",
      "[100]\tvalid_0's l2: 579.551\tvalid_1's l2: 2353.75\n"
     ]
    },
    {
     "name": "stderr",
     "output_type": "stream",
     "text": [
      "/opt/conda/lib/python3.7/site-packages/lightgbm/sklearn.py:736: UserWarning: 'verbose' argument is deprecated and will be removed in a future release of LightGBM. Pass 'log_evaluation()' callback via 'callbacks' argument instead.\n",
      "  _log_warning(\"'verbose' argument is deprecated and will be removed in a future release of LightGBM. \"\n"
     ]
    },
    {
     "name": "stdout",
     "output_type": "stream",
     "text": [
      "[20]\tvalid_0's l2: 611.397\tvalid_1's l2: 2543.51\n",
      "[40]\tvalid_0's l2: 616.051\tvalid_1's l2: 2482.41\n",
      "[60]\tvalid_0's l2: 634.756\tvalid_1's l2: 2430.42\n",
      "[80]\tvalid_0's l2: 621.57\tvalid_1's l2: 2384.29\n",
      "[100]\tvalid_0's l2: 574.514\tvalid_1's l2: 2348.82\n"
     ]
    },
    {
     "name": "stderr",
     "output_type": "stream",
     "text": [
      "/opt/conda/lib/python3.7/site-packages/lightgbm/sklearn.py:736: UserWarning: 'verbose' argument is deprecated and will be removed in a future release of LightGBM. Pass 'log_evaluation()' callback via 'callbacks' argument instead.\n",
      "  _log_warning(\"'verbose' argument is deprecated and will be removed in a future release of LightGBM. \"\n"
     ]
    },
    {
     "name": "stdout",
     "output_type": "stream",
     "text": [
      "[20]\tvalid_0's l2: 504.463\tvalid_1's l2: 2571.69\n",
      "[40]\tvalid_0's l2: 508.091\tvalid_1's l2: 2501.34\n",
      "[60]\tvalid_0's l2: 525.982\tvalid_1's l2: 2451.6\n",
      "[80]\tvalid_0's l2: 481.641\tvalid_1's l2: 2403.08\n",
      "[100]\tvalid_0's l2: 457.524\tvalid_1's l2: 2368.25\n"
     ]
    },
    {
     "name": "stderr",
     "output_type": "stream",
     "text": [
      "/opt/conda/lib/python3.7/site-packages/lightgbm/sklearn.py:736: UserWarning: 'verbose' argument is deprecated and will be removed in a future release of LightGBM. Pass 'log_evaluation()' callback via 'callbacks' argument instead.\n",
      "  _log_warning(\"'verbose' argument is deprecated and will be removed in a future release of LightGBM. \"\n"
     ]
    },
    {
     "name": "stdout",
     "output_type": "stream",
     "text": [
      "[20]\tvalid_0's l2: 321.322\tvalid_1's l2: 2623.12\n",
      "[40]\tvalid_0's l2: 286.201\tvalid_1's l2: 2575.15\n",
      "[60]\tvalid_0's l2: 242.742\tvalid_1's l2: 2541.01\n",
      "[80]\tvalid_0's l2: 228.823\tvalid_1's l2: 2517.49\n",
      "[100]\tvalid_0's l2: 226.401\tvalid_1's l2: 2498.11\n"
     ]
    },
    {
     "name": "stderr",
     "output_type": "stream",
     "text": [
      "/opt/conda/lib/python3.7/site-packages/lightgbm/sklearn.py:736: UserWarning: 'verbose' argument is deprecated and will be removed in a future release of LightGBM. Pass 'log_evaluation()' callback via 'callbacks' argument instead.\n",
      "  _log_warning(\"'verbose' argument is deprecated and will be removed in a future release of LightGBM. \"\n"
     ]
    },
    {
     "name": "stdout",
     "output_type": "stream",
     "text": [
      "[20]\tvalid_0's l2: 476.488\tvalid_1's l2: 2595.74\n",
      "[40]\tvalid_0's l2: 417.788\tvalid_1's l2: 2549.09\n",
      "[60]\tvalid_0's l2: 369.994\tvalid_1's l2: 2499.37\n",
      "[80]\tvalid_0's l2: 297.171\tvalid_1's l2: 2458.95\n",
      "[100]\tvalid_0's l2: 284.731\tvalid_1's l2: 2422.26\n"
     ]
    },
    {
     "name": "stderr",
     "output_type": "stream",
     "text": [
      "/opt/conda/lib/python3.7/site-packages/lightgbm/sklearn.py:736: UserWarning: 'verbose' argument is deprecated and will be removed in a future release of LightGBM. Pass 'log_evaluation()' callback via 'callbacks' argument instead.\n",
      "  _log_warning(\"'verbose' argument is deprecated and will be removed in a future release of LightGBM. \"\n"
     ]
    },
    {
     "name": "stdout",
     "output_type": "stream",
     "text": [
      "[20]\tvalid_0's l2: 611.33\tvalid_1's l2: 2556.13\n",
      "[40]\tvalid_0's l2: 585.789\tvalid_1's l2: 2479.22\n",
      "[60]\tvalid_0's l2: 565.698\tvalid_1's l2: 2430.79\n",
      "[80]\tvalid_0's l2: 618.294\tvalid_1's l2: 2393.74\n",
      "[100]\tvalid_0's l2: 579.551\tvalid_1's l2: 2353.75\n"
     ]
    },
    {
     "name": "stderr",
     "output_type": "stream",
     "text": [
      "/opt/conda/lib/python3.7/site-packages/lightgbm/sklearn.py:736: UserWarning: 'verbose' argument is deprecated and will be removed in a future release of LightGBM. Pass 'log_evaluation()' callback via 'callbacks' argument instead.\n",
      "  _log_warning(\"'verbose' argument is deprecated and will be removed in a future release of LightGBM. \"\n"
     ]
    },
    {
     "name": "stdout",
     "output_type": "stream",
     "text": [
      "[20]\tvalid_0's l2: 611.397\tvalid_1's l2: 2543.51\n",
      "[40]\tvalid_0's l2: 616.051\tvalid_1's l2: 2482.41\n",
      "[60]\tvalid_0's l2: 634.756\tvalid_1's l2: 2430.42\n",
      "[80]\tvalid_0's l2: 621.57\tvalid_1's l2: 2384.29\n",
      "[100]\tvalid_0's l2: 574.514\tvalid_1's l2: 2348.82\n"
     ]
    },
    {
     "name": "stderr",
     "output_type": "stream",
     "text": [
      "/opt/conda/lib/python3.7/site-packages/lightgbm/sklearn.py:736: UserWarning: 'verbose' argument is deprecated and will be removed in a future release of LightGBM. Pass 'log_evaluation()' callback via 'callbacks' argument instead.\n",
      "  _log_warning(\"'verbose' argument is deprecated and will be removed in a future release of LightGBM. \"\n"
     ]
    },
    {
     "name": "stdout",
     "output_type": "stream",
     "text": [
      "[20]\tvalid_0's l2: 504.463\tvalid_1's l2: 2571.69\n",
      "[40]\tvalid_0's l2: 508.091\tvalid_1's l2: 2501.34\n",
      "[60]\tvalid_0's l2: 525.982\tvalid_1's l2: 2451.6\n",
      "[80]\tvalid_0's l2: 481.641\tvalid_1's l2: 2403.08\n",
      "[100]\tvalid_0's l2: 457.524\tvalid_1's l2: 2368.25\n"
     ]
    },
    {
     "name": "stderr",
     "output_type": "stream",
     "text": [
      "/opt/conda/lib/python3.7/site-packages/lightgbm/sklearn.py:736: UserWarning: 'verbose' argument is deprecated and will be removed in a future release of LightGBM. Pass 'log_evaluation()' callback via 'callbacks' argument instead.\n",
      "  _log_warning(\"'verbose' argument is deprecated and will be removed in a future release of LightGBM. \"\n"
     ]
    },
    {
     "name": "stdout",
     "output_type": "stream",
     "text": [
      "[20]\tvalid_0's l2: 321.322\tvalid_1's l2: 2623.12\n",
      "[40]\tvalid_0's l2: 286.201\tvalid_1's l2: 2575.15\n",
      "[60]\tvalid_0's l2: 242.742\tvalid_1's l2: 2541.01\n",
      "[80]\tvalid_0's l2: 228.823\tvalid_1's l2: 2517.49\n",
      "[100]\tvalid_0's l2: 226.401\tvalid_1's l2: 2498.11\n"
     ]
    },
    {
     "name": "stderr",
     "output_type": "stream",
     "text": [
      "/opt/conda/lib/python3.7/site-packages/lightgbm/sklearn.py:736: UserWarning: 'verbose' argument is deprecated and will be removed in a future release of LightGBM. Pass 'log_evaluation()' callback via 'callbacks' argument instead.\n",
      "  _log_warning(\"'verbose' argument is deprecated and will be removed in a future release of LightGBM. \"\n"
     ]
    },
    {
     "name": "stdout",
     "output_type": "stream",
     "text": [
      "[20]\tvalid_0's l2: 478.5\tvalid_1's l2: 2595.5\n",
      "[40]\tvalid_0's l2: 419.079\tvalid_1's l2: 2548.76\n",
      "[60]\tvalid_0's l2: 351.736\tvalid_1's l2: 2496.96\n",
      "[80]\tvalid_0's l2: 316.592\tvalid_1's l2: 2458.11\n",
      "[100]\tvalid_0's l2: 291.114\tvalid_1's l2: 2417.08\n"
     ]
    },
    {
     "name": "stderr",
     "output_type": "stream",
     "text": [
      "/opt/conda/lib/python3.7/site-packages/lightgbm/sklearn.py:736: UserWarning: 'verbose' argument is deprecated and will be removed in a future release of LightGBM. Pass 'log_evaluation()' callback via 'callbacks' argument instead.\n",
      "  _log_warning(\"'verbose' argument is deprecated and will be removed in a future release of LightGBM. \"\n"
     ]
    },
    {
     "name": "stdout",
     "output_type": "stream",
     "text": [
      "[20]\tvalid_0's l2: 602.561\tvalid_1's l2: 2555.21\n",
      "[40]\tvalid_0's l2: 583.109\tvalid_1's l2: 2476.98\n",
      "[60]\tvalid_0's l2: 555.331\tvalid_1's l2: 2427.41\n",
      "[80]\tvalid_0's l2: 578.69\tvalid_1's l2: 2382.6\n",
      "[100]\tvalid_0's l2: 577.616\tvalid_1's l2: 2345.88\n"
     ]
    },
    {
     "name": "stderr",
     "output_type": "stream",
     "text": [
      "/opt/conda/lib/python3.7/site-packages/lightgbm/sklearn.py:736: UserWarning: 'verbose' argument is deprecated and will be removed in a future release of LightGBM. Pass 'log_evaluation()' callback via 'callbacks' argument instead.\n",
      "  _log_warning(\"'verbose' argument is deprecated and will be removed in a future release of LightGBM. \"\n"
     ]
    },
    {
     "name": "stdout",
     "output_type": "stream",
     "text": [
      "[20]\tvalid_0's l2: 613.099\tvalid_1's l2: 2543.12\n",
      "[40]\tvalid_0's l2: 614.703\tvalid_1's l2: 2482.06\n",
      "[60]\tvalid_0's l2: 634.587\tvalid_1's l2: 2429.85\n",
      "[80]\tvalid_0's l2: 594.227\tvalid_1's l2: 2384.54\n",
      "[100]\tvalid_0's l2: 590.934\tvalid_1's l2: 2347.79\n"
     ]
    },
    {
     "name": "stderr",
     "output_type": "stream",
     "text": [
      "/opt/conda/lib/python3.7/site-packages/lightgbm/sklearn.py:736: UserWarning: 'verbose' argument is deprecated and will be removed in a future release of LightGBM. Pass 'log_evaluation()' callback via 'callbacks' argument instead.\n",
      "  _log_warning(\"'verbose' argument is deprecated and will be removed in a future release of LightGBM. \"\n"
     ]
    },
    {
     "name": "stdout",
     "output_type": "stream",
     "text": [
      "[20]\tvalid_0's l2: 505.68\tvalid_1's l2: 2571.35\n",
      "[40]\tvalid_0's l2: 525.954\tvalid_1's l2: 2497.61\n",
      "[60]\tvalid_0's l2: 500.337\tvalid_1's l2: 2450.53\n",
      "[80]\tvalid_0's l2: 476.852\tvalid_1's l2: 2406.17\n",
      "[100]\tvalid_0's l2: 469.783\tvalid_1's l2: 2369.59\n"
     ]
    },
    {
     "name": "stderr",
     "output_type": "stream",
     "text": [
      "/opt/conda/lib/python3.7/site-packages/lightgbm/sklearn.py:736: UserWarning: 'verbose' argument is deprecated and will be removed in a future release of LightGBM. Pass 'log_evaluation()' callback via 'callbacks' argument instead.\n",
      "  _log_warning(\"'verbose' argument is deprecated and will be removed in a future release of LightGBM. \"\n"
     ]
    },
    {
     "name": "stdout",
     "output_type": "stream",
     "text": [
      "[20]\tvalid_0's l2: 321.362\tvalid_1's l2: 2624.75\n",
      "[40]\tvalid_0's l2: 284.722\tvalid_1's l2: 2573.42\n",
      "[60]\tvalid_0's l2: 242.765\tvalid_1's l2: 2539.88\n",
      "[80]\tvalid_0's l2: 238.101\tvalid_1's l2: 2513.81\n",
      "[100]\tvalid_0's l2: 230.585\tvalid_1's l2: 2499.11\n"
     ]
    },
    {
     "name": "stderr",
     "output_type": "stream",
     "text": [
      "/opt/conda/lib/python3.7/site-packages/lightgbm/sklearn.py:736: UserWarning: 'verbose' argument is deprecated and will be removed in a future release of LightGBM. Pass 'log_evaluation()' callback via 'callbacks' argument instead.\n",
      "  _log_warning(\"'verbose' argument is deprecated and will be removed in a future release of LightGBM. \"\n"
     ]
    },
    {
     "name": "stdout",
     "output_type": "stream",
     "text": [
      "[20]\tvalid_0's l2: 478.5\tvalid_1's l2: 2595.5\n",
      "[40]\tvalid_0's l2: 419.079\tvalid_1's l2: 2548.76\n",
      "[60]\tvalid_0's l2: 351.736\tvalid_1's l2: 2496.96\n",
      "[80]\tvalid_0's l2: 316.592\tvalid_1's l2: 2458.11\n",
      "[100]\tvalid_0's l2: 291.114\tvalid_1's l2: 2417.08\n"
     ]
    },
    {
     "name": "stderr",
     "output_type": "stream",
     "text": [
      "/opt/conda/lib/python3.7/site-packages/lightgbm/sklearn.py:736: UserWarning: 'verbose' argument is deprecated and will be removed in a future release of LightGBM. Pass 'log_evaluation()' callback via 'callbacks' argument instead.\n",
      "  _log_warning(\"'verbose' argument is deprecated and will be removed in a future release of LightGBM. \"\n"
     ]
    },
    {
     "name": "stdout",
     "output_type": "stream",
     "text": [
      "[20]\tvalid_0's l2: 602.561\tvalid_1's l2: 2555.21\n",
      "[40]\tvalid_0's l2: 583.109\tvalid_1's l2: 2476.98\n",
      "[60]\tvalid_0's l2: 555.331\tvalid_1's l2: 2427.41\n",
      "[80]\tvalid_0's l2: 578.69\tvalid_1's l2: 2382.6\n",
      "[100]\tvalid_0's l2: 577.616\tvalid_1's l2: 2345.88\n"
     ]
    },
    {
     "name": "stderr",
     "output_type": "stream",
     "text": [
      "/opt/conda/lib/python3.7/site-packages/lightgbm/sklearn.py:736: UserWarning: 'verbose' argument is deprecated and will be removed in a future release of LightGBM. Pass 'log_evaluation()' callback via 'callbacks' argument instead.\n",
      "  _log_warning(\"'verbose' argument is deprecated and will be removed in a future release of LightGBM. \"\n"
     ]
    },
    {
     "name": "stdout",
     "output_type": "stream",
     "text": [
      "[20]\tvalid_0's l2: 613.099\tvalid_1's l2: 2543.12\n",
      "[40]\tvalid_0's l2: 614.703\tvalid_1's l2: 2482.06\n",
      "[60]\tvalid_0's l2: 634.587\tvalid_1's l2: 2429.85\n",
      "[80]\tvalid_0's l2: 594.227\tvalid_1's l2: 2384.54\n",
      "[100]\tvalid_0's l2: 590.934\tvalid_1's l2: 2347.79\n"
     ]
    },
    {
     "name": "stderr",
     "output_type": "stream",
     "text": [
      "/opt/conda/lib/python3.7/site-packages/lightgbm/sklearn.py:736: UserWarning: 'verbose' argument is deprecated and will be removed in a future release of LightGBM. Pass 'log_evaluation()' callback via 'callbacks' argument instead.\n",
      "  _log_warning(\"'verbose' argument is deprecated and will be removed in a future release of LightGBM. \"\n"
     ]
    },
    {
     "name": "stdout",
     "output_type": "stream",
     "text": [
      "[20]\tvalid_0's l2: 505.68\tvalid_1's l2: 2571.35\n",
      "[40]\tvalid_0's l2: 525.954\tvalid_1's l2: 2497.61\n",
      "[60]\tvalid_0's l2: 500.337\tvalid_1's l2: 2450.53\n",
      "[80]\tvalid_0's l2: 476.852\tvalid_1's l2: 2406.17\n",
      "[100]\tvalid_0's l2: 469.783\tvalid_1's l2: 2369.59\n"
     ]
    },
    {
     "name": "stderr",
     "output_type": "stream",
     "text": [
      "/opt/conda/lib/python3.7/site-packages/lightgbm/sklearn.py:736: UserWarning: 'verbose' argument is deprecated and will be removed in a future release of LightGBM. Pass 'log_evaluation()' callback via 'callbacks' argument instead.\n",
      "  _log_warning(\"'verbose' argument is deprecated and will be removed in a future release of LightGBM. \"\n"
     ]
    },
    {
     "name": "stdout",
     "output_type": "stream",
     "text": [
      "[20]\tvalid_0's l2: 321.362\tvalid_1's l2: 2624.75\n",
      "[40]\tvalid_0's l2: 284.722\tvalid_1's l2: 2573.42\n",
      "[60]\tvalid_0's l2: 242.765\tvalid_1's l2: 2539.88\n",
      "[80]\tvalid_0's l2: 238.101\tvalid_1's l2: 2513.81\n",
      "[100]\tvalid_0's l2: 230.585\tvalid_1's l2: 2499.11\n"
     ]
    },
    {
     "name": "stderr",
     "output_type": "stream",
     "text": [
      "/opt/conda/lib/python3.7/site-packages/lightgbm/sklearn.py:736: UserWarning: 'verbose' argument is deprecated and will be removed in a future release of LightGBM. Pass 'log_evaluation()' callback via 'callbacks' argument instead.\n",
      "  _log_warning(\"'verbose' argument is deprecated and will be removed in a future release of LightGBM. \"\n"
     ]
    },
    {
     "name": "stdout",
     "output_type": "stream",
     "text": [
      "[20]\tvalid_0's l2: 476.605\tvalid_1's l2: 2595.71\n",
      "[40]\tvalid_0's l2: 418.14\tvalid_1's l2: 2549\n",
      "[60]\tvalid_0's l2: 364.143\tvalid_1's l2: 2495.49\n",
      "[80]\tvalid_0's l2: 305.089\tvalid_1's l2: 2455.76\n",
      "[100]\tvalid_0's l2: 297.115\tvalid_1's l2: 2416.8\n"
     ]
    },
    {
     "name": "stderr",
     "output_type": "stream",
     "text": [
      "/opt/conda/lib/python3.7/site-packages/lightgbm/sklearn.py:736: UserWarning: 'verbose' argument is deprecated and will be removed in a future release of LightGBM. Pass 'log_evaluation()' callback via 'callbacks' argument instead.\n",
      "  _log_warning(\"'verbose' argument is deprecated and will be removed in a future release of LightGBM. \"\n"
     ]
    },
    {
     "name": "stdout",
     "output_type": "stream",
     "text": [
      "[20]\tvalid_0's l2: 611.441\tvalid_1's l2: 2556.09\n",
      "[40]\tvalid_0's l2: 585.861\tvalid_1's l2: 2479.16\n",
      "[60]\tvalid_0's l2: 565.724\tvalid_1's l2: 2430.71\n",
      "[80]\tvalid_0's l2: 600.86\tvalid_1's l2: 2393.66\n",
      "[100]\tvalid_0's l2: 591.345\tvalid_1's l2: 2356.44\n"
     ]
    },
    {
     "name": "stderr",
     "output_type": "stream",
     "text": [
      "/opt/conda/lib/python3.7/site-packages/lightgbm/sklearn.py:736: UserWarning: 'verbose' argument is deprecated and will be removed in a future release of LightGBM. Pass 'log_evaluation()' callback via 'callbacks' argument instead.\n",
      "  _log_warning(\"'verbose' argument is deprecated and will be removed in a future release of LightGBM. \"\n"
     ]
    },
    {
     "name": "stdout",
     "output_type": "stream",
     "text": [
      "[20]\tvalid_0's l2: 611.497\tvalid_1's l2: 2543.47\n",
      "[40]\tvalid_0's l2: 616.127\tvalid_1's l2: 2482.34\n",
      "[60]\tvalid_0's l2: 634.833\tvalid_1's l2: 2430.33\n",
      "[80]\tvalid_0's l2: 621.64\tvalid_1's l2: 2384.18\n",
      "[100]\tvalid_0's l2: 591.254\tvalid_1's l2: 2349.73\n"
     ]
    },
    {
     "name": "stderr",
     "output_type": "stream",
     "text": [
      "/opt/conda/lib/python3.7/site-packages/lightgbm/sklearn.py:736: UserWarning: 'verbose' argument is deprecated and will be removed in a future release of LightGBM. Pass 'log_evaluation()' callback via 'callbacks' argument instead.\n",
      "  _log_warning(\"'verbose' argument is deprecated and will be removed in a future release of LightGBM. \"\n"
     ]
    },
    {
     "name": "stdout",
     "output_type": "stream",
     "text": [
      "[20]\tvalid_0's l2: 504.552\tvalid_1's l2: 2571.65\n",
      "[40]\tvalid_0's l2: 508.165\tvalid_1's l2: 2501.28\n",
      "[60]\tvalid_0's l2: 526.029\tvalid_1's l2: 2451.51\n",
      "[80]\tvalid_0's l2: 481.644\tvalid_1's l2: 2402.97\n",
      "[100]\tvalid_0's l2: 457.501\tvalid_1's l2: 2368.12\n"
     ]
    },
    {
     "name": "stderr",
     "output_type": "stream",
     "text": [
      "/opt/conda/lib/python3.7/site-packages/lightgbm/sklearn.py:736: UserWarning: 'verbose' argument is deprecated and will be removed in a future release of LightGBM. Pass 'log_evaluation()' callback via 'callbacks' argument instead.\n",
      "  _log_warning(\"'verbose' argument is deprecated and will be removed in a future release of LightGBM. \"\n"
     ]
    },
    {
     "name": "stdout",
     "output_type": "stream",
     "text": [
      "[20]\tvalid_0's l2: 320.497\tvalid_1's l2: 2623.89\n",
      "[40]\tvalid_0's l2: 281.874\tvalid_1's l2: 2574.62\n",
      "[60]\tvalid_0's l2: 249.419\tvalid_1's l2: 2540.11\n",
      "[80]\tvalid_0's l2: 219.698\tvalid_1's l2: 2514.36\n",
      "[100]\tvalid_0's l2: 230.392\tvalid_1's l2: 2498.01\n"
     ]
    },
    {
     "name": "stderr",
     "output_type": "stream",
     "text": [
      "/opt/conda/lib/python3.7/site-packages/lightgbm/sklearn.py:736: UserWarning: 'verbose' argument is deprecated and will be removed in a future release of LightGBM. Pass 'log_evaluation()' callback via 'callbacks' argument instead.\n",
      "  _log_warning(\"'verbose' argument is deprecated and will be removed in a future release of LightGBM. \"\n"
     ]
    },
    {
     "name": "stdout",
     "output_type": "stream",
     "text": [
      "[20]\tvalid_0's l2: 476.605\tvalid_1's l2: 2595.71\n",
      "[40]\tvalid_0's l2: 418.14\tvalid_1's l2: 2549\n",
      "[60]\tvalid_0's l2: 364.143\tvalid_1's l2: 2495.49\n",
      "[80]\tvalid_0's l2: 305.089\tvalid_1's l2: 2455.76\n",
      "[100]\tvalid_0's l2: 297.115\tvalid_1's l2: 2416.8\n"
     ]
    },
    {
     "name": "stderr",
     "output_type": "stream",
     "text": [
      "/opt/conda/lib/python3.7/site-packages/lightgbm/sklearn.py:736: UserWarning: 'verbose' argument is deprecated and will be removed in a future release of LightGBM. Pass 'log_evaluation()' callback via 'callbacks' argument instead.\n",
      "  _log_warning(\"'verbose' argument is deprecated and will be removed in a future release of LightGBM. \"\n"
     ]
    },
    {
     "name": "stdout",
     "output_type": "stream",
     "text": [
      "[20]\tvalid_0's l2: 611.441\tvalid_1's l2: 2556.09\n",
      "[40]\tvalid_0's l2: 585.861\tvalid_1's l2: 2479.16\n",
      "[60]\tvalid_0's l2: 565.724\tvalid_1's l2: 2430.71\n",
      "[80]\tvalid_0's l2: 600.86\tvalid_1's l2: 2393.66\n",
      "[100]\tvalid_0's l2: 591.345\tvalid_1's l2: 2356.44\n"
     ]
    },
    {
     "name": "stderr",
     "output_type": "stream",
     "text": [
      "/opt/conda/lib/python3.7/site-packages/lightgbm/sklearn.py:736: UserWarning: 'verbose' argument is deprecated and will be removed in a future release of LightGBM. Pass 'log_evaluation()' callback via 'callbacks' argument instead.\n",
      "  _log_warning(\"'verbose' argument is deprecated and will be removed in a future release of LightGBM. \"\n"
     ]
    },
    {
     "name": "stdout",
     "output_type": "stream",
     "text": [
      "[20]\tvalid_0's l2: 611.497\tvalid_1's l2: 2543.47\n",
      "[40]\tvalid_0's l2: 616.127\tvalid_1's l2: 2482.34\n",
      "[60]\tvalid_0's l2: 634.833\tvalid_1's l2: 2430.33\n",
      "[80]\tvalid_0's l2: 621.64\tvalid_1's l2: 2384.18\n",
      "[100]\tvalid_0's l2: 591.254\tvalid_1's l2: 2349.73\n"
     ]
    },
    {
     "name": "stderr",
     "output_type": "stream",
     "text": [
      "/opt/conda/lib/python3.7/site-packages/lightgbm/sklearn.py:736: UserWarning: 'verbose' argument is deprecated and will be removed in a future release of LightGBM. Pass 'log_evaluation()' callback via 'callbacks' argument instead.\n",
      "  _log_warning(\"'verbose' argument is deprecated and will be removed in a future release of LightGBM. \"\n"
     ]
    },
    {
     "name": "stdout",
     "output_type": "stream",
     "text": [
      "[20]\tvalid_0's l2: 504.552\tvalid_1's l2: 2571.65\n",
      "[40]\tvalid_0's l2: 508.165\tvalid_1's l2: 2501.28\n",
      "[60]\tvalid_0's l2: 526.029\tvalid_1's l2: 2451.51\n",
      "[80]\tvalid_0's l2: 481.644\tvalid_1's l2: 2402.97\n",
      "[100]\tvalid_0's l2: 457.501\tvalid_1's l2: 2368.12\n"
     ]
    },
    {
     "name": "stderr",
     "output_type": "stream",
     "text": [
      "/opt/conda/lib/python3.7/site-packages/lightgbm/sklearn.py:736: UserWarning: 'verbose' argument is deprecated and will be removed in a future release of LightGBM. Pass 'log_evaluation()' callback via 'callbacks' argument instead.\n",
      "  _log_warning(\"'verbose' argument is deprecated and will be removed in a future release of LightGBM. \"\n"
     ]
    },
    {
     "name": "stdout",
     "output_type": "stream",
     "text": [
      "[20]\tvalid_0's l2: 320.497\tvalid_1's l2: 2623.89\n",
      "[40]\tvalid_0's l2: 281.874\tvalid_1's l2: 2574.62\n",
      "[60]\tvalid_0's l2: 249.419\tvalid_1's l2: 2540.11\n",
      "[80]\tvalid_0's l2: 219.698\tvalid_1's l2: 2514.36\n",
      "[100]\tvalid_0's l2: 230.392\tvalid_1's l2: 2498.01\n"
     ]
    },
    {
     "name": "stderr",
     "output_type": "stream",
     "text": [
      "/opt/conda/lib/python3.7/site-packages/lightgbm/sklearn.py:736: UserWarning: 'verbose' argument is deprecated and will be removed in a future release of LightGBM. Pass 'log_evaluation()' callback via 'callbacks' argument instead.\n",
      "  _log_warning(\"'verbose' argument is deprecated and will be removed in a future release of LightGBM. \"\n"
     ]
    },
    {
     "name": "stdout",
     "output_type": "stream",
     "text": [
      "[20]\tvalid_0's l2: 478.383\tvalid_1's l2: 2595.53\n",
      "[40]\tvalid_0's l2: 419.055\tvalid_1's l2: 2548.81\n",
      "[60]\tvalid_0's l2: 351.815\tvalid_1's l2: 2497.04\n",
      "[80]\tvalid_0's l2: 316.688\tvalid_1's l2: 2458.21\n",
      "[100]\tvalid_0's l2: 291.253\tvalid_1's l2: 2417.2\n"
     ]
    },
    {
     "name": "stderr",
     "output_type": "stream",
     "text": [
      "/opt/conda/lib/python3.7/site-packages/lightgbm/sklearn.py:736: UserWarning: 'verbose' argument is deprecated and will be removed in a future release of LightGBM. Pass 'log_evaluation()' callback via 'callbacks' argument instead.\n",
      "  _log_warning(\"'verbose' argument is deprecated and will be removed in a future release of LightGBM. \"\n"
     ]
    },
    {
     "name": "stdout",
     "output_type": "stream",
     "text": [
      "[20]\tvalid_0's l2: 602.462\tvalid_1's l2: 2555.24\n",
      "[40]\tvalid_0's l2: 583.046\tvalid_1's l2: 2477.04\n",
      "[60]\tvalid_0's l2: 555.307\tvalid_1's l2: 2427.5\n",
      "[80]\tvalid_0's l2: 578.605\tvalid_1's l2: 2382.7\n",
      "[100]\tvalid_0's l2: 577.516\tvalid_1's l2: 2346.01\n"
     ]
    },
    {
     "name": "stderr",
     "output_type": "stream",
     "text": [
      "/opt/conda/lib/python3.7/site-packages/lightgbm/sklearn.py:736: UserWarning: 'verbose' argument is deprecated and will be removed in a future release of LightGBM. Pass 'log_evaluation()' callback via 'callbacks' argument instead.\n",
      "  _log_warning(\"'verbose' argument is deprecated and will be removed in a future release of LightGBM. \"\n"
     ]
    },
    {
     "name": "stdout",
     "output_type": "stream",
     "text": [
      "[20]\tvalid_0's l2: 613.001\tvalid_1's l2: 2543.16\n",
      "[40]\tvalid_0's l2: 614.637\tvalid_1's l2: 2482.12\n",
      "[60]\tvalid_0's l2: 634.516\tvalid_1's l2: 2429.93\n",
      "[80]\tvalid_0's l2: 594.185\tvalid_1's l2: 2384.64\n",
      "[100]\tvalid_0's l2: 590.893\tvalid_1's l2: 2347.91\n"
     ]
    },
    {
     "name": "stderr",
     "output_type": "stream",
     "text": [
      "/opt/conda/lib/python3.7/site-packages/lightgbm/sklearn.py:736: UserWarning: 'verbose' argument is deprecated and will be removed in a future release of LightGBM. Pass 'log_evaluation()' callback via 'callbacks' argument instead.\n",
      "  _log_warning(\"'verbose' argument is deprecated and will be removed in a future release of LightGBM. \"\n"
     ]
    },
    {
     "name": "stdout",
     "output_type": "stream",
     "text": [
      "[20]\tvalid_0's l2: 505.591\tvalid_1's l2: 2571.38\n",
      "[40]\tvalid_0's l2: 525.886\tvalid_1's l2: 2497.67\n",
      "[60]\tvalid_0's l2: 500.322\tvalid_1's l2: 2450.62\n",
      "[80]\tvalid_0's l2: 473.753\tvalid_1's l2: 2406.59\n",
      "[100]\tvalid_0's l2: 477.458\tvalid_1's l2: 2370.88\n"
     ]
    },
    {
     "name": "stderr",
     "output_type": "stream",
     "text": [
      "/opt/conda/lib/python3.7/site-packages/lightgbm/sklearn.py:736: UserWarning: 'verbose' argument is deprecated and will be removed in a future release of LightGBM. Pass 'log_evaluation()' callback via 'callbacks' argument instead.\n",
      "  _log_warning(\"'verbose' argument is deprecated and will be removed in a future release of LightGBM. \"\n"
     ]
    },
    {
     "name": "stdout",
     "output_type": "stream",
     "text": [
      "[20]\tvalid_0's l2: 324.562\tvalid_1's l2: 2621.61\n",
      "[40]\tvalid_0's l2: 276.114\tvalid_1's l2: 2572.93\n",
      "[60]\tvalid_0's l2: 244.874\tvalid_1's l2: 2537.89\n",
      "[80]\tvalid_0's l2: 217.324\tvalid_1's l2: 2513.34\n",
      "[100]\tvalid_0's l2: 220.719\tvalid_1's l2: 2494.36\n"
     ]
    },
    {
     "name": "stderr",
     "output_type": "stream",
     "text": [
      "/opt/conda/lib/python3.7/site-packages/lightgbm/sklearn.py:736: UserWarning: 'verbose' argument is deprecated and will be removed in a future release of LightGBM. Pass 'log_evaluation()' callback via 'callbacks' argument instead.\n",
      "  _log_warning(\"'verbose' argument is deprecated and will be removed in a future release of LightGBM. \"\n"
     ]
    },
    {
     "name": "stdout",
     "output_type": "stream",
     "text": [
      "[20]\tvalid_0's l2: 478.383\tvalid_1's l2: 2595.53\n",
      "[40]\tvalid_0's l2: 419.055\tvalid_1's l2: 2548.81\n",
      "[60]\tvalid_0's l2: 351.815\tvalid_1's l2: 2497.04\n",
      "[80]\tvalid_0's l2: 316.688\tvalid_1's l2: 2458.21\n",
      "[100]\tvalid_0's l2: 291.253\tvalid_1's l2: 2417.2\n"
     ]
    },
    {
     "name": "stderr",
     "output_type": "stream",
     "text": [
      "/opt/conda/lib/python3.7/site-packages/lightgbm/sklearn.py:736: UserWarning: 'verbose' argument is deprecated and will be removed in a future release of LightGBM. Pass 'log_evaluation()' callback via 'callbacks' argument instead.\n",
      "  _log_warning(\"'verbose' argument is deprecated and will be removed in a future release of LightGBM. \"\n"
     ]
    },
    {
     "name": "stdout",
     "output_type": "stream",
     "text": [
      "[20]\tvalid_0's l2: 602.462\tvalid_1's l2: 2555.24\n",
      "[40]\tvalid_0's l2: 583.046\tvalid_1's l2: 2477.04\n",
      "[60]\tvalid_0's l2: 555.307\tvalid_1's l2: 2427.5\n",
      "[80]\tvalid_0's l2: 578.605\tvalid_1's l2: 2382.7\n",
      "[100]\tvalid_0's l2: 577.516\tvalid_1's l2: 2346.01\n"
     ]
    },
    {
     "name": "stderr",
     "output_type": "stream",
     "text": [
      "/opt/conda/lib/python3.7/site-packages/lightgbm/sklearn.py:736: UserWarning: 'verbose' argument is deprecated and will be removed in a future release of LightGBM. Pass 'log_evaluation()' callback via 'callbacks' argument instead.\n",
      "  _log_warning(\"'verbose' argument is deprecated and will be removed in a future release of LightGBM. \"\n"
     ]
    },
    {
     "name": "stdout",
     "output_type": "stream",
     "text": [
      "[20]\tvalid_0's l2: 613.001\tvalid_1's l2: 2543.16\n",
      "[40]\tvalid_0's l2: 614.637\tvalid_1's l2: 2482.12\n",
      "[60]\tvalid_0's l2: 634.516\tvalid_1's l2: 2429.93\n",
      "[80]\tvalid_0's l2: 594.185\tvalid_1's l2: 2384.64\n",
      "[100]\tvalid_0's l2: 590.893\tvalid_1's l2: 2347.91\n"
     ]
    },
    {
     "name": "stderr",
     "output_type": "stream",
     "text": [
      "/opt/conda/lib/python3.7/site-packages/lightgbm/sklearn.py:736: UserWarning: 'verbose' argument is deprecated and will be removed in a future release of LightGBM. Pass 'log_evaluation()' callback via 'callbacks' argument instead.\n",
      "  _log_warning(\"'verbose' argument is deprecated and will be removed in a future release of LightGBM. \"\n"
     ]
    },
    {
     "name": "stdout",
     "output_type": "stream",
     "text": [
      "[20]\tvalid_0's l2: 505.591\tvalid_1's l2: 2571.38\n",
      "[40]\tvalid_0's l2: 525.886\tvalid_1's l2: 2497.67\n",
      "[60]\tvalid_0's l2: 500.322\tvalid_1's l2: 2450.62\n",
      "[80]\tvalid_0's l2: 473.753\tvalid_1's l2: 2406.59\n",
      "[100]\tvalid_0's l2: 477.458\tvalid_1's l2: 2370.88\n"
     ]
    },
    {
     "name": "stderr",
     "output_type": "stream",
     "text": [
      "/opt/conda/lib/python3.7/site-packages/lightgbm/sklearn.py:736: UserWarning: 'verbose' argument is deprecated and will be removed in a future release of LightGBM. Pass 'log_evaluation()' callback via 'callbacks' argument instead.\n",
      "  _log_warning(\"'verbose' argument is deprecated and will be removed in a future release of LightGBM. \"\n"
     ]
    },
    {
     "name": "stdout",
     "output_type": "stream",
     "text": [
      "[20]\tvalid_0's l2: 324.562\tvalid_1's l2: 2621.61\n",
      "[40]\tvalid_0's l2: 276.114\tvalid_1's l2: 2572.93\n",
      "[60]\tvalid_0's l2: 244.874\tvalid_1's l2: 2537.89\n",
      "[80]\tvalid_0's l2: 217.324\tvalid_1's l2: 2513.34\n",
      "[100]\tvalid_0's l2: 220.719\tvalid_1's l2: 2494.36\n"
     ]
    },
    {
     "name": "stderr",
     "output_type": "stream",
     "text": [
      "/opt/conda/lib/python3.7/site-packages/lightgbm/sklearn.py:736: UserWarning: 'verbose' argument is deprecated and will be removed in a future release of LightGBM. Pass 'log_evaluation()' callback via 'callbacks' argument instead.\n",
      "  _log_warning(\"'verbose' argument is deprecated and will be removed in a future release of LightGBM. \"\n"
     ]
    },
    {
     "name": "stdout",
     "output_type": "stream",
     "text": [
      "[20]\tvalid_0's l2: 476.488\tvalid_1's l2: 2595.74\n",
      "[40]\tvalid_0's l2: 417.788\tvalid_1's l2: 2549.09\n",
      "[60]\tvalid_0's l2: 369.994\tvalid_1's l2: 2499.37\n",
      "[80]\tvalid_0's l2: 297.171\tvalid_1's l2: 2458.95\n",
      "[100]\tvalid_0's l2: 284.731\tvalid_1's l2: 2422.26\n"
     ]
    },
    {
     "name": "stderr",
     "output_type": "stream",
     "text": [
      "/opt/conda/lib/python3.7/site-packages/lightgbm/sklearn.py:736: UserWarning: 'verbose' argument is deprecated and will be removed in a future release of LightGBM. Pass 'log_evaluation()' callback via 'callbacks' argument instead.\n",
      "  _log_warning(\"'verbose' argument is deprecated and will be removed in a future release of LightGBM. \"\n"
     ]
    },
    {
     "name": "stdout",
     "output_type": "stream",
     "text": [
      "[20]\tvalid_0's l2: 611.33\tvalid_1's l2: 2556.13\n",
      "[40]\tvalid_0's l2: 585.789\tvalid_1's l2: 2479.22\n",
      "[60]\tvalid_0's l2: 565.698\tvalid_1's l2: 2430.79\n",
      "[80]\tvalid_0's l2: 618.294\tvalid_1's l2: 2393.74\n",
      "[100]\tvalid_0's l2: 579.551\tvalid_1's l2: 2353.75\n"
     ]
    },
    {
     "name": "stderr",
     "output_type": "stream",
     "text": [
      "/opt/conda/lib/python3.7/site-packages/lightgbm/sklearn.py:736: UserWarning: 'verbose' argument is deprecated and will be removed in a future release of LightGBM. Pass 'log_evaluation()' callback via 'callbacks' argument instead.\n",
      "  _log_warning(\"'verbose' argument is deprecated and will be removed in a future release of LightGBM. \"\n"
     ]
    },
    {
     "name": "stdout",
     "output_type": "stream",
     "text": [
      "[20]\tvalid_0's l2: 611.397\tvalid_1's l2: 2543.51\n",
      "[40]\tvalid_0's l2: 616.051\tvalid_1's l2: 2482.41\n",
      "[60]\tvalid_0's l2: 634.756\tvalid_1's l2: 2430.42\n",
      "[80]\tvalid_0's l2: 621.57\tvalid_1's l2: 2384.29\n",
      "[100]\tvalid_0's l2: 574.514\tvalid_1's l2: 2348.82\n"
     ]
    },
    {
     "name": "stderr",
     "output_type": "stream",
     "text": [
      "/opt/conda/lib/python3.7/site-packages/lightgbm/sklearn.py:736: UserWarning: 'verbose' argument is deprecated and will be removed in a future release of LightGBM. Pass 'log_evaluation()' callback via 'callbacks' argument instead.\n",
      "  _log_warning(\"'verbose' argument is deprecated and will be removed in a future release of LightGBM. \"\n"
     ]
    },
    {
     "name": "stdout",
     "output_type": "stream",
     "text": [
      "[20]\tvalid_0's l2: 504.463\tvalid_1's l2: 2571.69\n",
      "[40]\tvalid_0's l2: 508.091\tvalid_1's l2: 2501.34\n",
      "[60]\tvalid_0's l2: 525.982\tvalid_1's l2: 2451.6\n",
      "[80]\tvalid_0's l2: 481.641\tvalid_1's l2: 2403.08\n",
      "[100]\tvalid_0's l2: 457.524\tvalid_1's l2: 2368.25\n"
     ]
    },
    {
     "name": "stderr",
     "output_type": "stream",
     "text": [
      "/opt/conda/lib/python3.7/site-packages/lightgbm/sklearn.py:736: UserWarning: 'verbose' argument is deprecated and will be removed in a future release of LightGBM. Pass 'log_evaluation()' callback via 'callbacks' argument instead.\n",
      "  _log_warning(\"'verbose' argument is deprecated and will be removed in a future release of LightGBM. \"\n"
     ]
    },
    {
     "name": "stdout",
     "output_type": "stream",
     "text": [
      "[20]\tvalid_0's l2: 321.322\tvalid_1's l2: 2623.12\n",
      "[40]\tvalid_0's l2: 286.201\tvalid_1's l2: 2575.15\n",
      "[60]\tvalid_0's l2: 242.742\tvalid_1's l2: 2541.01\n",
      "[80]\tvalid_0's l2: 228.823\tvalid_1's l2: 2517.49\n",
      "[100]\tvalid_0's l2: 226.401\tvalid_1's l2: 2498.11\n"
     ]
    },
    {
     "name": "stderr",
     "output_type": "stream",
     "text": [
      "/opt/conda/lib/python3.7/site-packages/lightgbm/sklearn.py:736: UserWarning: 'verbose' argument is deprecated and will be removed in a future release of LightGBM. Pass 'log_evaluation()' callback via 'callbacks' argument instead.\n",
      "  _log_warning(\"'verbose' argument is deprecated and will be removed in a future release of LightGBM. \"\n"
     ]
    },
    {
     "name": "stdout",
     "output_type": "stream",
     "text": [
      "[20]\tvalid_0's l2: 476.488\tvalid_1's l2: 2595.74\n",
      "[40]\tvalid_0's l2: 417.788\tvalid_1's l2: 2549.09\n",
      "[60]\tvalid_0's l2: 369.994\tvalid_1's l2: 2499.37\n",
      "[80]\tvalid_0's l2: 297.171\tvalid_1's l2: 2458.95\n",
      "[100]\tvalid_0's l2: 284.731\tvalid_1's l2: 2422.26\n"
     ]
    },
    {
     "name": "stderr",
     "output_type": "stream",
     "text": [
      "/opt/conda/lib/python3.7/site-packages/lightgbm/sklearn.py:736: UserWarning: 'verbose' argument is deprecated and will be removed in a future release of LightGBM. Pass 'log_evaluation()' callback via 'callbacks' argument instead.\n",
      "  _log_warning(\"'verbose' argument is deprecated and will be removed in a future release of LightGBM. \"\n"
     ]
    },
    {
     "name": "stdout",
     "output_type": "stream",
     "text": [
      "[20]\tvalid_0's l2: 611.33\tvalid_1's l2: 2556.13\n",
      "[40]\tvalid_0's l2: 585.789\tvalid_1's l2: 2479.22\n",
      "[60]\tvalid_0's l2: 565.698\tvalid_1's l2: 2430.79\n",
      "[80]\tvalid_0's l2: 618.294\tvalid_1's l2: 2393.74\n",
      "[100]\tvalid_0's l2: 579.551\tvalid_1's l2: 2353.75\n"
     ]
    },
    {
     "name": "stderr",
     "output_type": "stream",
     "text": [
      "/opt/conda/lib/python3.7/site-packages/lightgbm/sklearn.py:736: UserWarning: 'verbose' argument is deprecated and will be removed in a future release of LightGBM. Pass 'log_evaluation()' callback via 'callbacks' argument instead.\n",
      "  _log_warning(\"'verbose' argument is deprecated and will be removed in a future release of LightGBM. \"\n"
     ]
    },
    {
     "name": "stdout",
     "output_type": "stream",
     "text": [
      "[20]\tvalid_0's l2: 611.397\tvalid_1's l2: 2543.51\n",
      "[40]\tvalid_0's l2: 616.051\tvalid_1's l2: 2482.41\n",
      "[60]\tvalid_0's l2: 634.756\tvalid_1's l2: 2430.42\n",
      "[80]\tvalid_0's l2: 621.57\tvalid_1's l2: 2384.29\n",
      "[100]\tvalid_0's l2: 574.514\tvalid_1's l2: 2348.82\n"
     ]
    },
    {
     "name": "stderr",
     "output_type": "stream",
     "text": [
      "/opt/conda/lib/python3.7/site-packages/lightgbm/sklearn.py:736: UserWarning: 'verbose' argument is deprecated and will be removed in a future release of LightGBM. Pass 'log_evaluation()' callback via 'callbacks' argument instead.\n",
      "  _log_warning(\"'verbose' argument is deprecated and will be removed in a future release of LightGBM. \"\n"
     ]
    },
    {
     "name": "stdout",
     "output_type": "stream",
     "text": [
      "[20]\tvalid_0's l2: 504.463\tvalid_1's l2: 2571.69\n",
      "[40]\tvalid_0's l2: 508.091\tvalid_1's l2: 2501.34\n",
      "[60]\tvalid_0's l2: 525.982\tvalid_1's l2: 2451.6\n",
      "[80]\tvalid_0's l2: 481.641\tvalid_1's l2: 2403.08\n",
      "[100]\tvalid_0's l2: 457.524\tvalid_1's l2: 2368.25\n"
     ]
    },
    {
     "name": "stderr",
     "output_type": "stream",
     "text": [
      "/opt/conda/lib/python3.7/site-packages/lightgbm/sklearn.py:736: UserWarning: 'verbose' argument is deprecated and will be removed in a future release of LightGBM. Pass 'log_evaluation()' callback via 'callbacks' argument instead.\n",
      "  _log_warning(\"'verbose' argument is deprecated and will be removed in a future release of LightGBM. \"\n"
     ]
    },
    {
     "name": "stdout",
     "output_type": "stream",
     "text": [
      "[20]\tvalid_0's l2: 321.322\tvalid_1's l2: 2623.12\n",
      "[40]\tvalid_0's l2: 286.201\tvalid_1's l2: 2575.15\n",
      "[60]\tvalid_0's l2: 242.742\tvalid_1's l2: 2541.01\n",
      "[80]\tvalid_0's l2: 228.823\tvalid_1's l2: 2517.49\n",
      "[100]\tvalid_0's l2: 226.401\tvalid_1's l2: 2498.11\n"
     ]
    },
    {
     "name": "stderr",
     "output_type": "stream",
     "text": [
      "/opt/conda/lib/python3.7/site-packages/lightgbm/sklearn.py:736: UserWarning: 'verbose' argument is deprecated and will be removed in a future release of LightGBM. Pass 'log_evaluation()' callback via 'callbacks' argument instead.\n",
      "  _log_warning(\"'verbose' argument is deprecated and will be removed in a future release of LightGBM. \"\n"
     ]
    },
    {
     "name": "stdout",
     "output_type": "stream",
     "text": [
      "[20]\tvalid_0's l2: 478.5\tvalid_1's l2: 2595.5\n",
      "[40]\tvalid_0's l2: 419.079\tvalid_1's l2: 2548.76\n",
      "[60]\tvalid_0's l2: 351.736\tvalid_1's l2: 2496.96\n",
      "[80]\tvalid_0's l2: 316.592\tvalid_1's l2: 2458.11\n",
      "[100]\tvalid_0's l2: 291.114\tvalid_1's l2: 2417.08\n"
     ]
    },
    {
     "name": "stderr",
     "output_type": "stream",
     "text": [
      "/opt/conda/lib/python3.7/site-packages/lightgbm/sklearn.py:736: UserWarning: 'verbose' argument is deprecated and will be removed in a future release of LightGBM. Pass 'log_evaluation()' callback via 'callbacks' argument instead.\n",
      "  _log_warning(\"'verbose' argument is deprecated and will be removed in a future release of LightGBM. \"\n"
     ]
    },
    {
     "name": "stdout",
     "output_type": "stream",
     "text": [
      "[20]\tvalid_0's l2: 602.561\tvalid_1's l2: 2555.21\n",
      "[40]\tvalid_0's l2: 583.109\tvalid_1's l2: 2476.98\n",
      "[60]\tvalid_0's l2: 555.331\tvalid_1's l2: 2427.41\n",
      "[80]\tvalid_0's l2: 578.69\tvalid_1's l2: 2382.6\n",
      "[100]\tvalid_0's l2: 577.616\tvalid_1's l2: 2345.88\n"
     ]
    },
    {
     "name": "stderr",
     "output_type": "stream",
     "text": [
      "/opt/conda/lib/python3.7/site-packages/lightgbm/sklearn.py:736: UserWarning: 'verbose' argument is deprecated and will be removed in a future release of LightGBM. Pass 'log_evaluation()' callback via 'callbacks' argument instead.\n",
      "  _log_warning(\"'verbose' argument is deprecated and will be removed in a future release of LightGBM. \"\n"
     ]
    },
    {
     "name": "stdout",
     "output_type": "stream",
     "text": [
      "[20]\tvalid_0's l2: 613.099\tvalid_1's l2: 2543.12\n",
      "[40]\tvalid_0's l2: 614.703\tvalid_1's l2: 2482.06\n",
      "[60]\tvalid_0's l2: 634.587\tvalid_1's l2: 2429.85\n",
      "[80]\tvalid_0's l2: 594.227\tvalid_1's l2: 2384.54\n",
      "[100]\tvalid_0's l2: 590.934\tvalid_1's l2: 2347.79\n"
     ]
    },
    {
     "name": "stderr",
     "output_type": "stream",
     "text": [
      "/opt/conda/lib/python3.7/site-packages/lightgbm/sklearn.py:736: UserWarning: 'verbose' argument is deprecated and will be removed in a future release of LightGBM. Pass 'log_evaluation()' callback via 'callbacks' argument instead.\n",
      "  _log_warning(\"'verbose' argument is deprecated and will be removed in a future release of LightGBM. \"\n"
     ]
    },
    {
     "name": "stdout",
     "output_type": "stream",
     "text": [
      "[20]\tvalid_0's l2: 505.68\tvalid_1's l2: 2571.35\n",
      "[40]\tvalid_0's l2: 525.954\tvalid_1's l2: 2497.61\n",
      "[60]\tvalid_0's l2: 500.337\tvalid_1's l2: 2450.53\n",
      "[80]\tvalid_0's l2: 476.852\tvalid_1's l2: 2406.17\n",
      "[100]\tvalid_0's l2: 469.783\tvalid_1's l2: 2369.59\n"
     ]
    },
    {
     "name": "stderr",
     "output_type": "stream",
     "text": [
      "/opt/conda/lib/python3.7/site-packages/lightgbm/sklearn.py:736: UserWarning: 'verbose' argument is deprecated and will be removed in a future release of LightGBM. Pass 'log_evaluation()' callback via 'callbacks' argument instead.\n",
      "  _log_warning(\"'verbose' argument is deprecated and will be removed in a future release of LightGBM. \"\n"
     ]
    },
    {
     "name": "stdout",
     "output_type": "stream",
     "text": [
      "[20]\tvalid_0's l2: 321.362\tvalid_1's l2: 2624.75\n",
      "[40]\tvalid_0's l2: 284.722\tvalid_1's l2: 2573.42\n",
      "[60]\tvalid_0's l2: 242.765\tvalid_1's l2: 2539.88\n",
      "[80]\tvalid_0's l2: 238.101\tvalid_1's l2: 2513.81\n",
      "[100]\tvalid_0's l2: 230.585\tvalid_1's l2: 2499.11\n"
     ]
    },
    {
     "name": "stderr",
     "output_type": "stream",
     "text": [
      "/opt/conda/lib/python3.7/site-packages/lightgbm/sklearn.py:736: UserWarning: 'verbose' argument is deprecated and will be removed in a future release of LightGBM. Pass 'log_evaluation()' callback via 'callbacks' argument instead.\n",
      "  _log_warning(\"'verbose' argument is deprecated and will be removed in a future release of LightGBM. \"\n"
     ]
    },
    {
     "name": "stdout",
     "output_type": "stream",
     "text": [
      "[20]\tvalid_0's l2: 478.5\tvalid_1's l2: 2595.5\n",
      "[40]\tvalid_0's l2: 419.079\tvalid_1's l2: 2548.76\n",
      "[60]\tvalid_0's l2: 351.736\tvalid_1's l2: 2496.96\n",
      "[80]\tvalid_0's l2: 316.592\tvalid_1's l2: 2458.11\n",
      "[100]\tvalid_0's l2: 291.114\tvalid_1's l2: 2417.08\n"
     ]
    },
    {
     "name": "stderr",
     "output_type": "stream",
     "text": [
      "/opt/conda/lib/python3.7/site-packages/lightgbm/sklearn.py:736: UserWarning: 'verbose' argument is deprecated and will be removed in a future release of LightGBM. Pass 'log_evaluation()' callback via 'callbacks' argument instead.\n",
      "  _log_warning(\"'verbose' argument is deprecated and will be removed in a future release of LightGBM. \"\n"
     ]
    },
    {
     "name": "stdout",
     "output_type": "stream",
     "text": [
      "[20]\tvalid_0's l2: 602.561\tvalid_1's l2: 2555.21\n",
      "[40]\tvalid_0's l2: 583.109\tvalid_1's l2: 2476.98\n",
      "[60]\tvalid_0's l2: 555.331\tvalid_1's l2: 2427.41\n",
      "[80]\tvalid_0's l2: 578.69\tvalid_1's l2: 2382.6\n",
      "[100]\tvalid_0's l2: 577.616\tvalid_1's l2: 2345.88\n"
     ]
    },
    {
     "name": "stderr",
     "output_type": "stream",
     "text": [
      "/opt/conda/lib/python3.7/site-packages/lightgbm/sklearn.py:736: UserWarning: 'verbose' argument is deprecated and will be removed in a future release of LightGBM. Pass 'log_evaluation()' callback via 'callbacks' argument instead.\n",
      "  _log_warning(\"'verbose' argument is deprecated and will be removed in a future release of LightGBM. \"\n"
     ]
    },
    {
     "name": "stdout",
     "output_type": "stream",
     "text": [
      "[20]\tvalid_0's l2: 613.099\tvalid_1's l2: 2543.12\n",
      "[40]\tvalid_0's l2: 614.703\tvalid_1's l2: 2482.06\n",
      "[60]\tvalid_0's l2: 634.587\tvalid_1's l2: 2429.85\n",
      "[80]\tvalid_0's l2: 594.227\tvalid_1's l2: 2384.54\n",
      "[100]\tvalid_0's l2: 590.934\tvalid_1's l2: 2347.79\n"
     ]
    },
    {
     "name": "stderr",
     "output_type": "stream",
     "text": [
      "/opt/conda/lib/python3.7/site-packages/lightgbm/sklearn.py:736: UserWarning: 'verbose' argument is deprecated and will be removed in a future release of LightGBM. Pass 'log_evaluation()' callback via 'callbacks' argument instead.\n",
      "  _log_warning(\"'verbose' argument is deprecated and will be removed in a future release of LightGBM. \"\n"
     ]
    },
    {
     "name": "stdout",
     "output_type": "stream",
     "text": [
      "[20]\tvalid_0's l2: 505.68\tvalid_1's l2: 2571.35\n",
      "[40]\tvalid_0's l2: 525.954\tvalid_1's l2: 2497.61\n",
      "[60]\tvalid_0's l2: 500.337\tvalid_1's l2: 2450.53\n",
      "[80]\tvalid_0's l2: 476.852\tvalid_1's l2: 2406.17\n",
      "[100]\tvalid_0's l2: 469.783\tvalid_1's l2: 2369.59\n"
     ]
    },
    {
     "name": "stderr",
     "output_type": "stream",
     "text": [
      "/opt/conda/lib/python3.7/site-packages/lightgbm/sklearn.py:736: UserWarning: 'verbose' argument is deprecated and will be removed in a future release of LightGBM. Pass 'log_evaluation()' callback via 'callbacks' argument instead.\n",
      "  _log_warning(\"'verbose' argument is deprecated and will be removed in a future release of LightGBM. \"\n"
     ]
    },
    {
     "name": "stdout",
     "output_type": "stream",
     "text": [
      "[20]\tvalid_0's l2: 321.362\tvalid_1's l2: 2624.75\n",
      "[40]\tvalid_0's l2: 284.722\tvalid_1's l2: 2573.42\n",
      "[60]\tvalid_0's l2: 242.765\tvalid_1's l2: 2539.88\n",
      "[80]\tvalid_0's l2: 238.101\tvalid_1's l2: 2513.81\n",
      "[100]\tvalid_0's l2: 230.585\tvalid_1's l2: 2499.11\n"
     ]
    },
    {
     "name": "stderr",
     "output_type": "stream",
     "text": [
      "/opt/conda/lib/python3.7/site-packages/lightgbm/sklearn.py:736: UserWarning: 'verbose' argument is deprecated and will be removed in a future release of LightGBM. Pass 'log_evaluation()' callback via 'callbacks' argument instead.\n",
      "  _log_warning(\"'verbose' argument is deprecated and will be removed in a future release of LightGBM. \"\n"
     ]
    },
    {
     "name": "stdout",
     "output_type": "stream",
     "text": [
      "[20]\tvalid_0's l2: 476.605\tvalid_1's l2: 2595.71\n",
      "[40]\tvalid_0's l2: 418.14\tvalid_1's l2: 2549\n",
      "[60]\tvalid_0's l2: 364.143\tvalid_1's l2: 2495.49\n",
      "[80]\tvalid_0's l2: 305.089\tvalid_1's l2: 2455.76\n",
      "[100]\tvalid_0's l2: 297.115\tvalid_1's l2: 2416.8\n"
     ]
    },
    {
     "name": "stderr",
     "output_type": "stream",
     "text": [
      "/opt/conda/lib/python3.7/site-packages/lightgbm/sklearn.py:736: UserWarning: 'verbose' argument is deprecated and will be removed in a future release of LightGBM. Pass 'log_evaluation()' callback via 'callbacks' argument instead.\n",
      "  _log_warning(\"'verbose' argument is deprecated and will be removed in a future release of LightGBM. \"\n"
     ]
    },
    {
     "name": "stdout",
     "output_type": "stream",
     "text": [
      "[20]\tvalid_0's l2: 611.441\tvalid_1's l2: 2556.09\n",
      "[40]\tvalid_0's l2: 585.861\tvalid_1's l2: 2479.16\n",
      "[60]\tvalid_0's l2: 565.724\tvalid_1's l2: 2430.71\n",
      "[80]\tvalid_0's l2: 600.86\tvalid_1's l2: 2393.66\n",
      "[100]\tvalid_0's l2: 591.345\tvalid_1's l2: 2356.44\n"
     ]
    },
    {
     "name": "stderr",
     "output_type": "stream",
     "text": [
      "/opt/conda/lib/python3.7/site-packages/lightgbm/sklearn.py:736: UserWarning: 'verbose' argument is deprecated and will be removed in a future release of LightGBM. Pass 'log_evaluation()' callback via 'callbacks' argument instead.\n",
      "  _log_warning(\"'verbose' argument is deprecated and will be removed in a future release of LightGBM. \"\n"
     ]
    },
    {
     "name": "stdout",
     "output_type": "stream",
     "text": [
      "[20]\tvalid_0's l2: 611.497\tvalid_1's l2: 2543.47\n",
      "[40]\tvalid_0's l2: 616.127\tvalid_1's l2: 2482.34\n",
      "[60]\tvalid_0's l2: 634.833\tvalid_1's l2: 2430.33\n",
      "[80]\tvalid_0's l2: 621.64\tvalid_1's l2: 2384.18\n",
      "[100]\tvalid_0's l2: 591.254\tvalid_1's l2: 2349.73\n"
     ]
    },
    {
     "name": "stderr",
     "output_type": "stream",
     "text": [
      "/opt/conda/lib/python3.7/site-packages/lightgbm/sklearn.py:736: UserWarning: 'verbose' argument is deprecated and will be removed in a future release of LightGBM. Pass 'log_evaluation()' callback via 'callbacks' argument instead.\n",
      "  _log_warning(\"'verbose' argument is deprecated and will be removed in a future release of LightGBM. \"\n"
     ]
    },
    {
     "name": "stdout",
     "output_type": "stream",
     "text": [
      "[20]\tvalid_0's l2: 504.552\tvalid_1's l2: 2571.65\n",
      "[40]\tvalid_0's l2: 508.165\tvalid_1's l2: 2501.28\n",
      "[60]\tvalid_0's l2: 526.029\tvalid_1's l2: 2451.51\n",
      "[80]\tvalid_0's l2: 481.644\tvalid_1's l2: 2402.97\n",
      "[100]\tvalid_0's l2: 457.501\tvalid_1's l2: 2368.12\n"
     ]
    },
    {
     "name": "stderr",
     "output_type": "stream",
     "text": [
      "/opt/conda/lib/python3.7/site-packages/lightgbm/sklearn.py:736: UserWarning: 'verbose' argument is deprecated and will be removed in a future release of LightGBM. Pass 'log_evaluation()' callback via 'callbacks' argument instead.\n",
      "  _log_warning(\"'verbose' argument is deprecated and will be removed in a future release of LightGBM. \"\n"
     ]
    },
    {
     "name": "stdout",
     "output_type": "stream",
     "text": [
      "[20]\tvalid_0's l2: 320.497\tvalid_1's l2: 2623.89\n",
      "[40]\tvalid_0's l2: 281.874\tvalid_1's l2: 2574.62\n",
      "[60]\tvalid_0's l2: 249.419\tvalid_1's l2: 2540.11\n",
      "[80]\tvalid_0's l2: 219.698\tvalid_1's l2: 2514.36\n",
      "[100]\tvalid_0's l2: 230.392\tvalid_1's l2: 2498.01\n"
     ]
    },
    {
     "name": "stderr",
     "output_type": "stream",
     "text": [
      "/opt/conda/lib/python3.7/site-packages/lightgbm/sklearn.py:736: UserWarning: 'verbose' argument is deprecated and will be removed in a future release of LightGBM. Pass 'log_evaluation()' callback via 'callbacks' argument instead.\n",
      "  _log_warning(\"'verbose' argument is deprecated and will be removed in a future release of LightGBM. \"\n"
     ]
    },
    {
     "name": "stdout",
     "output_type": "stream",
     "text": [
      "[20]\tvalid_0's l2: 476.605\tvalid_1's l2: 2595.71\n",
      "[40]\tvalid_0's l2: 418.14\tvalid_1's l2: 2549\n",
      "[60]\tvalid_0's l2: 364.143\tvalid_1's l2: 2495.49\n",
      "[80]\tvalid_0's l2: 305.089\tvalid_1's l2: 2455.76\n",
      "[100]\tvalid_0's l2: 297.115\tvalid_1's l2: 2416.8\n"
     ]
    },
    {
     "name": "stderr",
     "output_type": "stream",
     "text": [
      "/opt/conda/lib/python3.7/site-packages/lightgbm/sklearn.py:736: UserWarning: 'verbose' argument is deprecated and will be removed in a future release of LightGBM. Pass 'log_evaluation()' callback via 'callbacks' argument instead.\n",
      "  _log_warning(\"'verbose' argument is deprecated and will be removed in a future release of LightGBM. \"\n"
     ]
    },
    {
     "name": "stdout",
     "output_type": "stream",
     "text": [
      "[20]\tvalid_0's l2: 611.441\tvalid_1's l2: 2556.09\n",
      "[40]\tvalid_0's l2: 585.861\tvalid_1's l2: 2479.16\n",
      "[60]\tvalid_0's l2: 565.724\tvalid_1's l2: 2430.71\n",
      "[80]\tvalid_0's l2: 600.86\tvalid_1's l2: 2393.66\n",
      "[100]\tvalid_0's l2: 591.345\tvalid_1's l2: 2356.44\n"
     ]
    },
    {
     "name": "stderr",
     "output_type": "stream",
     "text": [
      "/opt/conda/lib/python3.7/site-packages/lightgbm/sklearn.py:736: UserWarning: 'verbose' argument is deprecated and will be removed in a future release of LightGBM. Pass 'log_evaluation()' callback via 'callbacks' argument instead.\n",
      "  _log_warning(\"'verbose' argument is deprecated and will be removed in a future release of LightGBM. \"\n"
     ]
    },
    {
     "name": "stdout",
     "output_type": "stream",
     "text": [
      "[20]\tvalid_0's l2: 611.497\tvalid_1's l2: 2543.47\n",
      "[40]\tvalid_0's l2: 616.127\tvalid_1's l2: 2482.34\n",
      "[60]\tvalid_0's l2: 634.833\tvalid_1's l2: 2430.33\n",
      "[80]\tvalid_0's l2: 621.64\tvalid_1's l2: 2384.18\n",
      "[100]\tvalid_0's l2: 591.254\tvalid_1's l2: 2349.73\n"
     ]
    },
    {
     "name": "stderr",
     "output_type": "stream",
     "text": [
      "/opt/conda/lib/python3.7/site-packages/lightgbm/sklearn.py:736: UserWarning: 'verbose' argument is deprecated and will be removed in a future release of LightGBM. Pass 'log_evaluation()' callback via 'callbacks' argument instead.\n",
      "  _log_warning(\"'verbose' argument is deprecated and will be removed in a future release of LightGBM. \"\n"
     ]
    },
    {
     "name": "stdout",
     "output_type": "stream",
     "text": [
      "[20]\tvalid_0's l2: 504.552\tvalid_1's l2: 2571.65\n",
      "[40]\tvalid_0's l2: 508.165\tvalid_1's l2: 2501.28\n",
      "[60]\tvalid_0's l2: 526.029\tvalid_1's l2: 2451.51\n",
      "[80]\tvalid_0's l2: 481.644\tvalid_1's l2: 2402.97\n",
      "[100]\tvalid_0's l2: 457.501\tvalid_1's l2: 2368.12\n"
     ]
    },
    {
     "name": "stderr",
     "output_type": "stream",
     "text": [
      "/opt/conda/lib/python3.7/site-packages/lightgbm/sklearn.py:736: UserWarning: 'verbose' argument is deprecated and will be removed in a future release of LightGBM. Pass 'log_evaluation()' callback via 'callbacks' argument instead.\n",
      "  _log_warning(\"'verbose' argument is deprecated and will be removed in a future release of LightGBM. \"\n"
     ]
    },
    {
     "name": "stdout",
     "output_type": "stream",
     "text": [
      "[20]\tvalid_0's l2: 320.497\tvalid_1's l2: 2623.89\n",
      "[40]\tvalid_0's l2: 281.874\tvalid_1's l2: 2574.62\n",
      "[60]\tvalid_0's l2: 249.419\tvalid_1's l2: 2540.11\n",
      "[80]\tvalid_0's l2: 219.698\tvalid_1's l2: 2514.36\n",
      "[100]\tvalid_0's l2: 230.392\tvalid_1's l2: 2498.01\n"
     ]
    },
    {
     "name": "stderr",
     "output_type": "stream",
     "text": [
      "/opt/conda/lib/python3.7/site-packages/lightgbm/sklearn.py:736: UserWarning: 'verbose' argument is deprecated and will be removed in a future release of LightGBM. Pass 'log_evaluation()' callback via 'callbacks' argument instead.\n",
      "  _log_warning(\"'verbose' argument is deprecated and will be removed in a future release of LightGBM. \"\n"
     ]
    },
    {
     "name": "stdout",
     "output_type": "stream",
     "text": [
      "[20]\tvalid_0's l2: 478.383\tvalid_1's l2: 2595.53\n",
      "[40]\tvalid_0's l2: 419.055\tvalid_1's l2: 2548.81\n",
      "[60]\tvalid_0's l2: 351.815\tvalid_1's l2: 2497.04\n",
      "[80]\tvalid_0's l2: 316.688\tvalid_1's l2: 2458.21\n",
      "[100]\tvalid_0's l2: 291.253\tvalid_1's l2: 2417.2\n"
     ]
    },
    {
     "name": "stderr",
     "output_type": "stream",
     "text": [
      "/opt/conda/lib/python3.7/site-packages/lightgbm/sklearn.py:736: UserWarning: 'verbose' argument is deprecated and will be removed in a future release of LightGBM. Pass 'log_evaluation()' callback via 'callbacks' argument instead.\n",
      "  _log_warning(\"'verbose' argument is deprecated and will be removed in a future release of LightGBM. \"\n"
     ]
    },
    {
     "name": "stdout",
     "output_type": "stream",
     "text": [
      "[20]\tvalid_0's l2: 602.462\tvalid_1's l2: 2555.24\n",
      "[40]\tvalid_0's l2: 583.046\tvalid_1's l2: 2477.04\n",
      "[60]\tvalid_0's l2: 555.307\tvalid_1's l2: 2427.5\n",
      "[80]\tvalid_0's l2: 578.605\tvalid_1's l2: 2382.7\n",
      "[100]\tvalid_0's l2: 577.516\tvalid_1's l2: 2346.01\n"
     ]
    },
    {
     "name": "stderr",
     "output_type": "stream",
     "text": [
      "/opt/conda/lib/python3.7/site-packages/lightgbm/sklearn.py:736: UserWarning: 'verbose' argument is deprecated and will be removed in a future release of LightGBM. Pass 'log_evaluation()' callback via 'callbacks' argument instead.\n",
      "  _log_warning(\"'verbose' argument is deprecated and will be removed in a future release of LightGBM. \"\n"
     ]
    },
    {
     "name": "stdout",
     "output_type": "stream",
     "text": [
      "[20]\tvalid_0's l2: 613.001\tvalid_1's l2: 2543.16\n",
      "[40]\tvalid_0's l2: 614.637\tvalid_1's l2: 2482.12\n",
      "[60]\tvalid_0's l2: 634.516\tvalid_1's l2: 2429.93\n",
      "[80]\tvalid_0's l2: 594.185\tvalid_1's l2: 2384.64\n",
      "[100]\tvalid_0's l2: 590.893\tvalid_1's l2: 2347.91\n"
     ]
    },
    {
     "name": "stderr",
     "output_type": "stream",
     "text": [
      "/opt/conda/lib/python3.7/site-packages/lightgbm/sklearn.py:736: UserWarning: 'verbose' argument is deprecated and will be removed in a future release of LightGBM. Pass 'log_evaluation()' callback via 'callbacks' argument instead.\n",
      "  _log_warning(\"'verbose' argument is deprecated and will be removed in a future release of LightGBM. \"\n"
     ]
    },
    {
     "name": "stdout",
     "output_type": "stream",
     "text": [
      "[20]\tvalid_0's l2: 505.591\tvalid_1's l2: 2571.38\n",
      "[40]\tvalid_0's l2: 525.886\tvalid_1's l2: 2497.67\n",
      "[60]\tvalid_0's l2: 500.322\tvalid_1's l2: 2450.62\n",
      "[80]\tvalid_0's l2: 473.753\tvalid_1's l2: 2406.59\n",
      "[100]\tvalid_0's l2: 477.458\tvalid_1's l2: 2370.88\n"
     ]
    },
    {
     "name": "stderr",
     "output_type": "stream",
     "text": [
      "/opt/conda/lib/python3.7/site-packages/lightgbm/sklearn.py:736: UserWarning: 'verbose' argument is deprecated and will be removed in a future release of LightGBM. Pass 'log_evaluation()' callback via 'callbacks' argument instead.\n",
      "  _log_warning(\"'verbose' argument is deprecated and will be removed in a future release of LightGBM. \"\n"
     ]
    },
    {
     "name": "stdout",
     "output_type": "stream",
     "text": [
      "[20]\tvalid_0's l2: 324.562\tvalid_1's l2: 2621.61\n",
      "[40]\tvalid_0's l2: 276.114\tvalid_1's l2: 2572.93\n",
      "[60]\tvalid_0's l2: 244.874\tvalid_1's l2: 2537.89\n",
      "[80]\tvalid_0's l2: 217.324\tvalid_1's l2: 2513.34\n",
      "[100]\tvalid_0's l2: 220.719\tvalid_1's l2: 2494.36\n"
     ]
    },
    {
     "name": "stderr",
     "output_type": "stream",
     "text": [
      "/opt/conda/lib/python3.7/site-packages/lightgbm/sklearn.py:736: UserWarning: 'verbose' argument is deprecated and will be removed in a future release of LightGBM. Pass 'log_evaluation()' callback via 'callbacks' argument instead.\n",
      "  _log_warning(\"'verbose' argument is deprecated and will be removed in a future release of LightGBM. \"\n"
     ]
    },
    {
     "name": "stdout",
     "output_type": "stream",
     "text": [
      "[20]\tvalid_0's l2: 478.383\tvalid_1's l2: 2595.53\n",
      "[40]\tvalid_0's l2: 419.055\tvalid_1's l2: 2548.81\n",
      "[60]\tvalid_0's l2: 351.815\tvalid_1's l2: 2497.04\n",
      "[80]\tvalid_0's l2: 316.688\tvalid_1's l2: 2458.21\n",
      "[100]\tvalid_0's l2: 291.253\tvalid_1's l2: 2417.2\n"
     ]
    },
    {
     "name": "stderr",
     "output_type": "stream",
     "text": [
      "/opt/conda/lib/python3.7/site-packages/lightgbm/sklearn.py:736: UserWarning: 'verbose' argument is deprecated and will be removed in a future release of LightGBM. Pass 'log_evaluation()' callback via 'callbacks' argument instead.\n",
      "  _log_warning(\"'verbose' argument is deprecated and will be removed in a future release of LightGBM. \"\n"
     ]
    },
    {
     "name": "stdout",
     "output_type": "stream",
     "text": [
      "[20]\tvalid_0's l2: 602.462\tvalid_1's l2: 2555.24\n",
      "[40]\tvalid_0's l2: 583.046\tvalid_1's l2: 2477.04\n",
      "[60]\tvalid_0's l2: 555.307\tvalid_1's l2: 2427.5\n",
      "[80]\tvalid_0's l2: 578.605\tvalid_1's l2: 2382.7\n",
      "[100]\tvalid_0's l2: 577.516\tvalid_1's l2: 2346.01\n"
     ]
    },
    {
     "name": "stderr",
     "output_type": "stream",
     "text": [
      "/opt/conda/lib/python3.7/site-packages/lightgbm/sklearn.py:736: UserWarning: 'verbose' argument is deprecated and will be removed in a future release of LightGBM. Pass 'log_evaluation()' callback via 'callbacks' argument instead.\n",
      "  _log_warning(\"'verbose' argument is deprecated and will be removed in a future release of LightGBM. \"\n"
     ]
    },
    {
     "name": "stdout",
     "output_type": "stream",
     "text": [
      "[20]\tvalid_0's l2: 613.001\tvalid_1's l2: 2543.16\n",
      "[40]\tvalid_0's l2: 614.637\tvalid_1's l2: 2482.12\n",
      "[60]\tvalid_0's l2: 634.516\tvalid_1's l2: 2429.93\n",
      "[80]\tvalid_0's l2: 594.185\tvalid_1's l2: 2384.64\n",
      "[100]\tvalid_0's l2: 590.893\tvalid_1's l2: 2347.91\n"
     ]
    },
    {
     "name": "stderr",
     "output_type": "stream",
     "text": [
      "/opt/conda/lib/python3.7/site-packages/lightgbm/sklearn.py:736: UserWarning: 'verbose' argument is deprecated and will be removed in a future release of LightGBM. Pass 'log_evaluation()' callback via 'callbacks' argument instead.\n",
      "  _log_warning(\"'verbose' argument is deprecated and will be removed in a future release of LightGBM. \"\n"
     ]
    },
    {
     "name": "stdout",
     "output_type": "stream",
     "text": [
      "[20]\tvalid_0's l2: 505.591\tvalid_1's l2: 2571.38\n",
      "[40]\tvalid_0's l2: 525.886\tvalid_1's l2: 2497.67\n",
      "[60]\tvalid_0's l2: 500.322\tvalid_1's l2: 2450.62\n",
      "[80]\tvalid_0's l2: 473.753\tvalid_1's l2: 2406.59\n",
      "[100]\tvalid_0's l2: 477.458\tvalid_1's l2: 2370.88\n"
     ]
    },
    {
     "name": "stderr",
     "output_type": "stream",
     "text": [
      "/opt/conda/lib/python3.7/site-packages/lightgbm/sklearn.py:736: UserWarning: 'verbose' argument is deprecated and will be removed in a future release of LightGBM. Pass 'log_evaluation()' callback via 'callbacks' argument instead.\n",
      "  _log_warning(\"'verbose' argument is deprecated and will be removed in a future release of LightGBM. \"\n"
     ]
    },
    {
     "name": "stdout",
     "output_type": "stream",
     "text": [
      "[20]\tvalid_0's l2: 324.562\tvalid_1's l2: 2621.61\n",
      "[40]\tvalid_0's l2: 276.114\tvalid_1's l2: 2572.93\n",
      "[60]\tvalid_0's l2: 244.874\tvalid_1's l2: 2537.89\n",
      "[80]\tvalid_0's l2: 217.324\tvalid_1's l2: 2513.34\n",
      "[100]\tvalid_0's l2: 220.719\tvalid_1's l2: 2494.36\n"
     ]
    },
    {
     "name": "stderr",
     "output_type": "stream",
     "text": [
      "/opt/conda/lib/python3.7/site-packages/lightgbm/sklearn.py:736: UserWarning: 'verbose' argument is deprecated and will be removed in a future release of LightGBM. Pass 'log_evaluation()' callback via 'callbacks' argument instead.\n",
      "  _log_warning(\"'verbose' argument is deprecated and will be removed in a future release of LightGBM. \"\n"
     ]
    },
    {
     "name": "stdout",
     "output_type": "stream",
     "text": [
      "[20]\tvalid_0's l2: 476.488\tvalid_1's l2: 2595.74\n",
      "[40]\tvalid_0's l2: 417.788\tvalid_1's l2: 2549.09\n",
      "[60]\tvalid_0's l2: 369.994\tvalid_1's l2: 2499.37\n",
      "[80]\tvalid_0's l2: 297.171\tvalid_1's l2: 2458.95\n",
      "[100]\tvalid_0's l2: 284.731\tvalid_1's l2: 2422.26\n"
     ]
    },
    {
     "name": "stderr",
     "output_type": "stream",
     "text": [
      "/opt/conda/lib/python3.7/site-packages/lightgbm/sklearn.py:736: UserWarning: 'verbose' argument is deprecated and will be removed in a future release of LightGBM. Pass 'log_evaluation()' callback via 'callbacks' argument instead.\n",
      "  _log_warning(\"'verbose' argument is deprecated and will be removed in a future release of LightGBM. \"\n"
     ]
    },
    {
     "name": "stdout",
     "output_type": "stream",
     "text": [
      "[20]\tvalid_0's l2: 611.33\tvalid_1's l2: 2556.13\n",
      "[40]\tvalid_0's l2: 585.789\tvalid_1's l2: 2479.22\n",
      "[60]\tvalid_0's l2: 565.698\tvalid_1's l2: 2430.79\n",
      "[80]\tvalid_0's l2: 618.294\tvalid_1's l2: 2393.74\n",
      "[100]\tvalid_0's l2: 579.551\tvalid_1's l2: 2353.75\n"
     ]
    },
    {
     "name": "stderr",
     "output_type": "stream",
     "text": [
      "/opt/conda/lib/python3.7/site-packages/lightgbm/sklearn.py:736: UserWarning: 'verbose' argument is deprecated and will be removed in a future release of LightGBM. Pass 'log_evaluation()' callback via 'callbacks' argument instead.\n",
      "  _log_warning(\"'verbose' argument is deprecated and will be removed in a future release of LightGBM. \"\n"
     ]
    },
    {
     "name": "stdout",
     "output_type": "stream",
     "text": [
      "[20]\tvalid_0's l2: 611.397\tvalid_1's l2: 2543.51\n",
      "[40]\tvalid_0's l2: 616.051\tvalid_1's l2: 2482.41\n",
      "[60]\tvalid_0's l2: 634.756\tvalid_1's l2: 2430.42\n",
      "[80]\tvalid_0's l2: 621.57\tvalid_1's l2: 2384.29\n",
      "[100]\tvalid_0's l2: 574.514\tvalid_1's l2: 2348.82\n"
     ]
    },
    {
     "name": "stderr",
     "output_type": "stream",
     "text": [
      "/opt/conda/lib/python3.7/site-packages/lightgbm/sklearn.py:736: UserWarning: 'verbose' argument is deprecated and will be removed in a future release of LightGBM. Pass 'log_evaluation()' callback via 'callbacks' argument instead.\n",
      "  _log_warning(\"'verbose' argument is deprecated and will be removed in a future release of LightGBM. \"\n"
     ]
    },
    {
     "name": "stdout",
     "output_type": "stream",
     "text": [
      "[20]\tvalid_0's l2: 504.463\tvalid_1's l2: 2571.69\n",
      "[40]\tvalid_0's l2: 508.091\tvalid_1's l2: 2501.34\n",
      "[60]\tvalid_0's l2: 525.982\tvalid_1's l2: 2451.6\n",
      "[80]\tvalid_0's l2: 481.641\tvalid_1's l2: 2403.08\n",
      "[100]\tvalid_0's l2: 457.524\tvalid_1's l2: 2368.25\n"
     ]
    },
    {
     "name": "stderr",
     "output_type": "stream",
     "text": [
      "/opt/conda/lib/python3.7/site-packages/lightgbm/sklearn.py:736: UserWarning: 'verbose' argument is deprecated and will be removed in a future release of LightGBM. Pass 'log_evaluation()' callback via 'callbacks' argument instead.\n",
      "  _log_warning(\"'verbose' argument is deprecated and will be removed in a future release of LightGBM. \"\n"
     ]
    },
    {
     "name": "stdout",
     "output_type": "stream",
     "text": [
      "[20]\tvalid_0's l2: 321.322\tvalid_1's l2: 2623.12\n",
      "[40]\tvalid_0's l2: 286.201\tvalid_1's l2: 2575.15\n",
      "[60]\tvalid_0's l2: 242.742\tvalid_1's l2: 2541.01\n",
      "[80]\tvalid_0's l2: 228.823\tvalid_1's l2: 2517.49\n",
      "[100]\tvalid_0's l2: 226.401\tvalid_1's l2: 2498.11\n"
     ]
    },
    {
     "name": "stderr",
     "output_type": "stream",
     "text": [
      "/opt/conda/lib/python3.7/site-packages/lightgbm/sklearn.py:736: UserWarning: 'verbose' argument is deprecated and will be removed in a future release of LightGBM. Pass 'log_evaluation()' callback via 'callbacks' argument instead.\n",
      "  _log_warning(\"'verbose' argument is deprecated and will be removed in a future release of LightGBM. \"\n"
     ]
    },
    {
     "name": "stdout",
     "output_type": "stream",
     "text": [
      "[20]\tvalid_0's l2: 476.488\tvalid_1's l2: 2595.74\n",
      "[40]\tvalid_0's l2: 417.788\tvalid_1's l2: 2549.09\n",
      "[60]\tvalid_0's l2: 369.994\tvalid_1's l2: 2499.37\n",
      "[80]\tvalid_0's l2: 297.171\tvalid_1's l2: 2458.95\n",
      "[100]\tvalid_0's l2: 284.731\tvalid_1's l2: 2422.26\n"
     ]
    },
    {
     "name": "stderr",
     "output_type": "stream",
     "text": [
      "/opt/conda/lib/python3.7/site-packages/lightgbm/sklearn.py:736: UserWarning: 'verbose' argument is deprecated and will be removed in a future release of LightGBM. Pass 'log_evaluation()' callback via 'callbacks' argument instead.\n",
      "  _log_warning(\"'verbose' argument is deprecated and will be removed in a future release of LightGBM. \"\n"
     ]
    },
    {
     "name": "stdout",
     "output_type": "stream",
     "text": [
      "[20]\tvalid_0's l2: 611.33\tvalid_1's l2: 2556.13\n",
      "[40]\tvalid_0's l2: 585.789\tvalid_1's l2: 2479.22\n",
      "[60]\tvalid_0's l2: 565.698\tvalid_1's l2: 2430.79\n",
      "[80]\tvalid_0's l2: 618.294\tvalid_1's l2: 2393.74\n",
      "[100]\tvalid_0's l2: 579.551\tvalid_1's l2: 2353.75\n"
     ]
    },
    {
     "name": "stderr",
     "output_type": "stream",
     "text": [
      "/opt/conda/lib/python3.7/site-packages/lightgbm/sklearn.py:736: UserWarning: 'verbose' argument is deprecated and will be removed in a future release of LightGBM. Pass 'log_evaluation()' callback via 'callbacks' argument instead.\n",
      "  _log_warning(\"'verbose' argument is deprecated and will be removed in a future release of LightGBM. \"\n"
     ]
    },
    {
     "name": "stdout",
     "output_type": "stream",
     "text": [
      "[20]\tvalid_0's l2: 611.397\tvalid_1's l2: 2543.51\n",
      "[40]\tvalid_0's l2: 616.051\tvalid_1's l2: 2482.41\n",
      "[60]\tvalid_0's l2: 634.756\tvalid_1's l2: 2430.42\n",
      "[80]\tvalid_0's l2: 621.57\tvalid_1's l2: 2384.29\n",
      "[100]\tvalid_0's l2: 574.514\tvalid_1's l2: 2348.82\n"
     ]
    },
    {
     "name": "stderr",
     "output_type": "stream",
     "text": [
      "/opt/conda/lib/python3.7/site-packages/lightgbm/sklearn.py:736: UserWarning: 'verbose' argument is deprecated and will be removed in a future release of LightGBM. Pass 'log_evaluation()' callback via 'callbacks' argument instead.\n",
      "  _log_warning(\"'verbose' argument is deprecated and will be removed in a future release of LightGBM. \"\n"
     ]
    },
    {
     "name": "stdout",
     "output_type": "stream",
     "text": [
      "[20]\tvalid_0's l2: 504.463\tvalid_1's l2: 2571.69\n",
      "[40]\tvalid_0's l2: 508.091\tvalid_1's l2: 2501.34\n",
      "[60]\tvalid_0's l2: 525.982\tvalid_1's l2: 2451.6\n",
      "[80]\tvalid_0's l2: 481.641\tvalid_1's l2: 2403.08\n",
      "[100]\tvalid_0's l2: 457.524\tvalid_1's l2: 2368.25\n"
     ]
    },
    {
     "name": "stderr",
     "output_type": "stream",
     "text": [
      "/opt/conda/lib/python3.7/site-packages/lightgbm/sklearn.py:736: UserWarning: 'verbose' argument is deprecated and will be removed in a future release of LightGBM. Pass 'log_evaluation()' callback via 'callbacks' argument instead.\n",
      "  _log_warning(\"'verbose' argument is deprecated and will be removed in a future release of LightGBM. \"\n"
     ]
    },
    {
     "name": "stdout",
     "output_type": "stream",
     "text": [
      "[20]\tvalid_0's l2: 321.322\tvalid_1's l2: 2623.12\n",
      "[40]\tvalid_0's l2: 286.201\tvalid_1's l2: 2575.15\n",
      "[60]\tvalid_0's l2: 242.742\tvalid_1's l2: 2541.01\n",
      "[80]\tvalid_0's l2: 228.823\tvalid_1's l2: 2517.49\n",
      "[100]\tvalid_0's l2: 226.401\tvalid_1's l2: 2498.11\n"
     ]
    },
    {
     "name": "stderr",
     "output_type": "stream",
     "text": [
      "/opt/conda/lib/python3.7/site-packages/lightgbm/sklearn.py:736: UserWarning: 'verbose' argument is deprecated and will be removed in a future release of LightGBM. Pass 'log_evaluation()' callback via 'callbacks' argument instead.\n",
      "  _log_warning(\"'verbose' argument is deprecated and will be removed in a future release of LightGBM. \"\n"
     ]
    },
    {
     "name": "stdout",
     "output_type": "stream",
     "text": [
      "[20]\tvalid_0's l2: 314.793\tvalid_1's l2: 2425.06\n",
      "[40]\tvalid_0's l2: 197.609\tvalid_1's l2: 2279.74\n",
      "[60]\tvalid_0's l2: 202.568\tvalid_1's l2: 2179.55\n",
      "[80]\tvalid_0's l2: 224.51\tvalid_1's l2: 2092.78\n",
      "[100]\tvalid_0's l2: 220.672\tvalid_1's l2: 2024.13\n",
      "MAE: 12.549\n",
      "MSE: 220.672\n"
     ]
    },
    {
     "data": {
      "image/png": "[encoded data removed]",
      "text/plain": [
       "<Figure size 432x288 with 1 Axes>"
      ]
     },
     "metadata": {
      "needs_background": "light"
     },
     "output_type": "display_data"
    }
   ],
   "source": [
    "df = lag_dict[\"lag6_df\"]\n",
    "\n",
    "df['Date'] = pd.to_datetime(df['Date'])\n",
    "df['Year'] = df['Date'].dt.year \n",
    "df['Month'] = df['Date'].dt.month \n",
    "df['Day'] = df['Date'].dt.day\n",
    "df['dayofweek_num'] = df['Date'].dt.dayofweek\n",
    "\n",
    "df = get_lags(1, 8, df)\n",
    "df['rolling_mean'] = df['Obs_Vol'].rolling(window=7).mean()\n",
    "\n",
    "df = df.dropna()\n",
    "df1 = df.iloc[:, 3:]\n",
    "\n",
    "lag_no = int(lag[3])\n",
    "train = df[:-6].dropna()\n",
    "test = df[-6:].dropna()\n",
    "\n",
    "# Hyperparameter tuning\n",
    "n_folds = 5\n",
    "\n",
    "lgb_model = GridSearchCV(estimator=lgb.LGBMRegressor(),\n",
    "                            param_grid=param_grid,\n",
    "                            cv=KFold(n_splits=n_folds,\n",
    "                                    shuffle=True),\n",
    "                             scoring=\"neg_mean_squared_error\")\n",
    "\n",
    "lgb_model.fit(train[df1.columns], train[\"Obs_Vol\"], eval_set=[(test[df1.columns], test[\"Obs_Vol\"]),(train[df1.columns], train[\"Obs_Vol\"])],\n",
    "  verbose=20,eval_metric='logloss')\n",
    "\n",
    "y_pred = lgb_model.predict(test[df1.columns])\n",
    "mae = mean_absolute_error(test[\"Obs_Vol\"], y_pred)\n",
    "mse = mean_squared_error(test[\"Obs_Vol\"], y_pred)\n",
    "print('MAE: %.3f' % mae)\n",
    "print('MSE: %.3f' % mse)\n",
    "\n",
    "# Plotting estimated Random Forest volatility against actual volatility\n",
    "pred_vol = pd.DataFrame(y_pred)\n",
    "pred_vol.index = test['Date']\n",
    "pred_vol = pred_vol.rename(columns={0: \"Volatility\"})\n",
    "\n",
    "actual_vol = pd.DataFrame(test['Obs_Vol'])\n",
    "actual_vol.index = test['Date']\n",
    "\n",
    "# Plot the actual Bitcoin volatility\n",
    "# plt.gca().xaxis.set_major_locator(mdates.DayLocator(interval=1))\n",
    "plt.plot(actual_vol['Obs_Vol'], color = 'grey', alpha = 0.4, label = 'Actual Volatility')\n",
    "\n",
    "# Plot Random Forest estimated volatility\n",
    "plt.plot(pred_vol['Volatility'], color = 'blue', label = 'Random Forest Volatility')\n",
    "\n",
    "plt.legend(loc = 'upper right')\n",
    "plt.show()"
   ]
  },
  {
   "cell_type": "code",
   "execution_count": 49,
   "metadata": {},
   "outputs": [
    {
     "data": {
      "image/png": "[encoded data removed]",
      "text/plain": [
       "<Figure size 432x288 with 1 Axes>"
      ]
     },
     "metadata": {
      "needs_background": "light"
     },
     "output_type": "display_data"
    }
   ],
   "source": [
    "# Plot the actual Bitcoin volatility\n",
    "# plt.gca().xaxis.set_major_locator(mdates.DayLocator(interval=1))\n",
    "plt.plot(actual_vol['Obs_Vol'], color = 'grey', alpha = 0.4, label = 'Actual Volatility')\n",
    "\n",
    "# Plot Random Forest estimated volatility\n",
    "plt.plot(pred_vol['Volatility'], color = 'blue', label = 'LightGBM Volatility')\n",
    "\n",
    "plt.legend(loc = 'upper right')\n",
    "plt.show()"
   ]
  },
  {
   "cell_type": "code",
   "execution_count": null,
   "metadata": {},
   "outputs": [],
   "source": []
  }
 ],
 "metadata": {
  "environment": {
   "kernel": "python3",
   "name": "common-cu100.m84",
   "type": "gcloud",
   "uri": "gcr.io/deeplearning-platform-release/base-cu100:m84"
  },
  "kernelspec": {
   "display_name": "Python 3",
   "language": "python",
   "name": "python3"
  },
  "language_info": {
   "codemirror_mode": {
    "name": "ipython",
    "version": 3
   },
   "file_extension": ".py",
   "mimetype": "text/x-python",
   "name": "python",
   "nbconvert_exporter": "python",
   "pygments_lexer": "ipython3",
   "version": "3.7.12"
  }
 },
 "nbformat": 4,
 "nbformat_minor": 4
}
