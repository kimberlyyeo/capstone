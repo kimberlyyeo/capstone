{
 "cells": [
  {
   "cell_type": "markdown",
   "metadata": {},
   "source": [
    "# XGBoost\n",
    "- Author: Kimberly Yeo\n",
    "- Module: Capstone\n",
    "- Date: 16/2/2022"
   ]
  },
  {
   "cell_type": "markdown",
   "metadata": {},
   "source": [
    "## Import packages"
   ]
  },
  {
   "cell_type": "code",
   "execution_count": 1,
   "metadata": {},
   "outputs": [],
   "source": [
    "import pandas as pd\n",
    "import numpy as np\n",
    "import math\n",
    "from matplotlib import pyplot as plt\n",
    "import matplotlib.dates as mdates\n",
    "import snscrape.modules.twitter as sntwitter\n",
    "import nltk\n",
    "from datetime import datetime\n",
    "import re\n",
    "from sklearn.feature_extraction.text import TfidfVectorizer\n",
    "import xgboost as xgb\n",
    "from sklearn.metrics import accuracy_score\n",
    "from sklearn.model_selection import GridSearchCV, KFold\n",
    "from sklearn.metrics import mean_absolute_error, mean_squared_error"
   ]
  },
  {
   "cell_type": "markdown",
   "metadata": {},
   "source": [
    "## Load Bitcoin and Tweets data"
   ]
  },
  {
   "cell_type": "code",
   "execution_count": 2,
   "metadata": {},
   "outputs": [],
   "source": [
    "final_df = pd.read_csv(\"tweets_bitcoin.csv\")"
   ]
  },
  {
   "cell_type": "markdown",
   "metadata": {},
   "source": [
    "## TFIDF"
   ]
  },
  {
   "cell_type": "code",
   "execution_count": 3,
   "metadata": {},
   "outputs": [],
   "source": [
    "vectorizer = TfidfVectorizer()\n",
    "tfidf = vectorizer.fit_transform(final_df['Text'])"
   ]
  },
  {
   "cell_type": "code",
   "execution_count": 4,
   "metadata": {},
   "outputs": [
    {
     "name": "stderr",
     "output_type": "stream",
     "text": [
      "/opt/conda/lib/python3.7/site-packages/sklearn/utils/deprecation.py:87: FutureWarning: Function get_feature_names is deprecated; get_feature_names is deprecated in 1.0 and will be removed in 1.2. Please use get_feature_names_out instead.\n",
      "  warnings.warn(msg, category=FutureWarning)\n"
     ]
    }
   ],
   "source": [
    "df1 = pd.DataFrame(tfidf.toarray(), columns=vectorizer.get_feature_names())\n",
    "final_df.drop('Text', axis=1, inplace=True)\n",
    "final_df = pd.concat([final_df, df1], axis=1)"
   ]
  },
  {
   "cell_type": "code",
   "execution_count": 5,
   "metadata": {},
   "outputs": [],
   "source": [
    "train = final_df[:-29].dropna()\n",
    "test = final_df[-29:].dropna()"
   ]
  },
  {
   "cell_type": "code",
   "execution_count": 6,
   "metadata": {},
   "outputs": [
    {
     "data": {
      "text/html": [
       "<div>\n",
       "<style scoped>\n",
       "    .dataframe tbody tr th:only-of-type {\n",
       "        vertical-align: middle;\n",
       "    }\n",
       "\n",
       "    .dataframe tbody tr th {\n",
       "        vertical-align: top;\n",
       "    }\n",
       "\n",
       "    .dataframe thead th {\n",
       "        text-align: right;\n",
       "    }\n",
       "</style>\n",
       "<table border=\"1\" class=\"dataframe\">\n",
       "  <thead>\n",
       "    <tr style=\"text-align: right;\">\n",
       "      <th></th>\n",
       "      <th>Date</th>\n",
       "      <th>Obs_Vol</th>\n",
       "      <th>aaron</th>\n",
       "      <th>aav</th>\n",
       "      <th>aayog</th>\n",
       "      <th>abaco</th>\n",
       "      <th>abakus</th>\n",
       "      <th>abandon</th>\n",
       "      <th>abat</th>\n",
       "      <th>abbc</th>\n",
       "      <th>...</th>\n",
       "      <th>zuckbuck</th>\n",
       "      <th>zuckerberg</th>\n",
       "      <th>zug</th>\n",
       "      <th>zulutrad</th>\n",
       "      <th>zurich</th>\n",
       "      <th>zytara</th>\n",
       "      <th>álvarez</th>\n",
       "      <th>ángel</th>\n",
       "      <th>ștefan</th>\n",
       "      <th>аre</th>\n",
       "    </tr>\n",
       "  </thead>\n",
       "  <tbody>\n",
       "    <tr>\n",
       "      <th>0</th>\n",
       "      <td>2018-09-30</td>\n",
       "      <td>0.013610</td>\n",
       "      <td>0.0</td>\n",
       "      <td>0.0</td>\n",
       "      <td>0.0</td>\n",
       "      <td>0.0</td>\n",
       "      <td>0.0</td>\n",
       "      <td>0.0</td>\n",
       "      <td>0.0</td>\n",
       "      <td>0.0</td>\n",
       "      <td>...</td>\n",
       "      <td>0.0</td>\n",
       "      <td>0.0</td>\n",
       "      <td>0.0</td>\n",
       "      <td>0.0</td>\n",
       "      <td>0.0</td>\n",
       "      <td>0.0</td>\n",
       "      <td>0.0</td>\n",
       "      <td>0.0</td>\n",
       "      <td>0.0</td>\n",
       "      <td>0.0</td>\n",
       "    </tr>\n",
       "    <tr>\n",
       "      <th>1</th>\n",
       "      <td>2018-10-01</td>\n",
       "      <td>0.613488</td>\n",
       "      <td>0.0</td>\n",
       "      <td>0.0</td>\n",
       "      <td>0.0</td>\n",
       "      <td>0.0</td>\n",
       "      <td>0.0</td>\n",
       "      <td>0.0</td>\n",
       "      <td>0.0</td>\n",
       "      <td>0.0</td>\n",
       "      <td>...</td>\n",
       "      <td>0.0</td>\n",
       "      <td>0.0</td>\n",
       "      <td>0.0</td>\n",
       "      <td>0.0</td>\n",
       "      <td>0.0</td>\n",
       "      <td>0.0</td>\n",
       "      <td>0.0</td>\n",
       "      <td>0.0</td>\n",
       "      <td>0.0</td>\n",
       "      <td>0.0</td>\n",
       "    </tr>\n",
       "    <tr>\n",
       "      <th>2</th>\n",
       "      <td>2018-10-02</td>\n",
       "      <td>0.561735</td>\n",
       "      <td>0.0</td>\n",
       "      <td>0.0</td>\n",
       "      <td>0.0</td>\n",
       "      <td>0.0</td>\n",
       "      <td>0.0</td>\n",
       "      <td>0.0</td>\n",
       "      <td>0.0</td>\n",
       "      <td>0.0</td>\n",
       "      <td>...</td>\n",
       "      <td>0.0</td>\n",
       "      <td>0.0</td>\n",
       "      <td>0.0</td>\n",
       "      <td>0.0</td>\n",
       "      <td>0.0</td>\n",
       "      <td>0.0</td>\n",
       "      <td>0.0</td>\n",
       "      <td>0.0</td>\n",
       "      <td>0.0</td>\n",
       "      <td>0.0</td>\n",
       "    </tr>\n",
       "    <tr>\n",
       "      <th>3</th>\n",
       "      <td>2018-10-03</td>\n",
       "      <td>1.117252</td>\n",
       "      <td>0.0</td>\n",
       "      <td>0.0</td>\n",
       "      <td>0.0</td>\n",
       "      <td>0.0</td>\n",
       "      <td>0.0</td>\n",
       "      <td>0.0</td>\n",
       "      <td>0.0</td>\n",
       "      <td>0.0</td>\n",
       "      <td>...</td>\n",
       "      <td>0.0</td>\n",
       "      <td>0.0</td>\n",
       "      <td>0.0</td>\n",
       "      <td>0.0</td>\n",
       "      <td>0.0</td>\n",
       "      <td>0.0</td>\n",
       "      <td>0.0</td>\n",
       "      <td>0.0</td>\n",
       "      <td>0.0</td>\n",
       "      <td>0.0</td>\n",
       "    </tr>\n",
       "    <tr>\n",
       "      <th>4</th>\n",
       "      <td>2018-10-04</td>\n",
       "      <td>0.807727</td>\n",
       "      <td>0.0</td>\n",
       "      <td>0.0</td>\n",
       "      <td>0.0</td>\n",
       "      <td>0.0</td>\n",
       "      <td>0.0</td>\n",
       "      <td>0.0</td>\n",
       "      <td>0.0</td>\n",
       "      <td>0.0</td>\n",
       "      <td>...</td>\n",
       "      <td>0.0</td>\n",
       "      <td>0.0</td>\n",
       "      <td>0.0</td>\n",
       "      <td>0.0</td>\n",
       "      <td>0.0</td>\n",
       "      <td>0.0</td>\n",
       "      <td>0.0</td>\n",
       "      <td>0.0</td>\n",
       "      <td>0.0</td>\n",
       "      <td>0.0</td>\n",
       "    </tr>\n",
       "  </tbody>\n",
       "</table>\n",
       "<p>5 rows × 10492 columns</p>\n",
       "</div>"
      ],
      "text/plain": [
       "         Date   Obs_Vol  aaron  aav  aayog  abaco  abakus  abandon  abat  \\\n",
       "0  2018-09-30  0.013610    0.0  0.0    0.0    0.0     0.0      0.0   0.0   \n",
       "1  2018-10-01  0.613488    0.0  0.0    0.0    0.0     0.0      0.0   0.0   \n",
       "2  2018-10-02  0.561735    0.0  0.0    0.0    0.0     0.0      0.0   0.0   \n",
       "3  2018-10-03  1.117252    0.0  0.0    0.0    0.0     0.0      0.0   0.0   \n",
       "4  2018-10-04  0.807727    0.0  0.0    0.0    0.0     0.0      0.0   0.0   \n",
       "\n",
       "   abbc  ...  zuckbuck  zuckerberg  zug  zulutrad  zurich  zytara  álvarez  \\\n",
       "0   0.0  ...       0.0         0.0  0.0       0.0     0.0     0.0      0.0   \n",
       "1   0.0  ...       0.0         0.0  0.0       0.0     0.0     0.0      0.0   \n",
       "2   0.0  ...       0.0         0.0  0.0       0.0     0.0     0.0      0.0   \n",
       "3   0.0  ...       0.0         0.0  0.0       0.0     0.0     0.0      0.0   \n",
       "4   0.0  ...       0.0         0.0  0.0       0.0     0.0     0.0      0.0   \n",
       "\n",
       "   ángel  ștefan  аre  \n",
       "0    0.0     0.0  0.0  \n",
       "1    0.0     0.0  0.0  \n",
       "2    0.0     0.0  0.0  \n",
       "3    0.0     0.0  0.0  \n",
       "4    0.0     0.0  0.0  \n",
       "\n",
       "[5 rows x 10492 columns]"
      ]
     },
     "execution_count": 6,
     "metadata": {},
     "output_type": "execute_result"
    }
   ],
   "source": [
    "train.head()"
   ]
  },
  {
   "cell_type": "markdown",
   "metadata": {},
   "source": [
    "## XGBoost Trial"
   ]
  },
  {
   "cell_type": "code",
   "execution_count": 7,
   "metadata": {
    "scrolled": true
   },
   "outputs": [
    {
     "name": "stdout",
     "output_type": "stream",
     "text": [
      "[20:53:27] WARNING: ../src/objective/regression_obj.cu:188: reg:linear is now deprecated in favor of reg:squarederror.\n"
     ]
    },
    {
     "data": {
      "text/plain": [
       "XGBRegressor(base_score=0.5, booster='gbtree', colsample_bylevel=1,\n",
       "             colsample_bynode=1, colsample_bytree=1, enable_categorical=False,\n",
       "             gamma=0, gpu_id=-1, importance_type=None,\n",
       "             interaction_constraints='', learning_rate=0.01, max_delta_step=0,\n",
       "             max_depth=6, min_child_weight=1, missing=nan,\n",
       "             monotone_constraints='()', n_estimators=10, n_jobs=16,\n",
       "             num_parallel_tree=1, objective='reg:linear', predictor='auto',\n",
       "             random_state=123, reg_alpha=0, reg_lambda=1, scale_pos_weight=1,\n",
       "             seed=123, subsample=1, tree_method='exact', validate_parameters=1,\n",
       "             verbosity=None)"
      ]
     },
     "execution_count": 7,
     "metadata": {},
     "output_type": "execute_result"
    }
   ],
   "source": [
    "xgb_model = xgb.XGBRegressor(objective ='reg:linear',\n",
    "                  n_estimators = 10, learning_rate=0.01, seed = 123)\n",
    "xgb_model.fit(train[df1.columns], train[\"Obs_Vol\"], verbose = True, eval_metric=mean_squared_error )"
   ]
  },
  {
   "cell_type": "code",
   "execution_count": 8,
   "metadata": {},
   "outputs": [
    {
     "name": "stdout",
     "output_type": "stream",
     "text": [
      "MAE: 13.460\n",
      "MSE: 954.495\n"
     ]
    }
   ],
   "source": [
    "y_pred = xgb_model.predict(test[df1.columns])\n",
    "mae = mean_absolute_error(test[\"Obs_Vol\"], y_pred)\n",
    "mse = mean_squared_error(test[\"Obs_Vol\"], y_pred)\n",
    "print('MAE: %.3f' % mae)\n",
    "print('MSE: %.3f' % mse)"
   ]
  },
  {
   "cell_type": "markdown",
   "metadata": {},
   "source": [
    "## Create a 1-day lag for TFIDF"
   ]
  },
  {
   "cell_type": "code",
   "execution_count": 9,
   "metadata": {},
   "outputs": [],
   "source": [
    "lag1_df = final_df.copy()"
   ]
  },
  {
   "cell_type": "code",
   "execution_count": 10,
   "metadata": {},
   "outputs": [],
   "source": [
    "lag1_df = pd.concat([final_df[\"Date\"], lag1_df.iloc[:,1:].shift(1)], axis=1)"
   ]
  },
  {
   "cell_type": "markdown",
   "metadata": {},
   "source": [
    "## Create n-day lags for TFIDF"
   ]
  },
  {
   "cell_type": "code",
   "execution_count": 11,
   "metadata": {},
   "outputs": [],
   "source": [
    "def get_lag_df(n_lag, final_df):\n",
    "    lag_df = final_df.copy()\n",
    "    lag_df = pd.concat([final_df[[\"Date\", \"Obs_Vol\"]], lag_df.iloc[:,2:].shift(n_lag)], axis=1)\n",
    "    return lag_df"
   ]
  },
  {
   "cell_type": "code",
   "execution_count": 12,
   "metadata": {},
   "outputs": [],
   "source": [
    "lag_dict = {}\n",
    "for i in range(1, 10):\n",
    "    lag_dict[\"lag{}_df\".format(i)] = get_lag_df(i, final_df).dropna()"
   ]
  },
  {
   "cell_type": "code",
   "execution_count": 13,
   "metadata": {},
   "outputs": [],
   "source": [
    "# Lag tuning function which produces elbow plot\n",
    "def lag_tuning(lag_dict, accur_metric):\n",
    "    min_mae = 0\n",
    "    min_mse = 0\n",
    "    count = 1\n",
    "    lag_score_df = pd.DataFrame(columns = [\"lag\", accur_metric])\n",
    "    for k in lag_dict.keys():\n",
    "        df = lag_dict[k]\n",
    "        train = df[:-count].dropna()\n",
    "        test = df[-count:].dropna()\n",
    "        xgb_model = xgb.XGBRegressor(objective ='reg:squarederror',\n",
    "                      n_estimators = 10, learning_rate=0.01, seed = 123)\n",
    "        xgb_model.fit(train[df1.columns], train[\"Obs_Vol\"], verbose = True, eval_metric=mean_squared_error )\n",
    "        y_pred = xgb_model.predict(test[df1.columns])\n",
    "        if accur_metric == \"mae\":\n",
    "            mae = mean_absolute_error(test[\"Obs_Vol\"], y_pred)\n",
    "            if count == 0:\n",
    "                min_mae = mae\n",
    "                best_lag = k\n",
    "            else:\n",
    "                if min_mae > mae:\n",
    "                    min_mae = mae\n",
    "            lag_score_df = lag_score_df.append({\"lag\": count, accur_metric: mae}, ignore_index=True)\n",
    "        elif accur_metric == \"mse\":\n",
    "            mse = mean_squared_error(test[\"Obs_Vol\"], y_pred)\n",
    "            if count == 1:\n",
    "                min_mse = mse\n",
    "                best_lag = k\n",
    "            else:\n",
    "                if min_mse > mse:\n",
    "                    min_mse = mse\n",
    "            lag_score_df = lag_score_df.append({\"lag\": count+1, accur_metric: mse}, ignore_index=True)\n",
    "        count += 1\n",
    "    plt.plot(lag_score_df[\"lag\"], lag_score_df[accur_metric], 'go-', linewidth=2)\n",
    "    plt.xlabel(\"lag\")\n",
    "    plt.ylabel(accur_metric)\n",
    "    plt.show()\n",
    "    return lag_score_df"
   ]
  },
  {
   "cell_type": "code",
   "execution_count": 14,
   "metadata": {},
   "outputs": [
    {
     "data": {
      "image/png": "[encoded data removed]",
      "text/plain": [
       "<Figure size 432x288 with 1 Axes>"
      ]
     },
     "metadata": {
      "needs_background": "light"
     },
     "output_type": "display_data"
    },
    {
     "name": "stdout",
     "output_type": "stream",
     "text": [
      "CPU times: user 2min 14s, sys: 988 ms, total: 2min 15s\n",
      "Wall time: 13.6 s\n"
     ]
    },
    {
     "data": {
      "text/html": [
       "<div>\n",
       "<style scoped>\n",
       "    .dataframe tbody tr th:only-of-type {\n",
       "        vertical-align: middle;\n",
       "    }\n",
       "\n",
       "    .dataframe tbody tr th {\n",
       "        vertical-align: top;\n",
       "    }\n",
       "\n",
       "    .dataframe thead th {\n",
       "        text-align: right;\n",
       "    }\n",
       "</style>\n",
       "<table border=\"1\" class=\"dataframe\">\n",
       "  <thead>\n",
       "    <tr style=\"text-align: right;\">\n",
       "      <th></th>\n",
       "      <th>lag</th>\n",
       "      <th>mae</th>\n",
       "    </tr>\n",
       "  </thead>\n",
       "  <tbody>\n",
       "    <tr>\n",
       "      <th>0</th>\n",
       "      <td>1.0</td>\n",
       "      <td>7.886376</td>\n",
       "    </tr>\n",
       "    <tr>\n",
       "      <th>1</th>\n",
       "      <td>2.0</td>\n",
       "      <td>6.243492</td>\n",
       "    </tr>\n",
       "    <tr>\n",
       "      <th>2</th>\n",
       "      <td>3.0</td>\n",
       "      <td>4.418400</td>\n",
       "    </tr>\n",
       "    <tr>\n",
       "      <th>3</th>\n",
       "      <td>4.0</td>\n",
       "      <td>3.654659</td>\n",
       "    </tr>\n",
       "    <tr>\n",
       "      <th>4</th>\n",
       "      <td>5.0</td>\n",
       "      <td>7.252171</td>\n",
       "    </tr>\n",
       "    <tr>\n",
       "      <th>5</th>\n",
       "      <td>6.0</td>\n",
       "      <td>7.063134</td>\n",
       "    </tr>\n",
       "    <tr>\n",
       "      <th>6</th>\n",
       "      <td>7.0</td>\n",
       "      <td>12.502917</td>\n",
       "    </tr>\n",
       "    <tr>\n",
       "      <th>7</th>\n",
       "      <td>8.0</td>\n",
       "      <td>14.204999</td>\n",
       "    </tr>\n",
       "    <tr>\n",
       "      <th>8</th>\n",
       "      <td>9.0</td>\n",
       "      <td>23.497424</td>\n",
       "    </tr>\n",
       "  </tbody>\n",
       "</table>\n",
       "</div>"
      ],
      "text/plain": [
       "   lag        mae\n",
       "0  1.0   7.886376\n",
       "1  2.0   6.243492\n",
       "2  3.0   4.418400\n",
       "3  4.0   3.654659\n",
       "4  5.0   7.252171\n",
       "5  6.0   7.063134\n",
       "6  7.0  12.502917\n",
       "7  8.0  14.204999\n",
       "8  9.0  23.497424"
      ]
     },
     "execution_count": 14,
     "metadata": {},
     "output_type": "execute_result"
    }
   ],
   "source": [
    "%%time\n",
    "lag_tuning(lag_dict, \"mae\")"
   ]
  },
  {
   "cell_type": "code",
   "execution_count": 15,
   "metadata": {},
   "outputs": [],
   "source": [
    "# Choosing lag_4 as the best dataframe with 4-day lagged tfidf features\n",
    "xgb_df = lag_dict[\"lag4_df\"]"
   ]
  },
  {
   "cell_type": "markdown",
   "metadata": {},
   "source": [
    "## Date specific feature engineering"
   ]
  },
  {
   "cell_type": "code",
   "execution_count": 16,
   "metadata": {},
   "outputs": [],
   "source": [
    "xgb_df['Date'] = pd.to_datetime(xgb_df['Date'])"
   ]
  },
  {
   "cell_type": "code",
   "execution_count": 17,
   "metadata": {},
   "outputs": [],
   "source": [
    "xgb_df['Year'] = xgb_df['Date'].dt.year \n",
    "xgb_df['Month'] = xgb_df['Date'].dt.month \n",
    "xgb_df['Day'] = xgb_df['Date'].dt.day\n",
    "\n",
    "xgb_df['dayofweek_num'] = xgb_df['Date'].dt.dayofweek  \n",
    "# xgb_df['dayofweek_name']= xgb_df['Date'].dt.weekday_name"
   ]
  },
  {
   "cell_type": "code",
   "execution_count": 18,
   "metadata": {},
   "outputs": [
    {
     "data": {
      "text/html": [
       "<div>\n",
       "<style scoped>\n",
       "    .dataframe tbody tr th:only-of-type {\n",
       "        vertical-align: middle;\n",
       "    }\n",
       "\n",
       "    .dataframe tbody tr th {\n",
       "        vertical-align: top;\n",
       "    }\n",
       "\n",
       "    .dataframe thead th {\n",
       "        text-align: right;\n",
       "    }\n",
       "</style>\n",
       "<table border=\"1\" class=\"dataframe\">\n",
       "  <thead>\n",
       "    <tr style=\"text-align: right;\">\n",
       "      <th></th>\n",
       "      <th>Date</th>\n",
       "      <th>Obs_Vol</th>\n",
       "      <th>aaron</th>\n",
       "      <th>aav</th>\n",
       "      <th>aayog</th>\n",
       "      <th>abaco</th>\n",
       "      <th>abakus</th>\n",
       "      <th>abandon</th>\n",
       "      <th>abat</th>\n",
       "      <th>abbc</th>\n",
       "      <th>...</th>\n",
       "      <th>zurich</th>\n",
       "      <th>zytara</th>\n",
       "      <th>álvarez</th>\n",
       "      <th>ángel</th>\n",
       "      <th>ștefan</th>\n",
       "      <th>аre</th>\n",
       "      <th>Year</th>\n",
       "      <th>Month</th>\n",
       "      <th>Day</th>\n",
       "      <th>dayofweek_num</th>\n",
       "    </tr>\n",
       "  </thead>\n",
       "  <tbody>\n",
       "    <tr>\n",
       "      <th>4</th>\n",
       "      <td>2018-10-04</td>\n",
       "      <td>0.807727</td>\n",
       "      <td>0.0</td>\n",
       "      <td>0.0</td>\n",
       "      <td>0.0</td>\n",
       "      <td>0.0</td>\n",
       "      <td>0.0</td>\n",
       "      <td>0.0</td>\n",
       "      <td>0.0</td>\n",
       "      <td>0.0</td>\n",
       "      <td>...</td>\n",
       "      <td>0.0</td>\n",
       "      <td>0.0</td>\n",
       "      <td>0.0</td>\n",
       "      <td>0.0</td>\n",
       "      <td>0.0</td>\n",
       "      <td>0.0</td>\n",
       "      <td>2018</td>\n",
       "      <td>10</td>\n",
       "      <td>4</td>\n",
       "      <td>3</td>\n",
       "    </tr>\n",
       "    <tr>\n",
       "      <th>5</th>\n",
       "      <td>2018-10-05</td>\n",
       "      <td>0.207422</td>\n",
       "      <td>0.0</td>\n",
       "      <td>0.0</td>\n",
       "      <td>0.0</td>\n",
       "      <td>0.0</td>\n",
       "      <td>0.0</td>\n",
       "      <td>0.0</td>\n",
       "      <td>0.0</td>\n",
       "      <td>0.0</td>\n",
       "      <td>...</td>\n",
       "      <td>0.0</td>\n",
       "      <td>0.0</td>\n",
       "      <td>0.0</td>\n",
       "      <td>0.0</td>\n",
       "      <td>0.0</td>\n",
       "      <td>0.0</td>\n",
       "      <td>2018</td>\n",
       "      <td>10</td>\n",
       "      <td>5</td>\n",
       "      <td>4</td>\n",
       "    </tr>\n",
       "    <tr>\n",
       "      <th>6</th>\n",
       "      <td>2018-10-06</td>\n",
       "      <td>0.572715</td>\n",
       "      <td>0.0</td>\n",
       "      <td>0.0</td>\n",
       "      <td>0.0</td>\n",
       "      <td>0.0</td>\n",
       "      <td>0.0</td>\n",
       "      <td>0.0</td>\n",
       "      <td>0.0</td>\n",
       "      <td>0.0</td>\n",
       "      <td>...</td>\n",
       "      <td>0.0</td>\n",
       "      <td>0.0</td>\n",
       "      <td>0.0</td>\n",
       "      <td>0.0</td>\n",
       "      <td>0.0</td>\n",
       "      <td>0.0</td>\n",
       "      <td>2018</td>\n",
       "      <td>10</td>\n",
       "      <td>6</td>\n",
       "      <td>5</td>\n",
       "    </tr>\n",
       "    <tr>\n",
       "      <th>7</th>\n",
       "      <td>2018-10-07</td>\n",
       "      <td>0.000346</td>\n",
       "      <td>0.0</td>\n",
       "      <td>0.0</td>\n",
       "      <td>0.0</td>\n",
       "      <td>0.0</td>\n",
       "      <td>0.0</td>\n",
       "      <td>0.0</td>\n",
       "      <td>0.0</td>\n",
       "      <td>0.0</td>\n",
       "      <td>...</td>\n",
       "      <td>0.0</td>\n",
       "      <td>0.0</td>\n",
       "      <td>0.0</td>\n",
       "      <td>0.0</td>\n",
       "      <td>0.0</td>\n",
       "      <td>0.0</td>\n",
       "      <td>2018</td>\n",
       "      <td>10</td>\n",
       "      <td>7</td>\n",
       "      <td>6</td>\n",
       "    </tr>\n",
       "    <tr>\n",
       "      <th>8</th>\n",
       "      <td>2018-10-08</td>\n",
       "      <td>0.255549</td>\n",
       "      <td>0.0</td>\n",
       "      <td>0.0</td>\n",
       "      <td>0.0</td>\n",
       "      <td>0.0</td>\n",
       "      <td>0.0</td>\n",
       "      <td>0.0</td>\n",
       "      <td>0.0</td>\n",
       "      <td>0.0</td>\n",
       "      <td>...</td>\n",
       "      <td>0.0</td>\n",
       "      <td>0.0</td>\n",
       "      <td>0.0</td>\n",
       "      <td>0.0</td>\n",
       "      <td>0.0</td>\n",
       "      <td>0.0</td>\n",
       "      <td>2018</td>\n",
       "      <td>10</td>\n",
       "      <td>8</td>\n",
       "      <td>0</td>\n",
       "    </tr>\n",
       "    <tr>\n",
       "      <th>...</th>\n",
       "      <td>...</td>\n",
       "      <td>...</td>\n",
       "      <td>...</td>\n",
       "      <td>...</td>\n",
       "      <td>...</td>\n",
       "      <td>...</td>\n",
       "      <td>...</td>\n",
       "      <td>...</td>\n",
       "      <td>...</td>\n",
       "      <td>...</td>\n",
       "      <td>...</td>\n",
       "      <td>...</td>\n",
       "      <td>...</td>\n",
       "      <td>...</td>\n",
       "      <td>...</td>\n",
       "      <td>...</td>\n",
       "      <td>...</td>\n",
       "      <td>...</td>\n",
       "      <td>...</td>\n",
       "      <td>...</td>\n",
       "      <td>...</td>\n",
       "    </tr>\n",
       "    <tr>\n",
       "      <th>1082</th>\n",
       "      <td>2021-09-24</td>\n",
       "      <td>23.222015</td>\n",
       "      <td>0.0</td>\n",
       "      <td>0.0</td>\n",
       "      <td>0.0</td>\n",
       "      <td>0.0</td>\n",
       "      <td>0.0</td>\n",
       "      <td>0.0</td>\n",
       "      <td>0.0</td>\n",
       "      <td>0.0</td>\n",
       "      <td>...</td>\n",
       "      <td>0.0</td>\n",
       "      <td>0.0</td>\n",
       "      <td>0.0</td>\n",
       "      <td>0.0</td>\n",
       "      <td>0.0</td>\n",
       "      <td>0.0</td>\n",
       "      <td>2021</td>\n",
       "      <td>9</td>\n",
       "      <td>24</td>\n",
       "      <td>4</td>\n",
       "    </tr>\n",
       "    <tr>\n",
       "      <th>1083</th>\n",
       "      <td>2021-09-25</td>\n",
       "      <td>0.279093</td>\n",
       "      <td>0.0</td>\n",
       "      <td>0.0</td>\n",
       "      <td>0.0</td>\n",
       "      <td>0.0</td>\n",
       "      <td>0.0</td>\n",
       "      <td>0.0</td>\n",
       "      <td>0.0</td>\n",
       "      <td>0.0</td>\n",
       "      <td>...</td>\n",
       "      <td>0.0</td>\n",
       "      <td>0.0</td>\n",
       "      <td>0.0</td>\n",
       "      <td>0.0</td>\n",
       "      <td>0.0</td>\n",
       "      <td>0.0</td>\n",
       "      <td>2021</td>\n",
       "      <td>9</td>\n",
       "      <td>25</td>\n",
       "      <td>5</td>\n",
       "    </tr>\n",
       "    <tr>\n",
       "      <th>1084</th>\n",
       "      <td>2021-09-26</td>\n",
       "      <td>0.829626</td>\n",
       "      <td>0.0</td>\n",
       "      <td>0.0</td>\n",
       "      <td>0.0</td>\n",
       "      <td>0.0</td>\n",
       "      <td>0.0</td>\n",
       "      <td>0.0</td>\n",
       "      <td>0.0</td>\n",
       "      <td>0.0</td>\n",
       "      <td>...</td>\n",
       "      <td>0.0</td>\n",
       "      <td>0.0</td>\n",
       "      <td>0.0</td>\n",
       "      <td>0.0</td>\n",
       "      <td>0.0</td>\n",
       "      <td>0.0</td>\n",
       "      <td>2021</td>\n",
       "      <td>9</td>\n",
       "      <td>26</td>\n",
       "      <td>6</td>\n",
       "    </tr>\n",
       "    <tr>\n",
       "      <th>1085</th>\n",
       "      <td>2021-09-27</td>\n",
       "      <td>6.211249</td>\n",
       "      <td>0.0</td>\n",
       "      <td>0.0</td>\n",
       "      <td>0.0</td>\n",
       "      <td>0.0</td>\n",
       "      <td>0.0</td>\n",
       "      <td>0.0</td>\n",
       "      <td>0.0</td>\n",
       "      <td>0.0</td>\n",
       "      <td>...</td>\n",
       "      <td>0.0</td>\n",
       "      <td>0.0</td>\n",
       "      <td>0.0</td>\n",
       "      <td>0.0</td>\n",
       "      <td>0.0</td>\n",
       "      <td>0.0</td>\n",
       "      <td>2021</td>\n",
       "      <td>9</td>\n",
       "      <td>27</td>\n",
       "      <td>0</td>\n",
       "    </tr>\n",
       "    <tr>\n",
       "      <th>1086</th>\n",
       "      <td>2021-09-28</td>\n",
       "      <td>9.516108</td>\n",
       "      <td>0.0</td>\n",
       "      <td>0.0</td>\n",
       "      <td>0.0</td>\n",
       "      <td>0.0</td>\n",
       "      <td>0.0</td>\n",
       "      <td>0.0</td>\n",
       "      <td>0.0</td>\n",
       "      <td>0.0</td>\n",
       "      <td>...</td>\n",
       "      <td>0.0</td>\n",
       "      <td>0.0</td>\n",
       "      <td>0.0</td>\n",
       "      <td>0.0</td>\n",
       "      <td>0.0</td>\n",
       "      <td>0.0</td>\n",
       "      <td>2021</td>\n",
       "      <td>9</td>\n",
       "      <td>28</td>\n",
       "      <td>1</td>\n",
       "    </tr>\n",
       "  </tbody>\n",
       "</table>\n",
       "<p>1083 rows × 10496 columns</p>\n",
       "</div>"
      ],
      "text/plain": [
       "           Date    Obs_Vol  aaron  aav  aayog  abaco  abakus  abandon  abat  \\\n",
       "4    2018-10-04   0.807727    0.0  0.0    0.0    0.0     0.0      0.0   0.0   \n",
       "5    2018-10-05   0.207422    0.0  0.0    0.0    0.0     0.0      0.0   0.0   \n",
       "6    2018-10-06   0.572715    0.0  0.0    0.0    0.0     0.0      0.0   0.0   \n",
       "7    2018-10-07   0.000346    0.0  0.0    0.0    0.0     0.0      0.0   0.0   \n",
       "8    2018-10-08   0.255549    0.0  0.0    0.0    0.0     0.0      0.0   0.0   \n",
       "...         ...        ...    ...  ...    ...    ...     ...      ...   ...   \n",
       "1082 2021-09-24  23.222015    0.0  0.0    0.0    0.0     0.0      0.0   0.0   \n",
       "1083 2021-09-25   0.279093    0.0  0.0    0.0    0.0     0.0      0.0   0.0   \n",
       "1084 2021-09-26   0.829626    0.0  0.0    0.0    0.0     0.0      0.0   0.0   \n",
       "1085 2021-09-27   6.211249    0.0  0.0    0.0    0.0     0.0      0.0   0.0   \n",
       "1086 2021-09-28   9.516108    0.0  0.0    0.0    0.0     0.0      0.0   0.0   \n",
       "\n",
       "      abbc  ...  zurich  zytara  álvarez  ángel  ștefan  аre  Year  Month  \\\n",
       "4      0.0  ...     0.0     0.0      0.0    0.0     0.0  0.0  2018     10   \n",
       "5      0.0  ...     0.0     0.0      0.0    0.0     0.0  0.0  2018     10   \n",
       "6      0.0  ...     0.0     0.0      0.0    0.0     0.0  0.0  2018     10   \n",
       "7      0.0  ...     0.0     0.0      0.0    0.0     0.0  0.0  2018     10   \n",
       "8      0.0  ...     0.0     0.0      0.0    0.0     0.0  0.0  2018     10   \n",
       "...    ...  ...     ...     ...      ...    ...     ...  ...   ...    ...   \n",
       "1082   0.0  ...     0.0     0.0      0.0    0.0     0.0  0.0  2021      9   \n",
       "1083   0.0  ...     0.0     0.0      0.0    0.0     0.0  0.0  2021      9   \n",
       "1084   0.0  ...     0.0     0.0      0.0    0.0     0.0  0.0  2021      9   \n",
       "1085   0.0  ...     0.0     0.0      0.0    0.0     0.0  0.0  2021      9   \n",
       "1086   0.0  ...     0.0     0.0      0.0    0.0     0.0  0.0  2021      9   \n",
       "\n",
       "      Day  dayofweek_num  \n",
       "4       4              3  \n",
       "5       5              4  \n",
       "6       6              5  \n",
       "7       7              6  \n",
       "8       8              0  \n",
       "...   ...            ...  \n",
       "1082   24              4  \n",
       "1083   25              5  \n",
       "1084   26              6  \n",
       "1085   27              0  \n",
       "1086   28              1  \n",
       "\n",
       "[1083 rows x 10496 columns]"
      ]
     },
     "execution_count": 18,
     "metadata": {},
     "output_type": "execute_result"
    }
   ],
   "source": [
    "xgb_df"
   ]
  },
  {
   "cell_type": "markdown",
   "metadata": {},
   "source": [
    "## Lags for observed volatility"
   ]
  },
  {
   "cell_type": "code",
   "execution_count": 19,
   "metadata": {},
   "outputs": [],
   "source": [
    "def get_lags(lag_start, lag_end, df):\n",
    "    for i in range(lag_start, lag_end):\n",
    "        df['lag_'+str(i)] = df.Obs_Vol.shift(i)\n",
    "    return df"
   ]
  },
  {
   "cell_type": "code",
   "execution_count": 20,
   "metadata": {},
   "outputs": [],
   "source": [
    "xgb_df = get_lags(1, 8, xgb_df)"
   ]
  },
  {
   "cell_type": "code",
   "execution_count": 21,
   "metadata": {},
   "outputs": [
    {
     "data": {
      "text/html": [
       "<div>\n",
       "<style scoped>\n",
       "    .dataframe tbody tr th:only-of-type {\n",
       "        vertical-align: middle;\n",
       "    }\n",
       "\n",
       "    .dataframe tbody tr th {\n",
       "        vertical-align: top;\n",
       "    }\n",
       "\n",
       "    .dataframe thead th {\n",
       "        text-align: right;\n",
       "    }\n",
       "</style>\n",
       "<table border=\"1\" class=\"dataframe\">\n",
       "  <thead>\n",
       "    <tr style=\"text-align: right;\">\n",
       "      <th></th>\n",
       "      <th>Date</th>\n",
       "      <th>Obs_Vol</th>\n",
       "      <th>aaron</th>\n",
       "      <th>aav</th>\n",
       "      <th>aayog</th>\n",
       "      <th>abaco</th>\n",
       "      <th>abakus</th>\n",
       "      <th>abandon</th>\n",
       "      <th>abat</th>\n",
       "      <th>abbc</th>\n",
       "      <th>...</th>\n",
       "      <th>Month</th>\n",
       "      <th>Day</th>\n",
       "      <th>dayofweek_num</th>\n",
       "      <th>lag_1</th>\n",
       "      <th>lag_2</th>\n",
       "      <th>lag_3</th>\n",
       "      <th>lag_4</th>\n",
       "      <th>lag_5</th>\n",
       "      <th>lag_6</th>\n",
       "      <th>lag_7</th>\n",
       "    </tr>\n",
       "  </thead>\n",
       "  <tbody>\n",
       "    <tr>\n",
       "      <th>4</th>\n",
       "      <td>2018-10-04</td>\n",
       "      <td>0.807727</td>\n",
       "      <td>0.0</td>\n",
       "      <td>0.0</td>\n",
       "      <td>0.0</td>\n",
       "      <td>0.0</td>\n",
       "      <td>0.0</td>\n",
       "      <td>0.0</td>\n",
       "      <td>0.0</td>\n",
       "      <td>0.0</td>\n",
       "      <td>...</td>\n",
       "      <td>10</td>\n",
       "      <td>4</td>\n",
       "      <td>3</td>\n",
       "      <td>NaN</td>\n",
       "      <td>NaN</td>\n",
       "      <td>NaN</td>\n",
       "      <td>NaN</td>\n",
       "      <td>NaN</td>\n",
       "      <td>NaN</td>\n",
       "      <td>NaN</td>\n",
       "    </tr>\n",
       "    <tr>\n",
       "      <th>5</th>\n",
       "      <td>2018-10-05</td>\n",
       "      <td>0.207422</td>\n",
       "      <td>0.0</td>\n",
       "      <td>0.0</td>\n",
       "      <td>0.0</td>\n",
       "      <td>0.0</td>\n",
       "      <td>0.0</td>\n",
       "      <td>0.0</td>\n",
       "      <td>0.0</td>\n",
       "      <td>0.0</td>\n",
       "      <td>...</td>\n",
       "      <td>10</td>\n",
       "      <td>5</td>\n",
       "      <td>4</td>\n",
       "      <td>0.807727</td>\n",
       "      <td>NaN</td>\n",
       "      <td>NaN</td>\n",
       "      <td>NaN</td>\n",
       "      <td>NaN</td>\n",
       "      <td>NaN</td>\n",
       "      <td>NaN</td>\n",
       "    </tr>\n",
       "    <tr>\n",
       "      <th>6</th>\n",
       "      <td>2018-10-06</td>\n",
       "      <td>0.572715</td>\n",
       "      <td>0.0</td>\n",
       "      <td>0.0</td>\n",
       "      <td>0.0</td>\n",
       "      <td>0.0</td>\n",
       "      <td>0.0</td>\n",
       "      <td>0.0</td>\n",
       "      <td>0.0</td>\n",
       "      <td>0.0</td>\n",
       "      <td>...</td>\n",
       "      <td>10</td>\n",
       "      <td>6</td>\n",
       "      <td>5</td>\n",
       "      <td>0.207422</td>\n",
       "      <td>0.807727</td>\n",
       "      <td>NaN</td>\n",
       "      <td>NaN</td>\n",
       "      <td>NaN</td>\n",
       "      <td>NaN</td>\n",
       "      <td>NaN</td>\n",
       "    </tr>\n",
       "    <tr>\n",
       "      <th>7</th>\n",
       "      <td>2018-10-07</td>\n",
       "      <td>0.000346</td>\n",
       "      <td>0.0</td>\n",
       "      <td>0.0</td>\n",
       "      <td>0.0</td>\n",
       "      <td>0.0</td>\n",
       "      <td>0.0</td>\n",
       "      <td>0.0</td>\n",
       "      <td>0.0</td>\n",
       "      <td>0.0</td>\n",
       "      <td>...</td>\n",
       "      <td>10</td>\n",
       "      <td>7</td>\n",
       "      <td>6</td>\n",
       "      <td>0.572715</td>\n",
       "      <td>0.207422</td>\n",
       "      <td>0.807727</td>\n",
       "      <td>NaN</td>\n",
       "      <td>NaN</td>\n",
       "      <td>NaN</td>\n",
       "      <td>NaN</td>\n",
       "    </tr>\n",
       "    <tr>\n",
       "      <th>8</th>\n",
       "      <td>2018-10-08</td>\n",
       "      <td>0.255549</td>\n",
       "      <td>0.0</td>\n",
       "      <td>0.0</td>\n",
       "      <td>0.0</td>\n",
       "      <td>0.0</td>\n",
       "      <td>0.0</td>\n",
       "      <td>0.0</td>\n",
       "      <td>0.0</td>\n",
       "      <td>0.0</td>\n",
       "      <td>...</td>\n",
       "      <td>10</td>\n",
       "      <td>8</td>\n",
       "      <td>0</td>\n",
       "      <td>0.000346</td>\n",
       "      <td>0.572715</td>\n",
       "      <td>0.207422</td>\n",
       "      <td>0.807727</td>\n",
       "      <td>NaN</td>\n",
       "      <td>NaN</td>\n",
       "      <td>NaN</td>\n",
       "    </tr>\n",
       "    <tr>\n",
       "      <th>...</th>\n",
       "      <td>...</td>\n",
       "      <td>...</td>\n",
       "      <td>...</td>\n",
       "      <td>...</td>\n",
       "      <td>...</td>\n",
       "      <td>...</td>\n",
       "      <td>...</td>\n",
       "      <td>...</td>\n",
       "      <td>...</td>\n",
       "      <td>...</td>\n",
       "      <td>...</td>\n",
       "      <td>...</td>\n",
       "      <td>...</td>\n",
       "      <td>...</td>\n",
       "      <td>...</td>\n",
       "      <td>...</td>\n",
       "      <td>...</td>\n",
       "      <td>...</td>\n",
       "      <td>...</td>\n",
       "      <td>...</td>\n",
       "      <td>...</td>\n",
       "    </tr>\n",
       "    <tr>\n",
       "      <th>1082</th>\n",
       "      <td>2021-09-24</td>\n",
       "      <td>23.222015</td>\n",
       "      <td>0.0</td>\n",
       "      <td>0.0</td>\n",
       "      <td>0.0</td>\n",
       "      <td>0.0</td>\n",
       "      <td>0.0</td>\n",
       "      <td>0.0</td>\n",
       "      <td>0.0</td>\n",
       "      <td>0.0</td>\n",
       "      <td>...</td>\n",
       "      <td>9</td>\n",
       "      <td>24</td>\n",
       "      <td>4</td>\n",
       "      <td>7.783189</td>\n",
       "      <td>46.765087</td>\n",
       "      <td>27.660570</td>\n",
       "      <td>91.885766</td>\n",
       "      <td>5.521163</td>\n",
       "      <td>3.601447</td>\n",
       "      <td>1.743323</td>\n",
       "    </tr>\n",
       "    <tr>\n",
       "      <th>1083</th>\n",
       "      <td>2021-09-25</td>\n",
       "      <td>0.279093</td>\n",
       "      <td>0.0</td>\n",
       "      <td>0.0</td>\n",
       "      <td>0.0</td>\n",
       "      <td>0.0</td>\n",
       "      <td>0.0</td>\n",
       "      <td>0.0</td>\n",
       "      <td>0.0</td>\n",
       "      <td>0.0</td>\n",
       "      <td>...</td>\n",
       "      <td>9</td>\n",
       "      <td>25</td>\n",
       "      <td>5</td>\n",
       "      <td>23.222015</td>\n",
       "      <td>7.783189</td>\n",
       "      <td>46.765087</td>\n",
       "      <td>27.660570</td>\n",
       "      <td>91.885766</td>\n",
       "      <td>5.521163</td>\n",
       "      <td>3.601447</td>\n",
       "    </tr>\n",
       "    <tr>\n",
       "      <th>1084</th>\n",
       "      <td>2021-09-26</td>\n",
       "      <td>0.829626</td>\n",
       "      <td>0.0</td>\n",
       "      <td>0.0</td>\n",
       "      <td>0.0</td>\n",
       "      <td>0.0</td>\n",
       "      <td>0.0</td>\n",
       "      <td>0.0</td>\n",
       "      <td>0.0</td>\n",
       "      <td>0.0</td>\n",
       "      <td>...</td>\n",
       "      <td>9</td>\n",
       "      <td>26</td>\n",
       "      <td>6</td>\n",
       "      <td>0.279093</td>\n",
       "      <td>23.222015</td>\n",
       "      <td>7.783189</td>\n",
       "      <td>46.765087</td>\n",
       "      <td>27.660570</td>\n",
       "      <td>91.885766</td>\n",
       "      <td>5.521163</td>\n",
       "    </tr>\n",
       "    <tr>\n",
       "      <th>1085</th>\n",
       "      <td>2021-09-27</td>\n",
       "      <td>6.211249</td>\n",
       "      <td>0.0</td>\n",
       "      <td>0.0</td>\n",
       "      <td>0.0</td>\n",
       "      <td>0.0</td>\n",
       "      <td>0.0</td>\n",
       "      <td>0.0</td>\n",
       "      <td>0.0</td>\n",
       "      <td>0.0</td>\n",
       "      <td>...</td>\n",
       "      <td>9</td>\n",
       "      <td>27</td>\n",
       "      <td>0</td>\n",
       "      <td>0.829626</td>\n",
       "      <td>0.279093</td>\n",
       "      <td>23.222015</td>\n",
       "      <td>7.783189</td>\n",
       "      <td>46.765087</td>\n",
       "      <td>27.660570</td>\n",
       "      <td>91.885766</td>\n",
       "    </tr>\n",
       "    <tr>\n",
       "      <th>1086</th>\n",
       "      <td>2021-09-28</td>\n",
       "      <td>9.516108</td>\n",
       "      <td>0.0</td>\n",
       "      <td>0.0</td>\n",
       "      <td>0.0</td>\n",
       "      <td>0.0</td>\n",
       "      <td>0.0</td>\n",
       "      <td>0.0</td>\n",
       "      <td>0.0</td>\n",
       "      <td>0.0</td>\n",
       "      <td>...</td>\n",
       "      <td>9</td>\n",
       "      <td>28</td>\n",
       "      <td>1</td>\n",
       "      <td>6.211249</td>\n",
       "      <td>0.829626</td>\n",
       "      <td>0.279093</td>\n",
       "      <td>23.222015</td>\n",
       "      <td>7.783189</td>\n",
       "      <td>46.765087</td>\n",
       "      <td>27.660570</td>\n",
       "    </tr>\n",
       "  </tbody>\n",
       "</table>\n",
       "<p>1083 rows × 10503 columns</p>\n",
       "</div>"
      ],
      "text/plain": [
       "           Date    Obs_Vol  aaron  aav  aayog  abaco  abakus  abandon  abat  \\\n",
       "4    2018-10-04   0.807727    0.0  0.0    0.0    0.0     0.0      0.0   0.0   \n",
       "5    2018-10-05   0.207422    0.0  0.0    0.0    0.0     0.0      0.0   0.0   \n",
       "6    2018-10-06   0.572715    0.0  0.0    0.0    0.0     0.0      0.0   0.0   \n",
       "7    2018-10-07   0.000346    0.0  0.0    0.0    0.0     0.0      0.0   0.0   \n",
       "8    2018-10-08   0.255549    0.0  0.0    0.0    0.0     0.0      0.0   0.0   \n",
       "...         ...        ...    ...  ...    ...    ...     ...      ...   ...   \n",
       "1082 2021-09-24  23.222015    0.0  0.0    0.0    0.0     0.0      0.0   0.0   \n",
       "1083 2021-09-25   0.279093    0.0  0.0    0.0    0.0     0.0      0.0   0.0   \n",
       "1084 2021-09-26   0.829626    0.0  0.0    0.0    0.0     0.0      0.0   0.0   \n",
       "1085 2021-09-27   6.211249    0.0  0.0    0.0    0.0     0.0      0.0   0.0   \n",
       "1086 2021-09-28   9.516108    0.0  0.0    0.0    0.0     0.0      0.0   0.0   \n",
       "\n",
       "      abbc  ...  Month  Day  dayofweek_num      lag_1      lag_2      lag_3  \\\n",
       "4      0.0  ...     10    4              3        NaN        NaN        NaN   \n",
       "5      0.0  ...     10    5              4   0.807727        NaN        NaN   \n",
       "6      0.0  ...     10    6              5   0.207422   0.807727        NaN   \n",
       "7      0.0  ...     10    7              6   0.572715   0.207422   0.807727   \n",
       "8      0.0  ...     10    8              0   0.000346   0.572715   0.207422   \n",
       "...    ...  ...    ...  ...            ...        ...        ...        ...   \n",
       "1082   0.0  ...      9   24              4   7.783189  46.765087  27.660570   \n",
       "1083   0.0  ...      9   25              5  23.222015   7.783189  46.765087   \n",
       "1084   0.0  ...      9   26              6   0.279093  23.222015   7.783189   \n",
       "1085   0.0  ...      9   27              0   0.829626   0.279093  23.222015   \n",
       "1086   0.0  ...      9   28              1   6.211249   0.829626   0.279093   \n",
       "\n",
       "          lag_4      lag_5      lag_6      lag_7  \n",
       "4           NaN        NaN        NaN        NaN  \n",
       "5           NaN        NaN        NaN        NaN  \n",
       "6           NaN        NaN        NaN        NaN  \n",
       "7           NaN        NaN        NaN        NaN  \n",
       "8      0.807727        NaN        NaN        NaN  \n",
       "...         ...        ...        ...        ...  \n",
       "1082  91.885766   5.521163   3.601447   1.743323  \n",
       "1083  27.660570  91.885766   5.521163   3.601447  \n",
       "1084  46.765087  27.660570  91.885766   5.521163  \n",
       "1085   7.783189  46.765087  27.660570  91.885766  \n",
       "1086  23.222015   7.783189  46.765087  27.660570  \n",
       "\n",
       "[1083 rows x 10503 columns]"
      ]
     },
     "execution_count": 21,
     "metadata": {},
     "output_type": "execute_result"
    }
   ],
   "source": [
    "xgb_df"
   ]
  },
  {
   "cell_type": "markdown",
   "metadata": {},
   "source": [
    "## Rolling window for observed volatility"
   ]
  },
  {
   "cell_type": "code",
   "execution_count": 22,
   "metadata": {},
   "outputs": [],
   "source": [
    "xgb_df['rolling_mean'] = xgb_df['Obs_Vol'].rolling(window=7).mean()"
   ]
  },
  {
   "cell_type": "code",
   "execution_count": 23,
   "metadata": {},
   "outputs": [
    {
     "data": {
      "text/html": [
       "<div>\n",
       "<style scoped>\n",
       "    .dataframe tbody tr th:only-of-type {\n",
       "        vertical-align: middle;\n",
       "    }\n",
       "\n",
       "    .dataframe tbody tr th {\n",
       "        vertical-align: top;\n",
       "    }\n",
       "\n",
       "    .dataframe thead th {\n",
       "        text-align: right;\n",
       "    }\n",
       "</style>\n",
       "<table border=\"1\" class=\"dataframe\">\n",
       "  <thead>\n",
       "    <tr style=\"text-align: right;\">\n",
       "      <th></th>\n",
       "      <th>Date</th>\n",
       "      <th>Obs_Vol</th>\n",
       "      <th>aaron</th>\n",
       "      <th>aav</th>\n",
       "      <th>aayog</th>\n",
       "      <th>abaco</th>\n",
       "      <th>abakus</th>\n",
       "      <th>abandon</th>\n",
       "      <th>abat</th>\n",
       "      <th>abbc</th>\n",
       "      <th>...</th>\n",
       "      <th>Day</th>\n",
       "      <th>dayofweek_num</th>\n",
       "      <th>lag_1</th>\n",
       "      <th>lag_2</th>\n",
       "      <th>lag_3</th>\n",
       "      <th>lag_4</th>\n",
       "      <th>lag_5</th>\n",
       "      <th>lag_6</th>\n",
       "      <th>lag_7</th>\n",
       "      <th>rolling_mean</th>\n",
       "    </tr>\n",
       "  </thead>\n",
       "  <tbody>\n",
       "    <tr>\n",
       "      <th>4</th>\n",
       "      <td>2018-10-04</td>\n",
       "      <td>0.807727</td>\n",
       "      <td>0.0</td>\n",
       "      <td>0.0</td>\n",
       "      <td>0.0</td>\n",
       "      <td>0.0</td>\n",
       "      <td>0.0</td>\n",
       "      <td>0.0</td>\n",
       "      <td>0.0</td>\n",
       "      <td>0.0</td>\n",
       "      <td>...</td>\n",
       "      <td>4</td>\n",
       "      <td>3</td>\n",
       "      <td>NaN</td>\n",
       "      <td>NaN</td>\n",
       "      <td>NaN</td>\n",
       "      <td>NaN</td>\n",
       "      <td>NaN</td>\n",
       "      <td>NaN</td>\n",
       "      <td>NaN</td>\n",
       "      <td>NaN</td>\n",
       "    </tr>\n",
       "    <tr>\n",
       "      <th>5</th>\n",
       "      <td>2018-10-05</td>\n",
       "      <td>0.207422</td>\n",
       "      <td>0.0</td>\n",
       "      <td>0.0</td>\n",
       "      <td>0.0</td>\n",
       "      <td>0.0</td>\n",
       "      <td>0.0</td>\n",
       "      <td>0.0</td>\n",
       "      <td>0.0</td>\n",
       "      <td>0.0</td>\n",
       "      <td>...</td>\n",
       "      <td>5</td>\n",
       "      <td>4</td>\n",
       "      <td>0.807727</td>\n",
       "      <td>NaN</td>\n",
       "      <td>NaN</td>\n",
       "      <td>NaN</td>\n",
       "      <td>NaN</td>\n",
       "      <td>NaN</td>\n",
       "      <td>NaN</td>\n",
       "      <td>NaN</td>\n",
       "    </tr>\n",
       "    <tr>\n",
       "      <th>6</th>\n",
       "      <td>2018-10-06</td>\n",
       "      <td>0.572715</td>\n",
       "      <td>0.0</td>\n",
       "      <td>0.0</td>\n",
       "      <td>0.0</td>\n",
       "      <td>0.0</td>\n",
       "      <td>0.0</td>\n",
       "      <td>0.0</td>\n",
       "      <td>0.0</td>\n",
       "      <td>0.0</td>\n",
       "      <td>...</td>\n",
       "      <td>6</td>\n",
       "      <td>5</td>\n",
       "      <td>0.207422</td>\n",
       "      <td>0.807727</td>\n",
       "      <td>NaN</td>\n",
       "      <td>NaN</td>\n",
       "      <td>NaN</td>\n",
       "      <td>NaN</td>\n",
       "      <td>NaN</td>\n",
       "      <td>NaN</td>\n",
       "    </tr>\n",
       "    <tr>\n",
       "      <th>7</th>\n",
       "      <td>2018-10-07</td>\n",
       "      <td>0.000346</td>\n",
       "      <td>0.0</td>\n",
       "      <td>0.0</td>\n",
       "      <td>0.0</td>\n",
       "      <td>0.0</td>\n",
       "      <td>0.0</td>\n",
       "      <td>0.0</td>\n",
       "      <td>0.0</td>\n",
       "      <td>0.0</td>\n",
       "      <td>...</td>\n",
       "      <td>7</td>\n",
       "      <td>6</td>\n",
       "      <td>0.572715</td>\n",
       "      <td>0.207422</td>\n",
       "      <td>0.807727</td>\n",
       "      <td>NaN</td>\n",
       "      <td>NaN</td>\n",
       "      <td>NaN</td>\n",
       "      <td>NaN</td>\n",
       "      <td>NaN</td>\n",
       "    </tr>\n",
       "    <tr>\n",
       "      <th>8</th>\n",
       "      <td>2018-10-08</td>\n",
       "      <td>0.255549</td>\n",
       "      <td>0.0</td>\n",
       "      <td>0.0</td>\n",
       "      <td>0.0</td>\n",
       "      <td>0.0</td>\n",
       "      <td>0.0</td>\n",
       "      <td>0.0</td>\n",
       "      <td>0.0</td>\n",
       "      <td>0.0</td>\n",
       "      <td>...</td>\n",
       "      <td>8</td>\n",
       "      <td>0</td>\n",
       "      <td>0.000346</td>\n",
       "      <td>0.572715</td>\n",
       "      <td>0.207422</td>\n",
       "      <td>0.807727</td>\n",
       "      <td>NaN</td>\n",
       "      <td>NaN</td>\n",
       "      <td>NaN</td>\n",
       "      <td>NaN</td>\n",
       "    </tr>\n",
       "    <tr>\n",
       "      <th>...</th>\n",
       "      <td>...</td>\n",
       "      <td>...</td>\n",
       "      <td>...</td>\n",
       "      <td>...</td>\n",
       "      <td>...</td>\n",
       "      <td>...</td>\n",
       "      <td>...</td>\n",
       "      <td>...</td>\n",
       "      <td>...</td>\n",
       "      <td>...</td>\n",
       "      <td>...</td>\n",
       "      <td>...</td>\n",
       "      <td>...</td>\n",
       "      <td>...</td>\n",
       "      <td>...</td>\n",
       "      <td>...</td>\n",
       "      <td>...</td>\n",
       "      <td>...</td>\n",
       "      <td>...</td>\n",
       "      <td>...</td>\n",
       "      <td>...</td>\n",
       "    </tr>\n",
       "    <tr>\n",
       "      <th>1082</th>\n",
       "      <td>2021-09-24</td>\n",
       "      <td>23.222015</td>\n",
       "      <td>0.0</td>\n",
       "      <td>0.0</td>\n",
       "      <td>0.0</td>\n",
       "      <td>0.0</td>\n",
       "      <td>0.0</td>\n",
       "      <td>0.0</td>\n",
       "      <td>0.0</td>\n",
       "      <td>0.0</td>\n",
       "      <td>...</td>\n",
       "      <td>24</td>\n",
       "      <td>4</td>\n",
       "      <td>7.783189</td>\n",
       "      <td>46.765087</td>\n",
       "      <td>27.660570</td>\n",
       "      <td>91.885766</td>\n",
       "      <td>5.521163</td>\n",
       "      <td>3.601447</td>\n",
       "      <td>1.743323</td>\n",
       "      <td>29.491320</td>\n",
       "    </tr>\n",
       "    <tr>\n",
       "      <th>1083</th>\n",
       "      <td>2021-09-25</td>\n",
       "      <td>0.279093</td>\n",
       "      <td>0.0</td>\n",
       "      <td>0.0</td>\n",
       "      <td>0.0</td>\n",
       "      <td>0.0</td>\n",
       "      <td>0.0</td>\n",
       "      <td>0.0</td>\n",
       "      <td>0.0</td>\n",
       "      <td>0.0</td>\n",
       "      <td>...</td>\n",
       "      <td>25</td>\n",
       "      <td>5</td>\n",
       "      <td>23.222015</td>\n",
       "      <td>7.783189</td>\n",
       "      <td>46.765087</td>\n",
       "      <td>27.660570</td>\n",
       "      <td>91.885766</td>\n",
       "      <td>5.521163</td>\n",
       "      <td>3.601447</td>\n",
       "      <td>29.016698</td>\n",
       "    </tr>\n",
       "    <tr>\n",
       "      <th>1084</th>\n",
       "      <td>2021-09-26</td>\n",
       "      <td>0.829626</td>\n",
       "      <td>0.0</td>\n",
       "      <td>0.0</td>\n",
       "      <td>0.0</td>\n",
       "      <td>0.0</td>\n",
       "      <td>0.0</td>\n",
       "      <td>0.0</td>\n",
       "      <td>0.0</td>\n",
       "      <td>0.0</td>\n",
       "      <td>...</td>\n",
       "      <td>26</td>\n",
       "      <td>6</td>\n",
       "      <td>0.279093</td>\n",
       "      <td>23.222015</td>\n",
       "      <td>7.783189</td>\n",
       "      <td>46.765087</td>\n",
       "      <td>27.660570</td>\n",
       "      <td>91.885766</td>\n",
       "      <td>5.521163</td>\n",
       "      <td>28.346478</td>\n",
       "    </tr>\n",
       "    <tr>\n",
       "      <th>1085</th>\n",
       "      <td>2021-09-27</td>\n",
       "      <td>6.211249</td>\n",
       "      <td>0.0</td>\n",
       "      <td>0.0</td>\n",
       "      <td>0.0</td>\n",
       "      <td>0.0</td>\n",
       "      <td>0.0</td>\n",
       "      <td>0.0</td>\n",
       "      <td>0.0</td>\n",
       "      <td>0.0</td>\n",
       "      <td>...</td>\n",
       "      <td>27</td>\n",
       "      <td>0</td>\n",
       "      <td>0.829626</td>\n",
       "      <td>0.279093</td>\n",
       "      <td>23.222015</td>\n",
       "      <td>7.783189</td>\n",
       "      <td>46.765087</td>\n",
       "      <td>27.660570</td>\n",
       "      <td>91.885766</td>\n",
       "      <td>16.107261</td>\n",
       "    </tr>\n",
       "    <tr>\n",
       "      <th>1086</th>\n",
       "      <td>2021-09-28</td>\n",
       "      <td>9.516108</td>\n",
       "      <td>0.0</td>\n",
       "      <td>0.0</td>\n",
       "      <td>0.0</td>\n",
       "      <td>0.0</td>\n",
       "      <td>0.0</td>\n",
       "      <td>0.0</td>\n",
       "      <td>0.0</td>\n",
       "      <td>0.0</td>\n",
       "      <td>...</td>\n",
       "      <td>28</td>\n",
       "      <td>1</td>\n",
       "      <td>6.211249</td>\n",
       "      <td>0.829626</td>\n",
       "      <td>0.279093</td>\n",
       "      <td>23.222015</td>\n",
       "      <td>7.783189</td>\n",
       "      <td>46.765087</td>\n",
       "      <td>27.660570</td>\n",
       "      <td>13.515195</td>\n",
       "    </tr>\n",
       "  </tbody>\n",
       "</table>\n",
       "<p>1083 rows × 10504 columns</p>\n",
       "</div>"
      ],
      "text/plain": [
       "           Date    Obs_Vol  aaron  aav  aayog  abaco  abakus  abandon  abat  \\\n",
       "4    2018-10-04   0.807727    0.0  0.0    0.0    0.0     0.0      0.0   0.0   \n",
       "5    2018-10-05   0.207422    0.0  0.0    0.0    0.0     0.0      0.0   0.0   \n",
       "6    2018-10-06   0.572715    0.0  0.0    0.0    0.0     0.0      0.0   0.0   \n",
       "7    2018-10-07   0.000346    0.0  0.0    0.0    0.0     0.0      0.0   0.0   \n",
       "8    2018-10-08   0.255549    0.0  0.0    0.0    0.0     0.0      0.0   0.0   \n",
       "...         ...        ...    ...  ...    ...    ...     ...      ...   ...   \n",
       "1082 2021-09-24  23.222015    0.0  0.0    0.0    0.0     0.0      0.0   0.0   \n",
       "1083 2021-09-25   0.279093    0.0  0.0    0.0    0.0     0.0      0.0   0.0   \n",
       "1084 2021-09-26   0.829626    0.0  0.0    0.0    0.0     0.0      0.0   0.0   \n",
       "1085 2021-09-27   6.211249    0.0  0.0    0.0    0.0     0.0      0.0   0.0   \n",
       "1086 2021-09-28   9.516108    0.0  0.0    0.0    0.0     0.0      0.0   0.0   \n",
       "\n",
       "      abbc  ...  Day  dayofweek_num      lag_1      lag_2      lag_3  \\\n",
       "4      0.0  ...    4              3        NaN        NaN        NaN   \n",
       "5      0.0  ...    5              4   0.807727        NaN        NaN   \n",
       "6      0.0  ...    6              5   0.207422   0.807727        NaN   \n",
       "7      0.0  ...    7              6   0.572715   0.207422   0.807727   \n",
       "8      0.0  ...    8              0   0.000346   0.572715   0.207422   \n",
       "...    ...  ...  ...            ...        ...        ...        ...   \n",
       "1082   0.0  ...   24              4   7.783189  46.765087  27.660570   \n",
       "1083   0.0  ...   25              5  23.222015   7.783189  46.765087   \n",
       "1084   0.0  ...   26              6   0.279093  23.222015   7.783189   \n",
       "1085   0.0  ...   27              0   0.829626   0.279093  23.222015   \n",
       "1086   0.0  ...   28              1   6.211249   0.829626   0.279093   \n",
       "\n",
       "          lag_4      lag_5      lag_6      lag_7  rolling_mean  \n",
       "4           NaN        NaN        NaN        NaN           NaN  \n",
       "5           NaN        NaN        NaN        NaN           NaN  \n",
       "6           NaN        NaN        NaN        NaN           NaN  \n",
       "7           NaN        NaN        NaN        NaN           NaN  \n",
       "8      0.807727        NaN        NaN        NaN           NaN  \n",
       "...         ...        ...        ...        ...           ...  \n",
       "1082  91.885766   5.521163   3.601447   1.743323     29.491320  \n",
       "1083  27.660570  91.885766   5.521163   3.601447     29.016698  \n",
       "1084  46.765087  27.660570  91.885766   5.521163     28.346478  \n",
       "1085   7.783189  46.765087  27.660570  91.885766     16.107261  \n",
       "1086  23.222015   7.783189  46.765087  27.660570     13.515195  \n",
       "\n",
       "[1083 rows x 10504 columns]"
      ]
     },
     "execution_count": 23,
     "metadata": {},
     "output_type": "execute_result"
    }
   ],
   "source": [
    "xgb_df"
   ]
  },
  {
   "cell_type": "markdown",
   "metadata": {},
   "source": [
    "## XGBoost Attempt"
   ]
  },
  {
   "cell_type": "code",
   "execution_count": 24,
   "metadata": {},
   "outputs": [],
   "source": [
    "xgb_df = xgb_df.dropna()"
   ]
  },
  {
   "cell_type": "code",
   "execution_count": 25,
   "metadata": {},
   "outputs": [],
   "source": [
    "df1 = xgb_df.iloc[:, 3:]"
   ]
  },
  {
   "cell_type": "code",
   "execution_count": 26,
   "metadata": {},
   "outputs": [],
   "source": [
    "train = xgb_df[:-4].dropna()\n",
    "test = xgb_df[-4:].dropna()"
   ]
  },
  {
   "cell_type": "code",
   "execution_count": 27,
   "metadata": {
    "scrolled": true
   },
   "outputs": [
    {
     "name": "stdout",
     "output_type": "stream",
     "text": [
      "[20:54:09] WARNING: ../src/objective/regression_obj.cu:188: reg:linear is now deprecated in favor of reg:squarederror.\n"
     ]
    },
    {
     "data": {
      "text/plain": [
       "XGBRegressor(base_score=0.5, booster='gbtree', colsample_bylevel=1,\n",
       "             colsample_bynode=1, colsample_bytree=1, enable_categorical=False,\n",
       "             gamma=0, gpu_id=-1, importance_type=None,\n",
       "             interaction_constraints='', learning_rate=0.01, max_delta_step=0,\n",
       "             max_depth=6, min_child_weight=1, missing=nan,\n",
       "             monotone_constraints='()', n_estimators=10, n_jobs=16,\n",
       "             num_parallel_tree=1, objective='reg:linear', predictor='auto',\n",
       "             random_state=123, reg_alpha=0, reg_lambda=1, scale_pos_weight=1,\n",
       "             seed=123, subsample=1, tree_method='exact', validate_parameters=1,\n",
       "             verbosity=None)"
      ]
     },
     "execution_count": 27,
     "metadata": {},
     "output_type": "execute_result"
    }
   ],
   "source": [
    "xgb_model = xgb.XGBRegressor(objective ='reg:linear',\n",
    "                  n_estimators = 10, learning_rate=0.01, seed = 123)\n",
    "xgb_model.fit(train[df1.columns], train[\"Obs_Vol\"], verbose = True, eval_metric=mean_squared_error )"
   ]
  },
  {
   "cell_type": "code",
   "execution_count": 28,
   "metadata": {},
   "outputs": [
    {
     "name": "stdout",
     "output_type": "stream",
     "text": [
      "MAE: 4.384\n",
      "MSE: 22.377\n"
     ]
    }
   ],
   "source": [
    "y_pred = xgb_model.predict(test[df1.columns])\n",
    "mae = mean_absolute_error(test[\"Obs_Vol\"], y_pred)\n",
    "mse = mean_squared_error(test[\"Obs_Vol\"], y_pred)\n",
    "print('MAE: %.3f' % mae)\n",
    "print('MSE: %.3f' % mse)"
   ]
  },
  {
   "cell_type": "code",
   "execution_count": 29,
   "metadata": {},
   "outputs": [
    {
     "data": {
      "image/png": "[encoded data removed]",
      "text/plain": [
       "<Figure size 432x288 with 1 Axes>"
      ]
     },
     "metadata": {
      "needs_background": "light"
     },
     "output_type": "display_data"
    }
   ],
   "source": [
    "# Plotting estimated XGBoost volatility against actual volatility\n",
    "xgb_vol = pd.DataFrame(y_pred)\n",
    "xgb_vol.index = test['Date']\n",
    "xgb_vol = xgb_vol.rename(columns={0: \"Volatility\"})\n",
    "\n",
    "actual_vol = pd.DataFrame(test['Obs_Vol'])\n",
    "actual_vol.index = test['Date']\n",
    "\n",
    "# Plot the actual Bitcoin volatility\n",
    "# plt.gca().xaxis.set_major_locator(mdates.DayLocator(interval=1))\n",
    "plt.plot(actual_vol['Obs_Vol'], color = 'grey', alpha = 0.4, label = 'Actual Volatility')\n",
    "\n",
    "# Plot XGBoost estimated volatility\n",
    "plt.plot(xgb_vol['Volatility'], color = 'blue', label = 'XGBoost Volatility')\n",
    "\n",
    "plt.legend(loc = 'upper right')\n",
    "plt.show()"
   ]
  },
  {
   "cell_type": "code",
   "execution_count": 30,
   "metadata": {},
   "outputs": [],
   "source": [
    "y_pred = xgb_model.predict(train[df1.columns])"
   ]
  },
  {
   "cell_type": "code",
   "execution_count": 31,
   "metadata": {},
   "outputs": [
    {
     "data": {
      "image/png": "[encoded data removed]",
      "text/plain": [
       "<Figure size 432x288 with 1 Axes>"
      ]
     },
     "metadata": {
      "needs_background": "light"
     },
     "output_type": "display_data"
    }
   ],
   "source": [
    "# Plotting estimated XGBoost volatility against actual volatility (using all training data)\n",
    "xgb_vol = pd.DataFrame(y_pred)\n",
    "xgb_vol.index = train['Date']\n",
    "xgb_vol = xgb_vol.rename(columns={0: \"Volatility\"})\n",
    "\n",
    "actual_vol = pd.DataFrame(train['Obs_Vol'])\n",
    "actual_vol.index = train['Date']\n",
    "\n",
    "# Plot the actual Bitcoin volatility\n",
    "# plt.gca().xaxis.set_major_locator(mdates.DayLocator(interval=1))\n",
    "plt.plot(actual_vol['Obs_Vol'], color = 'grey', alpha = 0.4, label = 'Actual Volatility')\n",
    "\n",
    "# Plot XGBoost estimated volatility\n",
    "plt.plot(xgb_vol['Volatility'], color = 'blue', label = 'XGBoost Volatility')\n",
    "\n",
    "plt.legend(loc = 'upper right')\n",
    "plt.show()"
   ]
  },
  {
   "cell_type": "markdown",
   "metadata": {},
   "source": [
    "## Finetuning lags for XGBoost"
   ]
  },
  {
   "cell_type": "code",
   "execution_count": 33,
   "metadata": {
    "scrolled": true,
    "tags": []
   },
   "outputs": [
    {
     "name": "stdout",
     "output_type": "stream",
     "text": [
      "lag1_df\n",
      "[20:58:52] WARNING: ../src/objective/regression_obj.cu:188: reg:linear is now deprecated in favor of reg:squarederror.\n",
      "[20:58:53] WARNING: ../src/objective/regression_obj.cu:188: reg:linear is now deprecated in favor of reg:squarederror.\n",
      "MAE: 7.539\n",
      "MSE: 56.842\n"
     ]
    },
    {
     "data": {
      "image/png": "[encoded data removed]",
      "text/plain": [
       "<Figure size 432x288 with 1 Axes>"
      ]
     },
     "metadata": {
      "needs_background": "light"
     },
     "output_type": "display_data"
    },
    {
     "name": "stdout",
     "output_type": "stream",
     "text": [
      "lag2_df\n",
      "[20:58:55] WARNING: ../src/objective/regression_obj.cu:188: reg:linear is now deprecated in favor of reg:squarederror.\n",
      "[20:58:56] WARNING: ../src/objective/regression_obj.cu:188: reg:linear is now deprecated in favor of reg:squarederror.\n",
      "MAE: 5.883\n",
      "MSE: 37.338\n"
     ]
    },
    {
     "data": {
      "image/png": "[encoded data removed]",
      "text/plain": [
       "<Figure size 432x288 with 1 Axes>"
      ]
     },
     "metadata": {
      "needs_background": "light"
     },
     "output_type": "display_data"
    },
    {
     "name": "stdout",
     "output_type": "stream",
     "text": [
      "lag3_df\n",
      "[20:58:58] WARNING: ../src/objective/regression_obj.cu:188: reg:linear is now deprecated in favor of reg:squarederror.\n",
      "[20:58:59] WARNING: ../src/objective/regression_obj.cu:188: reg:linear is now deprecated in favor of reg:squarederror.\n",
      "MAE: 2.812\n",
      "MSE: 9.087\n"
     ]
    },
    {
     "data": {
      "image/png": "[encoded data removed]",
      "text/plain": [
       "<Figure size 432x288 with 1 Axes>"
      ]
     },
     "metadata": {
      "needs_background": "light"
     },
     "output_type": "display_data"
    },
    {
     "name": "stdout",
     "output_type": "stream",
     "text": [
      "lag4_df\n",
      "[20:59:01] WARNING: ../src/objective/regression_obj.cu:188: reg:linear is now deprecated in favor of reg:squarederror.\n",
      "[20:59:03] WARNING: ../src/objective/regression_obj.cu:188: reg:linear is now deprecated in favor of reg:squarederror.\n",
      "MAE: 4.384\n",
      "MSE: 22.377\n"
     ]
    },
    {
     "data": {
      "image/png": "[encoded data removed]",
      "text/plain": [
       "<Figure size 432x288 with 1 Axes>"
      ]
     },
     "metadata": {
      "needs_background": "light"
     },
     "output_type": "display_data"
    },
    {
     "name": "stdout",
     "output_type": "stream",
     "text": [
      "lag5_df\n",
      "[20:59:04] WARNING: ../src/objective/regression_obj.cu:188: reg:linear is now deprecated in favor of reg:squarederror.\n",
      "[20:59:06] WARNING: ../src/objective/regression_obj.cu:188: reg:linear is now deprecated in favor of reg:squarederror.\n",
      "MAE: 5.591\n",
      "MSE: 49.268\n"
     ]
    },
    {
     "data": {
      "image/png": "[encoded data removed]",
      "text/plain": [
       "<Figure size 432x288 with 1 Axes>"
      ]
     },
     "metadata": {
      "needs_background": "light"
     },
     "output_type": "display_data"
    },
    {
     "name": "stdout",
     "output_type": "stream",
     "text": [
      "lag6_df\n",
      "[20:59:08] WARNING: ../src/objective/regression_obj.cu:188: reg:linear is now deprecated in favor of reg:squarederror.\n",
      "[20:59:09] WARNING: ../src/objective/regression_obj.cu:188: reg:linear is now deprecated in favor of reg:squarederror.\n",
      "MAE: 7.246\n",
      "MSE: 87.611\n"
     ]
    },
    {
     "data": {
      "image/png": "[encoded data removed]",
      "text/plain": [
       "<Figure size 432x288 with 1 Axes>"
      ]
     },
     "metadata": {
      "needs_background": "light"
     },
     "output_type": "display_data"
    },
    {
     "name": "stdout",
     "output_type": "stream",
     "text": [
      "lag7_df\n",
      "[20:59:11] WARNING: ../src/objective/regression_obj.cu:188: reg:linear is now deprecated in favor of reg:squarederror.\n",
      "[20:59:12] WARNING: ../src/objective/regression_obj.cu:188: reg:linear is now deprecated in favor of reg:squarederror.\n",
      "MAE: 13.452\n",
      "MSE: 377.605\n"
     ]
    },
    {
     "data": {
      "image/png": "[encoded data removed]",
      "text/plain": [
       "<Figure size 432x288 with 1 Axes>"
      ]
     },
     "metadata": {
      "needs_background": "light"
     },
     "output_type": "display_data"
    },
    {
     "name": "stdout",
     "output_type": "stream",
     "text": [
      "lag8_df\n",
      "[20:59:14] WARNING: ../src/objective/regression_obj.cu:188: reg:linear is now deprecated in favor of reg:squarederror.\n",
      "[20:59:15] WARNING: ../src/objective/regression_obj.cu:188: reg:linear is now deprecated in favor of reg:squarederror.\n",
      "MAE: 14.337\n",
      "MSE: 405.672\n"
     ]
    },
    {
     "data": {
      "image/png": "[encoded data removed]",
      "text/plain": [
       "<Figure size 432x288 with 1 Axes>"
      ]
     },
     "metadata": {
      "needs_background": "light"
     },
     "output_type": "display_data"
    },
    {
     "name": "stdout",
     "output_type": "stream",
     "text": [
      "lag9_df\n",
      "[20:59:17] WARNING: ../src/objective/regression_obj.cu:188: reg:linear is now deprecated in favor of reg:squarederror.\n",
      "[20:59:18] WARNING: ../src/objective/regression_obj.cu:188: reg:linear is now deprecated in favor of reg:squarederror.\n",
      "MAE: 22.555\n",
      "MSE: 1253.356\n"
     ]
    },
    {
     "data": {
      "image/png": "[encoded data removed]",
      "text/plain": [
       "<Figure size 432x288 with 1 Axes>"
      ]
     },
     "metadata": {
      "needs_background": "light"
     },
     "output_type": "display_data"
    },
    {
     "data": {
      "image/png": "[encoded data removed]",
      "text/plain": [
       "<Figure size 432x288 with 1 Axes>"
      ]
     },
     "metadata": {
      "needs_background": "light"
     },
     "output_type": "display_data"
    }
   ],
   "source": [
    "lag_score_df = pd.DataFrame(columns = [\"lag\", \"mae\"])\n",
    "lag_model_dict = {}\n",
    "for lag in lag_dict.keys():\n",
    "    print(lag)\n",
    "    xgb_df = lag_dict[lag]\n",
    "    \n",
    "    xgb_df['Date'] = pd.to_datetime(xgb_df['Date'])\n",
    "    xgb_df['Year'] = xgb_df['Date'].dt.year \n",
    "    xgb_df['Month'] = xgb_df['Date'].dt.month \n",
    "    xgb_df['Day'] = xgb_df['Date'].dt.day\n",
    "    xgb_df['dayofweek_num'] = xgb_df['Date'].dt.dayofweek\n",
    "    \n",
    "    xgb_df = get_lags(1, 8, xgb_df)\n",
    "    xgb_df['rolling_mean'] = xgb_df['Obs_Vol'].rolling(window=7).mean()\n",
    "    \n",
    "    xgb_df = xgb_df.dropna()\n",
    "    df1 = xgb_df.iloc[:, 3:]\n",
    "    \n",
    "    lag_no = int(lag[3])\n",
    "    train = xgb_df[:-(lag_no)].dropna()\n",
    "    test = xgb_df[-(lag_no):].dropna()\n",
    "    \n",
    "    xgb_model = xgb.XGBRegressor(objective ='reg:linear',\n",
    "                  n_estimators = 10, learning_rate=0.01, seed = 123)\n",
    "    xgb_model.fit(train[df1.columns], train[\"Obs_Vol\"], verbose = True, eval_metric=mean_squared_error )\n",
    "    \n",
    "    lag_model_dict[\"model_lag{}\".format(str(lag_no))] = xgb_model.fit(train[df1.columns], train[\"Obs_Vol\"], verbose = True, eval_metric=mean_squared_error )\n",
    "    \n",
    "    y_pred = xgb_model.predict(test[df1.columns])\n",
    "    mae = mean_absolute_error(test[\"Obs_Vol\"], y_pred)\n",
    "    mse = mean_squared_error(test[\"Obs_Vol\"], y_pred)\n",
    "    print('MAE: %.3f' % mae)\n",
    "    print('MSE: %.3f' % mse)\n",
    "    \n",
    "    # Plotting estimated XGBoost volatility against actual volatility\n",
    "    xgb_vol = pd.DataFrame(y_pred)\n",
    "    xgb_vol.index = test['Date']\n",
    "    xgb_vol = xgb_vol.rename(columns={0: \"Volatility\"})\n",
    "\n",
    "    actual_vol = pd.DataFrame(test['Obs_Vol'])\n",
    "    actual_vol.index = test['Date']\n",
    "\n",
    "    # Plot the actual Bitcoin volatility\n",
    "    # plt.gca().xaxis.set_major_locator(mdates.DayLocator(interval=1))\n",
    "    plt.plot(actual_vol['Obs_Vol'], color = 'grey', alpha = 0.4, label = 'Actual Volatility')\n",
    "\n",
    "    # Plot XGBoost estimated volatility\n",
    "    plt.plot(xgb_vol['Volatility'], color = 'blue', label = 'XGBoost Volatility')\n",
    "\n",
    "    plt.legend(loc = 'upper right')\n",
    "    plt.show()\n",
    "    \n",
    "    lag_score_df = lag_score_df.append({\"lag\": lag_no, \"mae\": mae}, ignore_index=True)\n",
    "plt.plot(lag_score_df[\"lag\"], lag_score_df[\"mae\"], 'go-', linewidth=2)\n",
    "plt.xlabel(\"lag\")\n",
    "plt.ylabel(\"mae\")\n",
    "plt.show()"
   ]
  },
  {
   "cell_type": "code",
   "execution_count": 35,
   "metadata": {},
   "outputs": [
    {
     "data": {
      "text/plain": [
       "XGBRegressor(base_score=0.5, booster='gbtree', colsample_bylevel=1,\n",
       "             colsample_bynode=1, colsample_bytree=1, enable_categorical=False,\n",
       "             gamma=0, gpu_id=-1, importance_type=None,\n",
       "             interaction_constraints='', learning_rate=0.01, max_delta_step=0,\n",
       "             max_depth=6, min_child_weight=1, missing=nan,\n",
       "             monotone_constraints='()', n_estimators=10, n_jobs=16,\n",
       "             num_parallel_tree=1, objective='reg:linear', predictor='auto',\n",
       "             random_state=123, reg_alpha=0, reg_lambda=1, scale_pos_weight=1,\n",
       "             seed=123, subsample=1, tree_method='exact', validate_parameters=1,\n",
       "             verbosity=None)"
      ]
     },
     "execution_count": 35,
     "metadata": {},
     "output_type": "execute_result"
    }
   ],
   "source": [
    "lag_model_dict['model_lag6']"
   ]
  },
  {
   "cell_type": "markdown",
   "metadata": {
    "tags": []
   },
   "source": [
    "## Hyperparameter and lag tuning for XGBoost"
   ]
  },
  {
   "cell_type": "code",
   "execution_count": 33,
   "metadata": {},
   "outputs": [],
   "source": [
    "# param_grid = {\n",
    "#             'min_child_weight': [1, 5, 10],\n",
    "#             'gamma': [0.5, 2, 5],\n",
    "#             'subsample': [0.6, 1.0, 1.4],\n",
    "#             'colsample_bytree': [0.6, 1.0, 1.5],\n",
    "#             'max_depth': [3, 5, 8]\n",
    "#             }"
   ]
  },
  {
   "cell_type": "code",
   "execution_count": 42,
   "metadata": {},
   "outputs": [],
   "source": [
    "param_grid = {\n",
    "            'min_child_weight': [1, 5],\n",
    "            'gamma': [0.5, 2],\n",
    "            'subsample': [0.6, 1.0],\n",
    "            'colsample_bytree': [0.6, 1.0],\n",
    "            'max_depth': [3, 8],\n",
    "            'seed': [123],\n",
    "            'learning_rate': [0.01],\n",
    "            'n_estimators' : [10]\n",
    "            }"
   ]
  },
  {
   "cell_type": "code",
   "execution_count": 43,
   "metadata": {},
   "outputs": [],
   "source": [
    "def xgboost_tuning(param_grid):\n",
    "    model_dict = {}\n",
    "    lag_score_df = pd.DataFrame(columns = [\"lag\", \"mae\"])\n",
    "    for lag in lag_dict.keys():\n",
    "        print(lag)\n",
    "        xgb_df = lag_dict[lag]\n",
    "\n",
    "        xgb_df['Date'] = pd.to_datetime(xgb_df['Date'])\n",
    "        xgb_df['Year'] = xgb_df['Date'].dt.year \n",
    "        xgb_df['Month'] = xgb_df['Date'].dt.month \n",
    "        xgb_df['Day'] = xgb_df['Date'].dt.day\n",
    "        xgb_df['dayofweek_num'] = xgb_df['Date'].dt.dayofweek\n",
    "\n",
    "        xgb_df = get_lags(1, 8, xgb_df)\n",
    "        xgb_df['rolling_mean'] = xgb_df['Obs_Vol'].rolling(window=7).mean()\n",
    "\n",
    "        xgb_df = xgb_df.dropna()\n",
    "        df1 = xgb_df.iloc[:, 3:]\n",
    "\n",
    "        lag_no = int(lag[3])\n",
    "        train = xgb_df[:-(lag_no)].dropna()\n",
    "        test = xgb_df[-(lag_no):].dropna()\n",
    "\n",
    "        # Hyperparameter tuning\n",
    "        n_folds = 5\n",
    "\n",
    "        xgb_model = GridSearchCV(estimator=xgb.XGBRegressor(),\n",
    "                                    param_grid=param_grid,\n",
    "                                    cv=KFold(n_splits=n_folds,\n",
    "                                            shuffle=True),\n",
    "                                     scoring=\"neg_mean_squared_error\")\n",
    "\n",
    "        xgb_model.fit(train[df1.columns], train[\"Obs_Vol\"], verbose = True, eval_metric=mean_squared_error )\n",
    "\n",
    "        model_dict[\"model_lag{}\".format(str(lag_no))] = xgb_model.fit(train[df1.columns], train[\"Obs_Vol\"], verbose = True, eval_metric=mean_squared_error )\n",
    "\n",
    "        y_pred = xgb_model.predict(test[df1.columns])\n",
    "        mae = mean_absolute_error(test[\"Obs_Vol\"], y_pred)\n",
    "        mse = mean_squared_error(test[\"Obs_Vol\"], y_pred)\n",
    "        print('MAE: %.3f' % mae)\n",
    "        print('MSE: %.3f' % mse)\n",
    "\n",
    "        # Plotting estimated XGBoost volatility against actual volatility\n",
    "        xgb_vol = pd.DataFrame(y_pred)\n",
    "        xgb_vol.index = test['Date']\n",
    "        xgb_vol = xgb_vol.rename(columns={0: \"Volatility\"})\n",
    "\n",
    "        actual_vol = pd.DataFrame(test['Obs_Vol'])\n",
    "        actual_vol.index = test['Date']\n",
    "\n",
    "        # Plot the actual Bitcoin volatility\n",
    "        # plt.gca().xaxis.set_major_locator(mdates.DayLocator(interval=1))\n",
    "        plt.plot(actual_vol['Obs_Vol'], color = 'grey', alpha = 0.4, label = 'Actual Volatility')\n",
    "\n",
    "        # Plot XGBoost estimated volatility\n",
    "        plt.plot(xgb_vol['Volatility'], color = 'blue', label = 'XGBoost Volatility')\n",
    "\n",
    "        plt.legend(loc = 'upper right')\n",
    "        plt.show()\n",
    "\n",
    "        lag_score_df = lag_score_df.append({\"lag\": lag_no, \"mae\": mae}, ignore_index=True)\n",
    "    plt.plot(lag_score_df[\"lag\"], lag_score_df[\"mae\"], 'go-', linewidth=2)\n",
    "    plt.xlabel(\"lag\")\n",
    "    plt.ylabel(\"mae\")\n",
    "    plt.show()\n",
    "    return model_dict, lag_score_df"
   ]
  },
  {
   "cell_type": "code",
   "execution_count": null,
   "metadata": {},
   "outputs": [
    {
     "name": "stdout",
     "output_type": "stream",
     "text": [
      "lag1_df\n",
      "MAE: 7.779\n",
      "MSE: 60.509\n"
     ]
    },
    {
     "data": {
      "image/png": "[encoded data removed]",
      "text/plain": [
       "<Figure size 432x288 with 1 Axes>"
      ]
     },
     "metadata": {
      "needs_background": "light"
     },
     "output_type": "display_data"
    },
    {
     "name": "stdout",
     "output_type": "stream",
     "text": [
      "lag2_df\n",
      "MAE: 5.964\n",
      "MSE: 38.529\n"
     ]
    },
    {
     "data": {
      "image/png": "[encoded data removed]",
      "text/plain": [
       "<Figure size 432x288 with 1 Axes>"
      ]
     },
     "metadata": {
      "needs_background": "light"
     },
     "output_type": "display_data"
    },
    {
     "name": "stdout",
     "output_type": "stream",
     "text": [
      "lag3_df\n"
     ]
    }
   ],
   "source": [
    "%%time\n",
    "model_dict, lag_score_df = xgboost_tuning(param_grid)"
   ]
  },
  {
   "cell_type": "code",
   "execution_count": 33,
   "metadata": {},
   "outputs": [
    {
     "name": "stdout",
     "output_type": "stream",
     "text": [
      "lag1_df\n",
      "MAE: 10.432\n",
      "MSE: 108.832\n"
     ]
    },
    {
     "data": {
      "image/png": "[encoded data removed]",
      "text/plain": [
       "<Figure size 432x288 with 1 Axes>"
      ]
     },
     "metadata": {
      "needs_background": "light"
     },
     "output_type": "display_data"
    },
    {
     "name": "stdout",
     "output_type": "stream",
     "text": [
      "lag2_df\n",
      "MAE: 14.181\n",
      "MSE: 210.223\n"
     ]
    },
    {
     "data": {
      "image/png": "[encoded data removed]",
      "text/plain": [
       "<Figure size 432x288 with 1 Axes>"
      ]
     },
     "metadata": {
      "needs_background": "light"
     },
     "output_type": "display_data"
    },
    {
     "name": "stdout",
     "output_type": "stream",
     "text": [
      "lag3_df\n",
      "MAE: 23.650\n",
      "MSE: 725.429\n"
     ]
    },
    {
     "data": {
      "image/png": "[encoded data removed]",
      "text/plain": [
       "<Figure size 432x288 with 1 Axes>"
      ]
     },
     "metadata": {
      "needs_background": "light"
     },
     "output_type": "display_data"
    },
    {
     "name": "stdout",
     "output_type": "stream",
     "text": [
      "lag4_df\n",
      "MAE: 25.461\n",
      "MSE: 932.006\n"
     ]
    },
    {
     "data": {
      "image/png": "[encoded data removed]",
      "text/plain": [
       "<Figure size 432x288 with 1 Axes>"
      ]
     },
     "metadata": {
      "needs_background": "light"
     },
     "output_type": "display_data"
    },
    {
     "name": "stdout",
     "output_type": "stream",
     "text": [
      "lag5_df\n",
      "MAE: 21.935\n",
      "MSE: 577.664\n"
     ]
    },
    {
     "data": {
      "image/png": "[encoded data removed]",
      "text/plain": [
       "<Figure size 432x288 with 1 Axes>"
      ]
     },
     "metadata": {
      "needs_background": "light"
     },
     "output_type": "display_data"
    },
    {
     "name": "stdout",
     "output_type": "stream",
     "text": [
      "lag6_df\n",
      "MAE: 14.289\n",
      "MSE: 531.539\n"
     ]
    },
    {
     "data": {
      "image/png": "[encoded data removed]",
      "text/plain": [
       "<Figure size 432x288 with 1 Axes>"
      ]
     },
     "metadata": {
      "needs_background": "light"
     },
     "output_type": "display_data"
    },
    {
     "name": "stdout",
     "output_type": "stream",
     "text": [
      "lag7_df\n",
      "MAE: 18.002\n",
      "MSE: 655.871\n"
     ]
    },
    {
     "data": {
      "image/png": "[encoded data removed]",
      "text/plain": [
       "<Figure size 432x288 with 1 Axes>"
      ]
     },
     "metadata": {
      "needs_background": "light"
     },
     "output_type": "display_data"
    },
    {
     "name": "stdout",
     "output_type": "stream",
     "text": [
      "lag8_df\n",
      "MAE: 15.567\n",
      "MSE: 304.364\n"
     ]
    },
    {
     "data": {
      "image/png": "[encoded data removed]",
      "text/plain": [
       "<Figure size 432x288 with 1 Axes>"
      ]
     },
     "metadata": {
      "needs_background": "light"
     },
     "output_type": "display_data"
    },
    {
     "name": "stdout",
     "output_type": "stream",
     "text": [
      "lag9_df\n",
      "MAE: 31.912\n",
      "MSE: 1357.549\n"
     ]
    },
    {
     "data": {
      "image/png": "[encoded data removed]",
      "text/plain": [
       "<Figure size 432x288 with 1 Axes>"
      ]
     },
     "metadata": {
      "needs_background": "light"
     },
     "output_type": "display_data"
    },
    {
     "data": {
      "image/png": "[encoded data removed]",
      "text/plain": [
       "<Figure size 432x288 with 1 Axes>"
      ]
     },
     "metadata": {
      "needs_background": "light"
     },
     "output_type": "display_data"
    },
    {
     "name": "stdout",
     "output_type": "stream",
     "text": [
      "CPU times: user 1d 3h 36min 56s, sys: 20min 6s, total: 1d 3h 57min 3s\n",
      "Wall time: 12h 45min 6s\n"
     ]
    }
   ],
   "source": [
    "%%time\n",
    "model_dict = {}\n",
    "lag_score_df = pd.DataFrame(columns = [\"lag\", \"mae\"])\n",
    "for lag in lag_dict.keys():\n",
    "    print(lag)\n",
    "    xgb_df = lag_dict[lag]\n",
    "    \n",
    "    xgb_df['Date'] = pd.to_datetime(xgb_df['Date'])\n",
    "    xgb_df['Year'] = xgb_df['Date'].dt.year \n",
    "    xgb_df['Month'] = xgb_df['Date'].dt.month \n",
    "    xgb_df['Day'] = xgb_df['Date'].dt.day\n",
    "    xgb_df['dayofweek_num'] = xgb_df['Date'].dt.dayofweek\n",
    "    \n",
    "    xgb_df = get_lags(1, 8, xgb_df)\n",
    "    xgb_df['rolling_mean'] = xgb_df['Obs_Vol'].rolling(window=7).mean()\n",
    "    \n",
    "    xgb_df = xgb_df.dropna()\n",
    "    df1 = xgb_df.iloc[:, 3:]\n",
    "    \n",
    "    lag_no = int(lag[3])\n",
    "    train = xgb_df[:-(lag_no)].dropna()\n",
    "    test = xgb_df[-(lag_no):].dropna()\n",
    "    \n",
    "    # Hyperparameter tuning\n",
    "    n_folds = 5\n",
    "\n",
    "    xgb_model = GridSearchCV(estimator=xgb.XGBRegressor(),\n",
    "                                param_grid=param_grid,\n",
    "                                cv=KFold(n_splits=n_folds,\n",
    "                                        shuffle=True),\n",
    "                                 scoring=\"neg_mean_squared_error\")\n",
    "    \n",
    "    xgb_model.fit(train[df1.columns], train[\"Obs_Vol\"], verbose = True, eval_metric=mean_squared_error )\n",
    "    \n",
    "    model_dict[\"model_lag{}\".format(str(lag_no))] = xgb_model.fit(train[df1.columns], train[\"Obs_Vol\"], verbose = True, eval_metric=mean_squared_error )\n",
    "    \n",
    "    y_pred = xgb_model.predict(test[df1.columns])\n",
    "    mae = mean_absolute_error(test[\"Obs_Vol\"], y_pred)\n",
    "    mse = mean_squared_error(test[\"Obs_Vol\"], y_pred)\n",
    "    print('MAE: %.3f' % mae)\n",
    "    print('MSE: %.3f' % mse)\n",
    "    \n",
    "    # Plotting estimated XGBoost volatility against actual volatility\n",
    "    xgb_vol = pd.DataFrame(y_pred)\n",
    "    xgb_vol.index = test['Date']\n",
    "    xgb_vol = xgb_vol.rename(columns={0: \"Volatility\"})\n",
    "\n",
    "    actual_vol = pd.DataFrame(test['Obs_Vol'])\n",
    "    actual_vol.index = test['Date']\n",
    "\n",
    "    # Plot the actual Bitcoin volatility\n",
    "    # plt.gca().xaxis.set_major_locator(mdates.DayLocator(interval=1))\n",
    "    plt.plot(actual_vol['Obs_Vol'], color = 'grey', alpha = 0.4, label = 'Actual Volatility')\n",
    "\n",
    "    # Plot XGBoost estimated volatility\n",
    "    plt.plot(xgb_vol['Volatility'], color = 'blue', label = 'XGBoost Volatility')\n",
    "\n",
    "    plt.legend(loc = 'upper right')\n",
    "    plt.show()\n",
    "    \n",
    "    lag_score_df = lag_score_df.append({\"lag\": lag_no, \"mae\": mae}, ignore_index=True)\n",
    "plt.plot(lag_score_df[\"lag\"], lag_score_df[\"mae\"], 'go-', linewidth=2)\n",
    "plt.xlabel(\"lag\")\n",
    "plt.ylabel(\"mae\")\n",
    "plt.show()"
   ]
  },
  {
   "cell_type": "code",
   "execution_count": 47,
   "metadata": {},
   "outputs": [
    {
     "data": {
      "text/plain": [
       "GridSearchCV(cv=KFold(n_splits=5, random_state=None, shuffle=True),\n",
       "             estimator=XGBRegressor(base_score=None, booster=None,\n",
       "                                    colsample_bylevel=None,\n",
       "                                    colsample_bynode=None,\n",
       "                                    colsample_bytree=None, gamma=None,\n",
       "                                    gpu_id=None, importance_type='gain',\n",
       "                                    interaction_constraints=None,\n",
       "                                    learning_rate=None, max_delta_step=None,\n",
       "                                    max_depth=None, min_child_weight=None,\n",
       "                                    missing=nan, mon...\n",
       "                                    n_estimators=100, n_jobs=None,\n",
       "                                    num_parallel_tree=None, random_state=None,\n",
       "                                    reg_alpha=None, reg_lambda=None,\n",
       "                                    scale_pos_weight=None, subsample=None,\n",
       "                                    tree_method=None, validate_parameters=None,\n",
       "                                    verbosity=None),\n",
       "             param_grid={'colsample_bytree': [0.6, 1.0], 'gamma': [0.5, 2],\n",
       "                         'max_depth': [3, 5], 'min_child_weight': [1, 5],\n",
       "                         'subsample': [0.6, 1.0]},\n",
       "             scoring='neg_mean_squared_error')"
      ]
     },
     "execution_count": 47,
     "metadata": {},
     "output_type": "execute_result"
    }
   ],
   "source": [
    "model_dict[\"model_lag5\"]"
   ]
  },
  {
   "cell_type": "code",
   "execution_count": null,
   "metadata": {},
   "outputs": [],
   "source": [
    "xgb_df = lag_dict[\"lag4_df\"]\n",
    "xgb_df['Date'] = pd.to_datetime(xgb_df['Date'])\n",
    "xgb_df['Year'] = xgb_df['Date'].dt.year \n",
    "xgb_df['Month'] = xgb_df['Date'].dt.month \n",
    "xgb_df['Day'] = xgb_df['Date'].dt.day\n",
    "xgb_df['dayofweek_num'] = xgb_df['Date'].dt.dayofweek\n",
    "\n",
    "xgb_df = get_lags(1, 8, xgb_df)\n",
    "xgb_df['rolling_mean'] = xgb_df['Obs_Vol'].rolling(window=7).mean()\n",
    "\n",
    "xgb_df = xgb_df.dropna()\n",
    "df1 = xgb_df.iloc[:, 3:]\n",
    "\n",
    "lag_no = int(lag[3])\n",
    "train = xgb_df[:-(lag_no)].dropna()\n",
    "test = xgb_df[-(lag_no):].dropna()\n",
    "\n",
    "# Hyperparameter tuning\n",
    "n_folds = 5\n",
    "\n",
    "param_grid = {\n",
    "            'min_child_weight': [1, 5],\n",
    "            'gamma': [0.5, 2],\n",
    "            'subsample': [0.6, 1.0],\n",
    "            'colsample_bytree': [0.6, 1.0],\n",
    "            'max_depth': [3, 5]\n",
    "            }\n",
    "\n",
    "xgb_model = GridSearchCV(estimator=xgb.XGBRegressor(),\n",
    "                            param_grid=param_grid,\n",
    "                            cv=KFold(n_splits=n_folds,\n",
    "                                    shuffle=True),\n",
    "                             scoring=\"neg_mean_squared_error\")\n",
    "\n",
    "xgb_model.fit(train[df1.columns], train[\"Obs_Vol\"], verbose = True, eval_metric=mean_squared_error )"
   ]
  },
  {
   "cell_type": "code",
   "execution_count": 45,
   "metadata": {},
   "outputs": [],
   "source": [
    "param_grid = {\n",
    "            'min_child_weight': [1, 5],\n",
    "            'gamma': [0.5, 2],\n",
    "            'subsample': [0.6, 1.0],\n",
    "            'colsample_bytree': [0.6, 1.0],\n",
    "            'max_depth': [3, 8],\n",
    "            'seed': [123],\n",
    "            'learning_rate': [0.01],\n",
    "            'n_estimators' : [10]\n",
    "            }"
   ]
  },
  {
   "cell_type": "code",
   "execution_count": 49,
   "metadata": {},
   "outputs": [
    {
     "name": "stdout",
     "output_type": "stream",
     "text": [
      "MAE: 7.400\n",
      "MSE: 85.443\n"
     ]
    },
    {
     "data": {
      "image/png": "[encoded data removed]",
      "text/plain": [
       "<Figure size 432x288 with 1 Axes>"
      ]
     },
     "metadata": {
      "needs_background": "light"
     },
     "output_type": "display_data"
    }
   ],
   "source": [
    "xgb_df = lag_dict[\"lag6_df\"]\n",
    "\n",
    "xgb_df['Date'] = pd.to_datetime(xgb_df['Date'])\n",
    "xgb_df['Year'] = xgb_df['Date'].dt.year \n",
    "xgb_df['Month'] = xgb_df['Date'].dt.month \n",
    "xgb_df['Day'] = xgb_df['Date'].dt.day\n",
    "xgb_df['dayofweek_num'] = xgb_df['Date'].dt.dayofweek\n",
    "\n",
    "xgb_df = get_lags(1, 8, xgb_df)\n",
    "xgb_df['rolling_mean'] = xgb_df['Obs_Vol'].rolling(window=7).mean()\n",
    "\n",
    "xgb_df = xgb_df.dropna()\n",
    "df1 = xgb_df.iloc[:, 3:]\n",
    "\n",
    "lag_no = int(lag[3])\n",
    "train = xgb_df[:-6].dropna()\n",
    "test = xgb_df[-6:].dropna()\n",
    "\n",
    "# Hyperparameter tuning\n",
    "n_folds = 5\n",
    "\n",
    "xgb_model = GridSearchCV(estimator=xgb.XGBRegressor(),\n",
    "                            param_grid=param_grid,\n",
    "                            cv=KFold(n_splits=n_folds,\n",
    "                                    shuffle=True),\n",
    "                             scoring=\"neg_mean_squared_error\")\n",
    "\n",
    "xgb_model.fit(train[df1.columns], train[\"Obs_Vol\"], verbose = True, eval_metric=mean_squared_error )\n",
    "\n",
    "model_dict[\"model_lag{}\".format(str(lag_no))] = xgb_model.fit(train[df1.columns], train[\"Obs_Vol\"], verbose = True, eval_metric=mean_squared_error )\n",
    "\n",
    "y_pred = xgb_model.predict(test[df1.columns])\n",
    "mae = mean_absolute_error(test[\"Obs_Vol\"], y_pred)\n",
    "mse = mean_squared_error(test[\"Obs_Vol\"], y_pred)\n",
    "print('MAE: %.3f' % mae)\n",
    "print('MSE: %.3f' % mse)\n",
    "\n",
    "# Plotting estimated XGBoost volatility against actual volatility\n",
    "xgb_vol = pd.DataFrame(y_pred)\n",
    "xgb_vol.index = test['Date']\n",
    "xgb_vol = xgb_vol.rename(columns={0: \"Volatility\"})\n",
    "\n",
    "actual_vol = pd.DataFrame(test['Obs_Vol'])\n",
    "actual_vol.index = test['Date']\n",
    "\n",
    "# Plot the actual Bitcoin volatility\n",
    "# plt.gca().xaxis.set_major_locator(mdates.DayLocator(interval=1))\n",
    "plt.plot(actual_vol['Obs_Vol'], color = 'grey', alpha = 0.4, label = 'Actual Volatility')\n",
    "\n",
    "# Plot XGBoost estimated volatility\n",
    "plt.plot(xgb_vol['Volatility'], color = 'blue', label = 'XGBoost Volatility')\n",
    "\n",
    "plt.legend(loc = 'upper right')\n",
    "plt.show()"
   ]
  },
  {
   "cell_type": "code",
   "execution_count": null,
   "metadata": {},
   "outputs": [],
   "source": []
  }
 ],
 "metadata": {
  "environment": {
   "kernel": "python3",
   "name": "common-cu100.m84",
   "type": "gcloud",
   "uri": "gcr.io/deeplearning-platform-release/base-cu100:m84"
  },
  "kernelspec": {
   "display_name": "Python 3",
   "language": "python",
   "name": "python3"
  },
  "language_info": {
   "codemirror_mode": {
    "name": "ipython",
    "version": 3
   },
   "file_extension": ".py",
   "mimetype": "text/x-python",
   "name": "python",
   "nbconvert_exporter": "python",
   "pygments_lexer": "ipython3",
   "version": "3.7.12"
  }
 },
 "nbformat": 4,
 "nbformat_minor": 4
}
